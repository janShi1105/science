{
 "cells": [
  {
   "cell_type": "code",
   "execution_count": 3,
   "id": "945ec742",
   "metadata": {},
   "outputs": [
    {
     "name": "stdout",
     "output_type": "stream",
     "text": [
      "sums =  276\n",
      "ave =  5.0\n",
      "ave_diff =  2.76\n",
      "giniA =  0.276\n",
      "sums =  376\n",
      "ave =  5.0\n",
      "ave_diff =  3.76\n",
      "giniB =  0.376\n",
      "sums =  120\n",
      "ave =  5.0\n",
      "ave_diff =  1.2\n",
      "giniC =  0.12\n"
     ]
    }
   ],
   "source": [
    "import numpy as np\n",
    "\n",
    "def gini(list):\n",
    "    list = np.array(list)\n",
    "    sums = 0\n",
    "    for xi in list:\n",
    "        for xj in list:\n",
    "            sums += abs(xi - xj)\n",
    "    print('sums = ', sums)\n",
    "    ave = list.sum() / len(list)\n",
    "    print('ave = ', ave)\n",
    "    print('ave_diff = ', sums / (len(list) ** 2))\n",
    "    gi = sums / (2 * (len(list) ** 2) * ave)\n",
    "    return gi\n",
    "\n",
    "A = [0,3,3,5,5,5,5,7,7,10]\n",
    "B = [0,1,2,3,5,5,7,8,9,10]\n",
    "C = [3,4,4,5,5,5,5,6,6,7]\n",
    "\n",
    "print('giniA = ', gini(A))\n",
    "print('giniB = ', gini(B))\n",
    "print('giniC = ', gini(C))"
   ]
  },
  {
   "cell_type": "code",
   "execution_count": 8,
   "id": "9d7a3e72",
   "metadata": {},
   "outputs": [
    {
     "name": "stdout",
     "output_type": "stream",
     "text": [
      "This year =  1.537492332302312\n",
      "Ten years ago = 1.5437380015770872\n",
      "diff =  -0.006245669274775212\n"
     ]
    }
   ],
   "source": [
    "def entropy(list):\n",
    "    list = np.array(list)\n",
    "    sums = list.sum()\n",
    "    sums_sigma = 0\n",
    "    for fi in list:\n",
    "        pi = fi / sums\n",
    "        if pi != 0:\n",
    "            sums_sigma += pi * np.log(pi)\n",
    "    return -sums_sigma\n",
    "\n",
    "this_year = [32,19,10,24,15]\n",
    "ten_years_ago = [28,13,18,29,12]\n",
    "\n",
    "print('This year = ', entropy(this_year))\n",
    "print('Ten years ago =', entropy(ten_years_ago))\n",
    "print('diff = ', entropy(this_year) - entropy(ten_years_ago))"
   ]
  },
  {
   "cell_type": "code",
   "execution_count": 41,
   "id": "07e59e99",
   "metadata": {},
   "outputs": [],
   "source": [
    "def standardizedScore(list):\n",
    "    list = np.array(list)\n",
    "    var = 0.0\n",
    "    ave = 0.0\n",
    "    for x in list:\n",
    "        var += x**2/len(list)\n",
    "        ave += x / len(list)\n",
    "    print('var=', var)\n",
    "    print('ave=', ave)\n",
    "    sigma = np.sqrt(var)\n",
    "    print(sigma)\n",
    "    print(list)\n",
    "    for i in range(0, len(list)):\n",
    "        list[i] -= ave\n",
    "        print(list[i])\n",
    "        list[i] = float(list[i])\n",
    "        list[i] /= sigma\n",
    "        print(list[i])\n",
    "    return list"
   ]
  },
  {
   "cell_type": "code",
   "execution_count": 42,
   "id": "143d8e3c",
   "metadata": {},
   "outputs": [
    {
     "name": "stdout",
     "output_type": "stream",
     "text": [
      "var= 35.800000000000004\n",
      "ave= 5.0\n",
      "5.9833101206606365\n",
      "[ 0  1  2  3  5  5  7  8  9 10]\n",
      "-5\n",
      "0\n",
      "-4\n",
      "0\n",
      "-3\n",
      "0\n",
      "-2\n",
      "0\n",
      "0\n",
      "0\n",
      "0\n",
      "0\n",
      "2\n",
      "0\n",
      "3\n",
      "0\n",
      "4\n",
      "0\n",
      "5\n",
      "0\n"
     ]
    },
    {
     "data": {
      "text/plain": [
       "array([0, 0, 0, 0, 0, 0, 0, 0, 0, 0])"
      ]
     },
     "execution_count": 42,
     "metadata": {},
     "output_type": "execute_result"
    }
   ],
   "source": [
    "standardizedScore(B)"
   ]
  },
  {
   "cell_type": "code",
   "execution_count": null,
   "id": "d49b8d2f",
   "metadata": {},
   "outputs": [],
   "source": []
  }
 ],
 "metadata": {
  "kernelspec": {
   "display_name": "Python 3 (ipykernel)",
   "language": "python",
   "name": "python3"
  },
  "language_info": {
   "codemirror_mode": {
    "name": "ipython",
    "version": 3
   },
   "file_extension": ".py",
   "mimetype": "text/x-python",
   "name": "python",
   "nbconvert_exporter": "python",
   "pygments_lexer": "ipython3",
   "version": "3.10.3"
  }
 },
 "nbformat": 4,
 "nbformat_minor": 5
}

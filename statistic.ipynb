{
 "cells": [
  {
   "cell_type": "code",
   "execution_count": 3,
   "id": "945ec742",
   "metadata": {},
   "outputs": [
    {
     "name": "stdout",
     "output_type": "stream",
     "text": [
      "sums =  276\n",
      "ave =  5.0\n",
      "ave_diff =  2.76\n",
      "giniA =  0.276\n",
      "sums =  376\n",
      "ave =  5.0\n",
      "ave_diff =  3.76\n",
      "giniB =  0.376\n",
      "sums =  120\n",
      "ave =  5.0\n",
      "ave_diff =  1.2\n",
      "giniC =  0.12\n"
     ]
    }
   ],
   "source": [
    "import numpy as np\n",
    "\n",
    "def gini(list):\n",
    "    list = np.array(list)\n",
    "    sums = 0\n",
    "    for xi in list:\n",
    "        for xj in list:\n",
    "            sums += abs(xi - xj)\n",
    "    print('sums = ', sums)\n",
    "    ave = list.sum() / len(list)\n",
    "    print('ave = ', ave)\n",
    "    print('ave_diff = ', sums / (len(list) ** 2))\n",
    "    gi = sums / (2 * (len(list) ** 2) * ave)\n",
    "    return gi\n",
    "\n",
    "A = [0,3,3,5,5,5,5,7,7,10]\n",
    "B = [0,1,2,3,5,5,7,8,9,10]\n",
    "C = [3,4,4,5,5,5,5,6,6,7]\n",
    "\n",
    "print('giniA = ', gini(A))\n",
    "print('giniB = ', gini(B))\n",
    "print('giniC = ', gini(C))"
   ]
  },
  {
   "cell_type": "code",
   "execution_count": 8,
   "id": "9d7a3e72",
   "metadata": {},
   "outputs": [
    {
     "name": "stdout",
     "output_type": "stream",
     "text": [
      "This year =  1.537492332302312\n",
      "Ten years ago = 1.5437380015770872\n",
      "diff =  -0.006245669274775212\n"
     ]
    }
   ],
   "source": [
    "def entropy(list):\n",
    "    list = np.array(list)\n",
    "    sums = list.sum()\n",
    "    sums_sigma = 0\n",
    "    for fi in list:\n",
    "        pi = fi / sums\n",
    "        if pi != 0:\n",
    "            sums_sigma += pi * np.log(pi)\n",
    "    return -sums_sigma\n",
    "\n",
    "this_year = [32,19,10,24,15]\n",
    "ten_years_ago = [28,13,18,29,12]\n",
    "\n",
    "print('This year = ', entropy(this_year))\n",
    "print('Ten years ago =', entropy(ten_years_ago))\n",
    "print('diff = ', entropy(this_year) - entropy(ten_years_ago))"
   ]
  },
  {
   "cell_type": "code",
   "execution_count": 41,
   "id": "07e59e99",
   "metadata": {},
   "outputs": [],
   "source": [
    "def standardizedScore(list):\n",
    "    list = np.array(list)\n",
    "    var = 0.0\n",
    "    ave = 0.0\n",
    "    for x in list:\n",
    "        var += x**2/len(list)\n",
    "        ave += x / len(list)\n",
    "    print('var=', var)\n",
    "    print('ave=', ave)\n",
    "    sigma = np.sqrt(var)\n",
    "    print(sigma)\n",
    "    print(list)\n",
    "    for i in range(0, len(list)):\n",
    "        list[i] -= ave\n",
    "        print(list[i])\n",
    "        list[i] = float(list[i])\n",
    "        list[i] /= sigma\n",
    "        print(list[i])\n",
    "    return list"
   ]
  },
  {
   "cell_type": "code",
   "execution_count": 42,
   "id": "143d8e3c",
   "metadata": {},
   "outputs": [
    {
     "name": "stdout",
     "output_type": "stream",
     "text": [
      "var= 35.800000000000004\n",
      "ave= 5.0\n",
      "5.9833101206606365\n",
      "[ 0  1  2  3  5  5  7  8  9 10]\n",
      "-5\n",
      "0\n",
      "-4\n",
      "0\n",
      "-3\n",
      "0\n",
      "-2\n",
      "0\n",
      "0\n",
      "0\n",
      "0\n",
      "0\n",
      "2\n",
      "0\n",
      "3\n",
      "0\n",
      "4\n",
      "0\n",
      "5\n",
      "0\n"
     ]
    },
    {
     "data": {
      "text/plain": [
       "array([0, 0, 0, 0, 0, 0, 0, 0, 0, 0])"
      ]
     },
     "execution_count": 42,
     "metadata": {},
     "output_type": "execute_result"
    }
   ],
   "source": [
    "standardizedScore(B)"
   ]
  },
  {
   "cell_type": "code",
   "execution_count": 1,
   "id": "d49b8d2f",
   "metadata": {},
   "outputs": [],
   "source": [
    "p = (35/36)**24"
   ]
  },
  {
   "cell_type": "code",
   "execution_count": 2,
   "id": "6b3e3637",
   "metadata": {},
   "outputs": [
    {
     "name": "stdout",
     "output_type": "stream",
     "text": [
      "0.5085961238690966\n"
     ]
    }
   ],
   "source": [
    "print(p)"
   ]
  },
  {
   "cell_type": "code",
   "execution_count": 4,
   "id": "44b9c277",
   "metadata": {},
   "outputs": [
    {
     "name": "stdout",
     "output_type": "stream",
     "text": [
      "82\n"
     ]
    }
   ],
   "source": [
    "for n in range(1,100):\n",
    "    if (35/36)**n < 0.1:\n",
    "        print(n)\n",
    "        break"
   ]
  },
  {
   "cell_type": "code",
   "execution_count": 8,
   "id": "4be7deb8",
   "metadata": {},
   "outputs": [
    {
     "name": "stdout",
     "output_type": "stream",
     "text": [
      "p_ 5 = 0.02713557369979347\n",
      "p_ 10 = 0.11694817771107768\n",
      "p_ 15 = 0.25290131976368646\n",
      "p_ 20 = 0.41143838358058016\n",
      "p_ 21 = 0.4436883351652059\n",
      "p_ 22 = 0.4756953076625502\n",
      "p_ 23 = 0.5072972343239854\n",
      "p_ 24 = 0.5383442579145288\n",
      "p_ 25 = 0.5686997039694639\n",
      "p_ 30 = 0.7063162427192687\n",
      "p_ 35 = 0.8143832388747152\n",
      "p_ 40 = 0.891231809817949\n",
      "p_ 50 = 0.9703735795779884\n",
      "p_ 60 = 0.994122660865348\n"
     ]
    }
   ],
   "source": [
    "for n in [5,10,15,20,21,22,23,24,25,30,35,40,50,60]:\n",
    "    p_inv = 1\n",
    "    for  i in range(1,n):\n",
    "        p_inv *= (1-(i/365))\n",
    "    p = 1- p_inv\n",
    "    print('p_', n, '=', p)"
   ]
  },
  {
   "cell_type": "code",
   "execution_count": 9,
   "id": "3d39cf4a",
   "metadata": {},
   "outputs": [],
   "source": [
    "R = 8955/8960"
   ]
  },
  {
   "cell_type": "code",
   "execution_count": 10,
   "id": "56411059",
   "metadata": {},
   "outputs": [
    {
     "name": "stdout",
     "output_type": "stream",
     "text": [
      "0.9994419642857143\n"
     ]
    }
   ],
   "source": [
    "print(R)"
   ]
  },
  {
   "cell_type": "code",
   "execution_count": 33,
   "id": "2415ab16",
   "metadata": {},
   "outputs": [],
   "source": [
    "import pandas as pd\n",
    "\n",
    "pf = pd.DataFrame([[41.4, 52.8],[76.3, 71.2], [59.2, 72.6], [51.8, 63.7], [52.5, 81.3], [53.2, 81.8], [62.4, 70.9], [55.0, 74.0], [57.7, 73.2], [63.2, 72.9]\n",
    "                ,[37.5, 66.7], [48.5, 65.7], [32.4, 43.7], [20.5, 55.5], [47.9, 79.6], [68.9, 85.7], [68.5, 75.3], [52.5, 80.5], [63.3, 73.0], [58.8, 77.0], \n",
    "                  [59.7, 77.5], [48.4, 69.2], [40.7, 60.0], [51.0, 78.2], [50.9, 79.5], [34.3, 61.8], [25.8, 49.6], [32.1, 59.6], [34.4, 72.1], [55.1, 71.0],\n",
    "                  [60.3, 76.3], [57.0, 72.8], [45.6, 71.8], [54.2, 60.7], [55.1, 67.0], [55.7, 71.8], [70.3, 71.2], [61.8, 68.3], [47.6, 68.5], \n",
    "                  [42.5, 54.8], [71.3, 76.0], [55.2, 65.8], [65.2, 69.4], [42.9, 66.9], [54.7, 69.7], [62.0, 71.2], [48.2, 59.6]])"
   ]
  },
  {
   "cell_type": "code",
   "execution_count": 34,
   "id": "b6afe0bd",
   "metadata": {},
   "outputs": [],
   "source": [
    "pf.columns = ['自民得票率', '持ち家比率']"
   ]
  },
  {
   "cell_type": "code",
   "execution_count": 35,
   "id": "5d138237",
   "metadata": {},
   "outputs": [],
   "source": [
    "pf.index = (['北海道', '青森', '岩手', '宮城', '秋田', '山形', '福島', '茨城', '栃木', '群馬', '埼玉', '千葉', '東京', '神奈川', '新潟', '富山', '石川', '福井', '山梨', '長野', '岐阜', '静岡', '愛知', '三重', '滋賀', '京都', '大阪', '兵庫', '奈良', '和歌山', '鳥取', '島根', '岡山', '広島', '山口', '徳島', '香川', '愛媛', '高知', '福岡', '佐賀', '長崎', '熊本', '大分', '宮崎', '鹿児島', '沖縄'])"
   ]
  },
  {
   "cell_type": "code",
   "execution_count": null,
   "id": "6110adc1",
   "metadata": {},
   "outputs": [],
   "source": []
  },
  {
   "cell_type": "code",
   "execution_count": 37,
   "id": "87b2fe7e",
   "metadata": {},
   "outputs": [
    {
     "data": {
      "text/html": [
       "<div>\n",
       "<style scoped>\n",
       "    .dataframe tbody tr th:only-of-type {\n",
       "        vertical-align: middle;\n",
       "    }\n",
       "\n",
       "    .dataframe tbody tr th {\n",
       "        vertical-align: top;\n",
       "    }\n",
       "\n",
       "    .dataframe thead th {\n",
       "        text-align: right;\n",
       "    }\n",
       "</style>\n",
       "<table border=\"1\" class=\"dataframe\">\n",
       "  <thead>\n",
       "    <tr style=\"text-align: right;\">\n",
       "      <th></th>\n",
       "      <th>自民得票率</th>\n",
       "      <th>持ち家比率</th>\n",
       "    </tr>\n",
       "  </thead>\n",
       "  <tbody>\n",
       "    <tr>\n",
       "      <th>北海道</th>\n",
       "      <td>41.4</td>\n",
       "      <td>52.8</td>\n",
       "    </tr>\n",
       "    <tr>\n",
       "      <th>青森</th>\n",
       "      <td>76.3</td>\n",
       "      <td>71.2</td>\n",
       "    </tr>\n",
       "    <tr>\n",
       "      <th>岩手</th>\n",
       "      <td>59.2</td>\n",
       "      <td>72.6</td>\n",
       "    </tr>\n",
       "    <tr>\n",
       "      <th>宮城</th>\n",
       "      <td>51.8</td>\n",
       "      <td>63.7</td>\n",
       "    </tr>\n",
       "    <tr>\n",
       "      <th>秋田</th>\n",
       "      <td>52.5</td>\n",
       "      <td>81.3</td>\n",
       "    </tr>\n",
       "    <tr>\n",
       "      <th>山形</th>\n",
       "      <td>53.2</td>\n",
       "      <td>81.8</td>\n",
       "    </tr>\n",
       "    <tr>\n",
       "      <th>福島</th>\n",
       "      <td>62.4</td>\n",
       "      <td>70.9</td>\n",
       "    </tr>\n",
       "    <tr>\n",
       "      <th>茨城</th>\n",
       "      <td>55.0</td>\n",
       "      <td>74.0</td>\n",
       "    </tr>\n",
       "    <tr>\n",
       "      <th>栃木</th>\n",
       "      <td>57.7</td>\n",
       "      <td>73.2</td>\n",
       "    </tr>\n",
       "    <tr>\n",
       "      <th>群馬</th>\n",
       "      <td>63.2</td>\n",
       "      <td>72.9</td>\n",
       "    </tr>\n",
       "    <tr>\n",
       "      <th>埼玉</th>\n",
       "      <td>37.5</td>\n",
       "      <td>66.7</td>\n",
       "    </tr>\n",
       "    <tr>\n",
       "      <th>千葉</th>\n",
       "      <td>48.5</td>\n",
       "      <td>65.7</td>\n",
       "    </tr>\n",
       "    <tr>\n",
       "      <th>東京</th>\n",
       "      <td>32.4</td>\n",
       "      <td>43.7</td>\n",
       "    </tr>\n",
       "    <tr>\n",
       "      <th>神奈川</th>\n",
       "      <td>20.5</td>\n",
       "      <td>55.5</td>\n",
       "    </tr>\n",
       "    <tr>\n",
       "      <th>新潟</th>\n",
       "      <td>47.9</td>\n",
       "      <td>79.6</td>\n",
       "    </tr>\n",
       "    <tr>\n",
       "      <th>富山</th>\n",
       "      <td>68.9</td>\n",
       "      <td>85.7</td>\n",
       "    </tr>\n",
       "    <tr>\n",
       "      <th>石川</th>\n",
       "      <td>68.5</td>\n",
       "      <td>75.3</td>\n",
       "    </tr>\n",
       "    <tr>\n",
       "      <th>福井</th>\n",
       "      <td>52.5</td>\n",
       "      <td>80.5</td>\n",
       "    </tr>\n",
       "    <tr>\n",
       "      <th>山梨</th>\n",
       "      <td>63.3</td>\n",
       "      <td>73.0</td>\n",
       "    </tr>\n",
       "    <tr>\n",
       "      <th>長野</th>\n",
       "      <td>58.8</td>\n",
       "      <td>77.0</td>\n",
       "    </tr>\n",
       "    <tr>\n",
       "      <th>岐阜</th>\n",
       "      <td>59.7</td>\n",
       "      <td>77.5</td>\n",
       "    </tr>\n",
       "    <tr>\n",
       "      <th>静岡</th>\n",
       "      <td>48.4</td>\n",
       "      <td>69.2</td>\n",
       "    </tr>\n",
       "    <tr>\n",
       "      <th>愛知</th>\n",
       "      <td>40.7</td>\n",
       "      <td>60.0</td>\n",
       "    </tr>\n",
       "    <tr>\n",
       "      <th>三重</th>\n",
       "      <td>51.0</td>\n",
       "      <td>78.2</td>\n",
       "    </tr>\n",
       "    <tr>\n",
       "      <th>滋賀</th>\n",
       "      <td>50.9</td>\n",
       "      <td>79.5</td>\n",
       "    </tr>\n",
       "    <tr>\n",
       "      <th>京都</th>\n",
       "      <td>34.3</td>\n",
       "      <td>61.8</td>\n",
       "    </tr>\n",
       "    <tr>\n",
       "      <th>大阪</th>\n",
       "      <td>25.8</td>\n",
       "      <td>49.6</td>\n",
       "    </tr>\n",
       "    <tr>\n",
       "      <th>兵庫</th>\n",
       "      <td>32.1</td>\n",
       "      <td>59.6</td>\n",
       "    </tr>\n",
       "    <tr>\n",
       "      <th>奈良</th>\n",
       "      <td>34.4</td>\n",
       "      <td>72.1</td>\n",
       "    </tr>\n",
       "    <tr>\n",
       "      <th>和歌山</th>\n",
       "      <td>55.1</td>\n",
       "      <td>71.0</td>\n",
       "    </tr>\n",
       "    <tr>\n",
       "      <th>鳥取</th>\n",
       "      <td>60.3</td>\n",
       "      <td>76.3</td>\n",
       "    </tr>\n",
       "    <tr>\n",
       "      <th>島根</th>\n",
       "      <td>57.0</td>\n",
       "      <td>72.8</td>\n",
       "    </tr>\n",
       "    <tr>\n",
       "      <th>岡山</th>\n",
       "      <td>45.6</td>\n",
       "      <td>71.8</td>\n",
       "    </tr>\n",
       "    <tr>\n",
       "      <th>広島</th>\n",
       "      <td>54.2</td>\n",
       "      <td>60.7</td>\n",
       "    </tr>\n",
       "    <tr>\n",
       "      <th>山口</th>\n",
       "      <td>55.1</td>\n",
       "      <td>67.0</td>\n",
       "    </tr>\n",
       "    <tr>\n",
       "      <th>徳島</th>\n",
       "      <td>55.7</td>\n",
       "      <td>71.8</td>\n",
       "    </tr>\n",
       "    <tr>\n",
       "      <th>香川</th>\n",
       "      <td>70.3</td>\n",
       "      <td>71.2</td>\n",
       "    </tr>\n",
       "    <tr>\n",
       "      <th>愛媛</th>\n",
       "      <td>61.8</td>\n",
       "      <td>68.3</td>\n",
       "    </tr>\n",
       "    <tr>\n",
       "      <th>高知</th>\n",
       "      <td>47.6</td>\n",
       "      <td>68.5</td>\n",
       "    </tr>\n",
       "    <tr>\n",
       "      <th>福岡</th>\n",
       "      <td>42.5</td>\n",
       "      <td>54.8</td>\n",
       "    </tr>\n",
       "    <tr>\n",
       "      <th>佐賀</th>\n",
       "      <td>71.3</td>\n",
       "      <td>76.0</td>\n",
       "    </tr>\n",
       "    <tr>\n",
       "      <th>長崎</th>\n",
       "      <td>55.2</td>\n",
       "      <td>65.8</td>\n",
       "    </tr>\n",
       "    <tr>\n",
       "      <th>熊本</th>\n",
       "      <td>65.2</td>\n",
       "      <td>69.4</td>\n",
       "    </tr>\n",
       "    <tr>\n",
       "      <th>大分</th>\n",
       "      <td>42.9</td>\n",
       "      <td>66.9</td>\n",
       "    </tr>\n",
       "    <tr>\n",
       "      <th>宮崎</th>\n",
       "      <td>54.7</td>\n",
       "      <td>69.7</td>\n",
       "    </tr>\n",
       "    <tr>\n",
       "      <th>鹿児島</th>\n",
       "      <td>62.0</td>\n",
       "      <td>71.2</td>\n",
       "    </tr>\n",
       "    <tr>\n",
       "      <th>沖縄</th>\n",
       "      <td>48.2</td>\n",
       "      <td>59.6</td>\n",
       "    </tr>\n",
       "  </tbody>\n",
       "</table>\n",
       "</div>"
      ],
      "text/plain": [
       "     自民得票率  持ち家比率\n",
       "北海道   41.4   52.8\n",
       "青森    76.3   71.2\n",
       "岩手    59.2   72.6\n",
       "宮城    51.8   63.7\n",
       "秋田    52.5   81.3\n",
       "山形    53.2   81.8\n",
       "福島    62.4   70.9\n",
       "茨城    55.0   74.0\n",
       "栃木    57.7   73.2\n",
       "群馬    63.2   72.9\n",
       "埼玉    37.5   66.7\n",
       "千葉    48.5   65.7\n",
       "東京    32.4   43.7\n",
       "神奈川   20.5   55.5\n",
       "新潟    47.9   79.6\n",
       "富山    68.9   85.7\n",
       "石川    68.5   75.3\n",
       "福井    52.5   80.5\n",
       "山梨    63.3   73.0\n",
       "長野    58.8   77.0\n",
       "岐阜    59.7   77.5\n",
       "静岡    48.4   69.2\n",
       "愛知    40.7   60.0\n",
       "三重    51.0   78.2\n",
       "滋賀    50.9   79.5\n",
       "京都    34.3   61.8\n",
       "大阪    25.8   49.6\n",
       "兵庫    32.1   59.6\n",
       "奈良    34.4   72.1\n",
       "和歌山   55.1   71.0\n",
       "鳥取    60.3   76.3\n",
       "島根    57.0   72.8\n",
       "岡山    45.6   71.8\n",
       "広島    54.2   60.7\n",
       "山口    55.1   67.0\n",
       "徳島    55.7   71.8\n",
       "香川    70.3   71.2\n",
       "愛媛    61.8   68.3\n",
       "高知    47.6   68.5\n",
       "福岡    42.5   54.8\n",
       "佐賀    71.3   76.0\n",
       "長崎    55.2   65.8\n",
       "熊本    65.2   69.4\n",
       "大分    42.9   66.9\n",
       "宮崎    54.7   69.7\n",
       "鹿児島   62.0   71.2\n",
       "沖縄    48.2   59.6"
      ]
     },
     "execution_count": 37,
     "metadata": {},
     "output_type": "execute_result"
    }
   ],
   "source": [
    "pf"
   ]
  },
  {
   "cell_type": "code",
   "execution_count": 41,
   "id": "bb9d3395",
   "metadata": {},
   "outputs": [
    {
     "data": {
      "text/plain": [
       "<matplotlib.collections.PathCollection at 0x124bba620>"
      ]
     },
     "execution_count": 41,
     "metadata": {},
     "output_type": "execute_result"
    },
    {
     "data": {
      "image/png": "[encoded data removed]",
      "text/plain": [
       "<Figure size 432x288 with 1 Axes>"
      ]
     },
     "metadata": {
      "needs_background": "light"
     },
     "output_type": "display_data"
    }
   ],
   "source": [
    "import matplotlib.pyplot  as plt\n",
    "plt.scatter(pf.iloc[:, 0], pf.iloc[:, 1])"
   ]
  },
  {
   "cell_type": "code",
   "execution_count": 42,
   "id": "1f246bb3",
   "metadata": {},
   "outputs": [
    {
     "name": "stdout",
     "output_type": "stream",
     "text": [
      "          自民得票率     持ち家比率\n",
      "自民得票率  1.000000  0.638782\n",
      "持ち家比率  0.638782  1.000000\n"
     ]
    }
   ],
   "source": [
    "print(pf.corr())"
   ]
  },
  {
   "cell_type": "code",
   "execution_count": 47,
   "id": "dbcbc258",
   "metadata": {},
   "outputs": [],
   "source": [
    "import numpy as np \n",
    "\n",
    "rand = np.random.randint(1,12,11)"
   ]
  },
  {
   "cell_type": "code",
   "execution_count": 48,
   "id": "e68548f4",
   "metadata": {},
   "outputs": [
    {
     "data": {
      "text/plain": [
       "array([ 2,  1, 11,  5,  3,  9,  9,  5,  6, 10,  5])"
      ]
     },
     "execution_count": 48,
     "metadata": {},
     "output_type": "execute_result"
    }
   ],
   "source": [
    "rand"
   ]
  },
  {
   "cell_type": "code",
   "execution_count": 49,
   "id": "cd9c5843",
   "metadata": {},
   "outputs": [],
   "source": [
    "df = pd.DataFrame([[71,69],[68,64], [66,65], [67,63], [70,65], [71,62], [70,65], [73,64],[72,66], [65,59], [66,62]])"
   ]
  },
  {
   "cell_type": "code",
   "execution_count": null,
   "id": "47322115",
   "metadata": {},
   "outputs": [],
   "source": []
  }
 ],
 "metadata": {
  "kernelspec": {
   "display_name": "Python 3 (ipykernel)",
   "language": "python",
   "name": "python3"
  },
  "language_info": {
   "codemirror_mode": {
    "name": "ipython",
    "version": 3
   },
   "file_extension": ".py",
   "mimetype": "text/x-python",
   "name": "python",
   "nbconvert_exporter": "python",
   "pygments_lexer": "ipython3",
   "version": "3.10.3"
  }
 },
 "nbformat": 4,
 "nbformat_minor": 5
}

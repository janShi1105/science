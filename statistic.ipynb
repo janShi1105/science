{
 "cells": [
  {
   "cell_type": "code",
   "execution_count": 3,
   "id": "945ec742",
   "metadata": {},
   "outputs": [
    {
     "name": "stdout",
     "output_type": "stream",
     "text": [
      "sums =  276\n",
      "ave =  5.0\n",
      "ave_diff =  2.76\n",
      "giniA =  0.276\n",
      "sums =  376\n",
      "ave =  5.0\n",
      "ave_diff =  3.76\n",
      "giniB =  0.376\n",
      "sums =  120\n",
      "ave =  5.0\n",
      "ave_diff =  1.2\n",
      "giniC =  0.12\n"
     ]
    }
   ],
   "source": [
    "import numpy as np\n",
    "\n",
    "def gini(list):\n",
    "    list = np.array(list)\n",
    "    sums = 0\n",
    "    for xi in list:\n",
    "        for xj in list:\n",
    "            sums += abs(xi - xj)\n",
    "    print('sums = ', sums)\n",
    "    ave = list.sum() / len(list)\n",
    "    print('ave = ', ave)\n",
    "    print('ave_diff = ', sums / (len(list) ** 2))\n",
    "    gi = sums / (2 * (len(list) ** 2) * ave)\n",
    "    return gi\n",
    "\n",
    "A = [0,3,3,5,5,5,5,7,7,10]\n",
    "B = [0,1,2,3,5,5,7,8,9,10]\n",
    "C = [3,4,4,5,5,5,5,6,6,7]\n",
    "\n",
    "print('giniA = ', gini(A))\n",
    "print('giniB = ', gini(B))\n",
    "print('giniC = ', gini(C))"
   ]
  },
  {
   "cell_type": "code",
   "execution_count": 8,
   "id": "9d7a3e72",
   "metadata": {},
   "outputs": [
    {
     "name": "stdout",
     "output_type": "stream",
     "text": [
      "This year =  1.537492332302312\n",
      "Ten years ago = 1.5437380015770872\n",
      "diff =  -0.006245669274775212\n"
     ]
    }
   ],
   "source": [
    "def entropy(list):\n",
    "    list = np.array(list)\n",
    "    sums = list.sum()\n",
    "    sums_sigma = 0\n",
    "    for fi in list:\n",
    "        pi = fi / sums\n",
    "        if pi != 0:\n",
    "            sums_sigma += pi * np.log(pi)\n",
    "    return -sums_sigma\n",
    "\n",
    "this_year = [32,19,10,24,15]\n",
    "ten_years_ago = [28,13,18,29,12]\n",
    "\n",
    "print('This year = ', entropy(this_year))\n",
    "print('Ten years ago =', entropy(ten_years_ago))\n",
    "print('diff = ', entropy(this_year) - entropy(ten_years_ago))"
   ]
  },
  {
   "cell_type": "code",
   "execution_count": 41,
   "id": "07e59e99",
   "metadata": {},
   "outputs": [],
   "source": [
    "def standardizedScore(list):\n",
    "    list = np.array(list)\n",
    "    var = 0.0\n",
    "    ave = 0.0\n",
    "    for x in list:\n",
    "        var += x**2/len(list)\n",
    "        ave += x / len(list)\n",
    "    print('var=', var)\n",
    "    print('ave=', ave)\n",
    "    sigma = np.sqrt(var)\n",
    "    print(sigma)\n",
    "    print(list)\n",
    "    for i in range(0, len(list)):\n",
    "        list[i] -= ave\n",
    "        print(list[i])\n",
    "        list[i] = float(list[i])\n",
    "        list[i] /= sigma\n",
    "        print(list[i])\n",
    "    return list"
   ]
  },
  {
   "cell_type": "code",
   "execution_count": 42,
   "id": "143d8e3c",
   "metadata": {},
   "outputs": [
    {
     "name": "stdout",
     "output_type": "stream",
     "text": [
      "var= 35.800000000000004\n",
      "ave= 5.0\n",
      "5.9833101206606365\n",
      "[ 0  1  2  3  5  5  7  8  9 10]\n",
      "-5\n",
      "0\n",
      "-4\n",
      "0\n",
      "-3\n",
      "0\n",
      "-2\n",
      "0\n",
      "0\n",
      "0\n",
      "0\n",
      "0\n",
      "2\n",
      "0\n",
      "3\n",
      "0\n",
      "4\n",
      "0\n",
      "5\n",
      "0\n"
     ]
    },
    {
     "data": {
      "text/plain": [
       "array([0, 0, 0, 0, 0, 0, 0, 0, 0, 0])"
      ]
     },
     "execution_count": 42,
     "metadata": {},
     "output_type": "execute_result"
    }
   ],
   "source": [
    "standardizedScore(B)"
   ]
  },
  {
   "cell_type": "code",
   "execution_count": 1,
   "id": "d49b8d2f",
   "metadata": {},
   "outputs": [],
   "source": [
    "p = (35/36)**24"
   ]
  },
  {
   "cell_type": "code",
   "execution_count": 2,
   "id": "cbf6efb9",
   "metadata": {},
   "outputs": [
    {
     "name": "stdout",
     "output_type": "stream",
     "text": [
      "0.5085961238690966\n"
     ]
    }
   ],
   "source": [
    "print(p)"
   ]
  },
  {
   "cell_type": "code",
   "execution_count": 4,
   "id": "91ad9f75",
   "metadata": {},
   "outputs": [
    {
     "name": "stdout",
     "output_type": "stream",
     "text": [
      "82\n"
     ]
    }
   ],
   "source": [
    "for n in range(1,100):\n",
    "    if (35/36)**n < 0.1:\n",
    "        print(n)\n",
    "        break"
   ]
  },
  {
   "cell_type": "code",
   "execution_count": 8,
   "id": "3269ee7a",
   "metadata": {},
   "outputs": [
    {
     "name": "stdout",
     "output_type": "stream",
     "text": [
      "p_ 5 = 0.02713557369979347\n",
      "p_ 10 = 0.11694817771107768\n",
      "p_ 15 = 0.25290131976368646\n",
      "p_ 20 = 0.41143838358058016\n",
      "p_ 21 = 0.4436883351652059\n",
      "p_ 22 = 0.4756953076625502\n",
      "p_ 23 = 0.5072972343239854\n",
      "p_ 24 = 0.5383442579145288\n",
      "p_ 25 = 0.5686997039694639\n",
      "p_ 30 = 0.7063162427192687\n",
      "p_ 35 = 0.8143832388747152\n",
      "p_ 40 = 0.891231809817949\n",
      "p_ 50 = 0.9703735795779884\n",
      "p_ 60 = 0.994122660865348\n"
     ]
    }
   ],
   "source": [
    "for n in [5,10,15,20,21,22,23,24,25,30,35,40,50,60]:\n",
    "    p_inv = 1\n",
    "    for  i in range(1,n):\n",
    "        p_inv *= (1-(i/365))\n",
    "    p = 1- p_inv\n",
    "    print('p_', n, '=', p)"
   ]
  },
  {
   "cell_type": "code",
   "execution_count": 9,
   "id": "04dee428",
   "metadata": {},
   "outputs": [],
   "source": [
    "R = 8955/8960"
   ]
  },
  {
   "cell_type": "code",
   "execution_count": 10,
   "id": "e528f957",
   "metadata": {},
   "outputs": [
    {
     "name": "stdout",
     "output_type": "stream",
     "text": [
      "0.9994419642857143\n"
     ]
    }
   ],
   "source": [
    "print(R)"
   ]
  },
  {
   "cell_type": "code",
   "execution_count": 17,
   "id": "654b881d",
   "metadata": {},
   "outputs": [],
   "source": [
    "import pandas as pd\n",
    "\n",
    "pf = pd.DataFrame([[41.4, 52.8],[76.3, 71.2], [59.2, 72.6], [51.8, 63.7], [52.5, 81.3], [53.2, 81.8], [62.4, 70.9], [55.0, 74.0], [57.7, 73.2], [63.2, 72.9]\n",
    "                ,[37.5, 66.7], [48.5, 65.7], [32.4, 43.7], [20.5, 55.5], [47.9, 79.6], [68.9, 85.7], [68.5, 75.3], [52.5, 80.5], [63.3, 73.0], [58.8, 77.0], \n",
    "                  [59.7, 77.5], [48.4, 69.2], [40.7, 60.0], [51.0, 78.2], [50.9, 79.5], [34.3, 61.8], [25.8, 49.6], [32.1, 59.6], [34.4, 72.1], [55.1, 71.0],\n",
    "                  [60.3, 76.3], [57.0, 72.8], [45.6, 71.8], [54.2, 60.7], [55.1, 67.0], [55.7, 71.8], [70.3, 71.2], [61.8, 68.3], [47.6, 68.5], \n",
    "                  [42.5, 54.8], [71.3, 76.0], [55.2, 65.8], [65.2, 69.4], [42.9, 66.9], [54.7, 69.7], [62.0, 71.2], [48.2, 59.6]], columns=['都道府県', '自民得票率', '持ち家比率'], index = [''])"
   ]
  },
  {
   "cell_type": "code",
   "execution_count": 18,
   "id": "d3630d2e",
   "metadata": {},
   "outputs": [
    {
     "data": {
      "text/html": [
       "<div>\n",
       "<style scoped>\n",
       "    .dataframe tbody tr th:only-of-type {\n",
       "        vertical-align: middle;\n",
       "    }\n",
       "\n",
       "    .dataframe tbody tr th {\n",
       "        vertical-align: top;\n",
       "    }\n",
       "\n",
       "    .dataframe thead th {\n",
       "        text-align: right;\n",
       "    }\n",
       "</style>\n",
       "<table border=\"1\" class=\"dataframe\">\n",
       "  <thead>\n",
       "    <tr style=\"text-align: right;\">\n",
       "      <th></th>\n",
       "      <th>0</th>\n",
       "      <th>1</th>\n",
       "      <th>2</th>\n",
       "    </tr>\n",
       "  </thead>\n",
       "  <tbody>\n",
       "    <tr>\n",
       "      <th>0</th>\n",
       "      <td>41.4</td>\n",
       "      <td>76.3</td>\n",
       "      <td>59.2</td>\n",
       "    </tr>\n",
       "    <tr>\n",
       "      <th>1</th>\n",
       "      <td>52.8</td>\n",
       "      <td>71.2</td>\n",
       "      <td>72.6</td>\n",
       "    </tr>\n",
       "  </tbody>\n",
       "</table>\n",
       "</div>"
      ],
      "text/plain": [
       "      0     1     2\n",
       "0  41.4  76.3  59.2\n",
       "1  52.8  71.2  72.6"
      ]
     },
     "execution_count": 18,
     "metadata": {},
     "output_type": "execute_result"
    }
   ],
   "source": [
    "pf"
   ]
  },
  {
   "cell_type": "code",
   "execution_count": null,
   "id": "74f5fb83",
   "metadata": {},
   "outputs": [],
   "source": []
  }
 ],
 "metadata": {
  "kernelspec": {
   "display_name": "Python 3 (ipykernel)",
   "language": "python",
   "name": "python3"
  },
  "language_info": {
   "codemirror_mode": {
    "name": "ipython",
    "version": 3
   },
   "file_extension": ".py",
   "mimetype": "text/x-python",
   "name": "python",
   "nbconvert_exporter": "python",
   "pygments_lexer": "ipython3",
   "version": "3.10.3"
  }
 },
 "nbformat": 4,
 "nbformat_minor": 5
}

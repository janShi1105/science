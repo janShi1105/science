{
 "cells": [
  {
   "cell_type": "code",
   "execution_count": 1,
   "id": "02433fcc",
   "metadata": {},
   "outputs": [],
   "source": [
    "import pandas as pd\n",
    "import numpy as np\n",
    "\n",
    "df_wide = pd.read_csv('./input/ch03/time_series_wide.csv', index_col = 0)\n",
    "df_wide.index = pd.to_datetime(df_wide.index)"
   ]
  },
  {
   "cell_type": "code",
   "execution_count": 2,
   "id": "e23baf50",
   "metadata": {},
   "outputs": [
    {
     "name": "stdout",
     "output_type": "stream",
     "text": [
      "              A     B     C\n",
      "2016-07-01  532  3314  1136\n",
      "2016-07-02  798  2461  1188\n",
      "2016-07-03  823  3522  1711\n",
      "2016-07-04  937  5451  1977\n",
      "2016-07-05  881  4729  1975\n"
     ]
    }
   ],
   "source": [
    "print(df_wide.iloc[:5,:3])"
   ]
  },
  {
   "cell_type": "code",
   "execution_count": 3,
   "id": "072e3915",
   "metadata": {},
   "outputs": [],
   "source": [
    "df_long = df_wide.stack().reset_index(1)"
   ]
  },
  {
   "cell_type": "code",
   "execution_count": 4,
   "id": "ecd04c22",
   "metadata": {},
   "outputs": [
    {
     "name": "stdout",
     "output_type": "stream",
     "text": [
      "           level_1     0\n",
      "2016-07-01       A   532\n",
      "2016-07-01       B  3314\n",
      "2016-07-01       C  1136\n",
      "2016-07-02       A   798\n",
      "2016-07-02       B  2461\n",
      "...            ...   ...\n",
      "2016-12-30       B  4243\n",
      "2016-12-30       C  2069\n",
      "2016-12-31       A   869\n",
      "2016-12-31       B  4703\n",
      "2016-12-31       C  2233\n",
      "\n",
      "[552 rows x 2 columns]\n"
     ]
    }
   ],
   "source": [
    "print(df_long)"
   ]
  },
  {
   "cell_type": "code",
   "execution_count": null,
   "id": "428c311e",
   "metadata": {},
   "outputs": [],
   "source": []
  }
 ],
 "metadata": {
  "kernelspec": {
   "display_name": "Python 3 (ipykernel)",
   "language": "python",
   "name": "python3"
  },
  "language_info": {
   "codemirror_mode": {
    "name": "ipython",
    "version": 3
   },
   "file_extension": ".py",
   "mimetype": "text/x-python",
   "name": "python",
   "nbconvert_exporter": "python",
   "pygments_lexer": "ipython3",
   "version": "3.10.3"
  }
 },
 "nbformat": 4,
 "nbformat_minor": 5
}

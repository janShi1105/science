{
 "cells": [
  {
   "cell_type": "code",
   "execution_count": 1,
   "id": "495fec1e",
   "metadata": {},
   "outputs": [],
   "source": [
    "import pandas as pd\n",
    "import numpy as np\n",
    "\n",
    "df_wide = pd.read_csv('./input/ch03/time_series_wide.csv', index_col = 0)\n",
    "df_wide.index = pd.to_datetime(df_wide.index)"
   ]
  },
  {
   "cell_type": "code",
   "execution_count": 2,
   "id": "d6c277ad",
   "metadata": {},
   "outputs": [
    {
     "name": "stdout",
     "output_type": "stream",
     "text": [
      "              A     B     C\n",
      "2016-07-01  532  3314  1136\n",
      "2016-07-02  798  2461  1188\n",
      "2016-07-03  823  3522  1711\n",
      "2016-07-04  937  5451  1977\n",
      "2016-07-05  881  4729  1975\n"
     ]
    }
   ],
   "source": [
    "print(df_wide.iloc[:5,:3])"
   ]
  },
  {
   "cell_type": "code",
   "execution_count": null,
   "id": "be67d482",
   "metadata": {},
   "outputs": [],
   "source": [
    "df_long = df_wide.stack().reset_index(1)"
   ]
  }
 ],
 "metadata": {
  "kernelspec": {
   "display_name": "Python 3 (ipykernel)",
   "language": "python",
   "name": "python3"
  },
  "language_info": {
   "codemirror_mode": {
    "name": "ipython",
    "version": 3
   },
   "file_extension": ".py",
   "mimetype": "text/x-python",
   "name": "python",
   "nbconvert_exporter": "python",
   "pygments_lexer": "ipython3",
   "version": "3.10.3"
  }
 },
 "nbformat": 4,
 "nbformat_minor": 5
}

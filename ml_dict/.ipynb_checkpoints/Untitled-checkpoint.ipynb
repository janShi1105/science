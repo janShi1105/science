{
 "cells": [
  {
   "cell_type": "code",
   "execution_count": 1,
   "id": "3c4d8208",
   "metadata": {},
   "outputs": [],
   "source": [
    "from sklearn.datasets import load_wine\n",
    "data =  load_wine()"
   ]
  },
  {
   "cell_type": "code",
   "execution_count": 2,
   "id": "65a4aed9",
   "metadata": {},
   "outputs": [],
   "source": [
    "X = data.data[:, [0,9]]"
   ]
  },
  {
   "cell_type": "code",
   "execution_count": 20,
   "id": "9bd3627b",
   "metadata": {},
   "outputs": [],
   "source": [
    "from sklearn.cluster import KMeans\n",
    "\n",
    "n_clusters  = 3\n",
    "model = KMeans(n_clusters=n_clusters)\n",
    "\n",
    "pred = model.fit_predict(X)\n",
    "\n",
    "plt.scatter?"
   ]
  },
  {
   "cell_type": "code",
   "execution_count": 22,
   "id": "a4630e64",
   "metadata": {},
   "outputs": [
    {
     "data": {
      "text/plain": [
       "<matplotlib.collections.PathCollection at 0x1333df580>"
      ]
     },
     "execution_count": 22,
     "metadata": {},
     "output_type": "execute_result"
    },
    {
     "data": {
      "image/png": "[encoded data removed]",
      "text/plain": [
       "<Figure size 432x288 with 1 Axes>"
      ]
     },
     "metadata": {
      "needs_background": "light"
     },
     "output_type": "display_data"
    }
   ],
   "source": [
    "import matplotlib.pyplot as plt\n",
    "\n",
    "\n",
    "plt.scatter(X[:,0], X[:,1])"
   ]
  },
  {
   "cell_type": "code",
   "execution_count": 23,
   "id": "e1661b1f",
   "metadata": {},
   "outputs": [
    {
     "data": {
      "text/plain": [
       "array([[ 3.37801907],\n",
       "       [ 1.11647777],\n",
       "       [ 3.79986343],\n",
       "       [ 4.74041749],\n",
       "       [ 0.88721767],\n",
       "       [ 3.39374713],\n",
       "       [ 3.35733742],\n",
       "       [ 2.27961111],\n",
       "       [ 4.0432193 ],\n",
       "       [ 3.47708292],\n",
       "       [ 3.61530648],\n",
       "       [ 3.95097521],\n",
       "       [ 2.13210216],\n",
       "       [ 3.15939486],\n",
       "       [ 3.93364975],\n",
       "       [ 3.88363604],\n",
       "       [ 2.2390414 ],\n",
       "       [ 1.26902488],\n",
       "       [ 2.36779932],\n",
       "       [ 1.91136433],\n",
       "       [ 2.79067233],\n",
       "       [ 2.04670039],\n",
       "       [ 3.61944342],\n",
       "       [ 2.77077609],\n",
       "       [ 2.93490158],\n",
       "       [ 3.39454377],\n",
       "       [ 4.43621187],\n",
       "       [ 3.72401646],\n",
       "       [ 1.78814893],\n",
       "       [ 1.89664661],\n",
       "       [ 2.82407248],\n",
       "       [ 3.56742724],\n",
       "       [ 4.26362103],\n",
       "       [ 2.89555857],\n",
       "       [ 2.87951195],\n",
       "       [ 3.32553069],\n",
       "       [ 4.16287883],\n",
       "       [ 3.02711766],\n",
       "       [ 4.32531617],\n",
       "       [ 3.36040649],\n",
       "       [ 1.77888344],\n",
       "       [ 3.33085047],\n",
       "       [ 2.7197756 ],\n",
       "       [ 2.34705274],\n",
       "       [ 2.55987997],\n",
       "       [ 2.99050749],\n",
       "       [ 1.72377108],\n",
       "       [ 2.88704933],\n",
       "       [ 1.14240936],\n",
       "       [ 3.50908188],\n",
       "       [ 0.21522813],\n",
       "       [-1.48693304],\n",
       "       [-0.33574246],\n",
       "       [-0.50503396],\n",
       "       [-0.11950705],\n",
       "       [-2.93535427],\n",
       "       [-1.89442463],\n",
       "       [ 0.55413919],\n",
       "       [ 0.81094508],\n",
       "       [-0.90876557],\n",
       "       [-1.44666849],\n",
       "       [ 0.78379788],\n",
       "       [-0.30632314],\n",
       "       [-0.48280783],\n",
       "       [-0.99169956],\n",
       "       [-1.03862114],\n",
       "       [-2.24956095],\n",
       "       [ 0.92457484],\n",
       "       [-1.12881168],\n",
       "       [-0.69465189],\n",
       "       [ 0.69997378],\n",
       "       [-2.71837709],\n",
       "       [-0.72394374],\n",
       "       [-1.42311764],\n",
       "       [ 0.00857238],\n",
       "       [-1.95227876],\n",
       "       [-2.54391461],\n",
       "       [-0.3665053 ],\n",
       "       [-0.5640521 ],\n",
       "       [-0.41872357],\n",
       "       [-1.09050435],\n",
       "       [-0.60939637],\n",
       "       [-0.14999834],\n",
       "       [-1.60887937],\n",
       "       [ 0.52023989],\n",
       "       [-1.30155597],\n",
       "       [ 0.09408455],\n",
       "       [ 0.62546111],\n",
       "       [-0.70854306],\n",
       "       [-0.10848619],\n",
       "       [-0.76166748],\n",
       "       [-2.98475659],\n",
       "       [-1.09275865],\n",
       "       [-1.93096458],\n",
       "       [-0.51955571],\n",
       "       [-0.10997607],\n",
       "       [ 0.10376899],\n",
       "       [ 0.68784719],\n",
       "       [-1.22292105],\n",
       "       [-2.00685418]])"
      ]
     },
     "execution_count": 23,
     "metadata": {},
     "output_type": "execute_result"
    }
   ],
   "source": [
    "import numpy as np\n",
    "from sklearn.linear_model import LogisticRegression\n",
    "\n",
    "X_train = np.r_[np.random.normal(3,1,size = 50), np.random.normal(-1,1, size = 50)].reshape(100,-1)\n",
    "X_train"
   ]
  },
  {
   "cell_type": "code",
   "execution_count": 25,
   "id": "9fd5c4b4",
   "metadata": {},
   "outputs": [
    {
     "data": {
      "text/plain": [
       "array([0.05596629, 0.45505614, 0.92164341])"
      ]
     },
     "execution_count": 25,
     "metadata": {},
     "output_type": "execute_result"
    }
   ],
   "source": [
    "y_train = np.r_[np.ones(50), np.zeros(50)]\n",
    "model = LogisticRegression()\n",
    "model.fit(X_train, y_train)\n",
    "model.predict_proba([[0], [1], [2]])[:, 1]"
   ]
  },
  {
   "cell_type": "code",
   "execution_count": 27,
   "id": "f11e8b0e",
   "metadata": {},
   "outputs": [
    {
     "data": {
      "text/plain": [
       "1.0"
      ]
     },
     "execution_count": 27,
     "metadata": {},
     "output_type": "execute_result"
    }
   ],
   "source": [
    "from sklearn.svm import LinearSVC\n",
    "from sklearn.datasets import make_blobs\n",
    "from sklearn.model_selection import train_test_split \n",
    "from sklearn.metrics import accuracy_score\n",
    "\n",
    "centers = [(-1, -0.125), (0.5,0.5)]\n",
    "X, y = make_blobs(n_samples = 50, n_features = 2, centers = centers, cluster_std = 0.3)\n",
    "X_train, X_test, y_train, y_test = train_test_split(X, y, test_size = 0.3)\n",
    "model = LinearSVC()\n",
    "model.fit(X_train, y_train)\n",
    "y_pred = model.predict(X_test)\n",
    "accuracy_score(y_pred, y_test)"
   ]
  },
  {
   "cell_type": "code",
   "execution_count": 28,
   "id": "f3eb1eed",
   "metadata": {},
   "outputs": [
    {
     "data": {
      "text/plain": [
       "0.9555555555555556"
      ]
     },
     "execution_count": 28,
     "metadata": {},
     "output_type": "execute_result"
    }
   ],
   "source": [
    "from sklearn.svm import SVC\n",
    "from sklearn.datasets import make_gaussian_quantiles\n",
    "from sklearn.model_selection import train_test_split\n",
    "from sklearn.metrics import accuracy_score\n",
    "\n",
    "X, y = make_gaussian_quantiles(n_features = 2, n_classes = 2, n_samples = 300)\n",
    "X_train, X_test , y_train, y_test  = train_test_split(X, y, test_size = 0.3)\n",
    "\n",
    "model = SVC()\n",
    "model.fit(X_train, y_train)\n",
    "y_pred = model.predict(X_test)\n",
    "accuracy_score(y_pred, y_test)"
   ]
  },
  {
   "cell_type": "code",
   "execution_count": 30,
   "id": "4297f77e",
   "metadata": {},
   "outputs": [
    {
     "data": {
      "text/plain": [
       "array([1])"
      ]
     },
     "execution_count": 30,
     "metadata": {},
     "output_type": "execute_result"
    }
   ],
   "source": [
    "from sklearn.naive_bayes import MultinomialNB\n",
    "\n",
    "X_train = [[1,1,0,0,0,0,0,0,0,0,0,],\n",
    "          [0,1,1,1,0,0,0,0,0,0,0],\n",
    "          [1,0,0,0,1,1,0,0,0,0,0],\n",
    "          [0,0,0,0,0,0,1,1,0,0,0],\n",
    "          [0,0,0,0,0,0,0,1,1,1,0],\n",
    "          [0,0,0,0,0,1,1,1,0,0,1]]\n",
    "y_train = [1,1,1,0,0,0]\n",
    "\n",
    "model = MultinomialNB()\n",
    "model.fit(X_train,  y_train)\n",
    "model.predict([[1,0,0,1,0,1,0,0,0,0,0]])"
   ]
  },
  {
   "cell_type": "code",
   "execution_count": 31,
   "id": "f954485f",
   "metadata": {},
   "outputs": [
    {
     "name": "stderr",
     "output_type": "stream",
     "text": [
      "/Users/kazuyaaoki/.pyenv/versions/3.10.3/lib/python3.10/site-packages/sklearn/neural_network/_multilayer_perceptron.py:692: ConvergenceWarning: Stochastic Optimizer: Maximum iterations (200) reached and the optimization hasn't converged yet.\n",
      "  warnings.warn(\n"
     ]
    },
    {
     "data": {
      "text/plain": [
       "0.95"
      ]
     },
     "execution_count": 31,
     "metadata": {},
     "output_type": "execute_result"
    }
   ],
   "source": [
    "from sklearn.datasets import load_digits\n",
    "from sklearn.neural_network import MLPClassifier\n",
    "from sklearn.model_selection import train_test_split\n",
    "\n",
    "data = load_digits()\n",
    "\n",
    "X = data.images.reshape(len(data.images), -1)\n",
    "y = data.target\n",
    "\n",
    "X_train, X_test, y_train, y_test = train_test_split(X, y, test_size = 0.3)\n",
    "\n",
    "model = MLPClassifier(hidden_layer_sizes=(16,))\n",
    "model.fit(X_train, y_train)\n",
    "y_pred = model.predict(X_test)\n",
    "accuracy_score(y_pred, y_test)"
   ]
  },
  {
   "cell_type": "code",
   "execution_count": 32,
   "id": "3244d430",
   "metadata": {},
   "outputs": [
    {
     "data": {
      "text/plain": [
       "0.9"
      ]
     },
     "execution_count": 32,
     "metadata": {},
     "output_type": "execute_result"
    }
   ],
   "source": [
    "from sklearn.neighbors import KNeighborsClassifier\n",
    "from sklearn.datasets import make_moons\n",
    "\n",
    "X, y = make_moons(noise=0.3)\n",
    "X_train, X_test, y_train, y_test  =train_test_split(X, y, test_size = 0.3)\n",
    "\n",
    "model = KNeighborsClassifier()\n",
    "model.fit(X_train, y_train)\n",
    "y_pred = model.predict(X_test)\n",
    "accuracy_score(y_pred, y_test)"
   ]
  },
  {
   "cell_type": "code",
   "execution_count": 33,
   "id": "5d547086",
   "metadata": {},
   "outputs": [
    {
     "name": "stdout",
     "output_type": "stream",
     "text": [
      "[[ 0.00000000e+00  8.50650808e-01]\n",
      " [ 0.00000000e+00  8.50650808e-01]\n",
      " [-8.15843973e-16  1.37638192e+00]\n",
      " [-8.15843973e-16  5.25731112e-01]\n",
      " [ 1.41421356e+00  6.06576787e-16]\n",
      " [ 7.07106781e-01  2.02192262e-16]\n",
      " [ 1.41421356e+00  6.06576787e-16]\n",
      " [ 7.07106781e-01  4.04384525e-16]]\n",
      "[0.38596491 0.27999429]\n",
      "0.6659592065833293\n"
     ]
    }
   ],
   "source": [
    "from sklearn.decomposition import TruncatedSVD\n",
    "\n",
    "data = [[1,0,0,0], [1,0,0,0], [1,1,0,0], [0,1,0,0], [0,0,1,1], [0,0,1,0], [0,0,1,1], [0,0,0,1]]\n",
    "\n",
    "n_components = 2\n",
    "model = TruncatedSVD(n_components= n_components)\n",
    "model.fit(data)\n",
    "\n",
    "print(model.transform(data))\n",
    "print(model.explained_variance_ratio_)\n",
    "print(sum(model.explained_variance_ratio_))"
   ]
  },
  {
   "cell_type": "code",
   "execution_count": 37,
   "id": "4e21a152",
   "metadata": {},
   "outputs": [
    {
     "ename": "ModuleNotFoundError",
     "evalue": "No module named 'sklearn.datasets.samples_generator'",
     "output_type": "error",
     "traceback": [
      "\u001b[0;31m---------------------------------------------------------------------------\u001b[0m",
      "\u001b[0;31mModuleNotFoundError\u001b[0m                       Traceback (most recent call last)",
      "Input \u001b[0;32mIn [37]\u001b[0m, in \u001b[0;36m<cell line: 2>\u001b[0;34m()\u001b[0m\n\u001b[1;32m      1\u001b[0m \u001b[38;5;28;01mfrom\u001b[39;00m \u001b[38;5;21;01msklearn\u001b[39;00m\u001b[38;5;21;01m.\u001b[39;00m\u001b[38;5;21;01mdecomposition\u001b[39;00m \u001b[38;5;28;01mimport\u001b[39;00m NMF\n\u001b[0;32m----> 2\u001b[0m \u001b[38;5;28;01mfrom\u001b[39;00m \u001b[38;5;21;01msklearn\u001b[39;00m\u001b[38;5;21;01m.\u001b[39;00m\u001b[38;5;21;01mdatasets\u001b[39;00m\u001b[38;5;21;01m.\u001b[39;00m\u001b[38;5;21;01msamples_generator\u001b[39;00m \u001b[38;5;28;01mimport\u001b[39;00m make_blobs\n\u001b[1;32m      4\u001b[0m centers \u001b[38;5;241m=\u001b[39m [[\u001b[38;5;241m5\u001b[39m,\u001b[38;5;241m10\u001b[39m,\u001b[38;5;241m5\u001b[39m], [\u001b[38;5;241m10\u001b[39m,\u001b[38;5;241m4\u001b[39m,\u001b[38;5;241m10\u001b[39m], [\u001b[38;5;241m6\u001b[39m,\u001b[38;5;241m8\u001b[39m,\u001b[38;5;241m8\u001b[39m]]\n\u001b[1;32m      6\u001b[0m V, _ \u001b[38;5;241m=\u001b[39m make_blobs(centers \u001b[38;5;241m=\u001b[39m centers)\n",
      "\u001b[0;31mModuleNotFoundError\u001b[0m: No module named 'sklearn.datasets.samples_generator'"
     ]
    }
   ],
   "source": [
    "from sklearn.decomposition import NMF\n",
    "from sklearn.datasets.samples_generator import make_blobs\n",
    "\n",
    "\n",
    "centers = [[5,10,5], [10,4,10], [6,8,8]]\n",
    "\n",
    "V, _ = make_blobs(centers = centers)\n",
    "\n",
    "n_components = 2\n",
    "model = NMF(n_components = n_components)\n",
    "\n",
    "model.fit(V)\n",
    "\n",
    "W = model.transform(V) \n",
    "H = model.components_\n",
    "    \n",
    "print(W)\n",
    "print(H)"
   ]
  },
  {
   "cell_type": "code",
   "execution_count": null,
   "id": "281d5804",
   "metadata": {},
   "outputs": [],
   "source": []
  }
 ],
 "metadata": {
  "kernelspec": {
   "display_name": "Python 3 (ipykernel)",
   "language": "python",
   "name": "python3"
  },
  "language_info": {
   "codemirror_mode": {
    "name": "ipython",
    "version": 3
   },
   "file_extension": ".py",
   "mimetype": "text/x-python",
   "name": "python",
   "nbconvert_exporter": "python",
   "pygments_lexer": "ipython3",
   "version": "3.10.3"
  }
 },
 "nbformat": 4,
 "nbformat_minor": 5
}

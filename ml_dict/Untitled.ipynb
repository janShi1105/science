{
 "cells": [
  {
   "cell_type": "code",
   "execution_count": 1,
   "id": "25476197",
   "metadata": {},
   "outputs": [],
   "source": [
    "from sklearn.datasets import load_wine\n",
    "data =  load_wine()"
   ]
  },
  {
   "cell_type": "code",
   "execution_count": 2,
   "id": "6c58e207",
   "metadata": {},
   "outputs": [],
   "source": [
    "X = data.data[:, [0,9]]"
   ]
  },
  {
   "cell_type": "code",
   "execution_count": 20,
   "id": "d76c9b1e",
   "metadata": {},
   "outputs": [],
   "source": [
    "from sklearn.cluster import KMeans\n",
    "\n",
    "n_clusters  = 3\n",
    "model = KMeans(n_clusters=n_clusters)\n",
    "\n",
    "pred = model.fit_predict(X)\n",
    "\n",
    "plt.scatter?"
   ]
  },
  {
   "cell_type": "code",
   "execution_count": 22,
   "id": "397a1aa3",
   "metadata": {},
   "outputs": [
    {
     "data": {
      "text/plain": [
       "<matplotlib.collections.PathCollection at 0x1333df580>"
      ]
     },
     "execution_count": 22,
     "metadata": {},
     "output_type": "execute_result"
    },
    {
     "data": {
      "image/png": "[encoded data removed]",
      "text/plain": [
       "<Figure size 432x288 with 1 Axes>"
      ]
     },
     "metadata": {
      "needs_background": "light"
     },
     "output_type": "display_data"
    }
   ],
   "source": [
    "import matplotlib.pyplot as plt\n",
    "\n",
    "\n",
    "plt.scatter(X[:,0], X[:,1])"
   ]
  },
  {
   "cell_type": "code",
   "execution_count": 23,
   "id": "02564f8b",
   "metadata": {},
   "outputs": [
    {
     "data": {
      "text/plain": [
       "array([[ 3.37801907],\n",
       "       [ 1.11647777],\n",
       "       [ 3.79986343],\n",
       "       [ 4.74041749],\n",
       "       [ 0.88721767],\n",
       "       [ 3.39374713],\n",
       "       [ 3.35733742],\n",
       "       [ 2.27961111],\n",
       "       [ 4.0432193 ],\n",
       "       [ 3.47708292],\n",
       "       [ 3.61530648],\n",
       "       [ 3.95097521],\n",
       "       [ 2.13210216],\n",
       "       [ 3.15939486],\n",
       "       [ 3.93364975],\n",
       "       [ 3.88363604],\n",
       "       [ 2.2390414 ],\n",
       "       [ 1.26902488],\n",
       "       [ 2.36779932],\n",
       "       [ 1.91136433],\n",
       "       [ 2.79067233],\n",
       "       [ 2.04670039],\n",
       "       [ 3.61944342],\n",
       "       [ 2.77077609],\n",
       "       [ 2.93490158],\n",
       "       [ 3.39454377],\n",
       "       [ 4.43621187],\n",
       "       [ 3.72401646],\n",
       "       [ 1.78814893],\n",
       "       [ 1.89664661],\n",
       "       [ 2.82407248],\n",
       "       [ 3.56742724],\n",
       "       [ 4.26362103],\n",
       "       [ 2.89555857],\n",
       "       [ 2.87951195],\n",
       "       [ 3.32553069],\n",
       "       [ 4.16287883],\n",
       "       [ 3.02711766],\n",
       "       [ 4.32531617],\n",
       "       [ 3.36040649],\n",
       "       [ 1.77888344],\n",
       "       [ 3.33085047],\n",
       "       [ 2.7197756 ],\n",
       "       [ 2.34705274],\n",
       "       [ 2.55987997],\n",
       "       [ 2.99050749],\n",
       "       [ 1.72377108],\n",
       "       [ 2.88704933],\n",
       "       [ 1.14240936],\n",
       "       [ 3.50908188],\n",
       "       [ 0.21522813],\n",
       "       [-1.48693304],\n",
       "       [-0.33574246],\n",
       "       [-0.50503396],\n",
       "       [-0.11950705],\n",
       "       [-2.93535427],\n",
       "       [-1.89442463],\n",
       "       [ 0.55413919],\n",
       "       [ 0.81094508],\n",
       "       [-0.90876557],\n",
       "       [-1.44666849],\n",
       "       [ 0.78379788],\n",
       "       [-0.30632314],\n",
       "       [-0.48280783],\n",
       "       [-0.99169956],\n",
       "       [-1.03862114],\n",
       "       [-2.24956095],\n",
       "       [ 0.92457484],\n",
       "       [-1.12881168],\n",
       "       [-0.69465189],\n",
       "       [ 0.69997378],\n",
       "       [-2.71837709],\n",
       "       [-0.72394374],\n",
       "       [-1.42311764],\n",
       "       [ 0.00857238],\n",
       "       [-1.95227876],\n",
       "       [-2.54391461],\n",
       "       [-0.3665053 ],\n",
       "       [-0.5640521 ],\n",
       "       [-0.41872357],\n",
       "       [-1.09050435],\n",
       "       [-0.60939637],\n",
       "       [-0.14999834],\n",
       "       [-1.60887937],\n",
       "       [ 0.52023989],\n",
       "       [-1.30155597],\n",
       "       [ 0.09408455],\n",
       "       [ 0.62546111],\n",
       "       [-0.70854306],\n",
       "       [-0.10848619],\n",
       "       [-0.76166748],\n",
       "       [-2.98475659],\n",
       "       [-1.09275865],\n",
       "       [-1.93096458],\n",
       "       [-0.51955571],\n",
       "       [-0.10997607],\n",
       "       [ 0.10376899],\n",
       "       [ 0.68784719],\n",
       "       [-1.22292105],\n",
       "       [-2.00685418]])"
      ]
     },
     "execution_count": 23,
     "metadata": {},
     "output_type": "execute_result"
    }
   ],
   "source": [
    "import numpy as np\n",
    "from sklearn.linear_model import LogisticRegression\n",
    "\n",
    "X_train = np.r_[np.random.normal(3,1,size = 50), np.random.normal(-1,1, size = 50)].reshape(100,-1)\n",
    "X_train"
   ]
  },
  {
   "cell_type": "code",
   "execution_count": 25,
   "id": "eff5b911",
   "metadata": {},
   "outputs": [
    {
     "data": {
      "text/plain": [
       "array([0.05596629, 0.45505614, 0.92164341])"
      ]
     },
     "execution_count": 25,
     "metadata": {},
     "output_type": "execute_result"
    }
   ],
   "source": [
    "y_train = np.r_[np.ones(50), np.zeros(50)]\n",
    "model = LogisticRegression()\n",
    "model.fit(X_train, y_train)\n",
    "model.predict_proba([[0], [1], [2]])[:, 1]"
   ]
  },
  {
   "cell_type": "code",
   "execution_count": 27,
   "id": "9e5c8611",
   "metadata": {},
   "outputs": [
    {
     "data": {
      "text/plain": [
       "1.0"
      ]
     },
     "execution_count": 27,
     "metadata": {},
     "output_type": "execute_result"
    }
   ],
   "source": [
    "from sklearn.svm import LinearSVC\n",
    "from sklearn.datasets import make_blobs\n",
    "from sklearn.model_selection import train_test_split \n",
    "from sklearn.metrics import accuracy_score\n",
    "\n",
    "centers = [(-1, -0.125), (0.5,0.5)]\n",
    "X, y = make_blobs(n_samples = 50, n_features = 2, centers = centers, cluster_std = 0.3)\n",
    "X_train, X_test, y_train, y_test = train_test_split(X, y, test_size = 0.3)\n",
    "model = LinearSVC()\n",
    "model.fit(X_train, y_train)\n",
    "y_pred = model.predict(X_test)\n",
    "accuracy_score(y_pred, y_test)"
   ]
  },
  {
   "cell_type": "code",
   "execution_count": 28,
   "id": "c0cd503a",
   "metadata": {},
   "outputs": [
    {
     "data": {
      "text/plain": [
       "0.9555555555555556"
      ]
     },
     "execution_count": 28,
     "metadata": {},
     "output_type": "execute_result"
    }
   ],
   "source": [
    "from sklearn.svm import SVC\n",
    "from sklearn.datasets import make_gaussian_quantiles\n",
    "from sklearn.model_selection import train_test_split\n",
    "from sklearn.metrics import accuracy_score\n",
    "\n",
    "X, y = make_gaussian_quantiles(n_features = 2, n_classes = 2, n_samples = 300)\n",
    "X_train, X_test , y_train, y_test  = train_test_split(X, y, test_size = 0.3)\n",
    "\n",
    "model = SVC()\n",
    "model.fit(X_train, y_train)\n",
    "y_pred = model.predict(X_test)\n",
    "accuracy_score(y_pred, y_test)"
   ]
  },
  {
   "cell_type": "code",
   "execution_count": 30,
   "id": "8dbbd405",
   "metadata": {},
   "outputs": [
    {
     "data": {
      "text/plain": [
       "array([1])"
      ]
     },
     "execution_count": 30,
     "metadata": {},
     "output_type": "execute_result"
    }
   ],
   "source": [
    "from sklearn.naive_bayes import MultinomialNB\n",
    "\n",
    "X_train = [[1,1,0,0,0,0,0,0,0,0,0,],\n",
    "          [0,1,1,1,0,0,0,0,0,0,0],\n",
    "          [1,0,0,0,1,1,0,0,0,0,0],\n",
    "          [0,0,0,0,0,0,1,1,0,0,0],\n",
    "          [0,0,0,0,0,0,0,1,1,1,0],\n",
    "          [0,0,0,0,0,1,1,1,0,0,1]]\n",
    "y_train = [1,1,1,0,0,0]\n",
    "\n",
    "model = MultinomialNB()\n",
    "model.fit(X_train,  y_train)\n",
    "model.predict([[1,0,0,1,0,1,0,0,0,0,0]])"
   ]
  },
  {
   "cell_type": "code",
   "execution_count": 31,
   "id": "bc65097a",
   "metadata": {},
   "outputs": [
    {
     "name": "stderr",
     "output_type": "stream",
     "text": [
      "/Users/kazuyaaoki/.pyenv/versions/3.10.3/lib/python3.10/site-packages/sklearn/neural_network/_multilayer_perceptron.py:692: ConvergenceWarning: Stochastic Optimizer: Maximum iterations (200) reached and the optimization hasn't converged yet.\n",
      "  warnings.warn(\n"
     ]
    },
    {
     "data": {
      "text/plain": [
       "0.95"
      ]
     },
     "execution_count": 31,
     "metadata": {},
     "output_type": "execute_result"
    }
   ],
   "source": [
    "from sklearn.datasets import load_digits\n",
    "from sklearn.neural_network import MLPClassifier\n",
    "from sklearn.model_selection import train_test_split\n",
    "\n",
    "data = load_digits()\n",
    "\n",
    "X = data.images.reshape(len(data.images), -1)\n",
    "y = data.target\n",
    "\n",
    "X_train, X_test, y_train, y_test = train_test_split(X, y, test_size = 0.3)\n",
    "\n",
    "model = MLPClassifier(hidden_layer_sizes=(16,))\n",
    "model.fit(X_train, y_train)\n",
    "y_pred = model.predict(X_test)\n",
    "accuracy_score(y_pred, y_test)"
   ]
  },
  {
   "cell_type": "code",
   "execution_count": 32,
   "id": "22e45107",
   "metadata": {},
   "outputs": [
    {
     "data": {
      "text/plain": [
       "0.9"
      ]
     },
     "execution_count": 32,
     "metadata": {},
     "output_type": "execute_result"
    }
   ],
   "source": [
    "from sklearn.neighbors import KNeighborsClassifier\n",
    "from sklearn.datasets import make_moons\n",
    "\n",
    "X, y = make_moons(noise=0.3)\n",
    "X_train, X_test, y_train, y_test  =train_test_split(X, y, test_size = 0.3)\n",
    "\n",
    "model = KNeighborsClassifier()\n",
    "model.fit(X_train, y_train)\n",
    "y_pred = model.predict(X_test)\n",
    "accuracy_score(y_pred, y_test)"
   ]
  },
  {
   "cell_type": "code",
   "execution_count": 33,
   "id": "b4e3ccc0",
   "metadata": {},
   "outputs": [
    {
     "name": "stdout",
     "output_type": "stream",
     "text": [
      "[[ 0.00000000e+00  8.50650808e-01]\n",
      " [ 0.00000000e+00  8.50650808e-01]\n",
      " [-8.15843973e-16  1.37638192e+00]\n",
      " [-8.15843973e-16  5.25731112e-01]\n",
      " [ 1.41421356e+00  6.06576787e-16]\n",
      " [ 7.07106781e-01  2.02192262e-16]\n",
      " [ 1.41421356e+00  6.06576787e-16]\n",
      " [ 7.07106781e-01  4.04384525e-16]]\n",
      "[0.38596491 0.27999429]\n",
      "0.6659592065833293\n"
     ]
    }
   ],
   "source": [
    "from sklearn.decomposition import TruncatedSVD\n",
    "\n",
    "data = [[1,0,0,0], [1,0,0,0], [1,1,0,0], [0,1,0,0], [0,0,1,1], [0,0,1,0], [0,0,1,1], [0,0,0,1]]\n",
    "\n",
    "n_components = 2\n",
    "model = TruncatedSVD(n_components= n_components)\n",
    "model.fit(data)\n",
    "\n",
    "print(model.transform(data))\n",
    "print(model.explained_variance_ratio_)\n",
    "print(sum(model.explained_variance_ratio_))"
   ]
  },
  {
   "cell_type": "code",
   "execution_count": 2,
   "id": "2675a4fc",
   "metadata": {},
   "outputs": [
    {
     "name": "stdout",
     "output_type": "stream",
     "text": [
      "[[1.31412713 0.        ]\n",
      " [0.60652579 1.07858589]\n",
      " [0.68603873 0.93829691]\n",
      " [0.90045939 0.64030301]\n",
      " [1.18684534 0.23798004]\n",
      " [1.43072395 0.11515326]\n",
      " [0.60643245 0.963657  ]\n",
      " [1.40498934 0.50203248]\n",
      " [0.48911695 1.07336504]\n",
      " [1.53368717 0.04560054]\n",
      " [0.91457524 0.86713795]\n",
      " [0.57831586 1.09345157]\n",
      " [0.40278459 1.07636191]\n",
      " [1.35959524 0.19058562]\n",
      " [0.57156269 0.94377938]\n",
      " [1.46336764 0.31658907]\n",
      " [1.36631877 0.22995819]\n",
      " [1.35314127 0.00682365]\n",
      " [0.94058577 0.69851391]\n",
      " [0.7929195  0.66609388]\n",
      " [0.72591967 0.97477131]\n",
      " [0.73667548 0.92730986]\n",
      " [1.0898819  0.71219134]\n",
      " [0.59741349 0.98790637]\n",
      " [0.60285656 1.03465384]\n",
      " [0.89693383 0.55181692]\n",
      " [1.25375047 0.18715173]\n",
      " [1.23881674 0.19521675]\n",
      " [0.52578928 0.93098275]\n",
      " [1.02671193 0.72257241]\n",
      " [0.81156187 0.97748896]\n",
      " [0.57694031 1.00446856]\n",
      " [0.83548917 0.72981639]\n",
      " [1.34649729 0.1295702 ]\n",
      " [0.75307873 0.87294641]\n",
      " [1.26176944 0.05567896]\n",
      " [0.75058422 0.9093709 ]\n",
      " [0.51828091 0.98837279]\n",
      " [0.41407701 1.0867446 ]\n",
      " [1.31508523 0.26911916]\n",
      " [0.77341633 0.96574429]\n",
      " [1.34862721 0.3541922 ]\n",
      " [1.16099726 0.30621353]\n",
      " [0.927639   0.80132508]\n",
      " [1.32492226 0.30985661]\n",
      " [0.69770478 0.70770105]\n",
      " [0.89996027 0.65901163]\n",
      " [1.38387262 0.36771608]\n",
      " [0.62210507 1.10879163]\n",
      " [0.68089442 0.9462761 ]\n",
      " [1.47476697 0.20127864]\n",
      " [1.22939193 0.34230192]\n",
      " [1.39103239 0.17309307]\n",
      " [1.28744645 0.307141  ]\n",
      " [0.92860233 0.77853433]\n",
      " [0.53829786 1.17624834]\n",
      " [0.8119857  0.80422451]\n",
      " [0.78961516 0.96117912]\n",
      " [1.02763426 0.62966464]\n",
      " [0.76866938 0.65827382]\n",
      " [1.2615509  0.29834241]\n",
      " [0.58974728 1.23088244]\n",
      " [0.92935625 0.59616504]\n",
      " [1.3927084  0.19493081]\n",
      " [0.67993488 1.09432288]\n",
      " [1.37026669 0.27055957]\n",
      " [0.79014216 0.91441473]\n",
      " [0.43387584 1.13750124]\n",
      " [1.131114   0.222962  ]\n",
      " [0.96449305 0.70480228]\n",
      " [0.73298464 0.75546124]\n",
      " [0.55407725 1.26965591]\n",
      " [0.46000567 1.14313943]\n",
      " [0.97632706 0.83087865]\n",
      " [0.51245251 1.15373942]\n",
      " [1.30687163 0.26608086]\n",
      " [0.68855865 0.91950462]\n",
      " [0.92674073 0.66320739]\n",
      " [1.3332266  0.21300556]\n",
      " [0.82447818 0.6647593 ]\n",
      " [0.88973292 0.64865188]\n",
      " [0.89485119 0.64780903]\n",
      " [0.72204491 1.05229069]\n",
      " [0.60564545 1.01805733]\n",
      " [1.42043364 0.0999844 ]\n",
      " [1.24109811 0.1399273 ]\n",
      " [0.5273099  0.99837134]\n",
      " [0.78590868 0.64164255]\n",
      " [0.91895743 0.759547  ]\n",
      " [0.77025426 0.78357298]\n",
      " [0.76961967 0.69401709]\n",
      " [1.35853931 0.37199485]\n",
      " [1.17471356 0.25911948]\n",
      " [0.64501926 1.11535579]\n",
      " [1.39526616 0.18478632]\n",
      " [0.50817823 1.06358569]\n",
      " [0.7418448  0.65205149]\n",
      " [0.71357649 0.7705206 ]\n",
      " [0.90899466 0.72790243]\n",
      " [0.74291222 0.89874608]]\n",
      "[[7.41686766 1.440659   7.35866218]\n",
      " [0.         8.92474785 1.06413591]]\n"
     ]
    },
    {
     "name": "stderr",
     "output_type": "stream",
     "text": [
      "/Users/kazuyaaoki/.pyenv/versions/3.10.3/lib/python3.10/site-packages/sklearn/decomposition/_nmf.py:289: FutureWarning: The 'init' value, when 'init=None' and n_components is less than n_samples and n_features, will be changed from 'nndsvd' to 'nndsvda' in 1.1 (renaming of 0.26).\n",
      "  warnings.warn(\n"
     ]
    }
   ],
   "source": [
    "from sklearn.decomposition import NMF\n",
    "from sklearn.datasets import make_blobs\n",
    "\n",
    "centers = [[5,10,5], [10,4,10], [6,8,8]]\n",
    "\n",
    "V, _ = make_blobs(centers = centers)\n",
    "\n",
    "n_components = 2\n",
    "model = NMF(n_components = n_components)\n",
    "\n",
    "model.fit(V)\n",
    "\n",
    "W = model.transform(V) \n",
    "H = model.components_\n",
    "    \n",
    "print(W)\n",
    "print(H)"
   ]
  },
  {
   "cell_type": "code",
   "execution_count": 3,
   "id": "81f3a9bf",
   "metadata": {},
   "outputs": [
    {
     "name": "stdout",
     "output_type": "stream",
     "text": [
      "[[5.00000004e-02 3.16555475e+01 5.00000002e-02 ... 8.86845649e+01\n",
      "  9.10049093e+00 6.81561947e+01]\n",
      " [2.90953306e+00 5.00000005e-02 3.60023687e+00 ... 5.06589239e+00\n",
      "  5.00000014e-02 6.68043512e+00]\n",
      " [6.86087208e-02 2.62479022e+00 5.00000002e-02 ... 6.51193402e+01\n",
      "  5.18000269e-02 5.00000181e-02]\n",
      " ...\n",
      " [5.00000001e-02 1.18644130e+00 5.00000001e-02 ... 2.63999169e+02\n",
      "  5.00000005e-02 1.17203064e+02]\n",
      " [1.71753514e+00 5.00000003e-02 5.00000013e-02 ... 3.42612168e+00\n",
      "  5.00000001e-02 5.00000006e-02]\n",
      " [5.00000006e-02 5.00000006e-02 3.76560476e+00 ... 5.00000004e-02\n",
      "  5.00000001e-02 5.00000003e-02]]\n",
      "[[0.00208333 0.00208333 0.00208333 ... 0.00208333 0.00208333 0.00208333]\n",
      " [0.0025     0.0025     0.0025     ... 0.0025     0.0025     0.0025    ]\n",
      " [0.00060241 0.00060241 0.3399354  ... 0.08391117 0.00060241 0.00060241]\n",
      " ...\n",
      " [0.00454545 0.00454545 0.00454545 ... 0.00454545 0.00454545 0.00454545]\n",
      " [0.00294118 0.00294118 0.00294118 ... 0.25845738 0.00294118 0.12178461]\n",
      " [0.00357143 0.00357143 0.29402336 ... 0.00357143 0.00357143 0.00357143]]\n"
     ]
    }
   ],
   "source": [
    "from sklearn.datasets import fetch_20newsgroups\n",
    "from sklearn.feature_extraction.text import CountVectorizer\n",
    "from sklearn.decomposition import LatentDirichletAllocation\n",
    "\n",
    "data = fetch_20newsgroups(remove=('headers', 'footers', 'quotes'))\n",
    "\n",
    "max_features = 1000\n",
    "tf_vectorizer = CountVectorizer(max_features=max_features, stop_words= 'english')\n",
    "\n",
    "tf = tf_vectorizer.fit_transform(data.data)\n",
    "\n",
    "n_topics = 20\n",
    "model = LatentDirichletAllocation(n_components=n_topics)\n",
    "model.fit(tf)\n",
    "\n",
    "print(model.components_)\n",
    "print(model.transform(tf))"
   ]
  },
  {
   "cell_type": "code",
   "execution_count": 4,
   "id": "cf024e38",
   "metadata": {},
   "outputs": [
    {
     "name": "stdout",
     "output_type": "stream",
     "text": [
      "[1 1 1 1 1 1 1 1 1 1 1 1 1 1 1 1 1 1 1 1 1 1 1 1 1 1 1 1 1 1 1 1 1 1 1 1 1\n",
      " 1 1 1 1 1 1 1 1 1 1 1 1 1 2 2 2 2 2 2 2 2 2 2 2 2 2 2 2 2 2 2 0 2 0 2 0 2\n",
      " 2 2 2 0 2 2 2 2 2 0 2 2 2 2 2 2 2 2 2 2 2 2 2 2 2 2 0 0 0 0 0 0 0 0 0 0 0\n",
      " 0 0 0 0 0 0 0 0 0 0 0 0 0 0 0 0 0 0 0 0 0 0 0 0 0 0 0 0 0 0 0 0 0 0 0 0 0\n",
      " 0 0]\n",
      "[[6.54639415 2.94946365 5.48364578 1.98726565]\n",
      " [5.006      3.428      1.462      0.246     ]\n",
      " [5.9170732  2.77804839 4.20540364 1.29848217]]\n",
      "[[[0.38744093 0.09223276 0.30244302 0.06087397]\n",
      "  [0.09223276 0.11040914 0.08385112 0.05574334]\n",
      "  [0.30244302 0.08385112 0.32589574 0.07276776]\n",
      "  [0.06087397 0.05574334 0.07276776 0.08484505]]\n",
      "\n",
      " [[0.121765   0.097232   0.016028   0.010124  ]\n",
      "  [0.097232   0.140817   0.011464   0.009112  ]\n",
      "  [0.016028   0.011464   0.029557   0.005948  ]\n",
      "  [0.010124   0.009112   0.005948   0.010885  ]]\n",
      "\n",
      " [[0.2755171  0.09662295 0.18547072 0.05478901]\n",
      "  [0.09662295 0.09255152 0.09103431 0.04299899]\n",
      "  [0.18547072 0.09103431 0.20235849 0.06171383]\n",
      "  [0.05478901 0.04299899 0.06171383 0.03233775]]]\n"
     ]
    }
   ],
   "source": [
    "from sklearn.datasets import load_iris\n",
    "from sklearn.mixture import GaussianMixture\n",
    "\n",
    "data = load_iris()\n",
    "\n",
    "n_components = 3\n",
    "model = GaussianMixture(n_components = n_components)\n",
    "model.fit(data.data)\n",
    "print(model.predict(data.data))\n",
    "print(model.means_)\n",
    "print(model.covariances_)"
   ]
  },
  {
   "cell_type": "code",
   "execution_count": 5,
   "id": "bc861a1e",
   "metadata": {},
   "outputs": [
    {
     "name": "stdout",
     "output_type": "stream",
     "text": [
      "[[-0.01574776 -0.01606976]\n",
      " [ 0.01538539 -0.00744862]\n",
      " [-0.03680319  0.01499188]\n",
      " ...\n",
      " [ 0.045258   -0.01589379]\n",
      " [-0.02242585  0.0049879 ]\n",
      " [-0.01363483  0.04629904]]\n"
     ]
    }
   ],
   "source": [
    "from sklearn.datasets import make_swiss_roll\n",
    "from sklearn.manifold import LocallyLinearEmbedding\n",
    "\n",
    "data, color = make_swiss_roll(n_samples = 1500)\n",
    "\n",
    "n_neighbors = 12\n",
    "n_components = 2\n",
    "model = LocallyLinearEmbedding(n_neighbors=n_neighbors, n_components=n_components)\n",
    "\n",
    "model.fit(data)\n",
    "print(model.transform(data))"
   ]
  },
  {
   "cell_type": "code",
   "execution_count": 6,
   "id": "dd92e1b0",
   "metadata": {},
   "outputs": [
    {
     "name": "stderr",
     "output_type": "stream",
     "text": [
      "/Users/kazuyaaoki/.pyenv/versions/3.10.3/lib/python3.10/site-packages/sklearn/manifold/_t_sne.py:780: FutureWarning: The default initialization in TSNE will change from 'random' to 'pca' in 1.2.\n",
      "  warnings.warn(\n",
      "/Users/kazuyaaoki/.pyenv/versions/3.10.3/lib/python3.10/site-packages/sklearn/manifold/_t_sne.py:790: FutureWarning: The default learning rate in TSNE will change from 200.0 to 'auto' in 1.2.\n",
      "  warnings.warn(\n"
     ]
    },
    {
     "name": "stdout",
     "output_type": "stream",
     "text": [
      "[[ -2.4109106  65.844284 ]\n",
      " [-20.939043    7.8238964]\n",
      " [  1.2206036   7.41655  ]\n",
      " ...\n",
      " [ -3.0204468  -2.2036605]\n",
      " [ 19.399881  -27.064995 ]\n",
      " [  2.642981   -4.7264566]]\n"
     ]
    }
   ],
   "source": [
    "from sklearn.manifold  import TSNE\n",
    "from sklearn.datasets import load_digits\n",
    "\n",
    "data = load_digits()\n",
    "\n",
    "n_components = 2\n",
    "model = TSNE(n_components=n_components)\n",
    "\n",
    "print(model.fit_transform(data.data))"
   ]
  },
  {
   "cell_type": "code",
   "execution_count": 7,
   "id": "08774849",
   "metadata": {},
   "outputs": [],
   "source": [
    "from sklearn.datasets import load_breast_cancer\n",
    "data = load_breast_cancer()\n",
    "X = data.data\n",
    "y = 1-data.target\n",
    "\n",
    "X = X[:, :10]\n",
    "from sklearn.linear_model import LogisticRegression\n",
    "model_lor = LogisticRegression()\n",
    "model_lor.fit(X, y)\n",
    "y_pred = model_lor.predict(X)"
   ]
  },
  {
   "cell_type": "code",
   "execution_count": 8,
   "id": "5a62f989",
   "metadata": {},
   "outputs": [
    {
     "name": "stdout",
     "output_type": "stream",
     "text": [
      "[[337  20]\n",
      " [ 30 182]]\n"
     ]
    }
   ],
   "source": [
    "from sklearn.metrics import confusion_matrix\n",
    "cm = confusion_matrix(y, y_pred)\n",
    "print(cm)"
   ]
  },
  {
   "cell_type": "code",
   "execution_count": 9,
   "id": "2450499d",
   "metadata": {},
   "outputs": [
    {
     "data": {
      "text/plain": [
       "0.9121265377855887"
      ]
     },
     "execution_count": 9,
     "metadata": {},
     "output_type": "execute_result"
    }
   ],
   "source": [
    "from sklearn.metrics import accuracy_score\n",
    "accuracy_score(y, y_pred)"
   ]
  },
  {
   "cell_type": "code",
   "execution_count": 10,
   "id": "5b787781",
   "metadata": {},
   "outputs": [
    {
     "data": {
      "text/plain": [
       "0.900990099009901"
      ]
     },
     "execution_count": 10,
     "metadata": {},
     "output_type": "execute_result"
    }
   ],
   "source": [
    "from sklearn.metrics import precision_score\n",
    "precision_score(y, y_pred)"
   ]
  },
  {
   "cell_type": "code",
   "execution_count": 11,
   "id": "ca2d7a73",
   "metadata": {},
   "outputs": [
    {
     "data": {
      "text/plain": [
       "0.8584905660377359"
      ]
     },
     "execution_count": 11,
     "metadata": {},
     "output_type": "execute_result"
    }
   ],
   "source": [
    "from sklearn.metrics import recall_score\n",
    "recall_score(y, y_pred)"
   ]
  },
  {
   "cell_type": "code",
   "execution_count": 12,
   "id": "5c678414",
   "metadata": {},
   "outputs": [],
   "source": [
    "from sklearn.metrics import f1_score"
   ]
  },
  {
   "cell_type": "code",
   "execution_count": 13,
   "id": "55e94d61",
   "metadata": {},
   "outputs": [
    {
     "data": {
      "text/plain": [
       "0.8792270531400966"
      ]
     },
     "execution_count": 13,
     "metadata": {},
     "output_type": "execute_result"
    }
   ],
   "source": [
    "f1_score(y, y_pred)"
   ]
  },
  {
   "cell_type": "code",
   "execution_count": 14,
   "id": "37a341bc",
   "metadata": {},
   "outputs": [
    {
     "data": {
      "text/plain": [
       "array([[7.67416961e-03, 9.92325830e-01],\n",
       "       [2.03140599e-02, 9.79685940e-01],\n",
       "       [2.34637374e-03, 9.97653626e-01],\n",
       "       ...,\n",
       "       [2.35217086e-02, 9.76478291e-01],\n",
       "       [8.13271338e-06, 9.99991867e-01],\n",
       "       [9.99572336e-01, 4.27663645e-04]])"
      ]
     },
     "execution_count": 14,
     "metadata": {},
     "output_type": "execute_result"
    }
   ],
   "source": [
    "model_lor.predict_proba(X)"
   ]
  },
  {
   "cell_type": "code",
   "execution_count": 15,
   "id": "e7db30c7",
   "metadata": {},
   "outputs": [
    {
     "name": "stdout",
     "output_type": "stream",
     "text": [
      "[[267  90]\n",
      " [  6 206]]\n"
     ]
    },
    {
     "name": "stderr",
     "output_type": "stream",
     "text": [
      "/var/folders/tl/3mcdykwx5g145dz_cpc1vdxc0000gn/T/ipykernel_11410/4247337749.py:2: DeprecationWarning: `np.int` is a deprecated alias for the builtin `int`. To silence this warning, use `int` by itself. Doing this will not modify any behavior and is safe. When replacing `np.int`, you may wish to use e.g. `np.int64` or `np.int32` to specify the precision. If you wish to review your current use, check the release note link for additional information.\n",
      "Deprecated in NumPy 1.20; for more details and guidance: https://numpy.org/devdocs/release/1.20.0-notes.html#deprecations\n",
      "  y_pred2 = (model_lor.predict_proba(X)[:, 1] > 0.1).astype(np.int)\n"
     ]
    }
   ],
   "source": [
    "import numpy as np\n",
    "y_pred2 = (model_lor.predict_proba(X)[:, 1] > 0.1).astype(np.int)\n",
    "print(confusion_matrix(y, y_pred2))"
   ]
  },
  {
   "cell_type": "code",
   "execution_count": 16,
   "id": "de62706d",
   "metadata": {},
   "outputs": [
    {
     "name": "stdout",
     "output_type": "stream",
     "text": [
      "0.8312829525483304\n"
     ]
    }
   ],
   "source": [
    "print(accuracy_score(y,y_pred2))"
   ]
  },
  {
   "cell_type": "code",
   "execution_count": 17,
   "id": "8ff23ab5",
   "metadata": {},
   "outputs": [
    {
     "name": "stdout",
     "output_type": "stream",
     "text": [
      "0.8584905660377359\n"
     ]
    }
   ],
   "source": [
    "print(recall_score(y,y_pred))"
   ]
  },
  {
   "cell_type": "code",
   "execution_count": 18,
   "id": "0f9b2480",
   "metadata": {},
   "outputs": [],
   "source": [
    "from sklearn.metrics import roc_curve\n",
    "probas = model_lor.predict_proba(X)\n",
    "fpr, tpr, thresholds = roc_curve(y, probas[:,1])"
   ]
  },
  {
   "cell_type": "code",
   "execution_count": 21,
   "id": "5fd917e8",
   "metadata": {},
   "outputs": [
    {
     "data": {
      "image/png": "[encoded data removed]",
      "text/plain": [
       "<Figure size 345.6x360 with 1 Axes>"
      ]
     },
     "metadata": {},
     "output_type": "display_data"
    }
   ],
   "source": [
    "import matplotlib.pyplot as plt\n",
    "plt.style.use('fivethirtyeight')\n",
    "\n",
    "fig, ax = plt.subplots()\n",
    "fig.set_size_inches(4.8,5)\n",
    "\n",
    "ax.step(fpr, tpr, 'gray')\n",
    "ax.fill_between(fpr, tpr, 0, color = 'skyblue', alpha = 0.8)\n",
    "ax.set_xlabel('False Positive Rate')\n",
    "ax.set_ylabel('True Positive Rate')\n",
    "ax.set_facecolor('xkcd:white')\n",
    "plt.show()"
   ]
  },
  {
   "cell_type": "code",
   "execution_count": 22,
   "id": "1d0b6ce9",
   "metadata": {},
   "outputs": [
    {
     "data": {
      "text/plain": [
       "0.9741557000158554"
      ]
     },
     "execution_count": 22,
     "metadata": {},
     "output_type": "execute_result"
    }
   ],
   "source": [
    "from sklearn.metrics import roc_auc_score\n",
    "roc_auc_score(y, probas[:, 1])"
   ]
  },
  {
   "cell_type": "code",
   "execution_count": 23,
   "id": "d4e6212d",
   "metadata": {},
   "outputs": [
    {
     "name": "stderr",
     "output_type": "stream",
     "text": [
      "/Users/kazuyaaoki/.pyenv/versions/3.10.3/lib/python3.10/site-packages/sklearn/utils/deprecation.py:87: FutureWarning: Function load_boston is deprecated; `load_boston` is deprecated in 1.0 and will be removed in 1.2.\n",
      "\n",
      "    The Boston housing prices dataset has an ethical problem. You can refer to\n",
      "    the documentation of this function for further details.\n",
      "\n",
      "    The scikit-learn maintainers therefore strongly discourage the use of this\n",
      "    dataset unless the purpose of the code is to study and educate about\n",
      "    ethical issues in data science and machine learning.\n",
      "\n",
      "    In this special case, you can fetch the dataset from the original\n",
      "    source::\n",
      "\n",
      "        import pandas as pd\n",
      "        import numpy as np\n",
      "\n",
      "\n",
      "        data_url = \"http://lib.stat.cmu.edu/datasets/boston\"\n",
      "        raw_df = pd.read_csv(data_url, sep=\"\\s+\", skiprows=22, header=None)\n",
      "        data = np.hstack([raw_df.values[::2, :], raw_df.values[1::2, :2]])\n",
      "        target = raw_df.values[1::2, 2]\n",
      "\n",
      "    Alternative datasets include the California housing dataset (i.e.\n",
      "    :func:`~sklearn.datasets.fetch_california_housing`) and the Ames housing\n",
      "    dataset. You can load the datasets as follows::\n",
      "\n",
      "        from sklearn.datasets import fetch_california_housing\n",
      "        housing = fetch_california_housing()\n",
      "\n",
      "    for the California housing dataset and::\n",
      "\n",
      "        from sklearn.datasets import fetch_openml\n",
      "        housing = fetch_openml(name=\"house_prices\", as_frame=True)\n",
      "\n",
      "    for the Ames housing dataset.\n",
      "    \n",
      "  warnings.warn(msg, category=FutureWarning)\n"
     ]
    }
   ],
   "source": [
    "from sklearn.datasets import load_boston\n",
    "data = load_boston()\n",
    "X = data.data[:, [5,]]\n",
    "y = data.target\n"
   ]
  },
  {
   "cell_type": "code",
   "execution_count": 24,
   "id": "c675c269",
   "metadata": {},
   "outputs": [
    {
     "data": {
      "text/plain": [
       "array([[6.575],\n",
       "       [6.421],\n",
       "       [7.185],\n",
       "       [6.998],\n",
       "       [7.147],\n",
       "       [6.43 ],\n",
       "       [6.012],\n",
       "       [6.172],\n",
       "       [5.631],\n",
       "       [6.004],\n",
       "       [6.377],\n",
       "       [6.009],\n",
       "       [5.889],\n",
       "       [5.949],\n",
       "       [6.096],\n",
       "       [5.834],\n",
       "       [5.935],\n",
       "       [5.99 ],\n",
       "       [5.456],\n",
       "       [5.727],\n",
       "       [5.57 ],\n",
       "       [5.965],\n",
       "       [6.142],\n",
       "       [5.813],\n",
       "       [5.924],\n",
       "       [5.599],\n",
       "       [5.813],\n",
       "       [6.047],\n",
       "       [6.495],\n",
       "       [6.674],\n",
       "       [5.713],\n",
       "       [6.072],\n",
       "       [5.95 ],\n",
       "       [5.701],\n",
       "       [6.096],\n",
       "       [5.933],\n",
       "       [5.841],\n",
       "       [5.85 ],\n",
       "       [5.966],\n",
       "       [6.595],\n",
       "       [7.024],\n",
       "       [6.77 ],\n",
       "       [6.169],\n",
       "       [6.211],\n",
       "       [6.069],\n",
       "       [5.682],\n",
       "       [5.786],\n",
       "       [6.03 ],\n",
       "       [5.399],\n",
       "       [5.602],\n",
       "       [5.963],\n",
       "       [6.115],\n",
       "       [6.511],\n",
       "       [5.998],\n",
       "       [5.888],\n",
       "       [7.249],\n",
       "       [6.383],\n",
       "       [6.816],\n",
       "       [6.145],\n",
       "       [5.927],\n",
       "       [5.741],\n",
       "       [5.966],\n",
       "       [6.456],\n",
       "       [6.762],\n",
       "       [7.104],\n",
       "       [6.29 ],\n",
       "       [5.787],\n",
       "       [5.878],\n",
       "       [5.594],\n",
       "       [5.885],\n",
       "       [6.417],\n",
       "       [5.961],\n",
       "       [6.065],\n",
       "       [6.245],\n",
       "       [6.273],\n",
       "       [6.286],\n",
       "       [6.279],\n",
       "       [6.14 ],\n",
       "       [6.232],\n",
       "       [5.874],\n",
       "       [6.727],\n",
       "       [6.619],\n",
       "       [6.302],\n",
       "       [6.167],\n",
       "       [6.389],\n",
       "       [6.63 ],\n",
       "       [6.015],\n",
       "       [6.121],\n",
       "       [7.007],\n",
       "       [7.079],\n",
       "       [6.417],\n",
       "       [6.405],\n",
       "       [6.442],\n",
       "       [6.211],\n",
       "       [6.249],\n",
       "       [6.625],\n",
       "       [6.163],\n",
       "       [8.069],\n",
       "       [7.82 ],\n",
       "       [7.416],\n",
       "       [6.727],\n",
       "       [6.781],\n",
       "       [6.405],\n",
       "       [6.137],\n",
       "       [6.167],\n",
       "       [5.851],\n",
       "       [5.836],\n",
       "       [6.127],\n",
       "       [6.474],\n",
       "       [6.229],\n",
       "       [6.195],\n",
       "       [6.715],\n",
       "       [5.913],\n",
       "       [6.092],\n",
       "       [6.254],\n",
       "       [5.928],\n",
       "       [6.176],\n",
       "       [6.021],\n",
       "       [5.872],\n",
       "       [5.731],\n",
       "       [5.87 ],\n",
       "       [6.004],\n",
       "       [5.961],\n",
       "       [5.856],\n",
       "       [5.879],\n",
       "       [5.986],\n",
       "       [5.613],\n",
       "       [5.693],\n",
       "       [6.431],\n",
       "       [5.637],\n",
       "       [6.458],\n",
       "       [6.326],\n",
       "       [6.372],\n",
       "       [5.822],\n",
       "       [5.757],\n",
       "       [6.335],\n",
       "       [5.942],\n",
       "       [6.454],\n",
       "       [5.857],\n",
       "       [6.151],\n",
       "       [6.174],\n",
       "       [5.019],\n",
       "       [5.403],\n",
       "       [5.468],\n",
       "       [4.903],\n",
       "       [6.13 ],\n",
       "       [5.628],\n",
       "       [4.926],\n",
       "       [5.186],\n",
       "       [5.597],\n",
       "       [6.122],\n",
       "       [5.404],\n",
       "       [5.012],\n",
       "       [5.709],\n",
       "       [6.129],\n",
       "       [6.152],\n",
       "       [5.272],\n",
       "       [6.943],\n",
       "       [6.066],\n",
       "       [6.51 ],\n",
       "       [6.25 ],\n",
       "       [7.489],\n",
       "       [7.802],\n",
       "       [8.375],\n",
       "       [5.854],\n",
       "       [6.101],\n",
       "       [7.929],\n",
       "       [5.877],\n",
       "       [6.319],\n",
       "       [6.402],\n",
       "       [5.875],\n",
       "       [5.88 ],\n",
       "       [5.572],\n",
       "       [6.416],\n",
       "       [5.859],\n",
       "       [6.546],\n",
       "       [6.02 ],\n",
       "       [6.315],\n",
       "       [6.86 ],\n",
       "       [6.98 ],\n",
       "       [7.765],\n",
       "       [6.144],\n",
       "       [7.155],\n",
       "       [6.563],\n",
       "       [5.604],\n",
       "       [6.153],\n",
       "       [7.831],\n",
       "       [6.782],\n",
       "       [6.556],\n",
       "       [7.185],\n",
       "       [6.951],\n",
       "       [6.739],\n",
       "       [7.178],\n",
       "       [6.8  ],\n",
       "       [6.604],\n",
       "       [7.875],\n",
       "       [7.287],\n",
       "       [7.107],\n",
       "       [7.274],\n",
       "       [6.975],\n",
       "       [7.135],\n",
       "       [6.162],\n",
       "       [7.61 ],\n",
       "       [7.853],\n",
       "       [8.034],\n",
       "       [5.891],\n",
       "       [6.326],\n",
       "       [5.783],\n",
       "       [6.064],\n",
       "       [5.344],\n",
       "       [5.96 ],\n",
       "       [5.404],\n",
       "       [5.807],\n",
       "       [6.375],\n",
       "       [5.412],\n",
       "       [6.182],\n",
       "       [5.888],\n",
       "       [6.642],\n",
       "       [5.951],\n",
       "       [6.373],\n",
       "       [6.951],\n",
       "       [6.164],\n",
       "       [6.879],\n",
       "       [6.618],\n",
       "       [8.266],\n",
       "       [8.725],\n",
       "       [8.04 ],\n",
       "       [7.163],\n",
       "       [7.686],\n",
       "       [6.552],\n",
       "       [5.981],\n",
       "       [7.412],\n",
       "       [8.337],\n",
       "       [8.247],\n",
       "       [6.726],\n",
       "       [6.086],\n",
       "       [6.631],\n",
       "       [7.358],\n",
       "       [6.481],\n",
       "       [6.606],\n",
       "       [6.897],\n",
       "       [6.095],\n",
       "       [6.358],\n",
       "       [6.393],\n",
       "       [5.593],\n",
       "       [5.605],\n",
       "       [6.108],\n",
       "       [6.226],\n",
       "       [6.433],\n",
       "       [6.718],\n",
       "       [6.487],\n",
       "       [6.438],\n",
       "       [6.957],\n",
       "       [8.259],\n",
       "       [6.108],\n",
       "       [5.876],\n",
       "       [7.454],\n",
       "       [8.704],\n",
       "       [7.333],\n",
       "       [6.842],\n",
       "       [7.203],\n",
       "       [7.52 ],\n",
       "       [8.398],\n",
       "       [7.327],\n",
       "       [7.206],\n",
       "       [5.56 ],\n",
       "       [7.014],\n",
       "       [8.297],\n",
       "       [7.47 ],\n",
       "       [5.92 ],\n",
       "       [5.856],\n",
       "       [6.24 ],\n",
       "       [6.538],\n",
       "       [7.691],\n",
       "       [6.758],\n",
       "       [6.854],\n",
       "       [7.267],\n",
       "       [6.826],\n",
       "       [6.482],\n",
       "       [6.812],\n",
       "       [7.82 ],\n",
       "       [6.968],\n",
       "       [7.645],\n",
       "       [7.923],\n",
       "       [7.088],\n",
       "       [6.453],\n",
       "       [6.23 ],\n",
       "       [6.209],\n",
       "       [6.315],\n",
       "       [6.565],\n",
       "       [6.861],\n",
       "       [7.148],\n",
       "       [6.63 ],\n",
       "       [6.127],\n",
       "       [6.009],\n",
       "       [6.678],\n",
       "       [6.549],\n",
       "       [5.79 ],\n",
       "       [6.345],\n",
       "       [7.041],\n",
       "       [6.871],\n",
       "       [6.59 ],\n",
       "       [6.495],\n",
       "       [6.982],\n",
       "       [7.236],\n",
       "       [6.616],\n",
       "       [7.42 ],\n",
       "       [6.849],\n",
       "       [6.635],\n",
       "       [5.972],\n",
       "       [4.973],\n",
       "       [6.122],\n",
       "       [6.023],\n",
       "       [6.266],\n",
       "       [6.567],\n",
       "       [5.705],\n",
       "       [5.914],\n",
       "       [5.782],\n",
       "       [6.382],\n",
       "       [6.113],\n",
       "       [6.426],\n",
       "       [6.376],\n",
       "       [6.041],\n",
       "       [5.708],\n",
       "       [6.415],\n",
       "       [6.431],\n",
       "       [6.312],\n",
       "       [6.083],\n",
       "       [5.868],\n",
       "       [6.333],\n",
       "       [6.144],\n",
       "       [5.706],\n",
       "       [6.031],\n",
       "       [6.316],\n",
       "       [6.31 ],\n",
       "       [6.037],\n",
       "       [5.869],\n",
       "       [5.895],\n",
       "       [6.059],\n",
       "       [5.985],\n",
       "       [5.968],\n",
       "       [7.241],\n",
       "       [6.54 ],\n",
       "       [6.696],\n",
       "       [6.874],\n",
       "       [6.014],\n",
       "       [5.898],\n",
       "       [6.516],\n",
       "       [6.635],\n",
       "       [6.939],\n",
       "       [6.49 ],\n",
       "       [6.579],\n",
       "       [5.884],\n",
       "       [6.728],\n",
       "       [5.663],\n",
       "       [5.936],\n",
       "       [6.212],\n",
       "       [6.395],\n",
       "       [6.127],\n",
       "       [6.112],\n",
       "       [6.398],\n",
       "       [6.251],\n",
       "       [5.362],\n",
       "       [5.803],\n",
       "       [8.78 ],\n",
       "       [3.561],\n",
       "       [4.963],\n",
       "       [3.863],\n",
       "       [4.97 ],\n",
       "       [6.683],\n",
       "       [7.016],\n",
       "       [6.216],\n",
       "       [5.875],\n",
       "       [4.906],\n",
       "       [4.138],\n",
       "       [7.313],\n",
       "       [6.649],\n",
       "       [6.794],\n",
       "       [6.38 ],\n",
       "       [6.223],\n",
       "       [6.968],\n",
       "       [6.545],\n",
       "       [5.536],\n",
       "       [5.52 ],\n",
       "       [4.368],\n",
       "       [5.277],\n",
       "       [4.652],\n",
       "       [5.   ],\n",
       "       [4.88 ],\n",
       "       [5.39 ],\n",
       "       [5.713],\n",
       "       [6.051],\n",
       "       [5.036],\n",
       "       [6.193],\n",
       "       [5.887],\n",
       "       [6.471],\n",
       "       [6.405],\n",
       "       [5.747],\n",
       "       [5.453],\n",
       "       [5.852],\n",
       "       [5.987],\n",
       "       [6.343],\n",
       "       [6.404],\n",
       "       [5.349],\n",
       "       [5.531],\n",
       "       [5.683],\n",
       "       [4.138],\n",
       "       [5.608],\n",
       "       [5.617],\n",
       "       [6.852],\n",
       "       [5.757],\n",
       "       [6.657],\n",
       "       [4.628],\n",
       "       [5.155],\n",
       "       [4.519],\n",
       "       [6.434],\n",
       "       [6.782],\n",
       "       [5.304],\n",
       "       [5.957],\n",
       "       [6.824],\n",
       "       [6.411],\n",
       "       [6.006],\n",
       "       [5.648],\n",
       "       [6.103],\n",
       "       [5.565],\n",
       "       [5.896],\n",
       "       [5.837],\n",
       "       [6.202],\n",
       "       [6.193],\n",
       "       [6.38 ],\n",
       "       [6.348],\n",
       "       [6.833],\n",
       "       [6.425],\n",
       "       [6.436],\n",
       "       [6.208],\n",
       "       [6.629],\n",
       "       [6.461],\n",
       "       [6.152],\n",
       "       [5.935],\n",
       "       [5.627],\n",
       "       [5.818],\n",
       "       [6.406],\n",
       "       [6.219],\n",
       "       [6.485],\n",
       "       [5.854],\n",
       "       [6.459],\n",
       "       [6.341],\n",
       "       [6.251],\n",
       "       [6.185],\n",
       "       [6.417],\n",
       "       [6.749],\n",
       "       [6.655],\n",
       "       [6.297],\n",
       "       [7.393],\n",
       "       [6.728],\n",
       "       [6.525],\n",
       "       [5.976],\n",
       "       [5.936],\n",
       "       [6.301],\n",
       "       [6.081],\n",
       "       [6.701],\n",
       "       [6.376],\n",
       "       [6.317],\n",
       "       [6.513],\n",
       "       [6.209],\n",
       "       [5.759],\n",
       "       [5.952],\n",
       "       [6.003],\n",
       "       [5.926],\n",
       "       [5.713],\n",
       "       [6.167],\n",
       "       [6.229],\n",
       "       [6.437],\n",
       "       [6.98 ],\n",
       "       [5.427],\n",
       "       [6.162],\n",
       "       [6.484],\n",
       "       [5.304],\n",
       "       [6.185],\n",
       "       [6.229],\n",
       "       [6.242],\n",
       "       [6.75 ],\n",
       "       [7.061],\n",
       "       [5.762],\n",
       "       [5.871],\n",
       "       [6.312],\n",
       "       [6.114],\n",
       "       [5.905],\n",
       "       [5.454],\n",
       "       [5.414],\n",
       "       [5.093],\n",
       "       [5.983],\n",
       "       [5.983],\n",
       "       [5.707],\n",
       "       [5.926],\n",
       "       [5.67 ],\n",
       "       [5.39 ],\n",
       "       [5.794],\n",
       "       [6.019],\n",
       "       [5.569],\n",
       "       [6.027],\n",
       "       [6.593],\n",
       "       [6.12 ],\n",
       "       [6.976],\n",
       "       [6.794],\n",
       "       [6.03 ]])"
      ]
     },
     "execution_count": 24,
     "metadata": {},
     "output_type": "execute_result"
    }
   ],
   "source": [
    "X"
   ]
  },
  {
   "cell_type": "code",
   "execution_count": 26,
   "id": "e90076f0",
   "metadata": {},
   "outputs": [],
   "source": [
    "from sklearn.linear_model import LinearRegression\n",
    "model_lir = LinearRegression()\n",
    "model_lir.fit(X, y)\n",
    "y_pred  = model_lir.predict(X)"
   ]
  },
  {
   "cell_type": "code",
   "execution_count": 27,
   "id": "346716f2",
   "metadata": {},
   "outputs": [
    {
     "data": {
      "image/png": "[encoded data removed]",
      "text/plain": [
       "<Figure size 432x288 with 1 Axes>"
      ]
     },
     "metadata": {},
     "output_type": "display_data"
    }
   ],
   "source": [
    "fig, ax = plt.subplots()\n",
    "ax.scatter(X, y, color = 'pink', marker = 's',label = 'data set')\n",
    "ax.plot(X, y_pred, color = 'blue', label = 'regression curve')\n",
    "ax.legend()\n",
    "plt.show()"
   ]
  },
  {
   "cell_type": "code",
   "execution_count": 28,
   "id": "9418da4a",
   "metadata": {},
   "outputs": [
    {
     "data": {
      "text/plain": [
       "43.60055177116956"
      ]
     },
     "execution_count": 28,
     "metadata": {},
     "output_type": "execute_result"
    }
   ],
   "source": [
    "from sklearn.metrics import mean_squared_error\n",
    "mean_squared_error(y, y_pred)"
   ]
  },
  {
   "cell_type": "code",
   "execution_count": 40,
   "id": "3ae45155",
   "metadata": {},
   "outputs": [],
   "source": [
    "mean_ave = sum( (y - y.mean())**2 )/len(y)"
   ]
  },
  {
   "cell_type": "code",
   "execution_count": 39,
   "id": "b101d435",
   "metadata": {},
   "outputs": [
    {
     "data": {
      "text/plain": [
       "array([  1.46719368,  -0.93280632,  12.16719368,  10.86719368,\n",
       "        13.66719368,   6.16719368,   0.36719368,   4.56719368,\n",
       "        -6.03280632,  -3.63280632,  -7.53280632,  -3.63280632,\n",
       "        -0.83280632,  -2.13280632,  -4.33280632,  -2.63280632,\n",
       "         0.56719368,  -5.03280632,  -2.33280632,  -4.33280632,\n",
       "        -8.93280632,  -2.93280632,  -7.33280632,  -8.03280632,\n",
       "        -6.93280632,  -8.63280632,  -5.93280632,  -7.73280632,\n",
       "        -4.13280632,  -1.53280632,  -9.83280632,  -8.03280632,\n",
       "        -9.33280632,  -9.43280632,  -9.03280632,  -3.63280632,\n",
       "        -2.53280632,  -1.53280632,   2.16719368,   8.26719368,\n",
       "        12.36719368,   4.06719368,   2.76719368,   2.16719368,\n",
       "        -1.33280632,  -3.23280632,  -2.53280632,  -5.93280632,\n",
       "        -8.13280632,  -3.13280632,  -2.83280632,  -2.03280632,\n",
       "         2.46719368,   0.86719368,  -3.63280632,  12.86719368,\n",
       "         2.16719368,   9.06719368,   0.76719368,  -2.93280632,\n",
       "        -3.83280632,  -6.53280632,  -0.33280632,   2.46719368,\n",
       "        10.46719368,   0.96719368,  -3.13280632,  -0.53280632,\n",
       "        -5.13280632,  -1.63280632,   1.66719368,  -0.83280632,\n",
       "         0.26719368,   0.86719368,   1.56719368,  -1.13280632,\n",
       "        -2.53280632,  -1.73280632,  -1.33280632,  -2.23280632,\n",
       "         5.46719368,   1.36719368,   2.26719368,   0.36719368,\n",
       "         1.36719368,   4.06719368,  -0.03280632,  -0.33280632,\n",
       "         1.06719368,   6.16719368,   0.06719368,  -0.53280632,\n",
       "         0.36719368,   2.46719368,  -1.93280632,   5.86719368,\n",
       "        -1.13280632,  16.16719368,  21.26719368,  10.66719368,\n",
       "         4.96719368,   3.96719368,  -3.93280632,  -3.23280632,\n",
       "        -2.43280632,  -3.03280632,  -3.03280632,  -2.13280632,\n",
       "        -2.73280632,  -3.13280632,  -0.83280632,   0.26719368,\n",
       "        -3.73280632,  -3.83280632,  -4.03280632,  -4.23280632,\n",
       "        -1.33280632,  -3.33280632,  -2.13280632,  -3.23280632,\n",
       "        -0.53280632,  -2.23280632,  -2.03280632,  -5.23280632,\n",
       "        -3.73280632,  -1.13280632,  -6.83280632,  -6.33280632,\n",
       "        -4.53280632,  -8.23280632,  -3.33280632,  -2.93280632,\n",
       "         0.46719368,  -4.13280632,  -6.93280632,  -4.43280632,\n",
       "        -5.13280632,  -5.43280632,  -9.23280632,  -4.73280632,\n",
       "        -8.53280632,  -8.13280632,  -9.13280632,  -6.93280632,\n",
       "       -10.73280632,  -8.73280632,  -6.93280632,  -7.93280632,\n",
       "        -4.73280632,  -7.13280632,  -1.03280632,  -2.93280632,\n",
       "        -7.23280632,  -3.13280632,  -5.53280632,  -6.93280632,\n",
       "        -9.43280632,  18.76719368,   1.76719368,   0.76719368,\n",
       "         4.46719368,  27.46719368,  27.46719368,  27.46719368,\n",
       "         0.16719368,   2.46719368,  27.46719368,   1.26719368,\n",
       "         1.26719368,  -0.23280632,  -5.13280632,  -3.43280632,\n",
       "         0.56719368,   1.06719368,   0.06719368,   6.86719368,\n",
       "         0.66719368,   2.06719368,   7.36719368,  14.66719368,\n",
       "        17.26719368,  13.66719368,  15.36719368,   9.96719368,\n",
       "         3.86719368,   7.06719368,  27.46719368,   9.46719368,\n",
       "         7.26719368,  12.36719368,  14.46719368,   7.96719368,\n",
       "        13.86719368,   8.56719368,   6.56719368,  27.46719368,\n",
       "        10.76719368,   7.76719368,  12.06719368,  12.36719368,\n",
       "        10.36719368,   1.56719368,  19.76719368,  25.96719368,\n",
       "        27.46719368,   0.06719368,   1.86719368,  -0.03280632,\n",
       "         1.86719368,  -2.53280632,  -0.83280632,  -3.23280632,\n",
       "        -0.13280632,   5.56719368,   1.16719368,   2.46719368,\n",
       "         0.76719368,   6.16719368,  -1.03280632,   0.46719368,\n",
       "         4.16719368,  -0.83280632,   4.96719368,   7.56719368,\n",
       "        22.26719368,  27.46719368,  15.06719368,   9.06719368,\n",
       "        24.16719368,   8.96719368,   1.76719368,   9.16719368,\n",
       "        19.16719368,  25.76719368,   6.46719368,   1.46719368,\n",
       "         2.56719368,   8.96719368,   1.16719368,   0.76719368,\n",
       "        -0.53280632,  -2.43280632,  -0.33280632,   1.16719368,\n",
       "        -4.93280632,  -4.03280632,   1.76719368,  -2.03280632,\n",
       "         1.96719368,   3.66719368,   1.86719368,   2.26719368,\n",
       "         7.06719368,  20.26719368,  -0.63280632,  -1.63280632,\n",
       "        21.46719368,  27.46719368,  13.46719368,   7.56719368,\n",
       "        11.26719368,  20.56719368,  26.26719368,   8.46719368,\n",
       "        13.96719368,   0.26719368,   8.16719368,  27.46719368,\n",
       "        20.96719368,  -1.83280632,  -1.43280632,   2.66719368,\n",
       "         1.86719368,  12.66719368,   9.86719368,   9.46719368,\n",
       "        10.66719368,  10.56719368,   6.56719368,  12.56719368,\n",
       "        22.86719368,  12.86719368,  23.46719368,  27.46719368,\n",
       "         9.66719368,  -0.53280632,  -2.43280632,   0.66719368,\n",
       "        -0.23280632,   2.26719368,   5.96719368,  14.76719368,\n",
       "         5.36719368,   1.36719368,  -0.83280632,   6.06719368,\n",
       "         4.56719368,  -2.23280632,  -0.03280632,   6.46719368,\n",
       "         2.26719368,  -0.53280632,   3.86719368,  10.56719368,\n",
       "        13.56719368,   5.86719368,  10.86719368,   5.66719368,\n",
       "         0.26719368,  -2.23280632,  -6.43280632,  -0.43280632,\n",
       "        -3.13280632,  -0.93280632,   1.26719368,  -6.33280632,\n",
       "        -4.73280632,  -2.73280632,   0.56719368,  -1.53280632,\n",
       "         1.26719368,   0.56719368,  -2.13280632,  -4.03280632,\n",
       "         2.46719368,   2.06719368,   0.46719368,  -0.33280632,\n",
       "        -3.23280632,   0.06719368,  -2.73280632,  -5.43280632,\n",
       "        -3.13280632,  -0.33280632,  -1.83280632,  -1.43280632,\n",
       "        -3.03280632,  -4.03280632,  -1.93280632,  -3.53280632,\n",
       "        -3.83280632,  10.16719368,  -6.03280632,   1.36719368,\n",
       "         8.66719368,  -5.03280632,  -5.33280632,   0.56719368,\n",
       "         1.96719368,   4.06719368,   0.36719368,   1.56719368,\n",
       "        -3.93280632,   7.56719368,  -4.33280632,  -1.93280632,\n",
       "        -4.73280632,  -0.83280632,   0.16719368,   0.06719368,\n",
       "         2.46719368,  -2.63280632,  -1.73280632,  -5.73280632,\n",
       "        -0.63280632,   4.96719368,  -0.63280632,   0.56719368,\n",
       "        27.46719368,  27.46719368,  27.46719368,  27.46719368,\n",
       "        27.46719368,  -8.73280632,  -8.73280632,  -7.53280632,\n",
       "        -8.63280632,  -9.23280632,  -9.43280632, -12.33280632,\n",
       "       -12.13280632, -11.63280632, -11.23280632, -10.23280632,\n",
       "       -13.73280632, -15.33280632, -12.03280632, -15.13280632,\n",
       "       -12.33280632, -11.03280632,  -7.43280632,   0.66719368,\n",
       "       -12.83280632,  -8.73280632,  -9.83280632,  -9.43280632,\n",
       "       -10.03280632, -14.03280632, -17.53280632, -16.23280632,\n",
       "       -16.93280632, -15.33280632, -10.43280632, -14.23280632,\n",
       "       -14.03280632, -17.53280632, -10.63280632,   5.36719368,\n",
       "        -5.33280632,   4.96719368,  -7.53280632,  -5.33280632,\n",
       "        -4.63280632,  -6.23280632, -15.53280632, -15.33280632,\n",
       "       -15.03280632, -12.13280632, -13.73280632, -14.13280632,\n",
       "        -5.83280632,  -8.33280632,  -1.73280632,  -9.13280632,\n",
       "       -10.83280632, -14.23280632, -12.33280632, -11.63280632,\n",
       "       -11.53280632, -13.03280632,  -8.03280632,  -8.43280632,\n",
       "        -6.43280632,  -8.23280632, -10.83280632,  -9.13280632,\n",
       "       -12.93280632, -13.83280632, -14.13280632,  -9.73280632,\n",
       "       -12.03280632,  -5.43280632,  -4.13280632,  -7.13280632,\n",
       "       -11.73280632, -10.73280632,  -7.63280632,  -9.93280632,\n",
       "        -8.43280632,  -9.53280632,  -9.13280632,  -7.33280632,\n",
       "        -6.43280632,  -4.73280632,  -7.63280632,  -8.43280632,\n",
       "        -9.83280632,  -9.03280632,  -7.63280632,  -2.53280632,\n",
       "        -6.13280632,  -4.83280632,  -3.03280632,  -2.33280632,\n",
       "        -1.13280632,  -2.63280632,  -3.53280632,  -3.43280632,\n",
       "        -3.43280632,  -2.43280632,  -2.63280632,  -2.93280632,\n",
       "         0.66719368,   7.26719368,  -8.73280632,  -9.23280632,\n",
       "        -5.83280632, -10.53280632,  -7.93280632,  -1.13280632,\n",
       "         0.46719368,   1.16719368,   2.46719368,  -0.73280632,\n",
       "        -1.93280632,  -1.33280632,  -3.43280632,  -1.93280632,\n",
       "        -7.33280632, -15.53280632, -14.43280632,  -8.93280632,\n",
       "        -2.43280632,  -0.73280632,   1.96719368,   0.56719368,\n",
       "        -2.83280632,  -4.23280632,  -1.33280632,  -5.03280632,\n",
       "        -5.73280632,  -0.13280632,  -1.93280632,   1.36719368,\n",
       "        -0.53280632, -10.63280632])"
      ]
     },
     "execution_count": 39,
     "metadata": {},
     "output_type": "execute_result"
    }
   ],
   "source": [
    "y_ave = y- y.mean()\n",
    "y_ave"
   ]
  },
  {
   "cell_type": "code",
   "execution_count": 41,
   "id": "c9031a5a",
   "metadata": {},
   "outputs": [
    {
     "data": {
      "text/plain": [
       "0.48352545599133456"
      ]
     },
     "execution_count": 41,
     "metadata": {},
     "output_type": "execute_result"
    }
   ],
   "source": [
    "1 - (mean_squared_error(y, y_pred)/mean_ave)"
   ]
  },
  {
   "cell_type": "code",
   "execution_count": 36,
   "id": "150b2d82",
   "metadata": {},
   "outputs": [],
   "source": [
    "from sklearn.metrics import r2_score"
   ]
  },
  {
   "cell_type": "code",
   "execution_count": 37,
   "id": "4ed19836",
   "metadata": {},
   "outputs": [
    {
     "data": {
      "text/plain": [
       "0.48352545599133423"
      ]
     },
     "execution_count": 37,
     "metadata": {},
     "output_type": "execute_result"
    }
   ],
   "source": [
    "r2_score(y, y_pred)"
   ]
  },
  {
   "cell_type": "code",
   "execution_count": 42,
   "id": "2de4ae02",
   "metadata": {},
   "outputs": [
    {
     "data": {
      "text/plain": [
       "SVR(C=0.01, kernel='linear')"
      ]
     },
     "execution_count": 42,
     "metadata": {},
     "output_type": "execute_result"
    }
   ],
   "source": [
    "from sklearn.svm import SVR\n",
    "model_svr_linear = SVR(C = 0.01, kernel = 'linear')\n",
    "model_svr_linear.fit(X, y)"
   ]
  },
  {
   "cell_type": "code",
   "execution_count": 43,
   "id": "71a8928a",
   "metadata": {},
   "outputs": [],
   "source": [
    "y_svr_pred = model_svr_linear.predict(X)"
   ]
  },
  {
   "cell_type": "code",
   "execution_count": 44,
   "id": "e12599fb",
   "metadata": {},
   "outputs": [
    {
     "data": {
      "image/png": "[encoded data removed]",
      "text/plain": [
       "<Figure size 432x288 with 1 Axes>"
      ]
     },
     "metadata": {},
     "output_type": "display_data"
    }
   ],
   "source": [
    "fig, ax = plt.subplots()\n",
    "ax.scatter(X, y, color = 'pink', marker = 's', label = 'data set')\n",
    "ax.plot(X, y_pred, color = 'blue', label = 'regression curve')\n",
    "ax.plot(X, y_svr_pred, color = 'red', label = 'SVR')\n",
    "ax.legend()\n",
    "plt.show()"
   ]
  },
  {
   "cell_type": "code",
   "execution_count": 45,
   "id": "29033c3e",
   "metadata": {},
   "outputs": [
    {
     "name": "stdout",
     "output_type": "stream",
     "text": [
      "72.14197118147209\n"
     ]
    }
   ],
   "source": [
    "print(mean_squared_error(y,y_svr_pred))"
   ]
  },
  {
   "cell_type": "code",
   "execution_count": 46,
   "id": "9d967908",
   "metadata": {},
   "outputs": [
    {
     "name": "stdout",
     "output_type": "stream",
     "text": [
      "0.14543531775956597\n"
     ]
    }
   ],
   "source": [
    "print(r2_score(y, y_svr_pred))"
   ]
  },
  {
   "cell_type": "code",
   "execution_count": 47,
   "id": "cfdd1d3c",
   "metadata": {},
   "outputs": [
    {
     "name": "stdout",
     "output_type": "stream",
     "text": [
      "[[1.64398]]\n"
     ]
    }
   ],
   "source": [
    "print(model_svr_linear.coef_)"
   ]
  },
  {
   "cell_type": "code",
   "execution_count": 48,
   "id": "eb2362f9",
   "metadata": {},
   "outputs": [
    {
     "name": "stdout",
     "output_type": "stream",
     "text": [
      "[11.13520958]\n"
     ]
    }
   ],
   "source": [
    "print(model_svr_linear.intercept_)"
   ]
  },
  {
   "cell_type": "code",
   "execution_count": 49,
   "id": "0bb4ec25",
   "metadata": {},
   "outputs": [
    {
     "name": "stdout",
     "output_type": "stream",
     "text": [
      "37.40032481992347\n"
     ]
    }
   ],
   "source": [
    "model_svr_rbf = SVR(C= 1, kernel = 'rbf')\n",
    "model_svr_rbf.fit(X, y)\n",
    "y_svr_pred = model_svr_rbf.predict(X)\n",
    "print(mean_squared_error(y, y_svr_pred))"
   ]
  },
  {
   "cell_type": "code",
   "execution_count": 52,
   "id": "9fbc7b21",
   "metadata": {},
   "outputs": [
    {
     "name": "stdout",
     "output_type": "stream",
     "text": [
      "0.5569708427424378\n"
     ]
    }
   ],
   "source": [
    "print(r2_score(y, y_svr_pred))"
   ]
  },
  {
   "cell_type": "code",
   "execution_count": 53,
   "id": "e16cde93",
   "metadata": {},
   "outputs": [
    {
     "data": {
      "text/plain": [
       "SVR(C=1)"
      ]
     },
     "execution_count": 53,
     "metadata": {},
     "output_type": "execute_result"
    }
   ],
   "source": [
    "train_X, test_X = X[:400], X[400:]\n",
    "train_y, test_y = y[:400], y[400:]\n",
    "model_svr_rbf_1 = SVR(C = 1, kernel = 'rbf')\n",
    "model_svr_rbf_1.fit(train_X ,train_y)"
   ]
  },
  {
   "cell_type": "code",
   "execution_count": 54,
   "id": "7eaa159b",
   "metadata": {},
   "outputs": [],
   "source": [
    "test_y_pred = model_svr_rbf_1.predict(test_X)"
   ]
  },
  {
   "cell_type": "code",
   "execution_count": 55,
   "id": "3371c2f5",
   "metadata": {},
   "outputs": [
    {
     "name": "stdout",
     "output_type": "stream",
     "text": [
      "69.32813164021485\n"
     ]
    }
   ],
   "source": [
    "print(mean_squared_error(test_y, test_y_pred))"
   ]
  },
  {
   "cell_type": "code",
   "execution_count": 56,
   "id": "d0e030fc",
   "metadata": {},
   "outputs": [
    {
     "name": "stdout",
     "output_type": "stream",
     "text": [
      "-1.4534559402985217\n"
     ]
    }
   ],
   "source": [
    "print(r2_score(test_y, test_y_pred))"
   ]
  },
  {
   "cell_type": "code",
   "execution_count": 57,
   "id": "27d054f1",
   "metadata": {},
   "outputs": [],
   "source": [
    "data  = load_breast_cancer()\n",
    "X = data.data\n",
    "y = data.target\n",
    "\n",
    "from sklearn.model_selection import train_test_split\n",
    "X_train, X_test, y_train, y_test = train_test_split(X, y, test_size = 0.3)"
   ]
  },
  {
   "cell_type": "code",
   "execution_count": 60,
   "id": "d08ba31c",
   "metadata": {},
   "outputs": [],
   "source": [
    "from sklearn.svm import SVC\n",
    "model_svc = SVC()\n"
   ]
  },
  {
   "cell_type": "code",
   "execution_count": 61,
   "id": "48692f69",
   "metadata": {},
   "outputs": [
    {
     "name": "stdout",
     "output_type": "stream",
     "text": [
      "0.9170854271356784\n",
      "0.9298245614035088\n"
     ]
    }
   ],
   "source": [
    "model_svc.fit(X_train, y_train)\n",
    "y_train_pred = model_svc.predict(X_train)\n",
    "y_test_pred = model_svc.predict(X_test)\n",
    "from sklearn.metrics import accuracy_score\n",
    "print(accuracy_score(y_train, y_train_pred))\n",
    "print(accuracy_score(y_test, y_test_pred))"
   ]
  },
  {
   "cell_type": "code",
   "execution_count": 62,
   "id": "d2acf38b",
   "metadata": {},
   "outputs": [
    {
     "name": "stdout",
     "output_type": "stream",
     "text": [
      "1.0\n"
     ]
    }
   ],
   "source": [
    "from sklearn.ensemble import RandomForestClassifier\n",
    "model_rfc = RandomForestClassifier()\n",
    "model_rfc.fit(X_train, y_train)\n",
    "y_train_pred = model_rfc.predict(X_train)\n",
    "y_test_pred = model_rfc.predict(X_test)\n",
    "print(accuracy_score(y_train, y_train_pred))"
   ]
  },
  {
   "cell_type": "code",
   "execution_count": 63,
   "id": "ebad5db8",
   "metadata": {},
   "outputs": [
    {
     "name": "stdout",
     "output_type": "stream",
     "text": [
      "0.9415204678362573\n"
     ]
    }
   ],
   "source": [
    "print(accuracy_score(y_test, y_test_pred))"
   ]
  },
  {
   "cell_type": "code",
   "execution_count": 64,
   "id": "b2ad0a98",
   "metadata": {},
   "outputs": [
    {
     "data": {
      "text/plain": [
       "array([0.93859649, 0.97368421, 0.97368421, 0.98245614, 0.90265487])"
      ]
     },
     "execution_count": 64,
     "metadata": {},
     "output_type": "execute_result"
    }
   ],
   "source": [
    "from sklearn.model_selection import cross_val_score\n",
    "from sklearn.model_selection import KFold\n",
    "\n",
    "cv = KFold(5, shuffle=True)\n",
    "model_rfc_1 = RandomForestClassifier()\n",
    "cross_val_score(model_rfc_1, X, y, cv=cv, scoring = 'accuracy')"
   ]
  },
  {
   "cell_type": "code",
   "execution_count": 66,
   "id": "f6669658",
   "metadata": {},
   "outputs": [
    {
     "data": {
      "text/plain": [
       "array([0.97260274, 0.97297297, 0.98701299, 0.95945946, 0.96774194])"
      ]
     },
     "execution_count": 66,
     "metadata": {},
     "output_type": "execute_result"
    }
   ],
   "source": [
    "cross_val_score(model_rfc_1, X,y , cv=cv, scoring = 'f1')"
   ]
  },
  {
   "cell_type": "code",
   "execution_count": 67,
   "id": "ed2af325",
   "metadata": {},
   "outputs": [],
   "source": [
    "from  sklearn.datasets import load_breast_cancer\n",
    "data = load_breast_cancer()\n",
    "X = data.data\n",
    "y = 1- data.target\n",
    "X = X[:, :10]"
   ]
  },
  {
   "cell_type": "code",
   "execution_count": 73,
   "id": "af6f6017",
   "metadata": {},
   "outputs": [
    {
     "data": {
      "text/plain": [
       "GridSearchCV(cv=KFold(n_splits=5, random_state=None, shuffle=True),\n",
       "             estimator=RandomForestClassifier(),\n",
       "             param_grid={'max_depth': [5, 10, 15],\n",
       "                         'n_estimators': [10, 20, 30]},\n",
       "             scoring='f1')"
      ]
     },
     "execution_count": 73,
     "metadata": {},
     "output_type": "execute_result"
    }
   ],
   "source": [
    "from sklearn.ensemble import RandomForestClassifier\n",
    "from sklearn.model_selection import GridSearchCV\n",
    "from sklearn.model_selection import KFold\n",
    "\n",
    "cv = KFold(5, shuffle=True)\n",
    "param_grid = {'max_depth': [5,10,15], 'n_estimators': [10,20,30]}\n",
    "model_rfc_1 = RandomForestClassifier()\n",
    "grid_search = GridSearchCV(model_rfc_1, param_grid, cv =cv, scoring = 'f1')\n",
    "grid_search.fit(X, y)"
   ]
  },
  {
   "cell_type": "code",
   "execution_count": 74,
   "id": "5d547af5",
   "metadata": {},
   "outputs": [
    {
     "name": "stdout",
     "output_type": "stream",
     "text": [
      "0.922233747959013\n"
     ]
    }
   ],
   "source": [
    "print(grid_search.best_score_)"
   ]
  },
  {
   "cell_type": "code",
   "execution_count": 75,
   "id": "97289f3d",
   "metadata": {},
   "outputs": [
    {
     "name": "stdout",
     "output_type": "stream",
     "text": [
      "{'max_depth': 5, 'n_estimators': 30}\n"
     ]
    }
   ],
   "source": [
    "print(grid_search.best_params_)"
   ]
  },
  {
   "cell_type": "code",
   "execution_count": 76,
   "id": "711c366b",
   "metadata": {},
   "outputs": [],
   "source": [
    "import numpy as np\n",
    "from sklearn.feature_extraction.text import CountVectorizer, TfidfVectorizer\n",
    "from sklearn.svm import LinearSVC\n",
    "from sklearn.datasets import fetch_20newsgroups\n",
    "\n",
    "categories = ['alt.atheism', 'soc.religion.christian', 'comp.graphics', 'sci.med']\n",
    "remove = ('headers', 'footers', 'quotes')\n",
    "twenty_train = fetch_20newsgroups(subset = 'train', remove = remove, categories=categories)\n",
    "twenty_test = fetch_20newsgroups(subset = 'test', remove=remove, categories=categories)"
   ]
  },
  {
   "cell_type": "code",
   "execution_count": 77,
   "id": "302ac50d",
   "metadata": {},
   "outputs": [],
   "source": [
    "count_vect = CountVectorizer()"
   ]
  },
  {
   "cell_type": "code",
   "execution_count": 79,
   "id": "27a0b971",
   "metadata": {},
   "outputs": [
    {
     "name": "stderr",
     "output_type": "stream",
     "text": [
      "/Users/kazuyaaoki/.pyenv/versions/3.10.3/lib/python3.10/site-packages/sklearn/svm/_base.py:1206: ConvergenceWarning: Liblinear failed to converge, increase the number of iterations.\n",
      "  warnings.warn(\n"
     ]
    },
    {
     "data": {
      "text/plain": [
       "0.7423435419440746"
      ]
     },
     "execution_count": 79,
     "metadata": {},
     "output_type": "execute_result"
    }
   ],
   "source": [
    "X_train_counts = count_vect.fit_transform(twenty_train.data)\n",
    "X_test_count = count_vect.transform(twenty_test.data)\n",
    "\n",
    "model = LinearSVC()\n",
    "model.fit(X_train_counts, twenty_train.target)\n",
    "predicted  = model.predict(X_test_count)\n",
    "np.mean(predicted == twenty_test.target)"
   ]
  },
  {
   "cell_type": "code",
   "execution_count": 80,
   "id": "ff057a9c",
   "metadata": {},
   "outputs": [
    {
     "data": {
      "text/plain": [
       "0.8149134487350199"
      ]
     },
     "execution_count": 80,
     "metadata": {},
     "output_type": "execute_result"
    }
   ],
   "source": [
    "tf_vec = TfidfVectorizer()\n",
    "X_train_tfidf = tf_vec.fit_transform(twenty_train.data)\n",
    "X_test_tfidf = tf_vec.transform(twenty_test.data)\n",
    "\n",
    "model = LinearSVC()\n",
    "model.fit(X_train_tfidf, twenty_train.target)\n",
    "predicted  =model.predict(X_test_tfidf)\n",
    "np.mean(predicted == twenty_test.target)"
   ]
  },
  {
   "cell_type": "code",
   "execution_count": 81,
   "id": "3afb9ef2",
   "metadata": {},
   "outputs": [],
   "source": [
    "from PIL import Image\n",
    "img  = Image.open('mlzukan-img.png')"
   ]
  },
  {
   "cell_type": "code",
   "execution_count": 82,
   "id": "1a31dd72",
   "metadata": {},
   "outputs": [
    {
     "name": "stdout",
     "output_type": "stream",
     "text": [
      "[255, 255, 170, 34, 102, 238, 255, 255, 255, 255, 34, 0, 85, 0, 170, 255, 255, 204, 0, 221, 255, 68, 119, 255, 255, 187, 51, 255, 255, 119, 119, 255, 255, 170, 119, 255, 255, 102, 119, 255, 255, 187, 68, 255, 238, 51, 136, 255, 255, 221, 17, 170, 85, 51, 255, 255, 255, 255, 153, 34, 85, 255, 255, 255]\n"
     ]
    }
   ],
   "source": [
    "width, height = img.size\n",
    "img_pixels = []\n",
    "for y in range(height):\n",
    "    for x in range(width):\n",
    "        img_pixels.append(img.getpixel((x,y)))\n",
    "        \n",
    "print(img_pixels)"
   ]
  },
  {
   "cell_type": "code",
   "execution_count": 83,
   "id": "c183e3f0",
   "metadata": {},
   "outputs": [
    {
     "name": "stdout",
     "output_type": "stream",
     "text": [
      "              precision    recall  f1-score   support\n",
      "\n",
      "           0       0.98      0.99      0.98        88\n",
      "           1       0.96      0.89      0.93        91\n",
      "           2       0.96      0.92      0.94        86\n",
      "           3       0.90      0.86      0.88        91\n",
      "           4       0.98      0.92      0.95        92\n",
      "           5       0.91      0.95      0.92        91\n",
      "           6       0.97      0.99      0.98        91\n",
      "           7       0.94      0.98      0.96        89\n",
      "           8       0.91      0.89      0.90        88\n",
      "           9       0.83      0.93      0.88        92\n",
      "\n",
      "    accuracy                           0.93       899\n",
      "   macro avg       0.93      0.93      0.93       899\n",
      "weighted avg       0.93      0.93      0.93       899\n",
      "\n"
     ]
    }
   ],
   "source": [
    "from sklearn import datasets\n",
    "from sklearn import metrics \n",
    "from sklearn.ensemble import RandomForestClassifier\n",
    "\n",
    "digits = datasets.load_digits()\n",
    "\n",
    "n_samples = len(digits.images)\n",
    "data = digits.images.reshape((n_samples, -1))\n",
    "\n",
    "model = RandomForestClassifier()\n",
    "\n",
    "model.fit(data[:n_samples//2], digits.target[:n_samples //2])\n",
    "\n",
    "expected = digits.target[n_samples // 2:]\n",
    "predicted = model.predict(data[n_samples // 2:])\n",
    "\n",
    "print(metrics.classification_report(expected, predicted))"
   ]
  },
  {
   "cell_type": "code",
   "execution_count": 84,
   "id": "a8308a83",
   "metadata": {},
   "outputs": [
    {
     "name": "stdout",
     "output_type": "stream",
     "text": [
      "Untitled.ipynb  mlzukan-img.png\r\n"
     ]
    }
   ],
   "source": [
    "!ls"
   ]
  },
  {
   "cell_type": "code",
   "execution_count": 85,
   "id": "410a41e0",
   "metadata": {},
   "outputs": [
    {
     "name": "stdout",
     "output_type": "stream",
     "text": [
      "/Users/kazuyaaoki/Desktop/programming/science/ml_dict\r\n"
     ]
    }
   ],
   "source": [
    "!pwd"
   ]
  },
  {
   "cell_type": "code",
   "execution_count": 86,
   "id": "6394132b",
   "metadata": {},
   "outputs": [
    {
     "name": "stdout",
     "output_type": "stream",
     "text": [
      "Untitled.ipynb  mlzukan-img.png sample.txt\r\n"
     ]
    }
   ],
   "source": [
    "!ls"
   ]
  },
  {
   "cell_type": "code",
   "execution_count": 87,
   "id": "19197f88",
   "metadata": {},
   "outputs": [
    {
     "name": "stdout",
     "output_type": "stream",
     "text": [
      "sample\n",
      "text\n",
      "is\n",
      "here.\n"
     ]
    }
   ],
   "source": [
    "f = open('sample.txt')\n",
    "for line in f:\n",
    "    line = line.rstrip()\n",
    "    print(line)\n",
    "f.close()"
   ]
  },
  {
   "cell_type": "code",
   "execution_count": 88,
   "id": "8cea2eb4",
   "metadata": {},
   "outputs": [
    {
     "name": "stdout",
     "output_type": "stream",
     "text": [
      "sample\n",
      "text\n",
      "is\n",
      "here.\n"
     ]
    }
   ],
   "source": [
    "with open('sample.txt') as f:\n",
    "    for line in f:\n",
    "        line = line.rstrip()\n",
    "        print(line)"
   ]
  },
  {
   "cell_type": "code",
   "execution_count": 89,
   "id": "04645e7d",
   "metadata": {},
   "outputs": [],
   "source": [
    "with open('output.txt' , 'w') as fw:\n",
    "    with open('sample.txt') as fr:\n",
    "        for line in fr:\n",
    "            print(line, end = '', file = fw)"
   ]
  },
  {
   "cell_type": "code",
   "execution_count": 90,
   "id": "3b8610f3",
   "metadata": {},
   "outputs": [
    {
     "data": {
      "text/plain": [
       "datetime.date(2018, 1, 1)"
      ]
     },
     "execution_count": 90,
     "metadata": {},
     "output_type": "execute_result"
    }
   ],
   "source": [
    "from datetime import date\n",
    "import pickle\n",
    "\n",
    "x = date(2018,1,1)\n",
    "x"
   ]
  },
  {
   "cell_type": "code",
   "execution_count": 91,
   "id": "e237107c",
   "metadata": {},
   "outputs": [
    {
     "data": {
      "text/plain": [
       "datetime.date(2018, 1, 1)"
      ]
     },
     "execution_count": 91,
     "metadata": {},
     "output_type": "execute_result"
    }
   ],
   "source": [
    "with open('today.pkl', 'wb') as f:\n",
    "    pickle.dump(x, f, -1)\n",
    "\n",
    "with open('today.pkl', 'rb') as f:\n",
    "    y = pickle.load(f)\n",
    "    \n",
    "y"
   ]
  },
  {
   "cell_type": "code",
   "execution_count": 92,
   "id": "7f2d34d4",
   "metadata": {},
   "outputs": [
    {
     "name": "stdout",
     "output_type": "stream",
     "text": [
      "Untitled.ipynb  mlzukan-img.png output.txt      sample.txt      today.pkl\r\n"
     ]
    }
   ],
   "source": [
    "!ls"
   ]
  },
  {
   "cell_type": "code",
   "execution_count": 93,
   "id": "64de0d1c",
   "metadata": {},
   "outputs": [],
   "source": [
    "import csv\n",
    "\n",
    "s = 0\n",
    "with open('sample.csv') as f:\n",
    "    reader = csv.reader(f)\n",
    "    next(reader)\n",
    "    for row in reader:\n",
    "        s += int(row[1])"
   ]
  },
  {
   "cell_type": "code",
   "execution_count": 94,
   "id": "5e6f0535",
   "metadata": {},
   "outputs": [
    {
     "data": {
      "text/plain": [
       "18"
      ]
     },
     "execution_count": 94,
     "metadata": {},
     "output_type": "execute_result"
    }
   ],
   "source": [
    "s"
   ]
  },
  {
   "cell_type": "code",
   "execution_count": 95,
   "id": "031fe1be",
   "metadata": {},
   "outputs": [],
   "source": [
    "data = [[1, 'a', 1.1], [2, 'b', 1.2], [3, 'c', 1.3]]\n",
    "\n",
    "with open('output.csv', 'w') as f:\n",
    "    wr = csv.writer(f)\n",
    "    for row in data:\n",
    "        wr.writerow(row)"
   ]
  },
  {
   "cell_type": "code",
   "execution_count": 96,
   "id": "cb879d1f",
   "metadata": {},
   "outputs": [
    {
     "name": "stdout",
     "output_type": "stream",
     "text": [
      "\u001b7\u001b[?47h\u001b[>4;2m\u001b[?1h\u001b=\u001b[?2004h\u001b[?1004h\u001b[1;24r\u001b[?12h\u001b[?12l\u001b[22;2t\u001b[22;1t\u001b[29m\u001b[m\u001b[H\u001b[2J\u001b[?25l\u001b[24;1H\"output.csv\" [dos] 3L, 27B\u001b[2;1H▽\u001b[6n\u001b[2;1H  \u001b[3;1H\u001bPzz\u001b\\\u001b[0%m\u001b[6n\u001b[3;1H           \u001b[1;1H\u001b[>c\u001b]10;?\u0007\u001b]11;?\u0007\u001b[1;1H1,a,1.1\n",
      "2,b,1.2\u001b[2;8H\u001b[K\u001b[3;1H3,c,1.3\u001b[3;8H\u001b[K\u001b[4;1H\u001b[1m\u001b[34m~                                                                               \u001b[5;1H~                                                                               \u001b[6;1H~                                                                               \u001b[7;1H~                                                                               \u001b[8;1H~                                                                               \u001b[9;1H~                                                                               \u001b[10;1H~                                                                               \u001b[11;1H~                                                                               \u001b[12;1H~                                                                               \u001b[13;1H~                                                                               \u001b[14;1H~                                                                               \u001b[15;1H~                                                                               \u001b[16;1H~                                                                               \u001b[17;1H~                                                                               \u001b[18;1H~                                                                               \u001b[19;1H~                                                                               \u001b[20;1H~                                                                               \u001b[21;1H~                                                                               \u001b[22;1H~                                                                               \u001b[23;1H~                                                                               \u001b[1;1H\u001b[?25h\u001b[?25l\u001b[m\u001b[24;1HType  :qa  and press <Enter> to exit Vim\u0007\u001b[1;1H\u001b[?25h"
     ]
    }
   ],
   "source": [
    "!vi output.csv"
   ]
  },
  {
   "cell_type": "code",
   "execution_count": 99,
   "id": "47447dc2",
   "metadata": {},
   "outputs": [
    {
     "data": {
      "text/plain": [
       "{'a': 1, 'b': 'x', 'c': [1, 2, 3], 'd': {'a': 1, 'b': 2}}"
      ]
     },
     "execution_count": 99,
     "metadata": {},
     "output_type": "execute_result"
    }
   ],
   "source": [
    "import json\n",
    "data = {'a': 1, 'b': 'x', 'c': [1,2,3], 'd': {'a': 1, 'b':2}}\n",
    "s = json.dumps(data)\n",
    "s\n",
    "\n",
    "data2 = json.loads(s)\n",
    "data2"
   ]
  },
  {
   "cell_type": "code",
   "execution_count": 100,
   "id": "1e6ee9ab",
   "metadata": {},
   "outputs": [
    {
     "data": {
      "text/plain": [
       "'{\"a\": 1, \"b\": \"x\", \"c\": [1, 2, 3], \"d\": {\"a\": 1, \"b\": 2}}'"
      ]
     },
     "execution_count": 100,
     "metadata": {},
     "output_type": "execute_result"
    }
   ],
   "source": [
    "s"
   ]
  },
  {
   "cell_type": "code",
   "execution_count": 101,
   "id": "b88372dc",
   "metadata": {},
   "outputs": [
    {
     "data": {
      "text/plain": [
       "{'a': 1, 'b': 'x', 'c': [1, 2, 3], 'd': {'a': 1, 'b': 2}}"
      ]
     },
     "execution_count": 101,
     "metadata": {},
     "output_type": "execute_result"
    }
   ],
   "source": [
    "data2"
   ]
  },
  {
   "cell_type": "code",
   "execution_count": 102,
   "id": "37a1e8a4",
   "metadata": {},
   "outputs": [],
   "source": [
    "d = {'a': 1, 'b': 2, 'c': 3}"
   ]
  },
  {
   "cell_type": "code",
   "execution_count": 103,
   "id": "777dbbd9",
   "metadata": {},
   "outputs": [
    {
     "data": {
      "text/plain": [
       "{'a': 1, 'b': 2, 'c': 3}"
      ]
     },
     "execution_count": 103,
     "metadata": {},
     "output_type": "execute_result"
    }
   ],
   "source": [
    "d"
   ]
  },
  {
   "cell_type": "code",
   "execution_count": 104,
   "id": "0bd6c2a9",
   "metadata": {},
   "outputs": [
    {
     "ename": "KeyError",
     "evalue": "'d'",
     "output_type": "error",
     "traceback": [
      "\u001b[0;31m---------------------------------------------------------------------------\u001b[0m",
      "\u001b[0;31mKeyError\u001b[0m                                  Traceback (most recent call last)",
      "Input \u001b[0;32mIn [104]\u001b[0m, in \u001b[0;36m<cell line: 1>\u001b[0;34m()\u001b[0m\n\u001b[0;32m----> 1\u001b[0m \u001b[43md\u001b[49m\u001b[43m[\u001b[49m\u001b[38;5;124;43m'\u001b[39;49m\u001b[38;5;124;43md\u001b[39;49m\u001b[38;5;124;43m'\u001b[39;49m\u001b[43m]\u001b[49m\n",
      "\u001b[0;31mKeyError\u001b[0m: 'd'"
     ]
    }
   ],
   "source": [
    "d['d']"
   ]
  },
  {
   "cell_type": "code",
   "execution_count": 107,
   "id": "0a66f950",
   "metadata": {},
   "outputs": [
    {
     "name": "stdout",
     "output_type": "stream",
     "text": [
      "<class 'KeyError'>\n",
      "'d'\n"
     ]
    }
   ],
   "source": [
    "try:\n",
    "    print(d['d'])\n",
    "except Exception as err:\n",
    "    print(type(err))\n",
    "    print(err)"
   ]
  },
  {
   "cell_type": "code",
   "execution_count": 109,
   "id": "625e51f1",
   "metadata": {},
   "outputs": [],
   "source": [
    "s = 0\n",
    "for i in range(1000):\n",
    "    s += 0.001\n",
    "\n"
   ]
  },
  {
   "cell_type": "code",
   "execution_count": 110,
   "id": "a8fa40ea",
   "metadata": {},
   "outputs": [
    {
     "data": {
      "text/plain": [
       "1.0000000000000007"
      ]
     },
     "execution_count": 110,
     "metadata": {},
     "output_type": "execute_result"
    }
   ],
   "source": [
    "s"
   ]
  },
  {
   "cell_type": "code",
   "execution_count": null,
   "id": "7784cb6e",
   "metadata": {},
   "outputs": [],
   "source": [
    "s = 0\n",
    "while s != 1.:\n",
    "    print(s)\n",
    "    s += 0.1\n"
   ]
  },
  {
   "cell_type": "code",
   "execution_count": 112,
   "id": "4b8069f8",
   "metadata": {},
   "outputs": [
    {
     "name": "stdout",
     "output_type": "stream",
     "text": [
      "0\n",
      "0.1\n",
      "0.2\n",
      "0.30000000000000004\n",
      "0.4\n",
      "0.5\n",
      "0.6\n",
      "0.7\n",
      "0.7999999999999999\n",
      "0.8999999999999999\n"
     ]
    }
   ],
   "source": [
    "eps = 1e-10\n",
    "s = 0\n",
    "while abs(s-1.) > eps:\n",
    "    print(s)\n",
    "    s += 0.1"
   ]
  },
  {
   "cell_type": "code",
   "execution_count": 113,
   "id": "f64f4fe8",
   "metadata": {},
   "outputs": [],
   "source": [
    "import numpy as np\n",
    "\n",
    "def qnq(a, b, c):\n",
    "    d = np.sqrt(b**2 -4 * a * c)\n",
    "    return ((-b + d) / (2*a), (-b-d) / (2 * a))"
   ]
  },
  {
   "cell_type": "code",
   "execution_count": null,
   "id": "ee217fe2",
   "metadata": {},
   "outputs": [],
   "source": []
  }
 ],
 "metadata": {
  "kernelspec": {
   "display_name": "Python 3 (ipykernel)",
   "language": "python",
   "name": "python3"
  },
  "language_info": {
   "codemirror_mode": {
    "name": "ipython",
    "version": 3
   },
   "file_extension": ".py",
   "mimetype": "text/x-python",
   "name": "python",
   "nbconvert_exporter": "python",
   "pygments_lexer": "ipython3",
   "version": "3.10.3"
  }
 },
 "nbformat": 4,
 "nbformat_minor": 5
}

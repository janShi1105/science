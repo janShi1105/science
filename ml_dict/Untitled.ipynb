{
 "cells": [
  {
   "cell_type": "code",
   "execution_count": 1,
   "id": "769bc865",
   "metadata": {},
   "outputs": [],
   "source": [
    "from sklearn.datasets import load_wine\n",
    "data =  load_wine()"
   ]
  },
  {
   "cell_type": "code",
   "execution_count": 2,
   "id": "e87f462e",
   "metadata": {},
   "outputs": [],
   "source": [
    "X = data.data[:, [0,9]]"
   ]
  },
  {
   "cell_type": "code",
   "execution_count": 20,
   "id": "ba130c9b",
   "metadata": {},
   "outputs": [],
   "source": [
    "from sklearn.cluster import KMeans\n",
    "\n",
    "n_clusters  = 3\n",
    "model = KMeans(n_clusters=n_clusters)\n",
    "\n",
    "pred = model.fit_predict(X)\n",
    "\n",
    "plt.scatter?"
   ]
  },
  {
   "cell_type": "code",
   "execution_count": 22,
   "id": "0ac4ca2c",
   "metadata": {},
   "outputs": [
    {
     "data": {
      "text/plain": [
       "<matplotlib.collections.PathCollection at 0x1333df580>"
      ]
     },
     "execution_count": 22,
     "metadata": {},
     "output_type": "execute_result"
    },
    {
     "data": {
      "image/png": "[encoded data removed]",
      "text/plain": [
       "<Figure size 432x288 with 1 Axes>"
      ]
     },
     "metadata": {
      "needs_background": "light"
     },
     "output_type": "display_data"
    }
   ],
   "source": [
    "import matplotlib.pyplot as plt\n",
    "\n",
    "\n",
    "plt.scatter(X[:,0], X[:,1])"
   ]
  },
  {
   "cell_type": "code",
   "execution_count": 23,
   "id": "db795112",
   "metadata": {},
   "outputs": [
    {
     "data": {
      "text/plain": [
       "array([[ 3.37801907],\n",
       "       [ 1.11647777],\n",
       "       [ 3.79986343],\n",
       "       [ 4.74041749],\n",
       "       [ 0.88721767],\n",
       "       [ 3.39374713],\n",
       "       [ 3.35733742],\n",
       "       [ 2.27961111],\n",
       "       [ 4.0432193 ],\n",
       "       [ 3.47708292],\n",
       "       [ 3.61530648],\n",
       "       [ 3.95097521],\n",
       "       [ 2.13210216],\n",
       "       [ 3.15939486],\n",
       "       [ 3.93364975],\n",
       "       [ 3.88363604],\n",
       "       [ 2.2390414 ],\n",
       "       [ 1.26902488],\n",
       "       [ 2.36779932],\n",
       "       [ 1.91136433],\n",
       "       [ 2.79067233],\n",
       "       [ 2.04670039],\n",
       "       [ 3.61944342],\n",
       "       [ 2.77077609],\n",
       "       [ 2.93490158],\n",
       "       [ 3.39454377],\n",
       "       [ 4.43621187],\n",
       "       [ 3.72401646],\n",
       "       [ 1.78814893],\n",
       "       [ 1.89664661],\n",
       "       [ 2.82407248],\n",
       "       [ 3.56742724],\n",
       "       [ 4.26362103],\n",
       "       [ 2.89555857],\n",
       "       [ 2.87951195],\n",
       "       [ 3.32553069],\n",
       "       [ 4.16287883],\n",
       "       [ 3.02711766],\n",
       "       [ 4.32531617],\n",
       "       [ 3.36040649],\n",
       "       [ 1.77888344],\n",
       "       [ 3.33085047],\n",
       "       [ 2.7197756 ],\n",
       "       [ 2.34705274],\n",
       "       [ 2.55987997],\n",
       "       [ 2.99050749],\n",
       "       [ 1.72377108],\n",
       "       [ 2.88704933],\n",
       "       [ 1.14240936],\n",
       "       [ 3.50908188],\n",
       "       [ 0.21522813],\n",
       "       [-1.48693304],\n",
       "       [-0.33574246],\n",
       "       [-0.50503396],\n",
       "       [-0.11950705],\n",
       "       [-2.93535427],\n",
       "       [-1.89442463],\n",
       "       [ 0.55413919],\n",
       "       [ 0.81094508],\n",
       "       [-0.90876557],\n",
       "       [-1.44666849],\n",
       "       [ 0.78379788],\n",
       "       [-0.30632314],\n",
       "       [-0.48280783],\n",
       "       [-0.99169956],\n",
       "       [-1.03862114],\n",
       "       [-2.24956095],\n",
       "       [ 0.92457484],\n",
       "       [-1.12881168],\n",
       "       [-0.69465189],\n",
       "       [ 0.69997378],\n",
       "       [-2.71837709],\n",
       "       [-0.72394374],\n",
       "       [-1.42311764],\n",
       "       [ 0.00857238],\n",
       "       [-1.95227876],\n",
       "       [-2.54391461],\n",
       "       [-0.3665053 ],\n",
       "       [-0.5640521 ],\n",
       "       [-0.41872357],\n",
       "       [-1.09050435],\n",
       "       [-0.60939637],\n",
       "       [-0.14999834],\n",
       "       [-1.60887937],\n",
       "       [ 0.52023989],\n",
       "       [-1.30155597],\n",
       "       [ 0.09408455],\n",
       "       [ 0.62546111],\n",
       "       [-0.70854306],\n",
       "       [-0.10848619],\n",
       "       [-0.76166748],\n",
       "       [-2.98475659],\n",
       "       [-1.09275865],\n",
       "       [-1.93096458],\n",
       "       [-0.51955571],\n",
       "       [-0.10997607],\n",
       "       [ 0.10376899],\n",
       "       [ 0.68784719],\n",
       "       [-1.22292105],\n",
       "       [-2.00685418]])"
      ]
     },
     "execution_count": 23,
     "metadata": {},
     "output_type": "execute_result"
    }
   ],
   "source": [
    "import numpy as np\n",
    "from sklearn.linear_model import LogisticRegression\n",
    "\n",
    "X_train = np.r_[np.random.normal(3,1,size = 50), np.random.normal(-1,1, size = 50)].reshape(100,-1)\n",
    "X_train"
   ]
  },
  {
   "cell_type": "code",
   "execution_count": 25,
   "id": "93a73362",
   "metadata": {},
   "outputs": [
    {
     "data": {
      "text/plain": [
       "array([0.05596629, 0.45505614, 0.92164341])"
      ]
     },
     "execution_count": 25,
     "metadata": {},
     "output_type": "execute_result"
    }
   ],
   "source": [
    "y_train = np.r_[np.ones(50), np.zeros(50)]\n",
    "model = LogisticRegression()\n",
    "model.fit(X_train, y_train)\n",
    "model.predict_proba([[0], [1], [2]])[:, 1]"
   ]
  },
  {
   "cell_type": "code",
   "execution_count": 27,
   "id": "3d9abf22",
   "metadata": {},
   "outputs": [
    {
     "data": {
      "text/plain": [
       "1.0"
      ]
     },
     "execution_count": 27,
     "metadata": {},
     "output_type": "execute_result"
    }
   ],
   "source": [
    "from sklearn.svm import LinearSVC\n",
    "from sklearn.datasets import make_blobs\n",
    "from sklearn.model_selection import train_test_split \n",
    "from sklearn.metrics import accuracy_score\n",
    "\n",
    "centers = [(-1, -0.125), (0.5,0.5)]\n",
    "X, y = make_blobs(n_samples = 50, n_features = 2, centers = centers, cluster_std = 0.3)\n",
    "X_train, X_test, y_train, y_test = train_test_split(X, y, test_size = 0.3)\n",
    "model = LinearSVC()\n",
    "model.fit(X_train, y_train)\n",
    "y_pred = model.predict(X_test)\n",
    "accuracy_score(y_pred, y_test)"
   ]
  },
  {
   "cell_type": "code",
   "execution_count": 28,
   "id": "8553d1fe",
   "metadata": {},
   "outputs": [
    {
     "data": {
      "text/plain": [
       "0.9555555555555556"
      ]
     },
     "execution_count": 28,
     "metadata": {},
     "output_type": "execute_result"
    }
   ],
   "source": [
    "from sklearn.svm import SVC\n",
    "from sklearn.datasets import make_gaussian_quantiles\n",
    "from sklearn.model_selection import train_test_split\n",
    "from sklearn.metrics import accuracy_score\n",
    "\n",
    "X, y = make_gaussian_quantiles(n_features = 2, n_classes = 2, n_samples = 300)\n",
    "X_train, X_test , y_train, y_test  = train_test_split(X, y, test_size = 0.3)\n",
    "\n",
    "model = SVC()\n",
    "model.fit(X_train, y_train)\n",
    "y_pred = model.predict(X_test)\n",
    "accuracy_score(y_pred, y_test)"
   ]
  },
  {
   "cell_type": "code",
   "execution_count": 30,
   "id": "07371618",
   "metadata": {},
   "outputs": [
    {
     "data": {
      "text/plain": [
       "array([1])"
      ]
     },
     "execution_count": 30,
     "metadata": {},
     "output_type": "execute_result"
    }
   ],
   "source": [
    "from sklearn.naive_bayes import MultinomialNB\n",
    "\n",
    "X_train = [[1,1,0,0,0,0,0,0,0,0,0,],\n",
    "          [0,1,1,1,0,0,0,0,0,0,0],\n",
    "          [1,0,0,0,1,1,0,0,0,0,0],\n",
    "          [0,0,0,0,0,0,1,1,0,0,0],\n",
    "          [0,0,0,0,0,0,0,1,1,1,0],\n",
    "          [0,0,0,0,0,1,1,1,0,0,1]]\n",
    "y_train = [1,1,1,0,0,0]\n",
    "\n",
    "model = MultinomialNB()\n",
    "model.fit(X_train,  y_train)\n",
    "model.predict([[1,0,0,1,0,1,0,0,0,0,0]])"
   ]
  },
  {
   "cell_type": "code",
   "execution_count": 31,
   "id": "51a25142",
   "metadata": {},
   "outputs": [
    {
     "name": "stderr",
     "output_type": "stream",
     "text": [
      "/Users/kazuyaaoki/.pyenv/versions/3.10.3/lib/python3.10/site-packages/sklearn/neural_network/_multilayer_perceptron.py:692: ConvergenceWarning: Stochastic Optimizer: Maximum iterations (200) reached and the optimization hasn't converged yet.\n",
      "  warnings.warn(\n"
     ]
    },
    {
     "data": {
      "text/plain": [
       "0.95"
      ]
     },
     "execution_count": 31,
     "metadata": {},
     "output_type": "execute_result"
    }
   ],
   "source": [
    "from sklearn.datasets import load_digits\n",
    "from sklearn.neural_network import MLPClassifier\n",
    "from sklearn.model_selection import train_test_split\n",
    "\n",
    "data = load_digits()\n",
    "\n",
    "X = data.images.reshape(len(data.images), -1)\n",
    "y = data.target\n",
    "\n",
    "X_train, X_test, y_train, y_test = train_test_split(X, y, test_size = 0.3)\n",
    "\n",
    "model = MLPClassifier(hidden_layer_sizes=(16,))\n",
    "model.fit(X_train, y_train)\n",
    "y_pred = model.predict(X_test)\n",
    "accuracy_score(y_pred, y_test)"
   ]
  },
  {
   "cell_type": "code",
   "execution_count": 32,
   "id": "d971eeeb",
   "metadata": {},
   "outputs": [
    {
     "data": {
      "text/plain": [
       "0.9"
      ]
     },
     "execution_count": 32,
     "metadata": {},
     "output_type": "execute_result"
    }
   ],
   "source": [
    "from sklearn.neighbors import KNeighborsClassifier\n",
    "from sklearn.datasets import make_moons\n",
    "\n",
    "X, y = make_moons(noise=0.3)\n",
    "X_train, X_test, y_train, y_test  =train_test_split(X, y, test_size = 0.3)\n",
    "\n",
    "model = KNeighborsClassifier()\n",
    "model.fit(X_train, y_train)\n",
    "y_pred = model.predict(X_test)\n",
    "accuracy_score(y_pred, y_test)"
   ]
  },
  {
   "cell_type": "code",
   "execution_count": 33,
   "id": "c9601330",
   "metadata": {},
   "outputs": [
    {
     "name": "stdout",
     "output_type": "stream",
     "text": [
      "[[ 0.00000000e+00  8.50650808e-01]\n",
      " [ 0.00000000e+00  8.50650808e-01]\n",
      " [-8.15843973e-16  1.37638192e+00]\n",
      " [-8.15843973e-16  5.25731112e-01]\n",
      " [ 1.41421356e+00  6.06576787e-16]\n",
      " [ 7.07106781e-01  2.02192262e-16]\n",
      " [ 1.41421356e+00  6.06576787e-16]\n",
      " [ 7.07106781e-01  4.04384525e-16]]\n",
      "[0.38596491 0.27999429]\n",
      "0.6659592065833293\n"
     ]
    }
   ],
   "source": [
    "from sklearn.decomposition import TruncatedSVD\n",
    "\n",
    "data = [[1,0,0,0], [1,0,0,0], [1,1,0,0], [0,1,0,0], [0,0,1,1], [0,0,1,0], [0,0,1,1], [0,0,0,1]]\n",
    "\n",
    "n_components = 2\n",
    "model = TruncatedSVD(n_components= n_components)\n",
    "model.fit(data)\n",
    "\n",
    "print(model.transform(data))\n",
    "print(model.explained_variance_ratio_)\n",
    "print(sum(model.explained_variance_ratio_))"
   ]
  },
  {
   "cell_type": "code",
   "execution_count": 2,
   "id": "5a8f8537",
   "metadata": {},
   "outputs": [
    {
     "name": "stdout",
     "output_type": "stream",
     "text": [
      "[[1.31412713 0.        ]\n",
      " [0.60652579 1.07858589]\n",
      " [0.68603873 0.93829691]\n",
      " [0.90045939 0.64030301]\n",
      " [1.18684534 0.23798004]\n",
      " [1.43072395 0.11515326]\n",
      " [0.60643245 0.963657  ]\n",
      " [1.40498934 0.50203248]\n",
      " [0.48911695 1.07336504]\n",
      " [1.53368717 0.04560054]\n",
      " [0.91457524 0.86713795]\n",
      " [0.57831586 1.09345157]\n",
      " [0.40278459 1.07636191]\n",
      " [1.35959524 0.19058562]\n",
      " [0.57156269 0.94377938]\n",
      " [1.46336764 0.31658907]\n",
      " [1.36631877 0.22995819]\n",
      " [1.35314127 0.00682365]\n",
      " [0.94058577 0.69851391]\n",
      " [0.7929195  0.66609388]\n",
      " [0.72591967 0.97477131]\n",
      " [0.73667548 0.92730986]\n",
      " [1.0898819  0.71219134]\n",
      " [0.59741349 0.98790637]\n",
      " [0.60285656 1.03465384]\n",
      " [0.89693383 0.55181692]\n",
      " [1.25375047 0.18715173]\n",
      " [1.23881674 0.19521675]\n",
      " [0.52578928 0.93098275]\n",
      " [1.02671193 0.72257241]\n",
      " [0.81156187 0.97748896]\n",
      " [0.57694031 1.00446856]\n",
      " [0.83548917 0.72981639]\n",
      " [1.34649729 0.1295702 ]\n",
      " [0.75307873 0.87294641]\n",
      " [1.26176944 0.05567896]\n",
      " [0.75058422 0.9093709 ]\n",
      " [0.51828091 0.98837279]\n",
      " [0.41407701 1.0867446 ]\n",
      " [1.31508523 0.26911916]\n",
      " [0.77341633 0.96574429]\n",
      " [1.34862721 0.3541922 ]\n",
      " [1.16099726 0.30621353]\n",
      " [0.927639   0.80132508]\n",
      " [1.32492226 0.30985661]\n",
      " [0.69770478 0.70770105]\n",
      " [0.89996027 0.65901163]\n",
      " [1.38387262 0.36771608]\n",
      " [0.62210507 1.10879163]\n",
      " [0.68089442 0.9462761 ]\n",
      " [1.47476697 0.20127864]\n",
      " [1.22939193 0.34230192]\n",
      " [1.39103239 0.17309307]\n",
      " [1.28744645 0.307141  ]\n",
      " [0.92860233 0.77853433]\n",
      " [0.53829786 1.17624834]\n",
      " [0.8119857  0.80422451]\n",
      " [0.78961516 0.96117912]\n",
      " [1.02763426 0.62966464]\n",
      " [0.76866938 0.65827382]\n",
      " [1.2615509  0.29834241]\n",
      " [0.58974728 1.23088244]\n",
      " [0.92935625 0.59616504]\n",
      " [1.3927084  0.19493081]\n",
      " [0.67993488 1.09432288]\n",
      " [1.37026669 0.27055957]\n",
      " [0.79014216 0.91441473]\n",
      " [0.43387584 1.13750124]\n",
      " [1.131114   0.222962  ]\n",
      " [0.96449305 0.70480228]\n",
      " [0.73298464 0.75546124]\n",
      " [0.55407725 1.26965591]\n",
      " [0.46000567 1.14313943]\n",
      " [0.97632706 0.83087865]\n",
      " [0.51245251 1.15373942]\n",
      " [1.30687163 0.26608086]\n",
      " [0.68855865 0.91950462]\n",
      " [0.92674073 0.66320739]\n",
      " [1.3332266  0.21300556]\n",
      " [0.82447818 0.6647593 ]\n",
      " [0.88973292 0.64865188]\n",
      " [0.89485119 0.64780903]\n",
      " [0.72204491 1.05229069]\n",
      " [0.60564545 1.01805733]\n",
      " [1.42043364 0.0999844 ]\n",
      " [1.24109811 0.1399273 ]\n",
      " [0.5273099  0.99837134]\n",
      " [0.78590868 0.64164255]\n",
      " [0.91895743 0.759547  ]\n",
      " [0.77025426 0.78357298]\n",
      " [0.76961967 0.69401709]\n",
      " [1.35853931 0.37199485]\n",
      " [1.17471356 0.25911948]\n",
      " [0.64501926 1.11535579]\n",
      " [1.39526616 0.18478632]\n",
      " [0.50817823 1.06358569]\n",
      " [0.7418448  0.65205149]\n",
      " [0.71357649 0.7705206 ]\n",
      " [0.90899466 0.72790243]\n",
      " [0.74291222 0.89874608]]\n",
      "[[7.41686766 1.440659   7.35866218]\n",
      " [0.         8.92474785 1.06413591]]\n"
     ]
    },
    {
     "name": "stderr",
     "output_type": "stream",
     "text": [
      "/Users/kazuyaaoki/.pyenv/versions/3.10.3/lib/python3.10/site-packages/sklearn/decomposition/_nmf.py:289: FutureWarning: The 'init' value, when 'init=None' and n_components is less than n_samples and n_features, will be changed from 'nndsvd' to 'nndsvda' in 1.1 (renaming of 0.26).\n",
      "  warnings.warn(\n"
     ]
    }
   ],
   "source": [
    "from sklearn.decomposition import NMF\n",
    "from sklearn.datasets import make_blobs\n",
    "\n",
    "centers = [[5,10,5], [10,4,10], [6,8,8]]\n",
    "\n",
    "V, _ = make_blobs(centers = centers)\n",
    "\n",
    "n_components = 2\n",
    "model = NMF(n_components = n_components)\n",
    "\n",
    "model.fit(V)\n",
    "\n",
    "W = model.transform(V) \n",
    "H = model.components_\n",
    "    \n",
    "print(W)\n",
    "print(H)"
   ]
  },
  {
   "cell_type": "code",
   "execution_count": 3,
   "id": "2a195193",
   "metadata": {},
   "outputs": [
    {
     "name": "stdout",
     "output_type": "stream",
     "text": [
      "[[5.00000004e-02 3.16555475e+01 5.00000002e-02 ... 8.86845649e+01\n",
      "  9.10049093e+00 6.81561947e+01]\n",
      " [2.90953306e+00 5.00000005e-02 3.60023687e+00 ... 5.06589239e+00\n",
      "  5.00000014e-02 6.68043512e+00]\n",
      " [6.86087208e-02 2.62479022e+00 5.00000002e-02 ... 6.51193402e+01\n",
      "  5.18000269e-02 5.00000181e-02]\n",
      " ...\n",
      " [5.00000001e-02 1.18644130e+00 5.00000001e-02 ... 2.63999169e+02\n",
      "  5.00000005e-02 1.17203064e+02]\n",
      " [1.71753514e+00 5.00000003e-02 5.00000013e-02 ... 3.42612168e+00\n",
      "  5.00000001e-02 5.00000006e-02]\n",
      " [5.00000006e-02 5.00000006e-02 3.76560476e+00 ... 5.00000004e-02\n",
      "  5.00000001e-02 5.00000003e-02]]\n",
      "[[0.00208333 0.00208333 0.00208333 ... 0.00208333 0.00208333 0.00208333]\n",
      " [0.0025     0.0025     0.0025     ... 0.0025     0.0025     0.0025    ]\n",
      " [0.00060241 0.00060241 0.3399354  ... 0.08391117 0.00060241 0.00060241]\n",
      " ...\n",
      " [0.00454545 0.00454545 0.00454545 ... 0.00454545 0.00454545 0.00454545]\n",
      " [0.00294118 0.00294118 0.00294118 ... 0.25845738 0.00294118 0.12178461]\n",
      " [0.00357143 0.00357143 0.29402336 ... 0.00357143 0.00357143 0.00357143]]\n"
     ]
    }
   ],
   "source": [
    "from sklearn.datasets import fetch_20newsgroups\n",
    "from sklearn.feature_extraction.text import CountVectorizer\n",
    "from sklearn.decomposition import LatentDirichletAllocation\n",
    "\n",
    "data = fetch_20newsgroups(remove=('headers', 'footers', 'quotes'))\n",
    "\n",
    "max_features = 1000\n",
    "tf_vectorizer = CountVectorizer(max_features=max_features, stop_words= 'english')\n",
    "\n",
    "tf = tf_vectorizer.fit_transform(data.data)\n",
    "\n",
    "n_topics = 20\n",
    "model = LatentDirichletAllocation(n_components=n_topics)\n",
    "model.fit(tf)\n",
    "\n",
    "print(model.components_)\n",
    "print(model.transform(tf))"
   ]
  },
  {
   "cell_type": "code",
   "execution_count": 4,
   "id": "a839d6c7",
   "metadata": {},
   "outputs": [
    {
     "name": "stdout",
     "output_type": "stream",
     "text": [
      "[1 1 1 1 1 1 1 1 1 1 1 1 1 1 1 1 1 1 1 1 1 1 1 1 1 1 1 1 1 1 1 1 1 1 1 1 1\n",
      " 1 1 1 1 1 1 1 1 1 1 1 1 1 2 2 2 2 2 2 2 2 2 2 2 2 2 2 2 2 2 2 0 2 0 2 0 2\n",
      " 2 2 2 0 2 2 2 2 2 0 2 2 2 2 2 2 2 2 2 2 2 2 2 2 2 2 0 0 0 0 0 0 0 0 0 0 0\n",
      " 0 0 0 0 0 0 0 0 0 0 0 0 0 0 0 0 0 0 0 0 0 0 0 0 0 0 0 0 0 0 0 0 0 0 0 0 0\n",
      " 0 0]\n",
      "[[6.54639415 2.94946365 5.48364578 1.98726565]\n",
      " [5.006      3.428      1.462      0.246     ]\n",
      " [5.9170732  2.77804839 4.20540364 1.29848217]]\n",
      "[[[0.38744093 0.09223276 0.30244302 0.06087397]\n",
      "  [0.09223276 0.11040914 0.08385112 0.05574334]\n",
      "  [0.30244302 0.08385112 0.32589574 0.07276776]\n",
      "  [0.06087397 0.05574334 0.07276776 0.08484505]]\n",
      "\n",
      " [[0.121765   0.097232   0.016028   0.010124  ]\n",
      "  [0.097232   0.140817   0.011464   0.009112  ]\n",
      "  [0.016028   0.011464   0.029557   0.005948  ]\n",
      "  [0.010124   0.009112   0.005948   0.010885  ]]\n",
      "\n",
      " [[0.2755171  0.09662295 0.18547072 0.05478901]\n",
      "  [0.09662295 0.09255152 0.09103431 0.04299899]\n",
      "  [0.18547072 0.09103431 0.20235849 0.06171383]\n",
      "  [0.05478901 0.04299899 0.06171383 0.03233775]]]\n"
     ]
    }
   ],
   "source": [
    "from sklearn.datasets import load_iris\n",
    "from sklearn.mixture import GaussianMixture\n",
    "\n",
    "data = load_iris()\n",
    "\n",
    "n_components = 3\n",
    "model = GaussianMixture(n_components = n_components)\n",
    "model.fit(data.data)\n",
    "print(model.predict(data.data))\n",
    "print(model.means_)\n",
    "print(model.covariances_)"
   ]
  },
  {
   "cell_type": "code",
   "execution_count": 5,
   "id": "31b99130",
   "metadata": {},
   "outputs": [
    {
     "name": "stdout",
     "output_type": "stream",
     "text": [
      "[[-0.01574776 -0.01606976]\n",
      " [ 0.01538539 -0.00744862]\n",
      " [-0.03680319  0.01499188]\n",
      " ...\n",
      " [ 0.045258   -0.01589379]\n",
      " [-0.02242585  0.0049879 ]\n",
      " [-0.01363483  0.04629904]]\n"
     ]
    }
   ],
   "source": [
    "from sklearn.datasets import make_swiss_roll\n",
    "from sklearn.manifold import LocallyLinearEmbedding\n",
    "\n",
    "data, color = make_swiss_roll(n_samples = 1500)\n",
    "\n",
    "n_neighbors = 12\n",
    "n_components = 2\n",
    "model = LocallyLinearEmbedding(n_neighbors=n_neighbors, n_components=n_components)\n",
    "\n",
    "model.fit(data)\n",
    "print(model.transform(data))"
   ]
  },
  {
   "cell_type": "code",
   "execution_count": null,
   "id": "21648470",
   "metadata": {},
   "outputs": [],
   "source": []
  }
 ],
 "metadata": {
  "kernelspec": {
   "display_name": "Python 3 (ipykernel)",
   "language": "python",
   "name": "python3"
  },
  "language_info": {
   "codemirror_mode": {
    "name": "ipython",
    "version": 3
   },
   "file_extension": ".py",
   "mimetype": "text/x-python",
   "name": "python",
   "nbconvert_exporter": "python",
   "pygments_lexer": "ipython3",
   "version": "3.10.3"
  }
 },
 "nbformat": 4,
 "nbformat_minor": 5
}

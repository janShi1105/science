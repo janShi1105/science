{
 "cells": [
  {
   "cell_type": "code",
   "execution_count": 1,
   "id": "7a5f14fe",
   "metadata": {},
   "outputs": [
    {
     "name": "stdout",
     "output_type": "stream",
     "text": [
      "[0.         0.         0.         0.16666667 0.16666667 0.5\n",
      " 0.5        1.        ]\n"
     ]
    }
   ],
   "source": [
    "from sklearn.metrics import roc_curve\n",
    "\n",
    "y_pass = [0,0,0,1,0,0,1,0,1,1]\n",
    "y_score = [.1,.2,.4,.45,.5,.65,.7,.8,.85,.95]\n",
    "\n",
    "fpr, tpr, thresholds= roc_curve(y_pass, y_score)\n",
    "\n",
    "print(fpr)"
   ]
  },
  {
   "cell_type": "code",
   "execution_count": 2,
   "id": "7b3a4abd",
   "metadata": {},
   "outputs": [
    {
     "name": "stdout",
     "output_type": "stream",
     "text": [
      "[0.   0.25 0.5  0.5  0.75 0.75 1.   1.  ]\n"
     ]
    }
   ],
   "source": [
    "print(tpr)"
   ]
  },
  {
   "cell_type": "code",
   "execution_count": 3,
   "id": "f50f9ddf",
   "metadata": {},
   "outputs": [
    {
     "name": "stdout",
     "output_type": "stream",
     "text": [
      "[1.95 0.95 0.85 0.8  0.7  0.5  0.45 0.1 ]\n"
     ]
    }
   ],
   "source": [
    "print(thresholds)"
   ]
  },
  {
   "cell_type": "code",
   "execution_count": 4,
   "id": "9a7aebe2",
   "metadata": {},
   "outputs": [
    {
     "data": {
      "image/png": "[encoded data removed]",
      "text/plain": [
       "<Figure size 432x288 with 1 Axes>"
      ]
     },
     "metadata": {
      "needs_background": "light"
     },
     "output_type": "display_data"
    }
   ],
   "source": [
    "import matplotlib.pyplot as plt\n",
    "\n",
    "plt.plot(fpr, tpr, marker='o')\n",
    "plt.grid()\n",
    "plt.show()"
   ]
  },
  {
   "cell_type": "code",
   "execution_count": 5,
   "id": "9f036895",
   "metadata": {},
   "outputs": [
    {
     "name": "stdout",
     "output_type": "stream",
     "text": [
      "AUC (auc func): 0.8333333333333333\n"
     ]
    }
   ],
   "source": [
    "from sklearn.metrics import auc, roc_auc_score\n",
    "\n",
    "print(f'AUC (auc func): {auc(fpr, tpr)}')"
   ]
  },
  {
   "cell_type": "code",
   "execution_count": 6,
   "id": "5e6b8ced",
   "metadata": {},
   "outputs": [
    {
     "name": "stdout",
     "output_type": "stream",
     "text": [
      "AUC (roc_auc_score) : 0.8333333333333333\n"
     ]
    }
   ],
   "source": [
    "print(f'AUC (roc_auc_score) : {roc_auc_score(y_pass, y_score)}')"
   ]
  },
  {
   "cell_type": "code",
   "execution_count": 8,
   "id": "b5913724",
   "metadata": {},
   "outputs": [
    {
     "data": {
      "image/png": "[encoded data removed]",
      "text/plain": [
       "<Figure size 432x288 with 1 Axes>"
      ]
     },
     "metadata": {
      "needs_background": "light"
     },
     "output_type": "display_data"
    }
   ],
   "source": [
    "y_perfect = [0,0,0,0,1,1,1,1,1,1]\n",
    "y_score_perfect = [0.1,.2,.3,.4,.5,.6,.7,.8,.9,1]\n",
    "\n",
    "fpr, tpr , _= roc_curve(y_perfect, y_score_perfect)\n",
    "\n",
    "plt.plot(fpr, tpr, marker='o')\n",
    "plt.grid()\n",
    "plt.show()"
   ]
  },
  {
   "cell_type": "code",
   "execution_count": 9,
   "id": "021e3bce",
   "metadata": {},
   "outputs": [
    {
     "name": "stdout",
     "output_type": "stream",
     "text": [
      "AUC (perfect) : 1.0\n"
     ]
    }
   ],
   "source": [
    "print(f'AUC (perfect) : {roc_auc_score(y_perfect,y_score_perfect)}')"
   ]
  },
  {
   "cell_type": "code",
   "execution_count": null,
   "id": "b56bf3ba",
   "metadata": {},
   "outputs": [],
   "source": []
  }
 ],
 "metadata": {
  "kernelspec": {
   "display_name": "Python 3 (ipykernel)",
   "language": "python",
   "name": "python3"
  },
  "language_info": {
   "codemirror_mode": {
    "name": "ipython",
    "version": 3
   },
   "file_extension": ".py",
   "mimetype": "text/x-python",
   "name": "python",
   "nbconvert_exporter": "python",
   "pygments_lexer": "ipython3",
   "version": "3.10.3"
  }
 },
 "nbformat": 4,
 "nbformat_minor": 5
}

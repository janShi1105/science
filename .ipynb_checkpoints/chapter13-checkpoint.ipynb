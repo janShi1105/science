{
 "cells": [
  {
   "cell_type": "code",
   "execution_count": 1,
   "id": "db657e37",
   "metadata": {},
   "outputs": [],
   "source": [
    "import pandas as pd"
   ]
  },
  {
   "cell_type": "code",
   "execution_count": 2,
   "id": "3e27838d",
   "metadata": {},
   "outputs": [],
   "source": [
    "import numpy as np"
   ]
  },
  {
   "cell_type": "code",
   "execution_count": 3,
   "id": "7d776e5f",
   "metadata": {},
   "outputs": [],
   "source": [
    "data = pd.DataFrame({\n",
    "    'x0': [1,2,3,4,5],\n",
    "    'x1': [0.01, -0.01, 0.25, -4.1, 0.],\n",
    "    'y': [-1.5, 0., 3.6, 1.3, -2.]\n",
    "})"
   ]
  },
  {
   "cell_type": "code",
   "execution_count": 4,
   "id": "74980f61",
   "metadata": {},
   "outputs": [
    {
     "data": {
      "text/html": [
       "<div>\n",
       "<style scoped>\n",
       "    .dataframe tbody tr th:only-of-type {\n",
       "        vertical-align: middle;\n",
       "    }\n",
       "\n",
       "    .dataframe tbody tr th {\n",
       "        vertical-align: top;\n",
       "    }\n",
       "\n",
       "    .dataframe thead th {\n",
       "        text-align: right;\n",
       "    }\n",
       "</style>\n",
       "<table border=\"1\" class=\"dataframe\">\n",
       "  <thead>\n",
       "    <tr style=\"text-align: right;\">\n",
       "      <th></th>\n",
       "      <th>x0</th>\n",
       "      <th>x1</th>\n",
       "      <th>y</th>\n",
       "    </tr>\n",
       "  </thead>\n",
       "  <tbody>\n",
       "    <tr>\n",
       "      <th>0</th>\n",
       "      <td>1</td>\n",
       "      <td>0.01</td>\n",
       "      <td>-1.5</td>\n",
       "    </tr>\n",
       "    <tr>\n",
       "      <th>1</th>\n",
       "      <td>2</td>\n",
       "      <td>-0.01</td>\n",
       "      <td>0.0</td>\n",
       "    </tr>\n",
       "    <tr>\n",
       "      <th>2</th>\n",
       "      <td>3</td>\n",
       "      <td>0.25</td>\n",
       "      <td>3.6</td>\n",
       "    </tr>\n",
       "    <tr>\n",
       "      <th>3</th>\n",
       "      <td>4</td>\n",
       "      <td>-4.10</td>\n",
       "      <td>1.3</td>\n",
       "    </tr>\n",
       "    <tr>\n",
       "      <th>4</th>\n",
       "      <td>5</td>\n",
       "      <td>0.00</td>\n",
       "      <td>-2.0</td>\n",
       "    </tr>\n",
       "  </tbody>\n",
       "</table>\n",
       "</div>"
      ],
      "text/plain": [
       "   x0    x1    y\n",
       "0   1  0.01 -1.5\n",
       "1   2 -0.01  0.0\n",
       "2   3  0.25  3.6\n",
       "3   4 -4.10  1.3\n",
       "4   5  0.00 -2.0"
      ]
     },
     "execution_count": 4,
     "metadata": {},
     "output_type": "execute_result"
    }
   ],
   "source": [
    "data"
   ]
  },
  {
   "cell_type": "code",
   "execution_count": 5,
   "id": "d775e4d3",
   "metadata": {},
   "outputs": [
    {
     "data": {
      "text/plain": [
       "Index(['x0', 'x1', 'y'], dtype='object')"
      ]
     },
     "execution_count": 5,
     "metadata": {},
     "output_type": "execute_result"
    }
   ],
   "source": [
    "data.columns"
   ]
  },
  {
   "cell_type": "code",
   "execution_count": 6,
   "id": "6428bbd5",
   "metadata": {},
   "outputs": [
    {
     "data": {
      "text/plain": [
       "array([[ 1.  ,  0.01, -1.5 ],\n",
       "       [ 2.  , -0.01,  0.  ],\n",
       "       [ 3.  ,  0.25,  3.6 ],\n",
       "       [ 4.  , -4.1 ,  1.3 ],\n",
       "       [ 5.  ,  0.  , -2.  ]])"
      ]
     },
     "execution_count": 6,
     "metadata": {},
     "output_type": "execute_result"
    }
   ],
   "source": [
    "data.values"
   ]
  },
  {
   "cell_type": "code",
   "execution_count": 8,
   "id": "ac1779ee",
   "metadata": {},
   "outputs": [],
   "source": [
    "from pandas import Series, DataFrame\n",
    "df2 = DataFrame(data.values, columns=['one', 'two', 'three'])"
   ]
  },
  {
   "cell_type": "code",
   "execution_count": 9,
   "id": "d3512f16",
   "metadata": {},
   "outputs": [
    {
     "data": {
      "text/html": [
       "<div>\n",
       "<style scoped>\n",
       "    .dataframe tbody tr th:only-of-type {\n",
       "        vertical-align: middle;\n",
       "    }\n",
       "\n",
       "    .dataframe tbody tr th {\n",
       "        vertical-align: top;\n",
       "    }\n",
       "\n",
       "    .dataframe thead th {\n",
       "        text-align: right;\n",
       "    }\n",
       "</style>\n",
       "<table border=\"1\" class=\"dataframe\">\n",
       "  <thead>\n",
       "    <tr style=\"text-align: right;\">\n",
       "      <th></th>\n",
       "      <th>one</th>\n",
       "      <th>two</th>\n",
       "      <th>three</th>\n",
       "    </tr>\n",
       "  </thead>\n",
       "  <tbody>\n",
       "    <tr>\n",
       "      <th>0</th>\n",
       "      <td>1.0</td>\n",
       "      <td>0.01</td>\n",
       "      <td>-1.5</td>\n",
       "    </tr>\n",
       "    <tr>\n",
       "      <th>1</th>\n",
       "      <td>2.0</td>\n",
       "      <td>-0.01</td>\n",
       "      <td>0.0</td>\n",
       "    </tr>\n",
       "    <tr>\n",
       "      <th>2</th>\n",
       "      <td>3.0</td>\n",
       "      <td>0.25</td>\n",
       "      <td>3.6</td>\n",
       "    </tr>\n",
       "    <tr>\n",
       "      <th>3</th>\n",
       "      <td>4.0</td>\n",
       "      <td>-4.10</td>\n",
       "      <td>1.3</td>\n",
       "    </tr>\n",
       "    <tr>\n",
       "      <th>4</th>\n",
       "      <td>5.0</td>\n",
       "      <td>0.00</td>\n",
       "      <td>-2.0</td>\n",
       "    </tr>\n",
       "  </tbody>\n",
       "</table>\n",
       "</div>"
      ],
      "text/plain": [
       "   one   two  three\n",
       "0  1.0  0.01   -1.5\n",
       "1  2.0 -0.01    0.0\n",
       "2  3.0  0.25    3.6\n",
       "3  4.0 -4.10    1.3\n",
       "4  5.0  0.00   -2.0"
      ]
     },
     "execution_count": 9,
     "metadata": {},
     "output_type": "execute_result"
    }
   ],
   "source": [
    "df2"
   ]
  },
  {
   "cell_type": "code",
   "execution_count": 10,
   "id": "63eddb00",
   "metadata": {},
   "outputs": [],
   "source": [
    "df3 = data.copy()"
   ]
  },
  {
   "cell_type": "code",
   "execution_count": 11,
   "id": "06a2e78d",
   "metadata": {},
   "outputs": [],
   "source": [
    "df3['strings'] =  ['a', 'b', 'c', 'd', 'e']"
   ]
  },
  {
   "cell_type": "code",
   "execution_count": 12,
   "id": "82185aa5",
   "metadata": {},
   "outputs": [
    {
     "data": {
      "text/html": [
       "<div>\n",
       "<style scoped>\n",
       "    .dataframe tbody tr th:only-of-type {\n",
       "        vertical-align: middle;\n",
       "    }\n",
       "\n",
       "    .dataframe tbody tr th {\n",
       "        vertical-align: top;\n",
       "    }\n",
       "\n",
       "    .dataframe thead th {\n",
       "        text-align: right;\n",
       "    }\n",
       "</style>\n",
       "<table border=\"1\" class=\"dataframe\">\n",
       "  <thead>\n",
       "    <tr style=\"text-align: right;\">\n",
       "      <th></th>\n",
       "      <th>x0</th>\n",
       "      <th>x1</th>\n",
       "      <th>y</th>\n",
       "      <th>strings</th>\n",
       "    </tr>\n",
       "  </thead>\n",
       "  <tbody>\n",
       "    <tr>\n",
       "      <th>0</th>\n",
       "      <td>1</td>\n",
       "      <td>0.01</td>\n",
       "      <td>-1.5</td>\n",
       "      <td>a</td>\n",
       "    </tr>\n",
       "    <tr>\n",
       "      <th>1</th>\n",
       "      <td>2</td>\n",
       "      <td>-0.01</td>\n",
       "      <td>0.0</td>\n",
       "      <td>b</td>\n",
       "    </tr>\n",
       "    <tr>\n",
       "      <th>2</th>\n",
       "      <td>3</td>\n",
       "      <td>0.25</td>\n",
       "      <td>3.6</td>\n",
       "      <td>c</td>\n",
       "    </tr>\n",
       "    <tr>\n",
       "      <th>3</th>\n",
       "      <td>4</td>\n",
       "      <td>-4.10</td>\n",
       "      <td>1.3</td>\n",
       "      <td>d</td>\n",
       "    </tr>\n",
       "    <tr>\n",
       "      <th>4</th>\n",
       "      <td>5</td>\n",
       "      <td>0.00</td>\n",
       "      <td>-2.0</td>\n",
       "      <td>e</td>\n",
       "    </tr>\n",
       "  </tbody>\n",
       "</table>\n",
       "</div>"
      ],
      "text/plain": [
       "   x0    x1    y strings\n",
       "0   1  0.01 -1.5       a\n",
       "1   2 -0.01  0.0       b\n",
       "2   3  0.25  3.6       c\n",
       "3   4 -4.10  1.3       d\n",
       "4   5  0.00 -2.0       e"
      ]
     },
     "execution_count": 12,
     "metadata": {},
     "output_type": "execute_result"
    }
   ],
   "source": [
    "df3"
   ]
  },
  {
   "cell_type": "code",
   "execution_count": 13,
   "id": "605c2e1d",
   "metadata": {},
   "outputs": [
    {
     "data": {
      "text/plain": [
       "array([[1, 0.01, -1.5, 'a'],\n",
       "       [2, -0.01, 0.0, 'b'],\n",
       "       [3, 0.25, 3.6, 'c'],\n",
       "       [4, -4.1, 1.3, 'd'],\n",
       "       [5, 0.0, -2.0, 'e']], dtype=object)"
      ]
     },
     "execution_count": 13,
     "metadata": {},
     "output_type": "execute_result"
    }
   ],
   "source": [
    "df3.values"
   ]
  },
  {
   "cell_type": "code",
   "execution_count": 14,
   "id": "7d4dd718",
   "metadata": {},
   "outputs": [],
   "source": [
    "model_cols = ['x0', 'x1']"
   ]
  },
  {
   "cell_type": "code",
   "execution_count": 15,
   "id": "24b67da9",
   "metadata": {},
   "outputs": [
    {
     "data": {
      "text/plain": [
       "array([[ 1.  ,  0.01],\n",
       "       [ 2.  , -0.01],\n",
       "       [ 3.  ,  0.25],\n",
       "       [ 4.  , -4.1 ],\n",
       "       [ 5.  ,  0.  ]])"
      ]
     },
     "execution_count": 15,
     "metadata": {},
     "output_type": "execute_result"
    }
   ],
   "source": [
    "data.loc[:, model_cols].values"
   ]
  },
  {
   "cell_type": "code",
   "execution_count": 16,
   "id": "bc999b9d",
   "metadata": {},
   "outputs": [],
   "source": [
    "data['category'] = pd.Categorical(['a','b', 'a', 'a', 'b'], categories=['a', 'b'])"
   ]
  },
  {
   "cell_type": "code",
   "execution_count": 17,
   "id": "b32d16b9",
   "metadata": {},
   "outputs": [
    {
     "data": {
      "text/html": [
       "<div>\n",
       "<style scoped>\n",
       "    .dataframe tbody tr th:only-of-type {\n",
       "        vertical-align: middle;\n",
       "    }\n",
       "\n",
       "    .dataframe tbody tr th {\n",
       "        vertical-align: top;\n",
       "    }\n",
       "\n",
       "    .dataframe thead th {\n",
       "        text-align: right;\n",
       "    }\n",
       "</style>\n",
       "<table border=\"1\" class=\"dataframe\">\n",
       "  <thead>\n",
       "    <tr style=\"text-align: right;\">\n",
       "      <th></th>\n",
       "      <th>x0</th>\n",
       "      <th>x1</th>\n",
       "      <th>y</th>\n",
       "      <th>category</th>\n",
       "    </tr>\n",
       "  </thead>\n",
       "  <tbody>\n",
       "    <tr>\n",
       "      <th>0</th>\n",
       "      <td>1</td>\n",
       "      <td>0.01</td>\n",
       "      <td>-1.5</td>\n",
       "      <td>a</td>\n",
       "    </tr>\n",
       "    <tr>\n",
       "      <th>1</th>\n",
       "      <td>2</td>\n",
       "      <td>-0.01</td>\n",
       "      <td>0.0</td>\n",
       "      <td>b</td>\n",
       "    </tr>\n",
       "    <tr>\n",
       "      <th>2</th>\n",
       "      <td>3</td>\n",
       "      <td>0.25</td>\n",
       "      <td>3.6</td>\n",
       "      <td>a</td>\n",
       "    </tr>\n",
       "    <tr>\n",
       "      <th>3</th>\n",
       "      <td>4</td>\n",
       "      <td>-4.10</td>\n",
       "      <td>1.3</td>\n",
       "      <td>a</td>\n",
       "    </tr>\n",
       "    <tr>\n",
       "      <th>4</th>\n",
       "      <td>5</td>\n",
       "      <td>0.00</td>\n",
       "      <td>-2.0</td>\n",
       "      <td>b</td>\n",
       "    </tr>\n",
       "  </tbody>\n",
       "</table>\n",
       "</div>"
      ],
      "text/plain": [
       "   x0    x1    y category\n",
       "0   1  0.01 -1.5        a\n",
       "1   2 -0.01  0.0        b\n",
       "2   3  0.25  3.6        a\n",
       "3   4 -4.10  1.3        a\n",
       "4   5  0.00 -2.0        b"
      ]
     },
     "execution_count": 17,
     "metadata": {},
     "output_type": "execute_result"
    }
   ],
   "source": [
    "data"
   ]
  },
  {
   "cell_type": "code",
   "execution_count": 18,
   "id": "1fb77c90",
   "metadata": {},
   "outputs": [],
   "source": [
    "dummies = pd.get_dummies(data.category, prefix='category')"
   ]
  },
  {
   "cell_type": "code",
   "execution_count": 19,
   "id": "9ebebf41",
   "metadata": {},
   "outputs": [
    {
     "data": {
      "text/html": [
       "<div>\n",
       "<style scoped>\n",
       "    .dataframe tbody tr th:only-of-type {\n",
       "        vertical-align: middle;\n",
       "    }\n",
       "\n",
       "    .dataframe tbody tr th {\n",
       "        vertical-align: top;\n",
       "    }\n",
       "\n",
       "    .dataframe thead th {\n",
       "        text-align: right;\n",
       "    }\n",
       "</style>\n",
       "<table border=\"1\" class=\"dataframe\">\n",
       "  <thead>\n",
       "    <tr style=\"text-align: right;\">\n",
       "      <th></th>\n",
       "      <th>category_a</th>\n",
       "      <th>category_b</th>\n",
       "    </tr>\n",
       "  </thead>\n",
       "  <tbody>\n",
       "    <tr>\n",
       "      <th>0</th>\n",
       "      <td>1</td>\n",
       "      <td>0</td>\n",
       "    </tr>\n",
       "    <tr>\n",
       "      <th>1</th>\n",
       "      <td>0</td>\n",
       "      <td>1</td>\n",
       "    </tr>\n",
       "    <tr>\n",
       "      <th>2</th>\n",
       "      <td>1</td>\n",
       "      <td>0</td>\n",
       "    </tr>\n",
       "    <tr>\n",
       "      <th>3</th>\n",
       "      <td>1</td>\n",
       "      <td>0</td>\n",
       "    </tr>\n",
       "    <tr>\n",
       "      <th>4</th>\n",
       "      <td>0</td>\n",
       "      <td>1</td>\n",
       "    </tr>\n",
       "  </tbody>\n",
       "</table>\n",
       "</div>"
      ],
      "text/plain": [
       "   category_a  category_b\n",
       "0           1           0\n",
       "1           0           1\n",
       "2           1           0\n",
       "3           1           0\n",
       "4           0           1"
      ]
     },
     "execution_count": 19,
     "metadata": {},
     "output_type": "execute_result"
    }
   ],
   "source": [
    "dummies"
   ]
  },
  {
   "cell_type": "code",
   "execution_count": 20,
   "id": "3d53e582",
   "metadata": {},
   "outputs": [],
   "source": [
    "data_with_dummies = data.drop('category', axis=1).join(dummies)"
   ]
  },
  {
   "cell_type": "code",
   "execution_count": 21,
   "id": "48a929dd",
   "metadata": {},
   "outputs": [
    {
     "data": {
      "text/html": [
       "<div>\n",
       "<style scoped>\n",
       "    .dataframe tbody tr th:only-of-type {\n",
       "        vertical-align: middle;\n",
       "    }\n",
       "\n",
       "    .dataframe tbody tr th {\n",
       "        vertical-align: top;\n",
       "    }\n",
       "\n",
       "    .dataframe thead th {\n",
       "        text-align: right;\n",
       "    }\n",
       "</style>\n",
       "<table border=\"1\" class=\"dataframe\">\n",
       "  <thead>\n",
       "    <tr style=\"text-align: right;\">\n",
       "      <th></th>\n",
       "      <th>x0</th>\n",
       "      <th>x1</th>\n",
       "      <th>y</th>\n",
       "      <th>category_a</th>\n",
       "      <th>category_b</th>\n",
       "    </tr>\n",
       "  </thead>\n",
       "  <tbody>\n",
       "    <tr>\n",
       "      <th>0</th>\n",
       "      <td>1</td>\n",
       "      <td>0.01</td>\n",
       "      <td>-1.5</td>\n",
       "      <td>1</td>\n",
       "      <td>0</td>\n",
       "    </tr>\n",
       "    <tr>\n",
       "      <th>1</th>\n",
       "      <td>2</td>\n",
       "      <td>-0.01</td>\n",
       "      <td>0.0</td>\n",
       "      <td>0</td>\n",
       "      <td>1</td>\n",
       "    </tr>\n",
       "    <tr>\n",
       "      <th>2</th>\n",
       "      <td>3</td>\n",
       "      <td>0.25</td>\n",
       "      <td>3.6</td>\n",
       "      <td>1</td>\n",
       "      <td>0</td>\n",
       "    </tr>\n",
       "    <tr>\n",
       "      <th>3</th>\n",
       "      <td>4</td>\n",
       "      <td>-4.10</td>\n",
       "      <td>1.3</td>\n",
       "      <td>1</td>\n",
       "      <td>0</td>\n",
       "    </tr>\n",
       "    <tr>\n",
       "      <th>4</th>\n",
       "      <td>5</td>\n",
       "      <td>0.00</td>\n",
       "      <td>-2.0</td>\n",
       "      <td>0</td>\n",
       "      <td>1</td>\n",
       "    </tr>\n",
       "  </tbody>\n",
       "</table>\n",
       "</div>"
      ],
      "text/plain": [
       "   x0    x1    y  category_a  category_b\n",
       "0   1  0.01 -1.5           1           0\n",
       "1   2 -0.01  0.0           0           1\n",
       "2   3  0.25  3.6           1           0\n",
       "3   4 -4.10  1.3           1           0\n",
       "4   5  0.00 -2.0           0           1"
      ]
     },
     "execution_count": 21,
     "metadata": {},
     "output_type": "execute_result"
    }
   ],
   "source": [
    "data_with_dummies"
   ]
  },
  {
   "cell_type": "code",
   "execution_count": 22,
   "id": "951eaa7c",
   "metadata": {},
   "outputs": [],
   "source": [
    "data = DataFrame({'x0': [1,2,3,4,5], 'x1': [0.01, -0.01, 0.25, -4.1, 0.], 'y':[-1.5, 0., 3.6, 1.3, -2]})"
   ]
  },
  {
   "cell_type": "code",
   "execution_count": 23,
   "id": "2980992d",
   "metadata": {},
   "outputs": [
    {
     "data": {
      "text/html": [
       "<div>\n",
       "<style scoped>\n",
       "    .dataframe tbody tr th:only-of-type {\n",
       "        vertical-align: middle;\n",
       "    }\n",
       "\n",
       "    .dataframe tbody tr th {\n",
       "        vertical-align: top;\n",
       "    }\n",
       "\n",
       "    .dataframe thead th {\n",
       "        text-align: right;\n",
       "    }\n",
       "</style>\n",
       "<table border=\"1\" class=\"dataframe\">\n",
       "  <thead>\n",
       "    <tr style=\"text-align: right;\">\n",
       "      <th></th>\n",
       "      <th>x0</th>\n",
       "      <th>x1</th>\n",
       "      <th>y</th>\n",
       "    </tr>\n",
       "  </thead>\n",
       "  <tbody>\n",
       "    <tr>\n",
       "      <th>0</th>\n",
       "      <td>1</td>\n",
       "      <td>0.01</td>\n",
       "      <td>-1.5</td>\n",
       "    </tr>\n",
       "    <tr>\n",
       "      <th>1</th>\n",
       "      <td>2</td>\n",
       "      <td>-0.01</td>\n",
       "      <td>0.0</td>\n",
       "    </tr>\n",
       "    <tr>\n",
       "      <th>2</th>\n",
       "      <td>3</td>\n",
       "      <td>0.25</td>\n",
       "      <td>3.6</td>\n",
       "    </tr>\n",
       "    <tr>\n",
       "      <th>3</th>\n",
       "      <td>4</td>\n",
       "      <td>-4.10</td>\n",
       "      <td>1.3</td>\n",
       "    </tr>\n",
       "    <tr>\n",
       "      <th>4</th>\n",
       "      <td>5</td>\n",
       "      <td>0.00</td>\n",
       "      <td>-2.0</td>\n",
       "    </tr>\n",
       "  </tbody>\n",
       "</table>\n",
       "</div>"
      ],
      "text/plain": [
       "   x0    x1    y\n",
       "0   1  0.01 -1.5\n",
       "1   2 -0.01  0.0\n",
       "2   3  0.25  3.6\n",
       "3   4 -4.10  1.3\n",
       "4   5  0.00 -2.0"
      ]
     },
     "execution_count": 23,
     "metadata": {},
     "output_type": "execute_result"
    }
   ],
   "source": [
    "data"
   ]
  },
  {
   "cell_type": "code",
   "execution_count": 24,
   "id": "e726ab0c",
   "metadata": {},
   "outputs": [],
   "source": [
    "import patsy"
   ]
  },
  {
   "cell_type": "code",
   "execution_count": 25,
   "id": "4b241539",
   "metadata": {},
   "outputs": [],
   "source": [
    "y, X = patsy.dmatrices('y ~ x0 + x1', data)"
   ]
  },
  {
   "cell_type": "code",
   "execution_count": 26,
   "id": "466a2302",
   "metadata": {},
   "outputs": [
    {
     "data": {
      "text/plain": [
       "DesignMatrix with shape (5, 1)\n",
       "     y\n",
       "  -1.5\n",
       "   0.0\n",
       "   3.6\n",
       "   1.3\n",
       "  -2.0\n",
       "  Terms:\n",
       "    'y' (column 0)"
      ]
     },
     "execution_count": 26,
     "metadata": {},
     "output_type": "execute_result"
    }
   ],
   "source": [
    "y"
   ]
  },
  {
   "cell_type": "code",
   "execution_count": 27,
   "id": "7127fdab",
   "metadata": {},
   "outputs": [
    {
     "data": {
      "text/plain": [
       "DesignMatrix with shape (5, 3)\n",
       "  Intercept  x0     x1\n",
       "          1   1   0.01\n",
       "          1   2  -0.01\n",
       "          1   3   0.25\n",
       "          1   4  -4.10\n",
       "          1   5   0.00\n",
       "  Terms:\n",
       "    'Intercept' (column 0)\n",
       "    'x0' (column 1)\n",
       "    'x1' (column 2)"
      ]
     },
     "execution_count": 27,
     "metadata": {},
     "output_type": "execute_result"
    }
   ],
   "source": [
    "X"
   ]
  },
  {
   "cell_type": "code",
   "execution_count": 28,
   "id": "649c7713",
   "metadata": {},
   "outputs": [
    {
     "data": {
      "text/plain": [
       "array([[-1.5],\n",
       "       [ 0. ],\n",
       "       [ 3.6],\n",
       "       [ 1.3],\n",
       "       [-2. ]])"
      ]
     },
     "execution_count": 28,
     "metadata": {},
     "output_type": "execute_result"
    }
   ],
   "source": [
    "np.asarray(y)"
   ]
  },
  {
   "cell_type": "code",
   "execution_count": 29,
   "id": "f06a6e50",
   "metadata": {},
   "outputs": [
    {
     "data": {
      "text/plain": [
       "array([[ 1.  ,  1.  ,  0.01],\n",
       "       [ 1.  ,  2.  , -0.01],\n",
       "       [ 1.  ,  3.  ,  0.25],\n",
       "       [ 1.  ,  4.  , -4.1 ],\n",
       "       [ 1.  ,  5.  ,  0.  ]])"
      ]
     },
     "execution_count": 29,
     "metadata": {},
     "output_type": "execute_result"
    }
   ],
   "source": [
    "np.asarray(X)"
   ]
  },
  {
   "cell_type": "code",
   "execution_count": 31,
   "id": "9b3e5e3f",
   "metadata": {},
   "outputs": [
    {
     "data": {
      "text/plain": [
       "DesignMatrix with shape (5, 2)\n",
       "  x0     x1\n",
       "   1   0.01\n",
       "   2  -0.01\n",
       "   3   0.25\n",
       "   4  -4.10\n",
       "   5   0.00\n",
       "  Terms:\n",
       "    'x0' (column 0)\n",
       "    'x1' (column 1)"
      ]
     },
     "execution_count": 31,
     "metadata": {},
     "output_type": "execute_result"
    }
   ],
   "source": [
    "patsy.dmatrices('y ~ x0 + x1 + 0', data)[1]"
   ]
  },
  {
   "cell_type": "code",
   "execution_count": 32,
   "id": "527c594a",
   "metadata": {},
   "outputs": [
    {
     "name": "stderr",
     "output_type": "stream",
     "text": [
      "/var/folders/tl/3mcdykwx5g145dz_cpc1vdxc0000gn/T/ipykernel_53771/1767972689.py:1: FutureWarning: `rcond` parameter will change to the default of machine precision times ``max(M, N)`` where M and N are the input matrix dimensions.\n",
      "To use the future default and silence this warning we advise to pass `rcond=None`, to keep using the old, explicitly pass `rcond=-1`.\n",
      "  coef, resid, _, _ = np.linalg.lstsq(X,y)\n"
     ]
    }
   ],
   "source": [
    "coef, resid, _, _ = np.linalg.lstsq(X,y)"
   ]
  },
  {
   "cell_type": "code",
   "execution_count": 33,
   "id": "8f215e01",
   "metadata": {},
   "outputs": [
    {
     "data": {
      "text/plain": [
       "array([[ 0.31290976],\n",
       "       [-0.07910564],\n",
       "       [-0.26546384]])"
      ]
     },
     "execution_count": 33,
     "metadata": {},
     "output_type": "execute_result"
    }
   ],
   "source": [
    "coef"
   ]
  },
  {
   "cell_type": "code",
   "execution_count": 34,
   "id": "9876f477",
   "metadata": {},
   "outputs": [],
   "source": [
    "coef = Series(coef.squeeze(), index=X.design_info.column_names)"
   ]
  },
  {
   "cell_type": "code",
   "execution_count": 35,
   "id": "87208e1c",
   "metadata": {},
   "outputs": [
    {
     "data": {
      "text/plain": [
       "Intercept    0.312910\n",
       "x0          -0.079106\n",
       "x1          -0.265464\n",
       "dtype: float64"
      ]
     },
     "execution_count": 35,
     "metadata": {},
     "output_type": "execute_result"
    }
   ],
   "source": [
    "coef"
   ]
  },
  {
   "cell_type": "code",
   "execution_count": 36,
   "id": "bee90599",
   "metadata": {},
   "outputs": [],
   "source": [
    "y, X = patsy.dmatrices('y ~ x0 + np.log(np.abs(x1) + 1)', data)"
   ]
  },
  {
   "cell_type": "code",
   "execution_count": 37,
   "id": "deedba2d",
   "metadata": {},
   "outputs": [
    {
     "data": {
      "text/plain": [
       "DesignMatrix with shape (5, 3)\n",
       "  Intercept  x0  np.log(np.abs(x1) + 1)\n",
       "          1   1                 0.00995\n",
       "          1   2                 0.00995\n",
       "          1   3                 0.22314\n",
       "          1   4                 1.62924\n",
       "          1   5                 0.00000\n",
       "  Terms:\n",
       "    'Intercept' (column 0)\n",
       "    'x0' (column 1)\n",
       "    'np.log(np.abs(x1) + 1)' (column 2)"
      ]
     },
     "execution_count": 37,
     "metadata": {},
     "output_type": "execute_result"
    }
   ],
   "source": [
    "X"
   ]
  },
  {
   "cell_type": "code",
   "execution_count": 38,
   "id": "8037932a",
   "metadata": {},
   "outputs": [],
   "source": [
    "y, X = patsy.dmatrices('y ~ standardize(x0) + center(x1)', data)"
   ]
  },
  {
   "cell_type": "code",
   "execution_count": 39,
   "id": "80eab6c4",
   "metadata": {},
   "outputs": [
    {
     "data": {
      "text/plain": [
       "DesignMatrix with shape (5, 3)\n",
       "  Intercept  standardize(x0)  center(x1)\n",
       "          1         -1.41421        0.78\n",
       "          1         -0.70711        0.76\n",
       "          1          0.00000        1.02\n",
       "          1          0.70711       -3.33\n",
       "          1          1.41421        0.77\n",
       "  Terms:\n",
       "    'Intercept' (column 0)\n",
       "    'standardize(x0)' (column 1)\n",
       "    'center(x1)' (column 2)"
      ]
     },
     "execution_count": 39,
     "metadata": {},
     "output_type": "execute_result"
    }
   ],
   "source": [
    "X"
   ]
  },
  {
   "cell_type": "code",
   "execution_count": 40,
   "id": "9b05d81c",
   "metadata": {},
   "outputs": [],
   "source": [
    "y, X = patsy.dmatrices('y ~ I(x0 + x1)', data)"
   ]
  },
  {
   "cell_type": "code",
   "execution_count": 41,
   "id": "0f5baa68",
   "metadata": {},
   "outputs": [
    {
     "data": {
      "text/plain": [
       "DesignMatrix with shape (5, 2)\n",
       "  Intercept  I(x0 + x1)\n",
       "          1        1.01\n",
       "          1        1.99\n",
       "          1        3.25\n",
       "          1       -0.10\n",
       "          1        5.00\n",
       "  Terms:\n",
       "    'Intercept' (column 0)\n",
       "    'I(x0 + x1)' (column 1)"
      ]
     },
     "execution_count": 41,
     "metadata": {},
     "output_type": "execute_result"
    }
   ],
   "source": [
    "X"
   ]
  },
  {
   "cell_type": "code",
   "execution_count": 43,
   "id": "1dc6d1ab",
   "metadata": {},
   "outputs": [],
   "source": [
    "data = DataFrame({'key1': ['a', 'a', 'b', 'b', 'a', 'b', 'a', 'b'], 'key2': [0,1,0,1,0,1,0,0], 'v1': [1,2,3,4,5,6,7,8], 'v2': [-1, 0, 2.5, -0.5, 4, -1.2, 0.2, -1.7]})"
   ]
  },
  {
   "cell_type": "code",
   "execution_count": 44,
   "id": "83d5991f",
   "metadata": {},
   "outputs": [],
   "source": [
    "y, X = patsy.dmatrices('v2 ~ key1', data)"
   ]
  },
  {
   "cell_type": "code",
   "execution_count": 45,
   "id": "32f0cc9f",
   "metadata": {},
   "outputs": [
    {
     "data": {
      "text/plain": [
       "DesignMatrix with shape (8, 2)\n",
       "  Intercept  key1[T.b]\n",
       "          1          0\n",
       "          1          0\n",
       "          1          1\n",
       "          1          1\n",
       "          1          0\n",
       "          1          1\n",
       "          1          0\n",
       "          1          1\n",
       "  Terms:\n",
       "    'Intercept' (column 0)\n",
       "    'key1' (column 1)"
      ]
     },
     "execution_count": 45,
     "metadata": {},
     "output_type": "execute_result"
    }
   ],
   "source": [
    "X"
   ]
  },
  {
   "cell_type": "code",
   "execution_count": 46,
   "id": "8d14e776",
   "metadata": {},
   "outputs": [],
   "source": [
    "y, X = patsy.dmatrices('v2 ~ key1 + 0', data)"
   ]
  },
  {
   "cell_type": "code",
   "execution_count": 47,
   "id": "41df9b82",
   "metadata": {},
   "outputs": [
    {
     "data": {
      "text/plain": [
       "DesignMatrix with shape (8, 2)\n",
       "  key1[a]  key1[b]\n",
       "        1        0\n",
       "        1        0\n",
       "        0        1\n",
       "        0        1\n",
       "        1        0\n",
       "        0        1\n",
       "        1        0\n",
       "        0        1\n",
       "  Terms:\n",
       "    'key1' (columns 0:2)"
      ]
     },
     "execution_count": 47,
     "metadata": {},
     "output_type": "execute_result"
    }
   ],
   "source": [
    "X"
   ]
  },
  {
   "cell_type": "code",
   "execution_count": 48,
   "id": "a01dfc46",
   "metadata": {},
   "outputs": [],
   "source": [
    "y,X = patsy.dmatrices('v2 ~ C(key2)', data)"
   ]
  },
  {
   "cell_type": "code",
   "execution_count": 49,
   "id": "75eb093e",
   "metadata": {},
   "outputs": [
    {
     "data": {
      "text/plain": [
       "DesignMatrix with shape (8, 2)\n",
       "  Intercept  C(key2)[T.1]\n",
       "          1             0\n",
       "          1             1\n",
       "          1             0\n",
       "          1             1\n",
       "          1             0\n",
       "          1             1\n",
       "          1             0\n",
       "          1             0\n",
       "  Terms:\n",
       "    'Intercept' (column 0)\n",
       "    'C(key2)' (column 1)"
      ]
     },
     "execution_count": 49,
     "metadata": {},
     "output_type": "execute_result"
    }
   ],
   "source": [
    "X"
   ]
  },
  {
   "cell_type": "code",
   "execution_count": 50,
   "id": "67e6ed30",
   "metadata": {},
   "outputs": [],
   "source": [
    "data['key2'] =data['key2'].map({0: 'zero', 1: 'one'})"
   ]
  },
  {
   "cell_type": "code",
   "execution_count": 51,
   "id": "ed38b488",
   "metadata": {},
   "outputs": [
    {
     "data": {
      "text/html": [
       "<div>\n",
       "<style scoped>\n",
       "    .dataframe tbody tr th:only-of-type {\n",
       "        vertical-align: middle;\n",
       "    }\n",
       "\n",
       "    .dataframe tbody tr th {\n",
       "        vertical-align: top;\n",
       "    }\n",
       "\n",
       "    .dataframe thead th {\n",
       "        text-align: right;\n",
       "    }\n",
       "</style>\n",
       "<table border=\"1\" class=\"dataframe\">\n",
       "  <thead>\n",
       "    <tr style=\"text-align: right;\">\n",
       "      <th></th>\n",
       "      <th>key1</th>\n",
       "      <th>key2</th>\n",
       "      <th>v1</th>\n",
       "      <th>v2</th>\n",
       "    </tr>\n",
       "  </thead>\n",
       "  <tbody>\n",
       "    <tr>\n",
       "      <th>0</th>\n",
       "      <td>a</td>\n",
       "      <td>zero</td>\n",
       "      <td>1</td>\n",
       "      <td>-1.0</td>\n",
       "    </tr>\n",
       "    <tr>\n",
       "      <th>1</th>\n",
       "      <td>a</td>\n",
       "      <td>one</td>\n",
       "      <td>2</td>\n",
       "      <td>0.0</td>\n",
       "    </tr>\n",
       "    <tr>\n",
       "      <th>2</th>\n",
       "      <td>b</td>\n",
       "      <td>zero</td>\n",
       "      <td>3</td>\n",
       "      <td>2.5</td>\n",
       "    </tr>\n",
       "    <tr>\n",
       "      <th>3</th>\n",
       "      <td>b</td>\n",
       "      <td>one</td>\n",
       "      <td>4</td>\n",
       "      <td>-0.5</td>\n",
       "    </tr>\n",
       "    <tr>\n",
       "      <th>4</th>\n",
       "      <td>a</td>\n",
       "      <td>zero</td>\n",
       "      <td>5</td>\n",
       "      <td>4.0</td>\n",
       "    </tr>\n",
       "    <tr>\n",
       "      <th>5</th>\n",
       "      <td>b</td>\n",
       "      <td>one</td>\n",
       "      <td>6</td>\n",
       "      <td>-1.2</td>\n",
       "    </tr>\n",
       "    <tr>\n",
       "      <th>6</th>\n",
       "      <td>a</td>\n",
       "      <td>zero</td>\n",
       "      <td>7</td>\n",
       "      <td>0.2</td>\n",
       "    </tr>\n",
       "    <tr>\n",
       "      <th>7</th>\n",
       "      <td>b</td>\n",
       "      <td>zero</td>\n",
       "      <td>8</td>\n",
       "      <td>-1.7</td>\n",
       "    </tr>\n",
       "  </tbody>\n",
       "</table>\n",
       "</div>"
      ],
      "text/plain": [
       "  key1  key2  v1   v2\n",
       "0    a  zero   1 -1.0\n",
       "1    a   one   2  0.0\n",
       "2    b  zero   3  2.5\n",
       "3    b   one   4 -0.5\n",
       "4    a  zero   5  4.0\n",
       "5    b   one   6 -1.2\n",
       "6    a  zero   7  0.2\n",
       "7    b  zero   8 -1.7"
      ]
     },
     "execution_count": 51,
     "metadata": {},
     "output_type": "execute_result"
    }
   ],
   "source": [
    "data"
   ]
  },
  {
   "cell_type": "code",
   "execution_count": 52,
   "id": "54c99943",
   "metadata": {},
   "outputs": [],
   "source": [
    "y, X = patsy.dmatrices('v2 ~ key1 + key2', data)"
   ]
  },
  {
   "cell_type": "code",
   "execution_count": 53,
   "id": "6144bd67",
   "metadata": {},
   "outputs": [
    {
     "data": {
      "text/plain": [
       "DesignMatrix with shape (8, 3)\n",
       "  Intercept  key1[T.b]  key2[T.zero]\n",
       "          1          0             1\n",
       "          1          0             0\n",
       "          1          1             1\n",
       "          1          1             0\n",
       "          1          0             1\n",
       "          1          1             0\n",
       "          1          0             1\n",
       "          1          1             1\n",
       "  Terms:\n",
       "    'Intercept' (column 0)\n",
       "    'key1' (column 1)\n",
       "    'key2' (column 2)"
      ]
     },
     "execution_count": 53,
     "metadata": {},
     "output_type": "execute_result"
    }
   ],
   "source": [
    "X"
   ]
  },
  {
   "cell_type": "code",
   "execution_count": 54,
   "id": "0e359571",
   "metadata": {},
   "outputs": [],
   "source": [
    "y, X = patsy.dmatrices('v2 ~ key1 + key2 + key1:key2', data)"
   ]
  },
  {
   "cell_type": "code",
   "execution_count": 55,
   "id": "cc340be5",
   "metadata": {},
   "outputs": [
    {
     "data": {
      "text/plain": [
       "DesignMatrix with shape (8, 4)\n",
       "  Intercept  key1[T.b]  key2[T.zero]  key1[T.b]:key2[T.zero]\n",
       "          1          0             1                       0\n",
       "          1          0             0                       0\n",
       "          1          1             1                       1\n",
       "          1          1             0                       0\n",
       "          1          0             1                       0\n",
       "          1          1             0                       0\n",
       "          1          0             1                       0\n",
       "          1          1             1                       1\n",
       "  Terms:\n",
       "    'Intercept' (column 0)\n",
       "    'key1' (column 1)\n",
       "    'key2' (column 2)\n",
       "    'key1:key2' (column 3)"
      ]
     },
     "execution_count": 55,
     "metadata": {},
     "output_type": "execute_result"
    }
   ],
   "source": [
    "X"
   ]
  },
  {
   "cell_type": "code",
   "execution_count": 56,
   "id": "1191f188",
   "metadata": {},
   "outputs": [],
   "source": [
    "import statsmodels.api as sm"
   ]
  },
  {
   "cell_type": "code",
   "execution_count": 57,
   "id": "e7e6a473",
   "metadata": {},
   "outputs": [],
   "source": [
    "import statsmodels.formula.api as smf"
   ]
  },
  {
   "cell_type": "code",
   "execution_count": 58,
   "id": "2b4f5b46",
   "metadata": {},
   "outputs": [],
   "source": [
    "def dnorm(mean, variance, size=1):\n",
    "    if isinstance(size, int):\n",
    "        size= size,\n",
    "    return mean + np.sqrt(variance) * np.random.randn(*size)"
   ]
  },
  {
   "cell_type": "code",
   "execution_count": 59,
   "id": "1aacdb77",
   "metadata": {},
   "outputs": [],
   "source": [
    "np.random.seed(12345)"
   ]
  },
  {
   "cell_type": "code",
   "execution_count": 60,
   "id": "124cb979",
   "metadata": {},
   "outputs": [],
   "source": [
    "N =  100"
   ]
  },
  {
   "cell_type": "code",
   "execution_count": 61,
   "id": "7d5548d9",
   "metadata": {},
   "outputs": [],
   "source": [
    "X = np.c_[dnorm(0, 0.4, size=N), dnorm(0, 0.6, size=N), dnorm(0, 0.2, size=N)]"
   ]
  },
  {
   "cell_type": "code",
   "execution_count": 62,
   "id": "654918ef",
   "metadata": {},
   "outputs": [],
   "source": [
    "eps = dnorm(0, 0.1, size=N)"
   ]
  },
  {
   "cell_type": "code",
   "execution_count": 63,
   "id": "de9d173b",
   "metadata": {},
   "outputs": [],
   "source": [
    "beta = [0.1, 0.3, 0.5]"
   ]
  },
  {
   "cell_type": "code",
   "execution_count": 64,
   "id": "60728b46",
   "metadata": {},
   "outputs": [],
   "source": [
    "y = np.dot(X,beta) +eps"
   ]
  },
  {
   "cell_type": "code",
   "execution_count": 65,
   "id": "95bc9cd4",
   "metadata": {},
   "outputs": [
    {
     "data": {
      "text/plain": [
       "array([[-0.12946849, -1.21275292,  0.50422488],\n",
       "       [ 0.30291036, -0.43574176, -0.25417986],\n",
       "       [-0.32852189, -0.02530153,  0.13835097],\n",
       "       [-0.35147471, -0.71960511, -0.25821463],\n",
       "       [ 1.2432688 , -0.37379916, -0.52262905]])"
      ]
     },
     "execution_count": 65,
     "metadata": {},
     "output_type": "execute_result"
    }
   ],
   "source": [
    "X[:5]"
   ]
  },
  {
   "cell_type": "code",
   "execution_count": 66,
   "id": "b2360586",
   "metadata": {},
   "outputs": [
    {
     "data": {
      "text/plain": [
       "array([ 0.42786349, -0.67348041, -0.09087764, -0.48949442, -0.12894109])"
      ]
     },
     "execution_count": 66,
     "metadata": {},
     "output_type": "execute_result"
    }
   ],
   "source": [
    "y[:5]"
   ]
  },
  {
   "cell_type": "code",
   "execution_count": 67,
   "id": "09b6f1c0",
   "metadata": {},
   "outputs": [],
   "source": [
    "X_model = sm.add_constant(X)"
   ]
  },
  {
   "cell_type": "code",
   "execution_count": 68,
   "id": "3ce8450a",
   "metadata": {},
   "outputs": [
    {
     "data": {
      "text/plain": [
       "array([[ 1.        , -0.12946849, -1.21275292,  0.50422488],\n",
       "       [ 1.        ,  0.30291036, -0.43574176, -0.25417986],\n",
       "       [ 1.        , -0.32852189, -0.02530153,  0.13835097],\n",
       "       [ 1.        , -0.35147471, -0.71960511, -0.25821463],\n",
       "       [ 1.        ,  1.2432688 , -0.37379916, -0.52262905]])"
      ]
     },
     "execution_count": 68,
     "metadata": {},
     "output_type": "execute_result"
    }
   ],
   "source": [
    "X_model[:5]"
   ]
  },
  {
   "cell_type": "code",
   "execution_count": 69,
   "id": "30fe10b9",
   "metadata": {},
   "outputs": [],
   "source": [
    "model = sm.OLS(y, X)"
   ]
  },
  {
   "cell_type": "code",
   "execution_count": 70,
   "id": "f9c88ab3",
   "metadata": {},
   "outputs": [],
   "source": [
    "results = model.fit()"
   ]
  },
  {
   "cell_type": "code",
   "execution_count": 71,
   "id": "47297d11",
   "metadata": {},
   "outputs": [
    {
     "data": {
      "text/plain": [
       "array([0.17826108, 0.22303962, 0.50095093])"
      ]
     },
     "execution_count": 71,
     "metadata": {},
     "output_type": "execute_result"
    }
   ],
   "source": [
    "results.params"
   ]
  },
  {
   "cell_type": "code",
   "execution_count": 72,
   "id": "9e423fce",
   "metadata": {},
   "outputs": [
    {
     "name": "stdout",
     "output_type": "stream",
     "text": [
      "                                 OLS Regression Results                                \n",
      "=======================================================================================\n",
      "Dep. Variable:                      y   R-squared (uncentered):                   0.430\n",
      "Model:                            OLS   Adj. R-squared (uncentered):              0.413\n",
      "Method:                 Least Squares   F-statistic:                              24.42\n",
      "Date:                Mon, 11 Jul 2022   Prob (F-statistic):                    7.44e-12\n",
      "Time:                        20:55:23   Log-Likelihood:                         -34.305\n",
      "No. Observations:                 100   AIC:                                      74.61\n",
      "Df Residuals:                      97   BIC:                                      82.42\n",
      "Df Model:                           3                                                  \n",
      "Covariance Type:            nonrobust                                                  \n",
      "==============================================================================\n",
      "                 coef    std err          t      P>|t|      [0.025      0.975]\n",
      "------------------------------------------------------------------------------\n",
      "x1             0.1783      0.053      3.364      0.001       0.073       0.283\n",
      "x2             0.2230      0.046      4.818      0.000       0.131       0.315\n",
      "x3             0.5010      0.080      6.237      0.000       0.342       0.660\n",
      "==============================================================================\n",
      "Omnibus:                        4.662   Durbin-Watson:                   2.201\n",
      "Prob(Omnibus):                  0.097   Jarque-Bera (JB):                4.098\n",
      "Skew:                           0.481   Prob(JB):                        0.129\n",
      "Kurtosis:                       3.243   Cond. No.                         1.74\n",
      "==============================================================================\n",
      "\n",
      "Notes:\n",
      "[1] R² is computed without centering (uncentered) since the model does not contain a constant.\n",
      "[2] Standard Errors assume that the covariance matrix of the errors is correctly specified.\n"
     ]
    }
   ],
   "source": [
    "print(results.summary())"
   ]
  },
  {
   "cell_type": "code",
   "execution_count": 73,
   "id": "2b33d44d",
   "metadata": {},
   "outputs": [],
   "source": [
    "data = DataFrame(X, columns=['col0', 'col1', 'col2'])"
   ]
  },
  {
   "cell_type": "code",
   "execution_count": 74,
   "id": "94a1e429",
   "metadata": {},
   "outputs": [],
   "source": [
    "data['y'] = y"
   ]
  },
  {
   "cell_type": "code",
   "execution_count": 76,
   "id": "d800bd8f",
   "metadata": {},
   "outputs": [
    {
     "data": {
      "text/html": [
       "<div>\n",
       "<style scoped>\n",
       "    .dataframe tbody tr th:only-of-type {\n",
       "        vertical-align: middle;\n",
       "    }\n",
       "\n",
       "    .dataframe tbody tr th {\n",
       "        vertical-align: top;\n",
       "    }\n",
       "\n",
       "    .dataframe thead th {\n",
       "        text-align: right;\n",
       "    }\n",
       "</style>\n",
       "<table border=\"1\" class=\"dataframe\">\n",
       "  <thead>\n",
       "    <tr style=\"text-align: right;\">\n",
       "      <th></th>\n",
       "      <th>col0</th>\n",
       "      <th>col1</th>\n",
       "      <th>col2</th>\n",
       "      <th>y</th>\n",
       "    </tr>\n",
       "  </thead>\n",
       "  <tbody>\n",
       "    <tr>\n",
       "      <th>0</th>\n",
       "      <td>-0.129468</td>\n",
       "      <td>-1.212753</td>\n",
       "      <td>0.504225</td>\n",
       "      <td>0.427863</td>\n",
       "    </tr>\n",
       "    <tr>\n",
       "      <th>1</th>\n",
       "      <td>0.302910</td>\n",
       "      <td>-0.435742</td>\n",
       "      <td>-0.254180</td>\n",
       "      <td>-0.673480</td>\n",
       "    </tr>\n",
       "    <tr>\n",
       "      <th>2</th>\n",
       "      <td>-0.328522</td>\n",
       "      <td>-0.025302</td>\n",
       "      <td>0.138351</td>\n",
       "      <td>-0.090878</td>\n",
       "    </tr>\n",
       "    <tr>\n",
       "      <th>3</th>\n",
       "      <td>-0.351475</td>\n",
       "      <td>-0.719605</td>\n",
       "      <td>-0.258215</td>\n",
       "      <td>-0.489494</td>\n",
       "    </tr>\n",
       "    <tr>\n",
       "      <th>4</th>\n",
       "      <td>1.243269</td>\n",
       "      <td>-0.373799</td>\n",
       "      <td>-0.522629</td>\n",
       "      <td>-0.128941</td>\n",
       "    </tr>\n",
       "  </tbody>\n",
       "</table>\n",
       "</div>"
      ],
      "text/plain": [
       "       col0      col1      col2         y\n",
       "0 -0.129468 -1.212753  0.504225  0.427863\n",
       "1  0.302910 -0.435742 -0.254180 -0.673480\n",
       "2 -0.328522 -0.025302  0.138351 -0.090878\n",
       "3 -0.351475 -0.719605 -0.258215 -0.489494\n",
       "4  1.243269 -0.373799 -0.522629 -0.128941"
      ]
     },
     "execution_count": 76,
     "metadata": {},
     "output_type": "execute_result"
    }
   ],
   "source": [
    "data[:5]"
   ]
  },
  {
   "cell_type": "code",
   "execution_count": 78,
   "id": "ff4ab7e6",
   "metadata": {},
   "outputs": [],
   "source": [
    "results = smf.ols('y ~ col0 + col1 + col2', data=data).fit()"
   ]
  },
  {
   "cell_type": "code",
   "execution_count": 79,
   "id": "35275714",
   "metadata": {},
   "outputs": [
    {
     "data": {
      "text/plain": [
       "Intercept    0.033559\n",
       "col0         0.176149\n",
       "col1         0.224826\n",
       "col2         0.514808\n",
       "dtype: float64"
      ]
     },
     "execution_count": 79,
     "metadata": {},
     "output_type": "execute_result"
    }
   ],
   "source": [
    "results.params"
   ]
  },
  {
   "cell_type": "code",
   "execution_count": 80,
   "id": "c0d3c9a8",
   "metadata": {},
   "outputs": [
    {
     "data": {
      "text/plain": [
       "Intercept    0.952188\n",
       "col0         3.319754\n",
       "col1         4.850730\n",
       "col2         6.303971\n",
       "dtype: float64"
      ]
     },
     "execution_count": 80,
     "metadata": {},
     "output_type": "execute_result"
    }
   ],
   "source": [
    "results.tvalues"
   ]
  },
  {
   "cell_type": "code",
   "execution_count": 81,
   "id": "e9b5e7f6",
   "metadata": {},
   "outputs": [
    {
     "data": {
      "text/plain": [
       "0   -0.002327\n",
       "1   -0.141904\n",
       "2    0.041226\n",
       "3   -0.323070\n",
       "4   -0.100535\n",
       "dtype: float64"
      ]
     },
     "execution_count": 81,
     "metadata": {},
     "output_type": "execute_result"
    }
   ],
   "source": [
    "results.predict(data[:5])"
   ]
  },
  {
   "cell_type": "code",
   "execution_count": 82,
   "id": "92592a7c",
   "metadata": {},
   "outputs": [],
   "source": [
    "init_x = 4"
   ]
  },
  {
   "cell_type": "code",
   "execution_count": 83,
   "id": "ab2992d3",
   "metadata": {},
   "outputs": [],
   "source": [
    "import random"
   ]
  },
  {
   "cell_type": "code",
   "execution_count": 91,
   "id": "afd40a89",
   "metadata": {},
   "outputs": [],
   "source": [
    "values= [init_x, init_x]"
   ]
  },
  {
   "cell_type": "code",
   "execution_count": 92,
   "id": "dd56ca46",
   "metadata": {},
   "outputs": [],
   "source": [
    "N =1000"
   ]
  },
  {
   "cell_type": "code",
   "execution_count": 93,
   "id": "44b66bdb",
   "metadata": {},
   "outputs": [],
   "source": [
    "b0 = 0.8"
   ]
  },
  {
   "cell_type": "code",
   "execution_count": 94,
   "id": "68d2e6ef",
   "metadata": {},
   "outputs": [],
   "source": [
    "b1 = -0.4"
   ]
  },
  {
   "cell_type": "code",
   "execution_count": 95,
   "id": "5ca3486c",
   "metadata": {},
   "outputs": [],
   "source": [
    "noise = dnorm(0, 0.1, N)"
   ]
  },
  {
   "cell_type": "code",
   "execution_count": 96,
   "id": "f9de8a18",
   "metadata": {},
   "outputs": [],
   "source": [
    "for i in range(N):\n",
    "    new_x = values[-1] * b0 + values[-2] * b1 + noise[i]\n",
    "    values.append(new_x)"
   ]
  },
  {
   "cell_type": "code",
   "execution_count": 97,
   "id": "954afc8d",
   "metadata": {},
   "outputs": [
    {
     "data": {
      "text/plain": [
       "[4,\n",
       " 4,\n",
       " 2.247499398428837,\n",
       " 0.33925567686576186,\n",
       " -0.6982899195727197,\n",
       " -0.6649772769986597,\n",
       " -0.02622288463652772,\n",
       " 0.4528368297311267,\n",
       " 0.35165101753789774,\n",
       " 0.3653870604658267,\n",
       " 0.11452782892434163,\n",
       " -0.2182735679300477,\n",
       " -0.257332427686747,\n",
       " 0.637115500240848,\n",
       " 0.3177576771007221,\n",
       " -0.07316073157575237,\n",
       " -0.546235710271989,\n",
       " -0.26860947762231896,\n",
       " -0.2568883084628301,\n",
       " -0.2627993852404232,\n",
       " 0.003284686308583598,\n",
       " 0.17238298420925535,\n",
       " 0.17879163181188185,\n",
       " 0.1777726535067772,\n",
       " 0.09351829739614173,\n",
       " 0.04534569617395381,\n",
       " -0.41142339938961875,\n",
       " -0.031761739515050236,\n",
       " 0.4145801052077581,\n",
       " 0.03090708728007946,\n",
       " -0.09313503321273792,\n",
       " 0.3135213521490004,\n",
       " 0.22404489314408313,\n",
       " 0.06986568055082881,\n",
       " 0.16861905558510937,\n",
       " 0.2959248623367012,\n",
       " -0.08281906482426549,\n",
       " -0.035087636172165454,\n",
       " 0.1702410197442458,\n",
       " -0.02254263230459652,\n",
       " -0.31809522844479,\n",
       " 0.16650220324197954,\n",
       " 0.26745965718563014,\n",
       " 0.26256458984591285,\n",
       " -0.1887593783412993,\n",
       " -0.1571628963914821,\n",
       " -0.4070886438198967,\n",
       " -0.368263915580914,\n",
       " -0.2944908886653993,\n",
       " -0.2653057307644752,\n",
       " -0.34218350782730456,\n",
       " -0.7361024042018298,\n",
       " -0.5066114547150328,\n",
       " 0.10425472252087406,\n",
       " 0.7944092706654391,\n",
       " 0.6571914164450853,\n",
       " -0.055765956247878,\n",
       " -0.403302482044091,\n",
       " 0.22563361210342187,\n",
       " 0.026799961578724885,\n",
       " 0.41240923117561995,\n",
       " 0.3964223323747219,\n",
       " 0.2860431045608801,\n",
       " -0.13656010307263328,\n",
       " 0.4369833080446822,\n",
       " 0.3851675688198588,\n",
       " 0.08023577113971296,\n",
       " 0.10986185585075399,\n",
       " -0.4483708711493352,\n",
       " -0.8832875644294236,\n",
       " -0.17666342968684,\n",
       " 0.6091197433248785,\n",
       " 0.5502674338965121,\n",
       " -0.4510492093018721,\n",
       " -0.6671679576714902,\n",
       " -0.8885666661793541,\n",
       " 0.006268483539649594,\n",
       " 0.23145540660088523,\n",
       " 0.4218301343865006,\n",
       " -0.1626097091506327,\n",
       " -0.02448137514940041,\n",
       " 0.22737925959242605,\n",
       " 0.2878940931628475,\n",
       " 0.7131848422387539,\n",
       " 0.9723778150655409,\n",
       " -0.02778539323608592,\n",
       " -0.5399360384505932,\n",
       " -0.5007660972161218,\n",
       " -0.46753252863073347,\n",
       " 0.12854434486769556,\n",
       " -0.2331871374000003,\n",
       " -0.32098596844049815,\n",
       " -0.47218196908131005,\n",
       " -0.7216078127283339,\n",
       " -0.01910441161865689,\n",
       " 0.5797846624841716,\n",
       " -0.330638213694157,\n",
       " -0.38171144650741573,\n",
       " -0.5513684444989917,\n",
       " 0.2292464066895059,\n",
       " 0.48342616776124436,\n",
       " 0.8087933089573048,\n",
       " 0.37759009866184023,\n",
       " 0.03011636139089001,\n",
       " -0.31246403558391844,\n",
       " -0.13090511497120572,\n",
       " 0.15534943608857707,\n",
       " 0.5474367811758698,\n",
       " 0.2646327000676303,\n",
       " 0.4527140170025328,\n",
       " 0.9024723347855489,\n",
       " -0.012287833572652285,\n",
       " -0.49327361573137174,\n",
       " -0.45550254987453,\n",
       " -0.5535093026000606,\n",
       " -0.2819390037726769,\n",
       " 0.0682703685515621,\n",
       " -0.014829252845854818,\n",
       " 0.2191534614112492,\n",
       " -0.06293417789478492,\n",
       " -0.5597224420541637,\n",
       " -0.5203563676400841,\n",
       " -0.183365230243161,\n",
       " 0.4186627885599047,\n",
       " 0.2899523272957506,\n",
       " 0.06089139344215111,\n",
       " 0.019038412446027525,\n",
       " -0.1993508805575184,\n",
       " 0.014502352945316876,\n",
       " 0.029957524358229855,\n",
       " 0.08211410558907098,\n",
       " -0.10602598587782351,\n",
       " 0.8166093590397403,\n",
       " -0.13605923355190042,\n",
       " -0.5469465650543391,\n",
       " -0.5342296344071547,\n",
       " -0.1575044326042155,\n",
       " 0.6211116821123429,\n",
       " 0.8198192162188835,\n",
       " 0.1963584826058464,\n",
       " -0.02269162771435862,\n",
       " 0.2088876650857523,\n",
       " 0.34076525225376864,\n",
       " 0.1514561129915249,\n",
       " -0.004548104551935477,\n",
       " -0.13555704314911343,\n",
       " -0.07318926520773639,\n",
       " 0.0915646224913399,\n",
       " 0.040645939636070806,\n",
       " 0.2377849706767492,\n",
       " 0.03171840970386769,\n",
       " 0.2585444983240283,\n",
       " 0.6916323032269017,\n",
       " 0.855574064023132,\n",
       " 0.4966570543424229,\n",
       " -0.22699055349019742,\n",
       " -0.2165869992537377,\n",
       " -0.08495641735995972,\n",
       " -0.4995663592531601,\n",
       " 0.07743632994290378,\n",
       " 0.8178745455938241,\n",
       " 0.8222109205489899,\n",
       " 0.19660911983650678,\n",
       " 0.07814063802247276,\n",
       " 0.28035378057840493,\n",
       " -0.5195274460690772,\n",
       " -1.0884095358212889,\n",
       " -0.9463929017150126,\n",
       " -0.10758116363391976,\n",
       " 0.30403562152084446,\n",
       " 0.31380495083046456,\n",
       " 0.11467385122014633,\n",
       " 0.2594353648232112,\n",
       " 0.31419048099752933,\n",
       " -0.12663248600884355,\n",
       " -0.07081583489417292,\n",
       " -0.05515226314196691,\n",
       " 0.42606514846723637,\n",
       " 0.8394855332989709,\n",
       " 0.12818992949286323,\n",
       " -0.09309918645106902,\n",
       " 0.3155961120640102,\n",
       " 0.12222386655667974,\n",
       " 0.22052510832261757,\n",
       " 0.20622216685266886,\n",
       " 0.31180055626310976,\n",
       " 0.567848207741972,\n",
       " 0.7414119604977253,\n",
       " 0.27992772078452033,\n",
       " -0.08891839337263588,\n",
       " -0.33101827663272965,\n",
       " -0.558382259611548,\n",
       " -0.17945308723586073,\n",
       " 0.17875241554539206,\n",
       " -0.1380286199302797,\n",
       " 0.20839501935305954,\n",
       " -0.3767214355423645,\n",
       " -0.9101809302155144,\n",
       " -0.5791880760613489,\n",
       " 0.24927008659745709,\n",
       " 0.7515869048733794,\n",
       " 1.2190187559742922,\n",
       " 0.7208525179157028,\n",
       " 0.24984178637234025,\n",
       " -0.15067356400850346,\n",
       " -1.4048610877821903,\n",
       " -1.5443214711727666,\n",
       " -0.7831929464998593,\n",
       " -0.22921064235533056,\n",
       " 0.5433229394786371,\n",
       " 0.31015643979279206,\n",
       " 0.3780102370357359,\n",
       " 0.059266617066583996,\n",
       " 0.2719311267457589,\n",
       " 0.7609691954758444,\n",
       " 0.9104350177575278,\n",
       " 0.6825482956768583,\n",
       " 0.07615097179175158,\n",
       " -0.7070193097822529,\n",
       " -0.14603576344674868,\n",
       " 0.4318583432809311,\n",
       " -0.06353002350796455,\n",
       " 0.043171680566917586,\n",
       " -0.047140015421950066,\n",
       " 0.2291793313023785,\n",
       " 0.29730586759356525,\n",
       " -0.31265579570412344,\n",
       " -0.21483910384765306,\n",
       " 0.12801259819519556,\n",
       " 0.3945152513364656,\n",
       " -0.28789417679490303,\n",
       " -0.12375611914226037,\n",
       " -0.14565549748917356,\n",
       " -0.11830866495660003,\n",
       " 0.33172175301687634,\n",
       " 0.09984002186713417,\n",
       " 0.4086360755699036,\n",
       " 1.0386527149675961,\n",
       " 0.3667327153305424,\n",
       " -0.2062606741437239,\n",
       " -0.5044920066241919,\n",
       " -0.4061029033560951,\n",
       " -0.06123389216645902,\n",
       " 0.38534349507736954,\n",
       " 0.24953521240797324,\n",
       " 0.4064174717502118,\n",
       " 0.19308467544229696,\n",
       " -0.03234129368029209,\n",
       " -0.06489484139379882,\n",
       " 0.301473570795245,\n",
       " 0.4044429409265539,\n",
       " 0.22081033712018616,\n",
       " -0.10494439488872287,\n",
       " -0.15715429622694393,\n",
       " 0.024285940229544778,\n",
       " 0.5781102160875212,\n",
       " 0.43771519481271537,\n",
       " -0.14095575247775083,\n",
       " -0.3445597203689479,\n",
       " -0.2719728324068896,\n",
       " 0.025618826415749377,\n",
       " -0.04293817248877088,\n",
       " -0.2512955444084867,\n",
       " -0.9146717415447005,\n",
       " -0.12137458255831768,\n",
       " 0.013695136128894336,\n",
       " 0.23592444730594325,\n",
       " 0.36673718288989066,\n",
       " -0.1822927403627127,\n",
       " -0.2841230421413876,\n",
       " 0.004591645170381992,\n",
       " 0.6053323185875167,\n",
       " 0.7631194587342517,\n",
       " -0.2778565325870943,\n",
       " -0.7834110746762531,\n",
       " -0.6533616377124916,\n",
       " 0.48157277012108346,\n",
       " 0.3055768887370905,\n",
       " 0.7517274558445652,\n",
       " 0.6205663226061349,\n",
       " 0.1643142064678698,\n",
       " -0.2982873711263919,\n",
       " 0.24203349058202045,\n",
       " 0.20174767609698746,\n",
       " 0.2586985164775655,\n",
       " 0.06591569975105732,\n",
       " -0.3607799835972236,\n",
       " -0.8625590902707625,\n",
       " -0.48769020918345696,\n",
       " -0.16683362918521666,\n",
       " -0.3198713214273191,\n",
       " -0.7964351066092814,\n",
       " -0.5027297700941475,\n",
       " -0.5105327350412042,\n",
       " -0.0773453929494993,\n",
       " 0.6460191288209245,\n",
       " 1.1514744410303432,\n",
       " 1.2178192896008686,\n",
       " 0.4277103606391165,\n",
       " 0.26297681012742574,\n",
       " -0.034143152253364895,\n",
       " 0.003056202620454751,\n",
       " -0.21254273794332634,\n",
       " -0.047713842676633256,\n",
       " 0.57168352505546,\n",
       " 0.7527904677907487,\n",
       " 0.0003431886852909849,\n",
       " -0.3668967515471683,\n",
       " -0.4674758790283804,\n",
       " -0.6234174322497066,\n",
       " -0.7154908181827834,\n",
       " 0.2718481871041699,\n",
       " 0.8541269492159,\n",
       " 0.02053318976327001,\n",
       " -0.6331980840735386,\n",
       " -0.22740557767790426,\n",
       " -0.0896766824927149,\n",
       " -0.30440662243676136,\n",
       " -0.3380268899543364,\n",
       " -0.4879834416351495,\n",
       " -0.4453587330680133,\n",
       " -0.09083465912621598,\n",
       " 0.40569058082588483,\n",
       " 0.5835695564757045,\n",
       " -0.12516261080417684,\n",
       " 0.029621626714367744,\n",
       " 0.0225737090466926,\n",
       " -0.19219918019051146,\n",
       " 0.032517174800194226,\n",
       " -0.35532962676442525,\n",
       " 0.022464244978929737,\n",
       " -0.029570630554543814,\n",
       " 0.24019132223213652,\n",
       " 0.729498985440212,\n",
       " 0.21851137398477288,\n",
       " -0.05126876160998549,\n",
       " -0.16863981945557038,\n",
       " -0.026026083217459015,\n",
       " 0.2739172247913073,\n",
       " 0.06144979923670335,\n",
       " -0.338765727192406,\n",
       " -0.41476995179306547,\n",
       " -0.5624007508872568,\n",
       " -0.3237410854177017,\n",
       " -0.4774583415331999,\n",
       " 0.5142768074024069,\n",
       " -0.016150134991858467,\n",
       " -0.5023943588201921,\n",
       " -0.08251165882286193,\n",
       " 0.48167827588680534,\n",
       " 0.5620154521736268,\n",
       " -0.06506735868486091,\n",
       " 0.43093260008295103,\n",
       " 0.4992416814271608,\n",
       " 0.6368387874421245,\n",
       " 0.45808584956496756,\n",
       " -0.5824897092572745,\n",
       " -1.0355694590904685,\n",
       " -0.2908015679106378,\n",
       " 0.21553085466051813,\n",
       " -0.10826763718462118,\n",
       " -0.34192588525416745,\n",
       " 0.0731887989367084,\n",
       " -0.05993790510086161,\n",
       " -0.07891903068328024,\n",
       " 0.01625642613867795,\n",
       " 0.6265080373762334,\n",
       " -0.08153685729954385,\n",
       " -0.4343328353455359,\n",
       " 0.24349300424208487,\n",
       " 0.3006613792335249,\n",
       " 0.04531775962873079,\n",
       " 0.0295546414419212,\n",
       " 0.2544581351228957,\n",
       " 0.09696529352809742,\n",
       " -0.18293845529113162,\n",
       " -0.10963186853162858,\n",
       " 0.04498049088563444,\n",
       " -0.27380903519946426,\n",
       " -0.11490599066433388,\n",
       " 0.08847261842379436,\n",
       " -0.31307115875720126,\n",
       " 0.060072462494300094,\n",
       " -0.22336396134811626,\n",
       " -1.1277220308743552,\n",
       " -0.6058364270704504,\n",
       " 0.3545086287026154,\n",
       " 0.6528026235766258,\n",
       " 0.2511659261203607,\n",
       " 0.6205147145767436,\n",
       " -0.2276370053793294,\n",
       " -0.614616442602517,\n",
       " -0.61663251885123,\n",
       " -0.3151906686801386,\n",
       " -0.21750075309902517,\n",
       " -0.017468060241283327,\n",
       " -0.199530971216449,\n",
       " 0.2015699836351003,\n",
       " 0.6905670099160713,\n",
       " 0.44669675178428814,\n",
       " 0.27058760513334507,\n",
       " -0.14591452403860958,\n",
       " 0.29239856840825584,\n",
       " 0.865526521737074,\n",
       " 0.33468917952551813,\n",
       " -0.25811706652628486,\n",
       " -0.21562589153705364,\n",
       " 0.2690241572096931,\n",
       " 0.6027683740937732,\n",
       " 0.20464100322363768,\n",
       " 0.3403399161746379,\n",
       " 0.23890639734491173,\n",
       " -0.6041024274969551,\n",
       " -0.5227168680615124,\n",
       " -0.13882546194930956,\n",
       " 0.33462802558921645,\n",
       " 0.47747108017624407,\n",
       " -0.2755059333245322,\n",
       " 0.26392601191352255,\n",
       " 0.09291976718534695,\n",
       " 0.3036995127621124,\n",
       " 0.5955273940409096,\n",
       " 0.4105526205255015,\n",
       " -0.08372877507926405,\n",
       " 0.15908209407999652,\n",
       " 0.08624477440005997,\n",
       " 0.3634306150985577,\n",
       " 0.18407990464355867,\n",
       " -0.4434641606089933,\n",
       " -0.43037923803913897,\n",
       " -0.3434862334376887,\n",
       " -0.2475784129747982,\n",
       " -0.6756259546930349,\n",
       " 0.08689514657755282,\n",
       " -0.2661890899903298,\n",
       " -0.20718128837414906,\n",
       " -0.3197687331367086,\n",
       " 0.0856346860731339,\n",
       " 0.31696731347705065,\n",
       " 0.27249316716820404,\n",
       " 0.021318013063857222,\n",
       " -0.520242693724982,\n",
       " -0.22106862131205993,\n",
       " -0.03242784915047635,\n",
       " 0.3847374239688262,\n",
       " 0.3877995105750566,\n",
       " 0.03895745196971992,\n",
       " 0.14356935387928726,\n",
       " -0.002977645759489833,\n",
       " -0.10359135604372474,\n",
       " 0.14655599487865334,\n",
       " 0.31731829848397475,\n",
       " 0.5388202228543486,\n",
       " 0.2558147939173985,\n",
       " 0.41443229690233546,\n",
       " 0.10144553731634787,\n",
       " -0.12842237482153854,\n",
       " -0.29438800924260417,\n",
       " -0.4357724488414329,\n",
       " -0.22866861585170775,\n",
       " -0.06307119149460275,\n",
       " -0.096779692252188,\n",
       " -0.48817146369879544,\n",
       " -0.44349235279583527,\n",
       " -0.08394126607131489,\n",
       " 0.619195310682721,\n",
       " 0.4391632463002042,\n",
       " -0.3149586781887907,\n",
       " -0.3191079049474622,\n",
       " 0.5329600070112135,\n",
       " 0.5895292563164445,\n",
       " 0.17369931527306268,\n",
       " 0.15097140555081393,\n",
       " 0.18061993932116294,\n",
       " 0.04692221274442371,\n",
       " 0.05475114610370445,\n",
       " -0.007914868998938639,\n",
       " -0.17082712952737208,\n",
       " -0.008197015235186345,\n",
       " 0.6895811641193647,\n",
       " 0.32155282958944986,\n",
       " -0.471086454061444,\n",
       " -0.3585325159745304,\n",
       " 0.5575742021524708,\n",
       " 0.9202394324103665,\n",
       " 0.9548848452230496,\n",
       " -0.004921158624561328,\n",
       " 0.09082594708771607,\n",
       " -0.5780999533121122,\n",
       " -0.3844367575190268,\n",
       " -0.4654963041107002,\n",
       " -0.2885490527512699,\n",
       " 0.34362058104692766,\n",
       " 0.8291523008075492,\n",
       " 0.41679058989769674,\n",
       " 0.14309680956641213,\n",
       " 0.03411588929389102,\n",
       " -0.07722314745199202,\n",
       " -0.2974775046739211,\n",
       " 0.27716679778645326,\n",
       " 0.2630137745355394,\n",
       " 0.391927467975724,\n",
       " -0.10654452153261601,\n",
       " -0.28856461065214,\n",
       " 0.09369768919366703,\n",
       " -0.18266245098324652,\n",
       " 0.1665919524585912,\n",
       " 0.4162542151351517,\n",
       " 0.03225003913811522,\n",
       " -0.005881224084505976,\n",
       " -0.421220280857899,\n",
       " -0.13620802472569107,\n",
       " -0.017558120632222757,\n",
       " 0.14207695594651548,\n",
       " 0.4426181732967748,\n",
       " 0.429746771208242,\n",
       " -0.07528477026845129,\n",
       " -0.4704200395106354,\n",
       " -0.3587508620828608,\n",
       " -0.046074850641493616,\n",
       " 0.5811607148229659,\n",
       " 0.5649422620981714,\n",
       " 0.17855029436230996,\n",
       " -0.18693220374387232,\n",
       " -0.009054960916192845,\n",
       " -0.025384080669666784,\n",
       " 0.1495272911323656,\n",
       " -0.15589025113085547,\n",
       " -0.1262689137361413,\n",
       " -0.36317593796330316,\n",
       " -0.1111728141046871,\n",
       " 0.3131420030770603,\n",
       " 0.5057010940940064,\n",
       " 0.4684507492114843,\n",
       " 0.29401840046158556,\n",
       " 0.020546732541146074,\n",
       " -0.5572031854595738,\n",
       " -0.3274476408731487,\n",
       " 0.031136532444462475,\n",
       " 0.11379954929410147,\n",
       " 0.2040398753043239,\n",
       " 0.46700656366343085,\n",
       " 0.13334271562126074,\n",
       " -0.21874394205683134,\n",
       " -0.070424935735003,\n",
       " -0.05257794255679449,\n",
       " -0.11707361547736043,\n",
       " -0.4341028999817091,\n",
       " -0.5254802725244518,\n",
       " -0.4678594653587496,\n",
       " -0.16411932583605973,\n",
       " 0.31717792800798356,\n",
       " 0.5467544458432037,\n",
       " 0.43900718549498663,\n",
       " 0.3391178731342932,\n",
       " -0.2559206770162227,\n",
       " 0.14920183767668632,\n",
       " 0.9308593879288017,\n",
       " 0.35360051906870993,\n",
       " 0.13094580677174092,\n",
       " -0.48903721882603024,\n",
       " -0.12458663790291102,\n",
       " 0.19959434714603486,\n",
       " 0.5736025880029729,\n",
       " 0.37943725794081873,\n",
       " 0.40863277858166863,\n",
       " -0.3413863115523421,\n",
       " -0.2936966299676911,\n",
       " -0.2308357415638822,\n",
       " -0.644573808350576,\n",
       " -0.20916063737502805,\n",
       " 0.06458053085273732,\n",
       " 0.6290851957023431,\n",
       " 0.7765767446459353,\n",
       " 0.18209355438124786,\n",
       " 0.0012535447973874014,\n",
       " -0.6931919553643754,\n",
       " -0.565397265961951,\n",
       " 0.22811898787528823,\n",
       " 0.41253879380074504,\n",
       " 0.15158680801804367,\n",
       " -0.6647683665910451,\n",
       " -1.1586469749437696,\n",
       " -0.46121977730849284,\n",
       " -0.36344456856027263,\n",
       " 0.47503473198851065,\n",
       " 0.6206911252927005,\n",
       " 0.9720022004522308,\n",
       " 0.2703072883445891,\n",
       " 0.12720938424123754,\n",
       " -0.33326206471152814,\n",
       " 0.16889405757353648,\n",
       " -0.3140938284857856,\n",
       " -0.37481080519333093,\n",
       " -0.21186094775630676,\n",
       " 0.1863225700960763,\n",
       " 0.6352650776855284,\n",
       " 0.009465606066627164,\n",
       " -0.339293548661533,\n",
       " -0.3518933181004176,\n",
       " -1.1125022716569055,\n",
       " -0.14259218963734865,\n",
       " 0.14788576828714373,\n",
       " 0.7595592930799276,\n",
       " 0.6919780840119071,\n",
       " 0.15411558514286705,\n",
       " 0.2900289184871978,\n",
       " 0.553757017053721,\n",
       " -0.18323128607545075,\n",
       " -0.5495919543550911,\n",
       " -0.23201773890653757,\n",
       " 0.4318930678531204,\n",
       " 0.10143065536416163,\n",
       " -0.0042212077552959415,\n",
       " 0.4873559674990759,\n",
       " 0.17674877559373942,\n",
       " -0.09455726166890441,\n",
       " -0.7569593835953842,\n",
       " -0.7598965331320315,\n",
       " -0.36687946682936456,\n",
       " -0.6464774533365378,\n",
       " -0.23677714571419417,\n",
       " 0.7021352829945132,\n",
       " 1.0946836675511906,\n",
       " 0.24556084096447917,\n",
       " -0.027307730774325745,\n",
       " 0.057067783639089056,\n",
       " -0.20126478581625787,\n",
       " 0.13394284421469071,\n",
       " 0.3020716489721653,\n",
       " 0.08040870852156576,\n",
       " 0.08971790843517521,\n",
       " -0.23448911642183573,\n",
       " -0.016896227032715982,\n",
       " -0.5384014644645445,\n",
       " -0.4645897339007209,\n",
       " -0.37625667464407125,\n",
       " -0.5110172929584659,\n",
       " -0.30577977190081707,\n",
       " 0.027665701345575167,\n",
       " -0.4722306099772451,\n",
       " -0.8121719706471251,\n",
       " -0.34345387097416474,\n",
       " 0.5019171168725503,\n",
       " 0.3514497501148536,\n",
       " -0.018411998257352125,\n",
       " -0.13998786920946152,\n",
       " -0.061618096801118113,\n",
       " -0.13182381375247104,\n",
       " -0.12873459893300673,\n",
       " 0.07673494669118316,\n",
       " -0.5902525358279046,\n",
       " -0.6846175948150557,\n",
       " -0.06297168831922514,\n",
       " -0.217295419381974,\n",
       " -0.035039138304154754,\n",
       " 0.4291580435418585,\n",
       " 0.5719535409950854,\n",
       " 0.24608002911855084,\n",
       " 0.015700443964573797,\n",
       " -0.36556711455743435,\n",
       " -0.4949599584608182,\n",
       " -0.17786576776281598,\n",
       " 0.3473370080731726,\n",
       " -0.3319947186200046,\n",
       " -0.520192997535266,\n",
       " -0.40220822688667573,\n",
       " -0.009353640994567272,\n",
       " 0.46393416619530525,\n",
       " 0.724609199039052,\n",
       " -0.11618801073446816,\n",
       " 0.11102315442479949,\n",
       " 0.26384333499046075,\n",
       " 0.2802682754607363,\n",
       " -0.07562433359832224,\n",
       " -0.7075552252972307,\n",
       " -0.29587211425825943,\n",
       " -0.16942939918968308,\n",
       " -0.3456080929194921,\n",
       " -0.007874895013581185,\n",
       " -0.057801416053389426,\n",
       " -0.09341363831216373,\n",
       " -0.18367225314952876,\n",
       " 0.2513973900368972,\n",
       " -0.37147217862879667,\n",
       " -0.3581969252982219,\n",
       " -0.07358218229566282,\n",
       " -0.19536226691677513,\n",
       " -0.13535626932691755,\n",
       " 0.10957456392504437,\n",
       " 0.45929422262242725,\n",
       " 0.5395387393274833,\n",
       " 0.35101774817912607,\n",
       " 0.1995169463813648,\n",
       " -1.0649025381104402,\n",
       " -1.0254383765220578,\n",
       " -0.5335102656221854,\n",
       " -0.29085441314784954,\n",
       " -0.05104138198243452,\n",
       " 0.39753414463272346,\n",
       " -0.06205011228343377,\n",
       " -0.1558947173977356,\n",
       " -0.05768457405695015,\n",
       " 0.22872303222455825,\n",
       " 0.3789356932327666,\n",
       " 0.45800121447366693,\n",
       " -0.04123172456473842,\n",
       " -0.638297779217931,\n",
       " -0.002494427871365945,\n",
       " -0.2511458707960837,\n",
       " -0.5986010550208827,\n",
       " -0.8422592005595788,\n",
       " -0.2470220970993653,\n",
       " 0.3696455325884632,\n",
       " 0.42209089646684095,\n",
       " 0.17172897154050942,\n",
       " -0.5661303601491209,\n",
       " -0.4233057553950334,\n",
       " -0.6647594752729751,\n",
       " 0.05127122442454729,\n",
       " 0.1945002403098572,\n",
       " 0.39049006772856504,\n",
       " 0.26777430289685134,\n",
       " 0.21761157212570015,\n",
       " -0.30704810383112685,\n",
       " -0.3144433247038808,\n",
       " -0.028720772867947164,\n",
       " -0.4559133351776111,\n",
       " 0.1099531295061894,\n",
       " 0.30015962503433313,\n",
       " 0.13450412573911222,\n",
       " 0.05888716705225572,\n",
       " 0.002777285804833527,\n",
       " -0.40071320726078047,\n",
       " -0.16341944680039064,\n",
       " 0.002921113855564768,\n",
       " 0.021850679430165873,\n",
       " -0.10454999335680822,\n",
       " 0.09360941001153,\n",
       " 0.955867272674184,\n",
       " 0.3787953991198918,\n",
       " -0.2717172844494078,\n",
       " -0.47667232742332305,\n",
       " -0.21033182795128616,\n",
       " 0.37972964046189106,\n",
       " 0.04680431640701338,\n",
       " -0.031747705423981115,\n",
       " 0.10563389962385238,\n",
       " -0.19998495347826956,\n",
       " 0.18386549097039478,\n",
       " -0.04262383903905331,\n",
       " 0.1258473332709012,\n",
       " 0.22601734142131413,\n",
       " -0.15369232048270592,\n",
       " -0.1985099071460952,\n",
       " -0.6001046378387707,\n",
       " -0.01488692066264341,\n",
       " 0.07563500018493638,\n",
       " 0.1662854071144774,\n",
       " 0.08764221405867559,\n",
       " -0.14001350524823153,\n",
       " -0.3231350481749194,\n",
       " -0.12239551154676513,\n",
       " 0.11753997311523487,\n",
       " 0.1050082506636518,\n",
       " 0.1507662242280531,\n",
       " -0.363785163662089,\n",
       " -0.22410556883302882,\n",
       " -0.048267224650126894,\n",
       " 0.557536811694929,\n",
       " 0.6153001882068808,\n",
       " 0.5845411509876395,\n",
       " -0.07938861028102026,\n",
       " -0.20728710874915696,\n",
       " -0.31793230553269114,\n",
       " -0.1805132029039194,\n",
       " 0.12146894393398244,\n",
       " 0.0169336116595038,\n",
       " -0.09363151004240713,\n",
       " -0.260593997496255,\n",
       " -0.34897629457212215,\n",
       " -0.27260629852754237,\n",
       " -0.5931575850213111,\n",
       " -0.3163306564971526,\n",
       " -0.15847449665942143,\n",
       " -0.05565381067979238,\n",
       " -0.05272891024903395,\n",
       " 0.11003999692037045,\n",
       " 0.5715655003548187,\n",
       " 0.4604094772171639,\n",
       " -0.10507626733979053,\n",
       " -0.3231258109994294,\n",
       " 0.12583011474989392,\n",
       " 0.0400436797037059,\n",
       " 0.3253933033168329,\n",
       " -0.21362215897362516,\n",
       " -0.00801270838631113,\n",
       " -0.19126163266314633,\n",
       " -0.047272916687634475,\n",
       " -0.13757960983900686,\n",
       " -0.026967874679801412,\n",
       " -0.5808946974601809,\n",
       " -0.5157329687123129,\n",
       " 0.133436002588238,\n",
       " 0.6808846126222807,\n",
       " 0.29230461873114927,\n",
       " -0.05795963533052223,\n",
       " -0.5836164847917176,\n",
       " -0.215046493473214,\n",
       " 0.5197291747761186,\n",
       " 0.8942608405675234,\n",
       " 0.6234296166632812,\n",
       " 0.4013110409227162,\n",
       " 0.23485452228940146,\n",
       " -0.11357089921995167,\n",
       " -0.062846361338102,\n",
       " -0.02659865613088101,\n",
       " -0.09410206250284248,\n",
       " 0.06736866387797526,\n",
       " -0.22754647441240128,\n",
       " -0.37029956890937726,\n",
       " -0.4085947918148475,\n",
       " -0.07261750501061365,\n",
       " 0.05094452935398107,\n",
       " 0.7270493581447236,\n",
       " 0.630295930249067,\n",
       " 0.3305252746361374,\n",
       " -0.2553406979367293,\n",
       " 0.10403739068623197,\n",
       " 0.2603229418231229,\n",
       " 0.6015217419732402,\n",
       " 0.6514567670309146,\n",
       " 0.6492145941340003,\n",
       " 0.3403929057388956,\n",
       " 0.23819853370552044,\n",
       " -0.06258276659539673,\n",
       " -0.4063920348970463,\n",
       " -0.034407146536065636,\n",
       " 0.4479238608383832,\n",
       " 0.6985841345749122,\n",
       " 0.22960604542162702,\n",
       " -0.37326576165711156,\n",
       " -0.4350988465496878,\n",
       " 0.25471729252118214,\n",
       " 0.5191636026010662,\n",
       " -0.02727982842308102,\n",
       " -0.29221752675657375,\n",
       " -0.44799092826318765,\n",
       " -0.27572036185780474,\n",
       " 0.26428085629848075,\n",
       " 0.35381896292287907,\n",
       " 0.47313596911472167,\n",
       " 0.3449447877286659,\n",
       " -0.013506502121467354,\n",
       " -0.0230790580889165,\n",
       " 0.002166746774890569,\n",
       " 0.08362445842739044,\n",
       " -0.10217595131817564,\n",
       " -0.22965320142003423,\n",
       " -1.016443975816469,\n",
       " -0.16720338541934054,\n",
       " 0.29829058333249703,\n",
       " 0.7807620398425784,\n",
       " 0.06226093490945667,\n",
       " 0.08697719579957047,\n",
       " -0.3106062836352077,\n",
       " 0.10396180486251372,\n",
       " 0.6791362906996015,\n",
       " 0.34271690382495684,\n",
       " -0.2960668450231526,\n",
       " -0.49390459307177476,\n",
       " -0.7942804552525596,\n",
       " -0.4938134432610523,\n",
       " 0.4406921127237003,\n",
       " 0.44666083094563186,\n",
       " 0.2533422316330953,\n",
       " 0.5854872324972098,\n",
       " -0.3363681030350385,\n",
       " -0.06235102374825552,\n",
       " 0.6471776982432109,\n",
       " 0.22913331386535551,\n",
       " -0.6748613299063614,\n",
       " -0.5636735815301435,\n",
       " -0.257152936784257,\n",
       " -0.2725636566965183,\n",
       " -0.12171704824439039,\n",
       " -0.24982070420739283,\n",
       " -0.2901334452638413,\n",
       " -0.040728555562726476,\n",
       " 0.18402408133002407,\n",
       " 0.17482762715876218,\n",
       " 0.3933495425075795,\n",
       " 0.08444439856939573,\n",
       " 0.2987517933812384,\n",
       " -0.1361916016568685,\n",
       " -0.7039546409066053,\n",
       " -0.561610882345489,\n",
       " -0.22585761790869283,\n",
       " -0.27324138503595063,\n",
       " -0.22081571705750283,\n",
       " -0.3300163296726813,\n",
       " -0.2615433947971276,\n",
       " 0.18384399880506433,\n",
       " 0.6063605903845423,\n",
       " 0.5671388902283092,\n",
       " 0.45118458080120727,\n",
       " -0.0057323792609499935,\n",
       " 0.2212438284488508,\n",
       " 0.43266879781205736,\n",
       " 0.5818329933953221,\n",
       " 0.327658209518181,\n",
       " -0.07639763927654288,\n",
       " -0.5006291892116452,\n",
       " -0.42128700102704764,\n",
       " -0.358946170212602,\n",
       " -0.4065688848264948,\n",
       " -0.08593884178901755,\n",
       " 0.4375722501838705,\n",
       " 0.5173723371133987,\n",
       " 0.5754176913466129,\n",
       " 0.07082825230989911,\n",
       " -0.25772847615591205,\n",
       " 0.3239953612495814,\n",
       " 0.15239106063426303,\n",
       " -0.05482659531197898,\n",
       " -0.10943769745043609,\n",
       " -0.16174784520484864,\n",
       " 0.009470238094142394,\n",
       " -0.1205743236306782,\n",
       " -0.22095454758029465,\n",
       " -0.057988897115682586,\n",
       " 0.1192954773932784,\n",
       " 0.10721466803679605,\n",
       " 0.7379114719690895,\n",
       " 0.2520345703869184,\n",
       " 0.17893487076838938,\n",
       " 0.3149363206837971,\n",
       " -0.17284581285348932,\n",
       " -0.48116872669404964,\n",
       " -0.6190167447057142,\n",
       " -0.6826529433444861,\n",
       " -0.8093825604055791,\n",
       " -0.7300565673929068,\n",
       " -0.6553070359670805,\n",
       " -0.5154858545829859,\n",
       " -0.17727800125016902,\n",
       " 0.1513799651682577,\n",
       " 0.5649196106321555,\n",
       " -0.6156045867777228,\n",
       " -0.2852538069039932,\n",
       " -0.32185310175894544,\n",
       " -0.17182138432345742,\n",
       " -0.5675769104018876,\n",
       " -0.4566436667730579,\n",
       " 0.043347777740450205,\n",
       " -0.2032366491451511,\n",
       " -0.28435355769603404,\n",
       " -0.3424427197747788,\n",
       " -0.3049216351011099,\n",
       " -0.2961275449657329,\n",
       " -0.2395220103729334,\n",
       " -0.3654651698933734,\n",
       " -0.09902264459489513,\n",
       " -0.21332779314639916,\n",
       " -0.21089826789112603,\n",
       " 0.36640166167400234,\n",
       " 0.41832591047815587,\n",
       " 0.0820848104689015,\n",
       " 0.48229547523468586,\n",
       " 0.583740186050406,\n",
       " 1.040519123725995,\n",
       " 0.5713806620117725,\n",
       " 0.12267781555168505,\n",
       " -0.15807073233508576,\n",
       " 0.011084362400579917,\n",
       " -0.31356913592940433,\n",
       " -0.16902593061729562,\n",
       " -0.8609467075320187,\n",
       " -0.12537150599604413,\n",
       " 0.32789144267838843,\n",
       " 0.018555769343647832,\n",
       " 0.16373536527895632,\n",
       " -0.36885769319685385,\n",
       " -1.072800132295376,\n",
       " -1.043298509723896,\n",
       " -0.3846546219060518,\n",
       " -0.24073877342152006,\n",
       " 0.7561186730171829,\n",
       " 0.6076314355885316,\n",
       " 0.3769580867516493,\n",
       " 0.19314988491995982,\n",
       " -0.06321580898377181,\n",
       " 0.3504171124035285,\n",
       " 0.9497701016765165,\n",
       " 0.7016552105047688,\n",
       " 0.37945135439600813,\n",
       " 0.5065715057242524,\n",
       " 0.20501355564396065,\n",
       " -0.06683714711102708,\n",
       " -0.3342670345157076,\n",
       " ...]"
      ]
     },
     "execution_count": 97,
     "metadata": {},
     "output_type": "execute_result"
    }
   ],
   "source": [
    "values"
   ]
  },
  {
   "cell_type": "code",
   "execution_count": 98,
   "id": "a518b8f6",
   "metadata": {},
   "outputs": [],
   "source": [
    "MAXLAGS = 5"
   ]
  },
  {
   "cell_type": "code",
   "execution_count": 101,
   "id": "c2931ef9",
   "metadata": {},
   "outputs": [
    {
     "ename": "NotImplementedError",
     "evalue": "AR has been removed from statsmodels and replaced with statsmodels.tsa.ar_model.AutoReg.",
     "output_type": "error",
     "traceback": [
      "\u001b[0;31m---------------------------------------------------------------------------\u001b[0m",
      "\u001b[0;31mNotImplementedError\u001b[0m                       Traceback (most recent call last)",
      "Input \u001b[0;32mIn [101]\u001b[0m, in \u001b[0;36m<cell line: 1>\u001b[0;34m()\u001b[0m\n\u001b[0;32m----> 1\u001b[0m model \u001b[38;5;241m=\u001b[39m \u001b[43msm\u001b[49m\u001b[38;5;241;43m.\u001b[39;49m\u001b[43mtsa\u001b[49m\u001b[38;5;241;43m.\u001b[39;49m\u001b[43mAR\u001b[49m\u001b[43m(\u001b[49m\u001b[43mvalues\u001b[49m\u001b[43m)\u001b[49m\n",
      "File \u001b[0;32m~/.pyenv/versions/3.10.3/lib/python3.10/site-packages/statsmodels/tsa/ar_model.py:822\u001b[0m, in \u001b[0;36mAR.__init__\u001b[0;34m(self, *args, **kwargs)\u001b[0m\n\u001b[1;32m    821\u001b[0m \u001b[38;5;28;01mdef\u001b[39;00m \u001b[38;5;21m__init__\u001b[39m(\u001b[38;5;28mself\u001b[39m, \u001b[38;5;241m*\u001b[39margs, \u001b[38;5;241m*\u001b[39m\u001b[38;5;241m*\u001b[39mkwargs):\n\u001b[0;32m--> 822\u001b[0m     \u001b[38;5;28;01mraise\u001b[39;00m \u001b[38;5;167;01mNotImplementedError\u001b[39;00m(\n\u001b[1;32m    823\u001b[0m         \u001b[38;5;124m\"\u001b[39m\u001b[38;5;124mAR has been removed from statsmodels and replaced with \u001b[39m\u001b[38;5;124m\"\u001b[39m\n\u001b[1;32m    824\u001b[0m         \u001b[38;5;124m\"\u001b[39m\u001b[38;5;124mstatsmodels.tsa.ar_model.AutoReg.\u001b[39m\u001b[38;5;124m\"\u001b[39m\n\u001b[1;32m    825\u001b[0m     )\n",
      "\u001b[0;31mNotImplementedError\u001b[0m: AR has been removed from statsmodels and replaced with statsmodels.tsa.ar_model.AutoReg."
     ]
    }
   ],
   "source": [
    "model = sm.tsa.AR(values)"
   ]
  },
  {
   "cell_type": "code",
   "execution_count": 103,
   "id": "ea1a4aa6",
   "metadata": {},
   "outputs": [],
   "source": [
    "sm.tsa?"
   ]
  },
  {
   "cell_type": "code",
   "execution_count": null,
   "id": "7751ab2b",
   "metadata": {},
   "outputs": [],
   "source": []
  }
 ],
 "metadata": {
  "kernelspec": {
   "display_name": "Python 3 (ipykernel)",
   "language": "python",
   "name": "python3"
  },
  "language_info": {
   "codemirror_mode": {
    "name": "ipython",
    "version": 3
   },
   "file_extension": ".py",
   "mimetype": "text/x-python",
   "name": "python",
   "nbconvert_exporter": "python",
   "pygments_lexer": "ipython3",
   "version": "3.10.3"
  }
 },
 "nbformat": 4,
 "nbformat_minor": 5
}

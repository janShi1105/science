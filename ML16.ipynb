{
  "nbformat": 4,
  "nbformat_minor": 0,
  "metadata": {
    "colab": {
      "provenance": [],
      "collapsed_sections": [],
      "authorship_tag": "ABX9TyNs1ZPVEZftynuzA33eaQKr",
      "include_colab_link": true
    },
    "kernelspec": {
      "name": "python3",
      "display_name": "Python 3"
    },
    "language_info": {
      "name": "python"
    },
    "accelerator": "GPU",
    "gpuClass": "standard"
  },
  "cells": [
    {
      "cell_type": "markdown",
      "metadata": {
        "id": "view-in-github",
        "colab_type": "text"
      },
      "source": [
        "<a href=\"https://colab.research.google.com/github/janShi1105/science/blob/main/ML16.ipynb\" target=\"_parent\"><img src=\"https://colab.research.google.com/assets/colab-badge.svg\" alt=\"Open In Colab\"/></a>"
      ]
    },
    {
      "cell_type": "code",
      "execution_count": 1,
      "metadata": {
        "colab": {
          "base_uri": "https://localhost:8080/"
        },
        "id": "P2O6CxFAHXQt",
        "outputId": "cf5dd645-65e9-4d9b-9a74-ea40f3542dd3"
      },
      "outputs": [
        {
          "output_type": "stream",
          "name": "stdout",
          "text": [
            "W_xh shape: (5, 2)\n",
            "W_oo shape: (2, 2)\n",
            "b_h shape: (2,)\n"
          ]
        }
      ],
      "source": [
        "import tensorflow as tf\n",
        "tf.random.set_seed(1)\n",
        "rnn_layer = tf.keras.layers.SimpleRNN(units=2, use_bias= True, return_sequences=True)\n",
        "rnn_layer.build(input_shape=(None, None, 5))\n",
        "w_xh, w_oo, b_h = rnn_layer.weights\n",
        "print('W_xh shape:', w_xh.shape)\n",
        "print('W_oo shape:', w_oo.shape)\n",
        "print('b_h shape:', b_h.shape)"
      ]
    },
    {
      "cell_type": "code",
      "source": [
        "x_seq = tf.convert_to_tensor([[1.0]*5, [2.0]*5, [3.0]*5], dtype=tf.float32)\n",
        "output = rnn_layer(tf.reshape(x_seq, shape=(1,3,5)))\n",
        "out_man = []\n",
        "for t in range(len(x_seq)):\n",
        "  xt = tf.reshape(x_seq[t], (1,5))\n",
        "  print('Time step {}'.format(t))\n",
        "  print('    Input           :', xt.numpy())\n",
        "\n",
        "  ht = tf.matmul(xt, w_xh) + b_h\n",
        "  print('    Hidden        :', ht.numpy())\n",
        "\n",
        "  if t>0:\n",
        "    prev_o = out_man[t-1]\n",
        "  else:\n",
        "    prev_o = tf.zeros(shape=(ht.shape))\n",
        "  ot = ht + tf.matmul(prev_o, w_oo)\n",
        "  ot = tf.math.tanh(ot)\n",
        "  out_man.append(ot)\n",
        "  print('      Output (manual)   :', ot.numpy())\n",
        "  print('      SimpleRNN output: '.format(t), output[0][t].numpy())\n",
        "  print()\n",
        "\n"
      ],
      "metadata": {
        "colab": {
          "base_uri": "https://localhost:8080/"
        },
        "id": "IBmMQNoPKaDA",
        "outputId": "f755716c-edbc-4142-f473-d3ae4ca0d08b"
      },
      "execution_count": 2,
      "outputs": [
        {
          "output_type": "stream",
          "name": "stdout",
          "text": [
            "Time step 0\n",
            "    Input           : [[1. 1. 1. 1. 1.]]\n",
            "    Hidden        : [[-1.5800393   0.99679226]]\n",
            "      Output (manual)   : [[-0.918608   0.7602437]]\n",
            "      SimpleRNN output:  [-0.918608   0.7602437]\n",
            "\n",
            "Time step 1\n",
            "    Input           : [[2. 2. 2. 2. 2.]]\n",
            "    Hidden        : [[-3.1600785  1.9935845]]\n",
            "      Output (manual)   : [[-0.99958783  0.9863836 ]]\n",
            "      SimpleRNN output:  [-0.99958783  0.9863836 ]\n",
            "\n",
            "Time step 2\n",
            "    Input           : [[3. 3. 3. 3. 3.]]\n",
            "    Hidden        : [[-4.7401175  2.990377 ]]\n",
            "      Output (manual)   : [[-0.9999867   0.99874306]]\n",
            "      SimpleRNN output:  [-0.9999867   0.99874306]\n",
            "\n"
          ]
        }
      ]
    },
    {
      "cell_type": "code",
      "source": [
        "from google.colab import drive \n",
        "drive.mount('/content/drive')"
      ],
      "metadata": {
        "colab": {
          "base_uri": "https://localhost:8080/"
        },
        "id": "YT7OhKDyQ7ph",
        "outputId": "14bcbf87-c59a-4264-b90d-3b8020e51784"
      },
      "execution_count": 3,
      "outputs": [
        {
          "output_type": "stream",
          "name": "stdout",
          "text": [
            "Drive already mounted at /content/drive; to attempt to forcibly remount, call drive.mount(\"/content/drive\", force_remount=True).\n"
          ]
        }
      ]
    },
    {
      "cell_type": "code",
      "source": [
        "import tensorflow as tf\n",
        "import tensorflow_datasets as tfds\n",
        "import numpy as np\n",
        "import pandas as pd\n",
        "\n",
        "df = pd.read_csv('drive/MyDrive/movie_data.csv', encoding='utf-8')"
      ],
      "metadata": {
        "id": "xLaxkLCcUJRl"
      },
      "execution_count": 4,
      "outputs": []
    },
    {
      "cell_type": "code",
      "source": [
        "!ls"
      ],
      "metadata": {
        "colab": {
          "base_uri": "https://localhost:8080/"
        },
        "id": "XrHPYmU6UfzS",
        "outputId": "ed310d0c-b3f3-4ad1-9f34-e2025b099d98"
      },
      "execution_count": 5,
      "outputs": [
        {
          "output_type": "stream",
          "name": "stdout",
          "text": [
            "drive  sample_data\n"
          ]
        }
      ]
    },
    {
      "cell_type": "code",
      "source": [
        "target = df.pop('sentiment')\n",
        "ds_raw = tf.data.Dataset.from_tensor_slices((df.values, target.values))\n",
        "for ex in ds_raw.take(3):\n",
        "  tf.print(ex[0].numpy()[0][:50], ex[1])\n"
      ],
      "metadata": {
        "colab": {
          "base_uri": "https://localhost:8080/"
        },
        "id": "YIskxt2sUltU",
        "outputId": "218a453d-9f9f-4cea-d9fb-661d419f654c"
      },
      "execution_count": 6,
      "outputs": [
        {
          "output_type": "stream",
          "name": "stdout",
          "text": [
            "b'In 1974, the teenager Martha Moxley (Maggie Grace)' 1\n",
            "b'OK... so... I really like Kris Kristofferson and h' 0\n",
            "b'***SPOILER*** Do not read this, if you think about' 0\n"
          ]
        }
      ]
    },
    {
      "cell_type": "code",
      "source": [
        "tf.random.set_seed(1)\n",
        "ds_raw= ds_raw.shuffle(50000, reshuffle_each_iteration=False)\n",
        "ds_raw_test = ds_raw.take(25000)\n",
        "ds_raw_train_valid = ds_raw.skip(25000)\n",
        "ds_raw_train = ds_raw_train_valid.take(20000)\n",
        "ds_raw_valid = ds_raw_train_valid.skip(20000)"
      ],
      "metadata": {
        "id": "ojUWsUMeVHjE"
      },
      "execution_count": 7,
      "outputs": []
    },
    {
      "cell_type": "code",
      "source": [
        "from collections import Counter\n",
        "\n",
        "tokenizer = tfds.deprecated.text.Tokenizer()\n",
        "token_counts = Counter()\n",
        "for example in ds_raw_train:\n",
        "  tokens = tokenizer.tokenize(example[0].numpy()[0])\n",
        "  token_counts.update(tokens)\n",
        "\n",
        "print('Vocab-size:', len(token_counts))"
      ],
      "metadata": {
        "colab": {
          "base_uri": "https://localhost:8080/"
        },
        "id": "wipY24dtVhyY",
        "outputId": "8caa6f65-07a1-4823-9d04-48599aa9cc9f"
      },
      "execution_count": 26,
      "outputs": [
        {
          "output_type": "stream",
          "name": "stdout",
          "text": [
            "Vocab-size: 87007\n"
          ]
        }
      ]
    },
    {
      "cell_type": "code",
      "source": [
        "!pip install tensorflow-text"
      ],
      "metadata": {
        "id": "Xe3oNyLFV_d0"
      },
      "execution_count": null,
      "outputs": []
    },
    {
      "cell_type": "code",
      "source": [
        "!tensorflow-text --version"
      ],
      "metadata": {
        "id": "KszyM76cWm0h"
      },
      "execution_count": null,
      "outputs": []
    },
    {
      "cell_type": "code",
      "source": [
        "encoder = tfds.deprecated.text.TokenTextEncoder(token_counts)\n",
        "example_str = 'This is an example!'\n",
        "print(encoder.encode(example_str))"
      ],
      "metadata": {
        "colab": {
          "base_uri": "https://localhost:8080/"
        },
        "id": "lIZmy4t2onEx",
        "outputId": "aab5dcf2-2df6-48da-ad01-d8e75f961437"
      },
      "execution_count": 27,
      "outputs": [
        {
          "output_type": "stream",
          "name": "stdout",
          "text": [
            "[232, 9, 270, 1123]\n"
          ]
        }
      ]
    },
    {
      "cell_type": "code",
      "source": [
        "def encode(text_tensor, label):\n",
        "  text = text_tensor.numpy()[0]\n",
        "  encoded_text = encoder.encode(text)\n",
        "  return encoded_text, label"
      ],
      "metadata": {
        "id": "lDUCPXrTt6zJ"
      },
      "execution_count": 28,
      "outputs": []
    },
    {
      "cell_type": "code",
      "source": [
        "def encode_map_fn(text, label):\n",
        "  return tf.py_function(encode, inp=[text, label], Tout=(tf.int64, tf.int64))\n",
        "\n",
        "ds_train = ds_raw_train.map(encode_map_fn)\n",
        "ds_valid = ds_raw_valid.map(encode_map_fn)\n",
        "ds_test = ds_raw_test.map(encode_map_fn)\n",
        "\n",
        "tf.random.set_seed(1)\n",
        "for example in ds_train.shuffle(1000).take(5):\n",
        "  print('Sequnece length: ', example[0].shape)"
      ],
      "metadata": {
        "colab": {
          "base_uri": "https://localhost:8080/"
        },
        "id": "Skd0Jw1SuSzL",
        "outputId": "f6e0e49d-78aa-4992-eb00-ddbfd812443c"
      },
      "execution_count": 31,
      "outputs": [
        {
          "output_type": "stream",
          "name": "stdout",
          "text": [
            "Sequnece length:  (24,)\n",
            "Sequnece length:  (179,)\n",
            "Sequnece length:  (262,)\n",
            "Sequnece length:  (535,)\n",
            "Sequnece length:  (130,)\n"
          ]
        }
      ]
    },
    {
      "cell_type": "code",
      "source": [],
      "metadata": {
        "id": "Ow4iZXeHu5Id"
      },
      "execution_count": null,
      "outputs": []
    }
  ]
}
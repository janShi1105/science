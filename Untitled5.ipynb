{
 "cells": [
  {
   "cell_type": "code",
   "execution_count": 7,
   "id": "d75a7b8f",
   "metadata": {},
   "outputs": [
    {
     "data": {
      "image/png": "[encoded data removed]",
      "text/plain": [
       "<Figure size 432x288 with 1 Axes>"
      ]
     },
     "metadata": {
      "needs_background": "light"
     },
     "output_type": "display_data"
    }
   ],
   "source": [
    "import numpy as np\n",
    "from scipy.stats import norm\n",
    "import matplotlib.pyplot as plt\n",
    "\n",
    "X = np.arange(-50, 50, 0.1)\n",
    "\n",
    "y1 = norm.pdf(X, -2,6.4)\n",
    "y2 = norm.pdf(X, -4, 12.8)\n",
    "y3 = norm.pdf(X, -8, 25.6)\n",
    "\n",
    "plt.plot(X,y1)\n",
    "plt.plot(X,y2)\n",
    "plt.plot(X,y3)\n",
    "plt.show()"
   ]
  },
  {
   "cell_type": "code",
   "execution_count": 11,
   "id": "663b568f",
   "metadata": {},
   "outputs": [],
   "source": [
    "import pandas as pd\n",
    "\n",
    "dt = pd.read_csv('sample.csv')"
   ]
  },
  {
   "cell_type": "code",
   "execution_count": 12,
   "id": "5b24e199",
   "metadata": {},
   "outputs": [
    {
     "data": {
      "text/html": [
       "<div>\n",
       "<style scoped>\n",
       "    .dataframe tbody tr th:only-of-type {\n",
       "        vertical-align: middle;\n",
       "    }\n",
       "\n",
       "    .dataframe tbody tr th {\n",
       "        vertical-align: top;\n",
       "    }\n",
       "\n",
       "    .dataframe thead th {\n",
       "        text-align: right;\n",
       "    }\n",
       "</style>\n",
       "<table border=\"1\" class=\"dataframe\">\n",
       "  <thead>\n",
       "    <tr style=\"text-align: right;\">\n",
       "      <th></th>\n",
       "      <th>c1</th>\n",
       "      <th>c2</th>\n",
       "      <th>c3</th>\n",
       "      <th>c4</th>\n",
       "      <th>c5</th>\n",
       "    </tr>\n",
       "  </thead>\n",
       "  <tbody>\n",
       "    <tr>\n",
       "      <th>0</th>\n",
       "      <td>0.310491</td>\n",
       "      <td>0.275335</td>\n",
       "      <td>0.336859</td>\n",
       "      <td>0.408651</td>\n",
       "      <td>0.444982</td>\n",
       "    </tr>\n",
       "    <tr>\n",
       "      <th>1</th>\n",
       "      <td>0.330470</td>\n",
       "      <td>0.435939</td>\n",
       "      <td>0.251368</td>\n",
       "      <td>0.801616</td>\n",
       "      <td>0.145747</td>\n",
       "    </tr>\n",
       "    <tr>\n",
       "      <th>2</th>\n",
       "      <td>0.032436</td>\n",
       "      <td>0.716029</td>\n",
       "      <td>0.269740</td>\n",
       "      <td>0.322124</td>\n",
       "      <td>0.930354</td>\n",
       "    </tr>\n",
       "    <tr>\n",
       "      <th>3</th>\n",
       "      <td>0.828333</td>\n",
       "      <td>0.777552</td>\n",
       "      <td>0.116419</td>\n",
       "      <td>0.849894</td>\n",
       "      <td>0.103327</td>\n",
       "    </tr>\n",
       "    <tr>\n",
       "      <th>4</th>\n",
       "      <td>0.172758</td>\n",
       "      <td>0.325102</td>\n",
       "      <td>0.308500</td>\n",
       "      <td>0.436201</td>\n",
       "      <td>0.441526</td>\n",
       "    </tr>\n",
       "  </tbody>\n",
       "</table>\n",
       "</div>"
      ],
      "text/plain": [
       "         c1        c2        c3        c4        c5\n",
       "0  0.310491  0.275335  0.336859  0.408651  0.444982\n",
       "1  0.330470  0.435939  0.251368  0.801616  0.145747\n",
       "2  0.032436  0.716029  0.269740  0.322124  0.930354\n",
       "3  0.828333  0.777552  0.116419  0.849894  0.103327\n",
       "4  0.172758  0.325102  0.308500  0.436201  0.441526"
      ]
     },
     "execution_count": 12,
     "metadata": {},
     "output_type": "execute_result"
    }
   ],
   "source": [
    "dt.head()"
   ]
  },
  {
   "cell_type": "code",
   "execution_count": 21,
   "id": "2b26018c",
   "metadata": {},
   "outputs": [],
   "source": [
    "def calc(df):\n",
    "    cols = df.columns\n",
    "    for c in cols:\n",
    "        data = df[c]\n",
    "        m = np.mean(data)\n",
    "        arr = (data - m)**2\n",
    "        small_s = np.sum(arr) /9\n",
    "        large_s = np.sum(arr) /10\n",
    "        print(f's^2 of {c} = {small_s}')\n",
    "        print(f'S^2 of {c} = {large_s}')"
   ]
  },
  {
   "cell_type": "code",
   "execution_count": 22,
   "id": "9bc7fb8f",
   "metadata": {},
   "outputs": [
    {
     "name": "stdout",
     "output_type": "stream",
     "text": [
      "s^2 of c1 = 0.0737091950680265\n",
      "S^2 of c1 = 0.06633827556122386\n",
      "s^2 of c2 = 0.06127631563160653\n",
      "S^2 of c2 = 0.05514868406844588\n",
      "s^2 of c3 = 0.07171570477621098\n",
      "S^2 of c3 = 0.06454413429858988\n",
      "s^2 of c4 = 0.07640176330672888\n",
      "S^2 of c4 = 0.06876158697605599\n",
      "s^2 of c5 = 0.06599677346877986\n",
      "S^2 of c5 = 0.059397096121901874\n"
     ]
    }
   ],
   "source": [
    "calc(dt)"
   ]
  },
  {
   "cell_type": "code",
   "execution_count": 25,
   "id": "391d563a",
   "metadata": {},
   "outputs": [
    {
     "data": {
      "text/plain": [
       "(8, 5)"
      ]
     },
     "execution_count": 25,
     "metadata": {},
     "output_type": "execute_result"
    }
   ],
   "source": [
    "dt.shape"
   ]
  },
  {
   "cell_type": "code",
   "execution_count": 26,
   "id": "7eaceaae",
   "metadata": {},
   "outputs": [],
   "source": [
    "def poisson(x, lmbd):\n",
    "    return np.exp(-lmbd) * lmbd**x / epo(x)\n",
    "\n",
    "def epo(x):\n",
    "    num = 1\n",
    "    while x != 0:\n",
    "        num *= x\n",
    "        x -= 1\n",
    "    return num"
   ]
  },
  {
   "cell_type": "code",
   "execution_count": 43,
   "id": "180968f2",
   "metadata": {},
   "outputs": [],
   "source": [
    "def calc_p(n, num):\n",
    "    p_sum = 0\n",
    "    for i in range(num):\n",
    "        p_sum += poisson(i, n)\n",
    "    print(f'p = {p_sum}')"
   ]
  },
  {
   "cell_type": "code",
   "execution_count": 51,
   "id": "d16353a9",
   "metadata": {},
   "outputs": [
    {
     "name": "stdout",
     "output_type": "stream",
     "text": [
      "p = 0.9071305858827781\n"
     ]
    }
   ],
   "source": [
    "calc_p( 867.2 / 365, 5)"
   ]
  },
  {
   "cell_type": "code",
   "execution_count": null,
   "id": "20af006c",
   "metadata": {},
   "outputs": [],
   "source": []
  }
 ],
 "metadata": {
  "kernelspec": {
   "display_name": "Python 3 (ipykernel)",
   "language": "python",
   "name": "python3"
  },
  "language_info": {
   "codemirror_mode": {
    "name": "ipython",
    "version": 3
   },
   "file_extension": ".py",
   "mimetype": "text/x-python",
   "name": "python",
   "nbconvert_exporter": "python",
   "pygments_lexer": "ipython3",
   "version": "3.10.3"
  }
 },
 "nbformat": 4,
 "nbformat_minor": 5
}

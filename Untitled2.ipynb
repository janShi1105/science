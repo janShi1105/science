{
 "cells": [
  {
   "cell_type": "code",
   "execution_count": 2,
   "id": "0b7778d6",
   "metadata": {},
   "outputs": [
    {
     "name": "stdout",
     "output_type": "stream",
     "text": [
      " [1] \"total 154364\"                                                                    \n",
      " [2] \"drwxr-xr-x  3 jovyan users       96 Sep  5 12:28 ~\"                              \n",
      " [3] \"-rw-r--r--  1 jovyan users  1171290 Sep 15 10:27 1268-0.txt\"                     \n",
      " [4] \"drwxr-xr-x  5 jovyan users      160 Aug 27 12:28 1st_flask_app_1\"                \n",
      " [5] \"drwxr-xr-x  7 jovyan users      224 Aug 27 01:21 aclImdb\"                        \n",
      " [6] \"-rw-r--r--  1 jovyan users      650 Jul  3 02:03 array_archive.npz\"              \n",
      " [7] \"-rw-r--r--  1 jovyan users      424 Jul  3 02:04 array_compresed.npz\"            \n",
      " [8] \"drwxr-xr-x  3 jovyan users       96 Sep 19 13:29 cartpole\"                       \n",
      " [9] \"drwxr-xr-x  8 jovyan users      256 Sep  5 12:11 cat_dog_images\"                 \n",
      "[10] \"-rw-r--r--  1 jovyan users   201398 Jul 12 14:22 chapter 10.ipynb\"               \n",
      "[11] \"-rw-r--r--  1 jovyan users   106137 Jul 12 14:22 chapter11.ipynb\"                \n",
      "[12] \"-rw-r--r--  1 jovyan users     4154 Jul 12 14:22 chapter12.ipynb\"                \n",
      "[13] \"-rw-r--r--  1 jovyan users    28249 Jul 12 14:22 chapter13.1.ipynb\"              \n",
      "[14] \"-rw-r--r--  1 jovyan users    86249 Jul 12 14:22 chapter13.ipynb\"                \n",
      "[15] \"-rw-r--r--  1 jovyan users  2405611 Jul 12 14:22 chapter14.ipynb\"                \n",
      "[16] \"-rw-r--r--  1 jovyan users    24920 Jul  2 15:14 chapter1.ipynb\"                 \n",
      "[17] \"-rw-r--r--  1 jovyan users   194340 Jul  3 02:32 chapter4.ipynb\"                 \n",
      "[18] \"-rw-r--r--  1 jovyan users   226675 Jul  4 23:34 chapter5.ipynb\"                 \n",
      "[19] \"-rw-r--r--  1 jovyan users   296628 Jul  4 23:34 chapter6.ipynb\"                 \n",
      "[20] \"-rw-r--r--  1 jovyan users   223645 Jul  5 23:54 chapter7.ipynb\"                 \n",
      "[21] \"-rw-r--r--  1 jovyan users   263945 Jul  6 13:29 chapter8.ipynb\"                 \n",
      "[22] \"-rw-r--r--  1 jovyan users   128523 Jul  7 12:42 chapter9.1.ipynb\"               \n",
      "[23] \"-rw-r--r--  1 jovyan users  4904746 Jul 10 13:21 chapter9.ipynb\"                 \n",
      "[24] \"-rw-r--r--  1 jovyan users      235 Sep 15 13:03 cv_sample.py\"                   \n",
      "[25] \"drwxrwxr-x 10 jovyan users      320 Dec 13  2021 datasets\"                       \n",
      "[26] \"-rw-r--r--  1 jovyan users    22283 Sep 15 10:27 example-image.png\"              \n",
      "[27] \"drwxr-xr-x 31 jovyan users      992 Jul  4 23:34 examples\"                       \n",
      "[28] \"-rw-r--r--  1 jovyan users    83114 Jul  7 13:20 figpath2.png\"                   \n",
      "[29] \"-rw-r--r--  1 jovyan users    11985 Jul  7 13:20 figpath.svg\"                    \n",
      "[30] \"drwxr-xr-x 12 jovyan users      384 Nov  3 15:58 fromzero\"                       \n",
      "[31] \"drwxr-xr-x  7 jovyan users      224 Sep 19 13:29 gridworld\"                      \n",
      "[32] \"-rw-r--r--  1 jovyan users     1765 Aug 18 13:01 index.html\"                     \n",
      "[33] \"-rw-r--r--  1 jovyan users    16150 Nov  3 15:27 index.html.1\"                   \n",
      "[34] \"drwxr-xr-x  5 jovyan users      160 Aug 14 13:23 kaggle\"                         \n",
      "[35] \"drwxr-xr-x 16 jovyan users      512 Aug 13 00:43 kagglebook-master\"              \n",
      "[36] \"-rw-r--r--  1 jovyan users   440647 Aug 19 10:10 machineLearning2.ipynb\"         \n",
      "[37] \"-rw-r--r--  1 jovyan users   143157 Aug 15 11:28 machineLearning.ipynb\"          \n",
      "[38] \"drwxr-xr-x  7 jovyan users      224 Sep  3 22:32 ml\"                             \n",
      "[39] \"-rw-r--r--  1 jovyan users   425121 Sep  1 12:34 ML10.ipynb\"                     \n",
      "[40] \"-rw-r--r--  1 jovyan users   377184 Sep  5 12:11 ML11.ipynb\"                     \n",
      "[41] \"-rw-r--r--  1 jovyan users  1313977 Sep 15 10:27 ML13.ipynb\"                     \n",
      "[42] \"-rw-r--r--  1 jovyan users    26833 Sep 15 10:27 ML14_2.ipynb\"                   \n",
      "[43] \"-rw-r--r--  1 jovyan users    10489 Sep 15 10:27 M_L14_3.ipynb\"                  \n",
      "[44] \"-rw-r--r--  1 jovyan users   310017 Sep 15 10:27 ML14.ipynb\"                     \n",
      "[45] \"-rw-r--r--  1 jovyan users    65614 Sep 15 10:27 ML15_2.ipynb\"                   \n",
      "[46] \"-rw-r--r--  1 jovyan users    13125 Sep 15 10:27 ML15.ipynb\"                     \n",
      "[47] \"-rw-r--r--  1 jovyan users    18598 Sep 15 13:03 ML16-2.ipynb\"                   \n",
      "[48] \"-rw-r--r--  1 jovyan users    29253 Sep 15 10:27 ML16.ipynb\"                     \n",
      "[49] \"-rw-r--r--  1 jovyan users    28128 Sep 19 03:23 ML17_3.ipynb\"                   \n",
      "[50] \"-rw-r--r--  1 jovyan users   208933 Sep 19 03:23 ML17.ipynb\"                     \n",
      "[51] \"-rw-r--r--  1 jovyan users   459042 Aug 23 23:39 ML3.ipynb\"                      \n",
      "[52] \"-rw-r--r--  1 jovyan users   283784 Aug 27 02:34 ML6.ipynb\"                      \n",
      "[53] \"-rw-r--r--  1 jovyan users    25459 Aug 29 13:18 ML8.ipynb\"                      \n",
      "[54] \"-rw-r--r--  1 jovyan users     2706 Aug 27 08:16 ML9.ipynb\"                      \n",
      "[55] \"-rw-r--r--  1 jovyan users 22088791 Sep  3 09:14 mnist_scaled.npz\"               \n",
      "[56] \"drwxr-xr-x 15 jovyan users      480 Aug 31 04:37 movieclassifier\"                \n",
      "[57] \"-rw-r--r--  1 jovyan users 65862309 Aug 27 02:34 movie_data.csv\"                 \n",
      "[58] \"-rw-r--r--  1 jovyan users       32 Jul  4 23:02 mydata.csv\"                     \n",
      "[59] \"-rw-r--r--  1 jovyan users   176949 Jul  4 23:02 mydata.h5\"                      \n",
      "[60] \"-rw-r--r--  1 jovyan users     8192 Jul  4 23:34 mydata.sqlite\"                  \n",
      "[61] \"drwxr-xr-x  6 jovyan users      192 Jul 28 02:19 my-test-env\"                    \n",
      "[62] \"-rw-r--r--  1 jovyan users       20 Jul 10 13:29 numpy01.py\"                     \n",
      "[63] \"-rw-r--r--  1 jovyan users      877 Aug 22 04:46 plot_decision_regions_script.py\"\n",
      "[64] \"drwxr-xr-x 35 jovyan users     1120 Aug  2 04:37 Pmaster\"                        \n",
      "[65] \"-rw-r--r--  1 jovyan users     7645 Jul 12 14:22 present A.ipynb\"                \n",
      "[66] \"-rw-r--r--  1 jovyan users      111 Aug  7 08:34 push.command\"                   \n",
      "[67] \"-rw-r--r--  1 jovyan users       73 Jul 27 13:39 push_from_main.command\"         \n",
      "[68] \"-rw-r--r--  1 jovyan users      111 Jul 27 13:39 push_from_work.command\"         \n",
      "[69] \"-rw-r--r--  1 jovyan users      111 Aug  7 08:34 pw.command\"                     \n",
      "[70] \"-rw-r--r--  1 jovyan users     7389 Nov  3 15:53 Python_sample.ipynb\"            \n",
      "[71] \"-rw-r--r--  1 jovyan users       20 Jun 29 11:23 README.md\"                      \n",
      "[72] \"drwxr-xr-x  5 jovyan users      160 Oct 12 00:44 RStudio\"                        \n",
      "[73] \"drwxr-xr-x 14 jovyan users      448 Jul 19 12:42 samplecode_20201021\"            \n",
      "[74] \"-rw-r--r--  1 jovyan users     2285 Jul 20 14:50 sk00.ipynb\"                     \n",
      "[75] \"-rw-r--r--  1 jovyan users      208 Jul  3 02:02 some_array.npy\"                 \n",
      "[76] \"-rw-r--r--  1 jovyan users    26688 Aug 29 13:18 statistic.ipynb\"                \n",
      "[77] \"-rw-r--r--  1 jovyan users  7840016 Sep  3 09:14 t10k-images-idx3-ubyte\"         \n",
      "[78] \"-rw-r--r--  1 jovyan users    10008 Sep  3 09:14 t10k-labels-idx1-ubyte\"         \n",
      "[79] \"drwxr-xr-x  2 jovyan users       64 Aug  2 04:16 titanic\"                        \n",
      "[80] \"-rw-r--r--  1 jovyan users 47040016 Sep  3 09:14 train-images-idx3-ubyte\"        \n",
      "[81] \"-rw-r--r--  1 jovyan users    60008 Sep  3 09:14 train-labels-idx1-ubyte\"        \n",
      "[82] \"-rw-r--r--  1 jovyan users   130531 Aug 19 09:32 tree.png\"                       \n",
      "[83] \"-rw-r--r--  1 jovyan users     2638 Sep 19 03:23 Untitled0.ipynb\"                \n",
      "[84] \"-rw-r--r--  1 jovyan users    37472 Sep 19 13:29 Untitled1.ipynb\"                \n",
      "[85] \"-rw-r--r--  1 jovyan users     9550 Nov  3 15:56 Untitled2.ipynb\"                \n",
      "[86] \"-rw-r--r--  1 jovyan users     2813 Sep 19 03:23 Untitled.ipynb\"                 \n",
      "[87] \"-rw-r--r--  1 jovyan users      741 Nov  3 15:42 wine.csv\"                       \n",
      "[88] \"-rw-r--r--  1 jovyan users      741 Nov  3 15:40 wine.csv.1\"                     \n"
     ]
    }
   ],
   "source": [
    "print(system(\"ls -l\", intern =TRUE\n",
    "            ))"
   ]
  },
  {
   "cell_type": "code",
   "execution_count": 3,
   "id": "8f5f5834",
   "metadata": {},
   "outputs": [
    {
     "data": {
      "text/html": [
       "2"
      ],
      "text/latex": [
       "2"
      ],
      "text/markdown": [
       "2"
      ],
      "text/plain": [
       "[1] 2"
      ]
     },
     "metadata": {},
     "output_type": "display_data"
    }
   ],
   "source": [
    "1+1"
   ]
  },
  {
   "cell_type": "code",
   "execution_count": 4,
   "id": "b3699bf4",
   "metadata": {},
   "outputs": [
    {
     "name": "stdout",
     "output_type": "stream",
     "text": [
      "[1] 3\n"
     ]
    }
   ],
   "source": [
    "print(1+2)"
   ]
  },
  {
   "cell_type": "code",
   "execution_count": 5,
   "id": "a89530c2",
   "metadata": {},
   "outputs": [
    {
     "data": {
      "text/html": [
       "4"
      ],
      "text/latex": [
       "4"
      ],
      "text/markdown": [
       "4"
      ],
      "text/plain": [
       "[1] 4"
      ]
     },
     "metadata": {},
     "output_type": "display_data"
    }
   ],
   "source": [
    "1+3"
   ]
  },
  {
   "cell_type": "code",
   "execution_count": 6,
   "id": "519541c5",
   "metadata": {},
   "outputs": [
    {
     "data": {
      "text/html": [
       "16"
      ],
      "text/latex": [
       "16"
      ],
      "text/markdown": [
       "16"
      ],
      "text/plain": [
       "[1] 16"
      ]
     },
     "metadata": {},
     "output_type": "display_data"
    }
   ],
   "source": [
    "0x10"
   ]
  },
  {
   "cell_type": "code",
   "execution_count": 7,
   "id": "1ee3dc23",
   "metadata": {},
   "outputs": [
    {
     "data": {
      "text/html": [
       "123000"
      ],
      "text/latex": [
       "123000"
      ],
      "text/markdown": [
       "123000"
      ],
      "text/plain": [
       "[1] 123000"
      ]
     },
     "metadata": {},
     "output_type": "display_data"
    }
   ],
   "source": [
    "1.23e5"
   ]
  },
  {
   "cell_type": "code",
   "execution_count": 8,
   "id": "b8352a06",
   "metadata": {},
   "outputs": [],
   "source": [
    "library(keras)"
   ]
  },
  {
   "cell_type": "code",
   "execution_count": 9,
   "id": "44a0930b",
   "metadata": {},
   "outputs": [],
   "source": [
    "c(x,y) %<-% c(20,30)"
   ]
  },
  {
   "cell_type": "code",
   "execution_count": 10,
   "id": "381a3acf",
   "metadata": {},
   "outputs": [
    {
     "data": {
      "text/html": [
       "20"
      ],
      "text/latex": [
       "20"
      ],
      "text/markdown": [
       "20"
      ],
      "text/plain": [
       "[1] 20"
      ]
     },
     "metadata": {},
     "output_type": "display_data"
    }
   ],
   "source": [
    "x"
   ]
  },
  {
   "cell_type": "code",
   "execution_count": 11,
   "id": "b4955059",
   "metadata": {},
   "outputs": [
    {
     "data": {
      "text/html": [
       "30"
      ],
      "text/latex": [
       "30"
      ],
      "text/markdown": [
       "30"
      ],
      "text/plain": [
       "[1] 30"
      ]
     },
     "metadata": {},
     "output_type": "display_data"
    }
   ],
   "source": [
    "y"
   ]
  },
  {
   "cell_type": "code",
   "execution_count": 12,
   "id": "835bcf2f",
   "metadata": {},
   "outputs": [],
   "source": [
    "my_s <- \"abcde\""
   ]
  },
  {
   "cell_type": "code",
   "execution_count": 13,
   "id": "a5b618ae",
   "metadata": {},
   "outputs": [
    {
     "data": {
      "text/html": [
       "5"
      ],
      "text/latex": [
       "5"
      ],
      "text/markdown": [
       "5"
      ],
      "text/plain": [
       "[1] 5"
      ]
     },
     "metadata": {},
     "output_type": "display_data"
    }
   ],
   "source": [
    "nchar(my_s)"
   ]
  },
  {
   "cell_type": "code",
   "execution_count": 14,
   "id": "4a7cbd26",
   "metadata": {},
   "outputs": [
    {
     "name": "stderr",
     "output_type": "stream",
     "text": [
      "── \u001b[1mAttaching packages\u001b[22m ─────────────────────────────────────── tidyverse 1.3.1 ──\n",
      "\n",
      "\u001b[32m✔\u001b[39m \u001b[34mggplot2\u001b[39m 3.3.5     \u001b[32m✔\u001b[39m \u001b[34mpurrr  \u001b[39m 0.3.4\n",
      "\u001b[32m✔\u001b[39m \u001b[34mtibble \u001b[39m 3.1.6     \u001b[32m✔\u001b[39m \u001b[34mdplyr  \u001b[39m 1.0.6\n",
      "\u001b[32m✔\u001b[39m \u001b[34mtidyr  \u001b[39m 1.1.3     \u001b[32m✔\u001b[39m \u001b[34mstringr\u001b[39m 1.4.0\n",
      "\u001b[32m✔\u001b[39m \u001b[34mreadr  \u001b[39m 1.4.0     \u001b[32m✔\u001b[39m \u001b[34mforcats\u001b[39m 0.5.1\n",
      "\n",
      "── \u001b[1mConflicts\u001b[22m ────────────────────────────────────────── tidyverse_conflicts() ──\n",
      "\u001b[31m✖\u001b[39m \u001b[34mdplyr\u001b[39m::\u001b[32mfilter()\u001b[39m masks \u001b[34mstats\u001b[39m::filter()\n",
      "\u001b[31m✖\u001b[39m \u001b[34mdplyr\u001b[39m::\u001b[32mlag()\u001b[39m    masks \u001b[34mstats\u001b[39m::lag()\n",
      "\n"
     ]
    }
   ],
   "source": [
    "library(tidyverse)"
   ]
  },
  {
   "cell_type": "code",
   "execution_count": 15,
   "id": "1d68b3b4",
   "metadata": {},
   "outputs": [
    {
     "data": {
      "text/html": [
       "'This is a pen.'"
      ],
      "text/latex": [
       "'This is a pen.'"
      ],
      "text/markdown": [
       "'This is a pen.'"
      ],
      "text/plain": [
       "[1] \"This is a pen.\""
      ]
     },
     "metadata": {},
     "output_type": "display_data"
    }
   ],
   "source": [
    "str_c(\"This is \", 'a', \" pen.\")"
   ]
  },
  {
   "cell_type": "code",
   "execution_count": null,
   "id": "14f47e9e",
   "metadata": {},
   "outputs": [],
   "source": []
  },
  {
   "cell_type": "code",
   "execution_count": 16,
   "id": "e67709a5",
   "metadata": {},
   "outputs": [
    {
     "data": {
      "text/html": [
       "'bcd'"
      ],
      "text/latex": [
       "'bcd'"
      ],
      "text/markdown": [
       "'bcd'"
      ],
      "text/plain": [
       "[1] \"bcd\""
      ]
     },
     "metadata": {},
     "output_type": "display_data"
    }
   ],
   "source": [
    "substr(x = my_s, start = 2, stop = 4)"
   ]
  },
  {
   "cell_type": "code",
   "execution_count": 17,
   "id": "c4114234",
   "metadata": {},
   "outputs": [],
   "source": [
    "tmp <- \"%s is %s.\""
   ]
  },
  {
   "cell_type": "code",
   "execution_count": 18,
   "id": "8d1a7efa",
   "metadata": {},
   "outputs": [
    {
     "data": {
      "text/html": [
       "'This is a pen.'"
      ],
      "text/latex": [
       "'This is a pen.'"
      ],
      "text/markdown": [
       "'This is a pen.'"
      ],
      "text/plain": [
       "[1] \"This is a pen.\""
      ]
     },
     "metadata": {},
     "output_type": "display_data"
    }
   ],
   "source": [
    "sprintf(tmp, \"This\", \"a pen\")"
   ]
  },
  {
   "cell_type": "code",
   "execution_count": 19,
   "id": "4885eb5f",
   "metadata": {},
   "outputs": [
    {
     "data": {
      "text/html": [
       "TRUE"
      ],
      "text/latex": [
       "TRUE"
      ],
      "text/markdown": [
       "TRUE"
      ],
      "text/plain": [
       "[1] TRUE"
      ]
     },
     "metadata": {},
     "output_type": "display_data"
    }
   ],
   "source": [
    "1 <= 2"
   ]
  },
  {
   "cell_type": "code",
   "execution_count": 20,
   "id": "8e131af7",
   "metadata": {},
   "outputs": [
    {
     "data": {
      "text/html": [
       "TRUE"
      ],
      "text/latex": [
       "TRUE"
      ],
      "text/markdown": [
       "TRUE"
      ],
      "text/plain": [
       "[1] TRUE"
      ]
     },
     "metadata": {},
     "output_type": "display_data"
    }
   ],
   "source": [
    "all.equal(0.1 + 0.1 + 0.1, 0.3)"
   ]
  },
  {
   "cell_type": "code",
   "execution_count": 21,
   "id": "9d957474",
   "metadata": {},
   "outputs": [
    {
     "data": {
      "text/html": [
       "0"
      ],
      "text/latex": [
       "0"
      ],
      "text/markdown": [
       "0"
      ],
      "text/plain": [
       "[1] 0"
      ]
     },
     "metadata": {},
     "output_type": "display_data"
    }
   ],
   "source": [
    "if_else(3 < 5, 0, 10)"
   ]
  },
  {
   "cell_type": "code",
   "execution_count": 22,
   "id": "56744990",
   "metadata": {},
   "outputs": [
    {
     "data": {
      "text/html": [
       "'/home/jovyan/work'"
      ],
      "text/latex": [
       "'/home/jovyan/work'"
      ],
      "text/markdown": [
       "'/home/jovyan/work'"
      ],
      "text/plain": [
       "[1] \"/home/jovyan/work\""
      ]
     },
     "metadata": {},
     "output_type": "display_data"
    }
   ],
   "source": [
    "getwd()"
   ]
  },
  {
   "cell_type": "code",
   "execution_count": 23,
   "id": "90cc4a91",
   "metadata": {},
   "outputs": [],
   "source": [
    "setwd('..')"
   ]
  },
  {
   "cell_type": "code",
   "execution_count": 24,
   "id": "7c704c09",
   "metadata": {},
   "outputs": [
    {
     "data": {
      "text/html": [
       "'/home/jovyan'"
      ],
      "text/latex": [
       "'/home/jovyan'"
      ],
      "text/markdown": [
       "'/home/jovyan'"
      ],
      "text/plain": [
       "[1] \"/home/jovyan\""
      ]
     },
     "metadata": {},
     "output_type": "display_data"
    }
   ],
   "source": [
    "getwd()"
   ]
  },
  {
   "cell_type": "code",
   "execution_count": 25,
   "id": "1b338dac",
   "metadata": {},
   "outputs": [],
   "source": [
    "setwd('./work')"
   ]
  },
  {
   "cell_type": "code",
   "execution_count": 26,
   "id": "b07698cf",
   "metadata": {},
   "outputs": [
    {
     "data": {
      "text/html": [
       "'/home/jovyan/work'"
      ],
      "text/latex": [
       "'/home/jovyan/work'"
      ],
      "text/markdown": [
       "'/home/jovyan/work'"
      ],
      "text/plain": [
       "[1] \"/home/jovyan/work\""
      ]
     },
     "metadata": {},
     "output_type": "display_data"
    }
   ],
   "source": [
    "getwd()"
   ]
  },
  {
   "cell_type": "code",
   "execution_count": 27,
   "id": "2c8a0ecf",
   "metadata": {},
   "outputs": [
    {
     "data": {
      "text/html": [
       "2"
      ],
      "text/latex": [
       "2"
      ],
      "text/markdown": [
       "2"
      ],
      "text/plain": [
       "[1] 2"
      ]
     },
     "metadata": {},
     "output_type": "display_data"
    }
   ],
   "source": [
    "log(100,10)"
   ]
  },
  {
   "cell_type": "code",
   "execution_count": 28,
   "id": "f443d082",
   "metadata": {},
   "outputs": [
    {
     "data": {
      "text/html": [
       "2.23606797749979"
      ],
      "text/latex": [
       "2.23606797749979"
      ],
      "text/markdown": [
       "2.23606797749979"
      ],
      "text/plain": [
       "[1] 2.236068"
      ]
     },
     "metadata": {},
     "output_type": "display_data"
    }
   ],
   "source": [
    "5 %>% sqrt"
   ]
  },
  {
   "cell_type": "code",
   "execution_count": 29,
   "id": "5f644697",
   "metadata": {},
   "outputs": [
    {
     "data": {
      "text/html": [
       "2"
      ],
      "text/latex": [
       "2"
      ],
      "text/markdown": [
       "2"
      ],
      "text/plain": [
       "[1] 2"
      ]
     },
     "metadata": {},
     "output_type": "display_data"
    }
   ],
   "source": [
    "4 %>% sqrt"
   ]
  },
  {
   "cell_type": "code",
   "execution_count": 30,
   "id": "7746a1f9",
   "metadata": {},
   "outputs": [
    {
     "data": {
      "text/html": [
       "5"
      ],
      "text/latex": [
       "5"
      ],
      "text/markdown": [
       "5"
      ],
      "text/plain": [
       "[1] 5"
      ]
     },
     "metadata": {},
     "output_type": "display_data"
    }
   ],
   "source": [
    "5 %>% log %>% exp"
   ]
  },
  {
   "cell_type": "code",
   "execution_count": 31,
   "id": "e082e589",
   "metadata": {},
   "outputs": [],
   "source": [
    "f <- function(a,b){\n",
    "    a -b\n",
    "}"
   ]
  },
  {
   "cell_type": "code",
   "execution_count": 32,
   "id": "f0c5e9c0",
   "metadata": {},
   "outputs": [
    {
     "data": {
      "text/html": [
       "-2"
      ],
      "text/latex": [
       "-2"
      ],
      "text/markdown": [
       "-2"
      ],
      "text/plain": [
       "[1] -2"
      ]
     },
     "metadata": {},
     "output_type": "display_data"
    }
   ],
   "source": [
    "f(3,5)"
   ]
  },
  {
   "cell_type": "code",
   "execution_count": 33,
   "id": "3dc88e52",
   "metadata": {},
   "outputs": [
    {
     "data": {
      "text/html": [
       "-2"
      ],
      "text/latex": [
       "-2"
      ],
      "text/markdown": [
       "-2"
      ],
      "text/plain": [
       "[1] -2"
      ]
     },
     "metadata": {},
     "output_type": "display_data"
    }
   ],
   "source": [
    "(function(a,b) {a-b})(3,5)"
   ]
  },
  {
   "cell_type": "code",
   "execution_count": 34,
   "id": "ee6af172",
   "metadata": {},
   "outputs": [
    {
     "data": {
      "text/html": [
       "<style>\n",
       ".list-inline {list-style: none; margin:0; padding: 0}\n",
       ".list-inline>li {display: inline-block}\n",
       ".list-inline>li:not(:last-child)::after {content: \"\\00b7\"; padding: 0 .5ex}\n",
       "</style>\n",
       "<ol class=list-inline><li>0</li><li>2</li><li>4</li><li>6</li><li>8</li><li>10</li></ol>\n"
      ],
      "text/latex": [
       "\\begin{enumerate*}\n",
       "\\item 0\n",
       "\\item 2\n",
       "\\item 4\n",
       "\\item 6\n",
       "\\item 8\n",
       "\\item 10\n",
       "\\end{enumerate*}\n"
      ],
      "text/markdown": [
       "1. 0\n",
       "2. 2\n",
       "3. 4\n",
       "4. 6\n",
       "5. 8\n",
       "6. 10\n",
       "\n",
       "\n"
      ],
      "text/plain": [
       "[1]  0  2  4  6  8 10"
      ]
     },
     "metadata": {},
     "output_type": "display_data"
    }
   ],
   "source": [
    "seq(from = 0, to = 10, by= 2)"
   ]
  },
  {
   "cell_type": "code",
   "execution_count": 35,
   "id": "b7361776",
   "metadata": {},
   "outputs": [
    {
     "data": {
      "text/html": [
       "<style>\n",
       ".list-inline {list-style: none; margin:0; padding: 0}\n",
       ".list-inline>li {display: inline-block}\n",
       ".list-inline>li:not(:last-child)::after {content: \"\\00b7\"; padding: 0 .5ex}\n",
       "</style>\n",
       "<ol class=list-inline><li>0</li><li>25</li><li>50</li><li>75</li><li>100</li></ol>\n"
      ],
      "text/latex": [
       "\\begin{enumerate*}\n",
       "\\item 0\n",
       "\\item 25\n",
       "\\item 50\n",
       "\\item 75\n",
       "\\item 100\n",
       "\\end{enumerate*}\n"
      ],
      "text/markdown": [
       "1. 0\n",
       "2. 25\n",
       "3. 50\n",
       "4. 75\n",
       "5. 100\n",
       "\n",
       "\n"
      ],
      "text/plain": [
       "[1]   0  25  50  75 100"
      ]
     },
     "metadata": {},
     "output_type": "display_data"
    }
   ],
   "source": [
    "seq(from = 0, to=100, length.out = 5)"
   ]
  },
  {
   "cell_type": "code",
   "execution_count": 36,
   "id": "36f021c4",
   "metadata": {},
   "outputs": [],
   "source": [
    "tmp <- c(\"グー\", \"パー\",\"グー\", \"パー\")"
   ]
  },
  {
   "cell_type": "code",
   "execution_count": 37,
   "id": "69959056",
   "metadata": {},
   "outputs": [],
   "source": [
    "x <- factor(tmp, levels = c(\"グー\", \"チョキ\", \"パー\"))"
   ]
  },
  {
   "cell_type": "code",
   "execution_count": 38,
   "id": "36519c53",
   "metadata": {},
   "outputs": [
    {
     "data": {
      "text/html": [
       "<style>\n",
       ".list-inline {list-style: none; margin:0; padding: 0}\n",
       ".list-inline>li {display: inline-block}\n",
       ".list-inline>li:not(:last-child)::after {content: \"\\00b7\"; padding: 0 .5ex}\n",
       "</style>\n",
       "<ol class=list-inline><li>グー</li><li>パー</li><li>グー</li><li>パー</li></ol>\n",
       "\n",
       "<details>\n",
       "\t<summary style=display:list-item;cursor:pointer>\n",
       "\t\t<strong>Levels</strong>:\n",
       "\t</summary>\n",
       "\t<style>\n",
       "\t.list-inline {list-style: none; margin:0; padding: 0}\n",
       "\t.list-inline>li {display: inline-block}\n",
       "\t.list-inline>li:not(:last-child)::after {content: \"\\00b7\"; padding: 0 .5ex}\n",
       "\t</style>\n",
       "\t<ol class=list-inline><li>'グー'</li><li>'チョキ'</li><li>'パー'</li></ol>\n",
       "</details>"
      ],
      "text/latex": [
       "\\begin{enumerate*}\n",
       "\\item グー\n",
       "\\item パー\n",
       "\\item グー\n",
       "\\item パー\n",
       "\\end{enumerate*}\n",
       "\n",
       "\\emph{Levels}: \\begin{enumerate*}\n",
       "\\item 'グー'\n",
       "\\item 'チョキ'\n",
       "\\item 'パー'\n",
       "\\end{enumerate*}\n"
      ],
      "text/markdown": [
       "1. グー\n",
       "2. パー\n",
       "3. グー\n",
       "4. パー\n",
       "\n",
       "\n",
       "\n",
       "**Levels**: 1. 'グー'\n",
       "2. 'チョキ'\n",
       "3. 'パー'\n",
       "\n",
       "\n"
      ],
      "text/plain": [
       "[1] グー パー グー パー\n",
       "Levels: グー チョキ パー"
      ]
     },
     "metadata": {},
     "output_type": "display_data"
    }
   ],
   "source": [
    "x"
   ]
  },
  {
   "cell_type": "code",
   "execution_count": 39,
   "id": "f41e0f2f",
   "metadata": {},
   "outputs": [
    {
     "data": {
      "text/html": [
       "<style>\n",
       ".list-inline {list-style: none; margin:0; padding: 0}\n",
       ".list-inline>li {display: inline-block}\n",
       ".list-inline>li:not(:last-child)::after {content: \"\\00b7\"; padding: 0 .5ex}\n",
       "</style>\n",
       "<ol class=list-inline><li>グー</li><li>パー</li><li>グー</li><li>パー</li></ol>\n",
       "\n",
       "<details>\n",
       "\t<summary style=display:list-item;cursor:pointer>\n",
       "\t\t<strong>Levels</strong>:\n",
       "\t</summary>\n",
       "\t<style>\n",
       "\t.list-inline {list-style: none; margin:0; padding: 0}\n",
       "\t.list-inline>li {display: inline-block}\n",
       "\t.list-inline>li:not(:last-child)::after {content: \"\\00b7\"; padding: 0 .5ex}\n",
       "\t</style>\n",
       "\t<ol class=list-inline><li>'グー'</li><li>'チョキ'</li><li>'パー'</li></ol>\n",
       "</details>"
      ],
      "text/latex": [
       "\\begin{enumerate*}\n",
       "\\item グー\n",
       "\\item パー\n",
       "\\item グー\n",
       "\\item パー\n",
       "\\end{enumerate*}\n",
       "\n",
       "\\emph{Levels}: \\begin{enumerate*}\n",
       "\\item 'グー'\n",
       "\\item 'チョキ'\n",
       "\\item 'パー'\n",
       "\\end{enumerate*}\n"
      ],
      "text/markdown": [
       "1. グー\n",
       "2. パー\n",
       "3. グー\n",
       "4. パー\n",
       "\n",
       "\n",
       "\n",
       "**Levels**: 1. 'グー'\n",
       "2. 'チョキ'\n",
       "3. 'パー'\n",
       "\n",
       "\n"
      ],
      "text/plain": [
       "[1] グー パー グー パー\n",
       "Levels: グー チョキ パー"
      ]
     },
     "metadata": {},
     "output_type": "display_data"
    }
   ],
   "source": [
    "x"
   ]
  },
  {
   "cell_type": "code",
   "execution_count": 40,
   "id": "7e704e1a",
   "metadata": {},
   "outputs": [],
   "source": [
    "x <- list(\"apple\" = \"りんご\", \"orange\" = \"みかん\")"
   ]
  },
  {
   "cell_type": "code",
   "execution_count": 44,
   "id": "364808c8",
   "metadata": {},
   "outputs": [
    {
     "data": {
      "text/html": [],
      "text/latex": [],
      "text/markdown": [],
      "text/plain": [
       "logical(0)"
      ]
     },
     "metadata": {},
     "output_type": "display_data"
    }
   ],
   "source": [
    "x[[\"grape\"]] <= \"ぶどう\""
   ]
  },
  {
   "cell_type": "code",
   "execution_count": 45,
   "id": "19807216",
   "metadata": {},
   "outputs": [
    {
     "data": {
      "text/html": [
       "<dl>\n",
       "\t<dt>$apple</dt>\n",
       "\t\t<dd>'りんご'</dd>\n",
       "\t<dt>$orange</dt>\n",
       "\t\t<dd>'みかん'</dd>\n",
       "</dl>\n"
      ],
      "text/latex": [
       "\\begin{description}\n",
       "\\item[\\$apple] 'りんご'\n",
       "\\item[\\$orange] 'みかん'\n",
       "\\end{description}\n"
      ],
      "text/markdown": [
       "$apple\n",
       ":   'りんご'\n",
       "$orange\n",
       ":   'みかん'\n",
       "\n",
       "\n"
      ],
      "text/plain": [
       "$apple\n",
       "[1] \"りんご\"\n",
       "\n",
       "$orange\n",
       "[1] \"みかん\"\n"
      ]
     },
     "metadata": {},
     "output_type": "display_data"
    }
   ],
   "source": [
    "x"
   ]
  },
  {
   "cell_type": "code",
   "execution_count": 46,
   "id": "ef03dcc4",
   "metadata": {},
   "outputs": [
    {
     "data": {
      "text/html": [
       "<dl>\n",
       "\t<dt>$apple</dt>\n",
       "\t\t<dd>'りんご'</dd>\n",
       "\t<dt>$orange</dt>\n",
       "\t\t<dd>'みかん'</dd>\n",
       "</dl>\n"
      ],
      "text/latex": [
       "\\begin{description}\n",
       "\\item[\\$apple] 'りんご'\n",
       "\\item[\\$orange] 'みかん'\n",
       "\\end{description}\n"
      ],
      "text/markdown": [
       "$apple\n",
       ":   'りんご'\n",
       "$orange\n",
       ":   'みかん'\n",
       "\n",
       "\n"
      ],
      "text/plain": [
       "$apple\n",
       "[1] \"りんご\"\n",
       "\n",
       "$orange\n",
       "[1] \"みかん\"\n"
      ]
     },
     "metadata": {},
     "output_type": "display_data"
    }
   ],
   "source": [
    "x"
   ]
  },
  {
   "cell_type": "code",
   "execution_count": null,
   "id": "ab3b0604",
   "metadata": {},
   "outputs": [],
   "source": []
  }
 ],
 "metadata": {
  "kernelspec": {
   "display_name": "R",
   "language": "R",
   "name": "ir"
  },
  "language_info": {
   "codemirror_mode": "r",
   "file_extension": ".r",
   "mimetype": "text/x-r-source",
   "name": "R",
   "pygments_lexer": "r",
   "version": "4.0.3"
  }
 },
 "nbformat": 4,
 "nbformat_minor": 5
}

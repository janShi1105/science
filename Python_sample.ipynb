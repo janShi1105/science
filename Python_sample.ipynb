{
 "cells": [
  {
   "cell_type": "code",
   "execution_count": 1,
   "id": "7e03135e",
   "metadata": {},
   "outputs": [
    {
     "name": "stdout",
     "output_type": "stream",
     "text": [
      "total 154348\r\n",
      "drwxr-xr-x  3 jovyan users       96 Sep  5 12:28 '~'\r\n",
      "-rw-r--r--  1 root   root   1171290 Sep 15 10:27  1268-0.txt\r\n",
      "drwxr-xr-x  5 jovyan users      160 Aug 27 12:28  1st_flask_app_1\r\n",
      "drwxr-xr-x  7 root   root       224 Aug 27 01:21  aclImdb\r\n",
      "-rw-r--r--  1 root   root       650 Jul  3 02:03  array_archive.npz\r\n",
      "-rw-r--r--  1 root   root       424 Jul  3 02:04  array_compresed.npz\r\n",
      "drwxr-xr-x  3 root   root        96 Sep 19 13:29  cartpole\r\n",
      "drwxr-xr-x  8 root   root       256 Sep  5 12:11  cat_dog_images\r\n",
      "-rw-r--r--  1 root   root    201398 Jul 12 14:22 'chapter 10.ipynb'\r\n",
      "-rw-r--r--  1 root   root    106137 Jul 12 14:22  chapter11.ipynb\r\n",
      "-rw-r--r--  1 root   root      4154 Jul 12 14:22  chapter12.ipynb\r\n",
      "-rw-r--r--  1 root   root     28249 Jul 12 14:22  chapter13.1.ipynb\r\n",
      "-rw-r--r--  1 root   root     86249 Jul 12 14:22  chapter13.ipynb\r\n",
      "-rw-r--r--  1 root   root   2405611 Jul 12 14:22  chapter14.ipynb\r\n",
      "-rw-r--r--  1 root   root     24920 Jul  2 15:14  chapter1.ipynb\r\n",
      "-rw-r--r--  1 root   root    194340 Jul  3 02:32  chapter4.ipynb\r\n",
      "-rw-r--r--  1 root   root    226675 Jul  4 23:34  chapter5.ipynb\r\n",
      "-rw-r--r--  1 root   root    296628 Jul  4 23:34  chapter6.ipynb\r\n",
      "-rw-r--r--  1 root   root    223645 Jul  5 23:54  chapter7.ipynb\r\n",
      "-rw-r--r--  1 root   root    263945 Jul  6 13:29  chapter8.ipynb\r\n",
      "-rw-r--r--  1 root   root    128523 Jul  7 12:42  chapter9.1.ipynb\r\n",
      "-rw-r--r--  1 root   root   4904746 Jul 10 13:21  chapter9.ipynb\r\n",
      "-rw-r--r--  1 root   root       235 Sep 15 13:03  cv_sample.py\r\n",
      "drwxrwxr-x 10 root   root       320 Dec 13  2021  datasets\r\n",
      "-rw-r--r--  1 root   root     22283 Sep 15 10:27  example-image.png\r\n",
      "drwxr-xr-x 31 root   root       992 Jul  4 23:34  examples\r\n",
      "-rw-r--r--  1 root   root     83114 Jul  7 13:20  figpath2.png\r\n",
      "-rw-r--r--  1 root   root     11985 Jul  7 13:20  figpath.svg\r\n",
      "drwxr-xr-x  7 root   root       224 Sep 19 13:29  gridworld\r\n",
      "-rw-r--r--  1 root   root      1765 Aug 18 13:01  index.html\r\n",
      "-rw-r--r--  1 root   root     16150 Nov  3 15:27  index.html.1\r\n",
      "drwxr-xr-x  5 root   root       160 Aug 14 13:23  kaggle\r\n",
      "drwxr-xr-x 16 root   root       512 Aug 13 00:43  kagglebook-master\r\n",
      "-rw-r--r--  1 root   root    440647 Aug 19 10:10  machineLearning2.ipynb\r\n",
      "-rw-r--r--  1 root   root    143157 Aug 15 11:28  machineLearning.ipynb\r\n",
      "drwxr-xr-x  7 root   root       224 Sep  3 22:32  ml\r\n",
      "-rw-r--r--  1 root   root    425121 Sep  1 12:34  ML10.ipynb\r\n",
      "-rw-r--r--  1 root   root    377184 Sep  5 12:11  ML11.ipynb\r\n",
      "-rw-r--r--  1 root   root   1313977 Sep 15 10:27  ML13.ipynb\r\n",
      "-rw-r--r--  1 root   root     26833 Sep 15 10:27  ML14_2.ipynb\r\n",
      "-rw-r--r--  1 root   root     10489 Sep 15 10:27  M_L14_3.ipynb\r\n",
      "-rw-r--r--  1 root   root    310017 Sep 15 10:27  ML14.ipynb\r\n",
      "-rw-r--r--  1 root   root     65614 Sep 15 10:27  ML15_2.ipynb\r\n",
      "-rw-r--r--  1 root   root     13125 Sep 15 10:27  ML15.ipynb\r\n",
      "-rw-r--r--  1 root   root     18598 Sep 15 13:03  ML16-2.ipynb\r\n",
      "-rw-r--r--  1 root   root     29253 Sep 15 10:27  ML16.ipynb\r\n",
      "-rw-r--r--  1 root   root     28128 Sep 19 03:23  ML17_3.ipynb\r\n",
      "-rw-r--r--  1 root   root    208933 Sep 19 03:23  ML17.ipynb\r\n",
      "-rw-r--r--  1 root   root    459042 Aug 23 23:39  ML3.ipynb\r\n",
      "-rw-r--r--  1 root   root    283784 Aug 27 02:34  ML6.ipynb\r\n",
      "-rw-r--r--  1 root   root     25459 Aug 29 13:18  ML8.ipynb\r\n",
      "-rw-r--r--  1 root   root      2706 Aug 27 08:16  ML9.ipynb\r\n",
      "-rw-r--r--  1 root   root  22088791 Sep  3 09:14  mnist_scaled.npz\r\n",
      "drwxr-xr-x 15 root   root       480 Aug 31 04:37  movieclassifier\r\n",
      "-rw-r--r--  1 root   root  65862309 Aug 27 02:34  movie_data.csv\r\n",
      "-rw-r--r--  1 root   root        32 Jul  4 23:02  mydata.csv\r\n",
      "-rw-r--r--  1 root   root    176949 Jul  4 23:02  mydata.h5\r\n",
      "-rw-r--r--  1 root   root      8192 Jul  4 23:34  mydata.sqlite\r\n",
      "drwxr-xr-x  6 root   root       192 Jul 28 02:19  my-test-env\r\n",
      "-rw-r--r--  1 root   root        20 Jul 10 13:29  numpy01.py\r\n",
      "-rw-r--r--  1 root   root       877 Aug 22 04:46  plot_decision_regions_script.py\r\n",
      "drwxr-xr-x 35 root   root      1120 Aug  2 04:37  Pmaster\r\n",
      "-rw-r--r--  1 root   root      7645 Jul 12 14:22 'present A.ipynb'\r\n",
      "-rw-r--r--  1 root   root       111 Aug  7 08:34  push.command\r\n",
      "-rw-r--r--  1 root   root        73 Jul 27 13:39  push_from_main.command\r\n",
      "-rw-r--r--  1 root   root       111 Jul 27 13:39  push_from_work.command\r\n",
      "-rw-r--r--  1 root   root       111 Aug  7 08:34  pw.command\r\n",
      "-rw-r--r--  1 root   root        20 Jun 29 11:23  README.md\r\n",
      "drwxr-xr-x  5 root   root       160 Oct 12 00:44  RStudio\r\n",
      "drwxr-xr-x 14 root   root       448 Jul 19 12:42  samplecode_20201021\r\n",
      "-rw-r--r--  1 root   root      2285 Jul 20 14:50  sk00.ipynb\r\n",
      "-rw-r--r--  1 root   root       208 Jul  3 02:02  some_array.npy\r\n",
      "-rw-r--r--  1 root   root     26688 Aug 29 13:18  statistic.ipynb\r\n",
      "-rw-r--r--  1 root   root   7840016 Sep  3 09:14  t10k-images-idx3-ubyte\r\n",
      "-rw-r--r--  1 root   root     10008 Sep  3 09:14  t10k-labels-idx1-ubyte\r\n",
      "drwxr-xr-x  2 root   root        64 Aug  2 04:16  titanic\r\n",
      "-rw-r--r--  1 root   root  47040016 Sep  3 09:14  train-images-idx3-ubyte\r\n",
      "-rw-r--r--  1 root   root     60008 Sep  3 09:14  train-labels-idx1-ubyte\r\n",
      "-rw-r--r--  1 root   root    130531 Aug 19 09:32  tree.png\r\n",
      "-rw-r--r--  1 root   root      2638 Sep 19 03:23  Untitled0.ipynb\r\n",
      "-rw-r--r--  1 root   root     37472 Sep 19 13:29  Untitled1.ipynb\r\n",
      "-rw-r--r--  1 jovyan users       72 Nov  3 15:53  Untitled2.ipynb\r\n",
      "-rw-r--r--  1 root   root      2813 Sep 19 03:23  Untitled.ipynb\r\n",
      "-rw-r--r--  1 root   root       741 Nov  3 15:42  wine.csv\r\n",
      "-rw-r--r--  1 root   root       741 Nov  3 15:40  wine.csv.1\r\n"
     ]
    }
   ],
   "source": [
    "!ls -l"
   ]
  },
  {
   "cell_type": "code",
   "execution_count": 2,
   "id": "c4330c10",
   "metadata": {},
   "outputs": [
    {
     "data": {
      "text/plain": [
       "2"
      ]
     },
     "execution_count": 2,
     "metadata": {},
     "output_type": "execute_result"
    }
   ],
   "source": [
    "1+1"
   ]
  },
  {
   "cell_type": "code",
   "execution_count": 3,
   "id": "edd777d7",
   "metadata": {},
   "outputs": [
    {
     "data": {
      "text/plain": [
       "2"
      ]
     },
     "execution_count": 3,
     "metadata": {},
     "output_type": "execute_result"
    },
    {
     "name": "stdout",
     "output_type": "stream",
     "text": [
      "3\n"
     ]
    },
    {
     "data": {
      "text/plain": [
       "4"
      ]
     },
     "execution_count": 3,
     "metadata": {},
     "output_type": "execute_result"
    }
   ],
   "source": [
    "1+1\n",
    "print(1+2)\n",
    "1+3"
   ]
  },
  {
   "cell_type": "code",
   "execution_count": 4,
   "id": "96609d36",
   "metadata": {},
   "outputs": [
    {
     "data": {
      "text/plain": [
       "16"
      ]
     },
     "execution_count": 4,
     "metadata": {},
     "output_type": "execute_result"
    }
   ],
   "source": [
    "0x10"
   ]
  },
  {
   "cell_type": "code",
   "execution_count": 5,
   "id": "bd2031e3",
   "metadata": {},
   "outputs": [
    {
     "data": {
      "text/plain": [
       "123000.0"
      ]
     },
     "execution_count": 5,
     "metadata": {},
     "output_type": "execute_result"
    }
   ],
   "source": [
    "1.23e5"
   ]
  },
  {
   "cell_type": "code",
   "execution_count": 6,
   "id": "7ec99e66",
   "metadata": {},
   "outputs": [],
   "source": [
    "import math "
   ]
  },
  {
   "cell_type": "code",
   "execution_count": 8,
   "id": "1612c47b",
   "metadata": {},
   "outputs": [
    {
     "data": {
      "text/plain": [
       "True"
      ]
     },
     "execution_count": 8,
     "metadata": {},
     "output_type": "execute_result"
    }
   ],
   "source": [
    "math.isclose(0.1 + 0.1 + 0.1, 0.3)"
   ]
  },
  {
   "cell_type": "code",
   "execution_count": 10,
   "id": "5dddbe12",
   "metadata": {},
   "outputs": [
    {
     "data": {
      "text/plain": [
       "10"
      ]
     },
     "execution_count": 10,
     "metadata": {},
     "output_type": "execute_result"
    }
   ],
   "source": [
    "0 if 6 < 5 else 10"
   ]
  },
  {
   "cell_type": "code",
   "execution_count": 11,
   "id": "981f940a",
   "metadata": {},
   "outputs": [
    {
     "data": {
      "text/plain": [
       "'/home/jovyan/work'"
      ]
     },
     "execution_count": 11,
     "metadata": {},
     "output_type": "execute_result"
    }
   ],
   "source": [
    "%pwd"
   ]
  },
  {
   "cell_type": "code",
   "execution_count": 12,
   "id": "53468887",
   "metadata": {},
   "outputs": [],
   "source": [
    "import math"
   ]
  },
  {
   "cell_type": "code",
   "execution_count": 13,
   "id": "b5c0965b",
   "metadata": {},
   "outputs": [
    {
     "data": {
      "text/plain": [
       "2.0"
      ]
     },
     "execution_count": 13,
     "metadata": {},
     "output_type": "execute_result"
    }
   ],
   "source": [
    "math.log(100,10)"
   ]
  },
  {
   "cell_type": "code",
   "execution_count": 14,
   "id": "9d2b9f89",
   "metadata": {},
   "outputs": [
    {
     "data": {
      "text/plain": [
       "4.605170185988092"
      ]
     },
     "execution_count": 14,
     "metadata": {},
     "output_type": "execute_result"
    }
   ],
   "source": [
    "math.log(100)"
   ]
  },
  {
   "cell_type": "code",
   "execution_count": 15,
   "id": "c8c3a756",
   "metadata": {},
   "outputs": [
    {
     "data": {
      "text/plain": [
       "4.605170185988092"
      ]
     },
     "execution_count": 15,
     "metadata": {},
     "output_type": "execute_result"
    }
   ],
   "source": [
    "math.log(100, math.e)"
   ]
  },
  {
   "cell_type": "code",
   "execution_count": 17,
   "id": "e1052457",
   "metadata": {},
   "outputs": [],
   "source": [
    "def f(a,b):\n",
    "    return a-b\n"
   ]
  },
  {
   "cell_type": "code",
   "execution_count": 18,
   "id": "7e0072aa",
   "metadata": {},
   "outputs": [
    {
     "data": {
      "text/plain": [
       "-2"
      ]
     },
     "execution_count": 18,
     "metadata": {},
     "output_type": "execute_result"
    }
   ],
   "source": [
    "f(3,5)"
   ]
  },
  {
   "cell_type": "code",
   "execution_count": 19,
   "id": "e0babf28",
   "metadata": {},
   "outputs": [
    {
     "data": {
      "text/plain": [
       "-2"
      ]
     },
     "execution_count": 19,
     "metadata": {},
     "output_type": "execute_result"
    }
   ],
   "source": [
    "(lambda a,b: a-b)(3,5)"
   ]
  },
  {
   "cell_type": "code",
   "execution_count": 20,
   "id": "fbfbf8e1",
   "metadata": {},
   "outputs": [
    {
     "data": {
      "text/plain": [
       "[0, 2, 4, 6, 8, 10]"
      ]
     },
     "execution_count": 20,
     "metadata": {},
     "output_type": "execute_result"
    }
   ],
   "source": [
    "list(range(0,11,2))"
   ]
  },
  {
   "cell_type": "code",
   "execution_count": 21,
   "id": "4a7cce0b",
   "metadata": {},
   "outputs": [],
   "source": [
    " x = ['foo', 'bar', 'buz']"
   ]
  },
  {
   "cell_type": "code",
   "execution_count": 22,
   "id": "f5ce08d1",
   "metadata": {},
   "outputs": [],
   "source": [
    "y = x.copy()"
   ]
  },
  {
   "cell_type": "code",
   "execution_count": 23,
   "id": "32ca216b",
   "metadata": {},
   "outputs": [
    {
     "data": {
      "text/plain": [
       "(True, False)"
      ]
     },
     "execution_count": 23,
     "metadata": {},
     "output_type": "execute_result"
    }
   ],
   "source": [
    "x == y, x is y"
   ]
  },
  {
   "cell_type": "code",
   "execution_count": 24,
   "id": "929ac8d4",
   "metadata": {},
   "outputs": [],
   "source": [
    "y[1] = 'BAR'"
   ]
  },
  {
   "cell_type": "code",
   "execution_count": 25,
   "id": "136ef6dd",
   "metadata": {},
   "outputs": [
    {
     "data": {
      "text/plain": [
       "['foo', 'bar', 'buz']"
      ]
     },
     "execution_count": 25,
     "metadata": {},
     "output_type": "execute_result"
    }
   ],
   "source": [
    "x"
   ]
  },
  {
   "cell_type": "code",
   "execution_count": 26,
   "id": "3bc77391",
   "metadata": {},
   "outputs": [],
   "source": [
    "import pandas as pd"
   ]
  },
  {
   "cell_type": "code",
   "execution_count": 27,
   "id": "7f1b536f",
   "metadata": {},
   "outputs": [],
   "source": [
    "my_df = pd.DataFrame({\n",
    "    'name': ['A', 'B', 'C', 'D'],\n",
    "    'english' : [60,90,80,90],\n",
    "    'math': [70,80,90,100],\n",
    "    'gender': ['f', 'm', 'm', 'f']\n",
    "})"
   ]
  },
  {
   "cell_type": "code",
   "execution_count": 28,
   "id": "2d93a75c",
   "metadata": {},
   "outputs": [
    {
     "data": {
      "text/html": [
       "<div>\n",
       "<style scoped>\n",
       "    .dataframe tbody tr th:only-of-type {\n",
       "        vertical-align: middle;\n",
       "    }\n",
       "\n",
       "    .dataframe tbody tr th {\n",
       "        vertical-align: top;\n",
       "    }\n",
       "\n",
       "    .dataframe thead th {\n",
       "        text-align: right;\n",
       "    }\n",
       "</style>\n",
       "<table border=\"1\" class=\"dataframe\">\n",
       "  <thead>\n",
       "    <tr style=\"text-align: right;\">\n",
       "      <th></th>\n",
       "      <th>name</th>\n",
       "      <th>english</th>\n",
       "      <th>math</th>\n",
       "      <th>gender</th>\n",
       "    </tr>\n",
       "  </thead>\n",
       "  <tbody>\n",
       "    <tr>\n",
       "      <th>0</th>\n",
       "      <td>A</td>\n",
       "      <td>60</td>\n",
       "      <td>70</td>\n",
       "      <td>f</td>\n",
       "    </tr>\n",
       "    <tr>\n",
       "      <th>1</th>\n",
       "      <td>B</td>\n",
       "      <td>90</td>\n",
       "      <td>80</td>\n",
       "      <td>m</td>\n",
       "    </tr>\n",
       "    <tr>\n",
       "      <th>2</th>\n",
       "      <td>C</td>\n",
       "      <td>80</td>\n",
       "      <td>90</td>\n",
       "      <td>m</td>\n",
       "    </tr>\n",
       "    <tr>\n",
       "      <th>3</th>\n",
       "      <td>D</td>\n",
       "      <td>90</td>\n",
       "      <td>100</td>\n",
       "      <td>f</td>\n",
       "    </tr>\n",
       "  </tbody>\n",
       "</table>\n",
       "</div>"
      ],
      "text/plain": [
       "  name  english  math gender\n",
       "0    A       60    70      f\n",
       "1    B       90    80      m\n",
       "2    C       80    90      m\n",
       "3    D       90   100      f"
      ]
     },
     "execution_count": 28,
     "metadata": {},
     "output_type": "execute_result"
    }
   ],
   "source": [
    "my_df.head()"
   ]
  },
  {
   "cell_type": "code",
   "execution_count": 29,
   "id": "dc009148",
   "metadata": {},
   "outputs": [],
   "source": [
    "r,  c = my_df.shape"
   ]
  },
  {
   "cell_type": "code",
   "execution_count": 30,
   "id": "f9568f62",
   "metadata": {},
   "outputs": [
    {
     "data": {
      "text/plain": [
       "(4, 4)"
      ]
     },
     "execution_count": 30,
     "metadata": {},
     "output_type": "execute_result"
    }
   ],
   "source": [
    "r, c"
   ]
  },
  {
   "cell_type": "code",
   "execution_count": 31,
   "id": "ece09e9d",
   "metadata": {},
   "outputs": [],
   "source": [
    "from itertools import product\n",
    "my_df2 = pd.DataFrame(\n",
    "product([1,2,3],[10,100]),columns=['X', 'Y'])"
   ]
  },
  {
   "cell_type": "code",
   "execution_count": 32,
   "id": "71f4e497",
   "metadata": {},
   "outputs": [
    {
     "data": {
      "text/html": [
       "<div>\n",
       "<style scoped>\n",
       "    .dataframe tbody tr th:only-of-type {\n",
       "        vertical-align: middle;\n",
       "    }\n",
       "\n",
       "    .dataframe tbody tr th {\n",
       "        vertical-align: top;\n",
       "    }\n",
       "\n",
       "    .dataframe thead th {\n",
       "        text-align: right;\n",
       "    }\n",
       "</style>\n",
       "<table border=\"1\" class=\"dataframe\">\n",
       "  <thead>\n",
       "    <tr style=\"text-align: right;\">\n",
       "      <th></th>\n",
       "      <th>X</th>\n",
       "      <th>Y</th>\n",
       "    </tr>\n",
       "  </thead>\n",
       "  <tbody>\n",
       "    <tr>\n",
       "      <th>0</th>\n",
       "      <td>1</td>\n",
       "      <td>10</td>\n",
       "    </tr>\n",
       "    <tr>\n",
       "      <th>1</th>\n",
       "      <td>1</td>\n",
       "      <td>100</td>\n",
       "    </tr>\n",
       "    <tr>\n",
       "      <th>2</th>\n",
       "      <td>2</td>\n",
       "      <td>10</td>\n",
       "    </tr>\n",
       "    <tr>\n",
       "      <th>3</th>\n",
       "      <td>2</td>\n",
       "      <td>100</td>\n",
       "    </tr>\n",
       "    <tr>\n",
       "      <th>4</th>\n",
       "      <td>3</td>\n",
       "      <td>10</td>\n",
       "    </tr>\n",
       "  </tbody>\n",
       "</table>\n",
       "</div>"
      ],
      "text/plain": [
       "   X    Y\n",
       "0  1   10\n",
       "1  1  100\n",
       "2  2   10\n",
       "3  2  100\n",
       "4  3   10"
      ]
     },
     "execution_count": 32,
     "metadata": {},
     "output_type": "execute_result"
    }
   ],
   "source": [
    "my_df2.head()"
   ]
  },
  {
   "cell_type": "code",
   "execution_count": 34,
   "id": "fb97568f",
   "metadata": {},
   "outputs": [],
   "source": [
    "my_df2.columns = ['P', 'Q']"
   ]
  },
  {
   "cell_type": "code",
   "execution_count": 36,
   "id": "951354c8",
   "metadata": {},
   "outputs": [
    {
     "data": {
      "text/plain": [
       "Index(['P', 'Q'], dtype='object')"
      ]
     },
     "execution_count": 36,
     "metadata": {},
     "output_type": "execute_result"
    }
   ],
   "source": [
    "my_df2.columns"
   ]
  },
  {
   "cell_type": "code",
   "execution_count": 37,
   "id": "121313e6",
   "metadata": {},
   "outputs": [
    {
     "data": {
      "text/plain": [
       "[0, 1, 2, 3]"
      ]
     },
     "execution_count": 37,
     "metadata": {},
     "output_type": "execute_result"
    }
   ],
   "source": [
    "list(my_df.index)"
   ]
  },
  {
   "cell_type": "code",
   "execution_count": 38,
   "id": "83f16595",
   "metadata": {},
   "outputs": [],
   "source": [
    "tmp = pd.DataFrame({\n",
    "    'name': ['E'],\n",
    "    'english' : [80],\n",
    "    'math' : [80],\n",
    "    'gender': ['m']\n",
    "})\n",
    "my_df2 = my_df.append(tmp)"
   ]
  },
  {
   "cell_type": "code",
   "execution_count": 40,
   "id": "7b0bb8ee",
   "metadata": {},
   "outputs": [],
   "source": [
    "my_df2 = my_df.assign(id=[1,2,3,4])"
   ]
  },
  {
   "cell_type": "code",
   "execution_count": 41,
   "id": "b26ddd19",
   "metadata": {},
   "outputs": [
    {
     "data": {
      "text/plain": [
       "60"
      ]
     },
     "execution_count": 41,
     "metadata": {},
     "output_type": "execute_result"
    }
   ],
   "source": [
    "my_df.iloc[0,1]"
   ]
  },
  {
   "cell_type": "code",
   "execution_count": 42,
   "id": "e0cb8da9",
   "metadata": {},
   "outputs": [
    {
     "data": {
      "text/plain": [
       "0    60\n",
       "1    90\n",
       "2    80\n",
       "3    90\n",
       "Name: english, dtype: int64"
      ]
     },
     "execution_count": 42,
     "metadata": {},
     "output_type": "execute_result"
    }
   ],
   "source": [
    "my_df.iloc[:, 1]"
   ]
  },
  {
   "cell_type": "code",
   "execution_count": 43,
   "id": "366a576b",
   "metadata": {},
   "outputs": [],
   "source": [
    "x = my_df[['name', 'math']]"
   ]
  },
  {
   "cell_type": "code",
   "execution_count": 44,
   "id": "45a38396",
   "metadata": {},
   "outputs": [
    {
     "data": {
      "text/html": [
       "<div>\n",
       "<style scoped>\n",
       "    .dataframe tbody tr th:only-of-type {\n",
       "        vertical-align: middle;\n",
       "    }\n",
       "\n",
       "    .dataframe tbody tr th {\n",
       "        vertical-align: top;\n",
       "    }\n",
       "\n",
       "    .dataframe thead th {\n",
       "        text-align: right;\n",
       "    }\n",
       "</style>\n",
       "<table border=\"1\" class=\"dataframe\">\n",
       "  <thead>\n",
       "    <tr style=\"text-align: right;\">\n",
       "      <th></th>\n",
       "      <th>name</th>\n",
       "      <th>math</th>\n",
       "    </tr>\n",
       "  </thead>\n",
       "  <tbody>\n",
       "    <tr>\n",
       "      <th>0</th>\n",
       "      <td>A</td>\n",
       "      <td>70</td>\n",
       "    </tr>\n",
       "    <tr>\n",
       "      <th>1</th>\n",
       "      <td>B</td>\n",
       "      <td>80</td>\n",
       "    </tr>\n",
       "    <tr>\n",
       "      <th>2</th>\n",
       "      <td>C</td>\n",
       "      <td>90</td>\n",
       "    </tr>\n",
       "    <tr>\n",
       "      <th>3</th>\n",
       "      <td>D</td>\n",
       "      <td>100</td>\n",
       "    </tr>\n",
       "  </tbody>\n",
       "</table>\n",
       "</div>"
      ],
      "text/plain": [
       "  name  math\n",
       "0    A    70\n",
       "1    B    80\n",
       "2    C    90\n",
       "3    D   100"
      ]
     },
     "execution_count": 44,
     "metadata": {},
     "output_type": "execute_result"
    }
   ],
   "source": [
    "x"
   ]
  },
  {
   "cell_type": "code",
   "execution_count": 46,
   "id": "a00f720b",
   "metadata": {},
   "outputs": [],
   "source": [
    "x = my_df.loc[:, ['name', 'math']]"
   ]
  },
  {
   "cell_type": "code",
   "execution_count": 47,
   "id": "37cacbaa",
   "metadata": {},
   "outputs": [
    {
     "data": {
      "text/html": [
       "<div>\n",
       "<style scoped>\n",
       "    .dataframe tbody tr th:only-of-type {\n",
       "        vertical-align: middle;\n",
       "    }\n",
       "\n",
       "    .dataframe tbody tr th {\n",
       "        vertical-align: top;\n",
       "    }\n",
       "\n",
       "    .dataframe thead th {\n",
       "        text-align: right;\n",
       "    }\n",
       "</style>\n",
       "<table border=\"1\" class=\"dataframe\">\n",
       "  <thead>\n",
       "    <tr style=\"text-align: right;\">\n",
       "      <th></th>\n",
       "      <th>name</th>\n",
       "      <th>math</th>\n",
       "    </tr>\n",
       "  </thead>\n",
       "  <tbody>\n",
       "    <tr>\n",
       "      <th>0</th>\n",
       "      <td>A</td>\n",
       "      <td>70</td>\n",
       "    </tr>\n",
       "    <tr>\n",
       "      <th>1</th>\n",
       "      <td>B</td>\n",
       "      <td>80</td>\n",
       "    </tr>\n",
       "    <tr>\n",
       "      <th>2</th>\n",
       "      <td>C</td>\n",
       "      <td>90</td>\n",
       "    </tr>\n",
       "    <tr>\n",
       "      <th>3</th>\n",
       "      <td>D</td>\n",
       "      <td>100</td>\n",
       "    </tr>\n",
       "  </tbody>\n",
       "</table>\n",
       "</div>"
      ],
      "text/plain": [
       "  name  math\n",
       "0    A    70\n",
       "1    B    80\n",
       "2    C    90\n",
       "3    D   100"
      ]
     },
     "execution_count": 47,
     "metadata": {},
     "output_type": "execute_result"
    }
   ],
   "source": [
    "x"
   ]
  },
  {
   "cell_type": "code",
   "execution_count": 48,
   "id": "d557b922",
   "metadata": {},
   "outputs": [],
   "source": [
    "x = my_df.take([0,2], axis=1)"
   ]
  },
  {
   "cell_type": "code",
   "execution_count": 49,
   "id": "2853fe64",
   "metadata": {},
   "outputs": [
    {
     "data": {
      "text/html": [
       "<div>\n",
       "<style scoped>\n",
       "    .dataframe tbody tr th:only-of-type {\n",
       "        vertical-align: middle;\n",
       "    }\n",
       "\n",
       "    .dataframe tbody tr th {\n",
       "        vertical-align: top;\n",
       "    }\n",
       "\n",
       "    .dataframe thead th {\n",
       "        text-align: right;\n",
       "    }\n",
       "</style>\n",
       "<table border=\"1\" class=\"dataframe\">\n",
       "  <thead>\n",
       "    <tr style=\"text-align: right;\">\n",
       "      <th></th>\n",
       "      <th>name</th>\n",
       "      <th>math</th>\n",
       "    </tr>\n",
       "  </thead>\n",
       "  <tbody>\n",
       "    <tr>\n",
       "      <th>0</th>\n",
       "      <td>A</td>\n",
       "      <td>70</td>\n",
       "    </tr>\n",
       "    <tr>\n",
       "      <th>1</th>\n",
       "      <td>B</td>\n",
       "      <td>80</td>\n",
       "    </tr>\n",
       "    <tr>\n",
       "      <th>2</th>\n",
       "      <td>C</td>\n",
       "      <td>90</td>\n",
       "    </tr>\n",
       "    <tr>\n",
       "      <th>3</th>\n",
       "      <td>D</td>\n",
       "      <td>100</td>\n",
       "    </tr>\n",
       "  </tbody>\n",
       "</table>\n",
       "</div>"
      ],
      "text/plain": [
       "  name  math\n",
       "0    A    70\n",
       "1    B    80\n",
       "2    C    90\n",
       "3    D   100"
      ]
     },
     "execution_count": 49,
     "metadata": {},
     "output_type": "execute_result"
    }
   ],
   "source": [
    "x"
   ]
  },
  {
   "cell_type": "code",
   "execution_count": 50,
   "id": "d402dc43",
   "metadata": {},
   "outputs": [],
   "source": [
    "x = my_df.drop(\n",
    "columns = ['english', 'gender'])"
   ]
  },
  {
   "cell_type": "code",
   "execution_count": 51,
   "id": "cd2bca0a",
   "metadata": {},
   "outputs": [
    {
     "data": {
      "text/html": [
       "<div>\n",
       "<style scoped>\n",
       "    .dataframe tbody tr th:only-of-type {\n",
       "        vertical-align: middle;\n",
       "    }\n",
       "\n",
       "    .dataframe tbody tr th {\n",
       "        vertical-align: top;\n",
       "    }\n",
       "\n",
       "    .dataframe thead th {\n",
       "        text-align: right;\n",
       "    }\n",
       "</style>\n",
       "<table border=\"1\" class=\"dataframe\">\n",
       "  <thead>\n",
       "    <tr style=\"text-align: right;\">\n",
       "      <th></th>\n",
       "      <th>name</th>\n",
       "      <th>math</th>\n",
       "    </tr>\n",
       "  </thead>\n",
       "  <tbody>\n",
       "    <tr>\n",
       "      <th>0</th>\n",
       "      <td>A</td>\n",
       "      <td>70</td>\n",
       "    </tr>\n",
       "    <tr>\n",
       "      <th>1</th>\n",
       "      <td>B</td>\n",
       "      <td>80</td>\n",
       "    </tr>\n",
       "    <tr>\n",
       "      <th>2</th>\n",
       "      <td>C</td>\n",
       "      <td>90</td>\n",
       "    </tr>\n",
       "    <tr>\n",
       "      <th>3</th>\n",
       "      <td>D</td>\n",
       "      <td>100</td>\n",
       "    </tr>\n",
       "  </tbody>\n",
       "</table>\n",
       "</div>"
      ],
      "text/plain": [
       "  name  math\n",
       "0    A    70\n",
       "1    B    80\n",
       "2    C    90\n",
       "3    D   100"
      ]
     },
     "execution_count": 51,
     "metadata": {},
     "output_type": "execute_result"
    }
   ],
   "source": [
    "x"
   ]
  },
  {
   "cell_type": "code",
   "execution_count": 52,
   "id": "d4d27a45",
   "metadata": {},
   "outputs": [],
   "source": [
    "x = my_df[my_df['gender'] == 'm']"
   ]
  },
  {
   "cell_type": "code",
   "execution_count": 53,
   "id": "58f0f147",
   "metadata": {},
   "outputs": [
    {
     "data": {
      "text/html": [
       "<div>\n",
       "<style scoped>\n",
       "    .dataframe tbody tr th:only-of-type {\n",
       "        vertical-align: middle;\n",
       "    }\n",
       "\n",
       "    .dataframe tbody tr th {\n",
       "        vertical-align: top;\n",
       "    }\n",
       "\n",
       "    .dataframe thead th {\n",
       "        text-align: right;\n",
       "    }\n",
       "</style>\n",
       "<table border=\"1\" class=\"dataframe\">\n",
       "  <thead>\n",
       "    <tr style=\"text-align: right;\">\n",
       "      <th></th>\n",
       "      <th>name</th>\n",
       "      <th>english</th>\n",
       "      <th>math</th>\n",
       "      <th>gender</th>\n",
       "    </tr>\n",
       "  </thead>\n",
       "  <tbody>\n",
       "    <tr>\n",
       "      <th>1</th>\n",
       "      <td>B</td>\n",
       "      <td>90</td>\n",
       "      <td>80</td>\n",
       "      <td>m</td>\n",
       "    </tr>\n",
       "    <tr>\n",
       "      <th>2</th>\n",
       "      <td>C</td>\n",
       "      <td>80</td>\n",
       "      <td>90</td>\n",
       "      <td>m</td>\n",
       "    </tr>\n",
       "  </tbody>\n",
       "</table>\n",
       "</div>"
      ],
      "text/plain": [
       "  name  english  math gender\n",
       "1    B       90    80      m\n",
       "2    C       80    90      m"
      ]
     },
     "execution_count": 53,
     "metadata": {},
     "output_type": "execute_result"
    }
   ],
   "source": [
    "x"
   ]
  },
  {
   "cell_type": "code",
   "execution_count": 54,
   "id": "bf8933ab",
   "metadata": {},
   "outputs": [],
   "source": [
    "x = my_df.query('gender == \"m\"')"
   ]
  },
  {
   "cell_type": "code",
   "execution_count": 55,
   "id": "9baaf63c",
   "metadata": {},
   "outputs": [
    {
     "data": {
      "text/html": [
       "<div>\n",
       "<style scoped>\n",
       "    .dataframe tbody tr th:only-of-type {\n",
       "        vertical-align: middle;\n",
       "    }\n",
       "\n",
       "    .dataframe tbody tr th {\n",
       "        vertical-align: top;\n",
       "    }\n",
       "\n",
       "    .dataframe thead th {\n",
       "        text-align: right;\n",
       "    }\n",
       "</style>\n",
       "<table border=\"1\" class=\"dataframe\">\n",
       "  <thead>\n",
       "    <tr style=\"text-align: right;\">\n",
       "      <th></th>\n",
       "      <th>name</th>\n",
       "      <th>english</th>\n",
       "      <th>math</th>\n",
       "      <th>gender</th>\n",
       "    </tr>\n",
       "  </thead>\n",
       "  <tbody>\n",
       "    <tr>\n",
       "      <th>1</th>\n",
       "      <td>B</td>\n",
       "      <td>90</td>\n",
       "      <td>80</td>\n",
       "      <td>m</td>\n",
       "    </tr>\n",
       "    <tr>\n",
       "      <th>2</th>\n",
       "      <td>C</td>\n",
       "      <td>80</td>\n",
       "      <td>90</td>\n",
       "      <td>m</td>\n",
       "    </tr>\n",
       "  </tbody>\n",
       "</table>\n",
       "</div>"
      ],
      "text/plain": [
       "  name  english  math gender\n",
       "1    B       90    80      m\n",
       "2    C       80    90      m"
      ]
     },
     "execution_count": 55,
     "metadata": {},
     "output_type": "execute_result"
    }
   ],
   "source": [
    "x"
   ]
  },
  {
   "cell_type": "code",
   "execution_count": 56,
   "id": "c698dbc7",
   "metadata": {},
   "outputs": [],
   "source": [
    "x = my_df[(my_df['english'] > 80) & (my_df['gender'] == 'm')]"
   ]
  },
  {
   "cell_type": "code",
   "execution_count": 57,
   "id": "6365ed5a",
   "metadata": {},
   "outputs": [
    {
     "data": {
      "text/html": [
       "<div>\n",
       "<style scoped>\n",
       "    .dataframe tbody tr th:only-of-type {\n",
       "        vertical-align: middle;\n",
       "    }\n",
       "\n",
       "    .dataframe tbody tr th {\n",
       "        vertical-align: top;\n",
       "    }\n",
       "\n",
       "    .dataframe thead th {\n",
       "        text-align: right;\n",
       "    }\n",
       "</style>\n",
       "<table border=\"1\" class=\"dataframe\">\n",
       "  <thead>\n",
       "    <tr style=\"text-align: right;\">\n",
       "      <th></th>\n",
       "      <th>name</th>\n",
       "      <th>english</th>\n",
       "      <th>math</th>\n",
       "      <th>gender</th>\n",
       "    </tr>\n",
       "  </thead>\n",
       "  <tbody>\n",
       "    <tr>\n",
       "      <th>1</th>\n",
       "      <td>B</td>\n",
       "      <td>90</td>\n",
       "      <td>80</td>\n",
       "      <td>m</td>\n",
       "    </tr>\n",
       "  </tbody>\n",
       "</table>\n",
       "</div>"
      ],
      "text/plain": [
       "  name  english  math gender\n",
       "1    B       90    80      m"
      ]
     },
     "execution_count": 57,
     "metadata": {},
     "output_type": "execute_result"
    }
   ],
   "source": [
    "x"
   ]
  },
  {
   "cell_type": "code",
   "execution_count": 58,
   "id": "4265aefd",
   "metadata": {},
   "outputs": [],
   "source": [
    " x = my_df.query('english > 80 and gender == \"m\"')"
   ]
  },
  {
   "cell_type": "code",
   "execution_count": 59,
   "id": "10c89d6b",
   "metadata": {},
   "outputs": [
    {
     "data": {
      "text/html": [
       "<div>\n",
       "<style scoped>\n",
       "    .dataframe tbody tr th:only-of-type {\n",
       "        vertical-align: middle;\n",
       "    }\n",
       "\n",
       "    .dataframe tbody tr th {\n",
       "        vertical-align: top;\n",
       "    }\n",
       "\n",
       "    .dataframe thead th {\n",
       "        text-align: right;\n",
       "    }\n",
       "</style>\n",
       "<table border=\"1\" class=\"dataframe\">\n",
       "  <thead>\n",
       "    <tr style=\"text-align: right;\">\n",
       "      <th></th>\n",
       "      <th>name</th>\n",
       "      <th>english</th>\n",
       "      <th>math</th>\n",
       "      <th>gender</th>\n",
       "    </tr>\n",
       "  </thead>\n",
       "  <tbody>\n",
       "    <tr>\n",
       "      <th>1</th>\n",
       "      <td>B</td>\n",
       "      <td>90</td>\n",
       "      <td>80</td>\n",
       "      <td>m</td>\n",
       "    </tr>\n",
       "  </tbody>\n",
       "</table>\n",
       "</div>"
      ],
      "text/plain": [
       "  name  english  math gender\n",
       "1    B       90    80      m"
      ]
     },
     "execution_count": 59,
     "metadata": {},
     "output_type": "execute_result"
    }
   ],
   "source": [
    "x"
   ]
  },
  {
   "cell_type": "code",
   "execution_count": 60,
   "id": "2b996a34",
   "metadata": {},
   "outputs": [],
   "source": [
    "x = my_df[my_df['english'] == my_df['english'].max()]"
   ]
  },
  {
   "cell_type": "code",
   "execution_count": 61,
   "id": "40c924bf",
   "metadata": {},
   "outputs": [
    {
     "data": {
      "text/html": [
       "<div>\n",
       "<style scoped>\n",
       "    .dataframe tbody tr th:only-of-type {\n",
       "        vertical-align: middle;\n",
       "    }\n",
       "\n",
       "    .dataframe tbody tr th {\n",
       "        vertical-align: top;\n",
       "    }\n",
       "\n",
       "    .dataframe thead th {\n",
       "        text-align: right;\n",
       "    }\n",
       "</style>\n",
       "<table border=\"1\" class=\"dataframe\">\n",
       "  <thead>\n",
       "    <tr style=\"text-align: right;\">\n",
       "      <th></th>\n",
       "      <th>name</th>\n",
       "      <th>english</th>\n",
       "      <th>math</th>\n",
       "      <th>gender</th>\n",
       "    </tr>\n",
       "  </thead>\n",
       "  <tbody>\n",
       "    <tr>\n",
       "      <th>1</th>\n",
       "      <td>B</td>\n",
       "      <td>90</td>\n",
       "      <td>80</td>\n",
       "      <td>m</td>\n",
       "    </tr>\n",
       "    <tr>\n",
       "      <th>3</th>\n",
       "      <td>D</td>\n",
       "      <td>90</td>\n",
       "      <td>100</td>\n",
       "      <td>f</td>\n",
       "    </tr>\n",
       "  </tbody>\n",
       "</table>\n",
       "</div>"
      ],
      "text/plain": [
       "  name  english  math gender\n",
       "1    B       90    80      m\n",
       "3    D       90   100      f"
      ]
     },
     "execution_count": 61,
     "metadata": {},
     "output_type": "execute_result"
    }
   ],
   "source": [
    "x"
   ]
  },
  {
   "cell_type": "code",
   "execution_count": 62,
   "id": "1d701716",
   "metadata": {},
   "outputs": [],
   "source": [
    "tmp = my_df['english'].max()"
   ]
  },
  {
   "cell_type": "code",
   "execution_count": 63,
   "id": "2bbd97ea",
   "metadata": {},
   "outputs": [],
   "source": [
    "x = my_df.query('english == @tmp')"
   ]
  },
  {
   "cell_type": "code",
   "execution_count": 64,
   "id": "bbb116c1",
   "metadata": {},
   "outputs": [
    {
     "data": {
      "text/html": [
       "<div>\n",
       "<style scoped>\n",
       "    .dataframe tbody tr th:only-of-type {\n",
       "        vertical-align: middle;\n",
       "    }\n",
       "\n",
       "    .dataframe tbody tr th {\n",
       "        vertical-align: top;\n",
       "    }\n",
       "\n",
       "    .dataframe thead th {\n",
       "        text-align: right;\n",
       "    }\n",
       "</style>\n",
       "<table border=\"1\" class=\"dataframe\">\n",
       "  <thead>\n",
       "    <tr style=\"text-align: right;\">\n",
       "      <th></th>\n",
       "      <th>name</th>\n",
       "      <th>english</th>\n",
       "      <th>math</th>\n",
       "      <th>gender</th>\n",
       "    </tr>\n",
       "  </thead>\n",
       "  <tbody>\n",
       "    <tr>\n",
       "      <th>1</th>\n",
       "      <td>B</td>\n",
       "      <td>90</td>\n",
       "      <td>80</td>\n",
       "      <td>m</td>\n",
       "    </tr>\n",
       "    <tr>\n",
       "      <th>3</th>\n",
       "      <td>D</td>\n",
       "      <td>90</td>\n",
       "      <td>100</td>\n",
       "      <td>f</td>\n",
       "    </tr>\n",
       "  </tbody>\n",
       "</table>\n",
       "</div>"
      ],
      "text/plain": [
       "  name  english  math gender\n",
       "1    B       90    80      m\n",
       "3    D       90   100      f"
      ]
     },
     "execution_count": 64,
     "metadata": {},
     "output_type": "execute_result"
    }
   ],
   "source": [
    "x"
   ]
  },
  {
   "cell_type": "code",
   "execution_count": 68,
   "id": "72a97479",
   "metadata": {},
   "outputs": [],
   "source": [
    " x = my_df.sort_values('english',ascending=False)"
   ]
  },
  {
   "cell_type": "code",
   "execution_count": null,
   "id": "b46742b7",
   "metadata": {},
   "outputs": [],
   "source": []
  },
  {
   "cell_type": "code",
   "execution_count": 69,
   "id": "ac87658f",
   "metadata": {},
   "outputs": [
    {
     "data": {
      "text/html": [
       "<div>\n",
       "<style scoped>\n",
       "    .dataframe tbody tr th:only-of-type {\n",
       "        vertical-align: middle;\n",
       "    }\n",
       "\n",
       "    .dataframe tbody tr th {\n",
       "        vertical-align: top;\n",
       "    }\n",
       "\n",
       "    .dataframe thead th {\n",
       "        text-align: right;\n",
       "    }\n",
       "</style>\n",
       "<table border=\"1\" class=\"dataframe\">\n",
       "  <thead>\n",
       "    <tr style=\"text-align: right;\">\n",
       "      <th></th>\n",
       "      <th>name</th>\n",
       "      <th>english</th>\n",
       "      <th>math</th>\n",
       "      <th>gender</th>\n",
       "    </tr>\n",
       "  </thead>\n",
       "  <tbody>\n",
       "    <tr>\n",
       "      <th>1</th>\n",
       "      <td>B</td>\n",
       "      <td>90</td>\n",
       "      <td>80</td>\n",
       "      <td>m</td>\n",
       "    </tr>\n",
       "    <tr>\n",
       "      <th>3</th>\n",
       "      <td>D</td>\n",
       "      <td>90</td>\n",
       "      <td>100</td>\n",
       "      <td>f</td>\n",
       "    </tr>\n",
       "    <tr>\n",
       "      <th>2</th>\n",
       "      <td>C</td>\n",
       "      <td>80</td>\n",
       "      <td>90</td>\n",
       "      <td>m</td>\n",
       "    </tr>\n",
       "    <tr>\n",
       "      <th>0</th>\n",
       "      <td>A</td>\n",
       "      <td>60</td>\n",
       "      <td>70</td>\n",
       "      <td>f</td>\n",
       "    </tr>\n",
       "  </tbody>\n",
       "</table>\n",
       "</div>"
      ],
      "text/plain": [
       "  name  english  math gender\n",
       "1    B       90    80      m\n",
       "3    D       90   100      f\n",
       "2    C       80    90      m\n",
       "0    A       60    70      f"
      ]
     },
     "execution_count": 69,
     "metadata": {},
     "output_type": "execute_result"
    }
   ],
   "source": [
    "x"
   ]
  },
  {
   "cell_type": "code",
   "execution_count": 70,
   "id": "6c9fc592",
   "metadata": {},
   "outputs": [],
   "source": [
    "A = my_df.iloc[:, [1,2]].values"
   ]
  },
  {
   "cell_type": "code",
   "execution_count": 71,
   "id": "0198ffa7",
   "metadata": {},
   "outputs": [
    {
     "data": {
      "text/plain": [
       "array([[ 60,  70],\n",
       "       [ 90,  80],\n",
       "       [ 80,  90],\n",
       "       [ 90, 100]])"
      ]
     },
     "execution_count": 71,
     "metadata": {},
     "output_type": "execute_result"
    }
   ],
   "source": [
    "A"
   ]
  },
  {
   "cell_type": "code",
   "execution_count": 72,
   "id": "b5392332",
   "metadata": {},
   "outputs": [
    {
     "data": {
      "text/html": [
       "<div>\n",
       "<style scoped>\n",
       "    .dataframe tbody tr th:only-of-type {\n",
       "        vertical-align: middle;\n",
       "    }\n",
       "\n",
       "    .dataframe tbody tr th {\n",
       "        vertical-align: top;\n",
       "    }\n",
       "\n",
       "    .dataframe thead th {\n",
       "        text-align: right;\n",
       "    }\n",
       "</style>\n",
       "<table border=\"1\" class=\"dataframe\">\n",
       "  <thead>\n",
       "    <tr style=\"text-align: right;\">\n",
       "      <th></th>\n",
       "      <th>0</th>\n",
       "      <th>1</th>\n",
       "    </tr>\n",
       "  </thead>\n",
       "  <tbody>\n",
       "    <tr>\n",
       "      <th>0</th>\n",
       "      <td>60</td>\n",
       "      <td>70</td>\n",
       "    </tr>\n",
       "    <tr>\n",
       "      <th>1</th>\n",
       "      <td>90</td>\n",
       "      <td>80</td>\n",
       "    </tr>\n",
       "    <tr>\n",
       "      <th>2</th>\n",
       "      <td>80</td>\n",
       "      <td>90</td>\n",
       "    </tr>\n",
       "    <tr>\n",
       "      <th>3</th>\n",
       "      <td>90</td>\n",
       "      <td>100</td>\n",
       "    </tr>\n",
       "  </tbody>\n",
       "</table>\n",
       "</div>"
      ],
      "text/plain": [
       "    0    1\n",
       "0  60   70\n",
       "1  90   80\n",
       "2  80   90\n",
       "3  90  100"
      ]
     },
     "execution_count": 72,
     "metadata": {},
     "output_type": "execute_result"
    }
   ],
   "source": [
    "pd.DataFrame(A)"
   ]
  },
  {
   "cell_type": "code",
   "execution_count": 73,
   "id": "8e6d5ea1",
   "metadata": {},
   "outputs": [
    {
     "data": {
      "text/plain": [
       "array([[ 60,  90,  80,  90],\n",
       "       [ 70,  80,  90, 100]])"
      ]
     },
     "execution_count": 73,
     "metadata": {},
     "output_type": "execute_result"
    }
   ],
   "source": [
    "A.T"
   ]
  },
  {
   "cell_type": "code",
   "execution_count": 74,
   "id": "ff257897",
   "metadata": {},
   "outputs": [
    {
     "data": {
      "text/plain": [
       "array([[26200, 27600],\n",
       "       [27600, 29400]])"
      ]
     },
     "execution_count": 74,
     "metadata": {},
     "output_type": "execute_result"
    }
   ],
   "source": [
    "A.T @ A"
   ]
  },
  {
   "cell_type": "code",
   "execution_count": 75,
   "id": "157527e1",
   "metadata": {},
   "outputs": [],
   "source": [
    "my_df = pd.DataFrame({\n",
    "    'day' : [25,26,27],\n",
    "    'min' : [20,21,15],\n",
    "    'max': [24,27,21]\n",
    "})"
   ]
  },
  {
   "cell_type": "code",
   "execution_count": 76,
   "id": "3473d85e",
   "metadata": {},
   "outputs": [],
   "source": [
    "my_longer = my_df.melt(id_vars = 'day')"
   ]
  },
  {
   "cell_type": "code",
   "execution_count": 77,
   "id": "7e31ee81",
   "metadata": {},
   "outputs": [
    {
     "data": {
      "text/html": [
       "<div>\n",
       "<style scoped>\n",
       "    .dataframe tbody tr th:only-of-type {\n",
       "        vertical-align: middle;\n",
       "    }\n",
       "\n",
       "    .dataframe tbody tr th {\n",
       "        vertical-align: top;\n",
       "    }\n",
       "\n",
       "    .dataframe thead th {\n",
       "        text-align: right;\n",
       "    }\n",
       "</style>\n",
       "<table border=\"1\" class=\"dataframe\">\n",
       "  <thead>\n",
       "    <tr style=\"text-align: right;\">\n",
       "      <th></th>\n",
       "      <th>day</th>\n",
       "      <th>variable</th>\n",
       "      <th>value</th>\n",
       "    </tr>\n",
       "  </thead>\n",
       "  <tbody>\n",
       "    <tr>\n",
       "      <th>0</th>\n",
       "      <td>25</td>\n",
       "      <td>min</td>\n",
       "      <td>20</td>\n",
       "    </tr>\n",
       "    <tr>\n",
       "      <th>1</th>\n",
       "      <td>26</td>\n",
       "      <td>min</td>\n",
       "      <td>21</td>\n",
       "    </tr>\n",
       "    <tr>\n",
       "      <th>2</th>\n",
       "      <td>27</td>\n",
       "      <td>min</td>\n",
       "      <td>15</td>\n",
       "    </tr>\n",
       "    <tr>\n",
       "      <th>3</th>\n",
       "      <td>25</td>\n",
       "      <td>max</td>\n",
       "      <td>24</td>\n",
       "    </tr>\n",
       "    <tr>\n",
       "      <th>4</th>\n",
       "      <td>26</td>\n",
       "      <td>max</td>\n",
       "      <td>27</td>\n",
       "    </tr>\n",
       "    <tr>\n",
       "      <th>5</th>\n",
       "      <td>27</td>\n",
       "      <td>max</td>\n",
       "      <td>21</td>\n",
       "    </tr>\n",
       "  </tbody>\n",
       "</table>\n",
       "</div>"
      ],
      "text/plain": [
       "   day variable  value\n",
       "0   25      min     20\n",
       "1   26      min     21\n",
       "2   27      min     15\n",
       "3   25      max     24\n",
       "4   26      max     27\n",
       "5   27      max     21"
      ]
     },
     "execution_count": 77,
     "metadata": {},
     "output_type": "execute_result"
    }
   ],
   "source": [
    "my_longer"
   ]
  },
  {
   "cell_type": "code",
   "execution_count": 79,
   "id": "2761625b",
   "metadata": {},
   "outputs": [],
   "source": [
    "my_wider = my_longer.pivot(\n",
    "index = 'day',\n",
    "columns = 'variable',\n",
    "values = 'value')"
   ]
  },
  {
   "cell_type": "code",
   "execution_count": 81,
   "id": "237e23ea",
   "metadata": {},
   "outputs": [
    {
     "data": {
      "text/html": [
       "<div>\n",
       "<style scoped>\n",
       "    .dataframe tbody tr th:only-of-type {\n",
       "        vertical-align: middle;\n",
       "    }\n",
       "\n",
       "    .dataframe tbody tr th {\n",
       "        vertical-align: top;\n",
       "    }\n",
       "\n",
       "    .dataframe thead th {\n",
       "        text-align: right;\n",
       "    }\n",
       "</style>\n",
       "<table border=\"1\" class=\"dataframe\">\n",
       "  <thead>\n",
       "    <tr style=\"text-align: right;\">\n",
       "      <th>variable</th>\n",
       "      <th>max</th>\n",
       "      <th>min</th>\n",
       "    </tr>\n",
       "    <tr>\n",
       "      <th>day</th>\n",
       "      <th></th>\n",
       "      <th></th>\n",
       "    </tr>\n",
       "  </thead>\n",
       "  <tbody>\n",
       "    <tr>\n",
       "      <th>25</th>\n",
       "      <td>24</td>\n",
       "      <td>20</td>\n",
       "    </tr>\n",
       "    <tr>\n",
       "      <th>26</th>\n",
       "      <td>27</td>\n",
       "      <td>21</td>\n",
       "    </tr>\n",
       "    <tr>\n",
       "      <th>27</th>\n",
       "      <td>21</td>\n",
       "      <td>15</td>\n",
       "    </tr>\n",
       "  </tbody>\n",
       "</table>\n",
       "</div>"
      ],
      "text/plain": [
       "variable  max  min\n",
       "day               \n",
       "25         24   20\n",
       "26         27   21\n",
       "27         21   15"
      ]
     },
     "execution_count": 81,
     "metadata": {},
     "output_type": "execute_result"
    }
   ],
   "source": [
    "my_wider"
   ]
  },
  {
   "cell_type": "code",
   "execution_count": 82,
   "id": "a6b0df79",
   "metadata": {},
   "outputs": [
    {
     "data": {
      "text/plain": [
       "<AxesSubplot:xlabel='day', ylabel='temperature'>"
      ]
     },
     "execution_count": 82,
     "metadata": {},
     "output_type": "execute_result"
    },
    {
     "data": {
      "image/png": "[encoded data removed]",
      "text/plain": [
       "<Figure size 432x288 with 1 Axes>"
      ]
     },
     "metadata": {
      "needs_background": "light"
     },
     "output_type": "display_data"
    }
   ],
   "source": [
    "my_wider.plot(style='o-', xticks=my_wider.index, ylabel='temperature')"
   ]
  },
  {
   "cell_type": "code",
   "execution_count": 83,
   "id": "0a0a0310",
   "metadata": {},
   "outputs": [
    {
     "data": {
      "text/plain": [
       "24.0"
      ]
     },
     "execution_count": 83,
     "metadata": {},
     "output_type": "execute_result"
    }
   ],
   "source": [
    "import numpy as np\n",
    "from scipy.spatial import distance\n",
    "from scipy.stats import pearsonr\n",
    "\n",
    "A = np.array([3,4,5])\n",
    "B = np.array([3,4,29])\n",
    "C = np.array([9,-18, 8])\n",
    "\n",
    "distance.euclidean(A,B)"
   ]
  },
  {
   "cell_type": "code",
   "execution_count": 84,
   "id": "8c406b03",
   "metadata": {},
   "outputs": [
    {
     "data": {
      "text/plain": [
       "23.0"
      ]
     },
     "execution_count": 84,
     "metadata": {},
     "output_type": "execute_result"
    }
   ],
   "source": [
    "distance.euclidean(A,C)"
   ]
  },
  {
   "cell_type": "code",
   "execution_count": 85,
   "id": "cf0dc1c8",
   "metadata": {},
   "outputs": [
    {
     "data": {
      "text/plain": [
       "24"
      ]
     },
     "execution_count": 85,
     "metadata": {},
     "output_type": "execute_result"
    }
   ],
   "source": [
    "distance.cityblock(A,B)"
   ]
  },
  {
   "cell_type": "code",
   "execution_count": 86,
   "id": "1a408fd7",
   "metadata": {},
   "outputs": [
    {
     "data": {
      "text/plain": [
       "31"
      ]
     },
     "execution_count": 86,
     "metadata": {},
     "output_type": "execute_result"
    }
   ],
   "source": [
    "distance.cityblock(A,C)"
   ]
  },
  {
   "cell_type": "code",
   "execution_count": 87,
   "id": "a5153bd3",
   "metadata": {},
   "outputs": [
    {
     "data": {
      "text/plain": [
       "0.8169678632647616"
      ]
     },
     "execution_count": 87,
     "metadata": {},
     "output_type": "execute_result"
    }
   ],
   "source": [
    "1- distance.cosine(A,B)"
   ]
  },
  {
   "cell_type": "code",
   "execution_count": 88,
   "id": "9d6c385a",
   "metadata": {},
   "outputs": [
    {
     "data": {
      "text/plain": [
       "-0.032651157422416865"
      ]
     },
     "execution_count": 88,
     "metadata": {},
     "output_type": "execute_result"
    }
   ],
   "source": [
    "1 -distance.cosine(A,C)"
   ]
  },
  {
   "cell_type": "code",
   "execution_count": 89,
   "id": "edb2e934",
   "metadata": {},
   "outputs": [
    {
     "data": {
      "text/plain": [
       "0.8824975032927698"
      ]
     },
     "execution_count": 89,
     "metadata": {},
     "output_type": "execute_result"
    }
   ],
   "source": [
    "1-distance.correlation(A,B)"
   ]
  },
  {
   "cell_type": "code",
   "execution_count": 90,
   "id": "cbc1f5f5",
   "metadata": {},
   "outputs": [
    {
     "data": {
      "text/plain": [
       "-0.032662766723200676"
      ]
     },
     "execution_count": 90,
     "metadata": {},
     "output_type": "execute_result"
    }
   ],
   "source": [
    "1-distance.correlation(A,C)"
   ]
  },
  {
   "cell_type": "code",
   "execution_count": 92,
   "id": "6a17b45e",
   "metadata": {},
   "outputs": [
    {
     "data": {
      "text/plain": [
       "array([[ 0., 24., 23.],\n",
       "       [24.,  0., 31.],\n",
       "       [23., 31.,  0.]])"
      ]
     },
     "execution_count": 92,
     "metadata": {},
     "output_type": "execute_result"
    }
   ],
   "source": [
    "np.set_printoptions(precision = 3)\n",
    "import pandas as pd\n",
    "\n",
    "my_df = pd.DataFrame({\n",
    "    'x': [3,3,9],\n",
    "    'y': [4,4,-18],\n",
    "    'z': [5,29, 8]},\n",
    "    index=['A', 'B', 'C']\n",
    ")\n",
    "\n",
    "distance.cdist(my_df, my_df, metric = 'euclidean')"
   ]
  },
  {
   "cell_type": "code",
   "execution_count": 93,
   "id": "473e3bdc",
   "metadata": {},
   "outputs": [
    {
     "data": {
      "text/plain": [
       "array([[ 0., 24., 31.],\n",
       "       [24.,  0., 49.],\n",
       "       [31., 49.,  0.]])"
      ]
     },
     "execution_count": 93,
     "metadata": {},
     "output_type": "execute_result"
    }
   ],
   "source": [
    "distance.cdist(my_df, my_df, metric = 'cityblock')"
   ]
  },
  {
   "cell_type": "code",
   "execution_count": 94,
   "id": "daa882ea",
   "metadata": {},
   "outputs": [
    {
     "data": {
      "text/plain": [
       "array([[ 1.   ,  0.817, -0.033],\n",
       "       [ 0.817,  1.   ,  0.293],\n",
       "       [-0.033,  0.293,  1.   ]])"
      ]
     },
     "execution_count": 94,
     "metadata": {},
     "output_type": "execute_result"
    }
   ],
   "source": [
    "1- distance.cdist(my_df, my_df, metric = 'cosine')"
   ]
  },
  {
   "cell_type": "code",
   "execution_count": 95,
   "id": "a09981a5",
   "metadata": {},
   "outputs": [
    {
     "data": {
      "text/plain": [
       "array([[ 1.   ,  0.882, -0.033],\n",
       "       [ 0.882,  1.   ,  0.441],\n",
       "       [-0.033,  0.441,  1.   ]])"
      ]
     },
     "execution_count": 95,
     "metadata": {},
     "output_type": "execute_result"
    }
   ],
   "source": [
    "1- distance.cdist(my_df, my_df, metric='correlation')"
   ]
  },
  {
   "cell_type": "code",
   "execution_count": 98,
   "id": "9becf3e9",
   "metadata": {},
   "outputs": [],
   "source": [
    "def f1(x):\n",
    "    tmp = np.random.random(x)\n",
    "    return np.mean(tmp)"
   ]
  },
  {
   "cell_type": "code",
   "execution_count": 99,
   "id": "ee5e8b67",
   "metadata": {},
   "outputs": [
    {
     "data": {
      "text/plain": [
       "0.47705975282973423"
      ]
     },
     "execution_count": 99,
     "metadata": {},
     "output_type": "execute_result"
    }
   ],
   "source": [
    "f1(10)"
   ]
  },
  {
   "cell_type": "code",
   "execution_count": 100,
   "id": "e3a3a51e",
   "metadata": {},
   "outputs": [
    {
     "data": {
      "text/plain": [
       "[0.4873469539593402, 0.5014933557681174, 0.48400224061054953]"
      ]
     },
     "execution_count": 100,
     "metadata": {},
     "output_type": "execute_result"
    }
   ],
   "source": [
    "[f1(10) for i in range(3)]"
   ]
  },
  {
   "cell_type": "code",
   "execution_count": 101,
   "id": "d5d928f7",
   "metadata": {},
   "outputs": [
    {
     "data": {
      "text/plain": [
       "[0.31460887833816936, 0.5037639453660592, 0.5062315185429854]"
      ]
     },
     "execution_count": 101,
     "metadata": {},
     "output_type": "execute_result"
    }
   ],
   "source": [
    "v = [5,10,100]\n",
    "[f1(x) for x in v]"
   ]
  },
  {
   "cell_type": "code",
   "execution_count": 102,
   "id": "e1025018",
   "metadata": {},
   "outputs": [
    {
     "data": {
      "text/plain": [
       "0    0.378665\n",
       "1    0.538071\n",
       "2    0.475529\n",
       "dtype: float64"
      ]
     },
     "execution_count": 102,
     "metadata": {},
     "output_type": "execute_result"
    }
   ],
   "source": [
    "v = pd.Series([5,10,100])\n",
    "v.apply(f1)"
   ]
  },
  {
   "cell_type": "code",
   "execution_count": 103,
   "id": "b10c98d8",
   "metadata": {},
   "outputs": [
    {
     "data": {
      "text/plain": [
       "0    0.504209\n",
       "1    0.493779\n",
       "2    0.582885\n",
       "dtype: float64"
      ]
     },
     "execution_count": 103,
     "metadata": {},
     "output_type": "execute_result"
    }
   ],
   "source": [
    "pd.Series([10] * 3).apply(f1)"
   ]
  },
  {
   "cell_type": "code",
   "execution_count": 106,
   "id": "527b5fca",
   "metadata": {},
   "outputs": [],
   "source": [
    "def f2(n):\n",
    "    tmp = np.random.random(n)\n",
    "    return pd.Series([\n",
    "        n,\n",
    "        tmp.mean(),\n",
    "        tmp.std(ddof=1),\n",
    "    ],\n",
    "    index=['x', 'p', 'q'])"
   ]
  },
  {
   "cell_type": "code",
   "execution_count": 107,
   "id": "01544cff",
   "metadata": {},
   "outputs": [
    {
     "data": {
      "text/plain": [
       "x    10.000000\n",
       "p     0.564381\n",
       "q     0.312267\n",
       "dtype: float64"
      ]
     },
     "execution_count": 107,
     "metadata": {},
     "output_type": "execute_result"
    }
   ],
   "source": [
    "f2(10)"
   ]
  },
  {
   "cell_type": "code",
   "execution_count": 108,
   "id": "adc52482",
   "metadata": {},
   "outputs": [
    {
     "data": {
      "text/html": [
       "<div>\n",
       "<style scoped>\n",
       "    .dataframe tbody tr th:only-of-type {\n",
       "        vertical-align: middle;\n",
       "    }\n",
       "\n",
       "    .dataframe tbody tr th {\n",
       "        vertical-align: top;\n",
       "    }\n",
       "\n",
       "    .dataframe thead th {\n",
       "        text-align: right;\n",
       "    }\n",
       "</style>\n",
       "<table border=\"1\" class=\"dataframe\">\n",
       "  <thead>\n",
       "    <tr style=\"text-align: right;\">\n",
       "      <th></th>\n",
       "      <th>x</th>\n",
       "      <th>p</th>\n",
       "      <th>q</th>\n",
       "    </tr>\n",
       "  </thead>\n",
       "  <tbody>\n",
       "    <tr>\n",
       "      <th>0</th>\n",
       "      <td>5.0</td>\n",
       "      <td>0.560253</td>\n",
       "      <td>0.377049</td>\n",
       "    </tr>\n",
       "    <tr>\n",
       "      <th>1</th>\n",
       "      <td>10.0</td>\n",
       "      <td>0.600400</td>\n",
       "      <td>0.304577</td>\n",
       "    </tr>\n",
       "    <tr>\n",
       "      <th>2</th>\n",
       "      <td>100.0</td>\n",
       "      <td>0.532976</td>\n",
       "      <td>0.288281</td>\n",
       "    </tr>\n",
       "  </tbody>\n",
       "</table>\n",
       "</div>"
      ],
      "text/plain": [
       "       x         p         q\n",
       "0    5.0  0.560253  0.377049\n",
       "1   10.0  0.600400  0.304577\n",
       "2  100.0  0.532976  0.288281"
      ]
     },
     "execution_count": 108,
     "metadata": {},
     "output_type": "execute_result"
    }
   ],
   "source": [
    "v = pd.Series([5,10,100])\n",
    "v.apply(f2)"
   ]
  },
  {
   "cell_type": "code",
   "execution_count": 109,
   "id": "ad87d15e",
   "metadata": {},
   "outputs": [],
   "source": [
    "def f3(x,y):\n",
    "    tmp = np.random.random(x) * y\n",
    "    return pd.Series([\n",
    "        x,\n",
    "        y,\n",
    "        tmp.mean(),\n",
    "        tmp.std(ddof=1)\n",
    "    ],\n",
    "    index=['x', 'y', 'p', 'q'])"
   ]
  },
  {
   "cell_type": "code",
   "execution_count": 110,
   "id": "cfe1c20e",
   "metadata": {},
   "outputs": [
    {
     "data": {
      "text/plain": [
       "x    10.000000\n",
       "y     6.000000\n",
       "p     4.134908\n",
       "q     1.675835\n",
       "dtype: float64"
      ]
     },
     "execution_count": 110,
     "metadata": {},
     "output_type": "execute_result"
    }
   ],
   "source": [
    "f3(10,6)"
   ]
  },
  {
   "cell_type": "code",
   "execution_count": 111,
   "id": "c5976e73",
   "metadata": {},
   "outputs": [
    {
     "data": {
      "text/html": [
       "<div>\n",
       "<style scoped>\n",
       "    .dataframe tbody tr th:only-of-type {\n",
       "        vertical-align: middle;\n",
       "    }\n",
       "\n",
       "    .dataframe tbody tr th {\n",
       "        vertical-align: top;\n",
       "    }\n",
       "\n",
       "    .dataframe thead th {\n",
       "        text-align: right;\n",
       "    }\n",
       "</style>\n",
       "<table border=\"1\" class=\"dataframe\">\n",
       "  <thead>\n",
       "    <tr style=\"text-align: right;\">\n",
       "      <th></th>\n",
       "      <th>x</th>\n",
       "      <th>y</th>\n",
       "      <th>p</th>\n",
       "      <th>q</th>\n",
       "    </tr>\n",
       "  </thead>\n",
       "  <tbody>\n",
       "    <tr>\n",
       "      <th>0</th>\n",
       "      <td>5.0</td>\n",
       "      <td>6.0</td>\n",
       "      <td>3.131441</td>\n",
       "      <td>2.228573</td>\n",
       "    </tr>\n",
       "    <tr>\n",
       "      <th>1</th>\n",
       "      <td>10.0</td>\n",
       "      <td>6.0</td>\n",
       "      <td>3.417335</td>\n",
       "      <td>1.701377</td>\n",
       "    </tr>\n",
       "    <tr>\n",
       "      <th>2</th>\n",
       "      <td>100.0</td>\n",
       "      <td>6.0</td>\n",
       "      <td>2.870060</td>\n",
       "      <td>1.793418</td>\n",
       "    </tr>\n",
       "    <tr>\n",
       "      <th>3</th>\n",
       "      <td>5.0</td>\n",
       "      <td>12.0</td>\n",
       "      <td>4.985716</td>\n",
       "      <td>3.410391</td>\n",
       "    </tr>\n",
       "    <tr>\n",
       "      <th>4</th>\n",
       "      <td>10.0</td>\n",
       "      <td>12.0</td>\n",
       "      <td>4.598966</td>\n",
       "      <td>3.878396</td>\n",
       "    </tr>\n",
       "    <tr>\n",
       "      <th>5</th>\n",
       "      <td>100.0</td>\n",
       "      <td>12.0</td>\n",
       "      <td>6.189075</td>\n",
       "      <td>3.550593</td>\n",
       "    </tr>\n",
       "  </tbody>\n",
       "</table>\n",
       "</div>"
      ],
      "text/plain": [
       "       x     y         p         q\n",
       "0    5.0   6.0  3.131441  2.228573\n",
       "1   10.0   6.0  3.417335  1.701377\n",
       "2  100.0   6.0  2.870060  1.793418\n",
       "3    5.0  12.0  4.985716  3.410391\n",
       "4   10.0  12.0  4.598966  3.878396\n",
       "5  100.0  12.0  6.189075  3.550593"
      ]
     },
     "execution_count": 111,
     "metadata": {},
     "output_type": "execute_result"
    }
   ],
   "source": [
    "my_df = pd.DataFrame({\n",
    "    'x': [5,10,100,5,10,100],\n",
    "    'y': [6,6,6,12,12,12]\n",
    "})\n",
    "my_df.apply(\n",
    "lambda row: f3(row['x'], row['y']),\n",
    "axis=1)"
   ]
  },
  {
   "cell_type": "code",
   "execution_count": 112,
   "id": "eee0dbc4",
   "metadata": {},
   "outputs": [
    {
     "name": "stdout",
     "output_type": "stream",
     "text": [
      "INFO: Pandarallel will run on 4 workers.\n",
      "INFO: Pandarallel will use Memory file system to transfer data between the main process and workers.\n"
     ]
    },
    {
     "data": {
      "text/plain": [
       "0    0.607719\n",
       "1    0.575131\n",
       "2    0.467164\n",
       "dtype: float64"
      ]
     },
     "execution_count": 112,
     "metadata": {},
     "output_type": "execute_result"
    }
   ],
   "source": [
    "from pandarallel import pandarallel\n",
    "pandarallel.initialize()\n",
    "\n",
    "v = pd.Series([5,10,100])\n",
    "v.parallel_apply(f1)"
   ]
  },
  {
   "cell_type": "code",
   "execution_count": 113,
   "id": "8e1b3e07",
   "metadata": {},
   "outputs": [
    {
     "name": "stdout",
     "output_type": "stream",
     "text": [
      "Variable      Type         Data/Info\n",
      "------------------------------------\n",
      "A             ndarray      3: 3 elems, type `int64`, 24 bytes\n",
      "B             ndarray      3: 3 elems, type `int64`, 24 bytes\n",
      "C             ndarray      3: 3 elems, type `int64`, 24 bytes\n",
      "c             int          4\n",
      "distance      module       <module 'scipy.spatial.di<...>ipy/spatial/distance.py'>\n",
      "f             function     <function f at 0x7fc7207c1820>\n",
      "f1            function     <function f1 at 0x7fc6da88b5e0>\n",
      "f12           function     <function f12 at 0x7fc6da88bd30>\n",
      "f2            function     <function f2 at 0x7fc6da88baf0>\n",
      "f3            function     <function f3 at 0x7fc6da88bc10>\n",
      "math          module       <module 'math' from '/opt<...>-38-x86_64-linux-gnu.so'>\n",
      "my_df         DataFrame         x   y\\n0    5   6\\n1<...>2\\n4   10  12\\n5  100  12\n",
      "my_df2        DataFrame      name  english  math gen<...>      90   100      f   4\n",
      "my_longer     DataFrame       day variable  value\\n0<...>7\\n5   27      max     21\n",
      "my_wider      DataFrame    variable  max  min\\nday  <...>   21\\n27         21   15\n",
      "np            module       <module 'numpy' from '/op<...>kages/numpy/__init__.py'>\n",
      "pandarallel   type         <class 'pandarallel.pandarallel.pandarallel'>\n",
      "pd            module       <module 'pandas' from '/o<...>ages/pandas/__init__.py'>\n",
      "pearsonr      function     <function pearsonr at 0x7fc6daafe040>\n",
      "product       type         <class 'itertools.product'>\n",
      "r             int          4\n",
      "tmp           int          90\n",
      "v             Series       0      5\\n1     10\\n2    100\\ndtype: int64\n",
      "x             DataFrame      name  english  math gen<...>  A       60    70      f\n",
      "y             list         n=3\n"
     ]
    }
   ],
   "source": [
    "%whos"
   ]
  },
  {
   "cell_type": "code",
   "execution_count": 114,
   "id": "8d3c8ff1",
   "metadata": {},
   "outputs": [],
   "source": [
    "x = [165,170,175,180,185]"
   ]
  },
  {
   "cell_type": "code",
   "execution_count": 115,
   "id": "39608e86",
   "metadata": {},
   "outputs": [],
   "source": [
    "y = [173,174,175,176,177]"
   ]
  },
  {
   "cell_type": "code",
   "execution_count": 116,
   "id": "5612d19e",
   "metadata": {},
   "outputs": [
    {
     "data": {
      "text/plain": [
       "62.5"
      ]
     },
     "execution_count": 116,
     "metadata": {},
     "output_type": "execute_result"
    }
   ],
   "source": [
    "np.var(x, ddof=1)"
   ]
  },
  {
   "cell_type": "code",
   "execution_count": 117,
   "id": "551911ea",
   "metadata": {},
   "outputs": [
    {
     "data": {
      "text/plain": [
       "7.905694150420948"
      ]
     },
     "execution_count": 117,
     "metadata": {},
     "output_type": "execute_result"
    }
   ],
   "source": [
    "np.std(x, ddof=1)"
   ]
  },
  {
   "cell_type": "code",
   "execution_count": 118,
   "id": "3551804c",
   "metadata": {},
   "outputs": [
    {
     "data": {
      "text/plain": [
       "count      5.000000\n",
       "mean     175.000000\n",
       "std        7.905694\n",
       "min      165.000000\n",
       "25%      170.000000\n",
       "50%      175.000000\n",
       "75%      180.000000\n",
       "max      185.000000\n",
       "dtype: float64"
      ]
     },
     "execution_count": 118,
     "metadata": {},
     "output_type": "execute_result"
    }
   ],
   "source": [
    "s = pd.Series(x)\n",
    "s.describe()"
   ]
  },
  {
   "cell_type": "code",
   "execution_count": null,
   "id": "009f9fe0",
   "metadata": {},
   "outputs": [],
   "source": []
  }
 ],
 "metadata": {
  "kernelspec": {
   "display_name": "Python 3",
   "language": "python",
   "name": "python3"
  },
  "language_info": {
   "codemirror_mode": {
    "name": "ipython",
    "version": 3
   },
   "file_extension": ".py",
   "mimetype": "text/x-python",
   "name": "python",
   "nbconvert_exporter": "python",
   "pygments_lexer": "ipython3",
   "version": "3.8.8"
  }
 },
 "nbformat": 4,
 "nbformat_minor": 5
}

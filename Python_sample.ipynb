{
 "cells": [
  {
   "cell_type": "code",
   "execution_count": 1,
   "id": "7e03135e",
   "metadata": {},
   "outputs": [
    {
     "name": "stdout",
     "output_type": "stream",
     "text": [
      "total 154348\r\n",
      "drwxr-xr-x  3 jovyan users       96 Sep  5 12:28 '~'\r\n",
      "-rw-r--r--  1 root   root   1171290 Sep 15 10:27  1268-0.txt\r\n",
      "drwxr-xr-x  5 jovyan users      160 Aug 27 12:28  1st_flask_app_1\r\n",
      "drwxr-xr-x  7 root   root       224 Aug 27 01:21  aclImdb\r\n",
      "-rw-r--r--  1 root   root       650 Jul  3 02:03  array_archive.npz\r\n",
      "-rw-r--r--  1 root   root       424 Jul  3 02:04  array_compresed.npz\r\n",
      "drwxr-xr-x  3 root   root        96 Sep 19 13:29  cartpole\r\n",
      "drwxr-xr-x  8 root   root       256 Sep  5 12:11  cat_dog_images\r\n",
      "-rw-r--r--  1 root   root    201398 Jul 12 14:22 'chapter 10.ipynb'\r\n",
      "-rw-r--r--  1 root   root    106137 Jul 12 14:22  chapter11.ipynb\r\n",
      "-rw-r--r--  1 root   root      4154 Jul 12 14:22  chapter12.ipynb\r\n",
      "-rw-r--r--  1 root   root     28249 Jul 12 14:22  chapter13.1.ipynb\r\n",
      "-rw-r--r--  1 root   root     86249 Jul 12 14:22  chapter13.ipynb\r\n",
      "-rw-r--r--  1 root   root   2405611 Jul 12 14:22  chapter14.ipynb\r\n",
      "-rw-r--r--  1 root   root     24920 Jul  2 15:14  chapter1.ipynb\r\n",
      "-rw-r--r--  1 root   root    194340 Jul  3 02:32  chapter4.ipynb\r\n",
      "-rw-r--r--  1 root   root    226675 Jul  4 23:34  chapter5.ipynb\r\n",
      "-rw-r--r--  1 root   root    296628 Jul  4 23:34  chapter6.ipynb\r\n",
      "-rw-r--r--  1 root   root    223645 Jul  5 23:54  chapter7.ipynb\r\n",
      "-rw-r--r--  1 root   root    263945 Jul  6 13:29  chapter8.ipynb\r\n",
      "-rw-r--r--  1 root   root    128523 Jul  7 12:42  chapter9.1.ipynb\r\n",
      "-rw-r--r--  1 root   root   4904746 Jul 10 13:21  chapter9.ipynb\r\n",
      "-rw-r--r--  1 root   root       235 Sep 15 13:03  cv_sample.py\r\n",
      "drwxrwxr-x 10 root   root       320 Dec 13  2021  datasets\r\n",
      "-rw-r--r--  1 root   root     22283 Sep 15 10:27  example-image.png\r\n",
      "drwxr-xr-x 31 root   root       992 Jul  4 23:34  examples\r\n",
      "-rw-r--r--  1 root   root     83114 Jul  7 13:20  figpath2.png\r\n",
      "-rw-r--r--  1 root   root     11985 Jul  7 13:20  figpath.svg\r\n",
      "drwxr-xr-x  7 root   root       224 Sep 19 13:29  gridworld\r\n",
      "-rw-r--r--  1 root   root      1765 Aug 18 13:01  index.html\r\n",
      "-rw-r--r--  1 root   root     16150 Nov  3 15:27  index.html.1\r\n",
      "drwxr-xr-x  5 root   root       160 Aug 14 13:23  kaggle\r\n",
      "drwxr-xr-x 16 root   root       512 Aug 13 00:43  kagglebook-master\r\n",
      "-rw-r--r--  1 root   root    440647 Aug 19 10:10  machineLearning2.ipynb\r\n",
      "-rw-r--r--  1 root   root    143157 Aug 15 11:28  machineLearning.ipynb\r\n",
      "drwxr-xr-x  7 root   root       224 Sep  3 22:32  ml\r\n",
      "-rw-r--r--  1 root   root    425121 Sep  1 12:34  ML10.ipynb\r\n",
      "-rw-r--r--  1 root   root    377184 Sep  5 12:11  ML11.ipynb\r\n",
      "-rw-r--r--  1 root   root   1313977 Sep 15 10:27  ML13.ipynb\r\n",
      "-rw-r--r--  1 root   root     26833 Sep 15 10:27  ML14_2.ipynb\r\n",
      "-rw-r--r--  1 root   root     10489 Sep 15 10:27  M_L14_3.ipynb\r\n",
      "-rw-r--r--  1 root   root    310017 Sep 15 10:27  ML14.ipynb\r\n",
      "-rw-r--r--  1 root   root     65614 Sep 15 10:27  ML15_2.ipynb\r\n",
      "-rw-r--r--  1 root   root     13125 Sep 15 10:27  ML15.ipynb\r\n",
      "-rw-r--r--  1 root   root     18598 Sep 15 13:03  ML16-2.ipynb\r\n",
      "-rw-r--r--  1 root   root     29253 Sep 15 10:27  ML16.ipynb\r\n",
      "-rw-r--r--  1 root   root     28128 Sep 19 03:23  ML17_3.ipynb\r\n",
      "-rw-r--r--  1 root   root    208933 Sep 19 03:23  ML17.ipynb\r\n",
      "-rw-r--r--  1 root   root    459042 Aug 23 23:39  ML3.ipynb\r\n",
      "-rw-r--r--  1 root   root    283784 Aug 27 02:34  ML6.ipynb\r\n",
      "-rw-r--r--  1 root   root     25459 Aug 29 13:18  ML8.ipynb\r\n",
      "-rw-r--r--  1 root   root      2706 Aug 27 08:16  ML9.ipynb\r\n",
      "-rw-r--r--  1 root   root  22088791 Sep  3 09:14  mnist_scaled.npz\r\n",
      "drwxr-xr-x 15 root   root       480 Aug 31 04:37  movieclassifier\r\n",
      "-rw-r--r--  1 root   root  65862309 Aug 27 02:34  movie_data.csv\r\n",
      "-rw-r--r--  1 root   root        32 Jul  4 23:02  mydata.csv\r\n",
      "-rw-r--r--  1 root   root    176949 Jul  4 23:02  mydata.h5\r\n",
      "-rw-r--r--  1 root   root      8192 Jul  4 23:34  mydata.sqlite\r\n",
      "drwxr-xr-x  6 root   root       192 Jul 28 02:19  my-test-env\r\n",
      "-rw-r--r--  1 root   root        20 Jul 10 13:29  numpy01.py\r\n",
      "-rw-r--r--  1 root   root       877 Aug 22 04:46  plot_decision_regions_script.py\r\n",
      "drwxr-xr-x 35 root   root      1120 Aug  2 04:37  Pmaster\r\n",
      "-rw-r--r--  1 root   root      7645 Jul 12 14:22 'present A.ipynb'\r\n",
      "-rw-r--r--  1 root   root       111 Aug  7 08:34  push.command\r\n",
      "-rw-r--r--  1 root   root        73 Jul 27 13:39  push_from_main.command\r\n",
      "-rw-r--r--  1 root   root       111 Jul 27 13:39  push_from_work.command\r\n",
      "-rw-r--r--  1 root   root       111 Aug  7 08:34  pw.command\r\n",
      "-rw-r--r--  1 root   root        20 Jun 29 11:23  README.md\r\n",
      "drwxr-xr-x  5 root   root       160 Oct 12 00:44  RStudio\r\n",
      "drwxr-xr-x 14 root   root       448 Jul 19 12:42  samplecode_20201021\r\n",
      "-rw-r--r--  1 root   root      2285 Jul 20 14:50  sk00.ipynb\r\n",
      "-rw-r--r--  1 root   root       208 Jul  3 02:02  some_array.npy\r\n",
      "-rw-r--r--  1 root   root     26688 Aug 29 13:18  statistic.ipynb\r\n",
      "-rw-r--r--  1 root   root   7840016 Sep  3 09:14  t10k-images-idx3-ubyte\r\n",
      "-rw-r--r--  1 root   root     10008 Sep  3 09:14  t10k-labels-idx1-ubyte\r\n",
      "drwxr-xr-x  2 root   root        64 Aug  2 04:16  titanic\r\n",
      "-rw-r--r--  1 root   root  47040016 Sep  3 09:14  train-images-idx3-ubyte\r\n",
      "-rw-r--r--  1 root   root     60008 Sep  3 09:14  train-labels-idx1-ubyte\r\n",
      "-rw-r--r--  1 root   root    130531 Aug 19 09:32  tree.png\r\n",
      "-rw-r--r--  1 root   root      2638 Sep 19 03:23  Untitled0.ipynb\r\n",
      "-rw-r--r--  1 root   root     37472 Sep 19 13:29  Untitled1.ipynb\r\n",
      "-rw-r--r--  1 jovyan users       72 Nov  3 15:53  Untitled2.ipynb\r\n",
      "-rw-r--r--  1 root   root      2813 Sep 19 03:23  Untitled.ipynb\r\n",
      "-rw-r--r--  1 root   root       741 Nov  3 15:42  wine.csv\r\n",
      "-rw-r--r--  1 root   root       741 Nov  3 15:40  wine.csv.1\r\n"
     ]
    }
   ],
   "source": [
    "!ls -l"
   ]
  },
  {
   "cell_type": "code",
   "execution_count": 2,
   "id": "c4330c10",
   "metadata": {},
   "outputs": [
    {
     "data": {
      "text/plain": [
       "2"
      ]
     },
     "execution_count": 2,
     "metadata": {},
     "output_type": "execute_result"
    }
   ],
   "source": [
    "1+1"
   ]
  },
  {
   "cell_type": "code",
   "execution_count": 3,
   "id": "cc774af1",
   "metadata": {},
   "outputs": [
    {
     "data": {
      "text/plain": [
       "2"
      ]
     },
     "execution_count": 3,
     "metadata": {},
     "output_type": "execute_result"
    },
    {
     "name": "stdout",
     "output_type": "stream",
     "text": [
      "3\n"
     ]
    },
    {
     "data": {
      "text/plain": [
       "4"
      ]
     },
     "execution_count": 3,
     "metadata": {},
     "output_type": "execute_result"
    }
   ],
   "source": [
    "1+1\n",
    "print(1+2)\n",
    "1+3"
   ]
  },
  {
   "cell_type": "code",
   "execution_count": 4,
   "id": "b958d553",
   "metadata": {},
   "outputs": [
    {
     "data": {
      "text/plain": [
       "16"
      ]
     },
     "execution_count": 4,
     "metadata": {},
     "output_type": "execute_result"
    }
   ],
   "source": [
    "0x10"
   ]
  },
  {
   "cell_type": "code",
   "execution_count": 5,
   "id": "fc34e9ac",
   "metadata": {},
   "outputs": [
    {
     "data": {
      "text/plain": [
       "123000.0"
      ]
     },
     "execution_count": 5,
     "metadata": {},
     "output_type": "execute_result"
    }
   ],
   "source": [
    "1.23e5"
   ]
  },
  {
   "cell_type": "code",
   "execution_count": 6,
   "id": "beba2513",
   "metadata": {},
   "outputs": [],
   "source": [
    "import math "
   ]
  },
  {
   "cell_type": "code",
   "execution_count": 8,
   "id": "a682bf46",
   "metadata": {},
   "outputs": [
    {
     "data": {
      "text/plain": [
       "True"
      ]
     },
     "execution_count": 8,
     "metadata": {},
     "output_type": "execute_result"
    }
   ],
   "source": [
    "math.isclose(0.1 + 0.1 + 0.1, 0.3)"
   ]
  },
  {
   "cell_type": "code",
   "execution_count": 10,
   "id": "6f5d3c89",
   "metadata": {},
   "outputs": [
    {
     "data": {
      "text/plain": [
       "10"
      ]
     },
     "execution_count": 10,
     "metadata": {},
     "output_type": "execute_result"
    }
   ],
   "source": [
    "0 if 6 < 5 else 10"
   ]
  },
  {
   "cell_type": "code",
   "execution_count": 11,
   "id": "022c74ca",
   "metadata": {},
   "outputs": [
    {
     "data": {
      "text/plain": [
       "'/home/jovyan/work'"
      ]
     },
     "execution_count": 11,
     "metadata": {},
     "output_type": "execute_result"
    }
   ],
   "source": [
    "%pwd"
   ]
  },
  {
   "cell_type": "code",
   "execution_count": 12,
   "id": "5d5bbc38",
   "metadata": {},
   "outputs": [],
   "source": [
    "import math"
   ]
  },
  {
   "cell_type": "code",
   "execution_count": 13,
   "id": "8ce7c3df",
   "metadata": {},
   "outputs": [
    {
     "data": {
      "text/plain": [
       "2.0"
      ]
     },
     "execution_count": 13,
     "metadata": {},
     "output_type": "execute_result"
    }
   ],
   "source": [
    "math.log(100,10)"
   ]
  },
  {
   "cell_type": "code",
   "execution_count": 14,
   "id": "88a61fde",
   "metadata": {},
   "outputs": [
    {
     "data": {
      "text/plain": [
       "4.605170185988092"
      ]
     },
     "execution_count": 14,
     "metadata": {},
     "output_type": "execute_result"
    }
   ],
   "source": [
    "math.log(100)"
   ]
  },
  {
   "cell_type": "code",
   "execution_count": 15,
   "id": "4c6b9a0c",
   "metadata": {},
   "outputs": [
    {
     "data": {
      "text/plain": [
       "4.605170185988092"
      ]
     },
     "execution_count": 15,
     "metadata": {},
     "output_type": "execute_result"
    }
   ],
   "source": [
    "math.log(100, math.e)"
   ]
  },
  {
   "cell_type": "code",
   "execution_count": 17,
   "id": "5a3a46df",
   "metadata": {},
   "outputs": [],
   "source": [
    "def f(a,b):\n",
    "    return a-b\n"
   ]
  },
  {
   "cell_type": "code",
   "execution_count": 18,
   "id": "10529d01",
   "metadata": {},
   "outputs": [
    {
     "data": {
      "text/plain": [
       "-2"
      ]
     },
     "execution_count": 18,
     "metadata": {},
     "output_type": "execute_result"
    }
   ],
   "source": [
    "f(3,5)"
   ]
  },
  {
   "cell_type": "code",
   "execution_count": 19,
   "id": "09929a5b",
   "metadata": {},
   "outputs": [
    {
     "data": {
      "text/plain": [
       "-2"
      ]
     },
     "execution_count": 19,
     "metadata": {},
     "output_type": "execute_result"
    }
   ],
   "source": [
    "(lambda a,b: a-b)(3,5)"
   ]
  },
  {
   "cell_type": "code",
   "execution_count": 20,
   "id": "26394bfc",
   "metadata": {},
   "outputs": [
    {
     "data": {
      "text/plain": [
       "[0, 2, 4, 6, 8, 10]"
      ]
     },
     "execution_count": 20,
     "metadata": {},
     "output_type": "execute_result"
    }
   ],
   "source": [
    "list(range(0,11,2))"
   ]
  },
  {
   "cell_type": "code",
   "execution_count": 21,
   "id": "7465e1f0",
   "metadata": {},
   "outputs": [],
   "source": [
    " x = ['foo', 'bar', 'buz']"
   ]
  },
  {
   "cell_type": "code",
   "execution_count": 22,
   "id": "95328d92",
   "metadata": {},
   "outputs": [],
   "source": [
    "y = x.copy()"
   ]
  },
  {
   "cell_type": "code",
   "execution_count": 23,
   "id": "1f202ac9",
   "metadata": {},
   "outputs": [
    {
     "data": {
      "text/plain": [
       "(True, False)"
      ]
     },
     "execution_count": 23,
     "metadata": {},
     "output_type": "execute_result"
    }
   ],
   "source": [
    "x == y, x is y"
   ]
  },
  {
   "cell_type": "code",
   "execution_count": 24,
   "id": "8fbf45f5",
   "metadata": {},
   "outputs": [],
   "source": [
    "y[1] = 'BAR'"
   ]
  },
  {
   "cell_type": "code",
   "execution_count": 25,
   "id": "f8c6331b",
   "metadata": {},
   "outputs": [
    {
     "data": {
      "text/plain": [
       "['foo', 'bar', 'buz']"
      ]
     },
     "execution_count": 25,
     "metadata": {},
     "output_type": "execute_result"
    }
   ],
   "source": [
    "x"
   ]
  },
  {
   "cell_type": "code",
   "execution_count": 26,
   "id": "979ed93c",
   "metadata": {},
   "outputs": [],
   "source": [
    "import pandas as pd"
   ]
  },
  {
   "cell_type": "code",
   "execution_count": 27,
   "id": "e322ad57",
   "metadata": {},
   "outputs": [],
   "source": [
    "my_df = pd.DataFrame({\n",
    "    'name': ['A', 'B', 'C', 'D'],\n",
    "    'english' : [60,90,80,90],\n",
    "    'math': [70,80,90,100],\n",
    "    'gender': ['f', 'm', 'm', 'f']\n",
    "})"
   ]
  },
  {
   "cell_type": "code",
   "execution_count": 28,
   "id": "07b07482",
   "metadata": {},
   "outputs": [
    {
     "data": {
      "text/html": [
       "<div>\n",
       "<style scoped>\n",
       "    .dataframe tbody tr th:only-of-type {\n",
       "        vertical-align: middle;\n",
       "    }\n",
       "\n",
       "    .dataframe tbody tr th {\n",
       "        vertical-align: top;\n",
       "    }\n",
       "\n",
       "    .dataframe thead th {\n",
       "        text-align: right;\n",
       "    }\n",
       "</style>\n",
       "<table border=\"1\" class=\"dataframe\">\n",
       "  <thead>\n",
       "    <tr style=\"text-align: right;\">\n",
       "      <th></th>\n",
       "      <th>name</th>\n",
       "      <th>english</th>\n",
       "      <th>math</th>\n",
       "      <th>gender</th>\n",
       "    </tr>\n",
       "  </thead>\n",
       "  <tbody>\n",
       "    <tr>\n",
       "      <th>0</th>\n",
       "      <td>A</td>\n",
       "      <td>60</td>\n",
       "      <td>70</td>\n",
       "      <td>f</td>\n",
       "    </tr>\n",
       "    <tr>\n",
       "      <th>1</th>\n",
       "      <td>B</td>\n",
       "      <td>90</td>\n",
       "      <td>80</td>\n",
       "      <td>m</td>\n",
       "    </tr>\n",
       "    <tr>\n",
       "      <th>2</th>\n",
       "      <td>C</td>\n",
       "      <td>80</td>\n",
       "      <td>90</td>\n",
       "      <td>m</td>\n",
       "    </tr>\n",
       "    <tr>\n",
       "      <th>3</th>\n",
       "      <td>D</td>\n",
       "      <td>90</td>\n",
       "      <td>100</td>\n",
       "      <td>f</td>\n",
       "    </tr>\n",
       "  </tbody>\n",
       "</table>\n",
       "</div>"
      ],
      "text/plain": [
       "  name  english  math gender\n",
       "0    A       60    70      f\n",
       "1    B       90    80      m\n",
       "2    C       80    90      m\n",
       "3    D       90   100      f"
      ]
     },
     "execution_count": 28,
     "metadata": {},
     "output_type": "execute_result"
    }
   ],
   "source": [
    "my_df.head()"
   ]
  },
  {
   "cell_type": "code",
   "execution_count": 29,
   "id": "e5288ddf",
   "metadata": {},
   "outputs": [],
   "source": [
    "r,  c = my_df.shape"
   ]
  },
  {
   "cell_type": "code",
   "execution_count": 30,
   "id": "f25a4fea",
   "metadata": {},
   "outputs": [
    {
     "data": {
      "text/plain": [
       "(4, 4)"
      ]
     },
     "execution_count": 30,
     "metadata": {},
     "output_type": "execute_result"
    }
   ],
   "source": [
    "r, c"
   ]
  },
  {
   "cell_type": "code",
   "execution_count": 31,
   "id": "3d3f95b0",
   "metadata": {},
   "outputs": [],
   "source": [
    "from itertools import product\n",
    "my_df2 = pd.DataFrame(\n",
    "product([1,2,3],[10,100]),columns=['X', 'Y'])"
   ]
  },
  {
   "cell_type": "code",
   "execution_count": 32,
   "id": "f20c0dc1",
   "metadata": {},
   "outputs": [
    {
     "data": {
      "text/html": [
       "<div>\n",
       "<style scoped>\n",
       "    .dataframe tbody tr th:only-of-type {\n",
       "        vertical-align: middle;\n",
       "    }\n",
       "\n",
       "    .dataframe tbody tr th {\n",
       "        vertical-align: top;\n",
       "    }\n",
       "\n",
       "    .dataframe thead th {\n",
       "        text-align: right;\n",
       "    }\n",
       "</style>\n",
       "<table border=\"1\" class=\"dataframe\">\n",
       "  <thead>\n",
       "    <tr style=\"text-align: right;\">\n",
       "      <th></th>\n",
       "      <th>X</th>\n",
       "      <th>Y</th>\n",
       "    </tr>\n",
       "  </thead>\n",
       "  <tbody>\n",
       "    <tr>\n",
       "      <th>0</th>\n",
       "      <td>1</td>\n",
       "      <td>10</td>\n",
       "    </tr>\n",
       "    <tr>\n",
       "      <th>1</th>\n",
       "      <td>1</td>\n",
       "      <td>100</td>\n",
       "    </tr>\n",
       "    <tr>\n",
       "      <th>2</th>\n",
       "      <td>2</td>\n",
       "      <td>10</td>\n",
       "    </tr>\n",
       "    <tr>\n",
       "      <th>3</th>\n",
       "      <td>2</td>\n",
       "      <td>100</td>\n",
       "    </tr>\n",
       "    <tr>\n",
       "      <th>4</th>\n",
       "      <td>3</td>\n",
       "      <td>10</td>\n",
       "    </tr>\n",
       "  </tbody>\n",
       "</table>\n",
       "</div>"
      ],
      "text/plain": [
       "   X    Y\n",
       "0  1   10\n",
       "1  1  100\n",
       "2  2   10\n",
       "3  2  100\n",
       "4  3   10"
      ]
     },
     "execution_count": 32,
     "metadata": {},
     "output_type": "execute_result"
    }
   ],
   "source": [
    "my_df2.head()"
   ]
  },
  {
   "cell_type": "code",
   "execution_count": 34,
   "id": "bc06b2f1",
   "metadata": {},
   "outputs": [],
   "source": [
    "my_df2.columns = ['P', 'Q']"
   ]
  },
  {
   "cell_type": "code",
   "execution_count": 36,
   "id": "acebd97c",
   "metadata": {},
   "outputs": [
    {
     "data": {
      "text/plain": [
       "Index(['P', 'Q'], dtype='object')"
      ]
     },
     "execution_count": 36,
     "metadata": {},
     "output_type": "execute_result"
    }
   ],
   "source": [
    "my_df2.columns"
   ]
  },
  {
   "cell_type": "code",
   "execution_count": 37,
   "id": "eca0ee38",
   "metadata": {},
   "outputs": [
    {
     "data": {
      "text/plain": [
       "[0, 1, 2, 3]"
      ]
     },
     "execution_count": 37,
     "metadata": {},
     "output_type": "execute_result"
    }
   ],
   "source": [
    "list(my_df.index)"
   ]
  },
  {
   "cell_type": "code",
   "execution_count": 38,
   "id": "5bf2ceb9",
   "metadata": {},
   "outputs": [],
   "source": [
    "tmp = pd.DataFrame({\n",
    "    'name': ['E'],\n",
    "    'english' : [80],\n",
    "    'math' : [80],\n",
    "    'gender': ['m']\n",
    "})\n",
    "my_df2 = my_df.append(tmp)"
   ]
  },
  {
   "cell_type": "code",
   "execution_count": 40,
   "id": "4393c001",
   "metadata": {},
   "outputs": [],
   "source": [
    "my_df2 = my_df.assign(id=[1,2,3,4])"
   ]
  },
  {
   "cell_type": "code",
   "execution_count": 41,
   "id": "2e09d074",
   "metadata": {},
   "outputs": [
    {
     "data": {
      "text/plain": [
       "60"
      ]
     },
     "execution_count": 41,
     "metadata": {},
     "output_type": "execute_result"
    }
   ],
   "source": [
    "my_df.iloc[0,1]"
   ]
  },
  {
   "cell_type": "code",
   "execution_count": 42,
   "id": "7974d9bd",
   "metadata": {},
   "outputs": [
    {
     "data": {
      "text/plain": [
       "0    60\n",
       "1    90\n",
       "2    80\n",
       "3    90\n",
       "Name: english, dtype: int64"
      ]
     },
     "execution_count": 42,
     "metadata": {},
     "output_type": "execute_result"
    }
   ],
   "source": [
    "my_df.iloc[:, 1]"
   ]
  },
  {
   "cell_type": "code",
   "execution_count": 43,
   "id": "d683decc",
   "metadata": {},
   "outputs": [],
   "source": [
    "x = my_df[['name', 'math']]"
   ]
  },
  {
   "cell_type": "code",
   "execution_count": 44,
   "id": "e3bc8794",
   "metadata": {},
   "outputs": [
    {
     "data": {
      "text/html": [
       "<div>\n",
       "<style scoped>\n",
       "    .dataframe tbody tr th:only-of-type {\n",
       "        vertical-align: middle;\n",
       "    }\n",
       "\n",
       "    .dataframe tbody tr th {\n",
       "        vertical-align: top;\n",
       "    }\n",
       "\n",
       "    .dataframe thead th {\n",
       "        text-align: right;\n",
       "    }\n",
       "</style>\n",
       "<table border=\"1\" class=\"dataframe\">\n",
       "  <thead>\n",
       "    <tr style=\"text-align: right;\">\n",
       "      <th></th>\n",
       "      <th>name</th>\n",
       "      <th>math</th>\n",
       "    </tr>\n",
       "  </thead>\n",
       "  <tbody>\n",
       "    <tr>\n",
       "      <th>0</th>\n",
       "      <td>A</td>\n",
       "      <td>70</td>\n",
       "    </tr>\n",
       "    <tr>\n",
       "      <th>1</th>\n",
       "      <td>B</td>\n",
       "      <td>80</td>\n",
       "    </tr>\n",
       "    <tr>\n",
       "      <th>2</th>\n",
       "      <td>C</td>\n",
       "      <td>90</td>\n",
       "    </tr>\n",
       "    <tr>\n",
       "      <th>3</th>\n",
       "      <td>D</td>\n",
       "      <td>100</td>\n",
       "    </tr>\n",
       "  </tbody>\n",
       "</table>\n",
       "</div>"
      ],
      "text/plain": [
       "  name  math\n",
       "0    A    70\n",
       "1    B    80\n",
       "2    C    90\n",
       "3    D   100"
      ]
     },
     "execution_count": 44,
     "metadata": {},
     "output_type": "execute_result"
    }
   ],
   "source": [
    "x"
   ]
  },
  {
   "cell_type": "code",
   "execution_count": 46,
   "id": "d2ec4af4",
   "metadata": {},
   "outputs": [],
   "source": [
    "x = my_df.loc[:, ['name', 'math']]"
   ]
  },
  {
   "cell_type": "code",
   "execution_count": 47,
   "id": "66dd7ab6",
   "metadata": {},
   "outputs": [
    {
     "data": {
      "text/html": [
       "<div>\n",
       "<style scoped>\n",
       "    .dataframe tbody tr th:only-of-type {\n",
       "        vertical-align: middle;\n",
       "    }\n",
       "\n",
       "    .dataframe tbody tr th {\n",
       "        vertical-align: top;\n",
       "    }\n",
       "\n",
       "    .dataframe thead th {\n",
       "        text-align: right;\n",
       "    }\n",
       "</style>\n",
       "<table border=\"1\" class=\"dataframe\">\n",
       "  <thead>\n",
       "    <tr style=\"text-align: right;\">\n",
       "      <th></th>\n",
       "      <th>name</th>\n",
       "      <th>math</th>\n",
       "    </tr>\n",
       "  </thead>\n",
       "  <tbody>\n",
       "    <tr>\n",
       "      <th>0</th>\n",
       "      <td>A</td>\n",
       "      <td>70</td>\n",
       "    </tr>\n",
       "    <tr>\n",
       "      <th>1</th>\n",
       "      <td>B</td>\n",
       "      <td>80</td>\n",
       "    </tr>\n",
       "    <tr>\n",
       "      <th>2</th>\n",
       "      <td>C</td>\n",
       "      <td>90</td>\n",
       "    </tr>\n",
       "    <tr>\n",
       "      <th>3</th>\n",
       "      <td>D</td>\n",
       "      <td>100</td>\n",
       "    </tr>\n",
       "  </tbody>\n",
       "</table>\n",
       "</div>"
      ],
      "text/plain": [
       "  name  math\n",
       "0    A    70\n",
       "1    B    80\n",
       "2    C    90\n",
       "3    D   100"
      ]
     },
     "execution_count": 47,
     "metadata": {},
     "output_type": "execute_result"
    }
   ],
   "source": [
    "x"
   ]
  },
  {
   "cell_type": "code",
   "execution_count": 48,
   "id": "30277428",
   "metadata": {},
   "outputs": [],
   "source": [
    "x = my_df.take([0,2], axis=1)"
   ]
  },
  {
   "cell_type": "code",
   "execution_count": 49,
   "id": "64a33580",
   "metadata": {},
   "outputs": [
    {
     "data": {
      "text/html": [
       "<div>\n",
       "<style scoped>\n",
       "    .dataframe tbody tr th:only-of-type {\n",
       "        vertical-align: middle;\n",
       "    }\n",
       "\n",
       "    .dataframe tbody tr th {\n",
       "        vertical-align: top;\n",
       "    }\n",
       "\n",
       "    .dataframe thead th {\n",
       "        text-align: right;\n",
       "    }\n",
       "</style>\n",
       "<table border=\"1\" class=\"dataframe\">\n",
       "  <thead>\n",
       "    <tr style=\"text-align: right;\">\n",
       "      <th></th>\n",
       "      <th>name</th>\n",
       "      <th>math</th>\n",
       "    </tr>\n",
       "  </thead>\n",
       "  <tbody>\n",
       "    <tr>\n",
       "      <th>0</th>\n",
       "      <td>A</td>\n",
       "      <td>70</td>\n",
       "    </tr>\n",
       "    <tr>\n",
       "      <th>1</th>\n",
       "      <td>B</td>\n",
       "      <td>80</td>\n",
       "    </tr>\n",
       "    <tr>\n",
       "      <th>2</th>\n",
       "      <td>C</td>\n",
       "      <td>90</td>\n",
       "    </tr>\n",
       "    <tr>\n",
       "      <th>3</th>\n",
       "      <td>D</td>\n",
       "      <td>100</td>\n",
       "    </tr>\n",
       "  </tbody>\n",
       "</table>\n",
       "</div>"
      ],
      "text/plain": [
       "  name  math\n",
       "0    A    70\n",
       "1    B    80\n",
       "2    C    90\n",
       "3    D   100"
      ]
     },
     "execution_count": 49,
     "metadata": {},
     "output_type": "execute_result"
    }
   ],
   "source": [
    "x"
   ]
  },
  {
   "cell_type": "code",
   "execution_count": 50,
   "id": "53d45f05",
   "metadata": {},
   "outputs": [],
   "source": [
    "x = my_df.drop(\n",
    "columns = ['english', 'gender'])"
   ]
  },
  {
   "cell_type": "code",
   "execution_count": 51,
   "id": "3ffc812b",
   "metadata": {},
   "outputs": [
    {
     "data": {
      "text/html": [
       "<div>\n",
       "<style scoped>\n",
       "    .dataframe tbody tr th:only-of-type {\n",
       "        vertical-align: middle;\n",
       "    }\n",
       "\n",
       "    .dataframe tbody tr th {\n",
       "        vertical-align: top;\n",
       "    }\n",
       "\n",
       "    .dataframe thead th {\n",
       "        text-align: right;\n",
       "    }\n",
       "</style>\n",
       "<table border=\"1\" class=\"dataframe\">\n",
       "  <thead>\n",
       "    <tr style=\"text-align: right;\">\n",
       "      <th></th>\n",
       "      <th>name</th>\n",
       "      <th>math</th>\n",
       "    </tr>\n",
       "  </thead>\n",
       "  <tbody>\n",
       "    <tr>\n",
       "      <th>0</th>\n",
       "      <td>A</td>\n",
       "      <td>70</td>\n",
       "    </tr>\n",
       "    <tr>\n",
       "      <th>1</th>\n",
       "      <td>B</td>\n",
       "      <td>80</td>\n",
       "    </tr>\n",
       "    <tr>\n",
       "      <th>2</th>\n",
       "      <td>C</td>\n",
       "      <td>90</td>\n",
       "    </tr>\n",
       "    <tr>\n",
       "      <th>3</th>\n",
       "      <td>D</td>\n",
       "      <td>100</td>\n",
       "    </tr>\n",
       "  </tbody>\n",
       "</table>\n",
       "</div>"
      ],
      "text/plain": [
       "  name  math\n",
       "0    A    70\n",
       "1    B    80\n",
       "2    C    90\n",
       "3    D   100"
      ]
     },
     "execution_count": 51,
     "metadata": {},
     "output_type": "execute_result"
    }
   ],
   "source": [
    "x"
   ]
  },
  {
   "cell_type": "code",
   "execution_count": 52,
   "id": "3eddf3b7",
   "metadata": {},
   "outputs": [],
   "source": [
    "x = my_df[my_df['gender'] == 'm']"
   ]
  },
  {
   "cell_type": "code",
   "execution_count": 53,
   "id": "1242061e",
   "metadata": {},
   "outputs": [
    {
     "data": {
      "text/html": [
       "<div>\n",
       "<style scoped>\n",
       "    .dataframe tbody tr th:only-of-type {\n",
       "        vertical-align: middle;\n",
       "    }\n",
       "\n",
       "    .dataframe tbody tr th {\n",
       "        vertical-align: top;\n",
       "    }\n",
       "\n",
       "    .dataframe thead th {\n",
       "        text-align: right;\n",
       "    }\n",
       "</style>\n",
       "<table border=\"1\" class=\"dataframe\">\n",
       "  <thead>\n",
       "    <tr style=\"text-align: right;\">\n",
       "      <th></th>\n",
       "      <th>name</th>\n",
       "      <th>english</th>\n",
       "      <th>math</th>\n",
       "      <th>gender</th>\n",
       "    </tr>\n",
       "  </thead>\n",
       "  <tbody>\n",
       "    <tr>\n",
       "      <th>1</th>\n",
       "      <td>B</td>\n",
       "      <td>90</td>\n",
       "      <td>80</td>\n",
       "      <td>m</td>\n",
       "    </tr>\n",
       "    <tr>\n",
       "      <th>2</th>\n",
       "      <td>C</td>\n",
       "      <td>80</td>\n",
       "      <td>90</td>\n",
       "      <td>m</td>\n",
       "    </tr>\n",
       "  </tbody>\n",
       "</table>\n",
       "</div>"
      ],
      "text/plain": [
       "  name  english  math gender\n",
       "1    B       90    80      m\n",
       "2    C       80    90      m"
      ]
     },
     "execution_count": 53,
     "metadata": {},
     "output_type": "execute_result"
    }
   ],
   "source": [
    "x"
   ]
  },
  {
   "cell_type": "code",
   "execution_count": 54,
   "id": "759f2034",
   "metadata": {},
   "outputs": [],
   "source": [
    "x = my_df.query('gender == \"m\"')"
   ]
  },
  {
   "cell_type": "code",
   "execution_count": 55,
   "id": "29cc6ee2",
   "metadata": {},
   "outputs": [
    {
     "data": {
      "text/html": [
       "<div>\n",
       "<style scoped>\n",
       "    .dataframe tbody tr th:only-of-type {\n",
       "        vertical-align: middle;\n",
       "    }\n",
       "\n",
       "    .dataframe tbody tr th {\n",
       "        vertical-align: top;\n",
       "    }\n",
       "\n",
       "    .dataframe thead th {\n",
       "        text-align: right;\n",
       "    }\n",
       "</style>\n",
       "<table border=\"1\" class=\"dataframe\">\n",
       "  <thead>\n",
       "    <tr style=\"text-align: right;\">\n",
       "      <th></th>\n",
       "      <th>name</th>\n",
       "      <th>english</th>\n",
       "      <th>math</th>\n",
       "      <th>gender</th>\n",
       "    </tr>\n",
       "  </thead>\n",
       "  <tbody>\n",
       "    <tr>\n",
       "      <th>1</th>\n",
       "      <td>B</td>\n",
       "      <td>90</td>\n",
       "      <td>80</td>\n",
       "      <td>m</td>\n",
       "    </tr>\n",
       "    <tr>\n",
       "      <th>2</th>\n",
       "      <td>C</td>\n",
       "      <td>80</td>\n",
       "      <td>90</td>\n",
       "      <td>m</td>\n",
       "    </tr>\n",
       "  </tbody>\n",
       "</table>\n",
       "</div>"
      ],
      "text/plain": [
       "  name  english  math gender\n",
       "1    B       90    80      m\n",
       "2    C       80    90      m"
      ]
     },
     "execution_count": 55,
     "metadata": {},
     "output_type": "execute_result"
    }
   ],
   "source": [
    "x"
   ]
  },
  {
   "cell_type": "code",
   "execution_count": 56,
   "id": "30ee77c5",
   "metadata": {},
   "outputs": [],
   "source": [
    "x = my_df[(my_df['english'] > 80) & (my_df['gender'] == 'm')]"
   ]
  },
  {
   "cell_type": "code",
   "execution_count": 57,
   "id": "f99c9177",
   "metadata": {},
   "outputs": [
    {
     "data": {
      "text/html": [
       "<div>\n",
       "<style scoped>\n",
       "    .dataframe tbody tr th:only-of-type {\n",
       "        vertical-align: middle;\n",
       "    }\n",
       "\n",
       "    .dataframe tbody tr th {\n",
       "        vertical-align: top;\n",
       "    }\n",
       "\n",
       "    .dataframe thead th {\n",
       "        text-align: right;\n",
       "    }\n",
       "</style>\n",
       "<table border=\"1\" class=\"dataframe\">\n",
       "  <thead>\n",
       "    <tr style=\"text-align: right;\">\n",
       "      <th></th>\n",
       "      <th>name</th>\n",
       "      <th>english</th>\n",
       "      <th>math</th>\n",
       "      <th>gender</th>\n",
       "    </tr>\n",
       "  </thead>\n",
       "  <tbody>\n",
       "    <tr>\n",
       "      <th>1</th>\n",
       "      <td>B</td>\n",
       "      <td>90</td>\n",
       "      <td>80</td>\n",
       "      <td>m</td>\n",
       "    </tr>\n",
       "  </tbody>\n",
       "</table>\n",
       "</div>"
      ],
      "text/plain": [
       "  name  english  math gender\n",
       "1    B       90    80      m"
      ]
     },
     "execution_count": 57,
     "metadata": {},
     "output_type": "execute_result"
    }
   ],
   "source": [
    "x"
   ]
  },
  {
   "cell_type": "code",
   "execution_count": 58,
   "id": "a532a920",
   "metadata": {},
   "outputs": [],
   "source": [
    " x = my_df.query('english > 80 and gender == \"m\"')"
   ]
  },
  {
   "cell_type": "code",
   "execution_count": 59,
   "id": "b8004114",
   "metadata": {},
   "outputs": [
    {
     "data": {
      "text/html": [
       "<div>\n",
       "<style scoped>\n",
       "    .dataframe tbody tr th:only-of-type {\n",
       "        vertical-align: middle;\n",
       "    }\n",
       "\n",
       "    .dataframe tbody tr th {\n",
       "        vertical-align: top;\n",
       "    }\n",
       "\n",
       "    .dataframe thead th {\n",
       "        text-align: right;\n",
       "    }\n",
       "</style>\n",
       "<table border=\"1\" class=\"dataframe\">\n",
       "  <thead>\n",
       "    <tr style=\"text-align: right;\">\n",
       "      <th></th>\n",
       "      <th>name</th>\n",
       "      <th>english</th>\n",
       "      <th>math</th>\n",
       "      <th>gender</th>\n",
       "    </tr>\n",
       "  </thead>\n",
       "  <tbody>\n",
       "    <tr>\n",
       "      <th>1</th>\n",
       "      <td>B</td>\n",
       "      <td>90</td>\n",
       "      <td>80</td>\n",
       "      <td>m</td>\n",
       "    </tr>\n",
       "  </tbody>\n",
       "</table>\n",
       "</div>"
      ],
      "text/plain": [
       "  name  english  math gender\n",
       "1    B       90    80      m"
      ]
     },
     "execution_count": 59,
     "metadata": {},
     "output_type": "execute_result"
    }
   ],
   "source": [
    "x"
   ]
  },
  {
   "cell_type": "code",
   "execution_count": 60,
   "id": "5c5cd5ce",
   "metadata": {},
   "outputs": [],
   "source": [
    "x = my_df[my_df['english'] == my_df['english'].max()]"
   ]
  },
  {
   "cell_type": "code",
   "execution_count": 61,
   "id": "ddc50d44",
   "metadata": {},
   "outputs": [
    {
     "data": {
      "text/html": [
       "<div>\n",
       "<style scoped>\n",
       "    .dataframe tbody tr th:only-of-type {\n",
       "        vertical-align: middle;\n",
       "    }\n",
       "\n",
       "    .dataframe tbody tr th {\n",
       "        vertical-align: top;\n",
       "    }\n",
       "\n",
       "    .dataframe thead th {\n",
       "        text-align: right;\n",
       "    }\n",
       "</style>\n",
       "<table border=\"1\" class=\"dataframe\">\n",
       "  <thead>\n",
       "    <tr style=\"text-align: right;\">\n",
       "      <th></th>\n",
       "      <th>name</th>\n",
       "      <th>english</th>\n",
       "      <th>math</th>\n",
       "      <th>gender</th>\n",
       "    </tr>\n",
       "  </thead>\n",
       "  <tbody>\n",
       "    <tr>\n",
       "      <th>1</th>\n",
       "      <td>B</td>\n",
       "      <td>90</td>\n",
       "      <td>80</td>\n",
       "      <td>m</td>\n",
       "    </tr>\n",
       "    <tr>\n",
       "      <th>3</th>\n",
       "      <td>D</td>\n",
       "      <td>90</td>\n",
       "      <td>100</td>\n",
       "      <td>f</td>\n",
       "    </tr>\n",
       "  </tbody>\n",
       "</table>\n",
       "</div>"
      ],
      "text/plain": [
       "  name  english  math gender\n",
       "1    B       90    80      m\n",
       "3    D       90   100      f"
      ]
     },
     "execution_count": 61,
     "metadata": {},
     "output_type": "execute_result"
    }
   ],
   "source": [
    "x"
   ]
  },
  {
   "cell_type": "code",
   "execution_count": 62,
   "id": "89d5b91e",
   "metadata": {},
   "outputs": [],
   "source": [
    "tmp = my_df['english'].max()"
   ]
  },
  {
   "cell_type": "code",
   "execution_count": 63,
   "id": "e4e59c37",
   "metadata": {},
   "outputs": [],
   "source": [
    "x = my_df.query('english == @tmp')"
   ]
  },
  {
   "cell_type": "code",
   "execution_count": 64,
   "id": "b45a17dc",
   "metadata": {},
   "outputs": [
    {
     "data": {
      "text/html": [
       "<div>\n",
       "<style scoped>\n",
       "    .dataframe tbody tr th:only-of-type {\n",
       "        vertical-align: middle;\n",
       "    }\n",
       "\n",
       "    .dataframe tbody tr th {\n",
       "        vertical-align: top;\n",
       "    }\n",
       "\n",
       "    .dataframe thead th {\n",
       "        text-align: right;\n",
       "    }\n",
       "</style>\n",
       "<table border=\"1\" class=\"dataframe\">\n",
       "  <thead>\n",
       "    <tr style=\"text-align: right;\">\n",
       "      <th></th>\n",
       "      <th>name</th>\n",
       "      <th>english</th>\n",
       "      <th>math</th>\n",
       "      <th>gender</th>\n",
       "    </tr>\n",
       "  </thead>\n",
       "  <tbody>\n",
       "    <tr>\n",
       "      <th>1</th>\n",
       "      <td>B</td>\n",
       "      <td>90</td>\n",
       "      <td>80</td>\n",
       "      <td>m</td>\n",
       "    </tr>\n",
       "    <tr>\n",
       "      <th>3</th>\n",
       "      <td>D</td>\n",
       "      <td>90</td>\n",
       "      <td>100</td>\n",
       "      <td>f</td>\n",
       "    </tr>\n",
       "  </tbody>\n",
       "</table>\n",
       "</div>"
      ],
      "text/plain": [
       "  name  english  math gender\n",
       "1    B       90    80      m\n",
       "3    D       90   100      f"
      ]
     },
     "execution_count": 64,
     "metadata": {},
     "output_type": "execute_result"
    }
   ],
   "source": [
    "x"
   ]
  },
  {
   "cell_type": "code",
   "execution_count": 68,
   "id": "5ded7142",
   "metadata": {},
   "outputs": [],
   "source": [
    " x = my_df.sort_values('english',ascending=False)"
   ]
  },
  {
   "cell_type": "code",
   "execution_count": null,
   "id": "8d05a8c6",
   "metadata": {},
   "outputs": [],
   "source": []
  },
  {
   "cell_type": "code",
   "execution_count": 69,
   "id": "117b73e6",
   "metadata": {},
   "outputs": [
    {
     "data": {
      "text/html": [
       "<div>\n",
       "<style scoped>\n",
       "    .dataframe tbody tr th:only-of-type {\n",
       "        vertical-align: middle;\n",
       "    }\n",
       "\n",
       "    .dataframe tbody tr th {\n",
       "        vertical-align: top;\n",
       "    }\n",
       "\n",
       "    .dataframe thead th {\n",
       "        text-align: right;\n",
       "    }\n",
       "</style>\n",
       "<table border=\"1\" class=\"dataframe\">\n",
       "  <thead>\n",
       "    <tr style=\"text-align: right;\">\n",
       "      <th></th>\n",
       "      <th>name</th>\n",
       "      <th>english</th>\n",
       "      <th>math</th>\n",
       "      <th>gender</th>\n",
       "    </tr>\n",
       "  </thead>\n",
       "  <tbody>\n",
       "    <tr>\n",
       "      <th>1</th>\n",
       "      <td>B</td>\n",
       "      <td>90</td>\n",
       "      <td>80</td>\n",
       "      <td>m</td>\n",
       "    </tr>\n",
       "    <tr>\n",
       "      <th>3</th>\n",
       "      <td>D</td>\n",
       "      <td>90</td>\n",
       "      <td>100</td>\n",
       "      <td>f</td>\n",
       "    </tr>\n",
       "    <tr>\n",
       "      <th>2</th>\n",
       "      <td>C</td>\n",
       "      <td>80</td>\n",
       "      <td>90</td>\n",
       "      <td>m</td>\n",
       "    </tr>\n",
       "    <tr>\n",
       "      <th>0</th>\n",
       "      <td>A</td>\n",
       "      <td>60</td>\n",
       "      <td>70</td>\n",
       "      <td>f</td>\n",
       "    </tr>\n",
       "  </tbody>\n",
       "</table>\n",
       "</div>"
      ],
      "text/plain": [
       "  name  english  math gender\n",
       "1    B       90    80      m\n",
       "3    D       90   100      f\n",
       "2    C       80    90      m\n",
       "0    A       60    70      f"
      ]
     },
     "execution_count": 69,
     "metadata": {},
     "output_type": "execute_result"
    }
   ],
   "source": [
    "x"
   ]
  },
  {
   "cell_type": "code",
   "execution_count": 70,
   "id": "5c47e470",
   "metadata": {},
   "outputs": [],
   "source": [
    "A = my_df.iloc[:, [1,2]].values"
   ]
  },
  {
   "cell_type": "code",
   "execution_count": 71,
   "id": "7a729a4b",
   "metadata": {},
   "outputs": [
    {
     "data": {
      "text/plain": [
       "array([[ 60,  70],\n",
       "       [ 90,  80],\n",
       "       [ 80,  90],\n",
       "       [ 90, 100]])"
      ]
     },
     "execution_count": 71,
     "metadata": {},
     "output_type": "execute_result"
    }
   ],
   "source": [
    "A"
   ]
  },
  {
   "cell_type": "code",
   "execution_count": 72,
   "id": "ade77e0d",
   "metadata": {},
   "outputs": [
    {
     "data": {
      "text/html": [
       "<div>\n",
       "<style scoped>\n",
       "    .dataframe tbody tr th:only-of-type {\n",
       "        vertical-align: middle;\n",
       "    }\n",
       "\n",
       "    .dataframe tbody tr th {\n",
       "        vertical-align: top;\n",
       "    }\n",
       "\n",
       "    .dataframe thead th {\n",
       "        text-align: right;\n",
       "    }\n",
       "</style>\n",
       "<table border=\"1\" class=\"dataframe\">\n",
       "  <thead>\n",
       "    <tr style=\"text-align: right;\">\n",
       "      <th></th>\n",
       "      <th>0</th>\n",
       "      <th>1</th>\n",
       "    </tr>\n",
       "  </thead>\n",
       "  <tbody>\n",
       "    <tr>\n",
       "      <th>0</th>\n",
       "      <td>60</td>\n",
       "      <td>70</td>\n",
       "    </tr>\n",
       "    <tr>\n",
       "      <th>1</th>\n",
       "      <td>90</td>\n",
       "      <td>80</td>\n",
       "    </tr>\n",
       "    <tr>\n",
       "      <th>2</th>\n",
       "      <td>80</td>\n",
       "      <td>90</td>\n",
       "    </tr>\n",
       "    <tr>\n",
       "      <th>3</th>\n",
       "      <td>90</td>\n",
       "      <td>100</td>\n",
       "    </tr>\n",
       "  </tbody>\n",
       "</table>\n",
       "</div>"
      ],
      "text/plain": [
       "    0    1\n",
       "0  60   70\n",
       "1  90   80\n",
       "2  80   90\n",
       "3  90  100"
      ]
     },
     "execution_count": 72,
     "metadata": {},
     "output_type": "execute_result"
    }
   ],
   "source": [
    "pd.DataFrame(A)"
   ]
  },
  {
   "cell_type": "code",
   "execution_count": 73,
   "id": "fe46a53e",
   "metadata": {},
   "outputs": [
    {
     "data": {
      "text/plain": [
       "array([[ 60,  90,  80,  90],\n",
       "       [ 70,  80,  90, 100]])"
      ]
     },
     "execution_count": 73,
     "metadata": {},
     "output_type": "execute_result"
    }
   ],
   "source": [
    "A.T"
   ]
  },
  {
   "cell_type": "code",
   "execution_count": 74,
   "id": "173fe461",
   "metadata": {},
   "outputs": [
    {
     "data": {
      "text/plain": [
       "array([[26200, 27600],\n",
       "       [27600, 29400]])"
      ]
     },
     "execution_count": 74,
     "metadata": {},
     "output_type": "execute_result"
    }
   ],
   "source": [
    "A.T @ A"
   ]
  },
  {
   "cell_type": "code",
   "execution_count": 75,
   "id": "6019265a",
   "metadata": {},
   "outputs": [],
   "source": [
    "my_df = pd.DataFrame({\n",
    "    'day' : [25,26,27],\n",
    "    'min' : [20,21,15],\n",
    "    'max': [24,27,21]\n",
    "})"
   ]
  },
  {
   "cell_type": "code",
   "execution_count": 76,
   "id": "9a1e939c",
   "metadata": {},
   "outputs": [],
   "source": [
    "my_longer = my_df.melt(id_vars = 'day')"
   ]
  },
  {
   "cell_type": "code",
   "execution_count": 77,
   "id": "32e88afc",
   "metadata": {},
   "outputs": [
    {
     "data": {
      "text/html": [
       "<div>\n",
       "<style scoped>\n",
       "    .dataframe tbody tr th:only-of-type {\n",
       "        vertical-align: middle;\n",
       "    }\n",
       "\n",
       "    .dataframe tbody tr th {\n",
       "        vertical-align: top;\n",
       "    }\n",
       "\n",
       "    .dataframe thead th {\n",
       "        text-align: right;\n",
       "    }\n",
       "</style>\n",
       "<table border=\"1\" class=\"dataframe\">\n",
       "  <thead>\n",
       "    <tr style=\"text-align: right;\">\n",
       "      <th></th>\n",
       "      <th>day</th>\n",
       "      <th>variable</th>\n",
       "      <th>value</th>\n",
       "    </tr>\n",
       "  </thead>\n",
       "  <tbody>\n",
       "    <tr>\n",
       "      <th>0</th>\n",
       "      <td>25</td>\n",
       "      <td>min</td>\n",
       "      <td>20</td>\n",
       "    </tr>\n",
       "    <tr>\n",
       "      <th>1</th>\n",
       "      <td>26</td>\n",
       "      <td>min</td>\n",
       "      <td>21</td>\n",
       "    </tr>\n",
       "    <tr>\n",
       "      <th>2</th>\n",
       "      <td>27</td>\n",
       "      <td>min</td>\n",
       "      <td>15</td>\n",
       "    </tr>\n",
       "    <tr>\n",
       "      <th>3</th>\n",
       "      <td>25</td>\n",
       "      <td>max</td>\n",
       "      <td>24</td>\n",
       "    </tr>\n",
       "    <tr>\n",
       "      <th>4</th>\n",
       "      <td>26</td>\n",
       "      <td>max</td>\n",
       "      <td>27</td>\n",
       "    </tr>\n",
       "    <tr>\n",
       "      <th>5</th>\n",
       "      <td>27</td>\n",
       "      <td>max</td>\n",
       "      <td>21</td>\n",
       "    </tr>\n",
       "  </tbody>\n",
       "</table>\n",
       "</div>"
      ],
      "text/plain": [
       "   day variable  value\n",
       "0   25      min     20\n",
       "1   26      min     21\n",
       "2   27      min     15\n",
       "3   25      max     24\n",
       "4   26      max     27\n",
       "5   27      max     21"
      ]
     },
     "execution_count": 77,
     "metadata": {},
     "output_type": "execute_result"
    }
   ],
   "source": [
    "my_longer"
   ]
  },
  {
   "cell_type": "code",
   "execution_count": 79,
   "id": "7be0f7df",
   "metadata": {},
   "outputs": [],
   "source": [
    "my_wider = my_longer.pivot(\n",
    "index = 'day',\n",
    "columns = 'variable',\n",
    "values = 'value')"
   ]
  },
  {
   "cell_type": "code",
   "execution_count": 81,
   "id": "65b84d38",
   "metadata": {},
   "outputs": [
    {
     "data": {
      "text/html": [
       "<div>\n",
       "<style scoped>\n",
       "    .dataframe tbody tr th:only-of-type {\n",
       "        vertical-align: middle;\n",
       "    }\n",
       "\n",
       "    .dataframe tbody tr th {\n",
       "        vertical-align: top;\n",
       "    }\n",
       "\n",
       "    .dataframe thead th {\n",
       "        text-align: right;\n",
       "    }\n",
       "</style>\n",
       "<table border=\"1\" class=\"dataframe\">\n",
       "  <thead>\n",
       "    <tr style=\"text-align: right;\">\n",
       "      <th>variable</th>\n",
       "      <th>max</th>\n",
       "      <th>min</th>\n",
       "    </tr>\n",
       "    <tr>\n",
       "      <th>day</th>\n",
       "      <th></th>\n",
       "      <th></th>\n",
       "    </tr>\n",
       "  </thead>\n",
       "  <tbody>\n",
       "    <tr>\n",
       "      <th>25</th>\n",
       "      <td>24</td>\n",
       "      <td>20</td>\n",
       "    </tr>\n",
       "    <tr>\n",
       "      <th>26</th>\n",
       "      <td>27</td>\n",
       "      <td>21</td>\n",
       "    </tr>\n",
       "    <tr>\n",
       "      <th>27</th>\n",
       "      <td>21</td>\n",
       "      <td>15</td>\n",
       "    </tr>\n",
       "  </tbody>\n",
       "</table>\n",
       "</div>"
      ],
      "text/plain": [
       "variable  max  min\n",
       "day               \n",
       "25         24   20\n",
       "26         27   21\n",
       "27         21   15"
      ]
     },
     "execution_count": 81,
     "metadata": {},
     "output_type": "execute_result"
    }
   ],
   "source": [
    "my_wider"
   ]
  },
  {
   "cell_type": "code",
   "execution_count": 82,
   "id": "8c2381fc",
   "metadata": {},
   "outputs": [
    {
     "data": {
      "text/plain": [
       "<AxesSubplot:xlabel='day', ylabel='temperature'>"
      ]
     },
     "execution_count": 82,
     "metadata": {},
     "output_type": "execute_result"
    },
    {
     "data": {
      "image/png": "[encoded data removed]",
      "text/plain": [
       "<Figure size 432x288 with 1 Axes>"
      ]
     },
     "metadata": {
      "needs_background": "light"
     },
     "output_type": "display_data"
    }
   ],
   "source": [
    "my_wider.plot(style='o-', xticks=my_wider.index, ylabel='temperature')"
   ]
  },
  {
   "cell_type": "code",
   "execution_count": 83,
   "id": "8499a267",
   "metadata": {},
   "outputs": [
    {
     "data": {
      "text/plain": [
       "24.0"
      ]
     },
     "execution_count": 83,
     "metadata": {},
     "output_type": "execute_result"
    }
   ],
   "source": [
    "import numpy as np\n",
    "from scipy.spatial import distance\n",
    "from scipy.stats import pearsonr\n",
    "\n",
    "A = np.array([3,4,5])\n",
    "B = np.array([3,4,29])\n",
    "C = np.array([9,-18, 8])\n",
    "\n",
    "distance.euclidean(A,B)"
   ]
  },
  {
   "cell_type": "code",
   "execution_count": 84,
   "id": "bdd28118",
   "metadata": {},
   "outputs": [
    {
     "data": {
      "text/plain": [
       "23.0"
      ]
     },
     "execution_count": 84,
     "metadata": {},
     "output_type": "execute_result"
    }
   ],
   "source": [
    "distance.euclidean(A,C)"
   ]
  },
  {
   "cell_type": "code",
   "execution_count": 85,
   "id": "23607ee8",
   "metadata": {},
   "outputs": [
    {
     "data": {
      "text/plain": [
       "24"
      ]
     },
     "execution_count": 85,
     "metadata": {},
     "output_type": "execute_result"
    }
   ],
   "source": [
    "distance.cityblock(A,B)"
   ]
  },
  {
   "cell_type": "code",
   "execution_count": 86,
   "id": "8339c0c0",
   "metadata": {},
   "outputs": [
    {
     "data": {
      "text/plain": [
       "31"
      ]
     },
     "execution_count": 86,
     "metadata": {},
     "output_type": "execute_result"
    }
   ],
   "source": [
    "distance.cityblock(A,C)"
   ]
  },
  {
   "cell_type": "code",
   "execution_count": 87,
   "id": "a99d5b19",
   "metadata": {},
   "outputs": [
    {
     "data": {
      "text/plain": [
       "0.8169678632647616"
      ]
     },
     "execution_count": 87,
     "metadata": {},
     "output_type": "execute_result"
    }
   ],
   "source": [
    "1- distance.cosine(A,B)"
   ]
  },
  {
   "cell_type": "code",
   "execution_count": 88,
   "id": "c1115807",
   "metadata": {},
   "outputs": [
    {
     "data": {
      "text/plain": [
       "-0.032651157422416865"
      ]
     },
     "execution_count": 88,
     "metadata": {},
     "output_type": "execute_result"
    }
   ],
   "source": [
    "1 -distance.cosine(A,C)"
   ]
  },
  {
   "cell_type": "code",
   "execution_count": 89,
   "id": "4bcc0820",
   "metadata": {},
   "outputs": [
    {
     "data": {
      "text/plain": [
       "0.8824975032927698"
      ]
     },
     "execution_count": 89,
     "metadata": {},
     "output_type": "execute_result"
    }
   ],
   "source": [
    "1-distance.correlation(A,B)"
   ]
  },
  {
   "cell_type": "code",
   "execution_count": 90,
   "id": "43789ba2",
   "metadata": {},
   "outputs": [
    {
     "data": {
      "text/plain": [
       "-0.032662766723200676"
      ]
     },
     "execution_count": 90,
     "metadata": {},
     "output_type": "execute_result"
    }
   ],
   "source": [
    "1-distance.correlation(A,C)"
   ]
  },
  {
   "cell_type": "code",
   "execution_count": 92,
   "id": "2960c773",
   "metadata": {},
   "outputs": [
    {
     "data": {
      "text/plain": [
       "array([[ 0., 24., 23.],\n",
       "       [24.,  0., 31.],\n",
       "       [23., 31.,  0.]])"
      ]
     },
     "execution_count": 92,
     "metadata": {},
     "output_type": "execute_result"
    }
   ],
   "source": [
    "np.set_printoptions(precision = 3)\n",
    "import pandas as pd\n",
    "\n",
    "my_df = pd.DataFrame({\n",
    "    'x': [3,3,9],\n",
    "    'y': [4,4,-18],\n",
    "    'z': [5,29, 8]},\n",
    "    index=['A', 'B', 'C']\n",
    ")\n",
    "\n",
    "distance.cdist(my_df, my_df, metric = 'euclidean')"
   ]
  },
  {
   "cell_type": "code",
   "execution_count": 93,
   "id": "7bda170d",
   "metadata": {},
   "outputs": [
    {
     "data": {
      "text/plain": [
       "array([[ 0., 24., 31.],\n",
       "       [24.,  0., 49.],\n",
       "       [31., 49.,  0.]])"
      ]
     },
     "execution_count": 93,
     "metadata": {},
     "output_type": "execute_result"
    }
   ],
   "source": [
    "distance.cdist(my_df, my_df, metric = 'cityblock')"
   ]
  },
  {
   "cell_type": "code",
   "execution_count": 94,
   "id": "cfb66644",
   "metadata": {},
   "outputs": [
    {
     "data": {
      "text/plain": [
       "array([[ 1.   ,  0.817, -0.033],\n",
       "       [ 0.817,  1.   ,  0.293],\n",
       "       [-0.033,  0.293,  1.   ]])"
      ]
     },
     "execution_count": 94,
     "metadata": {},
     "output_type": "execute_result"
    }
   ],
   "source": [
    "1- distance.cdist(my_df, my_df, metric = 'cosine')"
   ]
  },
  {
   "cell_type": "code",
   "execution_count": 95,
   "id": "1493ce49",
   "metadata": {},
   "outputs": [
    {
     "data": {
      "text/plain": [
       "array([[ 1.   ,  0.882, -0.033],\n",
       "       [ 0.882,  1.   ,  0.441],\n",
       "       [-0.033,  0.441,  1.   ]])"
      ]
     },
     "execution_count": 95,
     "metadata": {},
     "output_type": "execute_result"
    }
   ],
   "source": [
    "1- distance.cdist(my_df, my_df, metric='correlation')"
   ]
  },
  {
   "cell_type": "code",
   "execution_count": 98,
   "id": "4b77a1d6",
   "metadata": {},
   "outputs": [],
   "source": [
    "def f1(x):\n",
    "    tmp = np.random.random(x)\n",
    "    return np.mean(tmp)"
   ]
  },
  {
   "cell_type": "code",
   "execution_count": 99,
   "id": "46c20ced",
   "metadata": {},
   "outputs": [
    {
     "data": {
      "text/plain": [
       "0.47705975282973423"
      ]
     },
     "execution_count": 99,
     "metadata": {},
     "output_type": "execute_result"
    }
   ],
   "source": [
    "f1(10)"
   ]
  },
  {
   "cell_type": "code",
   "execution_count": 100,
   "id": "b2abca46",
   "metadata": {},
   "outputs": [
    {
     "data": {
      "text/plain": [
       "[0.4873469539593402, 0.5014933557681174, 0.48400224061054953]"
      ]
     },
     "execution_count": 100,
     "metadata": {},
     "output_type": "execute_result"
    }
   ],
   "source": [
    "[f1(10) for i in range(3)]"
   ]
  },
  {
   "cell_type": "code",
   "execution_count": 101,
   "id": "fed86e55",
   "metadata": {},
   "outputs": [
    {
     "data": {
      "text/plain": [
       "[0.31460887833816936, 0.5037639453660592, 0.5062315185429854]"
      ]
     },
     "execution_count": 101,
     "metadata": {},
     "output_type": "execute_result"
    }
   ],
   "source": [
    "v = [5,10,100]\n",
    "[f1(x) for x in v]"
   ]
  },
  {
   "cell_type": "code",
   "execution_count": 102,
   "id": "4fffc6f6",
   "metadata": {},
   "outputs": [
    {
     "data": {
      "text/plain": [
       "0    0.378665\n",
       "1    0.538071\n",
       "2    0.475529\n",
       "dtype: float64"
      ]
     },
     "execution_count": 102,
     "metadata": {},
     "output_type": "execute_result"
    }
   ],
   "source": [
    "v = pd.Series([5,10,100])\n",
    "v.apply(f1)"
   ]
  },
  {
   "cell_type": "code",
   "execution_count": 103,
   "id": "7501099a",
   "metadata": {},
   "outputs": [
    {
     "data": {
      "text/plain": [
       "0    0.504209\n",
       "1    0.493779\n",
       "2    0.582885\n",
       "dtype: float64"
      ]
     },
     "execution_count": 103,
     "metadata": {},
     "output_type": "execute_result"
    }
   ],
   "source": [
    "pd.Series([10] * 3).apply(f1)"
   ]
  },
  {
   "cell_type": "code",
   "execution_count": 106,
   "id": "2d463c2a",
   "metadata": {},
   "outputs": [],
   "source": [
    "def f2(n):\n",
    "    tmp = np.random.random(n)\n",
    "    return pd.Series([\n",
    "        n,\n",
    "        tmp.mean(),\n",
    "        tmp.std(ddof=1),\n",
    "    ],\n",
    "    index=['x', 'p', 'q'])"
   ]
  },
  {
   "cell_type": "code",
   "execution_count": 107,
   "id": "f1759565",
   "metadata": {},
   "outputs": [
    {
     "data": {
      "text/plain": [
       "x    10.000000\n",
       "p     0.564381\n",
       "q     0.312267\n",
       "dtype: float64"
      ]
     },
     "execution_count": 107,
     "metadata": {},
     "output_type": "execute_result"
    }
   ],
   "source": [
    "f2(10)"
   ]
  },
  {
   "cell_type": "code",
   "execution_count": 108,
   "id": "ea1b86b1",
   "metadata": {},
   "outputs": [
    {
     "data": {
      "text/html": [
       "<div>\n",
       "<style scoped>\n",
       "    .dataframe tbody tr th:only-of-type {\n",
       "        vertical-align: middle;\n",
       "    }\n",
       "\n",
       "    .dataframe tbody tr th {\n",
       "        vertical-align: top;\n",
       "    }\n",
       "\n",
       "    .dataframe thead th {\n",
       "        text-align: right;\n",
       "    }\n",
       "</style>\n",
       "<table border=\"1\" class=\"dataframe\">\n",
       "  <thead>\n",
       "    <tr style=\"text-align: right;\">\n",
       "      <th></th>\n",
       "      <th>x</th>\n",
       "      <th>p</th>\n",
       "      <th>q</th>\n",
       "    </tr>\n",
       "  </thead>\n",
       "  <tbody>\n",
       "    <tr>\n",
       "      <th>0</th>\n",
       "      <td>5.0</td>\n",
       "      <td>0.560253</td>\n",
       "      <td>0.377049</td>\n",
       "    </tr>\n",
       "    <tr>\n",
       "      <th>1</th>\n",
       "      <td>10.0</td>\n",
       "      <td>0.600400</td>\n",
       "      <td>0.304577</td>\n",
       "    </tr>\n",
       "    <tr>\n",
       "      <th>2</th>\n",
       "      <td>100.0</td>\n",
       "      <td>0.532976</td>\n",
       "      <td>0.288281</td>\n",
       "    </tr>\n",
       "  </tbody>\n",
       "</table>\n",
       "</div>"
      ],
      "text/plain": [
       "       x         p         q\n",
       "0    5.0  0.560253  0.377049\n",
       "1   10.0  0.600400  0.304577\n",
       "2  100.0  0.532976  0.288281"
      ]
     },
     "execution_count": 108,
     "metadata": {},
     "output_type": "execute_result"
    }
   ],
   "source": [
    "v = pd.Series([5,10,100])\n",
    "v.apply(f2)"
   ]
  },
  {
   "cell_type": "code",
   "execution_count": 109,
   "id": "fc19ec80",
   "metadata": {},
   "outputs": [],
   "source": [
    "def f3(x,y):\n",
    "    tmp = np.random.random(x) * y\n",
    "    return pd.Series([\n",
    "        x,\n",
    "        y,\n",
    "        tmp.mean(),\n",
    "        tmp.std(ddof=1)\n",
    "    ],\n",
    "    index=['x', 'y', 'p', 'q'])"
   ]
  },
  {
   "cell_type": "code",
   "execution_count": 110,
   "id": "c1b7d536",
   "metadata": {},
   "outputs": [
    {
     "data": {
      "text/plain": [
       "x    10.000000\n",
       "y     6.000000\n",
       "p     4.134908\n",
       "q     1.675835\n",
       "dtype: float64"
      ]
     },
     "execution_count": 110,
     "metadata": {},
     "output_type": "execute_result"
    }
   ],
   "source": [
    "f3(10,6)"
   ]
  },
  {
   "cell_type": "code",
   "execution_count": 111,
   "id": "1b289e3b",
   "metadata": {},
   "outputs": [
    {
     "data": {
      "text/html": [
       "<div>\n",
       "<style scoped>\n",
       "    .dataframe tbody tr th:only-of-type {\n",
       "        vertical-align: middle;\n",
       "    }\n",
       "\n",
       "    .dataframe tbody tr th {\n",
       "        vertical-align: top;\n",
       "    }\n",
       "\n",
       "    .dataframe thead th {\n",
       "        text-align: right;\n",
       "    }\n",
       "</style>\n",
       "<table border=\"1\" class=\"dataframe\">\n",
       "  <thead>\n",
       "    <tr style=\"text-align: right;\">\n",
       "      <th></th>\n",
       "      <th>x</th>\n",
       "      <th>y</th>\n",
       "      <th>p</th>\n",
       "      <th>q</th>\n",
       "    </tr>\n",
       "  </thead>\n",
       "  <tbody>\n",
       "    <tr>\n",
       "      <th>0</th>\n",
       "      <td>5.0</td>\n",
       "      <td>6.0</td>\n",
       "      <td>3.131441</td>\n",
       "      <td>2.228573</td>\n",
       "    </tr>\n",
       "    <tr>\n",
       "      <th>1</th>\n",
       "      <td>10.0</td>\n",
       "      <td>6.0</td>\n",
       "      <td>3.417335</td>\n",
       "      <td>1.701377</td>\n",
       "    </tr>\n",
       "    <tr>\n",
       "      <th>2</th>\n",
       "      <td>100.0</td>\n",
       "      <td>6.0</td>\n",
       "      <td>2.870060</td>\n",
       "      <td>1.793418</td>\n",
       "    </tr>\n",
       "    <tr>\n",
       "      <th>3</th>\n",
       "      <td>5.0</td>\n",
       "      <td>12.0</td>\n",
       "      <td>4.985716</td>\n",
       "      <td>3.410391</td>\n",
       "    </tr>\n",
       "    <tr>\n",
       "      <th>4</th>\n",
       "      <td>10.0</td>\n",
       "      <td>12.0</td>\n",
       "      <td>4.598966</td>\n",
       "      <td>3.878396</td>\n",
       "    </tr>\n",
       "    <tr>\n",
       "      <th>5</th>\n",
       "      <td>100.0</td>\n",
       "      <td>12.0</td>\n",
       "      <td>6.189075</td>\n",
       "      <td>3.550593</td>\n",
       "    </tr>\n",
       "  </tbody>\n",
       "</table>\n",
       "</div>"
      ],
      "text/plain": [
       "       x     y         p         q\n",
       "0    5.0   6.0  3.131441  2.228573\n",
       "1   10.0   6.0  3.417335  1.701377\n",
       "2  100.0   6.0  2.870060  1.793418\n",
       "3    5.0  12.0  4.985716  3.410391\n",
       "4   10.0  12.0  4.598966  3.878396\n",
       "5  100.0  12.0  6.189075  3.550593"
      ]
     },
     "execution_count": 111,
     "metadata": {},
     "output_type": "execute_result"
    }
   ],
   "source": [
    "my_df = pd.DataFrame({\n",
    "    'x': [5,10,100,5,10,100],\n",
    "    'y': [6,6,6,12,12,12]\n",
    "})\n",
    "my_df.apply(\n",
    "lambda row: f3(row['x'], row['y']),\n",
    "axis=1)"
   ]
  },
  {
   "cell_type": "code",
   "execution_count": 112,
   "id": "48e4fb1a",
   "metadata": {},
   "outputs": [
    {
     "name": "stdout",
     "output_type": "stream",
     "text": [
      "INFO: Pandarallel will run on 4 workers.\n",
      "INFO: Pandarallel will use Memory file system to transfer data between the main process and workers.\n"
     ]
    },
    {
     "data": {
      "text/plain": [
       "0    0.607719\n",
       "1    0.575131\n",
       "2    0.467164\n",
       "dtype: float64"
      ]
     },
     "execution_count": 112,
     "metadata": {},
     "output_type": "execute_result"
    }
   ],
   "source": [
    "from pandarallel import pandarallel\n",
    "pandarallel.initialize()\n",
    "\n",
    "v = pd.Series([5,10,100])\n",
    "v.parallel_apply(f1)"
   ]
  },
  {
   "cell_type": "code",
   "execution_count": 113,
   "id": "b3e905e8",
   "metadata": {},
   "outputs": [
    {
     "name": "stdout",
     "output_type": "stream",
     "text": [
      "Variable      Type         Data/Info\n",
      "------------------------------------\n",
      "A             ndarray      3: 3 elems, type `int64`, 24 bytes\n",
      "B             ndarray      3: 3 elems, type `int64`, 24 bytes\n",
      "C             ndarray      3: 3 elems, type `int64`, 24 bytes\n",
      "c             int          4\n",
      "distance      module       <module 'scipy.spatial.di<...>ipy/spatial/distance.py'>\n",
      "f             function     <function f at 0x7fc7207c1820>\n",
      "f1            function     <function f1 at 0x7fc6da88b5e0>\n",
      "f12           function     <function f12 at 0x7fc6da88bd30>\n",
      "f2            function     <function f2 at 0x7fc6da88baf0>\n",
      "f3            function     <function f3 at 0x7fc6da88bc10>\n",
      "math          module       <module 'math' from '/opt<...>-38-x86_64-linux-gnu.so'>\n",
      "my_df         DataFrame         x   y\\n0    5   6\\n1<...>2\\n4   10  12\\n5  100  12\n",
      "my_df2        DataFrame      name  english  math gen<...>      90   100      f   4\n",
      "my_longer     DataFrame       day variable  value\\n0<...>7\\n5   27      max     21\n",
      "my_wider      DataFrame    variable  max  min\\nday  <...>   21\\n27         21   15\n",
      "np            module       <module 'numpy' from '/op<...>kages/numpy/__init__.py'>\n",
      "pandarallel   type         <class 'pandarallel.pandarallel.pandarallel'>\n",
      "pd            module       <module 'pandas' from '/o<...>ages/pandas/__init__.py'>\n",
      "pearsonr      function     <function pearsonr at 0x7fc6daafe040>\n",
      "product       type         <class 'itertools.product'>\n",
      "r             int          4\n",
      "tmp           int          90\n",
      "v             Series       0      5\\n1     10\\n2    100\\ndtype: int64\n",
      "x             DataFrame      name  english  math gen<...>  A       60    70      f\n",
      "y             list         n=3\n"
     ]
    }
   ],
   "source": [
    "%whos"
   ]
  },
  {
   "cell_type": "code",
   "execution_count": 114,
   "id": "a58de1f6",
   "metadata": {},
   "outputs": [],
   "source": [
    "x = [165,170,175,180,185]"
   ]
  },
  {
   "cell_type": "code",
   "execution_count": 115,
   "id": "5c3c7a19",
   "metadata": {},
   "outputs": [],
   "source": [
    "y = [173,174,175,176,177]"
   ]
  },
  {
   "cell_type": "code",
   "execution_count": 116,
   "id": "4028476e",
   "metadata": {},
   "outputs": [
    {
     "data": {
      "text/plain": [
       "62.5"
      ]
     },
     "execution_count": 116,
     "metadata": {},
     "output_type": "execute_result"
    }
   ],
   "source": [
    "np.var(x, ddof=1)"
   ]
  },
  {
   "cell_type": "code",
   "execution_count": 117,
   "id": "ea0d8264",
   "metadata": {},
   "outputs": [
    {
     "data": {
      "text/plain": [
       "7.905694150420948"
      ]
     },
     "execution_count": 117,
     "metadata": {},
     "output_type": "execute_result"
    }
   ],
   "source": [
    "np.std(x, ddof=1)"
   ]
  },
  {
   "cell_type": "code",
   "execution_count": 118,
   "id": "c2e04a35",
   "metadata": {},
   "outputs": [
    {
     "data": {
      "text/plain": [
       "count      5.000000\n",
       "mean     175.000000\n",
       "std        7.905694\n",
       "min      165.000000\n",
       "25%      170.000000\n",
       "50%      175.000000\n",
       "75%      180.000000\n",
       "max      185.000000\n",
       "dtype: float64"
      ]
     },
     "execution_count": 118,
     "metadata": {},
     "output_type": "execute_result"
    }
   ],
   "source": [
    "s = pd.Series(x)\n",
    "s.describe()"
   ]
  },
  {
   "cell_type": "code",
   "execution_count": 119,
   "id": "dffc6eb0",
   "metadata": {},
   "outputs": [
    {
     "data": {
      "text/plain": [
       "50.0"
      ]
     },
     "execution_count": 119,
     "metadata": {},
     "output_type": "execute_result"
    }
   ],
   "source": [
    "np.var(x,ddof=0)"
   ]
  },
  {
   "cell_type": "code",
   "execution_count": 120,
   "id": "10ceba53",
   "metadata": {},
   "outputs": [
    {
     "data": {
      "text/plain": [
       "3.5355339059327373"
      ]
     },
     "execution_count": 120,
     "metadata": {},
     "output_type": "execute_result"
    }
   ],
   "source": [
    "np.std(x,ddof=1) / len(x) **0.5\n",
    "\n"
   ]
  },
  {
   "cell_type": "code",
   "execution_count": 121,
   "id": "32b5bd71",
   "metadata": {},
   "outputs": [
    {
     "data": {
      "text/html": [
       "<div>\n",
       "<style scoped>\n",
       "    .dataframe tbody tr th:only-of-type {\n",
       "        vertical-align: middle;\n",
       "    }\n",
       "\n",
       "    .dataframe tbody tr th {\n",
       "        vertical-align: top;\n",
       "    }\n",
       "\n",
       "    .dataframe thead th {\n",
       "        text-align: right;\n",
       "    }\n",
       "</style>\n",
       "<table border=\"1\" class=\"dataframe\">\n",
       "  <thead>\n",
       "    <tr style=\"text-align: right;\">\n",
       "      <th></th>\n",
       "      <th>x</th>\n",
       "      <th>y</th>\n",
       "    </tr>\n",
       "  </thead>\n",
       "  <tbody>\n",
       "    <tr>\n",
       "      <th>0</th>\n",
       "      <td>5</td>\n",
       "      <td>6</td>\n",
       "    </tr>\n",
       "    <tr>\n",
       "      <th>1</th>\n",
       "      <td>10</td>\n",
       "      <td>6</td>\n",
       "    </tr>\n",
       "    <tr>\n",
       "      <th>2</th>\n",
       "      <td>100</td>\n",
       "      <td>6</td>\n",
       "    </tr>\n",
       "    <tr>\n",
       "      <th>3</th>\n",
       "      <td>5</td>\n",
       "      <td>12</td>\n",
       "    </tr>\n",
       "    <tr>\n",
       "      <th>4</th>\n",
       "      <td>10</td>\n",
       "      <td>12</td>\n",
       "    </tr>\n",
       "    <tr>\n",
       "      <th>5</th>\n",
       "      <td>100</td>\n",
       "      <td>12</td>\n",
       "    </tr>\n",
       "  </tbody>\n",
       "</table>\n",
       "</div>"
      ],
      "text/plain": [
       "     x   y\n",
       "0    5   6\n",
       "1   10   6\n",
       "2  100   6\n",
       "3    5  12\n",
       "4   10  12\n",
       "5  100  12"
      ]
     },
     "execution_count": 121,
     "metadata": {},
     "output_type": "execute_result"
    }
   ],
   "source": [
    "my_df"
   ]
  },
  {
   "cell_type": "code",
   "execution_count": 122,
   "id": "092648ee",
   "metadata": {},
   "outputs": [],
   "source": [
    "my_df = pd.DataFrame({\n",
    "    'name': ['A', 'B', 'C', 'D'],\n",
    "    'english': [60,90,70,90],\n",
    "    'math' : [70,80,90,100],\n",
    "    'gender': ['f', 'm', 'm', 'f']\n",
    "})"
   ]
  },
  {
   "cell_type": "code",
   "execution_count": 123,
   "id": "0dcd7699",
   "metadata": {},
   "outputs": [
    {
     "data": {
      "text/plain": [
       "225.0"
      ]
     },
     "execution_count": 123,
     "metadata": {},
     "output_type": "execute_result"
    }
   ],
   "source": [
    "my_df['english'].var(ddof=1)"
   ]
  },
  {
   "cell_type": "code",
   "execution_count": 124,
   "id": "2492e079",
   "metadata": {},
   "outputs": [
    {
     "data": {
      "text/plain": [
       "225.0"
      ]
     },
     "execution_count": 124,
     "metadata": {},
     "output_type": "execute_result"
    }
   ],
   "source": [
    "np.var(my_df['english'], ddof=1)"
   ]
  },
  {
   "cell_type": "code",
   "execution_count": 125,
   "id": "e32d69cb",
   "metadata": {},
   "outputs": [
    {
     "data": {
      "text/plain": [
       "english    225.000000\n",
       "math       166.666667\n",
       "dtype: float64"
      ]
     },
     "execution_count": 125,
     "metadata": {},
     "output_type": "execute_result"
    }
   ],
   "source": [
    "my_df.var()"
   ]
  },
  {
   "cell_type": "code",
   "execution_count": 126,
   "id": "27c8f7be",
   "metadata": {},
   "outputs": [
    {
     "data": {
      "text/plain": [
       "english    225.000000\n",
       "math       166.666667\n",
       "dtype: float64"
      ]
     },
     "execution_count": 126,
     "metadata": {},
     "output_type": "execute_result"
    }
   ],
   "source": [
    "my_df.apply('var')"
   ]
  },
  {
   "cell_type": "code",
   "execution_count": 128,
   "id": "b4a6047f",
   "metadata": {},
   "outputs": [
    {
     "data": {
      "text/plain": [
       "english    225.000000\n",
       "math       166.666667\n",
       "dtype: float64"
      ]
     },
     "execution_count": 128,
     "metadata": {},
     "output_type": "execute_result"
    }
   ],
   "source": [
    "my_df.iloc[:, [1,2]].apply(lambda x: np.var(x, ddof=1))"
   ]
  },
  {
   "cell_type": "code",
   "execution_count": 129,
   "id": "e1856065",
   "metadata": {},
   "outputs": [
    {
     "data": {
      "text/html": [
       "<div>\n",
       "<style scoped>\n",
       "    .dataframe tbody tr th:only-of-type {\n",
       "        vertical-align: middle;\n",
       "    }\n",
       "\n",
       "    .dataframe tbody tr th {\n",
       "        vertical-align: top;\n",
       "    }\n",
       "\n",
       "    .dataframe thead th {\n",
       "        text-align: right;\n",
       "    }\n",
       "</style>\n",
       "<table border=\"1\" class=\"dataframe\">\n",
       "  <thead>\n",
       "    <tr style=\"text-align: right;\">\n",
       "      <th></th>\n",
       "      <th>english</th>\n",
       "      <th>math</th>\n",
       "    </tr>\n",
       "  </thead>\n",
       "  <tbody>\n",
       "    <tr>\n",
       "      <th>count</th>\n",
       "      <td>4.0</td>\n",
       "      <td>4.000000</td>\n",
       "    </tr>\n",
       "    <tr>\n",
       "      <th>mean</th>\n",
       "      <td>77.5</td>\n",
       "      <td>85.000000</td>\n",
       "    </tr>\n",
       "    <tr>\n",
       "      <th>std</th>\n",
       "      <td>15.0</td>\n",
       "      <td>12.909944</td>\n",
       "    </tr>\n",
       "    <tr>\n",
       "      <th>min</th>\n",
       "      <td>60.0</td>\n",
       "      <td>70.000000</td>\n",
       "    </tr>\n",
       "    <tr>\n",
       "      <th>25%</th>\n",
       "      <td>67.5</td>\n",
       "      <td>77.500000</td>\n",
       "    </tr>\n",
       "    <tr>\n",
       "      <th>50%</th>\n",
       "      <td>80.0</td>\n",
       "      <td>85.000000</td>\n",
       "    </tr>\n",
       "    <tr>\n",
       "      <th>75%</th>\n",
       "      <td>90.0</td>\n",
       "      <td>92.500000</td>\n",
       "    </tr>\n",
       "    <tr>\n",
       "      <th>max</th>\n",
       "      <td>90.0</td>\n",
       "      <td>100.000000</td>\n",
       "    </tr>\n",
       "  </tbody>\n",
       "</table>\n",
       "</div>"
      ],
      "text/plain": [
       "       english        math\n",
       "count      4.0    4.000000\n",
       "mean      77.5   85.000000\n",
       "std       15.0   12.909944\n",
       "min       60.0   70.000000\n",
       "25%       67.5   77.500000\n",
       "50%       80.0   85.000000\n",
       "75%       90.0   92.500000\n",
       "max       90.0  100.000000"
      ]
     },
     "execution_count": 129,
     "metadata": {},
     "output_type": "execute_result"
    }
   ],
   "source": [
    "my_df.describe()"
   ]
  },
  {
   "cell_type": "code",
   "execution_count": 131,
   "id": "50688b6f",
   "metadata": {},
   "outputs": [
    {
     "data": {
      "text/plain": [
       "Counter({'f': 2, 'm': 2})"
      ]
     },
     "execution_count": 131,
     "metadata": {},
     "output_type": "execute_result"
    }
   ],
   "source": [
    "from collections import Counter\n",
    "Counter(my_df.gender)"
   ]
  },
  {
   "cell_type": "code",
   "execution_count": 132,
   "id": "712de374",
   "metadata": {},
   "outputs": [
    {
     "data": {
      "text/plain": [
       "gender\n",
       "f    2\n",
       "m    2\n",
       "dtype: int64"
      ]
     },
     "execution_count": 132,
     "metadata": {},
     "output_type": "execute_result"
    }
   ],
   "source": [
    "my_df.groupby('gender').apply(len)"
   ]
  },
  {
   "cell_type": "code",
   "execution_count": 133,
   "id": "001a69bb",
   "metadata": {},
   "outputs": [
    {
     "data": {
      "text/html": [
       "<div>\n",
       "<style scoped>\n",
       "    .dataframe tbody tr th:only-of-type {\n",
       "        vertical-align: middle;\n",
       "    }\n",
       "\n",
       "    .dataframe tbody tr th {\n",
       "        vertical-align: top;\n",
       "    }\n",
       "\n",
       "    .dataframe thead th {\n",
       "        text-align: right;\n",
       "    }\n",
       "</style>\n",
       "<table border=\"1\" class=\"dataframe\">\n",
       "  <thead>\n",
       "    <tr style=\"text-align: right;\">\n",
       "      <th>excel</th>\n",
       "      <th>False</th>\n",
       "      <th>True</th>\n",
       "    </tr>\n",
       "    <tr>\n",
       "      <th>gender</th>\n",
       "      <th></th>\n",
       "      <th></th>\n",
       "    </tr>\n",
       "  </thead>\n",
       "  <tbody>\n",
       "    <tr>\n",
       "      <th>f</th>\n",
       "      <td>1</td>\n",
       "      <td>1</td>\n",
       "    </tr>\n",
       "    <tr>\n",
       "      <th>m</th>\n",
       "      <td>0</td>\n",
       "      <td>2</td>\n",
       "    </tr>\n",
       "  </tbody>\n",
       "</table>\n",
       "</div>"
      ],
      "text/plain": [
       "excel   False  True \n",
       "gender              \n",
       "f           1      1\n",
       "m           0      2"
      ]
     },
     "execution_count": 133,
     "metadata": {},
     "output_type": "execute_result"
    }
   ],
   "source": [
    "my_df2 = my_df.assign(\n",
    "excel = my_df.math >= 80)\n",
    "pd.crosstab(my_df2.gender, my_df2.excel)"
   ]
  },
  {
   "cell_type": "code",
   "execution_count": 134,
   "id": "4ce77cb0",
   "metadata": {},
   "outputs": [
    {
     "data": {
      "text/html": [
       "<div>\n",
       "<style scoped>\n",
       "    .dataframe tbody tr th:only-of-type {\n",
       "        vertical-align: middle;\n",
       "    }\n",
       "\n",
       "    .dataframe tbody tr th {\n",
       "        vertical-align: top;\n",
       "    }\n",
       "\n",
       "    .dataframe thead th {\n",
       "        text-align: right;\n",
       "    }\n",
       "</style>\n",
       "<table border=\"1\" class=\"dataframe\">\n",
       "  <thead>\n",
       "    <tr style=\"text-align: right;\">\n",
       "      <th></th>\n",
       "      <th>english</th>\n",
       "      <th>math</th>\n",
       "    </tr>\n",
       "    <tr>\n",
       "      <th>gender</th>\n",
       "      <th></th>\n",
       "      <th></th>\n",
       "    </tr>\n",
       "  </thead>\n",
       "  <tbody>\n",
       "    <tr>\n",
       "      <th>f</th>\n",
       "      <td>75</td>\n",
       "      <td>85</td>\n",
       "    </tr>\n",
       "    <tr>\n",
       "      <th>m</th>\n",
       "      <td>80</td>\n",
       "      <td>85</td>\n",
       "    </tr>\n",
       "  </tbody>\n",
       "</table>\n",
       "</div>"
      ],
      "text/plain": [
       "        english  math\n",
       "gender               \n",
       "f            75    85\n",
       "m            80    85"
      ]
     },
     "execution_count": 134,
     "metadata": {},
     "output_type": "execute_result"
    }
   ],
   "source": [
    "my_df.groupby('gender').mean()"
   ]
  },
  {
   "cell_type": "code",
   "execution_count": 135,
   "id": "6d373c82",
   "metadata": {},
   "outputs": [
    {
     "data": {
      "text/html": [
       "<div>\n",
       "<style scoped>\n",
       "    .dataframe tbody tr th:only-of-type {\n",
       "        vertical-align: middle;\n",
       "    }\n",
       "\n",
       "    .dataframe tbody tr th {\n",
       "        vertical-align: top;\n",
       "    }\n",
       "\n",
       "    .dataframe thead th {\n",
       "        text-align: right;\n",
       "    }\n",
       "</style>\n",
       "<table border=\"1\" class=\"dataframe\">\n",
       "  <thead>\n",
       "    <tr style=\"text-align: right;\">\n",
       "      <th></th>\n",
       "      <th>english</th>\n",
       "      <th>math</th>\n",
       "    </tr>\n",
       "    <tr>\n",
       "      <th>gender</th>\n",
       "      <th></th>\n",
       "      <th></th>\n",
       "    </tr>\n",
       "  </thead>\n",
       "  <tbody>\n",
       "    <tr>\n",
       "      <th>f</th>\n",
       "      <td>75</td>\n",
       "      <td>85</td>\n",
       "    </tr>\n",
       "    <tr>\n",
       "      <th>m</th>\n",
       "      <td>80</td>\n",
       "      <td>85</td>\n",
       "    </tr>\n",
       "  </tbody>\n",
       "</table>\n",
       "</div>"
      ],
      "text/plain": [
       "        english  math\n",
       "gender               \n",
       "f            75    85\n",
       "m            80    85"
      ]
     },
     "execution_count": 135,
     "metadata": {},
     "output_type": "execute_result"
    }
   ],
   "source": [
    "my_df.groupby('gender').agg('mean')"
   ]
  },
  {
   "cell_type": "code",
   "execution_count": 136,
   "id": "a7fc8f89",
   "metadata": {},
   "outputs": [
    {
     "data": {
      "text/html": [
       "<div>\n",
       "<style scoped>\n",
       "    .dataframe tbody tr th:only-of-type {\n",
       "        vertical-align: middle;\n",
       "    }\n",
       "\n",
       "    .dataframe tbody tr th {\n",
       "        vertical-align: top;\n",
       "    }\n",
       "\n",
       "    .dataframe thead th {\n",
       "        text-align: right;\n",
       "    }\n",
       "</style>\n",
       "<table border=\"1\" class=\"dataframe\">\n",
       "  <thead>\n",
       "    <tr style=\"text-align: right;\">\n",
       "      <th></th>\n",
       "      <th>english</th>\n",
       "      <th>math</th>\n",
       "    </tr>\n",
       "    <tr>\n",
       "      <th>gender</th>\n",
       "      <th></th>\n",
       "      <th></th>\n",
       "    </tr>\n",
       "  </thead>\n",
       "  <tbody>\n",
       "    <tr>\n",
       "      <th>f</th>\n",
       "      <td>75</td>\n",
       "      <td>85</td>\n",
       "    </tr>\n",
       "    <tr>\n",
       "      <th>m</th>\n",
       "      <td>80</td>\n",
       "      <td>85</td>\n",
       "    </tr>\n",
       "  </tbody>\n",
       "</table>\n",
       "</div>"
      ],
      "text/plain": [
       "        english  math\n",
       "gender               \n",
       "f            75    85\n",
       "m            80    85"
      ]
     },
     "execution_count": 136,
     "metadata": {},
     "output_type": "execute_result"
    }
   ],
   "source": [
    "my_df.groupby('gender').agg(np.mean)"
   ]
  },
  {
   "cell_type": "code",
   "execution_count": 137,
   "id": "f9d7b0e7",
   "metadata": {},
   "outputs": [
    {
     "data": {
      "text/html": [
       "<div>\n",
       "<style scoped>\n",
       "    .dataframe tbody tr th:only-of-type {\n",
       "        vertical-align: middle;\n",
       "    }\n",
       "\n",
       "    .dataframe tbody tr th {\n",
       "        vertical-align: top;\n",
       "    }\n",
       "\n",
       "    .dataframe thead th {\n",
       "        text-align: right;\n",
       "    }\n",
       "</style>\n",
       "<table border=\"1\" class=\"dataframe\">\n",
       "  <thead>\n",
       "    <tr style=\"text-align: right;\">\n",
       "      <th></th>\n",
       "      <th>Sepal.Length</th>\n",
       "      <th>Sepal.Width</th>\n",
       "      <th>Petal.Length</th>\n",
       "      <th>Petal.Width</th>\n",
       "      <th>Species</th>\n",
       "    </tr>\n",
       "  </thead>\n",
       "  <tbody>\n",
       "    <tr>\n",
       "      <th>0</th>\n",
       "      <td>5.1</td>\n",
       "      <td>3.5</td>\n",
       "      <td>1.4</td>\n",
       "      <td>0.2</td>\n",
       "      <td>setosa</td>\n",
       "    </tr>\n",
       "    <tr>\n",
       "      <th>1</th>\n",
       "      <td>4.9</td>\n",
       "      <td>3.0</td>\n",
       "      <td>1.4</td>\n",
       "      <td>0.2</td>\n",
       "      <td>setosa</td>\n",
       "    </tr>\n",
       "    <tr>\n",
       "      <th>2</th>\n",
       "      <td>4.7</td>\n",
       "      <td>3.2</td>\n",
       "      <td>1.3</td>\n",
       "      <td>0.2</td>\n",
       "      <td>setosa</td>\n",
       "    </tr>\n",
       "    <tr>\n",
       "      <th>3</th>\n",
       "      <td>4.6</td>\n",
       "      <td>3.1</td>\n",
       "      <td>1.5</td>\n",
       "      <td>0.2</td>\n",
       "      <td>setosa</td>\n",
       "    </tr>\n",
       "    <tr>\n",
       "      <th>4</th>\n",
       "      <td>5.0</td>\n",
       "      <td>3.6</td>\n",
       "      <td>1.4</td>\n",
       "      <td>0.2</td>\n",
       "      <td>setosa</td>\n",
       "    </tr>\n",
       "  </tbody>\n",
       "</table>\n",
       "</div>"
      ],
      "text/plain": [
       "   Sepal.Length  Sepal.Width  Petal.Length  Petal.Width Species\n",
       "0           5.1          3.5           1.4          0.2  setosa\n",
       "1           4.9          3.0           1.4          0.2  setosa\n",
       "2           4.7          3.2           1.3          0.2  setosa\n",
       "3           4.6          3.1           1.5          0.2  setosa\n",
       "4           5.0          3.6           1.4          0.2  setosa"
      ]
     },
     "execution_count": 137,
     "metadata": {},
     "output_type": "execute_result"
    }
   ],
   "source": [
    "import statsmodels.api as sm\n",
    "iris = sm.datasets.get_rdataset('iris', 'datasets').data\n",
    "iris.head()"
   ]
  },
  {
   "cell_type": "code",
   "execution_count": 138,
   "id": "b568bcc6",
   "metadata": {},
   "outputs": [
    {
     "data": {
      "text/plain": [
       "array([[<AxesSubplot:title={'center':'Sepal.Length'}>]], dtype=object)"
      ]
     },
     "execution_count": 138,
     "metadata": {},
     "output_type": "execute_result"
    },
    {
     "data": {
      "image/png": "[encoded data removed]",
      "text/plain": [
       "<Figure size 432x288 with 1 Axes>"
      ]
     },
     "metadata": {
      "needs_background": "light"
     },
     "output_type": "display_data"
    }
   ],
   "source": [
    "iris.hist('Sepal.Length')"
   ]
  },
  {
   "cell_type": "code",
   "execution_count": 139,
   "id": "fdca303f",
   "metadata": {},
   "outputs": [
    {
     "data": {
      "text/plain": [
       "array([[<AxesSubplot:title={'center':'x'}>]], dtype=object)"
      ]
     },
     "execution_count": 139,
     "metadata": {},
     "output_type": "execute_result"
    },
    {
     "data": {
      "image/png": "[encoded data removed]",
      "text/plain": [
       "<Figure size 432x288 with 1 Axes>"
      ]
     },
     "metadata": {
      "needs_background": "light"
     },
     "output_type": "display_data"
    }
   ],
   "source": [
    "my_df = pd.DataFrame({'x': [10,20,30]})\n",
    "my_df.hist('x', bins=2\n",
    "          )"
   ]
  },
  {
   "cell_type": "code",
   "execution_count": 140,
   "id": "b8e30b9c",
   "metadata": {},
   "outputs": [
    {
     "data": {
      "text/plain": [
       "array([[<AxesSubplot:title={'center':'Sepal.Length'}>]], dtype=object)"
      ]
     },
     "execution_count": 140,
     "metadata": {},
     "output_type": "execute_result"
    },
    {
     "data": {
      "image/png": "[encoded data removed]",
      "text/plain": [
       "<Figure size 432x288 with 1 Axes>"
      ]
     },
     "metadata": {
      "needs_background": "light"
     },
     "output_type": "display_data"
    }
   ],
   "source": [
    "x = iris['Sepal.Length']\n",
    "tmp = np.linspace(min(x), max(x), 10)\n",
    "iris.hist('Sepal.Length', bins = tmp.round(2))"
   ]
  },
  {
   "cell_type": "code",
   "execution_count": 141,
   "id": "0e8f416e",
   "metadata": {},
   "outputs": [
    {
     "data": {
      "text/plain": [
       "<AxesSubplot:xlabel='Sepal.Length', ylabel='Sepal.Width'>"
      ]
     },
     "execution_count": 141,
     "metadata": {},
     "output_type": "execute_result"
    },
    {
     "data": {
      "image/png": "[encoded data removed]",
      "text/plain": [
       "<Figure size 432x288 with 1 Axes>"
      ]
     },
     "metadata": {
      "needs_background": "light"
     },
     "output_type": "display_data"
    }
   ],
   "source": [
    "iris.plot('Sepal.Length', 'Sepal.Width', kind='scatter')"
   ]
  },
  {
   "cell_type": "code",
   "execution_count": 142,
   "id": "d19d3861",
   "metadata": {},
   "outputs": [
    {
     "data": {
      "text/plain": [
       "<AxesSubplot:>"
      ]
     },
     "execution_count": 142,
     "metadata": {},
     "output_type": "execute_result"
    },
    {
     "data": {
      "image/png": "[encoded data removed]",
      "text/plain": [
       "<Figure size 432x288 with 1 Axes>"
      ]
     },
     "metadata": {
      "needs_background": "light"
     },
     "output_type": "display_data"
    }
   ],
   "source": [
    "iris.boxplot()"
   ]
  },
  {
   "cell_type": "code",
   "execution_count": 144,
   "id": "78a4d55b",
   "metadata": {},
   "outputs": [],
   "source": [
    "pd.options.display.float_format = (\n",
    "    '{:.2f}'.format\n",
    ")\n",
    "my_df = (iris.describe().transpose()\n",
    "        [['mean', 'std']])\n",
    "my_df['se'] = (my_df['std'] / len(iris)**0.5)"
   ]
  },
  {
   "cell_type": "code",
   "execution_count": 145,
   "id": "8a698991",
   "metadata": {},
   "outputs": [
    {
     "data": {
      "text/html": [
       "<div>\n",
       "<style scoped>\n",
       "    .dataframe tbody tr th:only-of-type {\n",
       "        vertical-align: middle;\n",
       "    }\n",
       "\n",
       "    .dataframe tbody tr th {\n",
       "        vertical-align: top;\n",
       "    }\n",
       "\n",
       "    .dataframe thead th {\n",
       "        text-align: right;\n",
       "    }\n",
       "</style>\n",
       "<table border=\"1\" class=\"dataframe\">\n",
       "  <thead>\n",
       "    <tr style=\"text-align: right;\">\n",
       "      <th></th>\n",
       "      <th>mean</th>\n",
       "      <th>std</th>\n",
       "      <th>se</th>\n",
       "    </tr>\n",
       "  </thead>\n",
       "  <tbody>\n",
       "    <tr>\n",
       "      <th>Sepal.Length</th>\n",
       "      <td>5.84</td>\n",
       "      <td>0.83</td>\n",
       "      <td>0.07</td>\n",
       "    </tr>\n",
       "    <tr>\n",
       "      <th>Sepal.Width</th>\n",
       "      <td>3.06</td>\n",
       "      <td>0.44</td>\n",
       "      <td>0.04</td>\n",
       "    </tr>\n",
       "    <tr>\n",
       "      <th>Petal.Length</th>\n",
       "      <td>3.76</td>\n",
       "      <td>1.77</td>\n",
       "      <td>0.14</td>\n",
       "    </tr>\n",
       "    <tr>\n",
       "      <th>Petal.Width</th>\n",
       "      <td>1.20</td>\n",
       "      <td>0.76</td>\n",
       "      <td>0.06</td>\n",
       "    </tr>\n",
       "  </tbody>\n",
       "</table>\n",
       "</div>"
      ],
      "text/plain": [
       "              mean  std   se\n",
       "Sepal.Length  5.84 0.83 0.07\n",
       "Sepal.Width   3.06 0.44 0.04\n",
       "Petal.Length  3.76 1.77 0.14\n",
       "Petal.Width   1.20 0.76 0.06"
      ]
     },
     "execution_count": 145,
     "metadata": {},
     "output_type": "execute_result"
    }
   ],
   "source": [
    "my_df"
   ]
  },
  {
   "cell_type": "code",
   "execution_count": 146,
   "id": "c7083771",
   "metadata": {},
   "outputs": [
    {
     "data": {
      "text/plain": [
       "<AxesSubplot:>"
      ]
     },
     "execution_count": 146,
     "metadata": {},
     "output_type": "execute_result"
    },
    {
     "data": {
      "image/png": "[encoded data removed]",
      "text/plain": [
       "<Figure size 432x288 with 1 Axes>"
      ]
     },
     "metadata": {
      "needs_background": "light"
     },
     "output_type": "display_data"
    }
   ],
   "source": [
    "my_df.plot(y='mean', kind='bar', yerr='se', capsize=10)"
   ]
  },
  {
   "cell_type": "code",
   "execution_count": 147,
   "id": "f869fa76",
   "metadata": {},
   "outputs": [],
   "source": [
    "my_group = iris.groupby('Species')\n",
    "my_df = my_group.agg('mean')\n",
    "my_se = my_group.agg(lambda x: x.std() / len(x)**0.5)"
   ]
  },
  {
   "cell_type": "code",
   "execution_count": 148,
   "id": "11f61107",
   "metadata": {},
   "outputs": [
    {
     "data": {
      "text/plain": [
       "<AxesSubplot:xlabel='Species'>"
      ]
     },
     "execution_count": 148,
     "metadata": {},
     "output_type": "execute_result"
    },
    {
     "data": {
      "image/png": "[encoded data removed]",
      "text/plain": [
       "<Figure size 432x288 with 1 Axes>"
      ]
     },
     "metadata": {
      "needs_background": "light"
     },
     "output_type": "display_data"
    }
   ],
   "source": [
    "my_group.agg('mean').plot(kind='bar', yerr=my_se, capsize=5)"
   ]
  },
  {
   "cell_type": "code",
   "execution_count": 149,
   "id": "83ea36e0",
   "metadata": {},
   "outputs": [
    {
     "data": {
      "text/html": [
       "<div>\n",
       "<style scoped>\n",
       "    .dataframe tbody tr th:only-of-type {\n",
       "        vertical-align: middle;\n",
       "    }\n",
       "\n",
       "    .dataframe tbody tr th {\n",
       "        vertical-align: top;\n",
       "    }\n",
       "\n",
       "    .dataframe thead th {\n",
       "        text-align: right;\n",
       "    }\n",
       "</style>\n",
       "<table border=\"1\" class=\"dataframe\">\n",
       "  <thead>\n",
       "    <tr style=\"text-align: right;\">\n",
       "      <th>w_Sepal</th>\n",
       "      <th>False</th>\n",
       "      <th>True</th>\n",
       "    </tr>\n",
       "    <tr>\n",
       "      <th>Species</th>\n",
       "      <th></th>\n",
       "      <th></th>\n",
       "    </tr>\n",
       "  </thead>\n",
       "  <tbody>\n",
       "    <tr>\n",
       "      <th>setosa</th>\n",
       "      <td>8</td>\n",
       "      <td>42</td>\n",
       "    </tr>\n",
       "    <tr>\n",
       "      <th>versicolor</th>\n",
       "      <td>42</td>\n",
       "      <td>8</td>\n",
       "    </tr>\n",
       "    <tr>\n",
       "      <th>virginica</th>\n",
       "      <td>33</td>\n",
       "      <td>17</td>\n",
       "    </tr>\n",
       "  </tbody>\n",
       "</table>\n",
       "</div>"
      ],
      "text/plain": [
       "w_Sepal     False  True \n",
       "Species                 \n",
       "setosa          8     42\n",
       "versicolor     42      8\n",
       "virginica      33     17"
      ]
     },
     "execution_count": 149,
     "metadata": {},
     "output_type": "execute_result"
    }
   ],
   "source": [
    "from statsmodels.graphics.mosaicplot import mosaic\n",
    "\n",
    "my_df = pd.DataFrame({\n",
    "    'Species' : iris.Species,\n",
    "    'w_Sepal': iris['Sepal.Width'] >3\n",
    "})\n",
    "\n",
    "my_table = pd.crosstab(\n",
    "my_df['Species'], my_df['w_Sepal'])\n",
    "my_table"
   ]
  },
  {
   "cell_type": "code",
   "execution_count": 150,
   "id": "52f9a156",
   "metadata": {},
   "outputs": [
    {
     "data": {
      "text/plain": [
       "(<Figure size 432x288 with 3 Axes>,\n",
       " {('setosa', 'True'): (0.0, 0.0, 0.33003300330033003, 0.8372093023255813),\n",
       "  ('setosa', 'False'): (0.0,\n",
       "   0.8405315614617939,\n",
       "   0.33003300330033003,\n",
       "   0.159468438538206),\n",
       "  ('versicolor', 'True'): (0.334983498349835,\n",
       "   0.0,\n",
       "   0.33003300330033003,\n",
       "   0.15946843853820597),\n",
       "  ('versicolor', 'False'): (0.334983498349835,\n",
       "   0.1627906976744186,\n",
       "   0.33003300330033003,\n",
       "   0.8372093023255813),\n",
       "  ('virginica', 'True'): (0.66996699669967,\n",
       "   0.0,\n",
       "   0.3300330033003301,\n",
       "   0.3388704318936877),\n",
       "  ('virginica', 'False'): (0.66996699669967,\n",
       "   0.34219269102990035,\n",
       "   0.3300330033003301,\n",
       "   0.6578073089700995)})"
      ]
     },
     "execution_count": 150,
     "metadata": {},
     "output_type": "execute_result"
    },
    {
     "data": {
      "image/png": "[encoded data removed]",
      "text/plain": [
       "<Figure size 432x288 with 3 Axes>"
      ]
     },
     "metadata": {
      "needs_background": "light"
     },
     "output_type": "display_data"
    }
   ],
   "source": [
    "mosaic(my_df, index=['Species', 'w_Sepal'])"
   ]
  },
  {
   "cell_type": "code",
   "execution_count": 152,
   "id": "0c40e93e",
   "metadata": {},
   "outputs": [
    {
     "data": {
      "text/plain": [
       "(<Figure size 432x288 with 3 Axes>,\n",
       " {('setosa', 'True'): (0.0, 0.0, 0.33003300330033003, 0.8372093023255813),\n",
       "  ('setosa', 'False'): (0.0,\n",
       "   0.8405315614617939,\n",
       "   0.33003300330033003,\n",
       "   0.159468438538206),\n",
       "  ('versicolor', 'True'): (0.334983498349835,\n",
       "   0.0,\n",
       "   0.33003300330033003,\n",
       "   0.15946843853820597),\n",
       "  ('versicolor', 'False'): (0.334983498349835,\n",
       "   0.1627906976744186,\n",
       "   0.33003300330033003,\n",
       "   0.8372093023255813),\n",
       "  ('virginica', 'True'): (0.66996699669967,\n",
       "   0.0,\n",
       "   0.3300330033003301,\n",
       "   0.3388704318936877),\n",
       "  ('virginica', 'False'): (0.66996699669967,\n",
       "   0.34219269102990035,\n",
       "   0.3300330033003301,\n",
       "   0.6578073089700995)})"
      ]
     },
     "execution_count": 152,
     "metadata": {},
     "output_type": "execute_result"
    },
    {
     "data": {
      "image/png": "[encoded data removed]",
      "text/plain": [
       "<Figure size 432x288 with 3 Axes>"
      ]
     },
     "metadata": {
      "needs_background": "light"
     },
     "output_type": "display_data"
    }
   ],
   "source": [
    "my_table.columns = [str(x) for x in my_table.columns ]\n",
    "my_table.index = [str(x) for x in my_table.index]\n",
    "mosaic(my_df, index=['Species', 'w_Sepal'], labelizer = lambda k:my_table.loc[k])"
   ]
  },
  {
   "cell_type": "code",
   "execution_count": 153,
   "id": "c67863af",
   "metadata": {},
   "outputs": [
    {
     "data": {
      "text/plain": [
       "[<matplotlib.lines.Line2D at 0x7fc6d8661400>]"
      ]
     },
     "execution_count": 153,
     "metadata": {},
     "output_type": "execute_result"
    },
    {
     "data": {
      "image/png": "[encoded data removed]",
      "text/plain": [
       "<Figure size 432x288 with 1 Axes>"
      ]
     },
     "metadata": {
      "needs_background": "light"
     },
     "output_type": "display_data"
    }
   ],
   "source": [
    "import matplotlib.pyplot as plt\n",
    "import numpy as np\n",
    "\n",
    "x = np.linspace(-2,2,100)\n",
    "y = x**3 -x \n",
    "plt.plot(x,y)"
   ]
  },
  {
   "cell_type": "code",
   "execution_count": 155,
   "id": "c61ea2a6",
   "metadata": {},
   "outputs": [],
   "source": [
    "rng = np.random.default_rng()"
   ]
  },
  {
   "cell_type": "code",
   "execution_count": 157,
   "id": "6ea08ab5",
   "metadata": {},
   "outputs": [],
   "source": [
    "x = np.random.choice(a = range(1,7), size =10000, replace = True)"
   ]
  },
  {
   "cell_type": "code",
   "execution_count": 158,
   "id": "3f19d9f2",
   "metadata": {},
   "outputs": [
    {
     "data": {
      "text/plain": [
       "(array([1663., 1678., 1662., 1709., 1641., 1647.]),\n",
       " array([1.   , 1.833, 2.667, 3.5  , 4.333, 5.167, 6.   ]),\n",
       " <BarContainer object of 6 artists>)"
      ]
     },
     "execution_count": 158,
     "metadata": {},
     "output_type": "execute_result"
    },
    {
     "data": {
      "image/png": "[encoded data removed]",
      "text/plain": [
       "<Figure size 432x288 with 1 Axes>"
      ]
     },
     "metadata": {
      "needs_background": "light"
     },
     "output_type": "display_data"
    }
   ],
   "source": [
    "plt.hist(x, bins = 6)"
   ]
  },
  {
   "cell_type": "code",
   "execution_count": 159,
   "id": "0f8e6e16",
   "metadata": {},
   "outputs": [],
   "source": [
    "x = np.random.random(size=1000\n",
    ")"
   ]
  },
  {
   "cell_type": "code",
   "execution_count": 160,
   "id": "c5edd0b4",
   "metadata": {},
   "outputs": [
    {
     "data": {
      "text/plain": [
       "(array([ 85., 110.,  96.,  93., 113.,  92., 100., 107., 111.,  93.]),\n",
       " array([0.001, 0.101, 0.201, 0.301, 0.401, 0.5  , 0.6  , 0.7  , 0.8  ,\n",
       "        0.899, 0.999]),\n",
       " <BarContainer object of 10 artists>)"
      ]
     },
     "execution_count": 160,
     "metadata": {},
     "output_type": "execute_result"
    },
    {
     "data": {
      "image/png": "[encoded data removed]",
      "text/plain": [
       "<Figure size 432x288 with 1 Axes>"
      ]
     },
     "metadata": {
      "needs_background": "light"
     },
     "output_type": "display_data"
    }
   ],
   "source": [
    "plt.hist(x)"
   ]
  },
  {
   "cell_type": "code",
   "execution_count": 161,
   "id": "9325b0ca",
   "metadata": {},
   "outputs": [
    {
     "data": {
      "text/plain": [
       "(array([169., 165., 173., 167., 167., 159.]),\n",
       " array([1.   , 1.833, 2.667, 3.5  , 4.333, 5.167, 6.   ]),\n",
       " <BarContainer object of 6 artists>)"
      ]
     },
     "execution_count": 161,
     "metadata": {},
     "output_type": "execute_result"
    },
    {
     "data": {
      "image/png": "[encoded data removed]",
      "text/plain": [
       "<Figure size 432x288 with 1 Axes>"
      ]
     },
     "metadata": {
      "needs_background": "light"
     },
     "output_type": "display_data"
    }
   ],
   "source": [
    "tmp = np.random.uniform(low = 1, high  = 7, size=1000)\n",
    "x = [int(k) for k in tmp]\n",
    "plt.hist(x, bins = 6)"
   ]
  },
  {
   "cell_type": "code",
   "execution_count": 162,
   "id": "01fac490",
   "metadata": {},
   "outputs": [],
   "source": [
    "n = 100\n",
    "p = 0.5\n",
    "r = 10000\n",
    "x = np.random.binomial(n  = n, p = p, size = r)"
   ]
  },
  {
   "cell_type": "code",
   "execution_count": 163,
   "id": "6c62d473",
   "metadata": {},
   "outputs": [
    {
     "data": {
      "text/plain": [
       "(array([  1.,   1.,   5.,   1.,   8.,  18.,  23.,  49.,  71.,  99., 174.,\n",
       "        234., 289., 396., 483., 571., 627., 707., 843., 778., 801., 718.,\n",
       "        702., 582., 453., 357., 321., 214., 165., 114.,  84.,  45.,  30.,\n",
       "         16.,   7.,   7.,   5.,   1.]),\n",
       " array([31., 32., 33., 34., 35., 36., 37., 38., 39., 40., 41., 42., 43.,\n",
       "        44., 45., 46., 47., 48., 49., 50., 51., 52., 53., 54., 55., 56.,\n",
       "        57., 58., 59., 60., 61., 62., 63., 64., 65., 66., 67., 68., 69.]),\n",
       " <BarContainer object of 38 artists>)"
      ]
     },
     "execution_count": 163,
     "metadata": {},
     "output_type": "execute_result"
    },
    {
     "data": {
      "image/png": "[encoded data removed]",
      "text/plain": [
       "<Figure size 432x288 with 1 Axes>"
      ]
     },
     "metadata": {
      "needs_background": "light"
     },
     "output_type": "display_data"
    }
   ],
   "source": [
    "plt.hist(x, bins = max(x) - min(x))"
   ]
  },
  {
   "cell_type": "code",
   "execution_count": 164,
   "id": "4fe833ed",
   "metadata": {},
   "outputs": [
    {
     "data": {
      "text/plain": [
       "(array([  2.,   0.,   1.,   0.,   3.,   1.,   6.,  16.,  27.,  56.,  65.,\n",
       "        133., 165., 259., 350., 438., 528., 630., 753., 822., 853., 827.,\n",
       "        775., 739., 640., 551., 398., 317., 238., 154., 105.,  64.,  31.,\n",
       "         17.,  20.,   5.,   7.,   3.,   0.,   1.]),\n",
       " array([27.596, 28.671, 29.747, 30.822, 31.898, 32.973, 34.048, 35.124,\n",
       "        36.199, 37.275, 38.35 , 39.425, 40.501, 41.576, 42.652, 43.727,\n",
       "        44.803, 45.878, 46.953, 48.029, 49.104, 50.18 , 51.255, 52.33 ,\n",
       "        53.406, 54.481, 55.557, 56.632, 57.707, 58.783, 59.858, 60.934,\n",
       "        62.009, 63.085, 64.16 , 65.235, 66.311, 67.386, 68.462, 69.537,\n",
       "        70.612]),\n",
       " <BarContainer object of 40 artists>)"
      ]
     },
     "execution_count": 164,
     "metadata": {},
     "output_type": "execute_result"
    },
    {
     "data": {
      "image/png": "[encoded data removed]",
      "text/plain": [
       "<Figure size 432x288 with 1 Axes>"
      ]
     },
     "metadata": {
      "needs_background": "light"
     },
     "output_type": "display_data"
    }
   ],
   "source": [
    "r = 10000\n",
    "x = np.random.normal(loc = 50, scale = 5, size = r)\n",
    "plt.hist(x, bins = 40)"
   ]
  },
  {
   "cell_type": "code",
   "execution_count": 167,
   "id": "807210f7",
   "metadata": {},
   "outputs": [],
   "source": [
    "def f(k):\n",
    "    n = 10000\n",
    "    tmp = [g(np.random.normal(size =k , scale=3)) for _ in range(n)]\n",
    "    return pd.Series([k, np.mean(tmp), np.std(tmp, ddof=1) / n **0.5], index=['k', 'mean', 'se'])"
   ]
  },
  {
   "cell_type": "code",
   "execution_count": 168,
   "id": "36f30fa5",
   "metadata": {},
   "outputs": [
    {
     "data": {
      "text/html": [
       "<div>\n",
       "<style scoped>\n",
       "    .dataframe tbody tr th:only-of-type {\n",
       "        vertical-align: middle;\n",
       "    }\n",
       "\n",
       "    .dataframe tbody tr th {\n",
       "        vertical-align: top;\n",
       "    }\n",
       "\n",
       "    .dataframe thead th {\n",
       "        text-align: right;\n",
       "    }\n",
       "</style>\n",
       "<table border=\"1\" class=\"dataframe\">\n",
       "  <thead>\n",
       "    <tr style=\"text-align: right;\">\n",
       "      <th></th>\n",
       "      <th>k</th>\n",
       "      <th>mean</th>\n",
       "      <th>se</th>\n",
       "    </tr>\n",
       "  </thead>\n",
       "  <tbody>\n",
       "    <tr>\n",
       "      <th>0</th>\n",
       "      <td>10.00</td>\n",
       "      <td>9.07</td>\n",
       "      <td>0.04</td>\n",
       "    </tr>\n",
       "    <tr>\n",
       "      <th>1</th>\n",
       "      <td>20.00</td>\n",
       "      <td>8.96</td>\n",
       "      <td>0.03</td>\n",
       "    </tr>\n",
       "    <tr>\n",
       "      <th>2</th>\n",
       "      <td>30.00</td>\n",
       "      <td>8.98</td>\n",
       "      <td>0.02</td>\n",
       "    </tr>\n",
       "  </tbody>\n",
       "</table>\n",
       "</div>"
      ],
      "text/plain": [
       "      k  mean   se\n",
       "0 10.00  9.07 0.04\n",
       "1 20.00  8.96 0.03\n",
       "2 30.00  8.98 0.02"
      ]
     },
     "execution_count": 168,
     "metadata": {},
     "output_type": "execute_result"
    }
   ],
   "source": [
    "def g(x):\n",
    "    return np.var(x, ddof = 1)\n",
    "pd.Series([10,20,30]).apply(f)"
   ]
  },
  {
   "cell_type": "code",
   "execution_count": 169,
   "id": "1fedd38a",
   "metadata": {},
   "outputs": [],
   "source": [
    "def g(x):\n",
    "    return np.std(x, ddof = 1)"
   ]
  },
  {
   "cell_type": "code",
   "execution_count": 170,
   "id": "e1529753",
   "metadata": {},
   "outputs": [
    {
     "data": {
      "text/html": [
       "<div>\n",
       "<style scoped>\n",
       "    .dataframe tbody tr th:only-of-type {\n",
       "        vertical-align: middle;\n",
       "    }\n",
       "\n",
       "    .dataframe tbody tr th {\n",
       "        vertical-align: top;\n",
       "    }\n",
       "\n",
       "    .dataframe thead th {\n",
       "        text-align: right;\n",
       "    }\n",
       "</style>\n",
       "<table border=\"1\" class=\"dataframe\">\n",
       "  <thead>\n",
       "    <tr style=\"text-align: right;\">\n",
       "      <th></th>\n",
       "      <th>k</th>\n",
       "      <th>mean</th>\n",
       "      <th>se</th>\n",
       "    </tr>\n",
       "  </thead>\n",
       "  <tbody>\n",
       "    <tr>\n",
       "      <th>0</th>\n",
       "      <td>10.00</td>\n",
       "      <td>2.92</td>\n",
       "      <td>0.01</td>\n",
       "    </tr>\n",
       "    <tr>\n",
       "      <th>1</th>\n",
       "      <td>20.00</td>\n",
       "      <td>2.96</td>\n",
       "      <td>0.00</td>\n",
       "    </tr>\n",
       "    <tr>\n",
       "      <th>2</th>\n",
       "      <td>30.00</td>\n",
       "      <td>2.98</td>\n",
       "      <td>0.00</td>\n",
       "    </tr>\n",
       "  </tbody>\n",
       "</table>\n",
       "</div>"
      ],
      "text/plain": [
       "      k  mean   se\n",
       "0 10.00  2.92 0.01\n",
       "1 20.00  2.96 0.00\n",
       "2 30.00  2.98 0.00"
      ]
     },
     "execution_count": 170,
     "metadata": {},
     "output_type": "execute_result"
    }
   ],
   "source": [
    "pd.Series([10,20,30]).apply(f)"
   ]
  },
  {
   "cell_type": "code",
   "execution_count": 171,
   "id": "368b4c41",
   "metadata": {},
   "outputs": [
    {
     "data": {
      "text/html": [
       "<div>\n",
       "<style scoped>\n",
       "    .dataframe tbody tr th:only-of-type {\n",
       "        vertical-align: middle;\n",
       "    }\n",
       "\n",
       "    .dataframe tbody tr th {\n",
       "        vertical-align: top;\n",
       "    }\n",
       "\n",
       "    .dataframe thead th {\n",
       "        text-align: right;\n",
       "    }\n",
       "</style>\n",
       "<table border=\"1\" class=\"dataframe\">\n",
       "  <thead>\n",
       "    <tr style=\"text-align: right;\">\n",
       "      <th></th>\n",
       "      <th>k</th>\n",
       "      <th>mean</th>\n",
       "      <th>se</th>\n",
       "    </tr>\n",
       "  </thead>\n",
       "  <tbody>\n",
       "    <tr>\n",
       "      <th>0</th>\n",
       "      <td>10.00</td>\n",
       "      <td>2.99</td>\n",
       "      <td>0.01</td>\n",
       "    </tr>\n",
       "    <tr>\n",
       "      <th>1</th>\n",
       "      <td>20.00</td>\n",
       "      <td>3.00</td>\n",
       "      <td>0.00</td>\n",
       "    </tr>\n",
       "    <tr>\n",
       "      <th>2</th>\n",
       "      <td>30.00</td>\n",
       "      <td>3.01</td>\n",
       "      <td>0.00</td>\n",
       "    </tr>\n",
       "  </tbody>\n",
       "</table>\n",
       "</div>"
      ],
      "text/plain": [
       "      k  mean   se\n",
       "0 10.00  2.99 0.01\n",
       "1 20.00  3.00 0.00\n",
       "2 30.00  3.01 0.00"
      ]
     },
     "execution_count": 171,
     "metadata": {},
     "output_type": "execute_result"
    }
   ],
   "source": [
    "from math import gamma\n",
    "\n",
    "def g(x):\n",
    "    n = len(x)\n",
    "    return (np.std(x, ddof = 1) * (np.sqrt((n-1)/ 2) * gamma((n-1)/2)/gamma(n/2)))\n",
    "pd.Series([10,20,30]).apply(f)"
   ]
  },
  {
   "cell_type": "code",
   "execution_count": 175,
   "id": "29a37649",
   "metadata": {},
   "outputs": [
    {
     "data": {
      "text/plain": [
       "0.03646166155263999"
      ]
     },
     "execution_count": 175,
     "metadata": {},
     "output_type": "execute_result"
    }
   ],
   "source": [
    "from statsmodels.stats.proportion import binom_test, proportion_confint\n",
    "\n",
    "binom_test(count = 2, nobs = 15, prop=4/10, alternative='two-sided')"
   ]
  },
  {
   "cell_type": "code",
   "execution_count": 177,
   "id": "04502ae7",
   "metadata": {},
   "outputs": [
    {
     "data": {
      "text/plain": [
       "<matplotlib.collections.LineCollection at 0x7fc6cbfe04c0>"
      ]
     },
     "execution_count": 177,
     "metadata": {},
     "output_type": "execute_result"
    },
    {
     "data": {
      "text/plain": [
       "<matplotlib.collections.LineCollection at 0x7fc6cbfe8be0>"
      ]
     },
     "execution_count": 177,
     "metadata": {},
     "output_type": "execute_result"
    },
    {
     "data": {
      "image/png": "[encoded data removed]",
      "text/plain": [
       "<Figure size 432x288 with 1 Axes>"
      ]
     },
     "metadata": {
      "needs_background": "light"
     },
     "output_type": "display_data"
    }
   ],
   "source": [
    "from scipy import stats\n",
    "\n",
    "t = 4/10\n",
    "n = 15\n",
    "x = np.array(range(0, n + 1))\n",
    "my_pr = stats.binom.pmf(x, n, t)\n",
    "my_pr2 = stats.binom.pmf(2,n,t)\n",
    "\n",
    "my_data = pd.DataFrame({'x': x, 'y1': my_pr, 'y2': my_pr})\n",
    "my_data.loc[my_pr > my_pr2, 'y1'] = np.nan\n",
    "my_data.loc[my_pr <= my_pr2, 'y2'] = np.nan\n",
    "ax = my_data.plot(x= 'x', style='o', ylabel='probability', legend=False)\n",
    "ax.hlines(y = my_pr2, xmin=0, xmax=15)\n",
    "ax.vlines(x=x, ymin = 0, ymax=my_pr)"
   ]
  },
  {
   "cell_type": "code",
   "execution_count": 178,
   "id": "6c0265d6",
   "metadata": {},
   "outputs": [
    {
     "data": {
      "text/plain": [
       "(0.024225732468536626, 0.3967139842509865)"
      ]
     },
     "execution_count": 178,
     "metadata": {},
     "output_type": "execute_result"
    }
   ],
   "source": [
    "a = 0.05\n",
    "proportion_confint(count = 2, nobs = 15, alpha = a, method='binom_test')"
   ]
  },
  {
   "cell_type": "code",
   "execution_count": 182,
   "id": "09714d78",
   "metadata": {},
   "outputs": [
    {
     "data": {
      "text/plain": [
       "<AxesSubplot:xlabel='$\\\\theta$', ylabel='p-value'>"
      ]
     },
     "execution_count": 182,
     "metadata": {},
     "output_type": "execute_result"
    },
    {
     "data": {
      "image/png": "[encoded data removed]",
      "text/plain": [
       "<Figure size 432x288 with 1 Axes>"
      ]
     },
     "metadata": {
      "needs_background": "light"
     },
     "output_type": "display_data"
    }
   ],
   "source": [
    "tmp = np.linspace(0,1,100)\n",
    "\n",
    "my_df = pd.DataFrame({\n",
    "    't': tmp, \n",
    "    'q': a, \n",
    "    'p': [binom_test(count=2, nobs=15, prop=t) for t in tmp]\n",
    "})\n",
    "\n",
    "my_df.plot(x = 't', legend=None, xlabel=r'$\\theta$', ylabel=r'p-value')"
   ]
  },
  {
   "cell_type": "code",
   "execution_count": 183,
   "id": "d47b2f66",
   "metadata": {},
   "outputs": [
    {
     "data": {
      "text/plain": [
       "0.0006415571512322235"
      ]
     },
     "execution_count": 183,
     "metadata": {},
     "output_type": "execute_result"
    }
   ],
   "source": [
    "from statsmodels.stats.weightstats import CompareMeans, DescrStatsW\n",
    "\n",
    "X = [32.1,26.2, 27.5, 31.8, 32.1, 31.2, 30.1, 32.4, 32.3, 29.9, 29.6, 26.6, 31.2, 30.9, 29.3]\n",
    "Y = [35.4, 34.6, 31.1, 32.4, 33.3, 34.7, 35.3, 34.3, 32.1, 28.3, 33.3, 30.5, 32.6, 33.3, 32.2]\n",
    "\n",
    "a = 0.05\n",
    "alt = 'two-sided'\n",
    "\n",
    "d = DescrStatsW(np.array(X) - np.array(Y))\n",
    "d.ttest_mean(alternative=alt)[1]"
   ]
  },
  {
   "cell_type": "code",
   "execution_count": 184,
   "id": "4819f7c7",
   "metadata": {},
   "outputs": [
    {
     "data": {
      "text/plain": [
       "(-3.9955246743198867, -1.3644753256801117)"
      ]
     },
     "execution_count": 184,
     "metadata": {},
     "output_type": "execute_result"
    }
   ],
   "source": [
    "d.tconfint_mean(alpha = a, alternative=alt)"
   ]
  },
  {
   "cell_type": "code",
   "execution_count": 185,
   "id": "06ee8b91",
   "metadata": {},
   "outputs": [
    {
     "data": {
      "text/plain": [
       "0.000978530937238609"
      ]
     },
     "execution_count": 185,
     "metadata": {},
     "output_type": "execute_result"
    }
   ],
   "source": [
    "c = CompareMeans(DescrStatsW(X), DescrStatsW(Y))\n",
    "\n",
    "ve = 'pooled'\n",
    "\n",
    "c.ttest_ind(alternative=alt, usevar = ve)[1]"
   ]
  },
  {
   "cell_type": "code",
   "execution_count": 186,
   "id": "d59bcc6f",
   "metadata": {},
   "outputs": [],
   "source": [
    "import pandas as pd\n",
    "my_url = 'https://raw.githubusercontent.com/taroyabuki/fromzero/master/data/smoker.csv'\n",
    "my_data = pd.read_csv(my_url)"
   ]
  },
  {
   "cell_type": "code",
   "execution_count": 187,
   "id": "f19d5b61",
   "metadata": {},
   "outputs": [
    {
     "data": {
      "text/html": [
       "<div>\n",
       "<style scoped>\n",
       "    .dataframe tbody tr th:only-of-type {\n",
       "        vertical-align: middle;\n",
       "    }\n",
       "\n",
       "    .dataframe tbody tr th {\n",
       "        vertical-align: top;\n",
       "    }\n",
       "\n",
       "    .dataframe thead th {\n",
       "        text-align: right;\n",
       "    }\n",
       "</style>\n",
       "<table border=\"1\" class=\"dataframe\">\n",
       "  <thead>\n",
       "    <tr style=\"text-align: right;\">\n",
       "      <th></th>\n",
       "      <th>alive</th>\n",
       "      <th>smoker</th>\n",
       "    </tr>\n",
       "  </thead>\n",
       "  <tbody>\n",
       "    <tr>\n",
       "      <th>0</th>\n",
       "      <td>Yes</td>\n",
       "      <td>No</td>\n",
       "    </tr>\n",
       "    <tr>\n",
       "      <th>1</th>\n",
       "      <td>Yes</td>\n",
       "      <td>No</td>\n",
       "    </tr>\n",
       "    <tr>\n",
       "      <th>2</th>\n",
       "      <td>Yes</td>\n",
       "      <td>No</td>\n",
       "    </tr>\n",
       "    <tr>\n",
       "      <th>3</th>\n",
       "      <td>Yes</td>\n",
       "      <td>No</td>\n",
       "    </tr>\n",
       "    <tr>\n",
       "      <th>4</th>\n",
       "      <td>Yes</td>\n",
       "      <td>No</td>\n",
       "    </tr>\n",
       "  </tbody>\n",
       "</table>\n",
       "</div>"
      ],
      "text/plain": [
       "  alive smoker\n",
       "0   Yes     No\n",
       "1   Yes     No\n",
       "2   Yes     No\n",
       "3   Yes     No\n",
       "4   Yes     No"
      ]
     },
     "execution_count": 187,
     "metadata": {},
     "output_type": "execute_result"
    }
   ],
   "source": [
    "my_data.head()"
   ]
  },
  {
   "cell_type": "code",
   "execution_count": 188,
   "id": "58cebcc0",
   "metadata": {},
   "outputs": [
    {
     "data": {
      "text/html": [
       "<div>\n",
       "<style scoped>\n",
       "    .dataframe tbody tr th:only-of-type {\n",
       "        vertical-align: middle;\n",
       "    }\n",
       "\n",
       "    .dataframe tbody tr th {\n",
       "        vertical-align: top;\n",
       "    }\n",
       "\n",
       "    .dataframe thead th {\n",
       "        text-align: right;\n",
       "    }\n",
       "</style>\n",
       "<table border=\"1\" class=\"dataframe\">\n",
       "  <thead>\n",
       "    <tr style=\"text-align: right;\">\n",
       "      <th>smoker</th>\n",
       "      <th>No</th>\n",
       "      <th>Yes</th>\n",
       "    </tr>\n",
       "    <tr>\n",
       "      <th>alive</th>\n",
       "      <th></th>\n",
       "      <th></th>\n",
       "    </tr>\n",
       "  </thead>\n",
       "  <tbody>\n",
       "    <tr>\n",
       "      <th>No</th>\n",
       "      <td>117</td>\n",
       "      <td>54</td>\n",
       "    </tr>\n",
       "    <tr>\n",
       "      <th>Yes</th>\n",
       "      <td>950</td>\n",
       "      <td>348</td>\n",
       "    </tr>\n",
       "  </tbody>\n",
       "</table>\n",
       "</div>"
      ],
      "text/plain": [
       "smoker   No  Yes\n",
       "alive           \n",
       "No      117   54\n",
       "Yes     950  348"
      ]
     },
     "execution_count": 188,
     "metadata": {},
     "output_type": "execute_result"
    }
   ],
   "source": [
    "my_table = pd.crosstab(\n",
    "my_data['alive'], \n",
    "my_data['smoker'])\n",
    "my_table"
   ]
  },
  {
   "cell_type": "code",
   "execution_count": 189,
   "id": "dd5221c4",
   "metadata": {},
   "outputs": [
    {
     "data": {
      "text/plain": [
       "0.18860725715300422"
      ]
     },
     "execution_count": 189,
     "metadata": {},
     "output_type": "execute_result"
    }
   ],
   "source": [
    "from scipy.stats import chi2_contingency\n",
    "chi2_contingency(my_table, correction=False)[1]"
   ]
  },
  {
   "cell_type": "code",
   "execution_count": 190,
   "id": "c814c9e1",
   "metadata": {},
   "outputs": [
    {
     "data": {
      "text/plain": [
       "[0, 0, 0, 0, 0, 0, 0, 0, 0, 0, 0, 0, 0, 1, 1]"
      ]
     },
     "execution_count": 190,
     "metadata": {},
     "output_type": "execute_result"
    }
   ],
   "source": [
    "X = [0] * 13 + [1] * 2\n",
    "X"
   ]
  },
  {
   "cell_type": "code",
   "execution_count": 192,
   "id": "c2490cc4",
   "metadata": {},
   "outputs": [
    {
     "data": {
      "text/plain": [
       "array([0, 0, 0, 0, 0, 1, 1, 0, 0, 0, 1, 0, 0, 0, 0])"
      ]
     },
     "execution_count": 192,
     "metadata": {},
     "output_type": "execute_result"
    }
   ],
   "source": [
    "tmp = np.random.choice(X, len(X), replace = True)\n",
    "tmp"
   ]
  },
  {
   "cell_type": "code",
   "execution_count": 193,
   "id": "8d7f0a85",
   "metadata": {},
   "outputs": [
    {
     "data": {
      "text/plain": [
       "3"
      ]
     },
     "execution_count": 193,
     "metadata": {},
     "output_type": "execute_result"
    }
   ],
   "source": [
    "sum(tmp)"
   ]
  },
  {
   "cell_type": "code",
   "execution_count": 194,
   "id": "b5f52cf9",
   "metadata": {},
   "outputs": [],
   "source": [
    "n = 10 ** 5\n",
    "result = [sum(np.random.choice(X, len(X), replace = True)) for _ in range(n)]"
   ]
  },
  {
   "cell_type": "code",
   "execution_count": 195,
   "id": "5be0ecd4",
   "metadata": {},
   "outputs": [
    {
     "data": {
      "text/plain": [
       "[2,\n",
       " 6,\n",
       " 2,\n",
       " 2,\n",
       " 4,\n",
       " 1,\n",
       " 2,\n",
       " 1,\n",
       " 1,\n",
       " 2,\n",
       " 2,\n",
       " 0,\n",
       " 3,\n",
       " 1,\n",
       " 5,\n",
       " 4,\n",
       " 1,\n",
       " 1,\n",
       " 2,\n",
       " 0,\n",
       " 2,\n",
       " 4,\n",
       " 2,\n",
       " 4,\n",
       " 2,\n",
       " 1,\n",
       " 4,\n",
       " 2,\n",
       " 2,\n",
       " 2,\n",
       " 0,\n",
       " 1,\n",
       " 2,\n",
       " 2,\n",
       " 3,\n",
       " 1,\n",
       " 2,\n",
       " 0,\n",
       " 5,\n",
       " 2,\n",
       " 1,\n",
       " 0,\n",
       " 1,\n",
       " 4,\n",
       " 2,\n",
       " 3,\n",
       " 2,\n",
       " 1,\n",
       " 0,\n",
       " 2,\n",
       " 2,\n",
       " 3,\n",
       " 0,\n",
       " 0,\n",
       " 1,\n",
       " 1,\n",
       " 1,\n",
       " 3,\n",
       " 2,\n",
       " 0,\n",
       " 1,\n",
       " 1,\n",
       " 4,\n",
       " 1,\n",
       " 1,\n",
       " 1,\n",
       " 2,\n",
       " 0,\n",
       " 1,\n",
       " 2,\n",
       " 0,\n",
       " 0,\n",
       " 2,\n",
       " 0,\n",
       " 7,\n",
       " 2,\n",
       " 3,\n",
       " 2,\n",
       " 1,\n",
       " 4,\n",
       " 3,\n",
       " 1,\n",
       " 1,\n",
       " 1,\n",
       " 2,\n",
       " 2,\n",
       " 4,\n",
       " 2,\n",
       " 0,\n",
       " 3,\n",
       " 2,\n",
       " 1,\n",
       " 3,\n",
       " 1,\n",
       " 3,\n",
       " 3,\n",
       " 1,\n",
       " 1,\n",
       " 4,\n",
       " 2,\n",
       " 2,\n",
       " 1,\n",
       " 4,\n",
       " 2,\n",
       " 1,\n",
       " 0,\n",
       " 2,\n",
       " 2,\n",
       " 5,\n",
       " 2,\n",
       " 4,\n",
       " 3,\n",
       " 1,\n",
       " 2,\n",
       " 1,\n",
       " 2,\n",
       " 2,\n",
       " 1,\n",
       " 2,\n",
       " 2,\n",
       " 0,\n",
       " 2,\n",
       " 1,\n",
       " 1,\n",
       " 0,\n",
       " 2,\n",
       " 2,\n",
       " 2,\n",
       " 2,\n",
       " 2,\n",
       " 4,\n",
       " 0,\n",
       " 3,\n",
       " 1,\n",
       " 2,\n",
       " 3,\n",
       " 0,\n",
       " 1,\n",
       " 1,\n",
       " 2,\n",
       " 1,\n",
       " 2,\n",
       " 1,\n",
       " 2,\n",
       " 1,\n",
       " 3,\n",
       " 2,\n",
       " 2,\n",
       " 4,\n",
       " 2,\n",
       " 2,\n",
       " 1,\n",
       " 2,\n",
       " 1,\n",
       " 1,\n",
       " 0,\n",
       " 3,\n",
       " 3,\n",
       " 2,\n",
       " 1,\n",
       " 3,\n",
       " 2,\n",
       " 4,\n",
       " 4,\n",
       " 3,\n",
       " 0,\n",
       " 2,\n",
       " 1,\n",
       " 2,\n",
       " 2,\n",
       " 3,\n",
       " 1,\n",
       " 1,\n",
       " 2,\n",
       " 1,\n",
       " 2,\n",
       " 2,\n",
       " 3,\n",
       " 1,\n",
       " 1,\n",
       " 0,\n",
       " 2,\n",
       " 0,\n",
       " 1,\n",
       " 3,\n",
       " 1,\n",
       " 1,\n",
       " 3,\n",
       " 2,\n",
       " 1,\n",
       " 2,\n",
       " 0,\n",
       " 2,\n",
       " 0,\n",
       " 1,\n",
       " 4,\n",
       " 1,\n",
       " 5,\n",
       " 2,\n",
       " 2,\n",
       " 2,\n",
       " 3,\n",
       " 1,\n",
       " 1,\n",
       " 3,\n",
       " 1,\n",
       " 1,\n",
       " 1,\n",
       " 2,\n",
       " 3,\n",
       " 2,\n",
       " 2,\n",
       " 4,\n",
       " 3,\n",
       " 5,\n",
       " 1,\n",
       " 1,\n",
       " 2,\n",
       " 1,\n",
       " 0,\n",
       " 3,\n",
       " 1,\n",
       " 1,\n",
       " 3,\n",
       " 2,\n",
       " 2,\n",
       " 2,\n",
       " 4,\n",
       " 2,\n",
       " 1,\n",
       " 0,\n",
       " 3,\n",
       " 2,\n",
       " 1,\n",
       " 3,\n",
       " 2,\n",
       " 2,\n",
       " 2,\n",
       " 3,\n",
       " 0,\n",
       " 3,\n",
       " 1,\n",
       " 5,\n",
       " 1,\n",
       " 2,\n",
       " 0,\n",
       " 1,\n",
       " 5,\n",
       " 0,\n",
       " 2,\n",
       " 1,\n",
       " 2,\n",
       " 0,\n",
       " 2,\n",
       " 3,\n",
       " 2,\n",
       " 1,\n",
       " 0,\n",
       " 1,\n",
       " 1,\n",
       " 1,\n",
       " 4,\n",
       " 1,\n",
       " 1,\n",
       " 6,\n",
       " 2,\n",
       " 2,\n",
       " 4,\n",
       " 0,\n",
       " 1,\n",
       " 5,\n",
       " 1,\n",
       " 0,\n",
       " 2,\n",
       " 1,\n",
       " 2,\n",
       " 4,\n",
       " 1,\n",
       " 2,\n",
       " 2,\n",
       " 3,\n",
       " 0,\n",
       " 3,\n",
       " 1,\n",
       " 3,\n",
       " 2,\n",
       " 3,\n",
       " 4,\n",
       " 1,\n",
       " 3,\n",
       " 2,\n",
       " 2,\n",
       " 2,\n",
       " 6,\n",
       " 3,\n",
       " 0,\n",
       " 2,\n",
       " 1,\n",
       " 4,\n",
       " 2,\n",
       " 1,\n",
       " 2,\n",
       " 2,\n",
       " 1,\n",
       " 0,\n",
       " 2,\n",
       " 3,\n",
       " 2,\n",
       " 2,\n",
       " 2,\n",
       " 1,\n",
       " 3,\n",
       " 3,\n",
       " 2,\n",
       " 1,\n",
       " 1,\n",
       " 2,\n",
       " 1,\n",
       " 3,\n",
       " 1,\n",
       " 3,\n",
       " 1,\n",
       " 1,\n",
       " 4,\n",
       " 2,\n",
       " 1,\n",
       " 1,\n",
       " 2,\n",
       " 1,\n",
       " 1,\n",
       " 0,\n",
       " 0,\n",
       " 4,\n",
       " 2,\n",
       " 3,\n",
       " 3,\n",
       " 4,\n",
       " 0,\n",
       " 1,\n",
       " 2,\n",
       " 1,\n",
       " 0,\n",
       " 1,\n",
       " 3,\n",
       " 0,\n",
       " 3,\n",
       " 1,\n",
       " 3,\n",
       " 2,\n",
       " 1,\n",
       " 2,\n",
       " 2,\n",
       " 2,\n",
       " 0,\n",
       " 1,\n",
       " 3,\n",
       " 4,\n",
       " 2,\n",
       " 4,\n",
       " 1,\n",
       " 1,\n",
       " 3,\n",
       " 2,\n",
       " 1,\n",
       " 4,\n",
       " 2,\n",
       " 2,\n",
       " 1,\n",
       " 0,\n",
       " 0,\n",
       " 3,\n",
       " 2,\n",
       " 0,\n",
       " 2,\n",
       " 2,\n",
       " 1,\n",
       " 4,\n",
       " 5,\n",
       " 3,\n",
       " 3,\n",
       " 3,\n",
       " 2,\n",
       " 5,\n",
       " 2,\n",
       " 3,\n",
       " 1,\n",
       " 2,\n",
       " 2,\n",
       " 2,\n",
       " 2,\n",
       " 3,\n",
       " 2,\n",
       " 0,\n",
       " 2,\n",
       " 0,\n",
       " 1,\n",
       " 1,\n",
       " 3,\n",
       " 5,\n",
       " 0,\n",
       " 2,\n",
       " 0,\n",
       " 0,\n",
       " 3,\n",
       " 5,\n",
       " 2,\n",
       " 1,\n",
       " 0,\n",
       " 2,\n",
       " 2,\n",
       " 0,\n",
       " 2,\n",
       " 4,\n",
       " 0,\n",
       " 3,\n",
       " 2,\n",
       " 3,\n",
       " 2,\n",
       " 3,\n",
       " 1,\n",
       " 3,\n",
       " 2,\n",
       " 0,\n",
       " 1,\n",
       " 1,\n",
       " 1,\n",
       " 2,\n",
       " 0,\n",
       " 1,\n",
       " 2,\n",
       " 4,\n",
       " 2,\n",
       " 3,\n",
       " 1,\n",
       " 1,\n",
       " 1,\n",
       " 3,\n",
       " 3,\n",
       " 3,\n",
       " 1,\n",
       " 4,\n",
       " 3,\n",
       " 3,\n",
       " 2,\n",
       " 2,\n",
       " 1,\n",
       " 3,\n",
       " 3,\n",
       " 2,\n",
       " 4,\n",
       " 2,\n",
       " 2,\n",
       " 3,\n",
       " 1,\n",
       " 5,\n",
       " 1,\n",
       " 2,\n",
       " 3,\n",
       " 3,\n",
       " 1,\n",
       " 0,\n",
       " 2,\n",
       " 0,\n",
       " 0,\n",
       " 3,\n",
       " 3,\n",
       " 0,\n",
       " 1,\n",
       " 1,\n",
       " 1,\n",
       " 1,\n",
       " 1,\n",
       " 2,\n",
       " 3,\n",
       " 2,\n",
       " 2,\n",
       " 2,\n",
       " 1,\n",
       " 1,\n",
       " 1,\n",
       " 4,\n",
       " 3,\n",
       " 2,\n",
       " 2,\n",
       " 4,\n",
       " 0,\n",
       " 0,\n",
       " 1,\n",
       " 0,\n",
       " 2,\n",
       " 2,\n",
       " 1,\n",
       " 2,\n",
       " 0,\n",
       " 0,\n",
       " 2,\n",
       " 3,\n",
       " 2,\n",
       " 3,\n",
       " 1,\n",
       " 1,\n",
       " 1,\n",
       " 3,\n",
       " 1,\n",
       " 2,\n",
       " 2,\n",
       " 1,\n",
       " 1,\n",
       " 1,\n",
       " 1,\n",
       " 2,\n",
       " 2,\n",
       " 0,\n",
       " 1,\n",
       " 2,\n",
       " 4,\n",
       " 3,\n",
       " 2,\n",
       " 2,\n",
       " 3,\n",
       " 1,\n",
       " 2,\n",
       " 1,\n",
       " 1,\n",
       " 2,\n",
       " 2,\n",
       " 1,\n",
       " 1,\n",
       " 1,\n",
       " 6,\n",
       " 3,\n",
       " 3,\n",
       " 3,\n",
       " 2,\n",
       " 5,\n",
       " 4,\n",
       " 1,\n",
       " 1,\n",
       " 1,\n",
       " 3,\n",
       " 0,\n",
       " 2,\n",
       " 3,\n",
       " 3,\n",
       " 2,\n",
       " 3,\n",
       " 3,\n",
       " 2,\n",
       " 0,\n",
       " 3,\n",
       " 1,\n",
       " 1,\n",
       " 1,\n",
       " 4,\n",
       " 2,\n",
       " 5,\n",
       " 1,\n",
       " 0,\n",
       " 3,\n",
       " 0,\n",
       " 2,\n",
       " 3,\n",
       " 1,\n",
       " 2,\n",
       " 2,\n",
       " 1,\n",
       " 2,\n",
       " 1,\n",
       " 2,\n",
       " 2,\n",
       " 2,\n",
       " 1,\n",
       " 4,\n",
       " 5,\n",
       " 3,\n",
       " 4,\n",
       " 0,\n",
       " 7,\n",
       " 5,\n",
       " 2,\n",
       " 2,\n",
       " 1,\n",
       " 3,\n",
       " 2,\n",
       " 3,\n",
       " 1,\n",
       " 4,\n",
       " 1,\n",
       " 2,\n",
       " 0,\n",
       " 2,\n",
       " 2,\n",
       " 4,\n",
       " 3,\n",
       " 2,\n",
       " 2,\n",
       " 3,\n",
       " 2,\n",
       " 4,\n",
       " 1,\n",
       " 1,\n",
       " 5,\n",
       " 3,\n",
       " 3,\n",
       " 0,\n",
       " 5,\n",
       " 2,\n",
       " 2,\n",
       " 3,\n",
       " 3,\n",
       " 2,\n",
       " 1,\n",
       " 1,\n",
       " 4,\n",
       " 4,\n",
       " 2,\n",
       " 1,\n",
       " 1,\n",
       " 0,\n",
       " 4,\n",
       " 2,\n",
       " 2,\n",
       " 2,\n",
       " 0,\n",
       " 4,\n",
       " 5,\n",
       " 1,\n",
       " 3,\n",
       " 1,\n",
       " 1,\n",
       " 3,\n",
       " 5,\n",
       " 2,\n",
       " 2,\n",
       " 1,\n",
       " 1,\n",
       " 1,\n",
       " 3,\n",
       " 0,\n",
       " 0,\n",
       " 1,\n",
       " 2,\n",
       " 3,\n",
       " 1,\n",
       " 1,\n",
       " 2,\n",
       " 2,\n",
       " 3,\n",
       " 0,\n",
       " 2,\n",
       " 2,\n",
       " 1,\n",
       " 1,\n",
       " 1,\n",
       " 0,\n",
       " 3,\n",
       " 2,\n",
       " 0,\n",
       " 1,\n",
       " 1,\n",
       " 3,\n",
       " 1,\n",
       " 2,\n",
       " 2,\n",
       " 2,\n",
       " 5,\n",
       " 1,\n",
       " 0,\n",
       " 1,\n",
       " 1,\n",
       " 2,\n",
       " 4,\n",
       " 2,\n",
       " 2,\n",
       " 3,\n",
       " 2,\n",
       " 1,\n",
       " 1,\n",
       " 0,\n",
       " 1,\n",
       " 3,\n",
       " 2,\n",
       " 3,\n",
       " 2,\n",
       " 5,\n",
       " 3,\n",
       " 1,\n",
       " 0,\n",
       " 3,\n",
       " 2,\n",
       " 3,\n",
       " 1,\n",
       " 1,\n",
       " 3,\n",
       " 2,\n",
       " 3,\n",
       " 2,\n",
       " 2,\n",
       " 1,\n",
       " 1,\n",
       " 1,\n",
       " 1,\n",
       " 2,\n",
       " 0,\n",
       " 3,\n",
       " 1,\n",
       " 1,\n",
       " 3,\n",
       " 0,\n",
       " 3,\n",
       " 3,\n",
       " 1,\n",
       " 5,\n",
       " 1,\n",
       " 2,\n",
       " 2,\n",
       " 3,\n",
       " 0,\n",
       " 4,\n",
       " 0,\n",
       " 1,\n",
       " 1,\n",
       " 3,\n",
       " 2,\n",
       " 3,\n",
       " 2,\n",
       " 2,\n",
       " 0,\n",
       " 1,\n",
       " 2,\n",
       " 4,\n",
       " 4,\n",
       " 2,\n",
       " 3,\n",
       " 0,\n",
       " 2,\n",
       " 1,\n",
       " 3,\n",
       " 2,\n",
       " 2,\n",
       " 5,\n",
       " 1,\n",
       " 5,\n",
       " 0,\n",
       " 2,\n",
       " 0,\n",
       " 1,\n",
       " 0,\n",
       " 0,\n",
       " 2,\n",
       " 2,\n",
       " 1,\n",
       " 3,\n",
       " 1,\n",
       " 2,\n",
       " 2,\n",
       " 2,\n",
       " 0,\n",
       " 2,\n",
       " 1,\n",
       " 2,\n",
       " 2,\n",
       " 2,\n",
       " 3,\n",
       " 2,\n",
       " 2,\n",
       " 2,\n",
       " 4,\n",
       " 1,\n",
       " 3,\n",
       " 2,\n",
       " 2,\n",
       " 0,\n",
       " 3,\n",
       " 2,\n",
       " 2,\n",
       " 2,\n",
       " 2,\n",
       " 2,\n",
       " 2,\n",
       " 1,\n",
       " 2,\n",
       " 0,\n",
       " 2,\n",
       " 1,\n",
       " 0,\n",
       " 2,\n",
       " 3,\n",
       " 1,\n",
       " 3,\n",
       " 1,\n",
       " 2,\n",
       " 2,\n",
       " 0,\n",
       " 2,\n",
       " 1,\n",
       " 3,\n",
       " 1,\n",
       " 1,\n",
       " 2,\n",
       " 1,\n",
       " 4,\n",
       " 3,\n",
       " 1,\n",
       " 4,\n",
       " 1,\n",
       " 4,\n",
       " 4,\n",
       " 1,\n",
       " 5,\n",
       " 2,\n",
       " 3,\n",
       " 3,\n",
       " 3,\n",
       " 3,\n",
       " 0,\n",
       " 1,\n",
       " 1,\n",
       " 2,\n",
       " 1,\n",
       " 1,\n",
       " 2,\n",
       " 1,\n",
       " 3,\n",
       " 1,\n",
       " 2,\n",
       " 1,\n",
       " 1,\n",
       " 1,\n",
       " 0,\n",
       " 3,\n",
       " 2,\n",
       " 3,\n",
       " 1,\n",
       " 3,\n",
       " 0,\n",
       " 1,\n",
       " 0,\n",
       " 1,\n",
       " 3,\n",
       " 3,\n",
       " 1,\n",
       " 2,\n",
       " 3,\n",
       " 2,\n",
       " 0,\n",
       " 1,\n",
       " 4,\n",
       " 4,\n",
       " 1,\n",
       " 0,\n",
       " 2,\n",
       " 2,\n",
       " 6,\n",
       " 2,\n",
       " 1,\n",
       " 1,\n",
       " 1,\n",
       " 1,\n",
       " 2,\n",
       " 4,\n",
       " 4,\n",
       " 4,\n",
       " 1,\n",
       " 1,\n",
       " 3,\n",
       " 2,\n",
       " 1,\n",
       " 1,\n",
       " 2,\n",
       " 1,\n",
       " 3,\n",
       " 3,\n",
       " 1,\n",
       " 1,\n",
       " 2,\n",
       " 2,\n",
       " 4,\n",
       " 3,\n",
       " 1,\n",
       " 1,\n",
       " 3,\n",
       " 0,\n",
       " 2,\n",
       " 3,\n",
       " 2,\n",
       " 4,\n",
       " 0,\n",
       " 2,\n",
       " 2,\n",
       " 0,\n",
       " 3,\n",
       " 2,\n",
       " 2,\n",
       " 5,\n",
       " 3,\n",
       " 1,\n",
       " 4,\n",
       " 1,\n",
       " 1,\n",
       " 4,\n",
       " 2,\n",
       " 1,\n",
       " 2,\n",
       " 1,\n",
       " 0,\n",
       " 1,\n",
       " 2,\n",
       " 1,\n",
       " 1,\n",
       " 0,\n",
       " 3,\n",
       " 1,\n",
       " 1,\n",
       " 4,\n",
       " 1,\n",
       " 0,\n",
       " 4,\n",
       " 5,\n",
       " 1,\n",
       " 4,\n",
       " 2,\n",
       " 2,\n",
       " 3,\n",
       " 4,\n",
       " 2,\n",
       " 4,\n",
       " 0,\n",
       " 4,\n",
       " 1,\n",
       " 1,\n",
       " 2,\n",
       " 2,\n",
       " 2,\n",
       " 1,\n",
       " 3,\n",
       " 5,\n",
       " 7,\n",
       " 1,\n",
       " 2,\n",
       " 2,\n",
       " 0,\n",
       " 4,\n",
       " 2,\n",
       " 3,\n",
       " 3,\n",
       " 3,\n",
       " 2,\n",
       " 1,\n",
       " 6,\n",
       " 4,\n",
       " 3,\n",
       " 1,\n",
       " 0,\n",
       " 0,\n",
       " 1,\n",
       " 2,\n",
       " 1,\n",
       " 1,\n",
       " 1,\n",
       " 2,\n",
       " 1,\n",
       " 2,\n",
       " 2,\n",
       " 2,\n",
       " 2,\n",
       " 2,\n",
       " 1,\n",
       " 2,\n",
       " 1,\n",
       " 2,\n",
       " 4,\n",
       " 0,\n",
       " 2,\n",
       " 1,\n",
       " 0,\n",
       " 2,\n",
       " 3,\n",
       " 2,\n",
       " 2,\n",
       " 3,\n",
       " 2,\n",
       " 0,\n",
       " 1,\n",
       " 2,\n",
       " 3,\n",
       " 3,\n",
       " 2,\n",
       " 3,\n",
       " 3,\n",
       " 2,\n",
       " 3,\n",
       " 2,\n",
       " 1,\n",
       " 2,\n",
       " 3,\n",
       " 3,\n",
       " 2,\n",
       " 4,\n",
       " 0,\n",
       " ...]"
      ]
     },
     "execution_count": 195,
     "metadata": {},
     "output_type": "execute_result"
    }
   ],
   "source": [
    "result"
   ]
  },
  {
   "cell_type": "code",
   "execution_count": 196,
   "id": "53e5b301",
   "metadata": {},
   "outputs": [
    {
     "data": {
      "text/plain": [
       "(array([1.180e+04, 2.700e+04, 2.909e+04, 1.930e+04, 8.918e+03, 2.964e+03,\n",
       "        7.590e+02, 1.500e+02, 2.000e+01, 3.000e+00, 0.000e+00, 0.000e+00,\n",
       "        0.000e+00, 0.000e+00, 0.000e+00]),\n",
       " array([ 0,  1,  2,  3,  4,  5,  6,  7,  8,  9, 10, 11, 12, 13, 14, 15]),\n",
       " <BarContainer object of 15 artists>)"
      ]
     },
     "execution_count": 196,
     "metadata": {},
     "output_type": "execute_result"
    },
    {
     "data": {
      "image/png": "[encoded data removed]",
      "text/plain": [
       "<Figure size 432x288 with 1 Axes>"
      ]
     },
     "metadata": {
      "needs_background": "light"
     },
     "output_type": "display_data"
    }
   ],
   "source": [
    "plt.hist(result, bins = range(0,16))"
   ]
  },
  {
   "cell_type": "code",
   "execution_count": 197,
   "id": "34e3ed7b",
   "metadata": {},
   "outputs": [
    {
     "data": {
      "text/plain": [
       "array([0., 5.])"
      ]
     },
     "execution_count": 197,
     "metadata": {},
     "output_type": "execute_result"
    }
   ],
   "source": [
    "np.quantile(result, [0.025, 0.975])"
   ]
  },
  {
   "cell_type": "code",
   "execution_count": 198,
   "id": "38f04f95",
   "metadata": {},
   "outputs": [
    {
     "name": "stdout",
     "output_type": "stream",
     "text": [
      "--2022-11-08 13:13:03--  https://raw.githubusercontent.com/taroyabuki/fromzero/master/data/exam.csv\n",
      "Resolving raw.githubusercontent.com (raw.githubusercontent.com)... 185.199.111.133, 185.199.109.133, 185.199.110.133, ...\n",
      "Connecting to raw.githubusercontent.com (raw.githubusercontent.com)|185.199.111.133|:443... connected.\n",
      "HTTP request sent, awaiting response... 200 OK\n",
      "Length: 66 [text/plain]\n",
      "Saving to: ‘exam.csv’\n",
      "\n",
      "exam.csv            100%[===================>]      66  --.-KB/s    in 0s      \n",
      "\n",
      "2022-11-08 13:13:03 (1.29 MB/s) - ‘exam.csv’ saved [66/66]\n",
      "\n"
     ]
    }
   ],
   "source": [
    "!wget https://raw.githubusercontent.com/taroyabuki/fromzero/master/data/exam.csv"
   ]
  },
  {
   "cell_type": "code",
   "execution_count": 199,
   "id": "007951e9",
   "metadata": {},
   "outputs": [],
   "source": [
    "my_url = ('https://raw.githubusercontent.com/taroyabuki/fromzero/master/data/exam.csv')\n",
    "my_df = pd.read_csv(my_url)"
   ]
  },
  {
   "cell_type": "code",
   "execution_count": 200,
   "id": "8901148f",
   "metadata": {},
   "outputs": [
    {
     "data": {
      "text/html": [
       "<div>\n",
       "<style scoped>\n",
       "    .dataframe tbody tr th:only-of-type {\n",
       "        vertical-align: middle;\n",
       "    }\n",
       "\n",
       "    .dataframe tbody tr th {\n",
       "        vertical-align: top;\n",
       "    }\n",
       "\n",
       "    .dataframe thead th {\n",
       "        text-align: right;\n",
       "    }\n",
       "</style>\n",
       "<table border=\"1\" class=\"dataframe\">\n",
       "  <thead>\n",
       "    <tr style=\"text-align: right;\">\n",
       "      <th></th>\n",
       "      <th>name</th>\n",
       "      <th>english</th>\n",
       "      <th>math</th>\n",
       "      <th>gender</th>\n",
       "    </tr>\n",
       "  </thead>\n",
       "  <tbody>\n",
       "    <tr>\n",
       "      <th>0</th>\n",
       "      <td>A</td>\n",
       "      <td>60</td>\n",
       "      <td>70</td>\n",
       "      <td>f</td>\n",
       "    </tr>\n",
       "    <tr>\n",
       "      <th>1</th>\n",
       "      <td>B</td>\n",
       "      <td>90</td>\n",
       "      <td>80</td>\n",
       "      <td>m</td>\n",
       "    </tr>\n",
       "    <tr>\n",
       "      <th>2</th>\n",
       "      <td>C</td>\n",
       "      <td>70</td>\n",
       "      <td>90</td>\n",
       "      <td>m</td>\n",
       "    </tr>\n",
       "    <tr>\n",
       "      <th>3</th>\n",
       "      <td>D</td>\n",
       "      <td>90</td>\n",
       "      <td>100</td>\n",
       "      <td>f</td>\n",
       "    </tr>\n",
       "  </tbody>\n",
       "</table>\n",
       "</div>"
      ],
      "text/plain": [
       "  name  english  math gender\n",
       "0    A       60    70      f\n",
       "1    B       90    80      m\n",
       "2    C       70    90      m\n",
       "3    D       90   100      f"
      ]
     },
     "execution_count": 200,
     "metadata": {},
     "output_type": "execute_result"
    }
   ],
   "source": [
    "my_df"
   ]
  },
  {
   "cell_type": "code",
   "execution_count": 201,
   "id": "7eb42cff",
   "metadata": {},
   "outputs": [
    {
     "data": {
      "text/html": [
       "<div>\n",
       "<style scoped>\n",
       "    .dataframe tbody tr th:only-of-type {\n",
       "        vertical-align: middle;\n",
       "    }\n",
       "\n",
       "    .dataframe tbody tr th {\n",
       "        vertical-align: top;\n",
       "    }\n",
       "\n",
       "    .dataframe thead th {\n",
       "        text-align: right;\n",
       "    }\n",
       "</style>\n",
       "<table border=\"1\" class=\"dataframe\">\n",
       "  <thead>\n",
       "    <tr style=\"text-align: right;\">\n",
       "      <th></th>\n",
       "      <th>english</th>\n",
       "      <th>math</th>\n",
       "      <th>gender</th>\n",
       "    </tr>\n",
       "    <tr>\n",
       "      <th>name</th>\n",
       "      <th></th>\n",
       "      <th></th>\n",
       "      <th></th>\n",
       "    </tr>\n",
       "  </thead>\n",
       "  <tbody>\n",
       "    <tr>\n",
       "      <th>A</th>\n",
       "      <td>60</td>\n",
       "      <td>70</td>\n",
       "      <td>f</td>\n",
       "    </tr>\n",
       "    <tr>\n",
       "      <th>B</th>\n",
       "      <td>90</td>\n",
       "      <td>80</td>\n",
       "      <td>m</td>\n",
       "    </tr>\n",
       "    <tr>\n",
       "      <th>C</th>\n",
       "      <td>70</td>\n",
       "      <td>90</td>\n",
       "      <td>m</td>\n",
       "    </tr>\n",
       "    <tr>\n",
       "      <th>D</th>\n",
       "      <td>90</td>\n",
       "      <td>100</td>\n",
       "      <td>f</td>\n",
       "    </tr>\n",
       "  </tbody>\n",
       "</table>\n",
       "</div>"
      ],
      "text/plain": [
       "      english  math gender\n",
       "name                      \n",
       "A          60    70      f\n",
       "B          90    80      m\n",
       "C          70    90      m\n",
       "D          90   100      f"
      ]
     },
     "execution_count": 201,
     "metadata": {},
     "output_type": "execute_result"
    }
   ],
   "source": [
    "my_df2 = pd.read_csv('exam.csv', index_col = 'name')\n",
    "my_df2"
   ]
  },
  {
   "cell_type": "code",
   "execution_count": 202,
   "id": "87f9b233",
   "metadata": {},
   "outputs": [],
   "source": [
    "my_df = pd.read_csv('exam.csv', encoding = 'UTF-8')"
   ]
  },
  {
   "cell_type": "code",
   "execution_count": 203,
   "id": "fe032108",
   "metadata": {},
   "outputs": [
    {
     "data": {
      "text/html": [
       "<div>\n",
       "<style scoped>\n",
       "    .dataframe tbody tr th:only-of-type {\n",
       "        vertical-align: middle;\n",
       "    }\n",
       "\n",
       "    .dataframe tbody tr th {\n",
       "        vertical-align: top;\n",
       "    }\n",
       "\n",
       "    .dataframe thead th {\n",
       "        text-align: right;\n",
       "    }\n",
       "</style>\n",
       "<table border=\"1\" class=\"dataframe\">\n",
       "  <thead>\n",
       "    <tr style=\"text-align: right;\">\n",
       "      <th></th>\n",
       "      <th>name</th>\n",
       "      <th>english</th>\n",
       "      <th>math</th>\n",
       "      <th>gender</th>\n",
       "    </tr>\n",
       "  </thead>\n",
       "  <tbody>\n",
       "    <tr>\n",
       "      <th>0</th>\n",
       "      <td>A</td>\n",
       "      <td>60</td>\n",
       "      <td>70</td>\n",
       "      <td>f</td>\n",
       "    </tr>\n",
       "    <tr>\n",
       "      <th>1</th>\n",
       "      <td>B</td>\n",
       "      <td>90</td>\n",
       "      <td>80</td>\n",
       "      <td>m</td>\n",
       "    </tr>\n",
       "    <tr>\n",
       "      <th>2</th>\n",
       "      <td>C</td>\n",
       "      <td>70</td>\n",
       "      <td>90</td>\n",
       "      <td>m</td>\n",
       "    </tr>\n",
       "    <tr>\n",
       "      <th>3</th>\n",
       "      <td>D</td>\n",
       "      <td>90</td>\n",
       "      <td>100</td>\n",
       "      <td>f</td>\n",
       "    </tr>\n",
       "  </tbody>\n",
       "</table>\n",
       "</div>"
      ],
      "text/plain": [
       "  name  english  math gender\n",
       "0    A       60    70      f\n",
       "1    B       90    80      m\n",
       "2    C       70    90      m\n",
       "3    D       90   100      f"
      ]
     },
     "execution_count": 203,
     "metadata": {},
     "output_type": "execute_result"
    }
   ],
   "source": [
    "my_df"
   ]
  },
  {
   "cell_type": "code",
   "execution_count": 205,
   "id": "1d157097",
   "metadata": {},
   "outputs": [],
   "source": [
    "my_df.to_csv('exam2.csv', index = False)"
   ]
  },
  {
   "cell_type": "code",
   "execution_count": 206,
   "id": "9506c92b",
   "metadata": {},
   "outputs": [],
   "source": [
    "my_df2.to_csv('exam3.csv')"
   ]
  },
  {
   "cell_type": "code",
   "execution_count": 207,
   "id": "6c06e564",
   "metadata": {},
   "outputs": [],
   "source": [
    "my_url = 'https://github.com/taroyabuki/fromzero/blob/master/data/exam.csv'\n",
    "my_tables = pd.read_html(my_url)"
   ]
  },
  {
   "cell_type": "code",
   "execution_count": 208,
   "id": "2d533948",
   "metadata": {},
   "outputs": [
    {
     "data": {
      "text/plain": [
       "[   Unnamed: 0 name  english  math gender\n",
       " 0         NaN    A       60    70      f\n",
       " 1         NaN    B       90    80      m\n",
       " 2         NaN    C       70    90      m\n",
       " 3         NaN    D       90   100      f]"
      ]
     },
     "execution_count": 208,
     "metadata": {},
     "output_type": "execute_result"
    }
   ],
   "source": [
    "my_tables"
   ]
  },
  {
   "cell_type": "code",
   "execution_count": 209,
   "id": "18af0f43",
   "metadata": {},
   "outputs": [
    {
     "data": {
      "text/plain": [
       "[   Unnamed: 0 name  english  math gender\n",
       " 0         NaN    A       60    70      f\n",
       " 1         NaN    B       90    80      m\n",
       " 2         NaN    C       70    90      m\n",
       " 3         NaN    D       90   100      f]"
      ]
     },
     "execution_count": 209,
     "metadata": {},
     "output_type": "execute_result"
    }
   ],
   "source": [
    "my_tables"
   ]
  },
  {
   "cell_type": "code",
   "execution_count": 210,
   "id": "2d745b72",
   "metadata": {},
   "outputs": [
    {
     "data": {
      "text/html": [
       "<div>\n",
       "<style scoped>\n",
       "    .dataframe tbody tr th:only-of-type {\n",
       "        vertical-align: middle;\n",
       "    }\n",
       "\n",
       "    .dataframe tbody tr th {\n",
       "        vertical-align: top;\n",
       "    }\n",
       "\n",
       "    .dataframe thead th {\n",
       "        text-align: right;\n",
       "    }\n",
       "</style>\n",
       "<table border=\"1\" class=\"dataframe\">\n",
       "  <thead>\n",
       "    <tr style=\"text-align: right;\">\n",
       "      <th></th>\n",
       "      <th>Unnamed: 0</th>\n",
       "      <th>name</th>\n",
       "      <th>english</th>\n",
       "      <th>math</th>\n",
       "      <th>gender</th>\n",
       "    </tr>\n",
       "  </thead>\n",
       "  <tbody>\n",
       "    <tr>\n",
       "      <th>0</th>\n",
       "      <td>NaN</td>\n",
       "      <td>A</td>\n",
       "      <td>60</td>\n",
       "      <td>70</td>\n",
       "      <td>f</td>\n",
       "    </tr>\n",
       "    <tr>\n",
       "      <th>1</th>\n",
       "      <td>NaN</td>\n",
       "      <td>B</td>\n",
       "      <td>90</td>\n",
       "      <td>80</td>\n",
       "      <td>m</td>\n",
       "    </tr>\n",
       "    <tr>\n",
       "      <th>2</th>\n",
       "      <td>NaN</td>\n",
       "      <td>C</td>\n",
       "      <td>70</td>\n",
       "      <td>90</td>\n",
       "      <td>m</td>\n",
       "    </tr>\n",
       "    <tr>\n",
       "      <th>3</th>\n",
       "      <td>NaN</td>\n",
       "      <td>D</td>\n",
       "      <td>90</td>\n",
       "      <td>100</td>\n",
       "      <td>f</td>\n",
       "    </tr>\n",
       "  </tbody>\n",
       "</table>\n",
       "</div>"
      ],
      "text/plain": [
       "   Unnamed: 0 name  english  math gender\n",
       "0         NaN    A       60    70      f\n",
       "1         NaN    B       90    80      m\n",
       "2         NaN    C       70    90      m\n",
       "3         NaN    D       90   100      f"
      ]
     },
     "execution_count": 210,
     "metadata": {},
     "output_type": "execute_result"
    }
   ],
   "source": [
    "my_tables[0]"
   ]
  },
  {
   "cell_type": "code",
   "execution_count": 211,
   "id": "affc0232",
   "metadata": {},
   "outputs": [
    {
     "data": {
      "text/html": [
       "<div>\n",
       "<style scoped>\n",
       "    .dataframe tbody tr th:only-of-type {\n",
       "        vertical-align: middle;\n",
       "    }\n",
       "\n",
       "    .dataframe tbody tr th {\n",
       "        vertical-align: top;\n",
       "    }\n",
       "\n",
       "    .dataframe thead th {\n",
       "        text-align: right;\n",
       "    }\n",
       "</style>\n",
       "<table border=\"1\" class=\"dataframe\">\n",
       "  <thead>\n",
       "    <tr style=\"text-align: right;\">\n",
       "      <th></th>\n",
       "      <th>name</th>\n",
       "      <th>english</th>\n",
       "      <th>math</th>\n",
       "      <th>gender</th>\n",
       "    </tr>\n",
       "  </thead>\n",
       "  <tbody>\n",
       "    <tr>\n",
       "      <th>0</th>\n",
       "      <td>A</td>\n",
       "      <td>60</td>\n",
       "      <td>70</td>\n",
       "      <td>f</td>\n",
       "    </tr>\n",
       "    <tr>\n",
       "      <th>1</th>\n",
       "      <td>B</td>\n",
       "      <td>90</td>\n",
       "      <td>80</td>\n",
       "      <td>m</td>\n",
       "    </tr>\n",
       "    <tr>\n",
       "      <th>2</th>\n",
       "      <td>C</td>\n",
       "      <td>70</td>\n",
       "      <td>90</td>\n",
       "      <td>m</td>\n",
       "    </tr>\n",
       "    <tr>\n",
       "      <th>3</th>\n",
       "      <td>D</td>\n",
       "      <td>90</td>\n",
       "      <td>100</td>\n",
       "      <td>f</td>\n",
       "    </tr>\n",
       "  </tbody>\n",
       "</table>\n",
       "</div>"
      ],
      "text/plain": [
       "  name  english  math gender\n",
       "0    A       60    70      f\n",
       "1    B       90    80      m\n",
       "2    C       70    90      m\n",
       "3    D       90   100      f"
      ]
     },
     "execution_count": 211,
     "metadata": {},
     "output_type": "execute_result"
    }
   ],
   "source": [
    "my_data = my_tables[0].iloc[:, 1:]\n",
    "my_data"
   ]
  },
  {
   "cell_type": "code",
   "execution_count": 212,
   "id": "1487cf81",
   "metadata": {},
   "outputs": [
    {
     "data": {
      "text/html": [
       "<div>\n",
       "<style scoped>\n",
       "    .dataframe tbody tr th:only-of-type {\n",
       "        vertical-align: middle;\n",
       "    }\n",
       "\n",
       "    .dataframe tbody tr th {\n",
       "        vertical-align: top;\n",
       "    }\n",
       "\n",
       "    .dataframe thead th {\n",
       "        text-align: right;\n",
       "    }\n",
       "</style>\n",
       "<table border=\"1\" class=\"dataframe\">\n",
       "  <thead>\n",
       "    <tr style=\"text-align: right;\">\n",
       "      <th></th>\n",
       "      <th>name</th>\n",
       "      <th>english</th>\n",
       "      <th>math</th>\n",
       "      <th>gender</th>\n",
       "    </tr>\n",
       "  </thead>\n",
       "  <tbody>\n",
       "    <tr>\n",
       "      <th>0</th>\n",
       "      <td>A</td>\n",
       "      <td>60</td>\n",
       "      <td>70</td>\n",
       "      <td>f</td>\n",
       "    </tr>\n",
       "    <tr>\n",
       "      <th>1</th>\n",
       "      <td>B</td>\n",
       "      <td>90</td>\n",
       "      <td>80</td>\n",
       "      <td>m</td>\n",
       "    </tr>\n",
       "    <tr>\n",
       "      <th>2</th>\n",
       "      <td>C</td>\n",
       "      <td>70</td>\n",
       "      <td>90</td>\n",
       "      <td>m</td>\n",
       "    </tr>\n",
       "    <tr>\n",
       "      <th>3</th>\n",
       "      <td>D</td>\n",
       "      <td>90</td>\n",
       "      <td>100</td>\n",
       "      <td>f</td>\n",
       "    </tr>\n",
       "  </tbody>\n",
       "</table>\n",
       "</div>"
      ],
      "text/plain": [
       "  name  english  math gender\n",
       "0    A       60    70      f\n",
       "1    B       90    80      m\n",
       "2    C       70    90      m\n",
       "3    D       90   100      f"
      ]
     },
     "execution_count": 212,
     "metadata": {},
     "output_type": "execute_result"
    }
   ],
   "source": [
    "my_url = ('https://raw.githubusercontent.com/taroyabuki/fromzero/master/data/exam.json')\n",
    "my_data = pd.read_json(my_url)\n",
    "my_data"
   ]
  },
  {
   "cell_type": "code",
   "execution_count": 213,
   "id": "66be847e",
   "metadata": {},
   "outputs": [],
   "source": [
    "import xml.etree.ElementTree as ET\n",
    "from urllib.request import urlopen\n",
    "\n",
    "my_url = ('https://raw.githubusercontent.com/taroyabuki/fromzero/master/data/exam.xml')\n",
    "with urlopen(my_url) as f:\n",
    "    my_tree = ET.parse(f)\n",
    "    \n",
    "my_ns = '{https://www.example.net/ns/1.0}'"
   ]
  },
  {
   "cell_type": "code",
   "execution_count": 215,
   "id": "1f94b8c3",
   "metadata": {},
   "outputs": [],
   "source": [
    "my_records = my_tree.findall(f'.//{my_ns}record')"
   ]
  },
  {
   "cell_type": "code",
   "execution_count": 216,
   "id": "c13087bc",
   "metadata": {},
   "outputs": [],
   "source": [
    "def f(record):\n",
    "    my_dic1 = record.attrib\n",
    "    my_dic2 = {child.tag.replace(my_ns, ''): child.text for child in list(record)}\n",
    "    return {**my_dic1, **my_dic2}\n"
   ]
  },
  {
   "cell_type": "code",
   "execution_count": 217,
   "id": "14198e1c",
   "metadata": {},
   "outputs": [
    {
     "data": {
      "text/html": [
       "<div>\n",
       "<style scoped>\n",
       "    .dataframe tbody tr th:only-of-type {\n",
       "        vertical-align: middle;\n",
       "    }\n",
       "\n",
       "    .dataframe tbody tr th {\n",
       "        vertical-align: top;\n",
       "    }\n",
       "\n",
       "    .dataframe thead th {\n",
       "        text-align: right;\n",
       "    }\n",
       "</style>\n",
       "<table border=\"1\" class=\"dataframe\">\n",
       "  <thead>\n",
       "    <tr style=\"text-align: right;\">\n",
       "      <th></th>\n",
       "      <th>english</th>\n",
       "      <th>math</th>\n",
       "      <th>gender</th>\n",
       "      <th>name</th>\n",
       "    </tr>\n",
       "  </thead>\n",
       "  <tbody>\n",
       "    <tr>\n",
       "      <th>0</th>\n",
       "      <td>60</td>\n",
       "      <td>70</td>\n",
       "      <td>f</td>\n",
       "      <td>A</td>\n",
       "    </tr>\n",
       "    <tr>\n",
       "      <th>1</th>\n",
       "      <td>90</td>\n",
       "      <td>80</td>\n",
       "      <td>m</td>\n",
       "      <td>B</td>\n",
       "    </tr>\n",
       "    <tr>\n",
       "      <th>2</th>\n",
       "      <td>70</td>\n",
       "      <td>90</td>\n",
       "      <td>m</td>\n",
       "      <td>C</td>\n",
       "    </tr>\n",
       "    <tr>\n",
       "      <th>3</th>\n",
       "      <td>90</td>\n",
       "      <td>100</td>\n",
       "      <td>f</td>\n",
       "      <td>D</td>\n",
       "    </tr>\n",
       "  </tbody>\n",
       "</table>\n",
       "</div>"
      ],
      "text/plain": [
       "   english  math gender name\n",
       "0       60    70      f    A\n",
       "1       90    80      m    B\n",
       "2       70    90      m    C\n",
       "3       90   100      f    D"
      ]
     },
     "execution_count": 217,
     "metadata": {},
     "output_type": "execute_result"
    }
   ],
   "source": [
    "my_data = pd.DataFrame([f(record) for record in my_records])\n",
    "my_data['english'] = pd.to_numeric(my_data['english'])\n",
    "my_data['math'] = pd.to_numeric(my_data['math'])\n",
    "my_data"
   ]
  },
  {
   "cell_type": "code",
   "execution_count": 218,
   "id": "26888396",
   "metadata": {},
   "outputs": [],
   "source": [
    "from scipy.stats import zscore\n",
    "\n",
    "x1 = [1,2,3]\n",
    "z1  = zscore(x1, ddof = 1)"
   ]
  },
  {
   "cell_type": "code",
   "execution_count": 219,
   "id": "76bedb7b",
   "metadata": {},
   "outputs": [
    {
     "data": {
      "text/plain": [
       "array([-1.,  0.,  1.])"
      ]
     },
     "execution_count": 219,
     "metadata": {},
     "output_type": "execute_result"
    }
   ],
   "source": [
    "z1"
   ]
  },
  {
   "cell_type": "code",
   "execution_count": 220,
   "id": "035e40c1",
   "metadata": {},
   "outputs": [
    {
     "data": {
      "text/plain": [
       "(0.0, 1.0)"
      ]
     },
     "execution_count": 220,
     "metadata": {},
     "output_type": "execute_result"
    }
   ],
   "source": [
    "z1.mean(), np.std(z1, ddof=1)"
   ]
  },
  {
   "cell_type": "code",
   "execution_count": 221,
   "id": "331a0c8e",
   "metadata": {},
   "outputs": [
    {
     "data": {
      "text/plain": [
       "array([1., 2., 3.])"
      ]
     },
     "execution_count": 221,
     "metadata": {},
     "output_type": "execute_result"
    }
   ],
   "source": [
    "z1 * np.std(x1, ddof=1) + np.mean(x1) "
   ]
  },
  {
   "cell_type": "code",
   "execution_count": 222,
   "id": "92397cce",
   "metadata": {},
   "outputs": [],
   "source": [
    "x2 = [1,3,5]\n",
    "z2 = ((x2 - np.mean(x1)) / np.std(x1, ddof=1))"
   ]
  },
  {
   "cell_type": "code",
   "execution_count": 223,
   "id": "53f0bf8e",
   "metadata": {},
   "outputs": [
    {
     "data": {
      "text/plain": [
       "array([-1.,  1.,  3.])"
      ]
     },
     "execution_count": 223,
     "metadata": {},
     "output_type": "execute_result"
    }
   ],
   "source": [
    "z2"
   ]
  },
  {
   "cell_type": "code",
   "execution_count": 224,
   "id": "4bab4b89",
   "metadata": {},
   "outputs": [
    {
     "data": {
      "text/plain": [
       "(1.0, 2.0)"
      ]
     },
     "execution_count": 224,
     "metadata": {},
     "output_type": "execute_result"
    }
   ],
   "source": [
    "z2.mean(), np.std(z2, ddof=1)"
   ]
  },
  {
   "cell_type": "code",
   "execution_count": 225,
   "id": "4c2a0365",
   "metadata": {},
   "outputs": [
    {
     "data": {
      "text/html": [
       "<div>\n",
       "<style scoped>\n",
       "    .dataframe tbody tr th:only-of-type {\n",
       "        vertical-align: middle;\n",
       "    }\n",
       "\n",
       "    .dataframe tbody tr th {\n",
       "        vertical-align: top;\n",
       "    }\n",
       "\n",
       "    .dataframe thead th {\n",
       "        text-align: right;\n",
       "    }\n",
       "</style>\n",
       "<table border=\"1\" class=\"dataframe\">\n",
       "  <thead>\n",
       "    <tr style=\"text-align: right;\">\n",
       "      <th></th>\n",
       "      <th>x0_A</th>\n",
       "      <th>x0_B</th>\n",
       "      <th>x0_C</th>\n",
       "    </tr>\n",
       "  </thead>\n",
       "  <tbody>\n",
       "    <tr>\n",
       "      <th>0</th>\n",
       "      <td>1.00</td>\n",
       "      <td>0.00</td>\n",
       "      <td>0.00</td>\n",
       "    </tr>\n",
       "    <tr>\n",
       "      <th>1</th>\n",
       "      <td>0.00</td>\n",
       "      <td>1.00</td>\n",
       "      <td>0.00</td>\n",
       "    </tr>\n",
       "    <tr>\n",
       "      <th>2</th>\n",
       "      <td>0.00</td>\n",
       "      <td>0.00</td>\n",
       "      <td>1.00</td>\n",
       "    </tr>\n",
       "  </tbody>\n",
       "</table>\n",
       "</div>"
      ],
      "text/plain": [
       "   x0_A  x0_B  x0_C\n",
       "0  1.00  0.00  0.00\n",
       "1  0.00  1.00  0.00\n",
       "2  0.00  0.00  1.00"
      ]
     },
     "execution_count": 225,
     "metadata": {},
     "output_type": "execute_result"
    }
   ],
   "source": [
    "from sklearn.preprocessing import (OneHotEncoder)\n",
    "my_df = pd.DataFrame({\n",
    "    'id': [1,2,3],\n",
    "    'class': ['A', 'B', 'C']\n",
    "})\n",
    "\n",
    "my_enc = OneHotEncoder()\n",
    "tmp = my_enc.fit_transform(my_df[['class']]).toarray()\n",
    "my_names = my_enc.get_feature_names()\n",
    "pd.DataFrame(tmp, columns = my_names)"
   ]
  },
  {
   "cell_type": "code",
   "execution_count": 227,
   "id": "ce429884",
   "metadata": {},
   "outputs": [
    {
     "data": {
      "text/html": [
       "<div>\n",
       "<style scoped>\n",
       "    .dataframe tbody tr th:only-of-type {\n",
       "        vertical-align: middle;\n",
       "    }\n",
       "\n",
       "    .dataframe tbody tr th {\n",
       "        vertical-align: top;\n",
       "    }\n",
       "\n",
       "    .dataframe thead th {\n",
       "        text-align: right;\n",
       "    }\n",
       "</style>\n",
       "<table border=\"1\" class=\"dataframe\">\n",
       "  <thead>\n",
       "    <tr style=\"text-align: right;\">\n",
       "      <th></th>\n",
       "      <th>x0_A</th>\n",
       "      <th>x0_B</th>\n",
       "      <th>x0_C</th>\n",
       "    </tr>\n",
       "  </thead>\n",
       "  <tbody>\n",
       "    <tr>\n",
       "      <th>0</th>\n",
       "      <td>0.00</td>\n",
       "      <td>1.00</td>\n",
       "      <td>0.00</td>\n",
       "    </tr>\n",
       "    <tr>\n",
       "      <th>1</th>\n",
       "      <td>0.00</td>\n",
       "      <td>0.00</td>\n",
       "      <td>1.00</td>\n",
       "    </tr>\n",
       "    <tr>\n",
       "      <th>2</th>\n",
       "      <td>0.00</td>\n",
       "      <td>1.00</td>\n",
       "      <td>0.00</td>\n",
       "    </tr>\n",
       "  </tbody>\n",
       "</table>\n",
       "</div>"
      ],
      "text/plain": [
       "   x0_A  x0_B  x0_C\n",
       "0  0.00  1.00  0.00\n",
       "1  0.00  0.00  1.00\n",
       "2  0.00  1.00  0.00"
      ]
     },
     "execution_count": 227,
     "metadata": {},
     "output_type": "execute_result"
    }
   ],
   "source": [
    "my_df2 = pd.DataFrame({\n",
    "    'id': [4,5,6],\n",
    "    'class': ['B', 'C', 'B']\n",
    "})\n",
    "tmp = my_enc.transform(my_df2[['class']]).toarray()\n",
    "pd.DataFrame(tmp, columns = my_names)"
   ]
  },
  {
   "cell_type": "code",
   "execution_count": 228,
   "id": "463bf07f",
   "metadata": {},
   "outputs": [
    {
     "data": {
      "text/html": [
       "<div>\n",
       "<style scoped>\n",
       "    .dataframe tbody tr th:only-of-type {\n",
       "        vertical-align: middle;\n",
       "    }\n",
       "\n",
       "    .dataframe tbody tr th {\n",
       "        vertical-align: top;\n",
       "    }\n",
       "\n",
       "    .dataframe thead th {\n",
       "        text-align: right;\n",
       "    }\n",
       "</style>\n",
       "<table border=\"1\" class=\"dataframe\">\n",
       "  <thead>\n",
       "    <tr style=\"text-align: right;\">\n",
       "      <th></th>\n",
       "      <th>x0_B</th>\n",
       "      <th>x0_C</th>\n",
       "    </tr>\n",
       "  </thead>\n",
       "  <tbody>\n",
       "    <tr>\n",
       "      <th>0</th>\n",
       "      <td>0.00</td>\n",
       "      <td>0.00</td>\n",
       "    </tr>\n",
       "    <tr>\n",
       "      <th>1</th>\n",
       "      <td>1.00</td>\n",
       "      <td>0.00</td>\n",
       "    </tr>\n",
       "    <tr>\n",
       "      <th>2</th>\n",
       "      <td>0.00</td>\n",
       "      <td>1.00</td>\n",
       "    </tr>\n",
       "  </tbody>\n",
       "</table>\n",
       "</div>"
      ],
      "text/plain": [
       "   x0_B  x0_C\n",
       "0  0.00  0.00\n",
       "1  1.00  0.00\n",
       "2  0.00  1.00"
      ]
     },
     "execution_count": 228,
     "metadata": {},
     "output_type": "execute_result"
    }
   ],
   "source": [
    "my_enc = OneHotEncoder(drop = 'first')\n",
    "\n",
    "tmp = my_enc.fit_transform(my_df[['class']]).toarray()\n",
    "my_names = my_enc.get_feature_names()\n",
    "pd.DataFrame(tmp, columns = my_names)"
   ]
  },
  {
   "cell_type": "code",
   "execution_count": 229,
   "id": "71fb4961",
   "metadata": {},
   "outputs": [
    {
     "data": {
      "text/html": [
       "<div>\n",
       "<style scoped>\n",
       "    .dataframe tbody tr th:only-of-type {\n",
       "        vertical-align: middle;\n",
       "    }\n",
       "\n",
       "    .dataframe tbody tr th {\n",
       "        vertical-align: top;\n",
       "    }\n",
       "\n",
       "    .dataframe thead th {\n",
       "        text-align: right;\n",
       "    }\n",
       "</style>\n",
       "<table border=\"1\" class=\"dataframe\">\n",
       "  <thead>\n",
       "    <tr style=\"text-align: right;\">\n",
       "      <th></th>\n",
       "      <th>x0_B</th>\n",
       "      <th>x0_C</th>\n",
       "    </tr>\n",
       "  </thead>\n",
       "  <tbody>\n",
       "    <tr>\n",
       "      <th>0</th>\n",
       "      <td>1.00</td>\n",
       "      <td>0.00</td>\n",
       "    </tr>\n",
       "    <tr>\n",
       "      <th>1</th>\n",
       "      <td>0.00</td>\n",
       "      <td>1.00</td>\n",
       "    </tr>\n",
       "    <tr>\n",
       "      <th>2</th>\n",
       "      <td>1.00</td>\n",
       "      <td>0.00</td>\n",
       "    </tr>\n",
       "  </tbody>\n",
       "</table>\n",
       "</div>"
      ],
      "text/plain": [
       "   x0_B  x0_C\n",
       "0  1.00  0.00\n",
       "1  0.00  1.00\n",
       "2  1.00  0.00"
      ]
     },
     "execution_count": 229,
     "metadata": {},
     "output_type": "execute_result"
    }
   ],
   "source": [
    "tmp = my_enc.transform(my_df2[['class']]).toarray()\n",
    "pd.DataFrame(tmp, columns = my_names)"
   ]
  },
  {
   "cell_type": "code",
   "execution_count": 231,
   "id": "e9a3f29e",
   "metadata": {},
   "outputs": [
    {
     "data": {
      "text/html": [
       "<div>\n",
       "<style scoped>\n",
       "    .dataframe tbody tr th:only-of-type {\n",
       "        vertical-align: middle;\n",
       "    }\n",
       "\n",
       "    .dataframe tbody tr th {\n",
       "        vertical-align: top;\n",
       "    }\n",
       "\n",
       "    .dataframe thead th {\n",
       "        text-align: right;\n",
       "    }\n",
       "</style>\n",
       "<table border=\"1\" class=\"dataframe\">\n",
       "  <thead>\n",
       "    <tr style=\"text-align: right;\">\n",
       "      <th></th>\n",
       "      <th>Sepal.Length</th>\n",
       "      <th>Sepal.Width</th>\n",
       "      <th>Petal.Length</th>\n",
       "      <th>Petal.Width</th>\n",
       "      <th>Species</th>\n",
       "    </tr>\n",
       "  </thead>\n",
       "  <tbody>\n",
       "    <tr>\n",
       "      <th>0</th>\n",
       "      <td>5.10</td>\n",
       "      <td>3.50</td>\n",
       "      <td>1.40</td>\n",
       "      <td>0.20</td>\n",
       "      <td>setosa</td>\n",
       "    </tr>\n",
       "    <tr>\n",
       "      <th>1</th>\n",
       "      <td>4.90</td>\n",
       "      <td>3.00</td>\n",
       "      <td>1.40</td>\n",
       "      <td>0.20</td>\n",
       "      <td>setosa</td>\n",
       "    </tr>\n",
       "    <tr>\n",
       "      <th>2</th>\n",
       "      <td>4.70</td>\n",
       "      <td>3.20</td>\n",
       "      <td>1.30</td>\n",
       "      <td>0.20</td>\n",
       "      <td>setosa</td>\n",
       "    </tr>\n",
       "    <tr>\n",
       "      <th>3</th>\n",
       "      <td>4.60</td>\n",
       "      <td>3.10</td>\n",
       "      <td>1.50</td>\n",
       "      <td>0.20</td>\n",
       "      <td>setosa</td>\n",
       "    </tr>\n",
       "    <tr>\n",
       "      <th>4</th>\n",
       "      <td>5.00</td>\n",
       "      <td>3.60</td>\n",
       "      <td>1.40</td>\n",
       "      <td>0.20</td>\n",
       "      <td>setosa</td>\n",
       "    </tr>\n",
       "  </tbody>\n",
       "</table>\n",
       "</div>"
      ],
      "text/plain": [
       "   Sepal.Length  Sepal.Width  Petal.Length  Petal.Width Species\n",
       "0          5.10         3.50          1.40         0.20  setosa\n",
       "1          4.90         3.00          1.40         0.20  setosa\n",
       "2          4.70         3.20          1.30         0.20  setosa\n",
       "3          4.60         3.10          1.50         0.20  setosa\n",
       "4          5.00         3.60          1.40         0.20  setosa"
      ]
     },
     "execution_count": 231,
     "metadata": {},
     "output_type": "execute_result"
    }
   ],
   "source": [
    "import statsmodels.api as sm\n",
    "iris = sm.datasets.get_rdataset('iris', 'datasets').data\n",
    "iris.head()"
   ]
  },
  {
   "cell_type": "code",
   "execution_count": 232,
   "id": "2a182672",
   "metadata": {},
   "outputs": [],
   "source": [
    "import statsmodels.api as sm\n",
    "my_data = sm.datasets.get_rdataset('cars', 'datasets').data"
   ]
  },
  {
   "cell_type": "code",
   "execution_count": 234,
   "id": "c4b066b9",
   "metadata": {},
   "outputs": [
    {
     "data": {
      "text/html": [
       "<div>\n",
       "<style scoped>\n",
       "    .dataframe tbody tr th:only-of-type {\n",
       "        vertical-align: middle;\n",
       "    }\n",
       "\n",
       "    .dataframe tbody tr th {\n",
       "        vertical-align: top;\n",
       "    }\n",
       "\n",
       "    .dataframe thead th {\n",
       "        text-align: right;\n",
       "    }\n",
       "</style>\n",
       "<table border=\"1\" class=\"dataframe\">\n",
       "  <thead>\n",
       "    <tr style=\"text-align: right;\">\n",
       "      <th></th>\n",
       "      <th>speed</th>\n",
       "      <th>dist</th>\n",
       "    </tr>\n",
       "  </thead>\n",
       "  <tbody>\n",
       "    <tr>\n",
       "      <th>0</th>\n",
       "      <td>4</td>\n",
       "      <td>2</td>\n",
       "    </tr>\n",
       "    <tr>\n",
       "      <th>1</th>\n",
       "      <td>4</td>\n",
       "      <td>10</td>\n",
       "    </tr>\n",
       "    <tr>\n",
       "      <th>2</th>\n",
       "      <td>7</td>\n",
       "      <td>4</td>\n",
       "    </tr>\n",
       "    <tr>\n",
       "      <th>3</th>\n",
       "      <td>7</td>\n",
       "      <td>22</td>\n",
       "    </tr>\n",
       "    <tr>\n",
       "      <th>4</th>\n",
       "      <td>8</td>\n",
       "      <td>16</td>\n",
       "    </tr>\n",
       "    <tr>\n",
       "      <th>5</th>\n",
       "      <td>9</td>\n",
       "      <td>10</td>\n",
       "    </tr>\n",
       "    <tr>\n",
       "      <th>6</th>\n",
       "      <td>10</td>\n",
       "      <td>18</td>\n",
       "    </tr>\n",
       "    <tr>\n",
       "      <th>7</th>\n",
       "      <td>10</td>\n",
       "      <td>26</td>\n",
       "    </tr>\n",
       "    <tr>\n",
       "      <th>8</th>\n",
       "      <td>10</td>\n",
       "      <td>34</td>\n",
       "    </tr>\n",
       "    <tr>\n",
       "      <th>9</th>\n",
       "      <td>11</td>\n",
       "      <td>17</td>\n",
       "    </tr>\n",
       "    <tr>\n",
       "      <th>10</th>\n",
       "      <td>11</td>\n",
       "      <td>28</td>\n",
       "    </tr>\n",
       "    <tr>\n",
       "      <th>11</th>\n",
       "      <td>12</td>\n",
       "      <td>14</td>\n",
       "    </tr>\n",
       "    <tr>\n",
       "      <th>12</th>\n",
       "      <td>12</td>\n",
       "      <td>20</td>\n",
       "    </tr>\n",
       "    <tr>\n",
       "      <th>13</th>\n",
       "      <td>12</td>\n",
       "      <td>24</td>\n",
       "    </tr>\n",
       "    <tr>\n",
       "      <th>14</th>\n",
       "      <td>12</td>\n",
       "      <td>28</td>\n",
       "    </tr>\n",
       "    <tr>\n",
       "      <th>15</th>\n",
       "      <td>13</td>\n",
       "      <td>26</td>\n",
       "    </tr>\n",
       "    <tr>\n",
       "      <th>16</th>\n",
       "      <td>13</td>\n",
       "      <td>34</td>\n",
       "    </tr>\n",
       "    <tr>\n",
       "      <th>17</th>\n",
       "      <td>13</td>\n",
       "      <td>34</td>\n",
       "    </tr>\n",
       "    <tr>\n",
       "      <th>18</th>\n",
       "      <td>13</td>\n",
       "      <td>46</td>\n",
       "    </tr>\n",
       "    <tr>\n",
       "      <th>19</th>\n",
       "      <td>14</td>\n",
       "      <td>26</td>\n",
       "    </tr>\n",
       "    <tr>\n",
       "      <th>20</th>\n",
       "      <td>14</td>\n",
       "      <td>36</td>\n",
       "    </tr>\n",
       "    <tr>\n",
       "      <th>21</th>\n",
       "      <td>14</td>\n",
       "      <td>60</td>\n",
       "    </tr>\n",
       "    <tr>\n",
       "      <th>22</th>\n",
       "      <td>14</td>\n",
       "      <td>80</td>\n",
       "    </tr>\n",
       "    <tr>\n",
       "      <th>23</th>\n",
       "      <td>15</td>\n",
       "      <td>20</td>\n",
       "    </tr>\n",
       "    <tr>\n",
       "      <th>24</th>\n",
       "      <td>15</td>\n",
       "      <td>26</td>\n",
       "    </tr>\n",
       "    <tr>\n",
       "      <th>25</th>\n",
       "      <td>15</td>\n",
       "      <td>54</td>\n",
       "    </tr>\n",
       "    <tr>\n",
       "      <th>26</th>\n",
       "      <td>16</td>\n",
       "      <td>32</td>\n",
       "    </tr>\n",
       "    <tr>\n",
       "      <th>27</th>\n",
       "      <td>16</td>\n",
       "      <td>40</td>\n",
       "    </tr>\n",
       "    <tr>\n",
       "      <th>28</th>\n",
       "      <td>17</td>\n",
       "      <td>32</td>\n",
       "    </tr>\n",
       "    <tr>\n",
       "      <th>29</th>\n",
       "      <td>17</td>\n",
       "      <td>40</td>\n",
       "    </tr>\n",
       "    <tr>\n",
       "      <th>30</th>\n",
       "      <td>17</td>\n",
       "      <td>50</td>\n",
       "    </tr>\n",
       "    <tr>\n",
       "      <th>31</th>\n",
       "      <td>18</td>\n",
       "      <td>42</td>\n",
       "    </tr>\n",
       "    <tr>\n",
       "      <th>32</th>\n",
       "      <td>18</td>\n",
       "      <td>56</td>\n",
       "    </tr>\n",
       "    <tr>\n",
       "      <th>33</th>\n",
       "      <td>18</td>\n",
       "      <td>76</td>\n",
       "    </tr>\n",
       "    <tr>\n",
       "      <th>34</th>\n",
       "      <td>18</td>\n",
       "      <td>84</td>\n",
       "    </tr>\n",
       "    <tr>\n",
       "      <th>35</th>\n",
       "      <td>19</td>\n",
       "      <td>36</td>\n",
       "    </tr>\n",
       "    <tr>\n",
       "      <th>36</th>\n",
       "      <td>19</td>\n",
       "      <td>46</td>\n",
       "    </tr>\n",
       "    <tr>\n",
       "      <th>37</th>\n",
       "      <td>19</td>\n",
       "      <td>68</td>\n",
       "    </tr>\n",
       "    <tr>\n",
       "      <th>38</th>\n",
       "      <td>20</td>\n",
       "      <td>32</td>\n",
       "    </tr>\n",
       "    <tr>\n",
       "      <th>39</th>\n",
       "      <td>20</td>\n",
       "      <td>48</td>\n",
       "    </tr>\n",
       "    <tr>\n",
       "      <th>40</th>\n",
       "      <td>20</td>\n",
       "      <td>52</td>\n",
       "    </tr>\n",
       "    <tr>\n",
       "      <th>41</th>\n",
       "      <td>20</td>\n",
       "      <td>56</td>\n",
       "    </tr>\n",
       "    <tr>\n",
       "      <th>42</th>\n",
       "      <td>20</td>\n",
       "      <td>64</td>\n",
       "    </tr>\n",
       "    <tr>\n",
       "      <th>43</th>\n",
       "      <td>22</td>\n",
       "      <td>66</td>\n",
       "    </tr>\n",
       "    <tr>\n",
       "      <th>44</th>\n",
       "      <td>23</td>\n",
       "      <td>54</td>\n",
       "    </tr>\n",
       "    <tr>\n",
       "      <th>45</th>\n",
       "      <td>24</td>\n",
       "      <td>70</td>\n",
       "    </tr>\n",
       "    <tr>\n",
       "      <th>46</th>\n",
       "      <td>24</td>\n",
       "      <td>92</td>\n",
       "    </tr>\n",
       "    <tr>\n",
       "      <th>47</th>\n",
       "      <td>24</td>\n",
       "      <td>93</td>\n",
       "    </tr>\n",
       "    <tr>\n",
       "      <th>48</th>\n",
       "      <td>24</td>\n",
       "      <td>120</td>\n",
       "    </tr>\n",
       "    <tr>\n",
       "      <th>49</th>\n",
       "      <td>25</td>\n",
       "      <td>85</td>\n",
       "    </tr>\n",
       "  </tbody>\n",
       "</table>\n",
       "</div>"
      ],
      "text/plain": [
       "    speed  dist\n",
       "0       4     2\n",
       "1       4    10\n",
       "2       7     4\n",
       "3       7    22\n",
       "4       8    16\n",
       "5       9    10\n",
       "6      10    18\n",
       "7      10    26\n",
       "8      10    34\n",
       "9      11    17\n",
       "10     11    28\n",
       "11     12    14\n",
       "12     12    20\n",
       "13     12    24\n",
       "14     12    28\n",
       "15     13    26\n",
       "16     13    34\n",
       "17     13    34\n",
       "18     13    46\n",
       "19     14    26\n",
       "20     14    36\n",
       "21     14    60\n",
       "22     14    80\n",
       "23     15    20\n",
       "24     15    26\n",
       "25     15    54\n",
       "26     16    32\n",
       "27     16    40\n",
       "28     17    32\n",
       "29     17    40\n",
       "30     17    50\n",
       "31     18    42\n",
       "32     18    56\n",
       "33     18    76\n",
       "34     18    84\n",
       "35     19    36\n",
       "36     19    46\n",
       "37     19    68\n",
       "38     20    32\n",
       "39     20    48\n",
       "40     20    52\n",
       "41     20    56\n",
       "42     20    64\n",
       "43     22    66\n",
       "44     23    54\n",
       "45     24    70\n",
       "46     24    92\n",
       "47     24    93\n",
       "48     24   120\n",
       "49     25    85"
      ]
     },
     "execution_count": 234,
     "metadata": {},
     "output_type": "execute_result"
    }
   ],
   "source": [
    "my_data"
   ]
  },
  {
   "cell_type": "code",
   "execution_count": 235,
   "id": "79b4f4aa",
   "metadata": {},
   "outputs": [
    {
     "data": {
      "text/html": [
       "<div>\n",
       "<style scoped>\n",
       "    .dataframe tbody tr th:only-of-type {\n",
       "        vertical-align: middle;\n",
       "    }\n",
       "\n",
       "    .dataframe tbody tr th {\n",
       "        vertical-align: top;\n",
       "    }\n",
       "\n",
       "    .dataframe thead th {\n",
       "        text-align: right;\n",
       "    }\n",
       "</style>\n",
       "<table border=\"1\" class=\"dataframe\">\n",
       "  <thead>\n",
       "    <tr style=\"text-align: right;\">\n",
       "      <th></th>\n",
       "      <th>speed</th>\n",
       "      <th>dist</th>\n",
       "    </tr>\n",
       "  </thead>\n",
       "  <tbody>\n",
       "    <tr>\n",
       "      <th>count</th>\n",
       "      <td>50.00</td>\n",
       "      <td>50.00</td>\n",
       "    </tr>\n",
       "    <tr>\n",
       "      <th>mean</th>\n",
       "      <td>15.40</td>\n",
       "      <td>42.98</td>\n",
       "    </tr>\n",
       "    <tr>\n",
       "      <th>std</th>\n",
       "      <td>5.29</td>\n",
       "      <td>25.77</td>\n",
       "    </tr>\n",
       "    <tr>\n",
       "      <th>min</th>\n",
       "      <td>4.00</td>\n",
       "      <td>2.00</td>\n",
       "    </tr>\n",
       "    <tr>\n",
       "      <th>25%</th>\n",
       "      <td>12.00</td>\n",
       "      <td>26.00</td>\n",
       "    </tr>\n",
       "    <tr>\n",
       "      <th>50%</th>\n",
       "      <td>15.00</td>\n",
       "      <td>36.00</td>\n",
       "    </tr>\n",
       "    <tr>\n",
       "      <th>75%</th>\n",
       "      <td>19.00</td>\n",
       "      <td>56.00</td>\n",
       "    </tr>\n",
       "    <tr>\n",
       "      <th>max</th>\n",
       "      <td>25.00</td>\n",
       "      <td>120.00</td>\n",
       "    </tr>\n",
       "  </tbody>\n",
       "</table>\n",
       "</div>"
      ],
      "text/plain": [
       "       speed   dist\n",
       "count  50.00  50.00\n",
       "mean   15.40  42.98\n",
       "std     5.29  25.77\n",
       "min     4.00   2.00\n",
       "25%    12.00  26.00\n",
       "50%    15.00  36.00\n",
       "75%    19.00  56.00\n",
       "max    25.00 120.00"
      ]
     },
     "execution_count": 235,
     "metadata": {},
     "output_type": "execute_result"
    }
   ],
   "source": [
    "my_data.describe()"
   ]
  },
  {
   "cell_type": "code",
   "execution_count": 237,
   "id": "61996bf0",
   "metadata": {},
   "outputs": [
    {
     "data": {
      "text/plain": [
       "<AxesSubplot:xlabel='speed'>"
      ]
     },
     "execution_count": 237,
     "metadata": {},
     "output_type": "execute_result"
    },
    {
     "data": {
      "image/png": "[encoded data removed]",
      "text/plain": [
       "<Figure size 432x288 with 1 Axes>"
      ]
     },
     "metadata": {
      "needs_background": "light"
     },
     "output_type": "display_data"
    }
   ],
   "source": [
    "my_data.plot(x = 'speed', style = 'o')"
   ]
  },
  {
   "cell_type": "code",
   "execution_count": 238,
   "id": "09ce41f2",
   "metadata": {},
   "outputs": [
    {
     "data": {
      "text/plain": [
       "<matplotlib.collections.LineCollection at 0x7fc6c86e5e20>"
      ]
     },
     "execution_count": 238,
     "metadata": {},
     "output_type": "execute_result"
    },
    {
     "data": {
      "text/plain": [
       "<matplotlib.collections.LineCollection at 0x7fc6c8643e50>"
      ]
     },
     "execution_count": 238,
     "metadata": {},
     "output_type": "execute_result"
    },
    {
     "data": {
      "text/plain": [
       "(4.0, 25.0)"
      ]
     },
     "execution_count": 238,
     "metadata": {},
     "output_type": "execute_result"
    },
    {
     "data": {
      "text/plain": [
       "(-5.0, 125.0)"
      ]
     },
     "execution_count": 238,
     "metadata": {},
     "output_type": "execute_result"
    },
    {
     "data": {
      "image/png": "[encoded data removed]",
      "text/plain": [
       "<Figure size 432x288 with 1 Axes>"
      ]
     },
     "metadata": {
      "needs_background": "light"
     },
     "output_type": "display_data"
    }
   ],
   "source": [
    "import seaborn as sns\n",
    "import statsmodels.api as sm\n",
    "\n",
    "my_data = sm.datasets.get_rdataset('cars', 'datasets').data\n",
    "ax = sns.regplot(x = 'speed', y = 'dist', data = my_data)\n",
    "ax.vlines(x = 21.5, ymin = -5, ymax = 67, linestyles = 'dotted')\n",
    "ax.hlines(y = 67, xmin = 4, xmax = 21.5, linestyle = 'dotted')\n",
    "ax.set_xlim(4,25)\n",
    "ax.set_ylim(-5, 125)\n"
   ]
  },
  {
   "cell_type": "code",
   "execution_count": 239,
   "id": "c9cc2652",
   "metadata": {},
   "outputs": [],
   "source": [
    "X, y = my_data[['speed']], my_data[['dist']]"
   ]
  },
  {
   "cell_type": "code",
   "execution_count": 240,
   "id": "5ccb44d7",
   "metadata": {},
   "outputs": [
    {
     "data": {
      "text/plain": [
       "LinearRegression()"
      ]
     },
     "execution_count": 240,
     "metadata": {},
     "output_type": "execute_result"
    }
   ],
   "source": [
    "from sklearn.linear_model import LinearRegression\n",
    "my_model = LinearRegression()\n",
    "\n",
    "my_model.fit(X, y)"
   ]
  },
  {
   "cell_type": "code",
   "execution_count": 241,
   "id": "fc0468e4",
   "metadata": {},
   "outputs": [
    {
     "data": {
      "text/plain": [
       "(array([-17.579]), array([[3.932]]))"
      ]
     },
     "execution_count": 241,
     "metadata": {},
     "output_type": "execute_result"
    }
   ],
   "source": [
    "my_model.intercept_, my_model.coef_"
   ]
  },
  {
   "cell_type": "code",
   "execution_count": 242,
   "id": "1a9bb567",
   "metadata": {},
   "outputs": [
    {
     "data": {
      "text/plain": [
       "array([[66.968]])"
      ]
     },
     "execution_count": 242,
     "metadata": {},
     "output_type": "execute_result"
    }
   ],
   "source": [
    "tmp = [[21.5]]\n",
    "my_model.predict(tmp)"
   ]
  },
  {
   "cell_type": "code",
   "execution_count": 243,
   "id": "3490fbce",
   "metadata": {},
   "outputs": [],
   "source": [
    "tmp = pd.DataFrame({'speed': np.linspace(min(my_data.speed), max(my_data.speed), 100)})\n",
    "tmp['model'] = my_model.predict(tmp)"
   ]
  },
  {
   "cell_type": "code",
   "execution_count": 244,
   "id": "fd5d5a9f",
   "metadata": {},
   "outputs": [
    {
     "data": {
      "text/plain": [
       "<AxesSubplot:xlabel='speed'>"
      ]
     },
     "execution_count": 244,
     "metadata": {},
     "output_type": "execute_result"
    },
    {
     "data": {
      "image/png": "[encoded data removed]",
      "text/plain": [
       "<Figure size 432x288 with 1 Axes>"
      ]
     },
     "metadata": {
      "needs_background": "light"
     },
     "output_type": "display_data"
    }
   ],
   "source": [
    "pd.concat([my_data, tmp]).plot(x = 'speed', style = ['o', '-'])"
   ]
  },
  {
   "cell_type": "code",
   "execution_count": 246,
   "id": "8175a029",
   "metadata": {},
   "outputs": [],
   "source": [
    "from sklearn.metrics import mean_squared_error, r2_score\n",
    "\n",
    "y_ = my_model.predict(X)\n",
    "my_data['y_'] = y_"
   ]
  },
  {
   "cell_type": "code",
   "execution_count": 247,
   "id": "bf0ddfe1",
   "metadata": {},
   "outputs": [
    {
     "data": {
      "text/html": [
       "<div>\n",
       "<style scoped>\n",
       "    .dataframe tbody tr th:only-of-type {\n",
       "        vertical-align: middle;\n",
       "    }\n",
       "\n",
       "    .dataframe tbody tr th {\n",
       "        vertical-align: top;\n",
       "    }\n",
       "\n",
       "    .dataframe thead th {\n",
       "        text-align: right;\n",
       "    }\n",
       "</style>\n",
       "<table border=\"1\" class=\"dataframe\">\n",
       "  <thead>\n",
       "    <tr style=\"text-align: right;\">\n",
       "      <th></th>\n",
       "      <th>speed</th>\n",
       "      <th>dist</th>\n",
       "      <th>y_</th>\n",
       "      <th>residual</th>\n",
       "    </tr>\n",
       "  </thead>\n",
       "  <tbody>\n",
       "    <tr>\n",
       "      <th>0</th>\n",
       "      <td>4</td>\n",
       "      <td>2</td>\n",
       "      <td>-1.85</td>\n",
       "      <td>3.85</td>\n",
       "    </tr>\n",
       "    <tr>\n",
       "      <th>1</th>\n",
       "      <td>4</td>\n",
       "      <td>10</td>\n",
       "      <td>-1.85</td>\n",
       "      <td>11.85</td>\n",
       "    </tr>\n",
       "    <tr>\n",
       "      <th>2</th>\n",
       "      <td>7</td>\n",
       "      <td>4</td>\n",
       "      <td>9.95</td>\n",
       "      <td>-5.95</td>\n",
       "    </tr>\n",
       "    <tr>\n",
       "      <th>3</th>\n",
       "      <td>7</td>\n",
       "      <td>22</td>\n",
       "      <td>9.95</td>\n",
       "      <td>12.05</td>\n",
       "    </tr>\n",
       "    <tr>\n",
       "      <th>4</th>\n",
       "      <td>8</td>\n",
       "      <td>16</td>\n",
       "      <td>13.88</td>\n",
       "      <td>2.12</td>\n",
       "    </tr>\n",
       "  </tbody>\n",
       "</table>\n",
       "</div>"
      ],
      "text/plain": [
       "   speed  dist    y_  residual\n",
       "0      4     2 -1.85      3.85\n",
       "1      4    10 -1.85     11.85\n",
       "2      7     4  9.95     -5.95\n",
       "3      7    22  9.95     12.05\n",
       "4      8    16 13.88      2.12"
      ]
     },
     "execution_count": 247,
     "metadata": {},
     "output_type": "execute_result"
    }
   ],
   "source": [
    "pd.options.display.float_format = ('{:.2f}'.format)\n",
    "my_data['residual'] = y - y_\n",
    "my_data.head()"
   ]
  },
  {
   "cell_type": "code",
   "execution_count": 248,
   "id": "9008ecf6",
   "metadata": {},
   "outputs": [
    {
     "data": {
      "text/plain": [
       "<AxesSubplot:xlabel='speed'>"
      ]
     },
     "execution_count": 248,
     "metadata": {},
     "output_type": "execute_result"
    },
    {
     "data": {
      "text/plain": [
       "<matplotlib.collections.LineCollection at 0x7fc6c7eec580>"
      ]
     },
     "execution_count": 248,
     "metadata": {},
     "output_type": "execute_result"
    },
    {
     "data": {
      "image/png": "[encoded data removed]",
      "text/plain": [
       "<Figure size 432x288 with 1 Axes>"
      ]
     },
     "metadata": {
      "needs_background": "light"
     },
     "output_type": "display_data"
    }
   ],
   "source": [
    "ax = my_data.plot(x= 'speed', y = 'dist', style = 'o', legend = False)\n",
    "my_data.plot(x = 'speed', y = 'y_', style = '-', legend = False, ax=ax)\n",
    "ax.vlines(x = X, ymin = y, ymax =y_, linestyles = 'dotted')"
   ]
  },
  {
   "cell_type": "code",
   "execution_count": 249,
   "id": "093cfb17",
   "metadata": {},
   "outputs": [
    {
     "data": {
      "text/plain": [
       "15.068855995791381"
      ]
     },
     "execution_count": 249,
     "metadata": {},
     "output_type": "execute_result"
    }
   ],
   "source": [
    "mean_squared_error(y, y_) **0.5"
   ]
  },
  {
   "cell_type": "code",
   "execution_count": 250,
   "id": "9e6c83ca",
   "metadata": {},
   "outputs": [
    {
     "data": {
      "text/plain": [
       "0.6510793807582509"
      ]
     },
     "execution_count": 250,
     "metadata": {},
     "output_type": "execute_result"
    }
   ],
   "source": [
    "my_model.score(X, y)"
   ]
  },
  {
   "cell_type": "code",
   "execution_count": 251,
   "id": "63e1107d",
   "metadata": {},
   "outputs": [
    {
     "data": {
      "text/plain": [
       "0.6510793807582509"
      ]
     },
     "execution_count": 251,
     "metadata": {},
     "output_type": "execute_result"
    }
   ],
   "source": [
    "r2_score(y_true = y, y_pred = y_)"
   ]
  },
  {
   "cell_type": "code",
   "execution_count": 261,
   "id": "53b25227",
   "metadata": {},
   "outputs": [
    {
     "ename": "SyntaxError",
     "evalue": "invalid syntax (<ipython-input-261-f8cd9980f708>, line 1)",
     "output_type": "error",
     "traceback": [
      "\u001b[0;36m  File \u001b[0;32m\"<ipython-input-261-f8cd9980f708>\"\u001b[0;36m, line \u001b[0;32m1\u001b[0m\n\u001b[0;31m    np.corrcoef(y[,:], y_)\u001b[0m\n\u001b[0m                  ^\u001b[0m\n\u001b[0;31mSyntaxError\u001b[0m\u001b[0;31m:\u001b[0m invalid syntax\n"
     ]
    }
   ],
   "source": []
  },
  {
   "cell_type": "code",
   "execution_count": 254,
   "id": "382402d3",
   "metadata": {},
   "outputs": [
    {
     "data": {
      "text/html": [
       "<div>\n",
       "<style scoped>\n",
       "    .dataframe tbody tr th:only-of-type {\n",
       "        vertical-align: middle;\n",
       "    }\n",
       "\n",
       "    .dataframe tbody tr th {\n",
       "        vertical-align: top;\n",
       "    }\n",
       "\n",
       "    .dataframe thead th {\n",
       "        text-align: right;\n",
       "    }\n",
       "</style>\n",
       "<table border=\"1\" class=\"dataframe\">\n",
       "  <thead>\n",
       "    <tr style=\"text-align: right;\">\n",
       "      <th></th>\n",
       "      <th>dist</th>\n",
       "    </tr>\n",
       "  </thead>\n",
       "  <tbody>\n",
       "    <tr>\n",
       "      <th>0</th>\n",
       "      <td>2</td>\n",
       "    </tr>\n",
       "    <tr>\n",
       "      <th>1</th>\n",
       "      <td>10</td>\n",
       "    </tr>\n",
       "    <tr>\n",
       "      <th>2</th>\n",
       "      <td>4</td>\n",
       "    </tr>\n",
       "    <tr>\n",
       "      <th>3</th>\n",
       "      <td>22</td>\n",
       "    </tr>\n",
       "    <tr>\n",
       "      <th>4</th>\n",
       "      <td>16</td>\n",
       "    </tr>\n",
       "    <tr>\n",
       "      <th>5</th>\n",
       "      <td>10</td>\n",
       "    </tr>\n",
       "    <tr>\n",
       "      <th>6</th>\n",
       "      <td>18</td>\n",
       "    </tr>\n",
       "    <tr>\n",
       "      <th>7</th>\n",
       "      <td>26</td>\n",
       "    </tr>\n",
       "    <tr>\n",
       "      <th>8</th>\n",
       "      <td>34</td>\n",
       "    </tr>\n",
       "    <tr>\n",
       "      <th>9</th>\n",
       "      <td>17</td>\n",
       "    </tr>\n",
       "    <tr>\n",
       "      <th>10</th>\n",
       "      <td>28</td>\n",
       "    </tr>\n",
       "    <tr>\n",
       "      <th>11</th>\n",
       "      <td>14</td>\n",
       "    </tr>\n",
       "    <tr>\n",
       "      <th>12</th>\n",
       "      <td>20</td>\n",
       "    </tr>\n",
       "    <tr>\n",
       "      <th>13</th>\n",
       "      <td>24</td>\n",
       "    </tr>\n",
       "    <tr>\n",
       "      <th>14</th>\n",
       "      <td>28</td>\n",
       "    </tr>\n",
       "    <tr>\n",
       "      <th>15</th>\n",
       "      <td>26</td>\n",
       "    </tr>\n",
       "    <tr>\n",
       "      <th>16</th>\n",
       "      <td>34</td>\n",
       "    </tr>\n",
       "    <tr>\n",
       "      <th>17</th>\n",
       "      <td>34</td>\n",
       "    </tr>\n",
       "    <tr>\n",
       "      <th>18</th>\n",
       "      <td>46</td>\n",
       "    </tr>\n",
       "    <tr>\n",
       "      <th>19</th>\n",
       "      <td>26</td>\n",
       "    </tr>\n",
       "    <tr>\n",
       "      <th>20</th>\n",
       "      <td>36</td>\n",
       "    </tr>\n",
       "    <tr>\n",
       "      <th>21</th>\n",
       "      <td>60</td>\n",
       "    </tr>\n",
       "    <tr>\n",
       "      <th>22</th>\n",
       "      <td>80</td>\n",
       "    </tr>\n",
       "    <tr>\n",
       "      <th>23</th>\n",
       "      <td>20</td>\n",
       "    </tr>\n",
       "    <tr>\n",
       "      <th>24</th>\n",
       "      <td>26</td>\n",
       "    </tr>\n",
       "    <tr>\n",
       "      <th>25</th>\n",
       "      <td>54</td>\n",
       "    </tr>\n",
       "    <tr>\n",
       "      <th>26</th>\n",
       "      <td>32</td>\n",
       "    </tr>\n",
       "    <tr>\n",
       "      <th>27</th>\n",
       "      <td>40</td>\n",
       "    </tr>\n",
       "    <tr>\n",
       "      <th>28</th>\n",
       "      <td>32</td>\n",
       "    </tr>\n",
       "    <tr>\n",
       "      <th>29</th>\n",
       "      <td>40</td>\n",
       "    </tr>\n",
       "    <tr>\n",
       "      <th>30</th>\n",
       "      <td>50</td>\n",
       "    </tr>\n",
       "    <tr>\n",
       "      <th>31</th>\n",
       "      <td>42</td>\n",
       "    </tr>\n",
       "    <tr>\n",
       "      <th>32</th>\n",
       "      <td>56</td>\n",
       "    </tr>\n",
       "    <tr>\n",
       "      <th>33</th>\n",
       "      <td>76</td>\n",
       "    </tr>\n",
       "    <tr>\n",
       "      <th>34</th>\n",
       "      <td>84</td>\n",
       "    </tr>\n",
       "    <tr>\n",
       "      <th>35</th>\n",
       "      <td>36</td>\n",
       "    </tr>\n",
       "    <tr>\n",
       "      <th>36</th>\n",
       "      <td>46</td>\n",
       "    </tr>\n",
       "    <tr>\n",
       "      <th>37</th>\n",
       "      <td>68</td>\n",
       "    </tr>\n",
       "    <tr>\n",
       "      <th>38</th>\n",
       "      <td>32</td>\n",
       "    </tr>\n",
       "    <tr>\n",
       "      <th>39</th>\n",
       "      <td>48</td>\n",
       "    </tr>\n",
       "    <tr>\n",
       "      <th>40</th>\n",
       "      <td>52</td>\n",
       "    </tr>\n",
       "    <tr>\n",
       "      <th>41</th>\n",
       "      <td>56</td>\n",
       "    </tr>\n",
       "    <tr>\n",
       "      <th>42</th>\n",
       "      <td>64</td>\n",
       "    </tr>\n",
       "    <tr>\n",
       "      <th>43</th>\n",
       "      <td>66</td>\n",
       "    </tr>\n",
       "    <tr>\n",
       "      <th>44</th>\n",
       "      <td>54</td>\n",
       "    </tr>\n",
       "    <tr>\n",
       "      <th>45</th>\n",
       "      <td>70</td>\n",
       "    </tr>\n",
       "    <tr>\n",
       "      <th>46</th>\n",
       "      <td>92</td>\n",
       "    </tr>\n",
       "    <tr>\n",
       "      <th>47</th>\n",
       "      <td>93</td>\n",
       "    </tr>\n",
       "    <tr>\n",
       "      <th>48</th>\n",
       "      <td>120</td>\n",
       "    </tr>\n",
       "    <tr>\n",
       "      <th>49</th>\n",
       "      <td>85</td>\n",
       "    </tr>\n",
       "  </tbody>\n",
       "</table>\n",
       "</div>"
      ],
      "text/plain": [
       "    dist\n",
       "0      2\n",
       "1     10\n",
       "2      4\n",
       "3     22\n",
       "4     16\n",
       "5     10\n",
       "6     18\n",
       "7     26\n",
       "8     34\n",
       "9     17\n",
       "10    28\n",
       "11    14\n",
       "12    20\n",
       "13    24\n",
       "14    28\n",
       "15    26\n",
       "16    34\n",
       "17    34\n",
       "18    46\n",
       "19    26\n",
       "20    36\n",
       "21    60\n",
       "22    80\n",
       "23    20\n",
       "24    26\n",
       "25    54\n",
       "26    32\n",
       "27    40\n",
       "28    32\n",
       "29    40\n",
       "30    50\n",
       "31    42\n",
       "32    56\n",
       "33    76\n",
       "34    84\n",
       "35    36\n",
       "36    46\n",
       "37    68\n",
       "38    32\n",
       "39    48\n",
       "40    52\n",
       "41    56\n",
       "42    64\n",
       "43    66\n",
       "44    54\n",
       "45    70\n",
       "46    92\n",
       "47    93\n",
       "48   120\n",
       "49    85"
      ]
     },
     "execution_count": 254,
     "metadata": {},
     "output_type": "execute_result"
    }
   ],
   "source": [
    "y"
   ]
  },
  {
   "cell_type": "code",
   "execution_count": 255,
   "id": "5adc530a",
   "metadata": {},
   "outputs": [
    {
     "data": {
      "text/plain": [
       "array([[-1.849],\n",
       "       [-1.849],\n",
       "       [ 9.948],\n",
       "       [ 9.948],\n",
       "       [13.88 ],\n",
       "       [17.813],\n",
       "       [21.745],\n",
       "       [21.745],\n",
       "       [21.745],\n",
       "       [25.677],\n",
       "       [25.677],\n",
       "       [29.61 ],\n",
       "       [29.61 ],\n",
       "       [29.61 ],\n",
       "       [29.61 ],\n",
       "       [33.542],\n",
       "       [33.542],\n",
       "       [33.542],\n",
       "       [33.542],\n",
       "       [37.475],\n",
       "       [37.475],\n",
       "       [37.475],\n",
       "       [37.475],\n",
       "       [41.407],\n",
       "       [41.407],\n",
       "       [41.407],\n",
       "       [45.339],\n",
       "       [45.339],\n",
       "       [49.272],\n",
       "       [49.272],\n",
       "       [49.272],\n",
       "       [53.204],\n",
       "       [53.204],\n",
       "       [53.204],\n",
       "       [53.204],\n",
       "       [57.137],\n",
       "       [57.137],\n",
       "       [57.137],\n",
       "       [61.069],\n",
       "       [61.069],\n",
       "       [61.069],\n",
       "       [61.069],\n",
       "       [61.069],\n",
       "       [68.934],\n",
       "       [72.866],\n",
       "       [76.799],\n",
       "       [76.799],\n",
       "       [76.799],\n",
       "       [76.799],\n",
       "       [80.731]])"
      ]
     },
     "execution_count": 255,
     "metadata": {},
     "output_type": "execute_result"
    }
   ],
   "source": [
    "y_"
   ]
  },
  {
   "cell_type": "code",
   "execution_count": 270,
   "id": "8e1b8c57",
   "metadata": {},
   "outputs": [],
   "source": [
    "from sklearn.preprocessing import PolynomialFeatures\n",
    "\n",
    "my_data = sm.datasets.get_rdataset('cars', 'datasets').data\n",
    "\n",
    "my_idx = [1,10,26,33,38,43]\n",
    "my_sample = my_data.iloc[my_idx, ]\n",
    "X, y = my_sample[['speed']], my_sample['dist']\n"
   ]
  },
  {
   "cell_type": "code",
   "execution_count": 271,
   "id": "a225f916",
   "metadata": {},
   "outputs": [
    {
     "data": {
      "text/plain": [
       "LinearRegression()"
      ]
     },
     "execution_count": 271,
     "metadata": {},
     "output_type": "execute_result"
    }
   ],
   "source": [
    "d = 5\n",
    "X5 = PolynomialFeatures(d).fit_transform(X)\n",
    "\n",
    "my_model = LinearRegression()\n",
    "my_model.fit(X5, y)\n",
    "y_ = my_model.predict(X5)"
   ]
  },
  {
   "cell_type": "code",
   "execution_count": 272,
   "id": "67337584",
   "metadata": {},
   "outputs": [
    {
     "data": {
      "text/plain": [
       "7.725798977575843e-07"
      ]
     },
     "execution_count": 272,
     "metadata": {},
     "output_type": "execute_result"
    }
   ],
   "source": [
    "((y_ - y)**2).mean()**0.5"
   ]
  },
  {
   "cell_type": "code",
   "execution_count": 273,
   "id": "bd576ce4",
   "metadata": {},
   "outputs": [
    {
     "data": {
      "text/plain": [
       "0.9999999999999989"
      ]
     },
     "execution_count": 273,
     "metadata": {},
     "output_type": "execute_result"
    }
   ],
   "source": [
    "my_model.score(X5, y)"
   ]
  },
  {
   "cell_type": "code",
   "execution_count": 274,
   "id": "7704c9db",
   "metadata": {},
   "outputs": [
    {
     "data": {
      "text/plain": [
       "0.9999999999999991"
      ]
     },
     "execution_count": 274,
     "metadata": {},
     "output_type": "execute_result"
    }
   ],
   "source": [
    "np.corrcoef(y, y_)[0,1]**2"
   ]
  },
  {
   "cell_type": "code",
   "execution_count": 275,
   "id": "85fa5f56",
   "metadata": {},
   "outputs": [
    {
     "name": "stdout",
     "output_type": "stream",
     "text": [
      "    speed  dist\n",
      "1       4    10\n",
      "10     11    28\n",
      "26     16    32\n",
      "33     18    76\n",
      "38     20    32\n",
      "43     22    66\n",
      "    speed  dist  sample\n",
      "1       4    10      10\n",
      "10     11    28      28\n",
      "26     16    32      32\n",
      "33     18    76      76\n",
      "38     20    32      32\n",
      "43     22    66      66\n"
     ]
    },
    {
     "data": {
      "text/plain": [
       "<AxesSubplot:xlabel='speed'>"
      ]
     },
     "execution_count": 275,
     "metadata": {},
     "output_type": "execute_result"
    },
    {
     "data": {
      "image/png": "[encoded data removed]",
      "text/plain": [
       "<Figure size 432x288 with 1 Axes>"
      ]
     },
     "metadata": {
      "needs_background": "light"
     },
     "output_type": "display_data"
    }
   ],
   "source": [
    "tmp = pd.DataFrame({'speed': np.linspace(min(my_data.speed), max(my_data.speed), 100)})\n",
    "\n",
    "X5 = PolynomialFeatures(d).fit_transform(tmp)\n",
    "\n",
    "tmp['model'] = my_model.predict(X5)\n",
    "print(my_sample)\n",
    "my_sample = my_sample.assign(sample=y)\n",
    "print(my_sample)\n",
    "my_df = pd.concat([my_data, my_sample, tmp])\n",
    "my_df.plot(x = 'speed',style = ['o', 'o', '-'], ylim=(0,130))"
   ]
  },
  {
   "cell_type": "code",
   "execution_count": 280,
   "id": "2d51657e",
   "metadata": {},
   "outputs": [
    {
     "data": {
      "text/plain": [
       "KNeighborsRegressor()"
      ]
     },
     "execution_count": 280,
     "metadata": {},
     "output_type": "execute_result"
    }
   ],
   "source": [
    "from sklearn.neighbors import KNeighborsRegressor\n",
    "\n",
    "my_data = sm.datasets.get_rdataset('cars', 'datasets').data\n",
    "X, y = my_data[['speed']], my_data[['dist']]\n",
    "\n",
    "my_model = KNeighborsRegressor()\n",
    "my_model.fit(X,y)\n",
    "\n",
    "tmp = pd.DataFrame({'speed': np.linspace(min(my_data.speed), max(my_data.speed), 100)})\n",
    "tmp['model'] = my_model.predict(tmp)"
   ]
  },
  {
   "cell_type": "code",
   "execution_count": 281,
   "id": "816902cd",
   "metadata": {},
   "outputs": [
    {
     "data": {
      "text/plain": [
       "<AxesSubplot:xlabel='speed'>"
      ]
     },
     "execution_count": 281,
     "metadata": {},
     "output_type": "execute_result"
    },
    {
     "data": {
      "image/png": "[encoded data removed]",
      "text/plain": [
       "<Figure size 432x288 with 1 Axes>"
      ]
     },
     "metadata": {
      "needs_background": "light"
     },
     "output_type": "display_data"
    }
   ],
   "source": [
    "pd.concat([my_data, tmp]).plot(x= 'speed', style=['o', '-'])"
   ]
  },
  {
   "cell_type": "code",
   "execution_count": 282,
   "id": "665c2a90",
   "metadata": {},
   "outputs": [
    {
     "data": {
      "text/plain": [
       "array([-0.258, -0.214, -0.309, -0.273,  0.023])"
      ]
     },
     "execution_count": 282,
     "metadata": {},
     "output_type": "execute_result"
    }
   ],
   "source": [
    "from sklearn.model_selection import cross_val_score\n",
    "\n",
    "my_model = LinearRegression()\n",
    "\n",
    "my_scores  = cross_val_score(my_model, X, y)\n",
    "\n",
    "my_scores"
   ]
  },
  {
   "cell_type": "code",
   "execution_count": 283,
   "id": "fb789411",
   "metadata": {},
   "outputs": [
    {
     "data": {
      "text/plain": [
       "-0.20629282165364665"
      ]
     },
     "execution_count": 283,
     "metadata": {},
     "output_type": "execute_result"
    }
   ],
   "source": [
    "my_scores.mean()"
   ]
  },
  {
   "cell_type": "code",
   "execution_count": 284,
   "id": "72d3400a",
   "metadata": {},
   "outputs": [],
   "source": [
    "my_scores = cross_val_score(my_model, X, y, scoring = 'neg_root_mean_squared_error')"
   ]
  },
  {
   "cell_type": "code",
   "execution_count": 285,
   "id": "b86fdc77",
   "metadata": {},
   "outputs": [
    {
     "data": {
      "text/plain": [
       "15.58402474583013"
      ]
     },
     "execution_count": 285,
     "metadata": {},
     "output_type": "execute_result"
    }
   ],
   "source": [
    "-my_scores.mean()"
   ]
  },
  {
   "cell_type": "code",
   "execution_count": 287,
   "id": "7e1462f8",
   "metadata": {},
   "outputs": [],
   "source": [
    "from sklearn.model_selection import LeaveOneOut\n",
    "\n",
    "my_data = sm.datasets.get_rdataset('cars', 'datasets').data\n",
    "X,y = my_data[['speed']], my_data[['dist']]\n",
    "my_model = LinearRegression().fit(X, y)\n",
    "y_ =my_model.predict(X)"
   ]
  },
  {
   "cell_type": "code",
   "execution_count": 288,
   "id": "87c9599c",
   "metadata": {},
   "outputs": [
    {
     "data": {
      "text/plain": [
       "15.068855995791381"
      ]
     },
     "execution_count": 288,
     "metadata": {},
     "output_type": "execute_result"
    }
   ],
   "source": [
    "mean_squared_error(y, y_)**0.5"
   ]
  },
  {
   "cell_type": "code",
   "execution_count": 289,
   "id": "1f5adb53",
   "metadata": {},
   "outputs": [
    {
     "data": {
      "text/plain": [
       "0.6510793807582509"
      ]
     },
     "execution_count": 289,
     "metadata": {},
     "output_type": "execute_result"
    }
   ],
   "source": [
    "my_model.score(X, y)"
   ]
  },
  {
   "cell_type": "code",
   "execution_count": 290,
   "id": "e6ad9437",
   "metadata": {},
   "outputs": [
    {
     "data": {
      "text/plain": [
       "0.6510793807582509"
      ]
     },
     "execution_count": 290,
     "metadata": {},
     "output_type": "execute_result"
    }
   ],
   "source": [
    "r2_score(y_true = y, y_pred =y_)"
   ]
  },
  {
   "cell_type": "code",
   "execution_count": 291,
   "id": "86946a2a",
   "metadata": {},
   "outputs": [
    {
     "name": "stderr",
     "output_type": "stream",
     "text": [
      "/opt/conda/lib/python3.8/site-packages/numpy/lib/function_base.py:2634: RuntimeWarning: Degrees of freedom <= 0 for slice\n",
      "  c = cov(x, y, rowvar, dtype=dtype)\n",
      "/opt/conda/lib/python3.8/site-packages/numpy/lib/function_base.py:2493: RuntimeWarning: divide by zero encountered in true_divide\n",
      "  c *= np.true_divide(1, fact)\n",
      "/opt/conda/lib/python3.8/site-packages/numpy/lib/function_base.py:2493: RuntimeWarning: invalid value encountered in multiply\n",
      "  c *= np.true_divide(1, fact)\n"
     ]
    },
    {
     "data": {
      "text/plain": [
       "nan"
      ]
     },
     "execution_count": 291,
     "metadata": {},
     "output_type": "execute_result"
    }
   ],
   "source": [
    "np.corrcoef(y, y_)[0,1]**2"
   ]
  },
  {
   "cell_type": "code",
   "execution_count": 292,
   "id": "de0bf28b",
   "metadata": {},
   "outputs": [
    {
     "data": {
      "text/plain": [
       "15.58402474583013"
      ]
     },
     "execution_count": 292,
     "metadata": {},
     "output_type": "execute_result"
    }
   ],
   "source": [
    "my_scores = cross_val_score(my_model , X, y, scoring = 'neg_root_mean_squared_error')\n",
    "-my_scores.mean()"
   ]
  },
  {
   "cell_type": "code",
   "execution_count": 293,
   "id": "cab135de",
   "metadata": {},
   "outputs": [],
   "source": [
    "my_scores = cross_val_score(my_model, X, y, scoring = 'r2')"
   ]
  },
  {
   "cell_type": "code",
   "execution_count": 294,
   "id": "25a5a447",
   "metadata": {},
   "outputs": [
    {
     "data": {
      "text/plain": [
       "-0.20629282165364665"
      ]
     },
     "execution_count": 294,
     "metadata": {},
     "output_type": "execute_result"
    }
   ],
   "source": [
    "my_scores.mean()"
   ]
  },
  {
   "cell_type": "code",
   "execution_count": 295,
   "id": "8d4b7b0d",
   "metadata": {},
   "outputs": [
    {
     "data": {
      "text/plain": [
       "15.697306009399101"
      ]
     },
     "execution_count": 295,
     "metadata": {},
     "output_type": "execute_result"
    }
   ],
   "source": [
    "my_scores1 = cross_val_score(my_model, X, y, cv=LeaveOneOut(), scoring = 'neg_mean_squared_error')\n",
    "(-my_scores1.mean())**0.5"
   ]
  },
  {
   "cell_type": "code",
   "execution_count": 296,
   "id": "8aa27eb1",
   "metadata": {},
   "outputs": [
    {
     "data": {
      "text/plain": [
       "15.697306009399101"
      ]
     },
     "execution_count": 296,
     "metadata": {},
     "output_type": "execute_result"
    }
   ],
   "source": [
    "my_scores2 = cross_val_score(my_model, X, y, cv=LeaveOneOut(), scoring = 'neg_root_mean_squared_error')\n",
    "(my_scores2**2).mean()**0.5"
   ]
  },
  {
   "cell_type": "code",
   "execution_count": 297,
   "id": "7c03b900",
   "metadata": {},
   "outputs": [
    {
     "data": {
      "text/plain": [
       "12.059178648637483"
      ]
     },
     "execution_count": 297,
     "metadata": {},
     "output_type": "execute_result"
    }
   ],
   "source": [
    "-my_scores2.mean()"
   ]
  },
  {
   "cell_type": "code",
   "execution_count": 298,
   "id": "d3c47959",
   "metadata": {},
   "outputs": [],
   "source": [
    "from sklearn.metrics import mean_squared_error\n",
    "\n",
    "my_lm_scores = cross_val_score(LinearRegression(), X, y, cv=LeaveOneOut(), scoring = 'neg_mean_squared_error')"
   ]
  },
  {
   "cell_type": "code",
   "execution_count": 299,
   "id": "316e1327",
   "metadata": {},
   "outputs": [],
   "source": [
    "my_knn_scores = cross_val_score(KNeighborsRegressor(n_neighbors=5), X, y, cv=LeaveOneOut(), scoring = 'neg_mean_squared_error')"
   ]
  },
  {
   "cell_type": "code",
   "execution_count": 300,
   "id": "6d782ca9",
   "metadata": {},
   "outputs": [
    {
     "data": {
      "text/plain": [
       "15.697306009399101"
      ]
     },
     "execution_count": 300,
     "metadata": {},
     "output_type": "execute_result"
    }
   ],
   "source": [
    "(-my_lm_scores.mean())**0.5"
   ]
  },
  {
   "cell_type": "code",
   "execution_count": 301,
   "id": "26f69cc9",
   "metadata": {},
   "outputs": [
    {
     "data": {
      "text/plain": [
       "16.07308308943869"
      ]
     },
     "execution_count": 301,
     "metadata": {},
     "output_type": "execute_result"
    }
   ],
   "source": [
    "(-my_knn_scores.mean())**0.5"
   ]
  },
  {
   "cell_type": "code",
   "execution_count": 302,
   "id": "9b9de695",
   "metadata": {},
   "outputs": [
    {
     "data": {
      "text/html": [
       "<div>\n",
       "<style scoped>\n",
       "    .dataframe tbody tr th:only-of-type {\n",
       "        vertical-align: middle;\n",
       "    }\n",
       "\n",
       "    .dataframe tbody tr th {\n",
       "        vertical-align: top;\n",
       "    }\n",
       "\n",
       "    .dataframe thead th {\n",
       "        text-align: right;\n",
       "    }\n",
       "</style>\n",
       "<table border=\"1\" class=\"dataframe\">\n",
       "  <thead>\n",
       "    <tr style=\"text-align: right;\">\n",
       "      <th></th>\n",
       "      <th>lm</th>\n",
       "      <th>knn</th>\n",
       "    </tr>\n",
       "  </thead>\n",
       "  <tbody>\n",
       "    <tr>\n",
       "      <th>0</th>\n",
       "      <td>18.91</td>\n",
       "      <td>108.16</td>\n",
       "    </tr>\n",
       "    <tr>\n",
       "      <th>1</th>\n",
       "      <td>179.22</td>\n",
       "      <td>0.64</td>\n",
       "    </tr>\n",
       "    <tr>\n",
       "      <th>2</th>\n",
       "      <td>41.03</td>\n",
       "      <td>64.00</td>\n",
       "    </tr>\n",
       "    <tr>\n",
       "      <th>3</th>\n",
       "      <td>168.49</td>\n",
       "      <td>184.96</td>\n",
       "    </tr>\n",
       "    <tr>\n",
       "      <th>4</th>\n",
       "      <td>5.09</td>\n",
       "      <td>0.00</td>\n",
       "    </tr>\n",
       "  </tbody>\n",
       "</table>\n",
       "</div>"
      ],
      "text/plain": [
       "      lm    knn\n",
       "0  18.91 108.16\n",
       "1 179.22   0.64\n",
       "2  41.03  64.00\n",
       "3 168.49 184.96\n",
       "4   5.09   0.00"
      ]
     },
     "execution_count": 302,
     "metadata": {},
     "output_type": "execute_result"
    }
   ],
   "source": [
    "my_df = pd.DataFrame({\n",
    "    'lm': -my_lm_scores, \n",
    "    'knn': -my_knn_scores\n",
    "})\n",
    "my_df.head()"
   ]
  },
  {
   "cell_type": "code",
   "execution_count": 303,
   "id": "aec42c21",
   "metadata": {},
   "outputs": [
    {
     "data": {
      "text/plain": [
       "Text(0, 0.5, '$r^2$')"
      ]
     },
     "execution_count": 303,
     "metadata": {},
     "output_type": "execute_result"
    },
    {
     "data": {
      "image/png": "[encoded data removed]",
      "text/plain": [
       "<Figure size 432x288 with 1 Axes>"
      ]
     },
     "metadata": {
      "needs_background": "light"
     },
     "output_type": "display_data"
    }
   ],
   "source": [
    "my_df.boxplot().set_ylabel('$r^2$')"
   ]
  },
  {
   "cell_type": "code",
   "execution_count": 305,
   "id": "7cff5752",
   "metadata": {},
   "outputs": [
    {
     "data": {
      "text/plain": [
       "0.6952755720536115"
      ]
     },
     "execution_count": 305,
     "metadata": {},
     "output_type": "execute_result"
    }
   ],
   "source": [
    "from statsmodels.stats.weightstats import DescrStatsW\n",
    "d = DescrStatsW(my_df.lm - my_df.knn)\n",
    "d.ttest_mean()[1]"
   ]
  },
  {
   "cell_type": "code",
   "execution_count": 306,
   "id": "e422478d",
   "metadata": {},
   "outputs": [
    {
     "data": {
      "text/plain": [
       "(-72.8275283312228, 48.95036023665703)"
      ]
     },
     "execution_count": 306,
     "metadata": {},
     "output_type": "execute_result"
    }
   ],
   "source": [
    "d.tconfint_mean(alpha = 0.05, alternative='two-sided')"
   ]
  },
  {
   "cell_type": "code",
   "execution_count": 307,
   "id": "712ebcc7",
   "metadata": {},
   "outputs": [
    {
     "data": {
      "text/plain": [
       "GridSearchCV(cv=LeaveOneOut(), estimator=KNeighborsRegressor(),\n",
       "             param_grid={'n_neighbors': range(1, 16)},\n",
       "             scoring='neg_mean_squared_error')"
      ]
     },
     "execution_count": 307,
     "metadata": {},
     "output_type": "execute_result"
    }
   ],
   "source": [
    "from sklearn.model_selection import GridSearchCV\n",
    "\n",
    "my_params = {'n_neighbors': range(1,16)}\n",
    "\n",
    "my_search = GridSearchCV(estimator = KNeighborsRegressor(), param_grid = my_params, cv=LeaveOneOut(), scoring = 'neg_mean_squared_error')\n",
    "my_search.fit(X,y)"
   ]
  },
  {
   "cell_type": "code",
   "execution_count": 308,
   "id": "a2dd650b",
   "metadata": {},
   "outputs": [],
   "source": [
    "tmp = my_search.cv_results_\n",
    "my_scores = (-tmp['mean_test_score'])**0.5\n",
    "my_results = pd.DataFrame(tmp['params']).assign(validation=my_scores)"
   ]
  },
  {
   "cell_type": "code",
   "execution_count": 309,
   "id": "a04b0dce",
   "metadata": {},
   "outputs": [
    {
     "data": {
      "text/html": [
       "<div>\n",
       "<style scoped>\n",
       "    .dataframe tbody tr th:only-of-type {\n",
       "        vertical-align: middle;\n",
       "    }\n",
       "\n",
       "    .dataframe tbody tr th {\n",
       "        vertical-align: top;\n",
       "    }\n",
       "\n",
       "    .dataframe thead th {\n",
       "        text-align: right;\n",
       "    }\n",
       "</style>\n",
       "<table border=\"1\" class=\"dataframe\">\n",
       "  <thead>\n",
       "    <tr style=\"text-align: right;\">\n",
       "      <th></th>\n",
       "      <th>n_neighbors</th>\n",
       "      <th>validation</th>\n",
       "    </tr>\n",
       "  </thead>\n",
       "  <tbody>\n",
       "    <tr>\n",
       "      <th>0</th>\n",
       "      <td>1</td>\n",
       "      <td>20.09</td>\n",
       "    </tr>\n",
       "    <tr>\n",
       "      <th>1</th>\n",
       "      <td>2</td>\n",
       "      <td>17.58</td>\n",
       "    </tr>\n",
       "    <tr>\n",
       "      <th>2</th>\n",
       "      <td>3</td>\n",
       "      <td>16.35</td>\n",
       "    </tr>\n",
       "    <tr>\n",
       "      <th>3</th>\n",
       "      <td>4</td>\n",
       "      <td>16.20</td>\n",
       "    </tr>\n",
       "    <tr>\n",
       "      <th>4</th>\n",
       "      <td>5</td>\n",
       "      <td>16.07</td>\n",
       "    </tr>\n",
       "  </tbody>\n",
       "</table>\n",
       "</div>"
      ],
      "text/plain": [
       "   n_neighbors  validation\n",
       "0            1       20.09\n",
       "1            2       17.58\n",
       "2            3       16.35\n",
       "3            4       16.20\n",
       "4            5       16.07"
      ]
     },
     "execution_count": 309,
     "metadata": {},
     "output_type": "execute_result"
    }
   ],
   "source": [
    "my_results.head()"
   ]
  },
  {
   "cell_type": "code",
   "execution_count": 311,
   "id": "eec8ffd8",
   "metadata": {},
   "outputs": [
    {
     "data": {
      "text/plain": [
       "<AxesSubplot:xlabel='n_neighbors', ylabel='RMSE'>"
      ]
     },
     "execution_count": 311,
     "metadata": {},
     "output_type": "execute_result"
    },
    {
     "data": {
      "image/png": "[encoded data removed]",
      "text/plain": [
       "<Figure size 432x288 with 1 Axes>"
      ]
     },
     "metadata": {
      "needs_background": "light"
     },
     "output_type": "display_data"
    }
   ],
   "source": [
    "my_results.plot(x = 'n_neighbors', style = 'o-', ylabel='RMSE')"
   ]
  },
  {
   "cell_type": "code",
   "execution_count": 312,
   "id": "7edc0c0a",
   "metadata": {},
   "outputs": [
    {
     "data": {
      "text/plain": [
       "{'n_neighbors': 5}"
      ]
     },
     "execution_count": 312,
     "metadata": {},
     "output_type": "execute_result"
    }
   ],
   "source": [
    "my_search.best_params_"
   ]
  },
  {
   "cell_type": "code",
   "execution_count": 314,
   "id": "681a0fc2",
   "metadata": {},
   "outputs": [
    {
     "data": {
      "text/plain": [
       "16.07308308943869"
      ]
     },
     "execution_count": 314,
     "metadata": {},
     "output_type": "execute_result"
    }
   ],
   "source": [
    "(-my_search.best_score_)**0.5"
   ]
  },
  {
   "cell_type": "code",
   "execution_count": 315,
   "id": "7085cbeb",
   "metadata": {},
   "outputs": [
    {
     "data": {
      "text/plain": [
       "13.087184571174962"
      ]
     },
     "execution_count": 315,
     "metadata": {},
     "output_type": "execute_result"
    }
   ],
   "source": [
    "my_model = my_search.best_estimator_\n",
    "y_ = my_model.predict(X)\n",
    "mean_squared_error(y_, y)**0.5"
   ]
  },
  {
   "cell_type": "code",
   "execution_count": 317,
   "id": "0eca2311",
   "metadata": {},
   "outputs": [],
   "source": [
    "def my_loocv(k):\n",
    "    my_model = KNeighborsRegressor(n_neighbors=k)\n",
    "    my_scores = cross_val_score(estimator=my_model, X=X, y=y, cv=LeaveOneOut(), scoring = 'neg_mean_squared_error')\n",
    "    y_ = my_model.fit(X, y).predict(X)\n",
    "    return pd.Series([k, (-my_scores.mean())**0.5, mean_squared_error(y_, y)**0.5],\n",
    "                    index= ['n_neighbors', 'validation', 'training'])\n",
    "\n",
    "my_results = pd.Series(range(1,16)).apply(my_loocv)"
   ]
  },
  {
   "cell_type": "code",
   "execution_count": 318,
   "id": "224e5d4c",
   "metadata": {},
   "outputs": [
    {
     "data": {
      "text/plain": [
       "<AxesSubplot:xlabel='n_neighbors', ylabel='RMSE'>"
      ]
     },
     "execution_count": 318,
     "metadata": {},
     "output_type": "execute_result"
    },
    {
     "data": {
      "image/png": "[encoded data removed]",
      "text/plain": [
       "<Figure size 432x288 with 1 Axes>"
      ]
     },
     "metadata": {
      "needs_background": "light"
     },
     "output_type": "display_data"
    }
   ],
   "source": [
    "my_results.plot(x = 'n_neighbors', style = 'o-', ylabel='RMSE')"
   ]
  },
  {
   "cell_type": "code",
   "execution_count": 35,
   "id": "a3e8fe08",
   "metadata": {},
   "outputs": [
    {
     "data": {
      "text/html": [
       "<div>\n",
       "<style scoped>\n",
       "    .dataframe tbody tr th:only-of-type {\n",
       "        vertical-align: middle;\n",
       "    }\n",
       "\n",
       "    .dataframe tbody tr th {\n",
       "        vertical-align: top;\n",
       "    }\n",
       "\n",
       "    .dataframe thead th {\n",
       "        text-align: right;\n",
       "    }\n",
       "</style>\n",
       "<table border=\"1\" class=\"dataframe\">\n",
       "  <thead>\n",
       "    <tr style=\"text-align: right;\">\n",
       "      <th></th>\n",
       "      <th>OBS</th>\n",
       "      <th>VINT</th>\n",
       "      <th>LPRICE2</th>\n",
       "      <th>WRAIN</th>\n",
       "      <th>DEGREES</th>\n",
       "      <th>HRAIN</th>\n",
       "      <th>TIME_SV</th>\n",
       "    </tr>\n",
       "  </thead>\n",
       "  <tbody>\n",
       "    <tr>\n",
       "      <th>count</th>\n",
       "      <td>38.000000</td>\n",
       "      <td>38.000000</td>\n",
       "      <td>27.000000</td>\n",
       "      <td>38.000000</td>\n",
       "      <td>37.000000</td>\n",
       "      <td>38.000000</td>\n",
       "      <td>38.000000</td>\n",
       "    </tr>\n",
       "    <tr>\n",
       "      <th>mean</th>\n",
       "      <td>19.500000</td>\n",
       "      <td>1970.500000</td>\n",
       "      <td>-1.451765</td>\n",
       "      <td>605.000000</td>\n",
       "      <td>16.522973</td>\n",
       "      <td>137.000000</td>\n",
       "      <td>12.500000</td>\n",
       "    </tr>\n",
       "    <tr>\n",
       "      <th>std</th>\n",
       "      <td>11.113055</td>\n",
       "      <td>11.113055</td>\n",
       "      <td>0.634588</td>\n",
       "      <td>135.283087</td>\n",
       "      <td>0.662480</td>\n",
       "      <td>66.740725</td>\n",
       "      <td>11.113055</td>\n",
       "    </tr>\n",
       "    <tr>\n",
       "      <th>min</th>\n",
       "      <td>1.000000</td>\n",
       "      <td>1952.000000</td>\n",
       "      <td>-2.288790</td>\n",
       "      <td>376.000000</td>\n",
       "      <td>14.983300</td>\n",
       "      <td>38.000000</td>\n",
       "      <td>-6.000000</td>\n",
       "    </tr>\n",
       "    <tr>\n",
       "      <th>25%</th>\n",
       "      <td>10.250000</td>\n",
       "      <td>1961.250000</td>\n",
       "      <td>-1.985365</td>\n",
       "      <td>510.250000</td>\n",
       "      <td>16.166700</td>\n",
       "      <td>87.500000</td>\n",
       "      <td>3.250000</td>\n",
       "    </tr>\n",
       "    <tr>\n",
       "      <th>50%</th>\n",
       "      <td>19.500000</td>\n",
       "      <td>1970.500000</td>\n",
       "      <td>-1.509260</td>\n",
       "      <td>586.500000</td>\n",
       "      <td>16.533300</td>\n",
       "      <td>120.500000</td>\n",
       "      <td>12.500000</td>\n",
       "    </tr>\n",
       "    <tr>\n",
       "      <th>75%</th>\n",
       "      <td>28.750000</td>\n",
       "      <td>1979.750000</td>\n",
       "      <td>-1.052200</td>\n",
       "      <td>713.500000</td>\n",
       "      <td>17.066700</td>\n",
       "      <td>171.000000</td>\n",
       "      <td>21.750000</td>\n",
       "    </tr>\n",
       "    <tr>\n",
       "      <th>max</th>\n",
       "      <td>38.000000</td>\n",
       "      <td>1989.000000</td>\n",
       "      <td>0.000000</td>\n",
       "      <td>845.000000</td>\n",
       "      <td>17.650000</td>\n",
       "      <td>292.000000</td>\n",
       "      <td>31.000000</td>\n",
       "    </tr>\n",
       "  </tbody>\n",
       "</table>\n",
       "</div>"
      ],
      "text/plain": [
       "             OBS         VINT    LPRICE2       WRAIN    DEGREES       HRAIN  \\\n",
       "count  38.000000    38.000000  27.000000   38.000000  37.000000   38.000000   \n",
       "mean   19.500000  1970.500000  -1.451765  605.000000  16.522973  137.000000   \n",
       "std    11.113055    11.113055   0.634588  135.283087   0.662480   66.740725   \n",
       "min     1.000000  1952.000000  -2.288790  376.000000  14.983300   38.000000   \n",
       "25%    10.250000  1961.250000  -1.985365  510.250000  16.166700   87.500000   \n",
       "50%    19.500000  1970.500000  -1.509260  586.500000  16.533300  120.500000   \n",
       "75%    28.750000  1979.750000  -1.052200  713.500000  17.066700  171.000000   \n",
       "max    38.000000  1989.000000   0.000000  845.000000  17.650000  292.000000   \n",
       "\n",
       "         TIME_SV  \n",
       "count  38.000000  \n",
       "mean   12.500000  \n",
       "std    11.113055  \n",
       "min    -6.000000  \n",
       "25%     3.250000  \n",
       "50%    12.500000  \n",
       "75%    21.750000  \n",
       "max    31.000000  "
      ]
     },
     "execution_count": 35,
     "metadata": {},
     "output_type": "execute_result"
    }
   ],
   "source": [
    "import pandas as pd\n",
    "\n",
    "my_url = 'http://www.liquidasset.com/winedata.html'\n",
    "\n",
    "tmp = pd.read_table(my_url, skiprows = 62, nrows = 38, sep = '\\\\s+', na_values = '.')\n",
    "tmp.describe()"
   ]
  },
  {
   "cell_type": "code",
   "execution_count": 36,
   "id": "556b582e",
   "metadata": {},
   "outputs": [],
   "source": [
    "my_data = tmp.iloc[:, 2:].dropna()"
   ]
  },
  {
   "cell_type": "code",
   "execution_count": 3,
   "id": "7740a64b",
   "metadata": {},
   "outputs": [
    {
     "data": {
      "text/html": [
       "<div>\n",
       "<style scoped>\n",
       "    .dataframe tbody tr th:only-of-type {\n",
       "        vertical-align: middle;\n",
       "    }\n",
       "\n",
       "    .dataframe tbody tr th {\n",
       "        vertical-align: top;\n",
       "    }\n",
       "\n",
       "    .dataframe thead th {\n",
       "        text-align: right;\n",
       "    }\n",
       "</style>\n",
       "<table border=\"1\" class=\"dataframe\">\n",
       "  <thead>\n",
       "    <tr style=\"text-align: right;\">\n",
       "      <th></th>\n",
       "      <th>LPRICE2</th>\n",
       "      <th>WRAIN</th>\n",
       "      <th>DEGREES</th>\n",
       "      <th>HRAIN</th>\n",
       "      <th>TIME_SV</th>\n",
       "    </tr>\n",
       "  </thead>\n",
       "  <tbody>\n",
       "    <tr>\n",
       "      <th>0</th>\n",
       "      <td>-0.99868</td>\n",
       "      <td>600</td>\n",
       "      <td>17.1167</td>\n",
       "      <td>160</td>\n",
       "      <td>31</td>\n",
       "    </tr>\n",
       "    <tr>\n",
       "      <th>1</th>\n",
       "      <td>-0.45440</td>\n",
       "      <td>690</td>\n",
       "      <td>16.7333</td>\n",
       "      <td>80</td>\n",
       "      <td>30</td>\n",
       "    </tr>\n",
       "    <tr>\n",
       "      <th>3</th>\n",
       "      <td>-0.80796</td>\n",
       "      <td>502</td>\n",
       "      <td>17.1500</td>\n",
       "      <td>130</td>\n",
       "      <td>28</td>\n",
       "    </tr>\n",
       "    <tr>\n",
       "      <th>5</th>\n",
       "      <td>-1.50926</td>\n",
       "      <td>420</td>\n",
       "      <td>16.1333</td>\n",
       "      <td>110</td>\n",
       "      <td>26</td>\n",
       "    </tr>\n",
       "    <tr>\n",
       "      <th>6</th>\n",
       "      <td>-1.71655</td>\n",
       "      <td>582</td>\n",
       "      <td>16.4167</td>\n",
       "      <td>187</td>\n",
       "      <td>25</td>\n",
       "    </tr>\n",
       "  </tbody>\n",
       "</table>\n",
       "</div>"
      ],
      "text/plain": [
       "   LPRICE2  WRAIN  DEGREES  HRAIN  TIME_SV\n",
       "0 -0.99868    600  17.1167    160       31\n",
       "1 -0.45440    690  16.7333     80       30\n",
       "3 -0.80796    502  17.1500    130       28\n",
       "5 -1.50926    420  16.1333    110       26\n",
       "6 -1.71655    582  16.4167    187       25"
      ]
     },
     "execution_count": 3,
     "metadata": {},
     "output_type": "execute_result"
    }
   ],
   "source": [
    "my_data.head()"
   ]
  },
  {
   "cell_type": "code",
   "execution_count": 4,
   "id": "14af0cbd",
   "metadata": {},
   "outputs": [
    {
     "data": {
      "text/plain": [
       "(27, 5)"
      ]
     },
     "execution_count": 4,
     "metadata": {},
     "output_type": "execute_result"
    }
   ],
   "source": [
    "my_data.shape"
   ]
  },
  {
   "cell_type": "code",
   "execution_count": 5,
   "id": "d34d5cd3",
   "metadata": {},
   "outputs": [],
   "source": [
    "my_data.to_csv('wine.csv', index= False)"
   ]
  },
  {
   "cell_type": "code",
   "execution_count": 37,
   "id": "e5c058e4",
   "metadata": {},
   "outputs": [],
   "source": [
    "import numpy as np\n",
    "import pandas as pd\n",
    "from sklearn.linear_model import LinearRegression\n",
    "from sklearn.metrics import mean_squared_error\n",
    "from sklearn.model_selection import cross_val_score, LeaveOneOut\n",
    "\n",
    "X, y = my_data.drop(columns = ['LPRICE2']), my_data['LPRICE2']\n",
    "\n",
    "my_model = LinearRegression().fit(X,y)"
   ]
  },
  {
   "cell_type": "code",
   "execution_count": 7,
   "id": "434e61e1",
   "metadata": {},
   "outputs": [
    {
     "data": {
      "text/plain": [
       "-12.145333576510417"
      ]
     },
     "execution_count": 7,
     "metadata": {},
     "output_type": "execute_result"
    }
   ],
   "source": [
    "my_model.intercept_"
   ]
  },
  {
   "cell_type": "code",
   "execution_count": 8,
   "id": "fa6f7bd6",
   "metadata": {},
   "outputs": [
    {
     "data": {
      "text/plain": [
       "WRAIN      0.001167\n",
       "DEGREES    0.616392\n",
       "HRAIN     -0.003861\n",
       "TIME_SV    0.023847\n",
       "dtype: float64"
      ]
     },
     "execution_count": 8,
     "metadata": {},
     "output_type": "execute_result"
    }
   ],
   "source": [
    "pd.Series(my_model.coef_, index = X.columns)"
   ]
  },
  {
   "cell_type": "code",
   "execution_count": 9,
   "id": "333819b4",
   "metadata": {},
   "outputs": [
    {
     "data": {
      "text/plain": [
       "array([-1.49884253])"
      ]
     },
     "execution_count": 9,
     "metadata": {},
     "output_type": "execute_result"
    }
   ],
   "source": [
    "my_test = [[500,17,120,2]]\n",
    "my_model.predict(my_test)"
   ]
  },
  {
   "cell_type": "code",
   "execution_count": 10,
   "id": "221ff4b0",
   "metadata": {},
   "outputs": [
    {
     "data": {
      "text/plain": [
       "0.2586166620130619"
      ]
     },
     "execution_count": 10,
     "metadata": {},
     "output_type": "execute_result"
    }
   ],
   "source": [
    "y_ = my_model.predict(X)\n",
    "mean_squared_error(y_, y)**0.5"
   ]
  },
  {
   "cell_type": "code",
   "execution_count": 11,
   "id": "61daf807",
   "metadata": {},
   "outputs": [
    {
     "data": {
      "text/plain": [
       "0.8275277990052158"
      ]
     },
     "execution_count": 11,
     "metadata": {},
     "output_type": "execute_result"
    }
   ],
   "source": [
    "my_model.score(X, y)"
   ]
  },
  {
   "cell_type": "code",
   "execution_count": 12,
   "id": "975ff7f0",
   "metadata": {},
   "outputs": [
    {
     "data": {
      "text/plain": [
       "0.8275277990052158"
      ]
     },
     "execution_count": 12,
     "metadata": {},
     "output_type": "execute_result"
    }
   ],
   "source": [
    "np.corrcoef(y, y_)[0,1]**2"
   ]
  },
  {
   "cell_type": "code",
   "execution_count": 13,
   "id": "1858996a",
   "metadata": {},
   "outputs": [],
   "source": [
    "my_scores = cross_val_score(my_model , X,y ,cv=LeaveOneOut(), scoring = 'neg_mean_squared_error')"
   ]
  },
  {
   "cell_type": "code",
   "execution_count": 14,
   "id": "e631791c",
   "metadata": {},
   "outputs": [
    {
     "data": {
      "text/plain": [
       "0.32300426518411984"
      ]
     },
     "execution_count": 14,
     "metadata": {},
     "output_type": "execute_result"
    }
   ],
   "source": [
    "(-my_scores.mean())**0.5"
   ]
  },
  {
   "cell_type": "code",
   "execution_count": 15,
   "id": "ccf46103",
   "metadata": {},
   "outputs": [],
   "source": [
    "import numpy as np\n",
    "M = np.matrix(X.assign(b0=1))\n",
    "b = np.linalg.pinv(M) @ y"
   ]
  },
  {
   "cell_type": "code",
   "execution_count": 16,
   "id": "6ba66920",
   "metadata": {},
   "outputs": [
    {
     "data": {
      "text/plain": [
       "WRAIN       0.001167\n",
       "DEGREES     0.616392\n",
       "HRAIN      -0.003861\n",
       "TIME_SV     0.023847\n",
       "b0        -12.145334\n",
       "dtype: float64"
      ]
     },
     "execution_count": 16,
     "metadata": {},
     "output_type": "execute_result"
    }
   ],
   "source": [
    "pd.Series(b, index = list(X.columns) + ['b0'])"
   ]
  },
  {
   "cell_type": "code",
   "execution_count": 17,
   "id": "8042616f",
   "metadata": {},
   "outputs": [
    {
     "data": {
      "text/plain": [
       "<AxesSubplot:>"
      ]
     },
     "execution_count": 17,
     "metadata": {},
     "output_type": "execute_result"
    },
    {
     "data": {
      "image/png": "[encoded data removed]",
      "text/plain": [
       "<Figure size 432x288 with 1 Axes>"
      ]
     },
     "metadata": {
      "needs_background": "light"
     },
     "output_type": "display_data"
    }
   ],
   "source": [
    "from sklearn.pipeline import Pipeline\n",
    "from sklearn.preprocessing import StandardScaler\n",
    "\n",
    "pd.DataFrame(StandardScaler().fit_transform(X), columns = X.columns).boxplot(showmeans = True)"
   ]
  },
  {
   "cell_type": "code",
   "execution_count": 18,
   "id": "1bc6793c",
   "metadata": {},
   "outputs": [
    {
     "data": {
      "text/plain": [
       "Pipeline(steps=[('sc', StandardScaler()), ('lr', LinearRegression())])"
      ]
     },
     "execution_count": 18,
     "metadata": {},
     "output_type": "execute_result"
    }
   ],
   "source": [
    "my_pipeline = Pipeline([\n",
    "    ('sc' , StandardScaler()), ('lr', LinearRegression())\n",
    "])\n",
    "my_pipeline.fit(X, y)"
   ]
  },
  {
   "cell_type": "code",
   "execution_count": 19,
   "id": "3fd75277",
   "metadata": {},
   "outputs": [
    {
     "data": {
      "text/plain": [
       "-1.4517651851851847"
      ]
     },
     "execution_count": 19,
     "metadata": {},
     "output_type": "execute_result"
    }
   ],
   "source": [
    "my_lr = my_pipeline.named_steps.lr\n",
    "my_lr.intercept_"
   ]
  },
  {
   "cell_type": "code",
   "execution_count": 20,
   "id": "35b2ed11",
   "metadata": {},
   "outputs": [
    {
     "data": {
      "text/plain": [
       "WRAIN      0.147741\n",
       "DEGREES    0.398724\n",
       "HRAIN     -0.276802\n",
       "TIME_SV    0.192979\n",
       "dtype: float64"
      ]
     },
     "execution_count": 20,
     "metadata": {},
     "output_type": "execute_result"
    }
   ],
   "source": [
    "pd.Series(my_lr.coef_, index = X.columns)"
   ]
  },
  {
   "cell_type": "code",
   "execution_count": 21,
   "id": "2f728191",
   "metadata": {},
   "outputs": [
    {
     "data": {
      "text/plain": [
       "array([-1.49884253])"
      ]
     },
     "execution_count": 21,
     "metadata": {},
     "output_type": "execute_result"
    }
   ],
   "source": [
    "my_test = [[500,17,120,2]]\n",
    "my_pipeline.predict(my_test)"
   ]
  },
  {
   "cell_type": "code",
   "execution_count": 22,
   "id": "899aa9cb",
   "metadata": {},
   "outputs": [
    {
     "data": {
      "text/html": [
       "<div>\n",
       "<style scoped>\n",
       "    .dataframe tbody tr th:only-of-type {\n",
       "        vertical-align: middle;\n",
       "    }\n",
       "\n",
       "    .dataframe tbody tr th {\n",
       "        vertical-align: top;\n",
       "    }\n",
       "\n",
       "    .dataframe thead th {\n",
       "        text-align: right;\n",
       "    }\n",
       "</style>\n",
       "<table border=\"1\" class=\"dataframe\">\n",
       "  <thead>\n",
       "    <tr style=\"text-align: right;\">\n",
       "      <th></th>\n",
       "      <th>LPRICE2</th>\n",
       "      <th>WRAIN</th>\n",
       "      <th>DEGREES</th>\n",
       "      <th>HRAIN</th>\n",
       "      <th>TIME_SV</th>\n",
       "      <th>v1</th>\n",
       "      <th>v2</th>\n",
       "    </tr>\n",
       "  </thead>\n",
       "  <tbody>\n",
       "    <tr>\n",
       "      <th>0</th>\n",
       "      <td>-0.99868</td>\n",
       "      <td>600</td>\n",
       "      <td>17.1167</td>\n",
       "      <td>160</td>\n",
       "      <td>31</td>\n",
       "      <td>0</td>\n",
       "      <td>0</td>\n",
       "    </tr>\n",
       "    <tr>\n",
       "      <th>1</th>\n",
       "      <td>-0.45440</td>\n",
       "      <td>690</td>\n",
       "      <td>16.7333</td>\n",
       "      <td>80</td>\n",
       "      <td>30</td>\n",
       "      <td>1</td>\n",
       "      <td>1</td>\n",
       "    </tr>\n",
       "    <tr>\n",
       "      <th>3</th>\n",
       "      <td>-0.80796</td>\n",
       "      <td>502</td>\n",
       "      <td>17.1500</td>\n",
       "      <td>130</td>\n",
       "      <td>28</td>\n",
       "      <td>0</td>\n",
       "      <td>2</td>\n",
       "    </tr>\n",
       "    <tr>\n",
       "      <th>5</th>\n",
       "      <td>-1.50926</td>\n",
       "      <td>420</td>\n",
       "      <td>16.1333</td>\n",
       "      <td>110</td>\n",
       "      <td>26</td>\n",
       "      <td>1</td>\n",
       "      <td>0</td>\n",
       "    </tr>\n",
       "    <tr>\n",
       "      <th>6</th>\n",
       "      <td>-1.71655</td>\n",
       "      <td>582</td>\n",
       "      <td>16.4167</td>\n",
       "      <td>187</td>\n",
       "      <td>25</td>\n",
       "      <td>0</td>\n",
       "      <td>1</td>\n",
       "    </tr>\n",
       "  </tbody>\n",
       "</table>\n",
       "</div>"
      ],
      "text/plain": [
       "   LPRICE2  WRAIN  DEGREES  HRAIN  TIME_SV  v1  v2\n",
       "0 -0.99868    600  17.1167    160       31   0   0\n",
       "1 -0.45440    690  16.7333     80       30   1   1\n",
       "3 -0.80796    502  17.1500    130       28   0   2\n",
       "5 -1.50926    420  16.1333    110       26   1   0\n",
       "6 -1.71655    582  16.4167    187       25   0   1"
      ]
     },
     "execution_count": 22,
     "metadata": {},
     "output_type": "execute_result"
    }
   ],
   "source": [
    "n= len(my_data)\n",
    "my_data2 = my_data.assign(v1 = [i % 2 for i in range(n)], v2 = [i % 3 for i in range(n)])\n",
    "my_data2.head()"
   ]
  },
  {
   "cell_type": "code",
   "execution_count": 24,
   "id": "1bfc1bb8",
   "metadata": {},
   "outputs": [
    {
     "data": {
      "text/plain": [
       "0.2562120047505748"
      ]
     },
     "execution_count": 24,
     "metadata": {},
     "output_type": "execute_result"
    }
   ],
   "source": [
    "X ,y = my_data2.drop(columns=['LPRICE2']), my_data2['LPRICE2']\n",
    "my_model2 = LinearRegression().fit(X,y)\n",
    "\n",
    "y_ = my_model2.predict(X)\n",
    "mean_squared_error(y_, y)**0.5"
   ]
  },
  {
   "cell_type": "code",
   "execution_count": 25,
   "id": "3b32f271",
   "metadata": {},
   "outputs": [
    {
     "data": {
      "text/plain": [
       "0.35699180359289445"
      ]
     },
     "execution_count": 25,
     "metadata": {},
     "output_type": "execute_result"
    }
   ],
   "source": [
    "my_scores = cross_val_score(my_model2, X, y, cv=LeaveOneOut(), scoring= 'neg_mean_squared_error')\n",
    "(-my_scores.mean())**0.5"
   ]
  },
  {
   "cell_type": "code",
   "execution_count": 26,
   "id": "86d32c8d",
   "metadata": {},
   "outputs": [
    {
     "data": {
      "text/plain": [
       "array([ True,  True,  True,  True, False, False])"
      ]
     },
     "execution_count": 26,
     "metadata": {},
     "output_type": "execute_result"
    }
   ],
   "source": [
    "from sklearn.feature_selection import SequentialFeatureSelector\n",
    "from sklearn.model_selection import GridSearchCV, LeaveOneOut\n",
    "\n",
    "my_sfs  =SequentialFeatureSelector(estimator = LinearRegression(), direction = 'forward', cv = LeaveOneOut(), scoring = 'neg_mean_squared_error')\n",
    "\n",
    "my_pipeline = Pipeline([\n",
    "    ('sfs', my_sfs),\n",
    "    ('lr', LinearRegression())\n",
    "])\n",
    " \n",
    "my_params = {'sfs__n_features_to_select': range(1,6)}\n",
    "my_search = GridSearchCV(estimator = my_pipeline, param_grid = my_params, cv =LeaveOneOut(), scoring = 'neg_mean_squared_error', n_jobs = -1).fit(X,y)\n",
    "my_model = my_search.best_estimator_\n",
    "my_search.best_estimator_.named_steps.sfs.get_support()\n",
    "                                "
   ]
  },
  {
   "cell_type": "code",
   "execution_count": 28,
   "id": "7209fd2a",
   "metadata": {},
   "outputs": [],
   "source": [
    "from sklearn.linear_model import ElasticNet, enet_path\n",
    "from sklearn.exceptions import ConvergenceWarning\n",
    "from scipy.stats import zscore\n",
    "import warnings\n",
    "warnings.simplefilter('ignore', ConvergenceWarning)"
   ]
  },
  {
   "cell_type": "code",
   "execution_count": 42,
   "id": "7f15835d",
   "metadata": {},
   "outputs": [
    {
     "data": {
      "text/plain": [
       "Pipeline(steps=[('sc', StandardScaler()),\n",
       "                ('enet', ElasticNet(alpha=2, l1_ratio=0.1))])"
      ]
     },
     "execution_count": 42,
     "metadata": {},
     "output_type": "execute_result"
    }
   ],
   "source": [
    "my_url = ('')\n",
    "\n",
    "A = 2\n",
    "B = 0.1\n",
    "my_pipeline  = Pipeline([\n",
    "    ('sc', StandardScaler()),\n",
    "    ('enet', ElasticNet(alpha = A, l1_ratio = B))\n",
    "])\n",
    "my_pipeline.fit(X, y)"
   ]
  },
  {
   "cell_type": "code",
   "execution_count": 43,
   "id": "e13589ab",
   "metadata": {},
   "outputs": [
    {
     "data": {
      "text/plain": [
       "-1.4517651851851852"
      ]
     },
     "execution_count": 43,
     "metadata": {},
     "output_type": "execute_result"
    }
   ],
   "source": [
    "my_enet = my_pipeline.named_steps.enet\n",
    "my_enet.intercept_\n"
   ]
  },
  {
   "cell_type": "code",
   "execution_count": 44,
   "id": "2b76b6cd",
   "metadata": {},
   "outputs": [
    {
     "data": {
      "text/plain": [
       "WRAIN      0.000000\n",
       "DEGREES    0.074101\n",
       "HRAIN     -0.041159\n",
       "TIME_SV    0.024027\n",
       "dtype: float64"
      ]
     },
     "execution_count": 44,
     "metadata": {},
     "output_type": "execute_result"
    }
   ],
   "source": [
    "pd.Series(my_enet.coef_, index = X.columns)"
   ]
  },
  {
   "cell_type": "code",
   "execution_count": 45,
   "id": "3f337dda",
   "metadata": {},
   "outputs": [
    {
     "data": {
      "text/plain": [
       "array([-1.41981616])"
      ]
     },
     "execution_count": 45,
     "metadata": {},
     "output_type": "execute_result"
    }
   ],
   "source": [
    "my_test = pd.DataFrame([[500,17,120,2]])\n",
    "my_pipeline.predict(my_test)"
   ]
  },
  {
   "cell_type": "code",
   "execution_count": 41,
   "id": "06a2e83c",
   "metadata": {},
   "outputs": [
    {
     "data": {
      "text/html": [
       "<div>\n",
       "<style scoped>\n",
       "    .dataframe tbody tr th:only-of-type {\n",
       "        vertical-align: middle;\n",
       "    }\n",
       "\n",
       "    .dataframe tbody tr th {\n",
       "        vertical-align: top;\n",
       "    }\n",
       "\n",
       "    .dataframe thead th {\n",
       "        text-align: right;\n",
       "    }\n",
       "</style>\n",
       "<table border=\"1\" class=\"dataframe\">\n",
       "  <thead>\n",
       "    <tr style=\"text-align: right;\">\n",
       "      <th></th>\n",
       "      <th>LPRICE2</th>\n",
       "      <th>WRAIN</th>\n",
       "      <th>DEGREES</th>\n",
       "      <th>HRAIN</th>\n",
       "      <th>TIME_SV</th>\n",
       "    </tr>\n",
       "  </thead>\n",
       "  <tbody>\n",
       "    <tr>\n",
       "      <th>0</th>\n",
       "      <td>-0.99868</td>\n",
       "      <td>600</td>\n",
       "      <td>17.1167</td>\n",
       "      <td>160</td>\n",
       "      <td>31</td>\n",
       "    </tr>\n",
       "    <tr>\n",
       "      <th>1</th>\n",
       "      <td>-0.45440</td>\n",
       "      <td>690</td>\n",
       "      <td>16.7333</td>\n",
       "      <td>80</td>\n",
       "      <td>30</td>\n",
       "    </tr>\n",
       "    <tr>\n",
       "      <th>3</th>\n",
       "      <td>-0.80796</td>\n",
       "      <td>502</td>\n",
       "      <td>17.1500</td>\n",
       "      <td>130</td>\n",
       "      <td>28</td>\n",
       "    </tr>\n",
       "    <tr>\n",
       "      <th>5</th>\n",
       "      <td>-1.50926</td>\n",
       "      <td>420</td>\n",
       "      <td>16.1333</td>\n",
       "      <td>110</td>\n",
       "      <td>26</td>\n",
       "    </tr>\n",
       "    <tr>\n",
       "      <th>6</th>\n",
       "      <td>-1.71655</td>\n",
       "      <td>582</td>\n",
       "      <td>16.4167</td>\n",
       "      <td>187</td>\n",
       "      <td>25</td>\n",
       "    </tr>\n",
       "    <tr>\n",
       "      <th>7</th>\n",
       "      <td>-0.41800</td>\n",
       "      <td>485</td>\n",
       "      <td>17.4833</td>\n",
       "      <td>187</td>\n",
       "      <td>24</td>\n",
       "    </tr>\n",
       "    <tr>\n",
       "      <th>8</th>\n",
       "      <td>-1.97491</td>\n",
       "      <td>763</td>\n",
       "      <td>16.4167</td>\n",
       "      <td>290</td>\n",
       "      <td>23</td>\n",
       "    </tr>\n",
       "    <tr>\n",
       "      <th>9</th>\n",
       "      <td>0.00000</td>\n",
       "      <td>830</td>\n",
       "      <td>17.3333</td>\n",
       "      <td>38</td>\n",
       "      <td>22</td>\n",
       "    </tr>\n",
       "    <tr>\n",
       "      <th>10</th>\n",
       "      <td>-1.10572</td>\n",
       "      <td>697</td>\n",
       "      <td>16.3000</td>\n",
       "      <td>52</td>\n",
       "      <td>21</td>\n",
       "    </tr>\n",
       "    <tr>\n",
       "      <th>11</th>\n",
       "      <td>-1.78098</td>\n",
       "      <td>608</td>\n",
       "      <td>15.7167</td>\n",
       "      <td>155</td>\n",
       "      <td>20</td>\n",
       "    </tr>\n",
       "    <tr>\n",
       "      <th>12</th>\n",
       "      <td>-1.18435</td>\n",
       "      <td>402</td>\n",
       "      <td>17.2667</td>\n",
       "      <td>96</td>\n",
       "      <td>19</td>\n",
       "    </tr>\n",
       "    <tr>\n",
       "      <th>13</th>\n",
       "      <td>-2.24194</td>\n",
       "      <td>602</td>\n",
       "      <td>15.3667</td>\n",
       "      <td>267</td>\n",
       "      <td>18</td>\n",
       "    </tr>\n",
       "    <tr>\n",
       "      <th>14</th>\n",
       "      <td>-0.74943</td>\n",
       "      <td>819</td>\n",
       "      <td>16.5333</td>\n",
       "      <td>86</td>\n",
       "      <td>17</td>\n",
       "    </tr>\n",
       "    <tr>\n",
       "      <th>15</th>\n",
       "      <td>-1.65388</td>\n",
       "      <td>714</td>\n",
       "      <td>16.2333</td>\n",
       "      <td>118</td>\n",
       "      <td>16</td>\n",
       "    </tr>\n",
       "    <tr>\n",
       "      <th>16</th>\n",
       "      <td>-2.25018</td>\n",
       "      <td>610</td>\n",
       "      <td>16.2000</td>\n",
       "      <td>292</td>\n",
       "      <td>15</td>\n",
       "    </tr>\n",
       "    <tr>\n",
       "      <th>17</th>\n",
       "      <td>-2.14784</td>\n",
       "      <td>575</td>\n",
       "      <td>16.5500</td>\n",
       "      <td>244</td>\n",
       "      <td>14</td>\n",
       "    </tr>\n",
       "    <tr>\n",
       "      <th>18</th>\n",
       "      <td>-0.90544</td>\n",
       "      <td>622</td>\n",
       "      <td>16.6667</td>\n",
       "      <td>89</td>\n",
       "      <td>13</td>\n",
       "    </tr>\n",
       "    <tr>\n",
       "      <th>19</th>\n",
       "      <td>-1.30031</td>\n",
       "      <td>551</td>\n",
       "      <td>16.7667</td>\n",
       "      <td>112</td>\n",
       "      <td>12</td>\n",
       "    </tr>\n",
       "    <tr>\n",
       "      <th>20</th>\n",
       "      <td>-2.28879</td>\n",
       "      <td>536</td>\n",
       "      <td>14.9833</td>\n",
       "      <td>158</td>\n",
       "      <td>11</td>\n",
       "    </tr>\n",
       "    <tr>\n",
       "      <th>21</th>\n",
       "      <td>-1.85700</td>\n",
       "      <td>376</td>\n",
       "      <td>17.0667</td>\n",
       "      <td>123</td>\n",
       "      <td>10</td>\n",
       "    </tr>\n",
       "    <tr>\n",
       "      <th>22</th>\n",
       "      <td>-2.19958</td>\n",
       "      <td>574</td>\n",
       "      <td>16.3000</td>\n",
       "      <td>184</td>\n",
       "      <td>9</td>\n",
       "    </tr>\n",
       "    <tr>\n",
       "      <th>23</th>\n",
       "      <td>-1.20168</td>\n",
       "      <td>572</td>\n",
       "      <td>16.9500</td>\n",
       "      <td>171</td>\n",
       "      <td>8</td>\n",
       "    </tr>\n",
       "    <tr>\n",
       "      <th>24</th>\n",
       "      <td>-1.37264</td>\n",
       "      <td>418</td>\n",
       "      <td>17.6500</td>\n",
       "      <td>247</td>\n",
       "      <td>7</td>\n",
       "    </tr>\n",
       "    <tr>\n",
       "      <th>25</th>\n",
       "      <td>-2.23503</td>\n",
       "      <td>821</td>\n",
       "      <td>15.5833</td>\n",
       "      <td>87</td>\n",
       "      <td>6</td>\n",
       "    </tr>\n",
       "    <tr>\n",
       "      <th>26</th>\n",
       "      <td>-1.30769</td>\n",
       "      <td>763</td>\n",
       "      <td>15.8167</td>\n",
       "      <td>51</td>\n",
       "      <td>5</td>\n",
       "    </tr>\n",
       "    <tr>\n",
       "      <th>27</th>\n",
       "      <td>-1.53960</td>\n",
       "      <td>717</td>\n",
       "      <td>16.1667</td>\n",
       "      <td>122</td>\n",
       "      <td>4</td>\n",
       "    </tr>\n",
       "    <tr>\n",
       "      <th>28</th>\n",
       "      <td>-1.99582</td>\n",
       "      <td>578</td>\n",
       "      <td>16.0000</td>\n",
       "      <td>74</td>\n",
       "      <td>3</td>\n",
       "    </tr>\n",
       "  </tbody>\n",
       "</table>\n",
       "</div>"
      ],
      "text/plain": [
       "    LPRICE2  WRAIN  DEGREES  HRAIN  TIME_SV\n",
       "0  -0.99868    600  17.1167    160       31\n",
       "1  -0.45440    690  16.7333     80       30\n",
       "3  -0.80796    502  17.1500    130       28\n",
       "5  -1.50926    420  16.1333    110       26\n",
       "6  -1.71655    582  16.4167    187       25\n",
       "7  -0.41800    485  17.4833    187       24\n",
       "8  -1.97491    763  16.4167    290       23\n",
       "9   0.00000    830  17.3333     38       22\n",
       "10 -1.10572    697  16.3000     52       21\n",
       "11 -1.78098    608  15.7167    155       20\n",
       "12 -1.18435    402  17.2667     96       19\n",
       "13 -2.24194    602  15.3667    267       18\n",
       "14 -0.74943    819  16.5333     86       17\n",
       "15 -1.65388    714  16.2333    118       16\n",
       "16 -2.25018    610  16.2000    292       15\n",
       "17 -2.14784    575  16.5500    244       14\n",
       "18 -0.90544    622  16.6667     89       13\n",
       "19 -1.30031    551  16.7667    112       12\n",
       "20 -2.28879    536  14.9833    158       11\n",
       "21 -1.85700    376  17.0667    123       10\n",
       "22 -2.19958    574  16.3000    184        9\n",
       "23 -1.20168    572  16.9500    171        8\n",
       "24 -1.37264    418  17.6500    247        7\n",
       "25 -2.23503    821  15.5833     87        6\n",
       "26 -1.30769    763  15.8167     51        5\n",
       "27 -1.53960    717  16.1667    122        4\n",
       "28 -1.99582    578  16.0000     74        3"
      ]
     },
     "execution_count": 41,
     "metadata": {},
     "output_type": "execute_result"
    }
   ],
   "source": [
    "my_data"
   ]
  },
  {
   "cell_type": "code",
   "execution_count": 46,
   "id": "4c00949f",
   "metadata": {},
   "outputs": [
    {
     "data": {
      "text/plain": [
       "array([7.38905610e+00, 6.68589444e+00, 6.04964746e+00, 5.47394739e+00,\n",
       "       4.95303242e+00, 4.48168907e+00, 4.05519997e+00, 3.66929667e+00,\n",
       "       3.32011692e+00, 3.00416602e+00, 2.71828183e+00, 2.45960311e+00,\n",
       "       2.22554093e+00, 2.01375271e+00, 1.82211880e+00, 1.64872127e+00,\n",
       "       1.49182470e+00, 1.34985881e+00, 1.22140276e+00, 1.10517092e+00,\n",
       "       1.00000000e+00, 9.04837418e-01, 8.18730753e-01, 7.40818221e-01,\n",
       "       6.70320046e-01, 6.06530660e-01, 5.48811636e-01, 4.96585304e-01,\n",
       "       4.49328964e-01, 4.06569660e-01, 3.67879441e-01, 3.32871084e-01,\n",
       "       3.01194212e-01, 2.72531793e-01, 2.46596964e-01, 2.23130160e-01,\n",
       "       2.01896518e-01, 1.82683524e-01, 1.65298888e-01, 1.49568619e-01,\n",
       "       1.35335283e-01, 1.22456428e-01, 1.10803158e-01, 1.00258844e-01,\n",
       "       9.07179533e-02, 8.20849986e-02, 7.42735782e-02, 6.72055127e-02,\n",
       "       6.08100626e-02, 5.50232201e-02, 4.97870684e-02, 4.50492024e-02,\n",
       "       4.07622040e-02, 3.68831674e-02, 3.33732700e-02, 3.01973834e-02,\n",
       "       2.73237224e-02, 2.47235265e-02, 2.23707719e-02, 2.02419114e-02,\n",
       "       1.83156389e-02, 1.65726754e-02, 1.49955768e-02, 1.35685590e-02,\n",
       "       1.22773399e-02, 1.11089965e-02, 1.00518357e-02, 9.09527710e-03,\n",
       "       8.22974705e-03, 7.44658307e-03, 6.73794700e-03, 6.09674657e-03,\n",
       "       5.51656442e-03, 4.99159391e-03, 4.51658094e-03])"
      ]
     },
     "execution_count": 46,
     "metadata": {},
     "output_type": "execute_result"
    }
   ],
   "source": [
    "As = np.e ** np.arange(2, -5.5, -.1)\n",
    "As"
   ]
  },
  {
   "cell_type": "code",
   "execution_count": 47,
   "id": "5f48a725",
   "metadata": {},
   "outputs": [],
   "source": [
    "_, my_path, _ =net_path(\n",
    "zscore(X), zscore(y), alphas = As, l1_ratio = B)\n"
   ]
  },
  {
   "cell_type": "code",
   "execution_count": 48,
   "id": "d3a72bab",
   "metadata": {},
   "outputs": [
    {
     "data": {
      "text/plain": [
       "<AxesSubplot:xlabel='log A(= log alpha)', ylabel='Coefficients'>"
      ]
     },
     "execution_count": 48,
     "metadata": {},
     "output_type": "execute_result"
    },
    {
     "data": {
      "image/png": "[encoded data removed]",
      "text/plain": [
       "<Figure size 432x288 with 1 Axes>"
      ]
     },
     "metadata": {
      "needs_background": "light"
     },
     "output_type": "display_data"
    }
   ],
   "source": [
    "pd.DataFrame(my_path.T, columns = X.columns, index =np.log(As)).plot(xlabel = 'log A(= log alpha)', ylabel='Coefficients')"
   ]
  },
  {
   "cell_type": "code",
   "execution_count": 49,
   "id": "0f3fe706",
   "metadata": {},
   "outputs": [
    {
     "data": {
      "text/plain": [
       "array([[ 0.00000000e+00,  0.00000000e+00,  0.00000000e+00,\n",
       "         0.00000000e+00,  0.00000000e+00,  0.00000000e+00,\n",
       "         0.00000000e+00,  0.00000000e+00,  0.00000000e+00,\n",
       "         0.00000000e+00,  0.00000000e+00,  0.00000000e+00,\n",
       "         0.00000000e+00,  0.00000000e+00,  0.00000000e+00,\n",
       "         0.00000000e+00,  7.20096773e-03,  1.51341661e-02,\n",
       "         2.32771953e-02,  3.15964332e-02,  4.00553349e-02,\n",
       "         4.86150460e-02,  5.72350919e-02,  6.58741148e-02,\n",
       "         7.44906319e-02,  8.30437886e-02,  9.14940786e-02,\n",
       "         9.98040085e-02,  1.07938686e-01,  1.15866315e-01,\n",
       "         1.23558589e-01,  1.30990972e-01,  1.38142872e-01,\n",
       "         1.44997705e-01,  1.51542855e-01,  1.57769556e-01,\n",
       "         1.63672685e-01,  1.69250501e-01,  1.74504337e-01,\n",
       "         1.79438257e-01,  1.84058701e-01,  1.88393800e-01,\n",
       "         1.92412363e-01,  1.96147436e-01,  1.99611622e-01,\n",
       "         2.02818072e-01,  2.05780381e-01,  2.08512364e-01,\n",
       "         2.11027858e-01,  2.13340558e-01,  2.15463883e-01,\n",
       "         2.17410864e-01,  2.19194062e-01,  2.20825501e-01,\n",
       "         2.22316628e-01,  2.23678281e-01,  2.24920674e-01,\n",
       "         2.26053398e-01,  2.27085420e-01,  2.28025101e-01,\n",
       "         2.28880212e-01,  2.29657957e-01,  2.30364998e-01,\n",
       "         2.31007483e-01,  2.31591077e-01,  2.32120987e-01,\n",
       "         2.32601994e-01,  2.33038482e-01,  2.33434465e-01,\n",
       "         2.33793613e-01,  2.34119281e-01,  2.34414531e-01,\n",
       "         2.34682154e-01,  2.34924695e-01,  2.35144472e-01],\n",
       "       [ 0.00000000e+00,  0.00000000e+00,  9.70661250e-03,\n",
       "         2.02691264e-02,  3.15447718e-02,  4.35155006e-02,\n",
       "         5.56800518e-02,  6.84646327e-02,  8.18496233e-02,\n",
       "         9.58073427e-02,  1.10301849e-01,  1.25288944e-01,\n",
       "         1.40716424e-01,  1.56524359e-01,  1.72646638e-01,\n",
       "         1.89010890e-01,  2.06535761e-01,  2.24371510e-01,\n",
       "         2.42376870e-01,  2.60472036e-01,  2.78575953e-01,\n",
       "         2.96607702e-01,  3.14487859e-01,  3.32139791e-01,\n",
       "         3.49490848e-01,  3.66473411e-01,  3.83025777e-01,\n",
       "         3.99092864e-01,  4.14626714e-01,  4.29586818e-01,\n",
       "         4.43940239e-01,  4.57661575e-01,  4.70732754e-01,\n",
       "         4.83142704e-01,  4.94886895e-01,  5.05966811e-01,\n",
       "         5.16389344e-01,  5.26166155e-01,  5.35313014e-01,\n",
       "         5.43849140e-01,  5.51796565e-01,  5.59189006e-01,\n",
       "         5.66032535e-01,  5.72364413e-01,  5.78212359e-01,\n",
       "         5.83604264e-01,  5.88567914e-01,  5.93130695e-01,\n",
       "         5.97319350e-01,  6.01159785e-01,  6.04676922e-01,\n",
       "         6.07894584e-01,  6.10835418e-01,  6.13520849e-01,\n",
       "         6.15971058e-01,  6.18204977e-01,  6.20240306e-01,\n",
       "         6.22093540e-01,  6.23780005e-01,  6.25313910e-01,\n",
       "         6.26708391e-01,  6.27975573e-01,  6.29126622e-01,\n",
       "         6.30171805e-01,  6.31120550e-01,  6.31981499e-01,\n",
       "         6.32762565e-01,  6.33470988e-01,  6.34113379e-01,\n",
       "         6.34695775e-01,  6.35223684e-01,  6.35702123e-01,\n",
       "         6.36135662e-01,  6.36528462e-01,  6.36884306e-01],\n",
       "       [-0.00000000e+00, -0.00000000e+00, -0.00000000e+00,\n",
       "        -0.00000000e+00, -2.02041641e-03, -1.14905496e-02,\n",
       "        -2.16486701e-02, -3.24075119e-02, -4.37632352e-02,\n",
       "        -5.57052432e-02, -6.82156302e-02, -8.12687709e-02,\n",
       "        -9.48310862e-02, -1.08861058e-01, -1.23309296e-01,\n",
       "        -1.38119199e-01, -1.52392557e-01, -1.66707384e-01,\n",
       "        -1.81041116e-01, -1.95316573e-01, -2.09457394e-01,\n",
       "        -2.23389678e-01, -2.37043536e-01, -2.50354476e-01,\n",
       "        -2.63264575e-01, -2.75723383e-01, -2.87688550e-01,\n",
       "        -2.99126148e-01, -3.10010722e-01, -3.20325070e-01,\n",
       "        -3.30059811e-01, -3.39212770e-01, -3.47788232e-01,\n",
       "        -3.55796115e-01, -3.63251097e-01, -3.70171755e-01,\n",
       "        -3.76579718e-01, -3.82498894e-01, -3.87954750e-01,\n",
       "        -3.92973696e-01, -3.97582535e-01, -4.01802390e-01,\n",
       "        -4.05671342e-01, -4.09208898e-01, -4.12439680e-01,\n",
       "        -4.15387262e-01, -4.18074006e-01, -4.20521001e-01,\n",
       "        -4.22748029e-01, -4.24773563e-01, -4.26614786e-01,\n",
       "        -4.28287623e-01, -4.29806795e-01, -4.31185869e-01,\n",
       "        -4.32437326e-01, -4.33572622e-01, -4.34602253e-01,\n",
       "        -4.35535825e-01, -4.36382116e-01, -4.37149136e-01,\n",
       "        -4.37844191e-01, -4.38473936e-01, -4.39044431e-01,\n",
       "        -4.39561186e-01, -4.40029214e-01, -4.40453067e-01,\n",
       "        -4.40836881e-01, -4.41184413e-01, -4.41499069e-01,\n",
       "        -4.41783942e-01, -4.42041836e-01, -4.42275295e-01,\n",
       "        -4.42486625e-01, -4.42677915e-01, -4.42851059e-01],\n",
       "       [ 0.00000000e+00,  0.00000000e+00,  0.00000000e+00,\n",
       "         0.00000000e+00,  0.00000000e+00,  1.53490634e-05,\n",
       "         8.54614722e-03,  1.74765135e-02,  2.67870615e-02,\n",
       "         3.64526807e-02,  4.64425395e-02,  5.67202617e-02,\n",
       "         6.72442878e-02,  7.79684455e-02,  8.88425912e-02,\n",
       "         9.98136053e-02,  1.10837393e-01,  1.21829994e-01,\n",
       "         1.32729664e-01,  1.43477298e-01,  1.54016437e-01,\n",
       "         1.64294457e-01,  1.74263610e-01,  1.83881869e-01,\n",
       "         1.93113561e-01,  2.01929769e-01,  2.10308485e-01,\n",
       "         2.18234543e-01,  2.25699349e-01,  2.32700440e-01,\n",
       "         2.39240899e-01,  2.45328690e-01,  2.50975925e-01,\n",
       "         2.56198123e-01,  2.61013471e-01,  2.65442137e-01,\n",
       "         2.69505628e-01,  2.73226229e-01,  2.76626510e-01,\n",
       "         2.79728922e-01,  2.82555463e-01,  2.85125509e-01,\n",
       "         2.87463403e-01,  2.89586453e-01,  2.91512858e-01,\n",
       "         2.93259660e-01,  2.94842716e-01,  2.96276708e-01,\n",
       "         2.97575177e-01,  2.98750567e-01,  2.99814282e-01,\n",
       "         3.00776743e-01,  3.01647456e-01,  3.02435079e-01,\n",
       "         3.03147478e-01,  3.03791802e-01,  3.04374532e-01,\n",
       "         3.04901545e-01,  3.05378163e-01,  3.05809205e-01,\n",
       "         3.06199034e-01,  3.06551593e-01,  3.06870453e-01,\n",
       "         3.07158840e-01,  3.07419673e-01,  3.07655590e-01,\n",
       "         3.07868976e-01,  3.08061989e-01,  3.08236576e-01,\n",
       "         3.08394502e-01,  3.08537359e-01,  3.08666589e-01,\n",
       "         3.08783492e-01,  3.08889247e-01,  3.08984920e-01]])"
      ]
     },
     "execution_count": 49,
     "metadata": {},
     "output_type": "execute_result"
    }
   ],
   "source": [
    "my_path"
   ]
  },
  {
   "cell_type": "code",
   "execution_count": 50,
   "id": "91735d29",
   "metadata": {},
   "outputs": [
    {
     "data": {
      "text/plain": [
       "{'enet__alpha': 0.075, 'enet__l1_ratio': 0.0}"
      ]
     },
     "execution_count": 50,
     "metadata": {},
     "output_type": "execute_result"
    }
   ],
   "source": [
    "As = np.linspace(0, 0.1, 21)\n",
    "Bs = np.linspace(0,0.1,6)\n",
    "\n",
    "my_pipeline = Pipeline([('sc', StandardScaler()),('enet', ElasticNet())])\n",
    "\n",
    "my_search = GridSearchCV(\n",
    "estimator = my_pipeline, \n",
    "param_grid = {'enet__alpha': As, 'enet__l1_ratio': Bs},\n",
    "cv =LeaveOneOut(),\n",
    "    scoring = 'neg_mean_squared_error',\n",
    "    n_jobs = -1\n",
    ").fit(X, y)\n",
    "my_model = my_search.best_estimator_\n",
    "\n",
    "my_search.best_params_"
   ]
  },
  {
   "cell_type": "code",
   "execution_count": 51,
   "id": "a44b80b0",
   "metadata": {},
   "outputs": [
    {
     "data": {
      "text/plain": [
       "<matplotlib.legend.Legend at 0x7fe93f880370>"
      ]
     },
     "execution_count": 51,
     "metadata": {},
     "output_type": "execute_result"
    },
    {
     "data": {
      "image/png": "[encoded data removed]",
      "text/plain": [
       "<Figure size 432x288 with 1 Axes>"
      ]
     },
     "metadata": {
      "needs_background": "light"
     },
     "output_type": "display_data"
    }
   ],
   "source": [
    "tmp = my_search.cv_results_\n",
    "my_scores = (-tmp['mean_test_score'])**0.5\n",
    "\n",
    "my_results = pd.DataFrame(tmp['params']).assign(RMSE=my_scores).pivot(index = 'enet__alpha', columns = 'enet__l1_ratio', values='RMSE')\n",
    "\n",
    "my_results.plot(style = 'o-', xlabel='A(=alpha)', ylabel='RMSE').legend(title = 'B (=l1_ratio)')"
   ]
  },
  {
   "cell_type": "code",
   "execution_count": 52,
   "id": "3391fe25",
   "metadata": {},
   "outputs": [
    {
     "data": {
      "text/plain": [
       "[<matplotlib.lines.Line2D at 0x7fe93f928400>]"
      ]
     },
     "execution_count": 52,
     "metadata": {},
     "output_type": "execute_result"
    },
    {
     "data": {
      "image/png": "[encoded data removed]",
      "text/plain": [
       "<Figure size 432x288 with 1 Axes>"
      ]
     },
     "metadata": {
      "needs_background": "light"
     },
     "output_type": "display_data"
    }
   ],
   "source": [
    "import matplotlib.pyplot as plt\n",
    "\n",
    "x = np.linspace(-6,6,100)\n",
    "y = 1/ (1 + np.exp(-x))\n",
    "plt.plot(y)"
   ]
  },
  {
   "cell_type": "code",
   "execution_count": 59,
   "id": "68fc369f",
   "metadata": {},
   "outputs": [],
   "source": [
    "from sklearn.neural_network import MLPRegressor\n",
    "\n",
    "y = my_data['LPRICE2']"
   ]
  },
  {
   "cell_type": "code",
   "execution_count": 60,
   "id": "53fd3fd7",
   "metadata": {},
   "outputs": [
    {
     "data": {
      "text/plain": [
       "Pipeline(steps=[('sc', StandardScaler()), ('mlp', MLPRegressor())])"
      ]
     },
     "execution_count": 60,
     "metadata": {},
     "output_type": "execute_result"
    }
   ],
   "source": [
    "my_pipeline = Pipeline([('sc', StandardScaler()), ('mlp', MLPRegressor())])\n",
    "my_pipeline.fit(X, y)\n",
    "\n",
    "my_scores = cross_val_score(my_pipeline, X, y, cv=LeaveOneOut(), scoring='neg_mean_squared_error')\n",
    "warnings.simplefilter('default', ConvergenceWarning)"
   ]
  },
  {
   "cell_type": "code",
   "execution_count": 61,
   "id": "efa8e7c7",
   "metadata": {},
   "outputs": [
    {
     "data": {
      "text/plain": [
       "0.41534937805944255"
      ]
     },
     "execution_count": 61,
     "metadata": {},
     "output_type": "execute_result"
    }
   ],
   "source": [
    "(-my_scores.mean())**0.5"
   ]
  },
  {
   "cell_type": "code",
   "execution_count": 63,
   "id": "d41a798f",
   "metadata": {},
   "outputs": [
    {
     "data": {
      "text/plain": [
       "{'mlp__hidden_layer_sizes': 3}"
      ]
     },
     "execution_count": 63,
     "metadata": {},
     "output_type": "execute_result"
    }
   ],
   "source": [
    "my_pipeline = Pipeline([\n",
    "    ('sc', StandardScaler()), ('mlp', MLPRegressor(tol = 1e-5, max_iter=5000))\n",
    "])\n",
    "my_layers = (1,3,5,(1,1), (3,1), (5,1), (1,2), (3,2), (5,2))\n",
    "my_params = {'mlp__hidden_layer_sizes': my_layers}\n",
    "my_search = GridSearchCV(estimator= my_pipeline, param_grid=my_params, cv =LeaveOneOut(), scoring = 'neg_mean_squared_error', n_jobs = -1).fit(X, y)\n",
    "my_model = my_search.best_estimator_\n",
    "\n",
    "my_search.best_params_"
   ]
  },
  {
   "cell_type": "code",
   "execution_count": 64,
   "id": "1839bd38",
   "metadata": {},
   "outputs": [
    {
     "data": {
      "text/plain": [
       "0.3231198398444483"
      ]
     },
     "execution_count": 64,
     "metadata": {},
     "output_type": "execute_result"
    }
   ],
   "source": [
    "(-my_search.best_score_)**0.5"
   ]
  },
  {
   "cell_type": "code",
   "execution_count": 65,
   "id": "cc07e02d",
   "metadata": {},
   "outputs": [
    {
     "data": {
      "text/html": [
       "<div>\n",
       "<style scoped>\n",
       "    .dataframe tbody tr th:only-of-type {\n",
       "        vertical-align: middle;\n",
       "    }\n",
       "\n",
       "    .dataframe tbody tr th {\n",
       "        vertical-align: top;\n",
       "    }\n",
       "\n",
       "    .dataframe thead th {\n",
       "        text-align: right;\n",
       "    }\n",
       "</style>\n",
       "<table border=\"1\" class=\"dataframe\">\n",
       "  <thead>\n",
       "    <tr style=\"text-align: right;\">\n",
       "      <th></th>\n",
       "      <th>Sepal.Length</th>\n",
       "      <th>Sepal.Width</th>\n",
       "      <th>Petal.Length</th>\n",
       "      <th>Petal.Width</th>\n",
       "      <th>Species</th>\n",
       "    </tr>\n",
       "  </thead>\n",
       "  <tbody>\n",
       "    <tr>\n",
       "      <th>0</th>\n",
       "      <td>5.1</td>\n",
       "      <td>3.5</td>\n",
       "      <td>1.4</td>\n",
       "      <td>0.2</td>\n",
       "      <td>setosa</td>\n",
       "    </tr>\n",
       "    <tr>\n",
       "      <th>1</th>\n",
       "      <td>4.9</td>\n",
       "      <td>3.0</td>\n",
       "      <td>1.4</td>\n",
       "      <td>0.2</td>\n",
       "      <td>setosa</td>\n",
       "    </tr>\n",
       "    <tr>\n",
       "      <th>2</th>\n",
       "      <td>4.7</td>\n",
       "      <td>3.2</td>\n",
       "      <td>1.3</td>\n",
       "      <td>0.2</td>\n",
       "      <td>setosa</td>\n",
       "    </tr>\n",
       "    <tr>\n",
       "      <th>3</th>\n",
       "      <td>4.6</td>\n",
       "      <td>3.1</td>\n",
       "      <td>1.5</td>\n",
       "      <td>0.2</td>\n",
       "      <td>setosa</td>\n",
       "    </tr>\n",
       "    <tr>\n",
       "      <th>4</th>\n",
       "      <td>5.0</td>\n",
       "      <td>3.6</td>\n",
       "      <td>1.4</td>\n",
       "      <td>0.2</td>\n",
       "      <td>setosa</td>\n",
       "    </tr>\n",
       "  </tbody>\n",
       "</table>\n",
       "</div>"
      ],
      "text/plain": [
       "   Sepal.Length  Sepal.Width  Petal.Length  Petal.Width Species\n",
       "0           5.1          3.5           1.4          0.2  setosa\n",
       "1           4.9          3.0           1.4          0.2  setosa\n",
       "2           4.7          3.2           1.3          0.2  setosa\n",
       "3           4.6          3.1           1.5          0.2  setosa\n",
       "4           5.0          3.6           1.4          0.2  setosa"
      ]
     },
     "execution_count": 65,
     "metadata": {},
     "output_type": "execute_result"
    }
   ],
   "source": [
    "import statsmodels.api as sm\n",
    "\n",
    "my_data = sm.datasets.get_rdataset('iris', 'datasets').data\n",
    "my_data.head()"
   ]
  },
  {
   "cell_type": "code",
   "execution_count": 66,
   "id": "889bfcac",
   "metadata": {},
   "outputs": [
    {
     "data": {
      "text/html": [
       "<div>\n",
       "<style scoped>\n",
       "    .dataframe tbody tr th:only-of-type {\n",
       "        vertical-align: middle;\n",
       "    }\n",
       "\n",
       "    .dataframe tbody tr th {\n",
       "        vertical-align: top;\n",
       "    }\n",
       "\n",
       "    .dataframe thead th {\n",
       "        text-align: right;\n",
       "    }\n",
       "</style>\n",
       "<table border=\"1\" class=\"dataframe\">\n",
       "  <thead>\n",
       "    <tr style=\"text-align: right;\">\n",
       "      <th></th>\n",
       "      <th>Sepal.Length</th>\n",
       "      <th>Sepal.Width</th>\n",
       "      <th>Petal.Length</th>\n",
       "      <th>Petal.Width</th>\n",
       "    </tr>\n",
       "  </thead>\n",
       "  <tbody>\n",
       "    <tr>\n",
       "      <th>count</th>\n",
       "      <td>150.000000</td>\n",
       "      <td>150.000000</td>\n",
       "      <td>150.000000</td>\n",
       "      <td>150.000000</td>\n",
       "    </tr>\n",
       "    <tr>\n",
       "      <th>mean</th>\n",
       "      <td>5.843333</td>\n",
       "      <td>3.057333</td>\n",
       "      <td>3.758000</td>\n",
       "      <td>1.199333</td>\n",
       "    </tr>\n",
       "    <tr>\n",
       "      <th>std</th>\n",
       "      <td>0.828066</td>\n",
       "      <td>0.435866</td>\n",
       "      <td>1.765298</td>\n",
       "      <td>0.762238</td>\n",
       "    </tr>\n",
       "    <tr>\n",
       "      <th>min</th>\n",
       "      <td>4.300000</td>\n",
       "      <td>2.000000</td>\n",
       "      <td>1.000000</td>\n",
       "      <td>0.100000</td>\n",
       "    </tr>\n",
       "    <tr>\n",
       "      <th>25%</th>\n",
       "      <td>5.100000</td>\n",
       "      <td>2.800000</td>\n",
       "      <td>1.600000</td>\n",
       "      <td>0.300000</td>\n",
       "    </tr>\n",
       "    <tr>\n",
       "      <th>50%</th>\n",
       "      <td>5.800000</td>\n",
       "      <td>3.000000</td>\n",
       "      <td>4.350000</td>\n",
       "      <td>1.300000</td>\n",
       "    </tr>\n",
       "    <tr>\n",
       "      <th>75%</th>\n",
       "      <td>6.400000</td>\n",
       "      <td>3.300000</td>\n",
       "      <td>5.100000</td>\n",
       "      <td>1.800000</td>\n",
       "    </tr>\n",
       "    <tr>\n",
       "      <th>max</th>\n",
       "      <td>7.900000</td>\n",
       "      <td>4.400000</td>\n",
       "      <td>6.900000</td>\n",
       "      <td>2.500000</td>\n",
       "    </tr>\n",
       "  </tbody>\n",
       "</table>\n",
       "</div>"
      ],
      "text/plain": [
       "       Sepal.Length  Sepal.Width  Petal.Length  Petal.Width\n",
       "count    150.000000   150.000000    150.000000   150.000000\n",
       "mean       5.843333     3.057333      3.758000     1.199333\n",
       "std        0.828066     0.435866      1.765298     0.762238\n",
       "min        4.300000     2.000000      1.000000     0.100000\n",
       "25%        5.100000     2.800000      1.600000     0.300000\n",
       "50%        5.800000     3.000000      4.350000     1.300000\n",
       "75%        6.400000     3.300000      5.100000     1.800000\n",
       "max        7.900000     4.400000      6.900000     2.500000"
      ]
     },
     "execution_count": 66,
     "metadata": {},
     "output_type": "execute_result"
    }
   ],
   "source": [
    "my_data.describe()"
   ]
  },
  {
   "cell_type": "code",
   "execution_count": 67,
   "id": "7542b225",
   "metadata": {},
   "outputs": [
    {
     "data": {
      "text/plain": [
       "DecisionTreeClassifier(max_depth=2, random_state=0)"
      ]
     },
     "execution_count": 67,
     "metadata": {},
     "output_type": "execute_result"
    }
   ],
   "source": [
    "import graphviz\n",
    "from sklearn import tree\n",
    " \n",
    "X, y = my_data.iloc[:, 0:4] , my_data.Species\n",
    "\n",
    "my_model = tree.DecisionTreeClassifier(max_depth =2, random_state = 0)\n",
    "my_model.fit(X, y)"
   ]
  },
  {
   "cell_type": "code",
   "execution_count": 70,
   "id": "ab81feb2",
   "metadata": {},
   "outputs": [
    {
     "data": {
      "image/svg+xml": [
       "<?xml version=\"1.0\" encoding=\"UTF-8\" standalone=\"no\"?>\n",
       "<!DOCTYPE svg PUBLIC \"-//W3C//DTD SVG 1.1//EN\"\n",
       " \"http://www.w3.org/Graphics/SVG/1.1/DTD/svg11.dtd\">\n",
       "<!-- Generated by graphviz version 2.43.0 (0)\n",
       " -->\n",
       "<!-- Title: Tree Pages: 1 -->\n",
       "<svg width=\"398pt\" height=\"314pt\"\n",
       " viewBox=\"0.00 0.00 398.00 314.00\" xmlns=\"http://www.w3.org/2000/svg\" xmlns:xlink=\"http://www.w3.org/1999/xlink\">\n",
       "<g id=\"graph0\" class=\"graph\" transform=\"scale(1 1) rotate(0) translate(4 310)\">\n",
       "<title>Tree</title>\n",
       "<polygon fill=\"white\" stroke=\"transparent\" points=\"-4,4 -4,-310 394,-310 394,4 -4,4\"/>\n",
       "<!-- 0 -->\n",
       "<g id=\"node1\" class=\"node\">\n",
       "<title>0</title>\n",
       "<polygon fill=\"#ffffff\" stroke=\"black\" points=\"234,-306 76,-306 76,-223 234,-223 234,-306\"/>\n",
       "<text text-anchor=\"middle\" x=\"155\" y=\"-290.8\" font-family=\"Times,serif\" font-size=\"14.00\">Petal.Width &lt;= 0.8</text>\n",
       "<text text-anchor=\"middle\" x=\"155\" y=\"-275.8\" font-family=\"Times,serif\" font-size=\"14.00\">gini = 0.667</text>\n",
       "<text text-anchor=\"middle\" x=\"155\" y=\"-260.8\" font-family=\"Times,serif\" font-size=\"14.00\">samples = 150</text>\n",
       "<text text-anchor=\"middle\" x=\"155\" y=\"-245.8\" font-family=\"Times,serif\" font-size=\"14.00\">value = [50, 50, 50]</text>\n",
       "<text text-anchor=\"middle\" x=\"155\" y=\"-230.8\" font-family=\"Times,serif\" font-size=\"14.00\">class = setosa</text>\n",
       "</g>\n",
       "<!-- 1 -->\n",
       "<g id=\"node2\" class=\"node\">\n",
       "<title>1</title>\n",
       "<polygon fill=\"#e58139\" stroke=\"black\" points=\"140,-179.5 0,-179.5 0,-111.5 140,-111.5 140,-179.5\"/>\n",
       "<text text-anchor=\"middle\" x=\"70\" y=\"-164.3\" font-family=\"Times,serif\" font-size=\"14.00\">gini = 0.0</text>\n",
       "<text text-anchor=\"middle\" x=\"70\" y=\"-149.3\" font-family=\"Times,serif\" font-size=\"14.00\">samples = 50</text>\n",
       "<text text-anchor=\"middle\" x=\"70\" y=\"-134.3\" font-family=\"Times,serif\" font-size=\"14.00\">value = [50, 0, 0]</text>\n",
       "<text text-anchor=\"middle\" x=\"70\" y=\"-119.3\" font-family=\"Times,serif\" font-size=\"14.00\">class = setosa</text>\n",
       "</g>\n",
       "<!-- 0&#45;&gt;1 -->\n",
       "<g id=\"edge1\" class=\"edge\">\n",
       "<title>0&#45;&gt;1</title>\n",
       "<path fill=\"none\" stroke=\"black\" d=\"M125.51,-222.91C117.25,-211.54 108.27,-199.18 99.99,-187.77\"/>\n",
       "<polygon fill=\"black\" stroke=\"black\" points=\"102.8,-185.7 94.1,-179.67 97.14,-189.81 102.8,-185.7\"/>\n",
       "<text text-anchor=\"middle\" x=\"90.18\" y=\"-200.66\" font-family=\"Times,serif\" font-size=\"14.00\">True</text>\n",
       "</g>\n",
       "<!-- 2 -->\n",
       "<g id=\"node3\" class=\"node\">\n",
       "<title>2</title>\n",
       "<polygon fill=\"#ffffff\" stroke=\"black\" points=\"322,-187 158,-187 158,-104 322,-104 322,-187\"/>\n",
       "<text text-anchor=\"middle\" x=\"240\" y=\"-171.8\" font-family=\"Times,serif\" font-size=\"14.00\">Petal.Width &lt;= 1.75</text>\n",
       "<text text-anchor=\"middle\" x=\"240\" y=\"-156.8\" font-family=\"Times,serif\" font-size=\"14.00\">gini = 0.5</text>\n",
       "<text text-anchor=\"middle\" x=\"240\" y=\"-141.8\" font-family=\"Times,serif\" font-size=\"14.00\">samples = 100</text>\n",
       "<text text-anchor=\"middle\" x=\"240\" y=\"-126.8\" font-family=\"Times,serif\" font-size=\"14.00\">value = [0, 50, 50]</text>\n",
       "<text text-anchor=\"middle\" x=\"240\" y=\"-111.8\" font-family=\"Times,serif\" font-size=\"14.00\">class = versicolor</text>\n",
       "</g>\n",
       "<!-- 0&#45;&gt;2 -->\n",
       "<g id=\"edge2\" class=\"edge\">\n",
       "<title>0&#45;&gt;2</title>\n",
       "<path fill=\"none\" stroke=\"black\" d=\"M184.49,-222.91C190.95,-214.01 197.86,-204.51 204.52,-195.33\"/>\n",
       "<polygon fill=\"black\" stroke=\"black\" points=\"207.52,-197.17 210.56,-187.02 201.85,-193.05 207.52,-197.17\"/>\n",
       "<text text-anchor=\"middle\" x=\"214.47\" y=\"-208.01\" font-family=\"Times,serif\" font-size=\"14.00\">False</text>\n",
       "</g>\n",
       "<!-- 3 -->\n",
       "<g id=\"node4\" class=\"node\">\n",
       "<title>3</title>\n",
       "<polygon fill=\"#4de88e\" stroke=\"black\" points=\"231.5,-68 88.5,-68 88.5,0 231.5,0 231.5,-68\"/>\n",
       "<text text-anchor=\"middle\" x=\"160\" y=\"-52.8\" font-family=\"Times,serif\" font-size=\"14.00\">gini = 0.168</text>\n",
       "<text text-anchor=\"middle\" x=\"160\" y=\"-37.8\" font-family=\"Times,serif\" font-size=\"14.00\">samples = 54</text>\n",
       "<text text-anchor=\"middle\" x=\"160\" y=\"-22.8\" font-family=\"Times,serif\" font-size=\"14.00\">value = [0, 49, 5]</text>\n",
       "<text text-anchor=\"middle\" x=\"160\" y=\"-7.8\" font-family=\"Times,serif\" font-size=\"14.00\">class = versicolor</text>\n",
       "</g>\n",
       "<!-- 2&#45;&gt;3 -->\n",
       "<g id=\"edge3\" class=\"edge\">\n",
       "<title>2&#45;&gt;3</title>\n",
       "<path fill=\"none\" stroke=\"black\" d=\"M210.21,-103.73C203.75,-94.88 196.9,-85.51 190.41,-76.63\"/>\n",
       "<polygon fill=\"black\" stroke=\"black\" points=\"193.05,-74.31 184.33,-68.3 187.4,-78.44 193.05,-74.31\"/>\n",
       "</g>\n",
       "<!-- 4 -->\n",
       "<g id=\"node5\" class=\"node\">\n",
       "<title>4</title>\n",
       "<polygon fill=\"#843de6\" stroke=\"black\" points=\"390,-68 250,-68 250,0 390,0 390,-68\"/>\n",
       "<text text-anchor=\"middle\" x=\"320\" y=\"-52.8\" font-family=\"Times,serif\" font-size=\"14.00\">gini = 0.043</text>\n",
       "<text text-anchor=\"middle\" x=\"320\" y=\"-37.8\" font-family=\"Times,serif\" font-size=\"14.00\">samples = 46</text>\n",
       "<text text-anchor=\"middle\" x=\"320\" y=\"-22.8\" font-family=\"Times,serif\" font-size=\"14.00\">value = [0, 1, 45]</text>\n",
       "<text text-anchor=\"middle\" x=\"320\" y=\"-7.8\" font-family=\"Times,serif\" font-size=\"14.00\">class = virginica</text>\n",
       "</g>\n",
       "<!-- 2&#45;&gt;4 -->\n",
       "<g id=\"edge4\" class=\"edge\">\n",
       "<title>2&#45;&gt;4</title>\n",
       "<path fill=\"none\" stroke=\"black\" d=\"M269.79,-103.73C276.25,-94.88 283.1,-85.51 289.59,-76.63\"/>\n",
       "<polygon fill=\"black\" stroke=\"black\" points=\"292.6,-78.44 295.67,-68.3 286.95,-74.31 292.6,-78.44\"/>\n",
       "</g>\n",
       "</g>\n",
       "</svg>\n"
      ],
      "text/plain": [
       "<graphviz.sources.Source at 0x7fe93f885ca0>"
      ]
     },
     "execution_count": 70,
     "metadata": {},
     "output_type": "execute_result"
    }
   ],
   "source": [
    "my_dot = tree.export_graphviz(decision_tree = my_model,\n",
    "                              out_file = None, feature_names = X.columns, \n",
    "                              class_names = my_model.classes_, filled =True)\n",
    "graphviz.Source(my_dot)"
   ]
  },
  {
   "cell_type": "code",
   "execution_count": 72,
   "id": "a9c4d795",
   "metadata": {},
   "outputs": [
    {
     "data": {
      "text/plain": [
       "array(['setosa', 'virginica'], dtype=object)"
      ]
     },
     "execution_count": 72,
     "metadata": {},
     "output_type": "execute_result"
    }
   ],
   "source": [
    "my_test = pd.DataFrame([[5,3.5,1.5,.5], [6.5,3,5,2]])\n",
    "my_model.predict(my_test)"
   ]
  },
  {
   "cell_type": "code",
   "execution_count": 73,
   "id": "5bc04796",
   "metadata": {},
   "outputs": [
    {
     "data": {
      "text/html": [
       "<div>\n",
       "<style scoped>\n",
       "    .dataframe tbody tr th:only-of-type {\n",
       "        vertical-align: middle;\n",
       "    }\n",
       "\n",
       "    .dataframe tbody tr th {\n",
       "        vertical-align: top;\n",
       "    }\n",
       "\n",
       "    .dataframe thead th {\n",
       "        text-align: right;\n",
       "    }\n",
       "</style>\n",
       "<table border=\"1\" class=\"dataframe\">\n",
       "  <thead>\n",
       "    <tr style=\"text-align: right;\">\n",
       "      <th></th>\n",
       "      <th>setosa</th>\n",
       "      <th>versicolor</th>\n",
       "      <th>virginica</th>\n",
       "    </tr>\n",
       "  </thead>\n",
       "  <tbody>\n",
       "    <tr>\n",
       "      <th>0</th>\n",
       "      <td>1.0</td>\n",
       "      <td>0.000000</td>\n",
       "      <td>0.000000</td>\n",
       "    </tr>\n",
       "    <tr>\n",
       "      <th>1</th>\n",
       "      <td>0.0</td>\n",
       "      <td>0.021739</td>\n",
       "      <td>0.978261</td>\n",
       "    </tr>\n",
       "  </tbody>\n",
       "</table>\n",
       "</div>"
      ],
      "text/plain": [
       "   setosa  versicolor  virginica\n",
       "0     1.0    0.000000   0.000000\n",
       "1     0.0    0.021739   0.978261"
      ]
     },
     "execution_count": 73,
     "metadata": {},
     "output_type": "execute_result"
    }
   ],
   "source": [
    "pd.DataFrame(\n",
    "my_model.predict_proba(my_test), columns = my_model.classes_)"
   ]
  },
  {
   "cell_type": "code",
   "execution_count": 75,
   "id": "a9720c0b",
   "metadata": {},
   "outputs": [
    {
     "data": {
      "text/plain": [
       "array([[50,  0,  0],\n",
       "       [ 0, 49,  1],\n",
       "       [ 0,  5, 45]])"
      ]
     },
     "execution_count": 75,
     "metadata": {},
     "output_type": "execute_result"
    }
   ],
   "source": [
    "from sklearn.metrics import confusion_matrix\n",
    "\n",
    "my_model = tree.DecisionTreeClassifier(max_depth = 2, random_state = 0).fit(X,y )\n",
    "y_ = my_model.predict(X)\n",
    "confusion_matrix(y_true = y, y_pred = y_)"
   ]
  },
  {
   "cell_type": "code",
   "execution_count": 76,
   "id": "24500516",
   "metadata": {},
   "outputs": [
    {
     "data": {
      "text/plain": [
       "0.96"
      ]
     },
     "execution_count": 76,
     "metadata": {},
     "output_type": "execute_result"
    }
   ],
   "source": [
    "my_model.score(X, y)"
   ]
  },
  {
   "cell_type": "code",
   "execution_count": 77,
   "id": "6b0e62cd",
   "metadata": {},
   "outputs": [
    {
     "data": {
      "text/plain": [
       "0.96"
      ]
     },
     "execution_count": 77,
     "metadata": {},
     "output_type": "execute_result"
    }
   ],
   "source": [
    "(y == y_).mean()"
   ]
  },
  {
   "cell_type": "code",
   "execution_count": 78,
   "id": "cd58dc37",
   "metadata": {},
   "outputs": [
    {
     "data": {
      "text/plain": [
       "0.9533333333333334"
      ]
     },
     "execution_count": 78,
     "metadata": {},
     "output_type": "execute_result"
    }
   ],
   "source": [
    "cross_val_score(my_model, X, y, cv=LeaveOneOut()).mean()"
   ]
  },
  {
   "cell_type": "code",
   "execution_count": 79,
   "id": "a7d0617c",
   "metadata": {},
   "outputs": [
    {
     "data": {
      "text/plain": [
       "({'max_depth': 2}, 0.9533333333333334)"
      ]
     },
     "execution_count": 79,
     "metadata": {},
     "output_type": "execute_result"
    }
   ],
   "source": [
    "my_search = GridSearchCV(estimator = tree.DecisionTreeClassifier(random_state = 0),\n",
    "                        param_grid = {'max_depth': range(1,11)},\n",
    "                        cv = LeaveOneOut(),\n",
    "                        n_jobs =-1).fit(X, y)\n",
    "my_search.best_params_, my_search.best_score_"
   ]
  },
  {
   "cell_type": "code",
   "execution_count": 80,
   "id": "9b565661",
   "metadata": {},
   "outputs": [
    {
     "data": {
      "text/plain": [
       "({'max_depth': 3, 'min_samples_leaf': 5, 'min_samples_split': 2},\n",
       " 0.9733333333333334)"
      ]
     },
     "execution_count": 80,
     "metadata": {},
     "output_type": "execute_result"
    }
   ],
   "source": [
    "my_params = {\n",
    "    'max_depth': range(2,6), \n",
    "    'min_samples_split': [2,20],\n",
    "    'min_samples_leaf': range(1,8)\n",
    "}\n",
    "\n",
    "my_search = GridSearchCV(\n",
    "estimator= tree.DecisionTreeClassifier(min_impurity_decrease=0.01, random_state = 0),\n",
    "param_grid = my_params,\n",
    "cv = LeaveOneOut(), \n",
    "n_jobs = -1).fit(X, y)\n",
    "my_search.best_params_ , my_search.best_score_\n"
   ]
  },
  {
   "cell_type": "code",
   "execution_count": 81,
   "id": "5f44b4c9",
   "metadata": {},
   "outputs": [],
   "source": [
    "tmp = my_search.cv_results_"
   ]
  },
  {
   "cell_type": "code",
   "execution_count": 83,
   "id": "d0954a4d",
   "metadata": {},
   "outputs": [
    {
     "data": {
      "text/html": [
       "<div>\n",
       "<style scoped>\n",
       "    .dataframe tbody tr th:only-of-type {\n",
       "        vertical-align: middle;\n",
       "    }\n",
       "\n",
       "    .dataframe tbody tr th {\n",
       "        vertical-align: top;\n",
       "    }\n",
       "\n",
       "    .dataframe thead th {\n",
       "        text-align: right;\n",
       "    }\n",
       "</style>\n",
       "<table border=\"1\" class=\"dataframe\">\n",
       "  <thead>\n",
       "    <tr style=\"text-align: right;\">\n",
       "      <th></th>\n",
       "      <th>max_depth</th>\n",
       "      <th>min_samples_leaf</th>\n",
       "      <th>min_samples_split</th>\n",
       "      <th>Accuracy</th>\n",
       "    </tr>\n",
       "  </thead>\n",
       "  <tbody>\n",
       "    <tr>\n",
       "      <th>22</th>\n",
       "      <td>3</td>\n",
       "      <td>5</td>\n",
       "      <td>2</td>\n",
       "      <td>0.973333</td>\n",
       "    </tr>\n",
       "    <tr>\n",
       "      <th>23</th>\n",
       "      <td>3</td>\n",
       "      <td>5</td>\n",
       "      <td>20</td>\n",
       "      <td>0.973333</td>\n",
       "    </tr>\n",
       "    <tr>\n",
       "      <th>36</th>\n",
       "      <td>4</td>\n",
       "      <td>5</td>\n",
       "      <td>2</td>\n",
       "      <td>0.973333</td>\n",
       "    </tr>\n",
       "    <tr>\n",
       "      <th>37</th>\n",
       "      <td>4</td>\n",
       "      <td>5</td>\n",
       "      <td>20</td>\n",
       "      <td>0.973333</td>\n",
       "    </tr>\n",
       "    <tr>\n",
       "      <th>50</th>\n",
       "      <td>5</td>\n",
       "      <td>5</td>\n",
       "      <td>2</td>\n",
       "      <td>0.973333</td>\n",
       "    </tr>\n",
       "    <tr>\n",
       "      <th>51</th>\n",
       "      <td>5</td>\n",
       "      <td>5</td>\n",
       "      <td>20</td>\n",
       "      <td>0.973333</td>\n",
       "    </tr>\n",
       "  </tbody>\n",
       "</table>\n",
       "</div>"
      ],
      "text/plain": [
       "    max_depth  min_samples_leaf  min_samples_split  Accuracy\n",
       "22          3                 5                  2  0.973333\n",
       "23          3                 5                 20  0.973333\n",
       "36          4                 5                  2  0.973333\n",
       "37          4                 5                 20  0.973333\n",
       "50          5                 5                  2  0.973333\n",
       "51          5                 5                 20  0.973333"
      ]
     },
     "execution_count": 83,
     "metadata": {},
     "output_type": "execute_result"
    }
   ],
   "source": [
    "my_results= pd.DataFrame(tmp['params']).assign(Accuracy = tmp['mean_test_score'])\n",
    "my_results[my_results.Accuracy == my_results.Accuracy.max()]"
   ]
  },
  {
   "cell_type": "code",
   "execution_count": 85,
   "id": "1cdd9e77",
   "metadata": {},
   "outputs": [
    {
     "data": {
      "image/svg+xml": [
       "<?xml version=\"1.0\" encoding=\"UTF-8\" standalone=\"no\"?>\n",
       "<!DOCTYPE svg PUBLIC \"-//W3C//DTD SVG 1.1//EN\"\n",
       " \"http://www.w3.org/Graphics/SVG/1.1/DTD/svg11.dtd\">\n",
       "<!-- Generated by graphviz version 2.43.0 (0)\n",
       " -->\n",
       "<!-- Title: Tree Pages: 1 -->\n",
       "<svg width=\"405pt\" height=\"433pt\"\n",
       " viewBox=\"0.00 0.00 405.00 433.00\" xmlns=\"http://www.w3.org/2000/svg\" xmlns:xlink=\"http://www.w3.org/1999/xlink\">\n",
       "<g id=\"graph0\" class=\"graph\" transform=\"scale(1 1) rotate(0) translate(4 429)\">\n",
       "<title>Tree</title>\n",
       "<polygon fill=\"white\" stroke=\"transparent\" points=\"-4,4 -4,-429 401,-429 401,4 -4,4\"/>\n",
       "<!-- 0 -->\n",
       "<g id=\"node1\" class=\"node\">\n",
       "<title>0</title>\n",
       "<polygon fill=\"#ffffff\" stroke=\"black\" points=\"234,-425 76,-425 76,-342 234,-342 234,-425\"/>\n",
       "<text text-anchor=\"middle\" x=\"155\" y=\"-409.8\" font-family=\"Times,serif\" font-size=\"14.00\">Petal.Width &lt;= 0.8</text>\n",
       "<text text-anchor=\"middle\" x=\"155\" y=\"-394.8\" font-family=\"Times,serif\" font-size=\"14.00\">gini = 0.667</text>\n",
       "<text text-anchor=\"middle\" x=\"155\" y=\"-379.8\" font-family=\"Times,serif\" font-size=\"14.00\">samples = 150</text>\n",
       "<text text-anchor=\"middle\" x=\"155\" y=\"-364.8\" font-family=\"Times,serif\" font-size=\"14.00\">value = [50, 50, 50]</text>\n",
       "<text text-anchor=\"middle\" x=\"155\" y=\"-349.8\" font-family=\"Times,serif\" font-size=\"14.00\">class = setosa</text>\n",
       "</g>\n",
       "<!-- 1 -->\n",
       "<g id=\"node2\" class=\"node\">\n",
       "<title>1</title>\n",
       "<polygon fill=\"#e58139\" stroke=\"black\" points=\"140,-298.5 0,-298.5 0,-230.5 140,-230.5 140,-298.5\"/>\n",
       "<text text-anchor=\"middle\" x=\"70\" y=\"-283.3\" font-family=\"Times,serif\" font-size=\"14.00\">gini = 0.0</text>\n",
       "<text text-anchor=\"middle\" x=\"70\" y=\"-268.3\" font-family=\"Times,serif\" font-size=\"14.00\">samples = 50</text>\n",
       "<text text-anchor=\"middle\" x=\"70\" y=\"-253.3\" font-family=\"Times,serif\" font-size=\"14.00\">value = [50, 0, 0]</text>\n",
       "<text text-anchor=\"middle\" x=\"70\" y=\"-238.3\" font-family=\"Times,serif\" font-size=\"14.00\">class = setosa</text>\n",
       "</g>\n",
       "<!-- 0&#45;&gt;1 -->\n",
       "<g id=\"edge1\" class=\"edge\">\n",
       "<title>0&#45;&gt;1</title>\n",
       "<path fill=\"none\" stroke=\"black\" d=\"M125.51,-341.91C117.25,-330.54 108.27,-318.18 99.99,-306.77\"/>\n",
       "<polygon fill=\"black\" stroke=\"black\" points=\"102.8,-304.7 94.1,-298.67 97.14,-308.81 102.8,-304.7\"/>\n",
       "<text text-anchor=\"middle\" x=\"90.18\" y=\"-319.66\" font-family=\"Times,serif\" font-size=\"14.00\">True</text>\n",
       "</g>\n",
       "<!-- 2 -->\n",
       "<g id=\"node3\" class=\"node\">\n",
       "<title>2</title>\n",
       "<polygon fill=\"#ffffff\" stroke=\"black\" points=\"322,-306 158,-306 158,-223 322,-223 322,-306\"/>\n",
       "<text text-anchor=\"middle\" x=\"240\" y=\"-290.8\" font-family=\"Times,serif\" font-size=\"14.00\">Petal.Width &lt;= 1.75</text>\n",
       "<text text-anchor=\"middle\" x=\"240\" y=\"-275.8\" font-family=\"Times,serif\" font-size=\"14.00\">gini = 0.5</text>\n",
       "<text text-anchor=\"middle\" x=\"240\" y=\"-260.8\" font-family=\"Times,serif\" font-size=\"14.00\">samples = 100</text>\n",
       "<text text-anchor=\"middle\" x=\"240\" y=\"-245.8\" font-family=\"Times,serif\" font-size=\"14.00\">value = [0, 50, 50]</text>\n",
       "<text text-anchor=\"middle\" x=\"240\" y=\"-230.8\" font-family=\"Times,serif\" font-size=\"14.00\">class = versicolor</text>\n",
       "</g>\n",
       "<!-- 0&#45;&gt;2 -->\n",
       "<g id=\"edge2\" class=\"edge\">\n",
       "<title>0&#45;&gt;2</title>\n",
       "<path fill=\"none\" stroke=\"black\" d=\"M184.49,-341.91C190.95,-333.01 197.86,-323.51 204.52,-314.33\"/>\n",
       "<polygon fill=\"black\" stroke=\"black\" points=\"207.52,-316.17 210.56,-306.02 201.85,-312.05 207.52,-316.17\"/>\n",
       "<text text-anchor=\"middle\" x=\"214.47\" y=\"-327.01\" font-family=\"Times,serif\" font-size=\"14.00\">False</text>\n",
       "</g>\n",
       "<!-- 3 -->\n",
       "<g id=\"node4\" class=\"node\">\n",
       "<title>3</title>\n",
       "<polygon fill=\"#4de88e\" stroke=\"black\" points=\"239,-187 67,-187 67,-104 239,-104 239,-187\"/>\n",
       "<text text-anchor=\"middle\" x=\"153\" y=\"-171.8\" font-family=\"Times,serif\" font-size=\"14.00\">Petal.Length &lt;= 4.95</text>\n",
       "<text text-anchor=\"middle\" x=\"153\" y=\"-156.8\" font-family=\"Times,serif\" font-size=\"14.00\">gini = 0.168</text>\n",
       "<text text-anchor=\"middle\" x=\"153\" y=\"-141.8\" font-family=\"Times,serif\" font-size=\"14.00\">samples = 54</text>\n",
       "<text text-anchor=\"middle\" x=\"153\" y=\"-126.8\" font-family=\"Times,serif\" font-size=\"14.00\">value = [0, 49, 5]</text>\n",
       "<text text-anchor=\"middle\" x=\"153\" y=\"-111.8\" font-family=\"Times,serif\" font-size=\"14.00\">class = versicolor</text>\n",
       "</g>\n",
       "<!-- 2&#45;&gt;3 -->\n",
       "<g id=\"edge3\" class=\"edge\">\n",
       "<title>2&#45;&gt;3</title>\n",
       "<path fill=\"none\" stroke=\"black\" d=\"M209.82,-222.91C203.14,-213.92 195.99,-204.32 189.1,-195.05\"/>\n",
       "<polygon fill=\"black\" stroke=\"black\" points=\"191.91,-192.96 183.13,-187.02 186.29,-197.13 191.91,-192.96\"/>\n",
       "</g>\n",
       "<!-- 6 -->\n",
       "<g id=\"node7\" class=\"node\">\n",
       "<title>6</title>\n",
       "<polygon fill=\"#843de6\" stroke=\"black\" points=\"397,-179.5 257,-179.5 257,-111.5 397,-111.5 397,-179.5\"/>\n",
       "<text text-anchor=\"middle\" x=\"327\" y=\"-164.3\" font-family=\"Times,serif\" font-size=\"14.00\">gini = 0.043</text>\n",
       "<text text-anchor=\"middle\" x=\"327\" y=\"-149.3\" font-family=\"Times,serif\" font-size=\"14.00\">samples = 46</text>\n",
       "<text text-anchor=\"middle\" x=\"327\" y=\"-134.3\" font-family=\"Times,serif\" font-size=\"14.00\">value = [0, 1, 45]</text>\n",
       "<text text-anchor=\"middle\" x=\"327\" y=\"-119.3\" font-family=\"Times,serif\" font-size=\"14.00\">class = virginica</text>\n",
       "</g>\n",
       "<!-- 2&#45;&gt;6 -->\n",
       "<g id=\"edge6\" class=\"edge\">\n",
       "<title>2&#45;&gt;6</title>\n",
       "<path fill=\"none\" stroke=\"black\" d=\"M270.18,-222.91C278.64,-211.54 287.83,-199.18 296.31,-187.77\"/>\n",
       "<polygon fill=\"black\" stroke=\"black\" points=\"299.18,-189.78 302.34,-179.67 293.56,-185.6 299.18,-189.78\"/>\n",
       "</g>\n",
       "<!-- 4 -->\n",
       "<g id=\"node5\" class=\"node\">\n",
       "<title>4</title>\n",
       "<polygon fill=\"#3de684\" stroke=\"black\" points=\"146.5,-68 3.5,-68 3.5,0 146.5,0 146.5,-68\"/>\n",
       "<text text-anchor=\"middle\" x=\"75\" y=\"-52.8\" font-family=\"Times,serif\" font-size=\"14.00\">gini = 0.041</text>\n",
       "<text text-anchor=\"middle\" x=\"75\" y=\"-37.8\" font-family=\"Times,serif\" font-size=\"14.00\">samples = 48</text>\n",
       "<text text-anchor=\"middle\" x=\"75\" y=\"-22.8\" font-family=\"Times,serif\" font-size=\"14.00\">value = [0, 47, 1]</text>\n",
       "<text text-anchor=\"middle\" x=\"75\" y=\"-7.8\" font-family=\"Times,serif\" font-size=\"14.00\">class = versicolor</text>\n",
       "</g>\n",
       "<!-- 3&#45;&gt;4 -->\n",
       "<g id=\"edge4\" class=\"edge\">\n",
       "<title>3&#45;&gt;4</title>\n",
       "<path fill=\"none\" stroke=\"black\" d=\"M123.96,-103.73C117.65,-94.88 110.98,-85.51 104.65,-76.63\"/>\n",
       "<polygon fill=\"black\" stroke=\"black\" points=\"107.37,-74.41 98.72,-68.3 101.67,-78.48 107.37,-74.41\"/>\n",
       "</g>\n",
       "<!-- 5 -->\n",
       "<g id=\"node6\" class=\"node\">\n",
       "<title>5</title>\n",
       "<polygon fill=\"#c09cf2\" stroke=\"black\" points=\"299.5,-68 164.5,-68 164.5,0 299.5,0 299.5,-68\"/>\n",
       "<text text-anchor=\"middle\" x=\"232\" y=\"-52.8\" font-family=\"Times,serif\" font-size=\"14.00\">gini = 0.444</text>\n",
       "<text text-anchor=\"middle\" x=\"232\" y=\"-37.8\" font-family=\"Times,serif\" font-size=\"14.00\">samples = 6</text>\n",
       "<text text-anchor=\"middle\" x=\"232\" y=\"-22.8\" font-family=\"Times,serif\" font-size=\"14.00\">value = [0, 2, 4]</text>\n",
       "<text text-anchor=\"middle\" x=\"232\" y=\"-7.8\" font-family=\"Times,serif\" font-size=\"14.00\">class = virginica</text>\n",
       "</g>\n",
       "<!-- 3&#45;&gt;5 -->\n",
       "<g id=\"edge5\" class=\"edge\">\n",
       "<title>3&#45;&gt;5</title>\n",
       "<path fill=\"none\" stroke=\"black\" d=\"M182.42,-103.73C188.8,-94.88 195.56,-85.51 201.97,-76.63\"/>\n",
       "<polygon fill=\"black\" stroke=\"black\" points=\"204.96,-78.46 207.98,-68.3 199.29,-74.36 204.96,-78.46\"/>\n",
       "</g>\n",
       "</g>\n",
       "</svg>\n"
      ],
      "text/plain": [
       "<graphviz.sources.Source at 0x7fe93dac63d0>"
      ]
     },
     "execution_count": 85,
     "metadata": {},
     "output_type": "execute_result"
    }
   ],
   "source": [
    "my_model = my_search.best_estimator_\n",
    "my_dot = tree.export_graphviz(decision_tree = my_model, out_file = None, feature_names= X.columns, class_names = my_model.classes_, \n",
    "                             filled = True)\n",
    "graphviz.Source(my_dot)"
   ]
  },
  {
   "cell_type": "code",
   "execution_count": 86,
   "id": "1600bfbd",
   "metadata": {},
   "outputs": [
    {
     "data": {
      "text/plain": [
       "{'max_features': 4}"
      ]
     },
     "execution_count": 86,
     "metadata": {},
     "output_type": "execute_result"
    }
   ],
   "source": [
    "import xgboost\n",
    "from sklearn.ensemble import RandomForestClassifier\n",
    "\n",
    "X,y = my_data.iloc[:, 0:4], my_data.Species\n",
    "\n",
    "my_search = GridSearchCV(RandomForestClassifier(), param_grid = {'max_features': [2,3,4]},\n",
    "                        cv = LeaveOneOut(), n_jobs = -1).fit(X, y)\n",
    "\n",
    "my_search.best_params_"
   ]
  },
  {
   "cell_type": "code",
   "execution_count": 87,
   "id": "2489bbbd",
   "metadata": {},
   "outputs": [
    {
     "data": {
      "text/plain": [
       "array([0.95333333, 0.95333333, 0.96      ])"
      ]
     },
     "execution_count": 87,
     "metadata": {},
     "output_type": "execute_result"
    }
   ],
   "source": [
    "my_search.cv_results_['mean_test_score']"
   ]
  },
  {
   "cell_type": "code",
   "execution_count": null,
   "id": "2a1b4a6b",
   "metadata": {},
   "outputs": [],
   "source": [
    "warnings.simplefilter('ignore', UserWarning)\n",
    "my_search = GridSearchCV(\n",
    "xgboost.XGBClassifier(eval_metric = 'mlogloss'),\n",
    "    param_grid = {\n",
    "                'n_estimators': [50,100,150],\n",
    "                 'max_depth': [1,2,3],\n",
    "                 'learning_rate': [0.3,0.4],\n",
    "                 'gamma': [0],\n",
    "                 'colsample_bytree': [0.6,0.8],\n",
    "                 'min_child_weight': [1],\n",
    "                 'subsample': [0.5,0.75,1]},\n",
    "    cv =5,\n",
    "    n_jobs = -1\n",
    ").fit(X , y)\n",
    "\n",
    "warnings.simplefilter('default', UserWarning)\n",
    "\n",
    "my_search.best_params_"
   ]
  },
  {
   "cell_type": "code",
   "execution_count": null,
   "id": "6bc8d653",
   "metadata": {},
   "outputs": [],
   "source": [
    "my_search.best_score_"
   ]
  },
  {
   "cell_type": "code",
   "execution_count": null,
   "id": "aa9f3d21",
   "metadata": {},
   "outputs": [],
   "source": [
    "my_model = RandomForestClassifier().fit(X, y)\n",
    "tmp = pd.Series(my_model.feature_importances_, index = X.columns)\n",
    "tmp.sort_values().plot(kind='both')"
   ]
  },
  {
   "cell_type": "code",
   "execution_count": 94,
   "id": "1d8d9c08",
   "metadata": {},
   "outputs": [
    {
     "data": {
      "text/html": [
       "<div>\n",
       "<style scoped>\n",
       "    .dataframe tbody tr th:only-of-type {\n",
       "        vertical-align: middle;\n",
       "    }\n",
       "\n",
       "    .dataframe tbody tr th {\n",
       "        vertical-align: top;\n",
       "    }\n",
       "\n",
       "    .dataframe thead th {\n",
       "        text-align: right;\n",
       "    }\n",
       "</style>\n",
       "<table border=\"1\" class=\"dataframe\">\n",
       "  <thead>\n",
       "    <tr style=\"text-align: right;\">\n",
       "      <th></th>\n",
       "      <th>Sepal.Length</th>\n",
       "      <th>Sepal.Width</th>\n",
       "      <th>Petal.Length</th>\n",
       "      <th>Petal.Width</th>\n",
       "    </tr>\n",
       "  </thead>\n",
       "  <tbody>\n",
       "    <tr>\n",
       "      <th>count</th>\n",
       "      <td>150.000000</td>\n",
       "      <td>150.000000</td>\n",
       "      <td>135.000000</td>\n",
       "      <td>135.000000</td>\n",
       "    </tr>\n",
       "    <tr>\n",
       "      <th>mean</th>\n",
       "      <td>5.843333</td>\n",
       "      <td>3.057333</td>\n",
       "      <td>3.751852</td>\n",
       "      <td>1.197037</td>\n",
       "    </tr>\n",
       "    <tr>\n",
       "      <th>std</th>\n",
       "      <td>0.828066</td>\n",
       "      <td>0.435866</td>\n",
       "      <td>1.763640</td>\n",
       "      <td>0.766553</td>\n",
       "    </tr>\n",
       "    <tr>\n",
       "      <th>min</th>\n",
       "      <td>4.300000</td>\n",
       "      <td>2.000000</td>\n",
       "      <td>1.000000</td>\n",
       "      <td>0.100000</td>\n",
       "    </tr>\n",
       "    <tr>\n",
       "      <th>25%</th>\n",
       "      <td>5.100000</td>\n",
       "      <td>2.800000</td>\n",
       "      <td>1.550000</td>\n",
       "      <td>0.300000</td>\n",
       "    </tr>\n",
       "    <tr>\n",
       "      <th>50%</th>\n",
       "      <td>5.800000</td>\n",
       "      <td>3.000000</td>\n",
       "      <td>4.300000</td>\n",
       "      <td>1.300000</td>\n",
       "    </tr>\n",
       "    <tr>\n",
       "      <th>75%</th>\n",
       "      <td>6.400000</td>\n",
       "      <td>3.300000</td>\n",
       "      <td>5.100000</td>\n",
       "      <td>1.800000</td>\n",
       "    </tr>\n",
       "    <tr>\n",
       "      <th>max</th>\n",
       "      <td>7.900000</td>\n",
       "      <td>4.400000</td>\n",
       "      <td>6.900000</td>\n",
       "      <td>2.500000</td>\n",
       "    </tr>\n",
       "  </tbody>\n",
       "</table>\n",
       "</div>"
      ],
      "text/plain": [
       "       Sepal.Length  Sepal.Width  Petal.Length  Petal.Width\n",
       "count    150.000000   150.000000    135.000000   135.000000\n",
       "mean       5.843333     3.057333      3.751852     1.197037\n",
       "std        0.828066     0.435866      1.763640     0.766553\n",
       "min        4.300000     2.000000      1.000000     0.100000\n",
       "25%        5.100000     2.800000      1.550000     0.300000\n",
       "50%        5.800000     3.000000      4.300000     1.300000\n",
       "75%        6.400000     3.300000      5.100000     1.800000\n",
       "max        7.900000     4.400000      6.900000     2.500000"
      ]
     },
     "execution_count": 94,
     "metadata": {},
     "output_type": "execute_result"
    }
   ],
   "source": [
    "from sklearn.impute import SimpleImputer\n",
    "\n",
    "n = len(my_data)\n",
    "my_data['Petal.Length'] = [np.nan if i % 10 == 0 else my_data['Petal.Length'][i] for i in range(n)]\n",
    "my_data['Petal.Width'] = [np.nan if i % 10 == 1 else my_data['Petal.Width'][i] for i in range(n)]\n",
    "\n",
    "my_data.describe()"
   ]
  },
  {
   "cell_type": "code",
   "execution_count": 96,
   "id": "2b2654dd",
   "metadata": {},
   "outputs": [],
   "source": [
    "X, y = my_data.iloc[:, 0:4], my_data.Species"
   ]
  },
  {
   "cell_type": "code",
   "execution_count": 98,
   "id": "c99f86e8",
   "metadata": {},
   "outputs": [
    {
     "data": {
      "text/plain": [
       "0.9333333333333333"
      ]
     },
     "execution_count": 98,
     "metadata": {},
     "output_type": "execute_result"
    }
   ],
   "source": [
    "my_pipeline = Pipeline([\n",
    "    ('imputer',SimpleImputer(strategy = 'median')),\n",
    "    ('tree',tree.DecisionTreeClassifier(random_state = 0))\n",
    "])\n",
    "my_scores = cross_val_score(my_pipeline, X, y, cv = LeaveOneOut(), n_jobs=-1)\n",
    "my_scores.mean()"
   ]
  },
  {
   "cell_type": "code",
   "execution_count": 99,
   "id": "00ed6055",
   "metadata": {},
   "outputs": [],
   "source": [
    "warnings.simplefilter('ignore', UserWarning)\n",
    "my_scores = cross_val_score(xgboost.XGBClassifier(eval_metric = 'mlogloss'), X, y, cv=5)\n",
    "warnings.simplefilter('default', UserWarning)"
   ]
  },
  {
   "cell_type": "code",
   "execution_count": 100,
   "id": "34202614",
   "metadata": {},
   "outputs": [
    {
     "data": {
      "text/plain": [
       "0.9666666666666668"
      ]
     },
     "execution_count": 100,
     "metadata": {},
     "output_type": "execute_result"
    }
   ],
   "source": [
    "my_scores.mean()"
   ]
  },
  {
   "cell_type": "code",
   "execution_count": 101,
   "id": "1dfeb36b",
   "metadata": {},
   "outputs": [
    {
     "data": {
      "text/plain": [
       "0.9666666666666667"
      ]
     },
     "execution_count": 101,
     "metadata": {},
     "output_type": "execute_result"
    }
   ],
   "source": [
    "from sklearn.neighbors import KNeighborsClassifier\n",
    "\n",
    "my_data = sm.datasets.get_rdataset('iris', 'datasets').data\n",
    "X, y = my_data.iloc[:, 0:4], my_data.Species\n",
    "\n",
    "my_scores = cross_val_score(KNeighborsClassifier(), X, y, cv=LeaveOneOut())\n",
    "my_scores.mean()"
   ]
  },
  {
   "cell_type": "code",
   "execution_count": 102,
   "id": "b9053107",
   "metadata": {},
   "outputs": [
    {
     "data": {
      "text/plain": [
       "0.9466666666666667"
      ]
     },
     "execution_count": 102,
     "metadata": {},
     "output_type": "execute_result"
    }
   ],
   "source": [
    "from sklearn.neural_network import MLPClassifier\n",
    "from sklearn.preprocessing import StandardScaler\n",
    "\n",
    "my_pipeline = Pipeline([('sc', StandardScaler()), ('mlp', MLPClassifier())])\n",
    "my_scores = cross_val_score(my_pipeline, X, y, cv=LeaveOneOut(), n_jobs = -1)\n",
    "my_scores.mean()"
   ]
  },
  {
   "cell_type": "code",
   "execution_count": 103,
   "id": "8c289028",
   "metadata": {},
   "outputs": [],
   "source": [
    "from sklearn.metrics import classification_report, confusion_matrix\n",
    "\n",
    "y = np.array([0,1,1,0,1,0,1,0,0,1])\n",
    "y_score = np.array([0.7,0.8,0.3,0.4,0.9,0.6,0.99,0.1,0.2,0.5])"
   ]
  },
  {
   "cell_type": "code",
   "execution_count": 104,
   "id": "dccb852b",
   "metadata": {},
   "outputs": [],
   "source": [
    "y_ = np.array([1 if p >= 0.5 else 0 for p in y_score])"
   ]
  },
  {
   "cell_type": "code",
   "execution_count": 105,
   "id": "8dfd9dc4",
   "metadata": {},
   "outputs": [
    {
     "data": {
      "text/plain": [
       "array([1, 1, 0, 0, 1, 1, 1, 0, 0, 1])"
      ]
     },
     "execution_count": 105,
     "metadata": {},
     "output_type": "execute_result"
    }
   ],
   "source": [
    "y_"
   ]
  },
  {
   "cell_type": "code",
   "execution_count": 106,
   "id": "9f48cb5a",
   "metadata": {},
   "outputs": [
    {
     "data": {
      "text/plain": [
       "array([[3, 2],\n",
       "       [1, 4]])"
      ]
     },
     "execution_count": 106,
     "metadata": {},
     "output_type": "execute_result"
    }
   ],
   "source": [
    "confusion_matrix(y_true = y, y_pred = y_)"
   ]
  },
  {
   "cell_type": "code",
   "execution_count": 107,
   "id": "49975ef8",
   "metadata": {},
   "outputs": [
    {
     "name": "stdout",
     "output_type": "stream",
     "text": [
      "              precision    recall  f1-score   support\n",
      "\n",
      "           0       0.75      0.60      0.67         5\n",
      "           1       0.67      0.80      0.73         5\n",
      "\n",
      "    accuracy                           0.70        10\n",
      "   macro avg       0.71      0.70      0.70        10\n",
      "weighted avg       0.71      0.70      0.70        10\n",
      "\n"
     ]
    }
   ],
   "source": [
    "print(classification_report(y_true = y, y_pred = y_))"
   ]
  },
  {
   "cell_type": "code",
   "execution_count": 109,
   "id": "92a61829",
   "metadata": {},
   "outputs": [],
   "source": [
    "from sklearn.metrics import (roc_curve, RocCurveDisplay, precision_recall_curve, PrecisionRecallDisplay, auc)"
   ]
  },
  {
   "cell_type": "code",
   "execution_count": 110,
   "id": "74bece06",
   "metadata": {},
   "outputs": [
    {
     "data": {
      "text/plain": [
       "[0.4, 0.8]"
      ]
     },
     "execution_count": 110,
     "metadata": {},
     "output_type": "execute_result"
    }
   ],
   "source": [
    "[sum(( y == 0) & (y_ == 1)) / sum(y == 0),\n",
    "sum((y== 1) & (y_ == 1))/ sum(y == 1)]"
   ]
  },
  {
   "cell_type": "code",
   "execution_count": 112,
   "id": "b3b4e25c",
   "metadata": {},
   "outputs": [
    {
     "data": {
      "text/plain": [
       "<sklearn.metrics._plot.roc_curve.RocCurveDisplay at 0x7fe93c525520>"
      ]
     },
     "execution_count": 112,
     "metadata": {},
     "output_type": "execute_result"
    },
    {
     "data": {
      "image/png": "[encoded data removed]",
      "text/plain": [
       "<Figure size 432x288 with 1 Axes>"
      ]
     },
     "metadata": {
      "needs_background": "light"
     },
     "output_type": "display_data"
    }
   ],
   "source": [
    "my_fpr, my_tpr, _ = roc_curve(y_true = y, y_score = y_score, pos_label = 1 )\n",
    "RocCurveDisplay(fpr = my_fpr, tpr = my_tpr).plot()"
   ]
  },
  {
   "cell_type": "code",
   "execution_count": 113,
   "id": "1b041821",
   "metadata": {},
   "outputs": [
    {
     "data": {
      "text/plain": [
       "0.8"
      ]
     },
     "execution_count": 113,
     "metadata": {},
     "output_type": "execute_result"
    }
   ],
   "source": [
    "auc(x = my_fpr, y = my_tpr)"
   ]
  },
  {
   "cell_type": "code",
   "execution_count": 114,
   "id": "54345805",
   "metadata": {},
   "outputs": [
    {
     "data": {
      "text/plain": [
       "[0.8, 0.6666666666666666]"
      ]
     },
     "execution_count": 114,
     "metadata": {},
     "output_type": "execute_result"
    }
   ],
   "source": [
    "[sum((y==1) & (y_ == 1)) /sum(y == 1), sum((y==1) & (y_==1)) /sum(y_==1)]"
   ]
  },
  {
   "cell_type": "code",
   "execution_count": 115,
   "id": "ef458a11",
   "metadata": {},
   "outputs": [
    {
     "data": {
      "text/plain": [
       "<sklearn.metrics._plot.precision_recall_curve.PrecisionRecallDisplay at 0x7fe93c2c80d0>"
      ]
     },
     "execution_count": 115,
     "metadata": {},
     "output_type": "execute_result"
    },
    {
     "data": {
      "image/png": "[encoded data removed]",
      "text/plain": [
       "<Figure size 432x288 with 1 Axes>"
      ]
     },
     "metadata": {
      "needs_background": "light"
     },
     "output_type": "display_data"
    }
   ],
   "source": [
    "my_precision , my_recall, _ = precision_recall_curve(y_true = y, probas_pred = y_score, pos_label = 1)\n",
    "PrecisionRecallDisplay(precision=my_precision , recall = my_recall).plot()"
   ]
  },
  {
   "cell_type": "code",
   "execution_count": 116,
   "id": "d18a60d2",
   "metadata": {},
   "outputs": [
    {
     "data": {
      "text/plain": [
       "0.8463095238095237"
      ]
     },
     "execution_count": 116,
     "metadata": {},
     "output_type": "execute_result"
    }
   ],
   "source": [
    "auc(x = my_recall, y = my_precision)"
   ]
  },
  {
   "cell_type": "code",
   "execution_count": 117,
   "id": "682fe1f8",
   "metadata": {},
   "outputs": [],
   "source": [
    "from sklearn.preprocessing import OneHotEncoder\n",
    "\n",
    "my_url = ('https://raw.githubusercontent.com/taroyabuki/fromzero/master/data/titanic.csv')\n",
    "my_data = pd.read_csv(my_url)"
   ]
  },
  {
   "cell_type": "code",
   "execution_count": 118,
   "id": "fdc7b7e6",
   "metadata": {},
   "outputs": [
    {
     "data": {
      "text/html": [
       "<div>\n",
       "<style scoped>\n",
       "    .dataframe tbody tr th:only-of-type {\n",
       "        vertical-align: middle;\n",
       "    }\n",
       "\n",
       "    .dataframe tbody tr th {\n",
       "        vertical-align: top;\n",
       "    }\n",
       "\n",
       "    .dataframe thead th {\n",
       "        text-align: right;\n",
       "    }\n",
       "</style>\n",
       "<table border=\"1\" class=\"dataframe\">\n",
       "  <thead>\n",
       "    <tr style=\"text-align: right;\">\n",
       "      <th></th>\n",
       "      <th>Class</th>\n",
       "      <th>Sex</th>\n",
       "      <th>Age</th>\n",
       "      <th>Survived</th>\n",
       "    </tr>\n",
       "  </thead>\n",
       "  <tbody>\n",
       "    <tr>\n",
       "      <th>0</th>\n",
       "      <td>1st</td>\n",
       "      <td>Male</td>\n",
       "      <td>Child</td>\n",
       "      <td>Yes</td>\n",
       "    </tr>\n",
       "    <tr>\n",
       "      <th>1</th>\n",
       "      <td>1st</td>\n",
       "      <td>Male</td>\n",
       "      <td>Child</td>\n",
       "      <td>Yes</td>\n",
       "    </tr>\n",
       "    <tr>\n",
       "      <th>2</th>\n",
       "      <td>1st</td>\n",
       "      <td>Male</td>\n",
       "      <td>Child</td>\n",
       "      <td>Yes</td>\n",
       "    </tr>\n",
       "    <tr>\n",
       "      <th>3</th>\n",
       "      <td>1st</td>\n",
       "      <td>Male</td>\n",
       "      <td>Child</td>\n",
       "      <td>Yes</td>\n",
       "    </tr>\n",
       "    <tr>\n",
       "      <th>4</th>\n",
       "      <td>1st</td>\n",
       "      <td>Male</td>\n",
       "      <td>Child</td>\n",
       "      <td>Yes</td>\n",
       "    </tr>\n",
       "  </tbody>\n",
       "</table>\n",
       "</div>"
      ],
      "text/plain": [
       "  Class   Sex    Age Survived\n",
       "0   1st  Male  Child      Yes\n",
       "1   1st  Male  Child      Yes\n",
       "2   1st  Male  Child      Yes\n",
       "3   1st  Male  Child      Yes\n",
       "4   1st  Male  Child      Yes"
      ]
     },
     "execution_count": 118,
     "metadata": {},
     "output_type": "execute_result"
    }
   ],
   "source": [
    "my_data.head()"
   ]
  },
  {
   "cell_type": "code",
   "execution_count": 119,
   "id": "8943fed2",
   "metadata": {},
   "outputs": [
    {
     "data": {
      "text/plain": [
       "Pipeline(steps=[('ohe', OneHotEncoder(drop='first')),\n",
       "                ('tree',\n",
       "                 DecisionTreeClassifier(max_depth=2, min_impurity_decrease=0.01,\n",
       "                                        random_state=0))])"
      ]
     },
     "execution_count": 119,
     "metadata": {},
     "output_type": "execute_result"
    }
   ],
   "source": [
    "X ,y = my_data.iloc[:, 0:3], my_data.Survived\n",
    "\n",
    "my_pipeline = Pipeline([\n",
    "    ('ohe', OneHotEncoder(drop= 'first')),\n",
    "    ('tree', tree.DecisionTreeClassifier(max_depth = 2, random_state = 0, min_impurity_decrease=0.01))\n",
    "])\n",
    "my_pipeline.fit(X, y)"
   ]
  },
  {
   "cell_type": "code",
   "execution_count": 121,
   "id": "b7a6ed1b",
   "metadata": {},
   "outputs": [
    {
     "data": {
      "image/svg+xml": [
       "<?xml version=\"1.0\" encoding=\"UTF-8\" standalone=\"no\"?>\n",
       "<!DOCTYPE svg PUBLIC \"-//W3C//DTD SVG 1.1//EN\"\n",
       " \"http://www.w3.org/Graphics/SVG/1.1/DTD/svg11.dtd\">\n",
       "<!-- Generated by graphviz version 2.43.0 (0)\n",
       " -->\n",
       "<!-- Title: Tree Pages: 1 -->\n",
       "<svg width=\"407pt\" height=\"314pt\"\n",
       " viewBox=\"0.00 0.00 407.00 314.00\" xmlns=\"http://www.w3.org/2000/svg\" xmlns:xlink=\"http://www.w3.org/1999/xlink\">\n",
       "<g id=\"graph0\" class=\"graph\" transform=\"scale(1 1) rotate(0) translate(4 310)\">\n",
       "<title>Tree</title>\n",
       "<polygon fill=\"white\" stroke=\"transparent\" points=\"-4,4 -4,-310 403,-310 403,4 -4,4\"/>\n",
       "<!-- 0 -->\n",
       "<g id=\"node1\" class=\"node\">\n",
       "<title>0</title>\n",
       "<polygon fill=\"#f1bd97\" stroke=\"black\" points=\"313,-306 155,-306 155,-223 313,-223 313,-306\"/>\n",
       "<text text-anchor=\"middle\" x=\"234\" y=\"-290.8\" font-family=\"Times,serif\" font-size=\"14.00\">x1_Male &lt;= 0.5</text>\n",
       "<text text-anchor=\"middle\" x=\"234\" y=\"-275.8\" font-family=\"Times,serif\" font-size=\"14.00\">gini = 0.437</text>\n",
       "<text text-anchor=\"middle\" x=\"234\" y=\"-260.8\" font-family=\"Times,serif\" font-size=\"14.00\">samples = 2201</text>\n",
       "<text text-anchor=\"middle\" x=\"234\" y=\"-245.8\" font-family=\"Times,serif\" font-size=\"14.00\">value = [1490, 711]</text>\n",
       "<text text-anchor=\"middle\" x=\"234\" y=\"-230.8\" font-family=\"Times,serif\" font-size=\"14.00\">class = No</text>\n",
       "</g>\n",
       "<!-- 1 -->\n",
       "<g id=\"node2\" class=\"node\">\n",
       "<title>1</title>\n",
       "<polygon fill=\"#82c1ef\" stroke=\"black\" points=\"223.5,-187 74.5,-187 74.5,-104 223.5,-104 223.5,-187\"/>\n",
       "<text text-anchor=\"middle\" x=\"149\" y=\"-171.8\" font-family=\"Times,serif\" font-size=\"14.00\">x0_3rd &lt;= 0.5</text>\n",
       "<text text-anchor=\"middle\" x=\"149\" y=\"-156.8\" font-family=\"Times,serif\" font-size=\"14.00\">gini = 0.392</text>\n",
       "<text text-anchor=\"middle\" x=\"149\" y=\"-141.8\" font-family=\"Times,serif\" font-size=\"14.00\">samples = 470</text>\n",
       "<text text-anchor=\"middle\" x=\"149\" y=\"-126.8\" font-family=\"Times,serif\" font-size=\"14.00\">value = [126, 344]</text>\n",
       "<text text-anchor=\"middle\" x=\"149\" y=\"-111.8\" font-family=\"Times,serif\" font-size=\"14.00\">class = Yes</text>\n",
       "</g>\n",
       "<!-- 0&#45;&gt;1 -->\n",
       "<g id=\"edge1\" class=\"edge\">\n",
       "<title>0&#45;&gt;1</title>\n",
       "<path fill=\"none\" stroke=\"black\" d=\"M204.51,-222.91C198.05,-214.01 191.14,-204.51 184.48,-195.33\"/>\n",
       "<polygon fill=\"black\" stroke=\"black\" points=\"187.15,-193.05 178.44,-187.02 181.48,-197.17 187.15,-193.05\"/>\n",
       "<text text-anchor=\"middle\" x=\"174.53\" y=\"-208.01\" font-family=\"Times,serif\" font-size=\"14.00\">True</text>\n",
       "</g>\n",
       "<!-- 4 -->\n",
       "<g id=\"node5\" class=\"node\">\n",
       "<title>4</title>\n",
       "<polygon fill=\"#eca36e\" stroke=\"black\" points=\"399,-179.5 241,-179.5 241,-111.5 399,-111.5 399,-179.5\"/>\n",
       "<text text-anchor=\"middle\" x=\"320\" y=\"-164.3\" font-family=\"Times,serif\" font-size=\"14.00\">gini = 0.334</text>\n",
       "<text text-anchor=\"middle\" x=\"320\" y=\"-149.3\" font-family=\"Times,serif\" font-size=\"14.00\">samples = 1731</text>\n",
       "<text text-anchor=\"middle\" x=\"320\" y=\"-134.3\" font-family=\"Times,serif\" font-size=\"14.00\">value = [1364, 367]</text>\n",
       "<text text-anchor=\"middle\" x=\"320\" y=\"-119.3\" font-family=\"Times,serif\" font-size=\"14.00\">class = No</text>\n",
       "</g>\n",
       "<!-- 0&#45;&gt;4 -->\n",
       "<g id=\"edge4\" class=\"edge\">\n",
       "<title>0&#45;&gt;4</title>\n",
       "<path fill=\"none\" stroke=\"black\" d=\"M263.84,-222.91C272.19,-211.54 281.28,-199.18 289.66,-187.77\"/>\n",
       "<polygon fill=\"black\" stroke=\"black\" points=\"292.52,-189.8 295.62,-179.67 286.88,-185.65 292.52,-189.8\"/>\n",
       "<text text-anchor=\"middle\" x=\"299.39\" y=\"-200.68\" font-family=\"Times,serif\" font-size=\"14.00\">False</text>\n",
       "</g>\n",
       "<!-- 2 -->\n",
       "<g id=\"node3\" class=\"node\">\n",
       "<title>2</title>\n",
       "<polygon fill=\"#49a5e7\" stroke=\"black\" points=\"140,-68 0,-68 0,0 140,0 140,-68\"/>\n",
       "<text text-anchor=\"middle\" x=\"70\" y=\"-52.8\" font-family=\"Times,serif\" font-size=\"14.00\">gini = 0.135</text>\n",
       "<text text-anchor=\"middle\" x=\"70\" y=\"-37.8\" font-family=\"Times,serif\" font-size=\"14.00\">samples = 274</text>\n",
       "<text text-anchor=\"middle\" x=\"70\" y=\"-22.8\" font-family=\"Times,serif\" font-size=\"14.00\">value = [20, 254]</text>\n",
       "<text text-anchor=\"middle\" x=\"70\" y=\"-7.8\" font-family=\"Times,serif\" font-size=\"14.00\">class = Yes</text>\n",
       "</g>\n",
       "<!-- 1&#45;&gt;2 -->\n",
       "<g id=\"edge2\" class=\"edge\">\n",
       "<title>1&#45;&gt;2</title>\n",
       "<path fill=\"none\" stroke=\"black\" d=\"M119.58,-103.73C113.2,-94.88 106.44,-85.51 100.03,-76.63\"/>\n",
       "<polygon fill=\"black\" stroke=\"black\" points=\"102.71,-74.36 94.02,-68.3 97.04,-78.46 102.71,-74.36\"/>\n",
       "</g>\n",
       "<!-- 3 -->\n",
       "<g id=\"node4\" class=\"node\">\n",
       "<title>3</title>\n",
       "<polygon fill=\"#fbece1\" stroke=\"black\" points=\"298,-68 158,-68 158,0 298,0 298,-68\"/>\n",
       "<text text-anchor=\"middle\" x=\"228\" y=\"-52.8\" font-family=\"Times,serif\" font-size=\"14.00\">gini = 0.497</text>\n",
       "<text text-anchor=\"middle\" x=\"228\" y=\"-37.8\" font-family=\"Times,serif\" font-size=\"14.00\">samples = 196</text>\n",
       "<text text-anchor=\"middle\" x=\"228\" y=\"-22.8\" font-family=\"Times,serif\" font-size=\"14.00\">value = [106, 90]</text>\n",
       "<text text-anchor=\"middle\" x=\"228\" y=\"-7.8\" font-family=\"Times,serif\" font-size=\"14.00\">class = No</text>\n",
       "</g>\n",
       "<!-- 1&#45;&gt;3 -->\n",
       "<g id=\"edge3\" class=\"edge\">\n",
       "<title>1&#45;&gt;3</title>\n",
       "<path fill=\"none\" stroke=\"black\" d=\"M178.42,-103.73C184.8,-94.88 191.56,-85.51 197.97,-76.63\"/>\n",
       "<polygon fill=\"black\" stroke=\"black\" points=\"200.96,-78.46 203.98,-68.3 195.29,-74.36 200.96,-78.46\"/>\n",
       "</g>\n",
       "</g>\n",
       "</svg>\n"
      ],
      "text/plain": [
       "<graphviz.sources.Source at 0x7fe93c0aa160>"
      ]
     },
     "execution_count": 121,
     "metadata": {},
     "output_type": "execute_result"
    }
   ],
   "source": [
    "my_enc = my_pipeline.named_steps['ohe']\n",
    "my_tree = my_pipeline.named_steps['tree']\n",
    "\n",
    "my_dot = tree.export_graphviz(\n",
    "decision_tree = my_tree,\n",
    "out_file = None, \n",
    "feature_names = my_enc.get_feature_names(),\n",
    "class_names = my_pipeline.classes_,\n",
    "filled = True)\n",
    "graphviz.Source(my_dot)"
   ]
  },
  {
   "cell_type": "code",
   "execution_count": 122,
   "id": "a9e8f0db",
   "metadata": {},
   "outputs": [
    {
     "data": {
      "text/plain": [
       "0.7832803271240345"
      ]
     },
     "execution_count": 122,
     "metadata": {},
     "output_type": "execute_result"
    }
   ],
   "source": [
    "my_scores = cross_val_score(\n",
    "my_pipeline, X, y, cv = LeaveOneOut(), n_jobs = -1)\n",
    "my_scores.mean()"
   ]
  },
  {
   "cell_type": "code",
   "execution_count": 126,
   "id": "520997b8",
   "metadata": {},
   "outputs": [
    {
     "data": {
      "text/plain": [
       "0.7114886868858494"
      ]
     },
     "execution_count": 126,
     "metadata": {},
     "output_type": "execute_result"
    }
   ],
   "source": [
    "tmp = pd.DataFrame(my_pipeline.predict_proba(X), columns = my_pipeline.classes_ )\n",
    "y_score = tmp.Yes\n",
    "\n",
    "\n",
    "my_fpr, my_tpr, _  = roc_curve(y_true = y, y_score = y_score, pos_label = 'Yes')\n",
    "my_auc = auc(x = my_fpr, y = my_tpr)\n",
    "my_auc"
   ]
  },
  {
   "cell_type": "code",
   "execution_count": 127,
   "id": "b3aabe7e",
   "metadata": {},
   "outputs": [
    {
     "data": {
      "text/plain": [
       "<sklearn.metrics._plot.roc_curve.RocCurveDisplay at 0x7fe93c152a00>"
      ]
     },
     "execution_count": 127,
     "metadata": {},
     "output_type": "execute_result"
    },
    {
     "data": {
      "image/png": "[encoded data removed]",
      "text/plain": [
       "<Figure size 432x288 with 1 Axes>"
      ]
     },
     "metadata": {
      "needs_background": "light"
     },
     "output_type": "display_data"
    }
   ],
   "source": [
    "RocCurveDisplay(fpr = my_fpr, tpr =my_tpr , roc_auc =my_auc).plot()"
   ]
  },
  {
   "cell_type": "code",
   "execution_count": 128,
   "id": "7d18abdd",
   "metadata": {},
   "outputs": [],
   "source": [
    "from sklearn.linear_model import LogisticRegression\n",
    "\n",
    "my_data = pd.read_csv(my_url)\n",
    "X, y = my_data.iloc[:, 0:3], my_data.Survived"
   ]
  },
  {
   "cell_type": "code",
   "execution_count": 129,
   "id": "dd59ac9c",
   "metadata": {},
   "outputs": [
    {
     "data": {
      "text/plain": [
       "Pipeline(steps=[('ohe', OneHotEncoder(drop='first')),\n",
       "                ('lr', LogisticRegression(penalty='none'))])"
      ]
     },
     "execution_count": 129,
     "metadata": {},
     "output_type": "execute_result"
    }
   ],
   "source": [
    "my_pipeline = Pipeline([('ohe', OneHotEncoder(drop = 'first')),\n",
    "                       ('lr', LogisticRegression(penalty = 'none'))])\n",
    "my_pipeline.fit(X, y)"
   ]
  },
  {
   "cell_type": "code",
   "execution_count": 130,
   "id": "85d97771",
   "metadata": {},
   "outputs": [
    {
     "data": {
      "text/plain": [
       "2.043878162056783"
      ]
     },
     "execution_count": 130,
     "metadata": {},
     "output_type": "execute_result"
    }
   ],
   "source": [
    "my_ohe = my_pipeline.named_steps.ohe\n",
    "my_lr = my_pipeline.named_steps.lr\n",
    "\n",
    "my_lr.intercept_[0]"
   ]
  },
  {
   "cell_type": "code",
   "execution_count": 131,
   "id": "d1464bbf",
   "metadata": {},
   "outputs": [
    {
     "data": {
      "text/plain": [
       "x0_2nd     -1.018069\n",
       "x0_3rd     -1.777746\n",
       "x0_Crew    -0.857708\n",
       "x1_Male    -2.420090\n",
       "x2_Child    1.061531\n",
       "dtype: float64"
      ]
     },
     "execution_count": 131,
     "metadata": {},
     "output_type": "execute_result"
    }
   ],
   "source": [
    "tmp = my_ohe.get_feature_names()\n",
    "pd.Series(my_lr.coef_[0], index = tmp)"
   ]
  },
  {
   "cell_type": "code",
   "execution_count": 132,
   "id": "9a981bba",
   "metadata": {},
   "outputs": [
    {
     "data": {
      "text/plain": [
       "0.7782825988187188"
      ]
     },
     "execution_count": 132,
     "metadata": {},
     "output_type": "execute_result"
    }
   ],
   "source": [
    "my_scores = cross_val_score(\n",
    "my_pipeline, X, y, cv=LeaveOneOut(), n_jobs = -1)\n",
    "my_scores.mean()"
   ]
  },
  {
   "cell_type": "code",
   "execution_count": 134,
   "id": "62444d7a",
   "metadata": {},
   "outputs": [],
   "source": [
    "my_url = 'https://raw.githubusercontent.com/taroyabuki/fromzero/master/data/wine.csv'\n",
    "my_data  = pd.read_csv(my_url)"
   ]
  },
  {
   "cell_type": "code",
   "execution_count": 135,
   "id": "11a4b725",
   "metadata": {},
   "outputs": [],
   "source": [
    "tmp = pd.read_csv(my_url)"
   ]
  },
  {
   "cell_type": "code",
   "execution_count": 137,
   "id": "7fb70269",
   "metadata": {},
   "outputs": [],
   "source": [
    "from sklearn.utils import shuffle\n",
    "my_data = shuffle(tmp)"
   ]
  },
  {
   "cell_type": "code",
   "execution_count": 138,
   "id": "a6f1b4cb",
   "metadata": {},
   "outputs": [],
   "source": [
    "from keras import activations, callbacks, layers, models"
   ]
  },
  {
   "cell_type": "code",
   "execution_count": 139,
   "id": "dc9ec4d3",
   "metadata": {},
   "outputs": [],
   "source": [
    "my_scaler = StandardScaler()\n",
    "X = my_scaler.fit_transform(\n",
    "my_data.drop(columns = ['LPRICE2']))\n",
    "y = my_data['LPRICE2']"
   ]
  },
  {
   "cell_type": "code",
   "execution_count": 140,
   "id": "83175002",
   "metadata": {},
   "outputs": [
    {
     "data": {
      "text/plain": [
       "[<matplotlib.lines.Line2D at 0x7fe8cf857cd0>]"
      ]
     },
     "execution_count": 140,
     "metadata": {},
     "output_type": "execute_result"
    },
    {
     "data": {
      "text/plain": [
       "Text(0.5, 0, 'x')"
      ]
     },
     "execution_count": 140,
     "metadata": {},
     "output_type": "execute_result"
    },
    {
     "data": {
      "text/plain": [
       "Text(0, 0.5, 'ReLU(x)')"
      ]
     },
     "execution_count": 140,
     "metadata": {},
     "output_type": "execute_result"
    },
    {
     "data": {
      "image/png": "[encoded data removed]",
      "text/plain": [
       "<Figure size 432x288 with 1 Axes>"
      ]
     },
     "metadata": {
      "needs_background": "light"
     },
     "output_type": "display_data"
    }
   ],
   "source": [
    "x = np.linspace(-3,3,100)\n",
    "plt.plot(x, activations.relu(x))\n",
    "plt.xlabel('x')\n",
    "plt.ylabel('ReLU(x)')"
   ]
  },
  {
   "cell_type": "code",
   "execution_count": 141,
   "id": "673e3c40",
   "metadata": {},
   "outputs": [
    {
     "name": "stdout",
     "output_type": "stream",
     "text": [
      "Model: \"sequential\"\n",
      "_________________________________________________________________\n",
      " Layer (type)                Output Shape              Param #   \n",
      "=================================================================\n",
      " dense (Dense)               (None, 3)                 15        \n",
      "                                                                 \n",
      " dense_1 (Dense)             (None, 1)                 4         \n",
      "                                                                 \n",
      "=================================================================\n",
      "Total params: 19\n",
      "Trainable params: 19\n",
      "Non-trainable params: 0\n",
      "_________________________________________________________________\n"
     ]
    }
   ],
   "source": [
    "my_model = models.Sequential()\n",
    "my_model.add(layers.Dense(units = 3, activation = 'relu', input_shape=[4]))\n",
    "my_model.add(layers.Dense(units=1))\n",
    "\n",
    "my_model.summary()"
   ]
  },
  {
   "cell_type": "code",
   "execution_count": 143,
   "id": "df9f6203",
   "metadata": {},
   "outputs": [],
   "source": [
    "my_model.compile(loss = 'mse', optimizer='rmsprop')"
   ]
  },
  {
   "cell_type": "code",
   "execution_count": 144,
   "id": "59c005e3",
   "metadata": {},
   "outputs": [],
   "source": [
    "my_cb= callbacks.EarlyStopping(patience = 20, restore_best_weights=True)"
   ]
  },
  {
   "cell_type": "code",
   "execution_count": 145,
   "id": "1a9361af",
   "metadata": {},
   "outputs": [],
   "source": [
    "my_history = my_model.fit(x = X, y= y, validation_split = 0.25, \n",
    "                         batch_size = 10, epochs = 500, callbacks = [my_cb], verbose = 0)"
   ]
  },
  {
   "cell_type": "code",
   "execution_count": 146,
   "id": "bc0e44fa",
   "metadata": {},
   "outputs": [
    {
     "data": {
      "text/plain": [
       "<AxesSubplot:xlabel='epoch'>"
      ]
     },
     "execution_count": 146,
     "metadata": {},
     "output_type": "execute_result"
    },
    {
     "data": {
      "image/png": "[encoded data removed]",
      "text/plain": [
       "<Figure size 432x288 with 1 Axes>"
      ]
     },
     "metadata": {
      "needs_background": "light"
     },
     "output_type": "display_data"
    }
   ],
   "source": [
    "tmp = pd.DataFrame(my_history.history)\n",
    "tmp.plot(xlabel = 'epoch')"
   ]
  },
  {
   "cell_type": "code",
   "execution_count": 147,
   "id": "90dd4aa3",
   "metadata": {},
   "outputs": [
    {
     "data": {
      "text/plain": [
       "loss        0.368857\n",
       "val_loss    0.233656\n",
       "Name: 177, dtype: float64"
      ]
     },
     "execution_count": 147,
     "metadata": {},
     "output_type": "execute_result"
    }
   ],
   "source": [
    "tmp.iloc[-1,]"
   ]
  },
  {
   "cell_type": "code",
   "execution_count": 148,
   "id": "ae735696",
   "metadata": {},
   "outputs": [
    {
     "data": {
      "text/plain": [
       "0.38798604743659876"
      ]
     },
     "execution_count": 148,
     "metadata": {},
     "output_type": "execute_result"
    }
   ],
   "source": [
    "y_ = my_model.predict(X)\n",
    "((y_.ravel() - y)**2).mean()"
   ]
  },
  {
   "cell_type": "code",
   "execution_count": 149,
   "id": "f2de331f",
   "metadata": {},
   "outputs": [],
   "source": [
    "from sklearn.preprocessing import LabelEncoder\n",
    "\n",
    "tmp = sm.datasets.get_rdataset('iris', 'datasets').data\n",
    "my_data = shuffle(tmp)"
   ]
  },
  {
   "cell_type": "code",
   "execution_count": 150,
   "id": "6acc814d",
   "metadata": {},
   "outputs": [],
   "source": [
    "X = my_scaler.fit_transform(my_data.drop(columns=['Species']))\n",
    "my_enc = LabelEncoder()\n",
    "y = my_enc.fit_transform(my_data['Species'])"
   ]
  },
  {
   "cell_type": "code",
   "execution_count": 151,
   "id": "79b731fc",
   "metadata": {},
   "outputs": [],
   "source": [
    "my_model = models.Sequential()\n",
    "my_model.add(layers.Dense(units = 3, activation = 'relu', input_shape=[4]))\n",
    "my_model.add(layers.Dense(units = 3, activation = 'softmax'))"
   ]
  },
  {
   "cell_type": "code",
   "execution_count": 152,
   "id": "95d8ae63",
   "metadata": {},
   "outputs": [],
   "source": [
    "my_model.compile(loss = 'sparse_categorical_crossentropy', optimizer='rmsprop', metrics=['accuracy'])"
   ]
  },
  {
   "cell_type": "code",
   "execution_count": 153,
   "id": "1eb4f5fe",
   "metadata": {},
   "outputs": [],
   "source": [
    "my_cb = callbacks.EarlyStopping(patience = 20, restore_best_weights=True)\n",
    "\n",
    "my_history = my_model.fit(x = X, y = y, validation_split = 0.25, batch_size = 10, epochs = 500, callbacks = [my_cb], verbose = 0)"
   ]
  },
  {
   "cell_type": "code",
   "execution_count": 154,
   "id": "34d3d770",
   "metadata": {},
   "outputs": [
    {
     "data": {
      "text/plain": [
       "<AxesSubplot:xlabel='epoch'>"
      ]
     },
     "execution_count": 154,
     "metadata": {},
     "output_type": "execute_result"
    },
    {
     "data": {
      "image/png": "[encoded data removed]",
      "text/plain": [
       "<Figure size 432x288 with 1 Axes>"
      ]
     },
     "metadata": {
      "needs_background": "light"
     },
     "output_type": "display_data"
    }
   ],
   "source": [
    "tmp = pd.DataFrame(my_history.history)\n",
    "tmp.plot(xlabel = 'epoch')"
   ]
  },
  {
   "cell_type": "code",
   "execution_count": 155,
   "id": "2122132b",
   "metadata": {},
   "outputs": [
    {
     "data": {
      "text/plain": [
       "loss            0.089637\n",
       "accuracy        0.973214\n",
       "val_loss        0.054699\n",
       "val_accuracy    1.000000\n",
       "Name: 499, dtype: float64"
      ]
     },
     "execution_count": 155,
     "metadata": {},
     "output_type": "execute_result"
    }
   ],
   "source": [
    "tmp.iloc[-1,]"
   ]
  },
  {
   "cell_type": "code",
   "execution_count": 156,
   "id": "21af30ee",
   "metadata": {},
   "outputs": [
    {
     "data": {
      "text/plain": [
       "0.98"
      ]
     },
     "execution_count": 156,
     "metadata": {},
     "output_type": "execute_result"
    }
   ],
   "source": [
    "tmp = my_model.predict(X)\n",
    "y_ = np.argmax(tmp  ,axis=-1)\n",
    "(y_ == y).mean()"
   ]
  },
  {
   "cell_type": "code",
   "execution_count": 157,
   "id": "b6b2ce1f",
   "metadata": {},
   "outputs": [
    {
     "data": {
      "text/plain": [
       "0.5017337127232719"
      ]
     },
     "execution_count": 157,
     "metadata": {},
     "output_type": "execute_result"
    }
   ],
   "source": [
    "-np.log([0.8,0.7,0.3,0.8]).mean()"
   ]
  },
  {
   "cell_type": "code",
   "execution_count": 158,
   "id": "01fae016",
   "metadata": {},
   "outputs": [
    {
     "data": {
      "text/plain": [
       "0.708403356019389"
      ]
     },
     "execution_count": 158,
     "metadata": {},
     "output_type": "execute_result"
    }
   ],
   "source": [
    "-np.log([0.7,0.6,0.2,0.7]).mean()"
   ]
  },
  {
   "cell_type": "code",
   "execution_count": 160,
   "id": "4213eea9",
   "metadata": {},
   "outputs": [
    {
     "ename": "NameError",
     "evalue": "name 'y_1' is not defined",
     "output_type": "error",
     "traceback": [
      "\u001b[0;31m---------------------------------------------------------------------------\u001b[0m",
      "\u001b[0;31mNameError\u001b[0m                                 Traceback (most recent call last)",
      "\u001b[0;32m<ipython-input-160-50376a94584b>\u001b[0m in \u001b[0;36m<module>\u001b[0;34m\u001b[0m\n\u001b[1;32m      1\u001b[0m \u001b[0;32mfrom\u001b[0m \u001b[0mkeras\u001b[0m \u001b[0;32mimport\u001b[0m \u001b[0mlosses\u001b[0m\u001b[0;34m\u001b[0m\u001b[0;34m\u001b[0m\u001b[0m\n\u001b[0;32m----> 2\u001b[0;31m \u001b[0;34m[\u001b[0m\u001b[0mlosses\u001b[0m\u001b[0;34m.\u001b[0m\u001b[0msparse_categorical_crossentropy\u001b[0m\u001b[0;34m(\u001b[0m\u001b[0my_true\u001b[0m \u001b[0;34m=\u001b[0m \u001b[0my\u001b[0m\u001b[0;34m,\u001b[0m \u001b[0my_pred\u001b[0m\u001b[0;34m=\u001b[0m\u001b[0my_1\u001b[0m\u001b[0;34m)\u001b[0m\u001b[0;34m.\u001b[0m\u001b[0mnumpy\u001b[0m\u001b[0;34m(\u001b[0m\u001b[0;34m)\u001b[0m\u001b[0;34m.\u001b[0m\u001b[0mmean\u001b[0m\u001b[0;34m(\u001b[0m\u001b[0;34m)\u001b[0m\u001b[0;34m]\u001b[0m\u001b[0;34m\u001b[0m\u001b[0;34m\u001b[0m\u001b[0m\n\u001b[0m",
      "\u001b[0;31mNameError\u001b[0m: name 'y_1' is not defined"
     ]
    }
   ],
   "source": [
    "from keras import losses\n",
    "[losses.sparse_categorical_crossentropy(y_true = y, y_pred=y_1).numpy().mean()]"
   ]
  },
  {
   "cell_type": "code",
   "execution_count": null,
   "id": "916b78a9",
   "metadata": {},
   "outputs": [],
   "source": [
    "import tensorflow as tf\n",
    "from random import sample\n",
    "\n",
    "(x_train, y_train), (x_test, y_test) = tf.keras.datasets.mnist.loadf_"
   ]
  }
 ],
 "metadata": {
  "kernelspec": {
   "display_name": "Python 3",
   "language": "python",
   "name": "python3"
  },
  "language_info": {
   "codemirror_mode": {
    "name": "ipython",
    "version": 3
   },
   "file_extension": ".py",
   "mimetype": "text/x-python",
   "name": "python",
   "nbconvert_exporter": "python",
   "pygments_lexer": "ipython3",
   "version": "3.8.8"
  }
 },
 "nbformat": 4,
 "nbformat_minor": 5
}

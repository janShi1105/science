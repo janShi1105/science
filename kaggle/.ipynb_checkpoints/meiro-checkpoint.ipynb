{
 "cells": [
  {
   "cell_type": "code",
   "execution_count": 1,
   "id": "75914835",
   "metadata": {},
   "outputs": [
    {
     "name": "stdout",
     "output_type": "stream",
     "text": [
      "7\n",
      "[['+' '-' '-' '-' '-' '-' '-' '-' '+']\n",
      " ['|' 'S' '|' ' ' ' ' ' ' ' ' ' ' '|']\n",
      " ['|' ' ' '|' ' ' '+' '-' '-' ' ' '|']\n",
      " ['|' ' ' ' ' ' ' '|' 'G' ' ' ' ' '|']\n",
      " ['|' ' ' '|' ' ' '+' '-' '+' ' ' '|']\n",
      " ['|' ' ' '|' ' ' ' ' ' ' '|' ' ' '|']\n",
      " ['+' '-' '-' '-' '-' '-' '-' '-' '+']]\n"
     ]
    }
   ],
   "source": [
    "import numpy as np\n",
    "from time import sleep\n",
    "from IPython.display import clear_output\n",
    "\n",
    "\n",
    "maze = ['+-------+', \n",
    "        '|S|     |', \n",
    "        '| | +-- |', \n",
    "        '|   |G  |', \n",
    "        '| | +-+ |', \n",
    "        '| |   | |', \n",
    "        '+-------+']\n",
    "\n",
    "print(len(maze))\n",
    "for i in range(len(maze)):\n",
    "    maze[i] = [s for s in maze[i]]\n",
    "maze = np.array(maze)\n",
    "\n",
    "print(maze)"
   ]
  },
  {
   "cell_type": "code",
   "execution_count": 2,
   "id": "f9d936a7",
   "metadata": {},
   "outputs": [],
   "source": [
    "def print_state(maze, cur_coord=None):\n",
    "    for vert_i in range(len(maze)):\n",
    "        for horz_i in range(len(maze[0])):\n",
    "            if (cur_coord is None):\n",
    "                print(maze[vert_i][horz_i], end=' ')\n",
    "            else:\n",
    "                if ((vert_i == cur_coord[0]) & (horz_i == cur_coord[1])):\n",
    "                    print('@', end='')\n",
    "                else:\n",
    "                    print(maze[vert_i][horz_i], end=' ')\n",
    "        print()"
   ]
  },
  {
   "cell_type": "code",
   "execution_count": 5,
   "id": "63d2fae4",
   "metadata": {},
   "outputs": [
    {
     "name": "stdout",
     "output_type": "stream",
     "text": [
      "(array([1]), array([1]))\n",
      "[1 1]\n"
     ]
    }
   ],
   "source": [
    "\n",
    "start_coord = np.where(maze == 'S')\n",
    "start_coord = np.array(start_coord).T[0]\n",
    "print(start_coord)"
   ]
  },
  {
   "cell_type": "code",
   "execution_count": 6,
   "id": "fe9d7a5a",
   "metadata": {},
   "outputs": [],
   "source": [
    "goal_coord = np.where(maze=='G')\n",
    "goal_coord = np.array(goal_coord).T[0]"
   ]
  },
  {
   "cell_type": "code",
   "execution_count": null,
   "id": "d2d1e16f",
   "metadata": {},
   "outputs": [],
   "source": [
    "wall [0,-1= np.array('|', '-', '+')\n",
    "direction = np.array([-1,0], )"
   ]
  }
 ],
 "metadata": {
  "kernelspec": {
   "display_name": "Python 3 (ipykernel)",
   "language": "python",
   "name": "python3"
  },
  "language_info": {
   "codemirror_mode": {
    "name": "ipython",
    "version": 3
   },
   "file_extension": ".py",
   "mimetype": "text/x-python",
   "name": "python",
   "nbconvert_exporter": "python",
   "pygments_lexer": "ipython3",
   "version": "3.10.3"
  }
 },
 "nbformat": 4,
 "nbformat_minor": 5
}

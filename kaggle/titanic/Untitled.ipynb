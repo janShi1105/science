{
 "cells": [
  {
   "cell_type": "code",
   "execution_count": 1,
   "id": "3f2a3642",
   "metadata": {},
   "outputs": [],
   "source": [
    "import numpy as np\n",
    "from sklearn.datasets import make_classification\n",
    "from sklearn.model_selection import train_test_split\n",
    "from sklearn.linear_model import LogisticRegression\n",
    "from sklearn.metrics import roc_auc_score\n",
    "from sklearn.metrics import matthews_corrcoef\n",
    "from sklearn.metrics import accuracy_score\n",
    "from sklearn.metrics import f1_score\n",
    "from sklearn.metrics import confusion_matrix\n",
    "\n",
    "dat = make_classification(n_samples=10000, n_features=20, n_informative=5, n_redundant=2, n_classes=2, n_clusters_per_class=10, weights=[0.9,0.1])\n",
    "\n",
    "X=dat[0]\n",
    "y=dat[1]"
   ]
  },
  {
   "cell_type": "code",
   "execution_count": 2,
   "id": "42c81407",
   "metadata": {},
   "outputs": [
    {
     "name": "stdout",
     "output_type": "stream",
     "text": [
      "[[ 1.1267249  -1.78789783 -1.88099467 ... -0.02059948  1.58228315\n",
      "  -1.44348238]\n",
      " [ 1.78912593 -0.89573454 -1.38756554 ... -0.84541443  2.50463526\n",
      "   0.67167798]\n",
      " [-1.16644639 -0.38712828 -1.01158019 ...  0.86717411  0.72882243\n",
      "   0.79535462]\n",
      " ...\n",
      " [-2.25161633 -4.16108953 -1.9713192  ...  0.37314234  1.67714064\n",
      "  -1.44442075]\n",
      " [ 1.8607566  -0.50767426 -0.45579767 ...  2.01038929  1.03820819\n",
      "  -0.75705229]\n",
      " [-1.13950578  0.31889251  0.93469255 ... -2.5224858  -0.11051343\n",
      "   1.45043764]]\n"
     ]
    }
   ],
   "source": [
    "print(X)"
   ]
  },
  {
   "cell_type": "code",
   "execution_count": 3,
   "id": "e80e29ed",
   "metadata": {},
   "outputs": [
    {
     "name": "stdout",
     "output_type": "stream",
     "text": [
      "[0 1 0 ... 0 0 0]\n"
     ]
    }
   ],
   "source": [
    "print(y)"
   ]
  },
  {
   "cell_type": "code",
   "execution_count": 12,
   "id": "e7b8fa88",
   "metadata": {},
   "outputs": [
    {
     "name": "stdout",
     "output_type": "stream",
     "text": [
      "0.6586108273748723\n"
     ]
    }
   ],
   "source": [
    "X_train,  X_test, y_train, y_test = train_test_split(X, y, test_size=0.2, random_state=123)\n",
    "\n",
    "clf  = LogisticRegression()\n",
    "clf.fit(X_train, y_train)\n",
    "\n",
    "print(roc_auc_score(y_test, clf.predict_proba(X_test)[:, 1]))"
   ]
  },
  {
   "cell_type": "code",
   "execution_count": 13,
   "id": "76afd8ab",
   "metadata": {},
   "outputs": [
    {
     "data": {
      "text/plain": [
       "0.0"
      ]
     },
     "execution_count": 13,
     "metadata": {},
     "output_type": "execute_result"
    }
   ],
   "source": [
    "matthews_corrcoef(y_test, clf.predict(X_test))"
   ]
  },
  {
   "cell_type": "code",
   "execution_count": 14,
   "id": "96cab463",
   "metadata": {},
   "outputs": [
    {
     "data": {
      "text/plain": [
       "0.89"
      ]
     },
     "execution_count": 14,
     "metadata": {},
     "output_type": "execute_result"
    }
   ],
   "source": [
    "accuracy_score(y_test, clf.predict(X_test))"
   ]
  },
  {
   "cell_type": "code",
   "execution_count": 15,
   "id": "22ccce1a",
   "metadata": {},
   "outputs": [
    {
     "data": {
      "text/plain": [
       "0.0"
      ]
     },
     "execution_count": 15,
     "metadata": {},
     "output_type": "execute_result"
    }
   ],
   "source": [
    "f1_score(y_test, clf.predict(X_test))"
   ]
  },
  {
   "cell_type": "code",
   "execution_count": 16,
   "id": "27b6346a",
   "metadata": {},
   "outputs": [
    {
     "data": {
      "text/plain": [
       "array([[1780,    0],\n",
       "       [ 220,    0]])"
      ]
     },
     "execution_count": 16,
     "metadata": {},
     "output_type": "execute_result"
    }
   ],
   "source": [
    "confusion_matrix(y_test, clf.predict(X_test))"
   ]
  },
  {
   "cell_type": "code",
   "execution_count": 17,
   "id": "3c151f52",
   "metadata": {},
   "outputs": [
    {
     "name": "stdout",
     "output_type": "stream",
     "text": [
      "0.6529162410623085\n"
     ]
    }
   ],
   "source": [
    "clf = LogisticRegression(class_weight={0:1, 1:20000})\n",
    "\n",
    "clf.fit(X_train, y_train)\n",
    "print(roc_auc_score(y_test, clf.predict_proba(X_test)[:, 1]))"
   ]
  },
  {
   "cell_type": "code",
   "execution_count": 18,
   "id": "fa4a65c3",
   "metadata": {},
   "outputs": [
    {
     "data": {
      "text/plain": [
       "0.0"
      ]
     },
     "execution_count": 18,
     "metadata": {},
     "output_type": "execute_result"
    }
   ],
   "source": [
    "matthews_corrcoef(y_test, clf.predict(X_test))"
   ]
  },
  {
   "cell_type": "code",
   "execution_count": 19,
   "id": "5c786715",
   "metadata": {},
   "outputs": [
    {
     "data": {
      "text/plain": [
       "0.19819819819819817"
      ]
     },
     "execution_count": 19,
     "metadata": {},
     "output_type": "execute_result"
    }
   ],
   "source": [
    "f1_score(y_test, clf.predict(X_test))"
   ]
  },
  {
   "cell_type": "code",
   "execution_count": 20,
   "id": "287d0435",
   "metadata": {},
   "outputs": [
    {
     "data": {
      "text/plain": [
       "array([[   0, 1780],\n",
       "       [   0,  220]])"
      ]
     },
     "execution_count": 20,
     "metadata": {},
     "output_type": "execute_result"
    }
   ],
   "source": [
    "confusion_matrix(y_test, clf.predict(X_test))"
   ]
  },
  {
   "cell_type": "code",
   "execution_count": 21,
   "id": "290d7f4d",
   "metadata": {},
   "outputs": [],
   "source": [
    "import numpy as np\n",
    "from matplotlib import pyplot as plt\n",
    "import scipy.optimize as optimize\n",
    "%matplotlib inline"
   ]
  },
  {
   "cell_type": "code",
   "execution_count": 22,
   "id": "98633dba",
   "metadata": {},
   "outputs": [],
   "source": [
    "from sklearn.metrics import r2_score\n",
    "from sklearn.metrics import mean_squared_error\n",
    "from sklearn.metrics import mean_absolute_error"
   ]
  },
  {
   "cell_type": "code",
   "execution_count": 23,
   "id": "4132f9ab",
   "metadata": {},
   "outputs": [],
   "source": [
    "def base_func(x, a,b,c):\n",
    "    y = c + a*(x-b) **2\n",
    "    return y"
   ]
  },
  {
   "cell_type": "code",
   "execution_count": 24,
   "id": "2432ce4d",
   "metadata": {},
   "outputs": [
    {
     "data": {
      "image/png": "[encoded data removed]",
      "text/plain": [
       "<Figure size 432x288 with 1 Axes>"
      ]
     },
     "metadata": {
      "needs_background": "light"
     },
     "output_type": "display_data"
    }
   ],
   "source": [
    "x = np.arange(-30, 30,1)\n",
    "para = [2,5,10]\n",
    "np.random.seed(seed=10)\n",
    "y = base_func(x, para[0],para[1], para[2]) + np.random.normal(0, 60, len(x))\n",
    "\n",
    "plt.scatter(x, y)\n",
    "plt.show()"
   ]
  },
  {
   "cell_type": "code",
   "execution_count": 25,
   "id": "60b7cde3",
   "metadata": {},
   "outputs": [],
   "source": [
    "def plot_fig(x, y, para):\n",
    "    fit = base_func(x, para[0], para[1], para[2])\n",
    "    r2 = r2_score(y ,fit)\n",
    "    print()\n",
    "    print('R2:', r2)\n",
    "    print('Result:', para)\n",
    "    plt.scatter(x,y,label='data')\n",
    "    plt.plot(x, fit, 'r', label='fit')\n",
    "    plt.legend()\n",
    "    plt.show()"
   ]
  },
  {
   "cell_type": "code",
   "execution_count": 26,
   "id": "b20b5838",
   "metadata": {},
   "outputs": [
    {
     "name": "stdout",
     "output_type": "stream",
     "text": [
      "(array([ 2.01296897,  4.92997267, 16.69809461]), array([[ 6.97990322e-04, -1.88282482e-03, -1.88758970e-01],\n",
      "       [-1.88282482e-03,  1.54028062e-02,  2.83488209e-01],\n",
      "       [-1.88758970e-01,  2.83488209e-01,  1.06165700e+02]]))\n",
      "[ 2.01296897  4.92997267 16.69809461]\n",
      "\n",
      "R2: 0.9934619969757706\n",
      "Result: [ 2.01296897  4.92997267 16.69809461]\n"
     ]
    },
    {
     "data": {
      "image/png": "[encoded data removed]",
      "text/plain": [
       "<Figure size 432x288 with 1 Axes>"
      ]
     },
     "metadata": {
      "needs_background": "light"
     },
     "output_type": "display_data"
    }
   ],
   "source": [
    "cf =  optimize.curve_fit(f=base_func, xdata=x, ydata=y, p0=para)\n",
    "print(cf)\n",
    "print(cf[0])\n",
    "plot_fig(x,y,cf[0])"
   ]
  },
  {
   "cell_type": "code",
   "execution_count": 27,
   "id": "7d68596c",
   "metadata": {},
   "outputs": [],
   "source": [
    "def ls_res(param, x, y):\n",
    "    residual = y  - base_func(x, param[0], param[1], param[2])\n",
    "    return residual"
   ]
  },
  {
   "cell_type": "code",
   "execution_count": 28,
   "id": "5ff985b7",
   "metadata": {},
   "outputs": [
    {
     "name": "stdout",
     "output_type": "stream",
     "text": [
      "(array([ 2.01296897,  4.92997267, 16.69809461]), 1)\n",
      "[ 2.01296897  4.92997267 16.69809461]\n",
      "\n",
      "R2: 0.9934619969757706\n",
      "Result: [ 2.01296897  4.92997267 16.69809461]\n"
     ]
    },
    {
     "data": {
      "image/png": "[encoded data removed]",
      "text/plain": [
       "<Figure size 432x288 with 1 Axes>"
      ]
     },
     "metadata": {
      "needs_background": "light"
     },
     "output_type": "display_data"
    }
   ],
   "source": [
    "le_lsq =  optimize.leastsq(ls_res, para, args=(x,y))\n",
    "print(le_lsq)\n",
    "print(le_lsq[0])\n",
    "plot_fig(x,y,le_lsq[0])"
   ]
  },
  {
   "cell_type": "code",
   "execution_count": 31,
   "id": "d832f121",
   "metadata": {},
   "outputs": [
    {
     "name": "stdout",
     "output_type": "stream",
     "text": [
      " active_mask: array([0., 0., 0.])\n",
      "        cost: 85817.23412955872\n",
      "         fun: array([  67.16762809,   30.80211008, -104.25165008,  -11.46960569,\n",
      "         26.84870365,  -53.12740647,    6.49166631,   -2.46881124,\n",
      "         -8.29286884,  -18.62093721,   18.216139  ,   64.77036425,\n",
      "        -64.98820215,   54.91386107,    7.21096455,   20.45121591,\n",
      "        -74.22930913,    2.27296277,   83.4089587 ,  -70.30550399,\n",
      "       -124.06079507, -109.90526132,   10.72952298,  137.90565173,\n",
      "         62.24544788,   95.17172831,    0.72783334,   78.59720994,\n",
      "        -21.644843  ,   31.30895838,  -21.66159097,  -38.7463054 ,\n",
      "          1.98359034,  -34.76450912,   72.06937786,    4.99283304,\n",
      "         17.0097409 ,  -27.58163125,   67.71787421,  -51.96134029,\n",
      "         31.1720764 ,  -29.91871462,  -65.68292513,  -39.15361693,\n",
      "        -58.57125078,  -23.58597685,  -31.72680753,    6.77159122,\n",
      "         21.34440506,  -22.04205869,  -15.40918949,    2.80681892,\n",
      "        -47.64147956,   26.50502599,   33.78713121,   -5.3192211 ,\n",
      "        125.33449716,   35.86022176,  -26.78919247,  -42.6751387 ])\n",
      "        grad: array([4.47571416e-04, 5.83338788e-04, 5.59388326e-05])\n",
      "         jac: array([[-1.22010299e+03, -1.40625898e+02, -9.99999829e-01],\n",
      "       [-1.15124304e+03, -1.36599957e+02, -9.99999829e-01],\n",
      "       [-1.08438310e+03, -1.32574028e+02, -9.99999829e-01],\n",
      "       [-1.01952316e+03, -1.28548088e+02, -9.99999829e-01],\n",
      "       [-9.56663208e+02, -1.24522150e+02, -9.99999829e-01],\n",
      "       [-8.95803261e+02, -1.20496212e+02, -9.99999829e-01],\n",
      "       [-8.36943315e+02, -1.16470274e+02, -9.99999829e-01],\n",
      "       [-7.80083370e+02, -1.12444340e+02, -9.99999829e-01],\n",
      "       [-7.25223426e+02, -1.08418399e+02, -9.99999829e-01],\n",
      "       [-6.72363482e+02, -1.04392464e+02, -9.99999829e-01],\n",
      "       [-6.21503540e+02, -1.00366523e+02, -9.99999829e-01],\n",
      "       [-5.72643592e+02, -9.63405855e+01, -9.99999829e-01],\n",
      "       [-5.25783644e+02, -9.23146446e+01, -9.99999829e-01],\n",
      "       [-4.80923701e+02, -8.82887100e+01, -9.99999829e-01],\n",
      "       [-4.38063755e+02, -8.42627722e+01, -9.99999829e-01],\n",
      "       [-3.97203811e+02, -8.02368329e+01, -9.99999829e-01],\n",
      "       [-3.58343867e+02, -7.62108951e+01, -9.99999829e-01],\n",
      "       [-3.21483920e+02, -7.21849589e+01, -9.99999829e-01],\n",
      "       [-2.86623975e+02, -6.81590196e+01, -9.99999829e-01],\n",
      "       [-2.53764030e+02, -6.41330818e+01, -9.99999829e-01],\n",
      "       [-2.22904082e+02, -6.01071433e+01, -1.00000006e+00],\n",
      "       [-1.94044140e+02, -5.60812063e+01, -1.00000006e+00],\n",
      "       [-1.67184194e+02, -5.20552685e+01, -1.00000006e+00],\n",
      "       [-1.42324248e+02, -4.80293292e+01, -1.00000006e+00],\n",
      "       [-1.19464302e+02, -4.40033915e+01, -9.99999829e-01],\n",
      "       [-9.86043570e+01, -3.99774537e+01, -1.00000006e+00],\n",
      "       [-7.97444125e+01, -3.59515159e+01, -1.00000006e+00],\n",
      "       [-6.28844672e+01, -3.19255782e+01, -1.00000006e+00],\n",
      "       [-4.80245214e+01, -2.78996400e+01, -1.00000000e+00],\n",
      "       [-3.51645761e+01, -2.38737023e+01, -1.00000000e+00],\n",
      "       [-2.43046308e+01, -1.98477643e+01, -1.00000000e+00],\n",
      "       [-1.54446851e+01, -1.58218262e+01, -1.00000000e+00],\n",
      "       [-8.58473987e+00, -1.17958883e+01, -1.00000000e+00],\n",
      "       [-3.72479445e+00, -7.76995033e+00, -1.00000000e+00],\n",
      "       [-8.64849538e-01, -3.74401247e+00, -1.00000006e+00],\n",
      "       [-4.90382340e-03,  2.81925586e-01, -1.00000000e+00],\n",
      "       [-1.14495849e+00,  4.30786349e+00, -1.00000000e+00],\n",
      "       [-4.28501319e+00,  8.33380140e+00, -1.00000000e+00],\n",
      "       [-9.42506781e+00,  1.23597396e+01, -1.00000000e+00],\n",
      "       [-1.65651228e+01,  1.63856773e+01, -1.00000000e+00],\n",
      "       [-2.57051774e+01,  2.04116153e+01, -1.00000000e+00],\n",
      "       [-3.68452319e+01,  2.44375532e+01, -1.00000000e+00],\n",
      "       [-4.99852865e+01,  2.84634914e+01, -1.00000000e+00],\n",
      "       [-6.51253417e+01,  3.24894291e+01, -1.00000006e+00],\n",
      "       [-8.22653959e+01,  3.65153669e+01, -1.00000006e+00],\n",
      "       [-1.01405450e+02,  4.05413055e+01, -1.00000006e+00],\n",
      "       [-1.22545505e+02,  4.45672432e+01, -1.00000006e+00],\n",
      "       [-1.45685560e+02,  4.85931818e+01, -1.00000006e+00],\n",
      "       [-1.70825615e+02,  5.26191187e+01, -1.00000006e+00],\n",
      "       [-1.97965669e+02,  5.66450565e+01, -1.00000006e+00],\n",
      "       [-2.27105725e+02,  6.06709950e+01, -1.00000006e+00],\n",
      "       [-2.58245779e+02,  6.46969344e+01, -9.99999829e-01],\n",
      "       [-2.91385832e+02,  6.87228706e+01, -9.99999829e-01],\n",
      "       [-3.26525887e+02,  7.27488083e+01, -9.99999829e-01],\n",
      "       [-3.63665942e+02,  7.67747461e+01, -9.99999829e-01],\n",
      "       [-4.02805995e+02,  8.08006870e+01, -9.99999829e-01],\n",
      "       [-4.43946052e+02,  8.48266232e+01, -9.99999829e-01],\n",
      "       [-4.87086107e+02,  8.88525609e+01, -9.99999829e-01],\n",
      "       [-5.32226166e+02,  9.28784987e+01, -9.99999829e-01],\n",
      "       [-5.79366219e+02,  9.69044365e+01, -9.99999829e-01]])\n",
      "     message: '`ftol` termination condition is satisfied.'\n",
      "        nfev: 5\n",
      "        njev: 4\n",
      "  optimality: 0.0005833387876919005\n",
      "      status: 2\n",
      "     success: True\n",
      "           x: array([ 2.01296898,  4.92997267, 16.69809246])\n",
      "[ 2.01296898  4.92997267 16.69809246]\n",
      "\n",
      "R2: 0.9934619969757706\n",
      "Result: [ 2.01296898  4.92997267 16.69809246]\n"
     ]
    },
    {
     "data": {
      "image/png": "[encoded data removed]",
      "text/plain": [
       "<Figure size 432x288 with 1 Axes>"
      ]
     },
     "metadata": {
      "needs_background": "light"
     },
     "output_type": "display_data"
    }
   ],
   "source": [
    "lsq = optimize.least_squares(ls_res, para, args=(x,y))\n",
    "print(lsq)\n",
    "print(lsq['x'])\n",
    "plot_fig(x,y,lsq['x'])"
   ]
  },
  {
   "cell_type": "code",
   "execution_count": 32,
   "id": "20e66df2",
   "metadata": {},
   "outputs": [],
   "source": [
    "def rmse_res(param, x, y):\n",
    "    residual = y -base_func(x, param[0], param[1],  param[2])\n",
    "    resid_ = np.sqrt(((residual * residual).sum())/len(x))\n",
    "    return resid_"
   ]
  },
  {
   "cell_type": "code",
   "execution_count": null,
   "id": "943a5d67",
   "metadata": {},
   "outputs": [],
   "source": []
  }
 ],
 "metadata": {
  "kernelspec": {
   "display_name": "Python 3 (ipykernel)",
   "language": "python",
   "name": "python3"
  },
  "language_info": {
   "codemirror_mode": {
    "name": "ipython",
    "version": 3
   },
   "file_extension": ".py",
   "mimetype": "text/x-python",
   "name": "python",
   "nbconvert_exporter": "python",
   "pygments_lexer": "ipython3",
   "version": "3.10.3"
  }
 },
 "nbformat": 4,
 "nbformat_minor": 5
}

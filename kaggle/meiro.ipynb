{
 "cells": [
  {
   "cell_type": "code",
   "execution_count": 1,
   "id": "75914835",
   "metadata": {},
   "outputs": [
    {
     "name": "stdout",
     "output_type": "stream",
     "text": [
      "7\n",
      "[['+' '-' '-' '-' '-' '-' '-' '-' '+']\n",
      " ['|' 'S' '|' ' ' ' ' ' ' ' ' ' ' '|']\n",
      " ['|' ' ' '|' ' ' '+' '-' '-' ' ' '|']\n",
      " ['|' ' ' ' ' ' ' '|' 'G' ' ' ' ' '|']\n",
      " ['|' ' ' '|' ' ' '+' '-' '+' ' ' '|']\n",
      " ['|' ' ' '|' ' ' ' ' ' ' '|' ' ' '|']\n",
      " ['+' '-' '-' '-' '-' '-' '-' '-' '+']]\n"
     ]
    }
   ],
   "source": [
    "import numpy as np\n",
    "from time import sleep\n",
    "from IPython.display import clear_output\n",
    "\n",
    "\n",
    "maze = ['+-------+', \n",
    "        '|S|     |', \n",
    "        '| | +-- |', \n",
    "        '|   |G  |', \n",
    "        '| | +-+ |', \n",
    "        '| |   | |', \n",
    "        '+-------+']\n",
    "\n",
    "print(len(maze))\n",
    "for i in range(len(maze)):\n",
    "    maze[i] = [s for s in maze[i]]\n",
    "maze = np.array(maze)\n",
    "\n",
    "print(maze)"
   ]
  },
  {
   "cell_type": "code",
   "execution_count": 2,
   "id": "f9d936a7",
   "metadata": {},
   "outputs": [],
   "source": [
    "def print_state(maze, cur_coord=None):\n",
    "    for vert_i in range(len(maze)):\n",
    "        for horz_i in range(len(maze[0])):\n",
    "            if (cur_coord is None):\n",
    "                print(maze[vert_i][horz_i], end=' ')\n",
    "            else:\n",
    "                if ((vert_i == cur_coord[0]) & (horz_i == cur_coord[1])):\n",
    "                    print('@', end='')\n",
    "                else:\n",
    "                    print(maze[vert_i][horz_i], end=' ')\n",
    "        print()"
   ]
  },
  {
   "cell_type": "code",
   "execution_count": 3,
   "id": "63d2fae4",
   "metadata": {},
   "outputs": [
    {
     "name": "stdout",
     "output_type": "stream",
     "text": [
      "[1 1]\n"
     ]
    }
   ],
   "source": [
    "\n",
    "start_coord = np.where(maze == 'S')\n",
    "start_coord = np.array(start_coord).T[0]\n",
    "print(start_coord)"
   ]
  },
  {
   "cell_type": "code",
   "execution_count": 4,
   "id": "fe9d7a5a",
   "metadata": {},
   "outputs": [],
   "source": [
    "goal_coord = np.where(maze=='G')\n",
    "goal_coord = np.array(goal_coord).T[0]"
   ]
  },
  {
   "cell_type": "code",
   "execution_count": 5,
   "id": "d2d1e16f",
   "metadata": {},
   "outputs": [],
   "source": [
    "import numpy as np\n",
    "wall = np.array(['|', '-', '+'])\n",
    "direction = np.array([[-1,0], [0,-1], [1,0], [0,1]])"
   ]
  },
  {
   "cell_type": "code",
   "execution_count": 12,
   "id": "5eec50cb",
   "metadata": {},
   "outputs": [],
   "source": [
    "import time\n",
    "\n",
    "def tic():\n",
    "    global start_time_tictoc\n",
    "    start_time_tictoc = time.time()\n",
    "    \n",
    "def toc(tag='elapsed time'):\n",
    "    if 'start_time_tictoc' in globals():\n",
    "        print(f'{tag}: {time.time() - start_time_tictoc: .9f} [sec]')\n",
    "\n",
    "    else:\n",
    "        print('tic has not been called')"
   ]
  },
  {
   "cell_type": "code",
   "execution_count": 13,
   "id": "b958f66f",
   "metadata": {},
   "outputs": [
    {
     "name": "stdout",
     "output_type": "stream",
     "text": [
      "step 0\n",
      "+ - - - - - - - + \n",
      "| @|           | \n",
      "|   |   + - -   | \n",
      "|       | G     | \n",
      "|   |   + - +   | \n",
      "|   |       |   | \n",
      "+ - - - - - - - + \n"
     ]
    }
   ],
   "source": [
    "visualize_mode = True\n",
    "random_seed = 0\n",
    "\n",
    "np.random.seed(random_seed)\n",
    "\n",
    "cur_coord = start_coord.copy()\n",
    "\n",
    "sleep(0.1)\n",
    "print('step 0')\n",
    "print_state(maze, cur_coord)\n",
    "sleep(0.5)"
   ]
  },
  {
   "cell_type": "code",
   "execution_count": 14,
   "id": "9a70a766",
   "metadata": {},
   "outputs": [
    {
     "name": "stdout",
     "output_type": "stream",
     "text": [
      "step 300\n",
      "+ - - - - - - - + \n",
      "| S |           | \n",
      "|   |   + - -   | \n",
      "|       | @    | \n",
      "|   |   + - +   | \n",
      "|   |       |   | \n",
      "+ - - - - - - - + \n",
      "elapsed time:  8.270948887 [sec]\n"
     ]
    }
   ],
   "source": [
    "tic()\n",
    "for trial_i in range(1000000):\n",
    "    direction_tmp = direction[np.random.randint(4)]\n",
    "    \n",
    "    next_x = cur_coord[0] + direction_tmp[0]\n",
    "    next_y = cur_coord[1] + direction_tmp[1]\n",
    "    next_state = (maze[next_x][next_y])\n",
    "    if (next_state not in wall):\n",
    "        cur_coord[0] =next_x\n",
    "        cur_coord[1] = next_y\n",
    "        \n",
    "        if (visualize_mode == True):\n",
    "            sleep(0.05)\n",
    "            clear_output(wait=True)\n",
    "            print('step %d' % trial_i)\n",
    "            print_state(maze, cur_coord)\n",
    "            \n",
    "        if (maze[next_x][next_y] == 'G'):\n",
    "            clear_output(wait=True)\n",
    "            print('step %d' % trial_i)\n",
    "            print_state(maze, cur_coord)\n",
    "            toc()\n",
    "            break"
   ]
  },
  {
   "cell_type": "code",
   "execution_count": 16,
   "id": "bd68969d",
   "metadata": {},
   "outputs": [
    {
     "name": "stdout",
     "output_type": "stream",
     "text": [
      "sim_num = 1000000\n",
      "pi       =3.142828\n",
      "('elapsed time', 1.4387409687042236)\n"
     ]
    }
   ],
   "source": [
    "import random\n",
    "import math\n",
    "\n",
    "import time\n",
    "\n",
    "def tic():\n",
    "    global start_time_tictoc\n",
    "    start_time_tictoc = time.time()\n",
    "    \n",
    "def toc(tag='elapsed time'):\n",
    "    if 'start_time_tictoc' in globals():\n",
    "        print(f'{tag, time.time() - start_time_tictoc}')\n",
    "    else:\n",
    "        print('tic has not been called')\n",
    "    \n",
    "def calc_pi(sim_num=10000):\n",
    "    \n",
    "    inside_cnt = 0\n",
    "    \n",
    "    for sim_i in range(sim_num):\n",
    "        x = random.random()\n",
    "        y = random.random()\n",
    "        \n",
    "        d = np.sqrt(((x - 0.5)**2) + ((y-0.5)**2))\n",
    "        \n",
    "        if (d <= 0.5):\n",
    "            inside_cnt += 1\n",
    "    p = inside_cnt / sim_num * 4\n",
    "    \n",
    "    return p\n",
    "\n",
    "sim_num = 1000000\n",
    "\n",
    "print('sim_num = %d' % sim_num)\n",
    "\n",
    "tic()\n",
    "\n",
    "p_tmp = calc_pi(sim_num=sim_num)\n",
    "print('pi       =%.6f' % p_tmp)\n",
    "\n",
    "toc()"
   ]
  },
  {
   "cell_type": "code",
   "execution_count": 17,
   "id": "8960b2a3",
   "metadata": {},
   "outputs": [
    {
     "name": "stdout",
     "output_type": "stream",
     "text": [
      "sim_num = 1000000\n",
      "pi       =3.142300\n",
      "('elapsed time', 0.43558311462402344)\n"
     ]
    }
   ],
   "source": [
    "import random\n",
    "import math\n",
    "\n",
    "import time\n",
    "\n",
    "def tic():\n",
    "    global start_time_tictoc\n",
    "    start_time_tictoc = time.time()\n",
    "    \n",
    "def toc(tag='elapsed time'):\n",
    "    if 'start_time_tictoc' in globals():\n",
    "        print(f'{tag, time.time() - start_time_tictoc}')\n",
    "    else:\n",
    "        print('tic has not been called')\n",
    "    \n",
    "def calc_pi(sim_num=10000):\n",
    "    \n",
    "    inside_cnt = 0\n",
    "    \n",
    "    for sim_i in range(sim_num):\n",
    "        x = random.random()\n",
    "        y = random.random()\n",
    "        \n",
    "        d = x**2 + y**2\n",
    "        \n",
    "        if (d <= 1):\n",
    "            inside_cnt += 1\n",
    "    p = inside_cnt / sim_num * 4\n",
    "    \n",
    "    return p\n",
    "\n",
    "sim_num = 1000000\n",
    "\n",
    "print('sim_num = %d' % sim_num)\n",
    "\n",
    "tic()\n",
    "\n",
    "p_tmp = calc_pi(sim_num=sim_num)\n",
    "print('pi       =%.6f' % p_tmp)\n",
    "\n",
    "toc()"
   ]
  },
  {
   "cell_type": "code",
   "execution_count": null,
   "id": "1fad1cde",
   "metadata": {},
   "outputs": [],
   "source": [
    "import random\n",
    "import math\n",
    "import itertools\n",
    "\n",
    "import time\n",
    "\n",
    "def tic():\n",
    "    global start_time_tictoc\n",
    "    start_time_tictoc = time.time()\n",
    "    \n",
    "def toc(tag='elapsed time'):\n",
    "    if 'start_time_tictoc' in globals():\n",
    "        print(f'{tag, time.time() - start_time_tictoc}')\n",
    "    else:\n",
    "        print('tic has not been called')\n",
    "    \n",
    "def calc_pi(sim_num=10000):\n",
    "    \n",
    "    inside_cnt = 0\n",
    "    \n",
    "    coord_tmp = [(i / int(np.sqrt(sim_num))) for i in range(int(np.sqrt(sim_num)))]\n",
    "    xy_combi = list(itertools.pro)\n",
    "    \n",
    "    return p\n",
    "\n",
    "sim_num = 1000000\n",
    "\n",
    "print('sim_num = %d' % sim_num)\n",
    "\n",
    "tic()\n",
    "\n",
    "p_tmp = calc_pi(sim_num=sim_num)\n",
    "print('pi       =%.6f' % p_tmp)\n",
    "\n",
    "toc()"
   ]
  }
 ],
 "metadata": {
  "kernelspec": {
   "display_name": "Python 3 (ipykernel)",
   "language": "python",
   "name": "python3"
  },
  "language_info": {
   "codemirror_mode": {
    "name": "ipython",
    "version": 3
   },
   "file_extension": ".py",
   "mimetype": "text/x-python",
   "name": "python",
   "nbconvert_exporter": "python",
   "pygments_lexer": "ipython3",
   "version": "3.10.3"
  }
 },
 "nbformat": 4,
 "nbformat_minor": 5
}

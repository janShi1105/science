{
  "nbformat": 4,
  "nbformat_minor": 0,
  "metadata": {
    "colab": {
      "provenance": [],
      "collapsed_sections": [],
      "authorship_tag": "ABX9TyM8UYDgaCY/LcXQFid5eCaN",
      "include_colab_link": true
    },
    "kernelspec": {
      "name": "python3",
      "display_name": "Python 3"
    },
    "language_info": {
      "name": "python"
    }
  },
  "cells": [
    {
      "cell_type": "markdown",
      "metadata": {
        "id": "view-in-github",
        "colab_type": "text"
      },
      "source": [
        "<a href=\"https://colab.research.google.com/github/janShi1105/science/blob/main/ML14_2.ipynb\" target=\"_parent\"><img src=\"https://colab.research.google.com/assets/colab-badge.svg\" alt=\"Open In Colab\"/></a>"
      ]
    },
    {
      "cell_type": "code",
      "execution_count": 1,
      "metadata": {
        "colab": {
          "base_uri": "https://localhost:8080/"
        },
        "id": "43wK2DvTbTeK",
        "outputId": "aba54194-1fca-48f9-8e7c-3c4e77531a37"
      },
      "outputs": [
        {
          "output_type": "stream",
          "name": "stdout",
          "text": [
            "Downloading data from http://archive.ics.uci.edu/ml/machine-learning-databases/auto-mpg/auto-mpg.data\n",
            "32768/30286 [================================] - 0s 2us/step\n",
            "40960/30286 [========================================] - 0s 2us/step\n"
          ]
        }
      ],
      "source": [
        "import tensorflow as tf\n",
        "import pandas as pd\n",
        "\n",
        "dataset_path = tf.keras.utils.get_file('auto-mpg.data', 'http://archive.ics.uci.edu/ml/machine-learning-databases/auto-mpg/auto-mpg.data')\n",
        "column_names = ['MPG', 'Cylinders', 'Displacement', 'Horsepower', 'Weight', 'Acceleration', 'ModelYear', 'Origin']\n",
        "df = pd.read_csv(dataset_path, names=column_names, na_values= '?', comment='\\t', sep=' ', skipinitialspace=True)\n"
      ]
    },
    {
      "cell_type": "code",
      "source": [
        "df = df.dropna()\n",
        "df = df.reset_index(drop=True)\n",
        "import sklearn\n",
        "import sklearn.model_selection\n",
        "df_train, df_test = sklearn.model_selection.train_test_split(df, train_size=0.8)\n",
        "train_stats = df_train.describe().transpose()\n",
        "numeric_column_names = ['Cylinders', 'Displacement', 'Horsepower', 'Weight', 'Acceleration']\n",
        "df_train_norm, df_test_norm = df_train.copy(), df_test.copy()\n",
        "for col_name in numeric_column_names:\n",
        "  mean = train_stats.loc[col_name, 'mean']\n",
        "  std  = train_stats.loc[col_name, 'std']\n",
        "  df_train_norm.loc[:, col_name] = (df_train_norm.loc[:, col_name] - mean)/ std\n",
        "  df_test_norm.loc[:, col_name] = (df_test_norm.loc[:, col_name] - mean)/ std\n",
        "\n",
        "df_train_norm.tail()"
      ],
      "metadata": {
        "colab": {
          "base_uri": "https://localhost:8080/",
          "height": 206
        },
        "id": "R5hR3SvmcFYn",
        "outputId": "91a936e2-f349-4e89-a655-04b30c1ad4d2"
      },
      "execution_count": 2,
      "outputs": [
        {
          "output_type": "execute_result",
          "data": {
            "text/plain": [
              "      MPG  Cylinders  Displacement  Horsepower    Weight  Acceleration  \\\n",
              "311  28.0  -0.855938     -0.413103   -0.372364 -0.347654      0.340372   \n",
              "226  18.5   0.313968      0.527789   -0.168516  0.656310      1.226404   \n",
              "350  33.7  -0.855938     -0.831278   -0.754579 -0.902383     -0.403895   \n",
              "230  16.0   1.483874      1.487688    1.131013  1.616417     -0.368454   \n",
              "6    14.0   1.483874      2.466596    2.940163  1.638938     -2.317724   \n",
              "\n",
              "     ModelYear  Origin  \n",
              "311         80       1  \n",
              "226         77       1  \n",
              "350         81       3  \n",
              "230         77       1  \n",
              "6           70       1  "
            ],
            "text/html": [
              "\n",
              "  <div id=\"df-c1dc07fe-ee53-4aa7-8124-f026a8ae0200\">\n",
              "    <div class=\"colab-df-container\">\n",
              "      <div>\n",
              "<style scoped>\n",
              "    .dataframe tbody tr th:only-of-type {\n",
              "        vertical-align: middle;\n",
              "    }\n",
              "\n",
              "    .dataframe tbody tr th {\n",
              "        vertical-align: top;\n",
              "    }\n",
              "\n",
              "    .dataframe thead th {\n",
              "        text-align: right;\n",
              "    }\n",
              "</style>\n",
              "<table border=\"1\" class=\"dataframe\">\n",
              "  <thead>\n",
              "    <tr style=\"text-align: right;\">\n",
              "      <th></th>\n",
              "      <th>MPG</th>\n",
              "      <th>Cylinders</th>\n",
              "      <th>Displacement</th>\n",
              "      <th>Horsepower</th>\n",
              "      <th>Weight</th>\n",
              "      <th>Acceleration</th>\n",
              "      <th>ModelYear</th>\n",
              "      <th>Origin</th>\n",
              "    </tr>\n",
              "  </thead>\n",
              "  <tbody>\n",
              "    <tr>\n",
              "      <th>311</th>\n",
              "      <td>28.0</td>\n",
              "      <td>-0.855938</td>\n",
              "      <td>-0.413103</td>\n",
              "      <td>-0.372364</td>\n",
              "      <td>-0.347654</td>\n",
              "      <td>0.340372</td>\n",
              "      <td>80</td>\n",
              "      <td>1</td>\n",
              "    </tr>\n",
              "    <tr>\n",
              "      <th>226</th>\n",
              "      <td>18.5</td>\n",
              "      <td>0.313968</td>\n",
              "      <td>0.527789</td>\n",
              "      <td>-0.168516</td>\n",
              "      <td>0.656310</td>\n",
              "      <td>1.226404</td>\n",
              "      <td>77</td>\n",
              "      <td>1</td>\n",
              "    </tr>\n",
              "    <tr>\n",
              "      <th>350</th>\n",
              "      <td>33.7</td>\n",
              "      <td>-0.855938</td>\n",
              "      <td>-0.831278</td>\n",
              "      <td>-0.754579</td>\n",
              "      <td>-0.902383</td>\n",
              "      <td>-0.403895</td>\n",
              "      <td>81</td>\n",
              "      <td>3</td>\n",
              "    </tr>\n",
              "    <tr>\n",
              "      <th>230</th>\n",
              "      <td>16.0</td>\n",
              "      <td>1.483874</td>\n",
              "      <td>1.487688</td>\n",
              "      <td>1.131013</td>\n",
              "      <td>1.616417</td>\n",
              "      <td>-0.368454</td>\n",
              "      <td>77</td>\n",
              "      <td>1</td>\n",
              "    </tr>\n",
              "    <tr>\n",
              "      <th>6</th>\n",
              "      <td>14.0</td>\n",
              "      <td>1.483874</td>\n",
              "      <td>2.466596</td>\n",
              "      <td>2.940163</td>\n",
              "      <td>1.638938</td>\n",
              "      <td>-2.317724</td>\n",
              "      <td>70</td>\n",
              "      <td>1</td>\n",
              "    </tr>\n",
              "  </tbody>\n",
              "</table>\n",
              "</div>\n",
              "      <button class=\"colab-df-convert\" onclick=\"convertToInteractive('df-c1dc07fe-ee53-4aa7-8124-f026a8ae0200')\"\n",
              "              title=\"Convert this dataframe to an interactive table.\"\n",
              "              style=\"display:none;\">\n",
              "        \n",
              "  <svg xmlns=\"http://www.w3.org/2000/svg\" height=\"24px\"viewBox=\"0 0 24 24\"\n",
              "       width=\"24px\">\n",
              "    <path d=\"M0 0h24v24H0V0z\" fill=\"none\"/>\n",
              "    <path d=\"M18.56 5.44l.94 2.06.94-2.06 2.06-.94-2.06-.94-.94-2.06-.94 2.06-2.06.94zm-11 1L8.5 8.5l.94-2.06 2.06-.94-2.06-.94L8.5 2.5l-.94 2.06-2.06.94zm10 10l.94 2.06.94-2.06 2.06-.94-2.06-.94-.94-2.06-.94 2.06-2.06.94z\"/><path d=\"M17.41 7.96l-1.37-1.37c-.4-.4-.92-.59-1.43-.59-.52 0-1.04.2-1.43.59L10.3 9.45l-7.72 7.72c-.78.78-.78 2.05 0 2.83L4 21.41c.39.39.9.59 1.41.59.51 0 1.02-.2 1.41-.59l7.78-7.78 2.81-2.81c.8-.78.8-2.07 0-2.86zM5.41 20L4 18.59l7.72-7.72 1.47 1.35L5.41 20z\"/>\n",
              "  </svg>\n",
              "      </button>\n",
              "      \n",
              "  <style>\n",
              "    .colab-df-container {\n",
              "      display:flex;\n",
              "      flex-wrap:wrap;\n",
              "      gap: 12px;\n",
              "    }\n",
              "\n",
              "    .colab-df-convert {\n",
              "      background-color: #E8F0FE;\n",
              "      border: none;\n",
              "      border-radius: 50%;\n",
              "      cursor: pointer;\n",
              "      display: none;\n",
              "      fill: #1967D2;\n",
              "      height: 32px;\n",
              "      padding: 0 0 0 0;\n",
              "      width: 32px;\n",
              "    }\n",
              "\n",
              "    .colab-df-convert:hover {\n",
              "      background-color: #E2EBFA;\n",
              "      box-shadow: 0px 1px 2px rgba(60, 64, 67, 0.3), 0px 1px 3px 1px rgba(60, 64, 67, 0.15);\n",
              "      fill: #174EA6;\n",
              "    }\n",
              "\n",
              "    [theme=dark] .colab-df-convert {\n",
              "      background-color: #3B4455;\n",
              "      fill: #D2E3FC;\n",
              "    }\n",
              "\n",
              "    [theme=dark] .colab-df-convert:hover {\n",
              "      background-color: #434B5C;\n",
              "      box-shadow: 0px 1px 3px 1px rgba(0, 0, 0, 0.15);\n",
              "      filter: drop-shadow(0px 1px 2px rgba(0, 0, 0, 0.3));\n",
              "      fill: #FFFFFF;\n",
              "    }\n",
              "  </style>\n",
              "\n",
              "      <script>\n",
              "        const buttonEl =\n",
              "          document.querySelector('#df-c1dc07fe-ee53-4aa7-8124-f026a8ae0200 button.colab-df-convert');\n",
              "        buttonEl.style.display =\n",
              "          google.colab.kernel.accessAllowed ? 'block' : 'none';\n",
              "\n",
              "        async function convertToInteractive(key) {\n",
              "          const element = document.querySelector('#df-c1dc07fe-ee53-4aa7-8124-f026a8ae0200');\n",
              "          const dataTable =\n",
              "            await google.colab.kernel.invokeFunction('convertToInteractive',\n",
              "                                                     [key], {});\n",
              "          if (!dataTable) return;\n",
              "\n",
              "          const docLinkHtml = 'Like what you see? Visit the ' +\n",
              "            '<a target=\"_blank\" href=https://colab.research.google.com/notebooks/data_table.ipynb>data table notebook</a>'\n",
              "            + ' to learn more about interactive tables.';\n",
              "          element.innerHTML = '';\n",
              "          dataTable['output_type'] = 'display_data';\n",
              "          await google.colab.output.renderOutput(dataTable, element);\n",
              "          const docLink = document.createElement('div');\n",
              "          docLink.innerHTML = docLinkHtml;\n",
              "          element.appendChild(docLink);\n",
              "        }\n",
              "      </script>\n",
              "    </div>\n",
              "  </div>\n",
              "  "
            ]
          },
          "metadata": {},
          "execution_count": 2
        }
      ]
    },
    {
      "cell_type": "code",
      "source": [
        "numeric_features = []\n",
        "for col_name in numeric_column_names:\n",
        "  numeric_features.append(tf.feature_column.numeric_column(key=col_name))"
      ],
      "metadata": {
        "id": "oRwwRgbvdkOt"
      },
      "execution_count": 3,
      "outputs": []
    },
    {
      "cell_type": "code",
      "source": [
        "feature_year = tf.feature_column.numeric_column(key='ModelYear')\n",
        "bucketized_features = []\n",
        "bucketized_features.append(tf.feature_column.bucketized_column(source_column=feature_year, boundaries=[73,76,79]))"
      ],
      "metadata": {
        "id": "71QoRpetebaw"
      },
      "execution_count": 4,
      "outputs": []
    },
    {
      "cell_type": "code",
      "source": [
        "feature_origin = tf.feature_column.categorical_column_with_vocabulary_list(key='Origin', vocabulary_list=[1,2,3])\n"
      ],
      "metadata": {
        "id": "KubKABqJe725"
      },
      "execution_count": 5,
      "outputs": []
    },
    {
      "cell_type": "code",
      "source": [
        "print(feature_year)"
      ],
      "metadata": {
        "colab": {
          "base_uri": "https://localhost:8080/"
        },
        "id": "TnLr1SoSfclB",
        "outputId": "6b7803e8-e3e4-455d-b04c-b3f2f591cced"
      },
      "execution_count": 6,
      "outputs": [
        {
          "output_type": "stream",
          "name": "stdout",
          "text": [
            "NumericColumn(key='ModelYear', shape=(1,), default_value=None, dtype=tf.float32, normalizer_fn=None)\n"
          ]
        }
      ]
    },
    {
      "cell_type": "code",
      "source": [
        "feature_origin"
      ],
      "metadata": {
        "colab": {
          "base_uri": "https://localhost:8080/"
        },
        "id": "ju0SScvCffX-",
        "outputId": "bcf32e27-3d45-4dec-a97b-578f84bf2ffc"
      },
      "execution_count": 7,
      "outputs": [
        {
          "output_type": "execute_result",
          "data": {
            "text/plain": [
              "VocabularyListCategoricalColumn(key='Origin', vocabulary_list=(1, 2, 3), dtype=tf.int64, default_value=-1, num_oov_buckets=0)"
            ]
          },
          "metadata": {},
          "execution_count": 7
        }
      ]
    },
    {
      "cell_type": "code",
      "source": [
        "categorical_indicator_features = []\n",
        "categorical_indicator_features.append(tf.feature_column.indicator_column(feature_origin))"
      ],
      "metadata": {
        "id": "vZSCz_96fiGl"
      },
      "execution_count": 8,
      "outputs": []
    },
    {
      "cell_type": "code",
      "source": [
        "def train_input_fn(df_train, batch_size=8):\n",
        "  df =df_train.copy()\n",
        "  train_x, train_y = df, df.pop('MPG')\n",
        "  dataset = tf.data.Dataset.from_tensor_slices((dict(train_x), train_y))\n",
        "  return dataset.shuffle(1000).repeat().batch(batch_size)"
      ],
      "metadata": {
        "id": "Dv0ewPuXGhEV"
      },
      "execution_count": 9,
      "outputs": []
    },
    {
      "cell_type": "code",
      "source": [
        "ds = train_input_fn(df_train_norm)\n",
        "batch = next(iter(ds))\n",
        "print('Keys: ', batch[0].keys())"
      ],
      "metadata": {
        "colab": {
          "base_uri": "https://localhost:8080/"
        },
        "id": "CytTdVBAHdcG",
        "outputId": "f2e81f1f-af64-4791-a0ca-69692e555c38"
      },
      "execution_count": 10,
      "outputs": [
        {
          "output_type": "stream",
          "name": "stdout",
          "text": [
            "Keys:  dict_keys(['Cylinders', 'Displacement', 'Horsepower', 'Weight', 'Acceleration', 'ModelYear', 'Origin'])\n"
          ]
        }
      ]
    },
    {
      "cell_type": "code",
      "source": [
        "print('Batch Model Years: ', batch[0]['ModelYear'])"
      ],
      "metadata": {
        "colab": {
          "base_uri": "https://localhost:8080/"
        },
        "id": "5CVoUjzDHq8-",
        "outputId": "7588c1af-e0a9-44ed-8936-e863099bdc3f"
      },
      "execution_count": 11,
      "outputs": [
        {
          "output_type": "stream",
          "name": "stdout",
          "text": [
            "Batch Model Years:  tf.Tensor([79 78 81 70 76 79 75 82], shape=(8,), dtype=int64)\n"
          ]
        }
      ]
    },
    {
      "cell_type": "code",
      "source": [
        "def eval_input_fn(df_test, batch_size=8):\n",
        "  df =df_test.copy()\n",
        "  test_x, test_y = df, df.pop('MPG')\n",
        "  dataset = tf.data.Dataset.from_tensor_slices((dict(test_x), test_y))\n",
        "  return dataset.batch(batch_size)"
      ],
      "metadata": {
        "id": "wbePeWlRH2c6"
      },
      "execution_count": 12,
      "outputs": []
    },
    {
      "cell_type": "code",
      "source": [
        "all_feature_columns = (numeric_features + bucketized_features + categorical_indicator_features)"
      ],
      "metadata": {
        "id": "7g0tqAwzIVP_"
      },
      "execution_count": 13,
      "outputs": []
    },
    {
      "cell_type": "code",
      "source": [
        "regressor = tf.estimator.DNNRegressor(feature_columns=all_feature_columns, hidden_units = [32,10], model_dir='models/autompg-dnnregressor/')"
      ],
      "metadata": {
        "id": "nQM1kV7MIhM9"
      },
      "execution_count": 14,
      "outputs": []
    },
    {
      "cell_type": "code",
      "source": [
        "import numpy as np\n",
        "EPOCHS = 1000\n",
        "BATCH_SIZE = 8\n",
        "total_steps = EPOCHS * int(np.ceil(len(df_train) / BATCH_SIZE))\n",
        "print('Training Steps: ', total_steps)"
      ],
      "metadata": {
        "colab": {
          "base_uri": "https://localhost:8080/"
        },
        "id": "g8sJvAZNI29e",
        "outputId": "c78b3db4-c80c-4e0c-ecdc-eeff7d32ef31"
      },
      "execution_count": 15,
      "outputs": [
        {
          "output_type": "stream",
          "name": "stdout",
          "text": [
            "Training Steps:  40000\n"
          ]
        }
      ]
    },
    {
      "cell_type": "code",
      "source": [
        "regressor.train(input_fn=lambda: train_input_fn(df_train_norm, batch_size=BATCH_SIZE), steps=total_steps)"
      ],
      "metadata": {
        "colab": {
          "base_uri": "https://localhost:8080/"
        },
        "id": "vxdXmNU3RAMs",
        "outputId": "a376182b-07f2-4cbc-92e4-65941132e981"
      },
      "execution_count": 16,
      "outputs": [
        {
          "output_type": "stream",
          "name": "stderr",
          "text": [
            "WARNING:tensorflow:From /usr/local/lib/python3.7/dist-packages/tensorflow/python/training/training_util.py:397: Variable.initialized_value (from tensorflow.python.ops.variables) is deprecated and will be removed in a future version.\n",
            "Instructions for updating:\n",
            "Use Variable.read_value. Variables in 2.X are initialized automatically both in eager and graph (inside tf.defun) contexts.\n",
            "WARNING:tensorflow:From /usr/local/lib/python3.7/dist-packages/keras/optimizer_v2/adagrad.py:84: calling Constant.__init__ (from tensorflow.python.ops.init_ops) with dtype is deprecated and will be removed in a future version.\n",
            "Instructions for updating:\n",
            "Call initializer instance with the dtype argument instead of passing it to the constructor\n",
            "WARNING:tensorflow:It seems that global step (tf.train.get_global_step) has not been increased. Current value (could be stable): 126 vs previous value: 126. You could increase the global step by passing tf.train.get_global_step() to Optimizer.apply_gradients or Optimizer.minimize.\n",
            "WARNING:tensorflow:It seems that global step (tf.train.get_global_step) has not been increased. Current value (could be stable): 177 vs previous value: 177. You could increase the global step by passing tf.train.get_global_step() to Optimizer.apply_gradients or Optimizer.minimize.\n",
            "WARNING:tensorflow:It seems that global step (tf.train.get_global_step) has not been increased. Current value (could be stable): 603 vs previous value: 603. You could increase the global step by passing tf.train.get_global_step() to Optimizer.apply_gradients or Optimizer.minimize.\n",
            "WARNING:tensorflow:It seems that global step (tf.train.get_global_step) has not been increased. Current value (could be stable): 1354 vs previous value: 1354. You could increase the global step by passing tf.train.get_global_step() to Optimizer.apply_gradients or Optimizer.minimize.\n",
            "WARNING:tensorflow:It seems that global step (tf.train.get_global_step) has not been increased. Current value (could be stable): 1548 vs previous value: 1548. You could increase the global step by passing tf.train.get_global_step() to Optimizer.apply_gradients or Optimizer.minimize.\n"
          ]
        },
        {
          "output_type": "execute_result",
          "data": {
            "text/plain": [
              "<tensorflow_estimator.python.estimator.canned.dnn.DNNRegressorV2 at 0x7f36e5daa8d0>"
            ]
          },
          "metadata": {},
          "execution_count": 16
        }
      ]
    },
    {
      "cell_type": "code",
      "source": [
        "reloaded_regressor = tf.estimator.DNNRegressor(\n",
        "    feature_columns=all_feature_columns, hidden_units=[32,10], warm_start_from='models/autompg-dnnregressor/', model_dir='models/autompg-dnnregressor/'\n",
        ")"
      ],
      "metadata": {
        "id": "pHXCR6ubRRsf"
      },
      "execution_count": 20,
      "outputs": []
    },
    {
      "cell_type": "code",
      "source": [
        "eval_results = reloaded_regressor.evaluate(input_fn=lambda:eval_input_fn(df_test_norm, batch_size=8))\n",
        "print('Average-Loss: {:.4f}'.format(eval_results['average_loss']))"
      ],
      "metadata": {
        "colab": {
          "base_uri": "https://localhost:8080/"
        },
        "id": "iUV9YwfATIlZ",
        "outputId": "d2d88fc8-f87b-47b1-c949-a2d1daeeaed3"
      },
      "execution_count": 23,
      "outputs": [
        {
          "output_type": "stream",
          "name": "stdout",
          "text": [
            "Average-Loss: 11.2417\n"
          ]
        }
      ]
    },
    {
      "cell_type": "code",
      "source": [
        "pred_res = regressor.predict(input_fn=lambda: eval_input_fn(df_test_norm, batch_size=8))\n",
        "print(next(iter(pred_res)))"
      ],
      "metadata": {
        "colab": {
          "base_uri": "https://localhost:8080/"
        },
        "id": "qoa_26ZtTY9-",
        "outputId": "4a90f952-541c-4cea-88de-d3a44982e405"
      },
      "execution_count": 24,
      "outputs": [
        {
          "output_type": "stream",
          "name": "stdout",
          "text": [
            "{'predictions': array([14.7343025], dtype=float32)}\n"
          ]
        }
      ]
    },
    {
      "cell_type": "code",
      "source": [
        "boosted_tree = tf.estimator.BoostedTreesRegressor(feature_columns = all_feature_columns, n_batches_per_layer=20, n_trees=200)\n",
        "boosted_tree.train(input_fn = lambda: train_input_fn(df_train_norm, batch_size=BATCH_SIZE))\n",
        "eval_results = boosted_tree.evaluate(\n",
        "    input_fn=lambda: eval_input_fn(df_test_norm, batch_size=8))\n",
        "print('Average-Loss: {:.4f}'.format(eval_results['average_loss']))"
      ],
      "metadata": {
        "colab": {
          "base_uri": "https://localhost:8080/"
        },
        "id": "WL_VaNR2ULpt",
        "outputId": "c570d4d9-ef30-4a11-c412-a51d95f5034a"
      },
      "execution_count": 26,
      "outputs": [
        {
          "output_type": "stream",
          "name": "stderr",
          "text": [
            "WARNING:tensorflow:From <ipython-input-26-401adb36c5a7>:1: BoostedTreesRegressor.__init__ (from tensorflow_estimator.python.estimator.canned.boosted_trees) is deprecated and will be removed in a future version.\n",
            "Instructions for updating:\n",
            "Boosted Trees kernels in TF are deprecated. Please use TensorFlow Decision Forests instead (https://github.com/tensorflow/decision-forests)\n",
            "WARNING:tensorflow:Using temporary folder as model directory: /tmp/tmp8iad8ycg\n",
            "WARNING:tensorflow:From /usr/local/lib/python3.7/dist-packages/tensorflow_estimator/python/estimator/canned/boosted_trees.py:398: VocabularyListCategoricalColumn._num_buckets (from tensorflow.python.feature_column.feature_column_v2) is deprecated and will be removed in a future version.\n",
            "Instructions for updating:\n",
            "The old _FeatureColumn APIs are being deprecated. Please use the new FeatureColumn APIs instead.\n",
            "WARNING:tensorflow:Issue encountered when serializing resources.\n",
            "Type is unsupported, or the types of the items don't match field type in CollectionDef. Note this is a warning and probably safe to ignore.\n",
            "'_Resource' object has no attribute 'name'\n",
            "WARNING:tensorflow:Issue encountered when serializing resources.\n",
            "Type is unsupported, or the types of the items don't match field type in CollectionDef. Note this is a warning and probably safe to ignore.\n",
            "'_Resource' object has no attribute 'name'\n",
            "WARNING:tensorflow:Issue encountered when serializing resources.\n",
            "Type is unsupported, or the types of the items don't match field type in CollectionDef. Note this is a warning and probably safe to ignore.\n",
            "'_Resource' object has no attribute 'name'\n",
            "WARNING:tensorflow:Issue encountered when serializing resources.\n",
            "Type is unsupported, or the types of the items don't match field type in CollectionDef. Note this is a warning and probably safe to ignore.\n",
            "'_Resource' object has no attribute 'name'\n",
            "WARNING:tensorflow:Issue encountered when serializing resources.\n",
            "Type is unsupported, or the types of the items don't match field type in CollectionDef. Note this is a warning and probably safe to ignore.\n",
            "'_Resource' object has no attribute 'name'\n"
          ]
        },
        {
          "output_type": "stream",
          "name": "stdout",
          "text": [
            "Average-Loss: 7.1586\n"
          ]
        }
      ]
    },
    {
      "cell_type": "code",
      "source": [],
      "metadata": {
        "id": "sKeoO7AMU0gX"
      },
      "execution_count": null,
      "outputs": []
    }
  ]
}
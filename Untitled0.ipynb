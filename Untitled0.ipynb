{
  "nbformat": 4,
  "nbformat_minor": 0,
  "metadata": {
    "colab": {
      "provenance": [],
      "collapsed_sections": [],
      "authorship_tag": "ABX9TyMOEqtgUylyRMk89izt5nvR",
      "include_colab_link": true
    },
    "kernelspec": {
      "name": "python3",
      "display_name": "Python 3"
    },
    "language_info": {
      "name": "python"
    },
    "accelerator": "GPU"
  },
  "cells": [
    {
      "cell_type": "markdown",
      "metadata": {
        "id": "view-in-github",
        "colab_type": "text"
      },
      "source": [
        "<a href=\"https://colab.research.google.com/github/janShi1105/science/blob/main/Untitled0.ipynb\" target=\"_parent\"><img src=\"https://colab.research.google.com/assets/colab-badge.svg\" alt=\"Open In Colab\"/></a>"
      ]
    },
    {
      "cell_type": "code",
      "execution_count": null,
      "metadata": {
        "colab": {
          "base_uri": "https://localhost:8080/"
        },
        "id": "pcVIZldx9Bxd",
        "outputId": "0b04ea7c-6793-4f0d-b9b8-21ea60f54969"
      },
      "outputs": [
        {
          "metadata": {
            "tags": null
          },
          "name": "stdout",
          "output_type": "stream",
          "text": [
            "\u001b[K     |████████████████████████████████| 320.4 MB 49 kB/s \n",
            "\u001b[K     |████████████████████████████████| 20.1 MB 1.1 MB/s \n",
            "\u001b[K     |████████████████████████████████| 2.9 MB 59.5 MB/s \n",
            "\u001b[K     |████████████████████████████████| 26.1 MB 68.9 MB/s \n",
            "\u001b[K     |████████████████████████████████| 459 kB 46.6 MB/s \n",
            "\u001b[K     |████████████████████████████████| 5.9 MB 58.0 MB/s \n"
          ]
        }
      ],
      "source": [
        "! pip install -q tensorflow-gpu==2.3.0"
      ]
    },
    {
      "cell_type": "code",
      "source": [
        "import tensorflow as tf\n",
        "print(tf.__version__)"
      ],
      "metadata": {
        "id": "EOqczQ3_9KxC"
      },
      "execution_count": null,
      "outputs": []
    },
    {
      "cell_type": "code",
      "source": [],
      "metadata": {
        "id": "y1qEl0qh9Uw6"
      },
      "execution_count": null,
      "outputs": []
    }
  ]
}
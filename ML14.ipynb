{
  "nbformat": 4,
  "nbformat_minor": 0,
  "metadata": {
    "colab": {
      "provenance": [],
      "collapsed_sections": [],
      "authorship_tag": "ABX9TyMUjbJWzH3Vy34pbd9mq0ul",
      "include_colab_link": true
    },
    "kernelspec": {
      "name": "python3",
      "display_name": "Python 3"
    },
    "language_info": {
      "name": "python"
    }
  },
  "cells": [
    {
      "cell_type": "markdown",
      "metadata": {
        "id": "view-in-github",
        "colab_type": "text"
      },
      "source": [
        "<a href=\"https://colab.research.google.com/github/janShi1105/science/blob/main/ML14.ipynb\" target=\"_parent\"><img src=\"https://colab.research.google.com/assets/colab-badge.svg\" alt=\"Open In Colab\"/></a>"
      ]
    },
    {
      "cell_type": "code",
      "execution_count": 54,
      "metadata": {
        "id": "igBy2Gwb2hn4"
      },
      "outputs": [],
      "source": [
        "import tensorflow as tf"
      ]
    },
    {
      "cell_type": "code",
      "source": [
        "g = tf.Graph()"
      ],
      "metadata": {
        "id": "nGKQVhG22mlq"
      },
      "execution_count": 55,
      "outputs": []
    },
    {
      "cell_type": "code",
      "source": [
        "with g.as_default():\n",
        "  a = tf.constant(1, name='a')\n",
        "  b = tf.constant(2, name='b')\n",
        "  c = tf.constant(3, name='c')\n",
        "  z = 2 * (a-b) + c"
      ],
      "metadata": {
        "id": "isk6ZqvY2oNW"
      },
      "execution_count": 56,
      "outputs": []
    },
    {
      "cell_type": "code",
      "source": [
        "with tf.compat.v1.Session(graph=g) as sess:\n",
        "  print('Result: z = ', sess.run(z))"
      ],
      "metadata": {
        "colab": {
          "base_uri": "https://localhost:8080/"
        },
        "id": "EfLqjf-y202U",
        "outputId": "6b5bbf6c-29ee-43d7-8a87-13e37390fe2d"
      },
      "execution_count": 57,
      "outputs": [
        {
          "output_type": "stream",
          "name": "stdout",
          "text": [
            "Result: z =  1\n"
          ]
        }
      ]
    },
    {
      "cell_type": "code",
      "source": [
        "a = tf.constant(1, name='a')\n",
        "b = tf.constant(2, name='b')\n",
        "c = tf.constant(3, name='c')\n",
        "z = 2*(a-b) + c\n",
        "tf.print('Result: z= ', z)"
      ],
      "metadata": {
        "colab": {
          "base_uri": "https://localhost:8080/"
        },
        "id": "LzZEET9L3e04",
        "outputId": "a46b1203-a792-422c-e3a7-f2ede35c6850"
      },
      "execution_count": 58,
      "outputs": [
        {
          "output_type": "stream",
          "name": "stdout",
          "text": [
            "Result: z=  1\n"
          ]
        }
      ]
    },
    {
      "cell_type": "code",
      "source": [
        "g = tf.Graph()\n",
        "with g.as_default():\n",
        "  a = tf.compat.v1.placeholder(shape=None, dtype=tf.int32, name='tf_a')\n",
        "  b = tf.compat.v1.placeholder(shape=None, dtype=tf.int32, name='tf_b')\n",
        "  c = tf.compat.v1.placeholder(shape=None, dtype=tf.int32, name='tf_c')\n",
        "  z = 2 * (a-b) + c\n",
        "\n",
        "  with tf.compat.v1.Session(graph=g) as sess:\n",
        "    feed_dict = {a:1, b:2, c:3}\n",
        "    print('Result: z = ', sess.run(z, feed_dict=feed_dict))"
      ],
      "metadata": {
        "colab": {
          "base_uri": "https://localhost:8080/"
        },
        "id": "UCYmBmxU3xfg",
        "outputId": "41be76e6-12d3-4705-9b68-2cae1025d240"
      },
      "execution_count": 59,
      "outputs": [
        {
          "output_type": "stream",
          "name": "stdout",
          "text": [
            "Result: z =  1\n"
          ]
        }
      ]
    },
    {
      "cell_type": "code",
      "source": [
        "def compute_z(a,b,c):\n",
        "  r1 = tf.subtract(a,b)\n",
        "  r2 = tf.multiply(2, r1)\n",
        "  z= tf.add(r2, c)\n",
        "  return z\n",
        "  "
      ],
      "metadata": {
        "id": "yLVazLni4Z5a"
      },
      "execution_count": 60,
      "outputs": []
    },
    {
      "cell_type": "code",
      "source": [
        "tf.print('Scaler Inputs: ', compute_z(1,2,3))"
      ],
      "metadata": {
        "colab": {
          "base_uri": "https://localhost:8080/"
        },
        "id": "MntYm9zsRFI5",
        "outputId": "3019f13a-fba5-467a-b0fd-6d3c71da9185"
      },
      "execution_count": 61,
      "outputs": [
        {
          "output_type": "stream",
          "name": "stdout",
          "text": [
            "Scaler Inputs:  1\n"
          ]
        }
      ]
    },
    {
      "cell_type": "code",
      "source": [
        "tf.print('Rank 1 Inputs: ', compute_z([1], [2], [3]))"
      ],
      "metadata": {
        "colab": {
          "base_uri": "https://localhost:8080/"
        },
        "id": "LTqHcYOwRPbb",
        "outputId": "fa7d30a9-dcd6-4fd3-f2bb-611d2d9aa91d"
      },
      "execution_count": 62,
      "outputs": [
        {
          "output_type": "stream",
          "name": "stdout",
          "text": [
            "Rank 1 Inputs:  [1]\n"
          ]
        }
      ]
    },
    {
      "cell_type": "code",
      "source": [
        "tf.print('Rank 2 Inputs: ', compute_z([[1]], [[2]], [[3]]))"
      ],
      "metadata": {
        "colab": {
          "base_uri": "https://localhost:8080/"
        },
        "id": "PpJixrWiRUjB",
        "outputId": "5029fd07-d45c-482b-f858-b893ea589e98"
      },
      "execution_count": 63,
      "outputs": [
        {
          "output_type": "stream",
          "name": "stdout",
          "text": [
            "Rank 2 Inputs:  [[1]]\n"
          ]
        }
      ]
    },
    {
      "cell_type": "code",
      "source": [
        "@tf.function\n",
        "def compute_z(a,b,c):\n",
        "  r1 = tf.subtract(a,b)\n",
        "  r2 = tf.multiply(2, r1)\n",
        "  z= tf.add(r2, c)\n",
        "  return z\n",
        "  "
      ],
      "metadata": {
        "id": "erIx0YebRa0n"
      },
      "execution_count": 64,
      "outputs": []
    },
    {
      "cell_type": "code",
      "source": [
        "tf.print('Scaler Inputs: ', compute_z(1,2,3))"
      ],
      "metadata": {
        "colab": {
          "base_uri": "https://localhost:8080/"
        },
        "id": "R8ul7GCPRx0i",
        "outputId": "c1561e92-9ede-4370-ae7e-5605ddc81f04"
      },
      "execution_count": 65,
      "outputs": [
        {
          "output_type": "stream",
          "name": "stdout",
          "text": [
            "Scaler Inputs:  1\n"
          ]
        }
      ]
    },
    {
      "cell_type": "code",
      "source": [
        "tf.print('Rank 1 Inputs: ', compute_z([1], [2], [3]))"
      ],
      "metadata": {
        "colab": {
          "base_uri": "https://localhost:8080/"
        },
        "id": "sxj7IXznSByJ",
        "outputId": "c0a7347d-f413-4ac9-a606-55deed67bbe5"
      },
      "execution_count": 66,
      "outputs": [
        {
          "output_type": "stream",
          "name": "stdout",
          "text": [
            "Rank 1 Inputs:  [1]\n"
          ]
        }
      ]
    },
    {
      "cell_type": "code",
      "source": [
        "tf.print('Rank 2 Inputs: ', compute_z([[1]], [[2]], [[3]]))"
      ],
      "metadata": {
        "colab": {
          "base_uri": "https://localhost:8080/"
        },
        "id": "XeYa_qrlSDcB",
        "outputId": "05f0457b-b8bd-420b-857d-e245a77d6d04"
      },
      "execution_count": 67,
      "outputs": [
        {
          "output_type": "stream",
          "name": "stdout",
          "text": [
            "Rank 2 Inputs:  [[1]]\n"
          ]
        }
      ]
    },
    {
      "cell_type": "code",
      "source": [
        "@tf.function(input_signature=(tf.TensorSpec(shape=[None], dtype=tf.int32), tf.TensorSpec(shape=[None], dtype=tf.int32), tf.TensorSpec(shape=[None], dtype=tf.int32),))\n",
        "def compute_z(a,b,c):\n",
        "  r1 = tf.subtract(a,b)\n",
        "  r2 = tf.multiply(2, r1)\n",
        "  z= tf.add(r2, c)\n",
        "  return z"
      ],
      "metadata": {
        "id": "v5zzkDt6SEzA"
      },
      "execution_count": 68,
      "outputs": []
    },
    {
      "cell_type": "code",
      "source": [],
      "metadata": {
        "id": "HC9uf5MLSwZT"
      },
      "execution_count": 68,
      "outputs": []
    },
    {
      "cell_type": "code",
      "source": [
        "tf.print('Rank 1 Inputs: ', compute_z([1], [2], [3]))"
      ],
      "metadata": {
        "colab": {
          "base_uri": "https://localhost:8080/"
        },
        "id": "lzoX9uHESx78",
        "outputId": "4694edb5-f54c-4cf1-9ffa-0ca2d9718469"
      },
      "execution_count": 69,
      "outputs": [
        {
          "output_type": "stream",
          "name": "stdout",
          "text": [
            "Rank 1 Inputs:  [1]\n"
          ]
        }
      ]
    },
    {
      "cell_type": "code",
      "source": [
        "tf.print('Rank 1 Inputs: ', compute_z([1,2], [2,4], [3,6]))"
      ],
      "metadata": {
        "colab": {
          "base_uri": "https://localhost:8080/"
        },
        "id": "MqNccfbYS2Dl",
        "outputId": "d3ac12d2-0628-4926-e09a-b705d3b99bdd"
      },
      "execution_count": 70,
      "outputs": [
        {
          "output_type": "stream",
          "name": "stdout",
          "text": [
            "Rank 1 Inputs:  [1 2]\n"
          ]
        }
      ]
    },
    {
      "cell_type": "code",
      "source": [
        "a = tf.Variable(initial_value=3.14, name='var_a')\n",
        "print(a)"
      ],
      "metadata": {
        "colab": {
          "base_uri": "https://localhost:8080/"
        },
        "id": "Grc9_1cQS5U_",
        "outputId": "0cd6450a-9389-4f8e-93ca-432d5bfc5079"
      },
      "execution_count": 71,
      "outputs": [
        {
          "output_type": "stream",
          "name": "stdout",
          "text": [
            "<tf.Variable 'var_a:0' shape=() dtype=float32, numpy=3.14>\n"
          ]
        }
      ]
    },
    {
      "cell_type": "code",
      "source": [
        "b = tf.Variable(initial_value=[1,2,3], name='var_b')\n",
        "print(b)"
      ],
      "metadata": {
        "colab": {
          "base_uri": "https://localhost:8080/"
        },
        "id": "j1x9kaR9TG1a",
        "outputId": "e10ba2fb-d8b6-425f-906d-ae943ea75e11"
      },
      "execution_count": 72,
      "outputs": [
        {
          "output_type": "stream",
          "name": "stdout",
          "text": [
            "<tf.Variable 'var_b:0' shape=(3,) dtype=int32, numpy=array([1, 2, 3], dtype=int32)>\n"
          ]
        }
      ]
    },
    {
      "cell_type": "code",
      "source": [
        "c = tf.Variable(initial_value=[True, False], dtype=tf.bool)\n",
        "print(c)"
      ],
      "metadata": {
        "colab": {
          "base_uri": "https://localhost:8080/"
        },
        "id": "zFGcbZzvTL8A",
        "outputId": "e185f54b-ec9e-4cbb-8c67-d6d476004dca"
      },
      "execution_count": 73,
      "outputs": [
        {
          "output_type": "stream",
          "name": "stdout",
          "text": [
            "<tf.Variable 'Variable:0' shape=(2,) dtype=bool, numpy=array([ True, False])>\n"
          ]
        }
      ]
    },
    {
      "cell_type": "code",
      "source": [
        "d = tf.Variable(initial_value=['abc'], dtype=tf.string)"
      ],
      "metadata": {
        "id": "N-eKtQ0OTSsc"
      },
      "execution_count": 74,
      "outputs": []
    },
    {
      "cell_type": "code",
      "source": [
        "print(d)"
      ],
      "metadata": {
        "colab": {
          "base_uri": "https://localhost:8080/"
        },
        "id": "QjDBExbMTbPJ",
        "outputId": "81f9229d-9ccf-4913-80fd-94aae28e06f9"
      },
      "execution_count": 75,
      "outputs": [
        {
          "output_type": "stream",
          "name": "stdout",
          "text": [
            "<tf.Variable 'Variable:0' shape=(1,) dtype=string, numpy=array([b'abc'], dtype=object)>\n"
          ]
        }
      ]
    },
    {
      "cell_type": "code",
      "source": [
        "w = tf.Variable([1,2,3], trainable=False)\n",
        "print(w.trainable)"
      ],
      "metadata": {
        "colab": {
          "base_uri": "https://localhost:8080/"
        },
        "id": "OG3bEpD2TdCA",
        "outputId": "0f97cc0d-85fd-4a76-fe9f-1060a6948b0f"
      },
      "execution_count": 76,
      "outputs": [
        {
          "output_type": "stream",
          "name": "stdout",
          "text": [
            "False\n"
          ]
        }
      ]
    },
    {
      "cell_type": "code",
      "source": [
        "print(w.assign([3,1,4], read_value=True))"
      ],
      "metadata": {
        "colab": {
          "base_uri": "https://localhost:8080/"
        },
        "id": "mnoMOhc4Tn4k",
        "outputId": "4623f226-e214-43b6-d28c-304bfeb8939c"
      },
      "execution_count": 77,
      "outputs": [
        {
          "output_type": "stream",
          "name": "stdout",
          "text": [
            "<tf.Variable 'UnreadVariable' shape=(3,) dtype=int32, numpy=array([3, 1, 4], dtype=int32)>\n"
          ]
        }
      ]
    },
    {
      "cell_type": "code",
      "source": [
        "w.assign_add([2,-1,2], read_value=False)\n",
        "print(w.value())"
      ],
      "metadata": {
        "colab": {
          "base_uri": "https://localhost:8080/"
        },
        "id": "1IdVpdAyTtv0",
        "outputId": "5bf2d989-2173-4afc-c7ac-f70b0ae9c01c"
      },
      "execution_count": 78,
      "outputs": [
        {
          "output_type": "stream",
          "name": "stdout",
          "text": [
            "tf.Tensor([5 0 6], shape=(3,), dtype=int32)\n"
          ]
        }
      ]
    },
    {
      "cell_type": "code",
      "source": [
        "tf.random.set_seed(1)\n",
        "init = tf.keras.initializers.GlorotNormal()\n",
        "tf.print(init(shape=(3,)))"
      ],
      "metadata": {
        "colab": {
          "base_uri": "https://localhost:8080/"
        },
        "id": "WAlE9AFAT4vs",
        "outputId": "d8840863-bb18-4e45-fa7a-d99ceb0b67b0"
      },
      "execution_count": 79,
      "outputs": [
        {
          "output_type": "stream",
          "name": "stdout",
          "text": [
            "[-0.722795904 1.01456821 0.251808226]\n"
          ]
        }
      ]
    },
    {
      "cell_type": "code",
      "source": [
        "v = tf.Variable(init(shape=(2,3)))\n",
        "tf.print(v)"
      ],
      "metadata": {
        "colab": {
          "base_uri": "https://localhost:8080/"
        },
        "id": "HEWMtaN0URIs",
        "outputId": "1cf86641-635b-4ef5-8d91-7eb514a42e09"
      },
      "execution_count": 80,
      "outputs": [
        {
          "output_type": "stream",
          "name": "stdout",
          "text": [
            "[[0.28982234 -0.782292783 -0.0453658961]\n",
            " [0.960991383 -0.120003454 0.708528221]]\n"
          ]
        }
      ]
    },
    {
      "cell_type": "code",
      "source": [
        "class MyModule(tf.Module):\n",
        "  def __init__(self):\n",
        "    init = tf.keras.initializers.GlorotNormal()\n",
        "    self.w1 = tf.Variable(init(shape=(2,3)), trainable=True)\n",
        "    self.w2 = tf.Variable(init(shape=(1,2)), trainable=False)\n",
        "\n",
        "m = MyModule()\n",
        "print('All module variables: ', [v.shape for v in m.variables])"
      ],
      "metadata": {
        "colab": {
          "base_uri": "https://localhost:8080/"
        },
        "id": "tFL7i8b7UXD7",
        "outputId": "881c9440-bf9b-43a2-8eaa-15011cddf022"
      },
      "execution_count": 81,
      "outputs": [
        {
          "output_type": "stream",
          "name": "stdout",
          "text": [
            "All module variables:  [TensorShape([2, 3]), TensorShape([1, 2])]\n"
          ]
        }
      ]
    },
    {
      "cell_type": "code",
      "source": [
        "print('Trainable variable: ', [v.shape for v in m.trainable_variables])"
      ],
      "metadata": {
        "colab": {
          "base_uri": "https://localhost:8080/"
        },
        "id": "EjgiMZHDVICJ",
        "outputId": "2abc2202-000d-4046-d6ed-b89b9e994a6a"
      },
      "execution_count": 82,
      "outputs": [
        {
          "output_type": "stream",
          "name": "stdout",
          "text": [
            "Trainable variable:  [TensorShape([2, 3])]\n"
          ]
        }
      ]
    },
    {
      "cell_type": "code",
      "source": [
        "tf.random.set_seed(1)\n",
        "\n",
        "w = tf.Variable(tf.random.uniform((3,3)))\n",
        "@tf.function\n",
        "def compute_z(x):\n",
        "  return tf.matmul(w,x)\n",
        "\n",
        "x = tf.Variable([[1], [2], [3]], dtype=tf.float32)\n",
        "tf.print(compute_z(x))"
      ],
      "metadata": {
        "colab": {
          "base_uri": "https://localhost:8080/"
        },
        "id": "dkOLuJbhVPAQ",
        "outputId": "8a3031af-0e89-4379-ac58-b26a6852db61"
      },
      "execution_count": 83,
      "outputs": [
        {
          "output_type": "stream",
          "name": "stdout",
          "text": [
            "[[3.8610158]\n",
            " [2.94593048]\n",
            " [3.82629013]]\n"
          ]
        }
      ]
    },
    {
      "cell_type": "code",
      "source": [
        "w = tf.Variable(1.0)\n",
        "b = tf.Variable(0.5)\n"
      ],
      "metadata": {
        "id": "LUpOrdWPVeqQ"
      },
      "execution_count": 84,
      "outputs": []
    },
    {
      "cell_type": "code",
      "source": [
        "print(w.trainable, b.trainable)\n",
        "\n",
        "x= tf.convert_to_tensor([1.4])\n",
        "y = tf.convert_to_tensor([2.1])\n",
        "with tf.GradientTape() as tape:\n",
        "  z = tf.add(tf.multiply(w, x), b)\n",
        "  loss = tf.reduce_sum(tf.square(y -z ))\n",
        "\n",
        "dloss_dw = tape.gradient(loss, w)\n",
        "tf.print('dL/dw:', dloss_dw)"
      ],
      "metadata": {
        "colab": {
          "base_uri": "https://localhost:8080/"
        },
        "id": "oyLjT1yW60SB",
        "outputId": "11bcb565-953b-4e2c-ee3a-cf7012442263"
      },
      "execution_count": 85,
      "outputs": [
        {
          "output_type": "stream",
          "name": "stdout",
          "text": [
            "True True\n",
            "dL/dw: -0.559999764\n"
          ]
        }
      ]
    },
    {
      "cell_type": "code",
      "source": [
        "tf.print(2*x*(w*x+b-y))"
      ],
      "metadata": {
        "colab": {
          "base_uri": "https://localhost:8080/"
        },
        "id": "al8wgtAp7iRZ",
        "outputId": "448e5bed-2dd5-469f-e494-52748540c9dc"
      },
      "execution_count": 86,
      "outputs": [
        {
          "output_type": "stream",
          "name": "stdout",
          "text": [
            "[-0.559999764]\n"
          ]
        }
      ]
    },
    {
      "cell_type": "code",
      "source": [
        "with tf.GradientTape() as tape:\n",
        "  tape.watch(x)\n",
        "  z = tf.add(tf.multiply(w, x), b)\n",
        "  loss = tf.reduce_sum(tf.square(y- z))\n",
        "\n",
        "dloss_dx = tape.gradient(loss, x)\n",
        "tf.print('dL/dx:', dloss_dx)"
      ],
      "metadata": {
        "colab": {
          "base_uri": "https://localhost:8080/"
        },
        "id": "hIx54AEe8bQz",
        "outputId": "a2a19ce2-c0bf-49cf-d042-5c477f413ded"
      },
      "execution_count": 87,
      "outputs": [
        {
          "output_type": "stream",
          "name": "stdout",
          "text": [
            "dL/dx: [-0.399999857]\n"
          ]
        }
      ]
    },
    {
      "cell_type": "code",
      "source": [
        "with tf.GradientTape(persistent=True) as tape:\n",
        "  z = tf.add(tf.multiply(w,x), b)\n",
        "  loss = tf.reduce_sum(tf.square(y - z))\n",
        "\n",
        "  dloss_dw = tape.gradient(loss, w)\n",
        "  tf.print('dL/dw:', dloss_dw)\n",
        "\n",
        "  dloss_db = tape.gradient(loss, b)\n",
        "  tf.print('dL/db:', dloss_db)"
      ],
      "metadata": {
        "colab": {
          "base_uri": "https://localhost:8080/"
        },
        "id": "0MPZNoym9U52",
        "outputId": "3fe55c61-550c-40c0-8080-f2c063eca43d"
      },
      "execution_count": 88,
      "outputs": [
        {
          "output_type": "stream",
          "name": "stderr",
          "text": [
            "WARNING:tensorflow:Calling GradientTape.gradient on a persistent tape inside its context is significantly less efficient than calling it outside the context (it causes the gradient ops to be recorded on the tape, leading to increased CPU and memory usage). Only call GradientTape.gradient inside the context if you actually want to trace the gradient in order to compute higher order derivatives.\n"
          ]
        },
        {
          "output_type": "stream",
          "name": "stdout",
          "text": [
            "dL/dw: -0.559999764\n"
          ]
        },
        {
          "output_type": "stream",
          "name": "stderr",
          "text": [
            "WARNING:tensorflow:Calling GradientTape.gradient on a persistent tape inside its context is significantly less efficient than calling it outside the context (it causes the gradient ops to be recorded on the tape, leading to increased CPU and memory usage). Only call GradientTape.gradient inside the context if you actually want to trace the gradient in order to compute higher order derivatives.\n"
          ]
        },
        {
          "output_type": "stream",
          "name": "stdout",
          "text": [
            "dL/db: -0.399999857\n"
          ]
        }
      ]
    },
    {
      "cell_type": "code",
      "source": [
        "optimizer = tf.keras.optimizers.SGD()\n",
        "optimizer.apply_gradients(zip([dloss_dw, dloss_db], [w,b]))\n",
        "tf.print('Updated w: ', w)\n",
        "tf.print('Updated b:', b)\n",
        "tf.print(dloss_dw)\n",
        "tf.print(dloss_db)"
      ],
      "metadata": {
        "colab": {
          "base_uri": "https://localhost:8080/"
        },
        "id": "SUPR6sEY-EU0",
        "outputId": "b6b001ba-79c9-487f-b70b-a41e16d576e6"
      },
      "execution_count": 89,
      "outputs": [
        {
          "output_type": "stream",
          "name": "stdout",
          "text": [
            "Updated w:  1.0056\n",
            "Updated b: 0.504\n",
            "-0.559999764\n",
            "-0.399999857\n"
          ]
        }
      ]
    },
    {
      "cell_type": "code",
      "source": [
        "model = tf.keras.Sequential()\n",
        "model.add(tf.keras.layers.Dense(units=16, activation='relu'))\n",
        "model.add(tf.keras.layers.Dense(units=32, activation='relu'))\n",
        "model.build(input_shape=(None, 4))\n",
        "model.summary()"
      ],
      "metadata": {
        "colab": {
          "base_uri": "https://localhost:8080/"
        },
        "id": "-x7uU6Oz-l0n",
        "outputId": "6ef79258-7553-424a-e7a0-17428a46d53f"
      },
      "execution_count": 90,
      "outputs": [
        {
          "output_type": "stream",
          "name": "stdout",
          "text": [
            "Model: \"sequential_3\"\n",
            "_________________________________________________________________\n",
            " Layer (type)                Output Shape              Param #   \n",
            "=================================================================\n",
            " dense_5 (Dense)             (None, 16)                80        \n",
            "                                                                 \n",
            " dense_6 (Dense)             (None, 32)                544       \n",
            "                                                                 \n",
            "=================================================================\n",
            "Total params: 624\n",
            "Trainable params: 624\n",
            "Non-trainable params: 0\n",
            "_________________________________________________________________\n"
          ]
        }
      ]
    },
    {
      "cell_type": "code",
      "source": [
        "for v in model.variables:\n",
        "  print('{:20s}'.format(v.name), v.trainable, v.shape)"
      ],
      "metadata": {
        "colab": {
          "base_uri": "https://localhost:8080/"
        },
        "id": "ZWB8qtt1CT5t",
        "outputId": "ec6c7cc1-d8ee-4c2f-e1c9-8bc89a01b696"
      },
      "execution_count": 91,
      "outputs": [
        {
          "output_type": "stream",
          "name": "stdout",
          "text": [
            "dense_5/kernel:0     True (4, 16)\n",
            "dense_5/bias:0       True (16,)\n",
            "dense_6/kernel:0     True (16, 32)\n",
            "dense_6/bias:0       True (32,)\n"
          ]
        }
      ]
    },
    {
      "cell_type": "code",
      "source": [
        "model = tf.keras.Sequential()\n",
        "model.add(tf.keras.layers.Dense(units=16, activation=tf.keras.activations.relu, kernel_initializer=tf.keras.initializers.glorot_uniform(), \n",
        "                                bias_initializer=tf.keras.initializers.Constant(2.0)))\n",
        "model.add(tf.keras.layers.Dense(units=32, activation=tf.keras.activations.sigmoid, kernel_regularizer=tf.keras.regularizers.l1))"
      ],
      "metadata": {
        "id": "WaeN6WSBHtro"
      },
      "execution_count": 92,
      "outputs": []
    },
    {
      "cell_type": "code",
      "source": [
        "model.compile(optimizer=tf.keras.optimizers.SGD(learning_rate=0.001), loss=tf.keras.losses.BinaryCrossentropy(), metrics=[tf.keras.metrics.Accuracy(), tf.keras.metrics.Precision(), tf.keras.metrics.Recall()])"
      ],
      "metadata": {
        "id": "aRx7r0Q_Il6y"
      },
      "execution_count": 93,
      "outputs": []
    },
    {
      "cell_type": "code",
      "source": [
        "import numpy as np\n",
        "import matplotlib.pyplot as plt\n",
        "tf.random.set_seed(1)\n",
        "np.random.seed(1)\n",
        "x = np.random.uniform(low=-1, high=1, size=(200,2))\n",
        "y = np.ones(len(x))\n",
        "y[x[:, 0] * x[:, 1]<0] = 0\n",
        "x_train = x[:100, :]\n",
        "y_train = y[:100]\n",
        "x_valid = x[100:, :]\n",
        "y_valid = y[100:]\n",
        "fig = plt.figure(figsize=(6,6))\n",
        "plt.plot(x[y==0, 0], x[y==0, 1], 'o', alpha=0.75, markersize=10)\n",
        "plt.plot(x[y==1, 0], x[y==1, 1], '<', alpha=0.75, markersize=10)\n",
        "plt.xlabel(r'$x_1$', size=15)\n",
        "plt.ylabel(r'$x_2$', size=15)\n",
        "plt.show()"
      ],
      "metadata": {
        "colab": {
          "base_uri": "https://localhost:8080/",
          "height": 394
        },
        "id": "pyblDCD6VCK8",
        "outputId": "39edcbbe-e328-4607-b878-e41e02dc6f9b"
      },
      "execution_count": 94,
      "outputs": [
        {
          "output_type": "display_data",
          "data": {
            "text/plain": [
              "<Figure size 432x432 with 1 Axes>"
            ],
            "image/png": "[encoded data removed]"
          },
          "metadata": {
            "needs_background": "light"
          }
        }
      ]
    },
    {
      "cell_type": "code",
      "source": [
        "model = tf.keras.Sequential()\n",
        "model.add(tf.keras.layers.Dense(units=1, input_shape=(2,), activation='sigmoid'))\n",
        "model.summary()"
      ],
      "metadata": {
        "colab": {
          "base_uri": "https://localhost:8080/"
        },
        "id": "X2eBFfaSWPrX",
        "outputId": "08e00e14-6eb5-4af3-fd6a-8570bbae11e6"
      },
      "execution_count": 95,
      "outputs": [
        {
          "output_type": "stream",
          "name": "stdout",
          "text": [
            "Model: \"sequential_5\"\n",
            "_________________________________________________________________\n",
            " Layer (type)                Output Shape              Param #   \n",
            "=================================================================\n",
            " dense_9 (Dense)             (None, 1)                 3         \n",
            "                                                                 \n",
            "=================================================================\n",
            "Total params: 3\n",
            "Trainable params: 3\n",
            "Non-trainable params: 0\n",
            "_________________________________________________________________\n"
          ]
        }
      ]
    },
    {
      "cell_type": "code",
      "source": [
        "model.compile(optimizer=tf.keras.optimizers.SGD(), loss=tf.keras.losses.BinaryCrossentropy(), metrics=[tf.keras.metrics.BinaryAccuracy()])\n",
        "hist = model.fit(x_train, y_train, validation_data = (x_valid, y_valid), epochs=200, batch_size=2, verbose=0)"
      ],
      "metadata": {
        "id": "uYqqEbYiWluS"
      },
      "execution_count": 96,
      "outputs": []
    },
    {
      "cell_type": "code",
      "source": [
        "!pip install mlxtend"
      ],
      "metadata": {
        "colab": {
          "base_uri": "https://localhost:8080/"
        },
        "id": "UjSxEK3CXKvo",
        "outputId": "6140b030-b6fc-404f-b508-0a3ad6581412"
      },
      "execution_count": 97,
      "outputs": [
        {
          "output_type": "stream",
          "name": "stdout",
          "text": [
            "Looking in indexes: https://pypi.org/simple, https://us-python.pkg.dev/colab-wheels/public/simple/\n",
            "Requirement already satisfied: mlxtend in /usr/local/lib/python3.7/dist-packages (0.14.0)\n",
            "Requirement already satisfied: matplotlib>=1.5.1 in /usr/local/lib/python3.7/dist-packages (from mlxtend) (3.2.2)\n",
            "Requirement already satisfied: scipy>=0.17 in /usr/local/lib/python3.7/dist-packages (from mlxtend) (1.7.3)\n",
            "Requirement already satisfied: pandas>=0.17.1 in /usr/local/lib/python3.7/dist-packages (from mlxtend) (1.3.5)\n",
            "Requirement already satisfied: setuptools in /usr/local/lib/python3.7/dist-packages (from mlxtend) (57.4.0)\n",
            "Requirement already satisfied: numpy>=1.10.4 in /usr/local/lib/python3.7/dist-packages (from mlxtend) (1.21.6)\n",
            "Requirement already satisfied: scikit-learn>=0.18 in /usr/local/lib/python3.7/dist-packages (from mlxtend) (1.0.2)\n",
            "Requirement already satisfied: kiwisolver>=1.0.1 in /usr/local/lib/python3.7/dist-packages (from matplotlib>=1.5.1->mlxtend) (1.4.4)\n",
            "Requirement already satisfied: python-dateutil>=2.1 in /usr/local/lib/python3.7/dist-packages (from matplotlib>=1.5.1->mlxtend) (2.8.2)\n",
            "Requirement already satisfied: cycler>=0.10 in /usr/local/lib/python3.7/dist-packages (from matplotlib>=1.5.1->mlxtend) (0.11.0)\n",
            "Requirement already satisfied: pyparsing!=2.0.4,!=2.1.2,!=2.1.6,>=2.0.1 in /usr/local/lib/python3.7/dist-packages (from matplotlib>=1.5.1->mlxtend) (3.0.9)\n",
            "Requirement already satisfied: typing-extensions in /usr/local/lib/python3.7/dist-packages (from kiwisolver>=1.0.1->matplotlib>=1.5.1->mlxtend) (4.1.1)\n",
            "Requirement already satisfied: pytz>=2017.3 in /usr/local/lib/python3.7/dist-packages (from pandas>=0.17.1->mlxtend) (2022.2.1)\n",
            "Requirement already satisfied: six>=1.5 in /usr/local/lib/python3.7/dist-packages (from python-dateutil>=2.1->matplotlib>=1.5.1->mlxtend) (1.15.0)\n",
            "Requirement already satisfied: threadpoolctl>=2.0.0 in /usr/local/lib/python3.7/dist-packages (from scikit-learn>=0.18->mlxtend) (3.1.0)\n",
            "Requirement already satisfied: joblib>=0.11 in /usr/local/lib/python3.7/dist-packages (from scikit-learn>=0.18->mlxtend) (1.1.0)\n"
          ]
        }
      ]
    },
    {
      "cell_type": "code",
      "source": [
        "from mlxtend.plotting import plot_decision_regions\n",
        "history = hist.history\n",
        "fig = plt.figure(figsize=(16,4))\n",
        "ax = fig.add_subplot(1,3,1)\n",
        "plt.plot(history['loss'], lw=4)\n",
        "plt.plot(history['val_loss'], lw=4)\n",
        "plt.legend(['Train loss', 'Validation loss'], fontsize=15)\n",
        "ax.set_xlabel('Epochs', size=15)\n",
        "ax = fig.add_subplot(1,3,2)\n",
        "plt.plot(history['binary_accuracy'], lw=4)\n",
        "plt.plot(history['val_binary_accuracy'], lw=4)\n",
        "plt.legend(['Train Acc.', 'Validation Acc.'], fontsize=15)\n",
        "ax.set_xlabel('Epochs', size=15)\n",
        "ax = fig.add_subplot(1,3,3)\n",
        "plot_decision_regions(X=x_valid, y=y_valid.astype(np.integer), clf=model)\n",
        "ax.set_xlabel(r'$x_1$', size=15)\n",
        "ax.xaxis.set_label_coords(1, -0.025)\n",
        "ax.set_ylabel(r'$x_2$', size=15)\n",
        "ax.yaxis.set_label_coords(-0.025, 1)\n",
        "plt.show()"
      ],
      "metadata": {
        "colab": {
          "base_uri": "https://localhost:8080/",
          "height": 384
        },
        "id": "K16neHWfXVPO",
        "outputId": "81201731-9b38-48aa-e199-06e231bc8024"
      },
      "execution_count": 98,
      "outputs": [
        {
          "output_type": "stream",
          "name": "stderr",
          "text": [
            "/usr/local/lib/python3.7/dist-packages/ipykernel_launcher.py:15: DeprecationWarning: Converting `np.integer` or `np.signedinteger` to a dtype is deprecated. The current result is `np.dtype(np.int_)` which is not strictly correct. Note that the result depends on the system. To ensure stable results use may want to use `np.int64` or `np.int32`.\n",
            "  from ipykernel import kernelapp as app\n",
            "/usr/local/lib/python3.7/dist-packages/mlxtend/plotting/decision_regions.py:244: MatplotlibDeprecationWarning: Passing unsupported keyword arguments to axis() will raise a TypeError in 3.3.\n",
            "  ax.axis(xmin=xx.min(), xmax=xx.max(), y_min=yy.min(), y_max=yy.max())\n"
          ]
        },
        {
          "output_type": "display_data",
          "data": {
            "text/plain": [
              "<Figure size 1152x288 with 3 Axes>"
            ],
            "image/png": "[encoded data removed]"
          },
          "metadata": {
            "needs_background": "light"
          }
        }
      ]
    },
    {
      "cell_type": "code",
      "source": [
        "tf.random.set_seed(1)\n",
        "model = tf.keras.Sequential()\n",
        "model.add(tf.keras.layers.Dense(units=4, input_shape=(2,), activation='relu'))\n",
        "model.add(tf.keras.layers.Dense(units=4, activation='relu'))\n",
        "model.add(tf.keras.layers.Dense(units=4, activation='relu'))\n",
        "model.add(tf.keras.layers.Dense(units=1, activation='sigmoid'))\n",
        "model.summary()"
      ],
      "metadata": {
        "colab": {
          "base_uri": "https://localhost:8080/"
        },
        "id": "1mIBOTRwYi-l",
        "outputId": "c3b928ea-f88f-4526-d546-75a1c288d01c"
      },
      "execution_count": 101,
      "outputs": [
        {
          "output_type": "stream",
          "name": "stdout",
          "text": [
            "Model: \"sequential_8\"\n",
            "_________________________________________________________________\n",
            " Layer (type)                Output Shape              Param #   \n",
            "=================================================================\n",
            " dense_18 (Dense)            (None, 4)                 12        \n",
            "                                                                 \n",
            " dense_19 (Dense)            (None, 4)                 20        \n",
            "                                                                 \n",
            " dense_20 (Dense)            (None, 4)                 20        \n",
            "                                                                 \n",
            " dense_21 (Dense)            (None, 1)                 5         \n",
            "                                                                 \n",
            "=================================================================\n",
            "Total params: 57\n",
            "Trainable params: 57\n",
            "Non-trainable params: 0\n",
            "_________________________________________________________________\n"
          ]
        }
      ]
    },
    {
      "cell_type": "code",
      "source": [
        "model.compile(optimizer=tf.keras.optimizers.SGD(), loss=tf.keras.losses.BinaryCrossentropy(), metrics=[tf.keras.metrics.BinaryAccuracy()])\n",
        "hist = model.fit(x_train, y_train, validation_data = (x_valid, y_valid), epochs=200, batch_size=2, verbose=0)"
      ],
      "metadata": {
        "id": "UzipBbLSvXqy"
      },
      "execution_count": 102,
      "outputs": []
    },
    {
      "cell_type": "code",
      "source": [
        "from mlxtend.plotting import plot_decision_regions\n",
        "history = hist.history\n",
        "fig = plt.figure(figsize=(16,4))\n",
        "ax = fig.add_subplot(1,3,1)\n",
        "plt.plot(history['loss'], lw=4)\n",
        "plt.plot(history['val_loss'], lw=4)\n",
        "plt.legend(['Train loss', 'Validation loss'], fontsize=15)\n",
        "ax.set_xlabel('Epochs', size=15)\n",
        "ax = fig.add_subplot(1,3,2)\n",
        "plt.plot(history['binary_accuracy'], lw=4)\n",
        "plt.plot(history['val_binary_accuracy'], lw=4)\n",
        "plt.legend(['Train Acc.', 'Validation Acc.'], fontsize=15)\n",
        "ax.set_xlabel('Epochs', size=15)\n",
        "ax = fig.add_subplot(1,3,3)\n",
        "plot_decision_regions(X=x_valid, y=y_valid.astype(np.integer), clf=model)\n",
        "ax.set_xlabel(r'$x_1$', size=15)\n",
        "ax.xaxis.set_label_coords(1, -0.025)\n",
        "ax.set_ylabel(r'$x_2$', size=15)\n",
        "ax.yaxis.set_label_coords(-0.025, 1)\n",
        "plt.show()"
      ],
      "metadata": {
        "colab": {
          "base_uri": "https://localhost:8080/",
          "height": 384
        },
        "id": "LJo4QeZ1v3g6",
        "outputId": "9d6c175c-be0c-41a0-d419-dae34be80629"
      },
      "execution_count": 103,
      "outputs": [
        {
          "output_type": "stream",
          "name": "stderr",
          "text": [
            "/usr/local/lib/python3.7/dist-packages/ipykernel_launcher.py:15: DeprecationWarning: Converting `np.integer` or `np.signedinteger` to a dtype is deprecated. The current result is `np.dtype(np.int_)` which is not strictly correct. Note that the result depends on the system. To ensure stable results use may want to use `np.int64` or `np.int32`.\n",
            "  from ipykernel import kernelapp as app\n",
            "/usr/local/lib/python3.7/dist-packages/mlxtend/plotting/decision_regions.py:244: MatplotlibDeprecationWarning: Passing unsupported keyword arguments to axis() will raise a TypeError in 3.3.\n",
            "  ax.axis(xmin=xx.min(), xmax=xx.max(), y_min=yy.min(), y_max=yy.max())\n"
          ]
        },
        {
          "output_type": "display_data",
          "data": {
            "text/plain": [
              "<Figure size 1152x288 with 3 Axes>"
            ],
            "image/png": "[encoded data removed]"
          },
          "metadata": {
            "needs_background": "light"
          }
        }
      ]
    },
    {
      "cell_type": "code",
      "source": [
        "tf.random.set_seed(1)\n",
        "inputs = tf.keras.Input(shape=(2,))\n",
        "h1 = tf.keras.layers.Dense(units=4, activation='relu')(inputs)\n",
        "h2 = tf.keras.layers.Dense(units=4, activation='relu')(h1)\n",
        "h3 = tf.keras.layers.Dense(units=4, activation='relu')(h2)\n",
        "outputs= tf.keras.layers.Dense(units=1, activation='sigmoid')(h3)\n",
        "model = tf.keras.Model(inputs=inputs, outputs=outputs) \n",
        "model.summary()                                             "
      ],
      "metadata": {
        "colab": {
          "base_uri": "https://localhost:8080/"
        },
        "id": "DMAj_KhWwFAo",
        "outputId": "bd92f362-20a3-49b5-b185-00c772ae3abf"
      },
      "execution_count": 105,
      "outputs": [
        {
          "output_type": "stream",
          "name": "stdout",
          "text": [
            "Model: \"model\"\n",
            "_________________________________________________________________\n",
            " Layer (type)                Output Shape              Param #   \n",
            "=================================================================\n",
            " input_1 (InputLayer)        [(None, 2)]               0         \n",
            "                                                                 \n",
            " dense_22 (Dense)            (None, 4)                 12        \n",
            "                                                                 \n",
            " dense_23 (Dense)            (None, 4)                 20        \n",
            "                                                                 \n",
            " dense_24 (Dense)            (None, 4)                 20        \n",
            "                                                                 \n",
            " dense_25 (Dense)            (None, 1)                 5         \n",
            "                                                                 \n",
            "=================================================================\n",
            "Total params: 57\n",
            "Trainable params: 57\n",
            "Non-trainable params: 0\n",
            "_________________________________________________________________\n"
          ]
        }
      ]
    },
    {
      "cell_type": "code",
      "source": [
        "model.compile(optimizer=tf.keras.optimizers.SGD(), loss=tf.keras.losses.BinaryCrossentropy(), metrics = [tf.keras.metrics.BinaryAccuracy()])\n",
        "hist = model.fit(x_train ,y_train, validation_data=(x_valid, y_valid), epochs=200, batch_size=2, verbose=0)"
      ],
      "metadata": {
        "id": "WCki6tfUxBBb"
      },
      "execution_count": 106,
      "outputs": []
    },
    {
      "cell_type": "code",
      "source": [
        "from mlxtend.plotting import plot_decision_regions\n",
        "history = hist.history\n",
        "fig = plt.figure(figsize=(16,4))\n",
        "ax = fig.add_subplot(1,3,1)\n",
        "plt.plot(history['loss'], lw=4)\n",
        "plt.plot(history['val_loss'], lw=4)\n",
        "plt.legend(['Train loss', 'Validation loss'], fontsize=15)\n",
        "ax.set_xlabel('Epochs', size=15)\n",
        "ax = fig.add_subplot(1,3,2)\n",
        "plt.plot(history['binary_accuracy'], lw=4)\n",
        "plt.plot(history['val_binary_accuracy'], lw=4)\n",
        "plt.legend(['Train Acc.', 'Validation Acc.'], fontsize=15)\n",
        "ax.set_xlabel('Epochs', size=15)\n",
        "ax = fig.add_subplot(1,3,3)\n",
        "plot_decision_regions(X=x_valid, y=y_valid.astype(np.integer), clf=model)\n",
        "ax.set_xlabel(r'$x_1$', size=15)\n",
        "ax.xaxis.set_label_coords(1, -0.025)\n",
        "ax.set_ylabel(r'$x_2$', size=15)\n",
        "ax.yaxis.set_label_coords(-0.025, 1)\n",
        "plt.show()"
      ],
      "metadata": {
        "colab": {
          "base_uri": "https://localhost:8080/",
          "height": 384
        },
        "id": "A___0ROuxo2m",
        "outputId": "32ddb72a-05b0-408a-d22f-655decca7ad1"
      },
      "execution_count": 107,
      "outputs": [
        {
          "output_type": "stream",
          "name": "stderr",
          "text": [
            "/usr/local/lib/python3.7/dist-packages/ipykernel_launcher.py:15: DeprecationWarning: Converting `np.integer` or `np.signedinteger` to a dtype is deprecated. The current result is `np.dtype(np.int_)` which is not strictly correct. Note that the result depends on the system. To ensure stable results use may want to use `np.int64` or `np.int32`.\n",
            "  from ipykernel import kernelapp as app\n",
            "/usr/local/lib/python3.7/dist-packages/mlxtend/plotting/decision_regions.py:244: MatplotlibDeprecationWarning: Passing unsupported keyword arguments to axis() will raise a TypeError in 3.3.\n",
            "  ax.axis(xmin=xx.min(), xmax=xx.max(), y_min=yy.min(), y_max=yy.max())\n"
          ]
        },
        {
          "output_type": "display_data",
          "data": {
            "text/plain": [
              "<Figure size 1152x288 with 3 Axes>"
            ],
            "image/png": "[encoded data removed]"
          },
          "metadata": {
            "needs_background": "light"
          }
        }
      ]
    },
    {
      "cell_type": "code",
      "source": [
        "class MyModel(tf.keras.Model):\n",
        "  def __init__(self):\n",
        "    super(MyModel, self).__init__()\n",
        "    self.hidden_1 = tf.keras.layers.Dense(units=4, activation='relu')\n",
        "    self.hidden_2 = tf.keras.layers.Dense(units=4, activation='relu')\n",
        "    self.hidden_3 = tf.keras.layers.Dense(units=4, activation='relu')\n",
        "    self.output_layer = tf.keras.layers.Dense(units=1, activation='sigmoid')\n",
        "\n",
        "  def call(self, inputs):\n",
        "    h = self.hidden_1(inputs)\n",
        "    h = self.hidden_2(h)\n",
        "    h = self.hidden_3(h)\n",
        "    return self.output_layer(h)"
      ],
      "metadata": {
        "id": "NNNiaIbYx2-8"
      },
      "execution_count": 112,
      "outputs": []
    },
    {
      "cell_type": "code",
      "source": [
        "tf.random.set_seed(1)\n",
        "model = MyModel()\n",
        "model.build(input_shape=(None,2))\n",
        "model.summary()"
      ],
      "metadata": {
        "colab": {
          "base_uri": "https://localhost:8080/"
        },
        "id": "MMkWOiNXya6v",
        "outputId": "1cde6d05-973c-4b62-affd-fc267f1fe63e"
      },
      "execution_count": 113,
      "outputs": [
        {
          "output_type": "stream",
          "name": "stdout",
          "text": [
            "Model: \"my_model_1\"\n",
            "_________________________________________________________________\n",
            " Layer (type)                Output Shape              Param #   \n",
            "=================================================================\n",
            " dense_30 (Dense)            multiple                  12        \n",
            "                                                                 \n",
            " dense_31 (Dense)            multiple                  20        \n",
            "                                                                 \n",
            " dense_32 (Dense)            multiple                  20        \n",
            "                                                                 \n",
            " dense_33 (Dense)            multiple                  5         \n",
            "                                                                 \n",
            "=================================================================\n",
            "Total params: 57\n",
            "Trainable params: 57\n",
            "Non-trainable params: 0\n",
            "_________________________________________________________________\n"
          ]
        }
      ]
    },
    {
      "cell_type": "code",
      "source": [
        "model.compile(optimizer=tf.keras.optimizers.SGD(), loss=tf.keras.losses.BinaryCrossentropy(), metrics=[tf.keras.metrics.BinaryAccuracy()])\n",
        "hist = model.fit(x_train, y_train, validation_data=(x_valid, y_valid), epochs=200, batch_size=2, verbose=0)"
      ],
      "metadata": {
        "id": "ofXJRLx_ylkp"
      },
      "execution_count": 114,
      "outputs": []
    },
    {
      "cell_type": "code",
      "source": [
        "from mlxtend.plotting import plot_decision_regions\n",
        "history = hist.history\n",
        "fig = plt.figure(figsize=(16,4))\n",
        "ax = fig.add_subplot(1,3,1)\n",
        "plt.plot(history['loss'], lw=4)\n",
        "plt.plot(history['val_loss'], lw=4)\n",
        "plt.legend(['Train loss', 'Validation loss'], fontsize=15)\n",
        "ax.set_xlabel('Epochs', size=15)\n",
        "ax = fig.add_subplot(1,3,2)\n",
        "plt.plot(history['binary_accuracy'], lw=4)\n",
        "plt.plot(history['val_binary_accuracy'], lw=4)\n",
        "plt.legend(['Train Acc.', 'Validation Acc.'], fontsize=15)\n",
        "ax.set_xlabel('Epochs', size=15)\n",
        "ax = fig.add_subplot(1,3,3)\n",
        "plot_decision_regions(X=x_valid, y=y_valid.astype(np.integer), clf=model)\n",
        "ax.set_xlabel(r'$x_1$', size=15)\n",
        "ax.xaxis.set_label_coords(1, -0.025)\n",
        "ax.set_ylabel(r'$x_2$', size=15)\n",
        "ax.yaxis.set_label_coords(-0.025, 1)\n",
        "plt.show()"
      ],
      "metadata": {
        "colab": {
          "base_uri": "https://localhost:8080/",
          "height": 384
        },
        "id": "2warOZRxzE-D",
        "outputId": "f3683213-2b00-4956-db8a-d605ec9afae0"
      },
      "execution_count": 116,
      "outputs": [
        {
          "output_type": "stream",
          "name": "stderr",
          "text": [
            "/usr/local/lib/python3.7/dist-packages/ipykernel_launcher.py:15: DeprecationWarning: Converting `np.integer` or `np.signedinteger` to a dtype is deprecated. The current result is `np.dtype(np.int_)` which is not strictly correct. Note that the result depends on the system. To ensure stable results use may want to use `np.int64` or `np.int32`.\n",
            "  from ipykernel import kernelapp as app\n",
            "/usr/local/lib/python3.7/dist-packages/mlxtend/plotting/decision_regions.py:244: MatplotlibDeprecationWarning: Passing unsupported keyword arguments to axis() will raise a TypeError in 3.3.\n",
            "  ax.axis(xmin=xx.min(), xmax=xx.max(), y_min=yy.min(), y_max=yy.max())\n"
          ]
        },
        {
          "output_type": "display_data",
          "data": {
            "text/plain": [
              "<Figure size 1152x288 with 3 Axes>"
            ],
            "image/png": "[encoded data removed]"
          },
          "metadata": {
            "needs_background": "light"
          }
        }
      ]
    },
    {
      "cell_type": "code",
      "source": [
        "class NoisyLinear(tf.keras.layers.Layer):\n",
        "  def __init__(self, output_dim, noise_stddev=0.1, **kwargs):\n",
        "    self.output_dim = output_dim\n",
        "    self.noise_stddev = noise_stddev\n",
        "    super(NoisyLinear, self).__init__(**kwargs)\n",
        "\n",
        "  def build(self, input_shape):\n",
        "    self.w_ = "
      ],
      "metadata": {
        "id": "ARPaip12zR2-"
      },
      "execution_count": null,
      "outputs": []
    }
  ]
}
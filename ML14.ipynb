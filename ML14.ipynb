{
  "nbformat": 4,
  "nbformat_minor": 0,
  "metadata": {
    "colab": {
      "provenance": [],
      "collapsed_sections": [],
      "authorship_tag": "ABX9TyN2hkaY2xhVO53vuzCMEoDP",
      "include_colab_link": true
    },
    "kernelspec": {
      "name": "python3",
      "display_name": "Python 3"
    },
    "language_info": {
      "name": "python"
    }
  },
  "cells": [
    {
      "cell_type": "markdown",
      "metadata": {
        "id": "view-in-github",
        "colab_type": "text"
      },
      "source": [
        "<a href=\"https://colab.research.google.com/github/janShi1105/science/blob/main/ML14.ipynb\" target=\"_parent\"><img src=\"https://colab.research.google.com/assets/colab-badge.svg\" alt=\"Open In Colab\"/></a>"
      ]
    },
    {
      "cell_type": "code",
      "execution_count": 1,
      "metadata": {
        "id": "igBy2Gwb2hn4"
      },
      "outputs": [],
      "source": [
        "import tensorflow as tf"
      ]
    },
    {
      "cell_type": "code",
      "source": [
        "g = tf.Graph()"
      ],
      "metadata": {
        "id": "nGKQVhG22mlq"
      },
      "execution_count": 2,
      "outputs": []
    },
    {
      "cell_type": "code",
      "source": [
        "with g.as_default():\n",
        "  a = tf.constant(1, name='a')\n",
        "  b = tf.constant(2, name='b')\n",
        "  c = tf.constant(3, name='c')\n",
        "  z = 2 * (a-b) + c"
      ],
      "metadata": {
        "id": "isk6ZqvY2oNW"
      },
      "execution_count": 3,
      "outputs": []
    },
    {
      "cell_type": "code",
      "source": [
        "with tf.compat.v1.Session(graph=g) as sess:\n",
        "  print('Result: z = ', sess.run(z))"
      ],
      "metadata": {
        "colab": {
          "base_uri": "https://localhost:8080/"
        },
        "id": "EfLqjf-y202U",
        "outputId": "df872086-b41e-43b1-e7d0-61c92775554d"
      },
      "execution_count": 4,
      "outputs": [
        {
          "output_type": "stream",
          "name": "stdout",
          "text": [
            "Result: z =  1\n"
          ]
        }
      ]
    },
    {
      "cell_type": "code",
      "source": [
        "a = tf.constant(1, name='a')\n",
        "b = tf.constant(2, name='b')\n",
        "c = tf.constant(3, name='c')\n",
        "z = 2*(a-b) + c\n",
        "tf.print('Result: z= ', z)"
      ],
      "metadata": {
        "colab": {
          "base_uri": "https://localhost:8080/"
        },
        "id": "LzZEET9L3e04",
        "outputId": "5fbe2463-5e52-4f99-9742-1beb9eb4add5"
      },
      "execution_count": 5,
      "outputs": [
        {
          "output_type": "stream",
          "name": "stdout",
          "text": [
            "Result: z=  1\n"
          ]
        }
      ]
    },
    {
      "cell_type": "code",
      "source": [
        "g = tf.Graph()\n",
        "with g.as_default():\n",
        "  a = tf.compat.v1.placeholder(shape=None, dtype=tf.int32, name='tf_a')\n",
        "  b = tf.compat.v1.placeholder(shape=None, dtype=tf.int32, name='tf_b')\n",
        "  c = tf.compat.v1.placeholder(shape=None, dtype=tf.int32, name='tf_c')\n",
        "  z = 2 * (a-b) + c\n",
        "\n",
        "  with tf.compat.v1.Session(graph=g) as sess:\n",
        "    feed_dict = {a:1, b:2, c:3}\n",
        "    print('Result: z = ', sess.run(z, feed_dict=feed_dict))"
      ],
      "metadata": {
        "colab": {
          "base_uri": "https://localhost:8080/"
        },
        "id": "UCYmBmxU3xfg",
        "outputId": "d0085ea5-eee8-4a07-eeaf-db4a65c31b88"
      },
      "execution_count": 6,
      "outputs": [
        {
          "output_type": "stream",
          "name": "stdout",
          "text": [
            "Result: z =  1\n"
          ]
        }
      ]
    },
    {
      "cell_type": "code",
      "source": [
        "def compute_z(a,b,c):\n",
        "  r1 = tf.subtract(a,b)\n",
        "  r2 = tf.multiply(2, r1)\n",
        "  z= tf.add(r2, c)\n",
        "  return z\n",
        "  "
      ],
      "metadata": {
        "id": "yLVazLni4Z5a"
      },
      "execution_count": 7,
      "outputs": []
    },
    {
      "cell_type": "code",
      "source": [
        "tf.print('Scaler Inputs: ', compute_z(1,2,3))"
      ],
      "metadata": {
        "colab": {
          "base_uri": "https://localhost:8080/"
        },
        "id": "MntYm9zsRFI5",
        "outputId": "5698a725-5c86-4d29-936a-c0734b8d5e97"
      },
      "execution_count": 8,
      "outputs": [
        {
          "output_type": "stream",
          "name": "stdout",
          "text": [
            "Scaler Inputs:  1\n"
          ]
        }
      ]
    },
    {
      "cell_type": "code",
      "source": [
        "tf.print('Rank 1 Inputs: ', compute_z([1], [2], [3]))"
      ],
      "metadata": {
        "colab": {
          "base_uri": "https://localhost:8080/"
        },
        "id": "LTqHcYOwRPbb",
        "outputId": "d9fa439e-3578-43c4-c2cb-3d8858aaa2f1"
      },
      "execution_count": 9,
      "outputs": [
        {
          "output_type": "stream",
          "name": "stdout",
          "text": [
            "Rank 1 Inputs:  [1]\n"
          ]
        }
      ]
    },
    {
      "cell_type": "code",
      "source": [
        "tf.print('Rank 2 Inputs: ', compute_z([[1]], [[2]], [[3]]))"
      ],
      "metadata": {
        "colab": {
          "base_uri": "https://localhost:8080/"
        },
        "id": "PpJixrWiRUjB",
        "outputId": "76baaadb-1f38-4ca5-a566-08be7c528954"
      },
      "execution_count": 11,
      "outputs": [
        {
          "output_type": "stream",
          "name": "stdout",
          "text": [
            "Rank 2 Inputs:  [[1]]\n"
          ]
        }
      ]
    },
    {
      "cell_type": "code",
      "source": [
        "@tf.function\n",
        "def compute_z(a,b,c):\n",
        "  r1 = tf.subtract(a,b)\n",
        "  r2 = tf.multiply(2, r1)\n",
        "  z= tf.add(r2, c)\n",
        "  return z\n",
        "  "
      ],
      "metadata": {
        "id": "erIx0YebRa0n"
      },
      "execution_count": 12,
      "outputs": []
    },
    {
      "cell_type": "code",
      "source": [
        "tf.print('Scaler Inputs: ', compute_z(1,2,3))"
      ],
      "metadata": {
        "colab": {
          "base_uri": "https://localhost:8080/"
        },
        "id": "R8ul7GCPRx0i",
        "outputId": "3cb89176-9272-4fb5-f096-c0536fa21e09"
      },
      "execution_count": 13,
      "outputs": [
        {
          "output_type": "stream",
          "name": "stdout",
          "text": [
            "Scaler Inputs:  1\n"
          ]
        }
      ]
    },
    {
      "cell_type": "code",
      "source": [
        "tf.print('Rank 1 Inputs: ', compute_z([1], [2], [3]))"
      ],
      "metadata": {
        "colab": {
          "base_uri": "https://localhost:8080/"
        },
        "id": "sxj7IXznSByJ",
        "outputId": "0f40dcac-08b5-4cff-ecfd-3ed607fc2564"
      },
      "execution_count": 14,
      "outputs": [
        {
          "output_type": "stream",
          "name": "stdout",
          "text": [
            "Rank 1 Inputs:  [1]\n"
          ]
        }
      ]
    },
    {
      "cell_type": "code",
      "source": [
        "tf.print('Rank 2 Inputs: ', compute_z([[1]], [[2]], [[3]]))"
      ],
      "metadata": {
        "colab": {
          "base_uri": "https://localhost:8080/"
        },
        "id": "XeYa_qrlSDcB",
        "outputId": "9f0d4450-7030-4ff7-cea2-d7701f29fefc"
      },
      "execution_count": 15,
      "outputs": [
        {
          "output_type": "stream",
          "name": "stdout",
          "text": [
            "Rank 2 Inputs:  [[1]]\n"
          ]
        }
      ]
    },
    {
      "cell_type": "code",
      "source": [
        "@tf.function(input_signature=(tf.TensorSpec(shape=[None], dtype=tf.int32), tf.TensorSpec(shape=[None], dtype=tf.int32), tf.TensorSpec(shape=[None], dtype=tf.int32),))\n",
        "def compute_z(a,b,c):\n",
        "  r1 = tf.subtract(a,b)\n",
        "  r2 = tf.multiply(2, r1)\n",
        "  z= tf.add(r2, c)\n",
        "  return z"
      ],
      "metadata": {
        "id": "v5zzkDt6SEzA"
      },
      "execution_count": 16,
      "outputs": []
    },
    {
      "cell_type": "code",
      "source": [
        "tf.print('Scaler Inputs: ', compute_z(1,2,3))"
      ],
      "metadata": {
        "colab": {
          "base_uri": "https://localhost:8080/",
          "height": 465
        },
        "id": "HC9uf5MLSwZT",
        "outputId": "32815f9c-ab40-4f98-c4e5-dde1b63b4beb"
      },
      "execution_count": 17,
      "outputs": [
        {
          "output_type": "error",
          "ename": "ValueError",
          "evalue": "ignored",
          "traceback": [
            "\u001b[0;31m---------------------------------------------------------------------------\u001b[0m",
            "\u001b[0;31mValueError\u001b[0m                                Traceback (most recent call last)",
            "\u001b[0;32m<ipython-input-17-ef53330ff8c8>\u001b[0m in \u001b[0;36m<module>\u001b[0;34m\u001b[0m\n\u001b[0;32m----> 1\u001b[0;31m \u001b[0mtf\u001b[0m\u001b[0;34m.\u001b[0m\u001b[0mprint\u001b[0m\u001b[0;34m(\u001b[0m\u001b[0;34m'Scaler Inputs: '\u001b[0m\u001b[0;34m,\u001b[0m \u001b[0mcompute_z\u001b[0m\u001b[0;34m(\u001b[0m\u001b[0;36m1\u001b[0m\u001b[0;34m,\u001b[0m\u001b[0;36m2\u001b[0m\u001b[0;34m,\u001b[0m\u001b[0;36m3\u001b[0m\u001b[0;34m)\u001b[0m\u001b[0;34m)\u001b[0m\u001b[0;34m\u001b[0m\u001b[0;34m\u001b[0m\u001b[0m\n\u001b[0m",
            "\u001b[0;32m/usr/local/lib/python3.7/dist-packages/tensorflow/python/util/traceback_utils.py\u001b[0m in \u001b[0;36merror_handler\u001b[0;34m(*args, **kwargs)\u001b[0m\n\u001b[1;32m    151\u001b[0m     \u001b[0;32mexcept\u001b[0m \u001b[0mException\u001b[0m \u001b[0;32mas\u001b[0m \u001b[0me\u001b[0m\u001b[0;34m:\u001b[0m\u001b[0;34m\u001b[0m\u001b[0;34m\u001b[0m\u001b[0m\n\u001b[1;32m    152\u001b[0m       \u001b[0mfiltered_tb\u001b[0m \u001b[0;34m=\u001b[0m \u001b[0m_process_traceback_frames\u001b[0m\u001b[0;34m(\u001b[0m\u001b[0me\u001b[0m\u001b[0;34m.\u001b[0m\u001b[0m__traceback__\u001b[0m\u001b[0;34m)\u001b[0m\u001b[0;34m\u001b[0m\u001b[0;34m\u001b[0m\u001b[0m\n\u001b[0;32m--> 153\u001b[0;31m       \u001b[0;32mraise\u001b[0m \u001b[0me\u001b[0m\u001b[0;34m.\u001b[0m\u001b[0mwith_traceback\u001b[0m\u001b[0;34m(\u001b[0m\u001b[0mfiltered_tb\u001b[0m\u001b[0;34m)\u001b[0m \u001b[0;32mfrom\u001b[0m \u001b[0;32mNone\u001b[0m\u001b[0;34m\u001b[0m\u001b[0;34m\u001b[0m\u001b[0m\n\u001b[0m\u001b[1;32m    154\u001b[0m     \u001b[0;32mfinally\u001b[0m\u001b[0;34m:\u001b[0m\u001b[0;34m\u001b[0m\u001b[0;34m\u001b[0m\u001b[0m\n\u001b[1;32m    155\u001b[0m       \u001b[0;32mdel\u001b[0m \u001b[0mfiltered_tb\u001b[0m\u001b[0;34m\u001b[0m\u001b[0;34m\u001b[0m\u001b[0m\n",
            "\u001b[0;32m/usr/local/lib/python3.7/dist-packages/tensorflow/python/eager/function.py\u001b[0m in \u001b[0;36m_convert_inputs_to_signature\u001b[0;34m(inputs, input_signature, flat_input_signature)\u001b[0m\n\u001b[1;32m   2852\u001b[0m       \u001b[0mflat_input_signature\u001b[0m\u001b[0;34m,\u001b[0m\u001b[0;34m\u001b[0m\u001b[0;34m\u001b[0m\u001b[0m\n\u001b[1;32m   2853\u001b[0m       flatten_inputs)):\n\u001b[0;32m-> 2854\u001b[0;31m     raise ValueError(\"Python inputs incompatible with input_signature:\\n\"\n\u001b[0m\u001b[1;32m   2855\u001b[0m                      f\"{format_error_message(inputs, input_signature)}.\")\n\u001b[1;32m   2856\u001b[0m \u001b[0;34m\u001b[0m\u001b[0m\n",
            "\u001b[0;31mValueError\u001b[0m: Python inputs incompatible with input_signature:\n  inputs: (\n    1,\n    2,\n    3)\n  input_signature: (\n    TensorSpec(shape=(None,), dtype=tf.int32, name=None),\n    TensorSpec(shape=(None,), dtype=tf.int32, name=None),\n    TensorSpec(shape=(None,), dtype=tf.int32, name=None))."
          ]
        }
      ]
    },
    {
      "cell_type": "code",
      "source": [
        "tf.print('Rank 1 Inputs: ', compute_z([1], [2], [3]))"
      ],
      "metadata": {
        "colab": {
          "base_uri": "https://localhost:8080/"
        },
        "id": "lzoX9uHESx78",
        "outputId": "ede0e0dd-7371-4c33-c6da-2d63037f7f31"
      },
      "execution_count": 18,
      "outputs": [
        {
          "output_type": "stream",
          "name": "stdout",
          "text": [
            "Rank 1 Inputs:  [1]\n"
          ]
        }
      ]
    },
    {
      "cell_type": "code",
      "source": [
        "tf.print('Rank 1 Inputs: ', compute_z([1,2], [2,4], [3,6]))"
      ],
      "metadata": {
        "colab": {
          "base_uri": "https://localhost:8080/"
        },
        "id": "MqNccfbYS2Dl",
        "outputId": "3e527965-e8d5-47f5-dacc-8de059bc4243"
      },
      "execution_count": 19,
      "outputs": [
        {
          "output_type": "stream",
          "name": "stdout",
          "text": [
            "Rank 1 Inputs:  [1 2]\n"
          ]
        }
      ]
    },
    {
      "cell_type": "code",
      "source": [
        "a = tf.Variable(initial_value=3.14, name='var_a')\n",
        "print(a)"
      ],
      "metadata": {
        "colab": {
          "base_uri": "https://localhost:8080/"
        },
        "id": "Grc9_1cQS5U_",
        "outputId": "ff42d536-44ef-4036-98af-1d52e6c5e945"
      },
      "execution_count": 20,
      "outputs": [
        {
          "output_type": "stream",
          "name": "stdout",
          "text": [
            "<tf.Variable 'var_a:0' shape=() dtype=float32, numpy=3.14>\n"
          ]
        }
      ]
    },
    {
      "cell_type": "code",
      "source": [
        "b = tf.Variable(initial_value=[1,2,3], name='var_b')\n",
        "print(b)"
      ],
      "metadata": {
        "colab": {
          "base_uri": "https://localhost:8080/"
        },
        "id": "j1x9kaR9TG1a",
        "outputId": "0271030c-abe2-4762-873e-d1a51a7d04cb"
      },
      "execution_count": 21,
      "outputs": [
        {
          "output_type": "stream",
          "name": "stdout",
          "text": [
            "<tf.Variable 'var_b:0' shape=(3,) dtype=int32, numpy=array([1, 2, 3], dtype=int32)>\n"
          ]
        }
      ]
    },
    {
      "cell_type": "code",
      "source": [
        "c = tf.Variable(initial_value=[True, False], dtype=tf.bool)\n",
        "print(c)"
      ],
      "metadata": {
        "colab": {
          "base_uri": "https://localhost:8080/"
        },
        "id": "zFGcbZzvTL8A",
        "outputId": "73f1523d-62f0-4d83-9dfc-6bb6ece71d40"
      },
      "execution_count": 22,
      "outputs": [
        {
          "output_type": "stream",
          "name": "stdout",
          "text": [
            "<tf.Variable 'Variable:0' shape=(2,) dtype=bool, numpy=array([ True, False])>\n"
          ]
        }
      ]
    },
    {
      "cell_type": "code",
      "source": [
        "d = tf.Variable(initial_value=['abc'], dtype=tf.string)"
      ],
      "metadata": {
        "id": "N-eKtQ0OTSsc"
      },
      "execution_count": 23,
      "outputs": []
    },
    {
      "cell_type": "code",
      "source": [
        "print(d)"
      ],
      "metadata": {
        "colab": {
          "base_uri": "https://localhost:8080/"
        },
        "id": "QjDBExbMTbPJ",
        "outputId": "26f81036-c065-479e-e0f2-95b13141105c"
      },
      "execution_count": 24,
      "outputs": [
        {
          "output_type": "stream",
          "name": "stdout",
          "text": [
            "<tf.Variable 'Variable:0' shape=(1,) dtype=string, numpy=array([b'abc'], dtype=object)>\n"
          ]
        }
      ]
    },
    {
      "cell_type": "code",
      "source": [
        "w = tf.Variable([1,2,3], trainable=False)\n",
        "print(w.trainable)"
      ],
      "metadata": {
        "colab": {
          "base_uri": "https://localhost:8080/"
        },
        "id": "OG3bEpD2TdCA",
        "outputId": "01ef956e-27e5-4b3d-df91-696b1a43ffc7"
      },
      "execution_count": 25,
      "outputs": [
        {
          "output_type": "stream",
          "name": "stdout",
          "text": [
            "False\n"
          ]
        }
      ]
    },
    {
      "cell_type": "code",
      "source": [
        "print(w.assign([3,1,4], read_value=True))"
      ],
      "metadata": {
        "colab": {
          "base_uri": "https://localhost:8080/"
        },
        "id": "mnoMOhc4Tn4k",
        "outputId": "c1b7a0ca-2ee0-46a5-fc2c-d4dbc25b9007"
      },
      "execution_count": 26,
      "outputs": [
        {
          "output_type": "stream",
          "name": "stdout",
          "text": [
            "<tf.Variable 'UnreadVariable' shape=(3,) dtype=int32, numpy=array([3, 1, 4], dtype=int32)>\n"
          ]
        }
      ]
    },
    {
      "cell_type": "code",
      "source": [
        "w.assign_add([2,-1,2], read_value=False)\n",
        "print(w.value())"
      ],
      "metadata": {
        "colab": {
          "base_uri": "https://localhost:8080/"
        },
        "id": "1IdVpdAyTtv0",
        "outputId": "aad30580-3751-4895-e0f2-0c1a65ff8a6a"
      },
      "execution_count": 27,
      "outputs": [
        {
          "output_type": "stream",
          "name": "stdout",
          "text": [
            "tf.Tensor([5 0 6], shape=(3,), dtype=int32)\n"
          ]
        }
      ]
    },
    {
      "cell_type": "code",
      "source": [
        "tf.random.set_seed(1)\n",
        "init = tf.keras.initializers.GlorotNormal()\n",
        "tf.print(init(shape=(3,)))"
      ],
      "metadata": {
        "colab": {
          "base_uri": "https://localhost:8080/"
        },
        "id": "WAlE9AFAT4vs",
        "outputId": "e8515708-c383-4256-a50f-ac0223ca4244"
      },
      "execution_count": 28,
      "outputs": [
        {
          "output_type": "stream",
          "name": "stdout",
          "text": [
            "[-0.722795904 1.01456821 0.251808226]\n"
          ]
        }
      ]
    },
    {
      "cell_type": "code",
      "source": [
        "v = tf.Variable(init(shape=(2,3)))\n",
        "tf.print(v)"
      ],
      "metadata": {
        "colab": {
          "base_uri": "https://localhost:8080/"
        },
        "id": "HEWMtaN0URIs",
        "outputId": "b2be5c82-d87b-4fe7-b7a7-160e0368ba41"
      },
      "execution_count": 29,
      "outputs": [
        {
          "output_type": "stream",
          "name": "stdout",
          "text": [
            "[[0.28982234 -0.782292783 -0.0453658961]\n",
            " [0.960991383 -0.120003454 0.708528221]]\n"
          ]
        }
      ]
    },
    {
      "cell_type": "code",
      "source": [
        "class MyModule(tf.Module):\n",
        "  def __init__(self):\n",
        "    init = tf.keras.initializers.GlorotNormal()\n",
        "    self.w1 = tf.Variable(init(shape=(2,3)), trainable=True)\n",
        "    self.w2 = tf.Variable(init(shape=(1,2)), trainable=False)\n",
        "\n",
        "m = MyModule()\n",
        "print('All module variables: ', [v.shape for v in m.variables])"
      ],
      "metadata": {
        "colab": {
          "base_uri": "https://localhost:8080/"
        },
        "id": "tFL7i8b7UXD7",
        "outputId": "298200a9-0613-4ab2-a2d5-d65a39ef3913"
      },
      "execution_count": 30,
      "outputs": [
        {
          "output_type": "stream",
          "name": "stdout",
          "text": [
            "All module variables:  [TensorShape([2, 3]), TensorShape([1, 2])]\n"
          ]
        }
      ]
    },
    {
      "cell_type": "code",
      "source": [
        "print('Trainable variable: ', [v.shape for v in m.trainable_variables])"
      ],
      "metadata": {
        "colab": {
          "base_uri": "https://localhost:8080/"
        },
        "id": "EjgiMZHDVICJ",
        "outputId": "cde9f6e6-1988-4912-dd6a-b1ff12249688"
      },
      "execution_count": 31,
      "outputs": [
        {
          "output_type": "stream",
          "name": "stdout",
          "text": [
            "Trainable variable:  [TensorShape([2, 3])]\n"
          ]
        }
      ]
    },
    {
      "cell_type": "code",
      "source": [
        "tf.random.set_seed(1)\n",
        "\n",
        "w = tf.Variable(tf.random.uniform((3,3)))\n",
        "@tf.function\n",
        "def compute_z(x):\n",
        "  return tf.matmul(w,x)\n",
        "\n",
        "x = tf.Variable([[1], [2], [3]], dtype=tf.float32)\n",
        "tf.print(compute_z(x))"
      ],
      "metadata": {
        "colab": {
          "base_uri": "https://localhost:8080/"
        },
        "id": "dkOLuJbhVPAQ",
        "outputId": "a512f190-d9d6-4036-c5fa-84b305dcd020"
      },
      "execution_count": 33,
      "outputs": [
        {
          "output_type": "stream",
          "name": "stdout",
          "text": [
            "[[3.8610158]\n",
            " [2.94593048]\n",
            " [3.82629013]]\n"
          ]
        }
      ]
    },
    {
      "cell_type": "code",
      "source": [
        "w = tf.Variable(1.0)\n",
        "b = tf.Variable(0.5)\n"
      ],
      "metadata": {
        "id": "LUpOrdWPVeqQ"
      },
      "execution_count": null,
      "outputs": []
    }
  ]
}
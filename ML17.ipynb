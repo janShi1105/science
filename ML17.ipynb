{
  "nbformat": 4,
  "nbformat_minor": 0,
  "metadata": {
    "colab": {
      "provenance": [],
      "collapsed_sections": [],
      "authorship_tag": "ABX9TyPtGI5aYHBQ3YSfG/MyMjCf",
      "include_colab_link": true
    },
    "kernelspec": {
      "name": "python3",
      "display_name": "Python 3"
    },
    "language_info": {
      "name": "python"
    },
    "accelerator": "GPU",
    "widgets": {
      "application/vnd.jupyter.widget-state+json": {
        "1c0e0521ddd143299b0d2f2cc6c50876": {
          "model_module": "@jupyter-widgets/controls",
          "model_name": "HBoxModel",
          "model_module_version": "1.5.0",
          "state": {
            "_dom_classes": [],
            "_model_module": "@jupyter-widgets/controls",
            "_model_module_version": "1.5.0",
            "_model_name": "HBoxModel",
            "_view_count": null,
            "_view_module": "@jupyter-widgets/controls",
            "_view_module_version": "1.5.0",
            "_view_name": "HBoxView",
            "box_style": "",
            "children": [
              "IPY_MODEL_9b3a78206b5940aea2e268df15da52f0",
              "IPY_MODEL_dda137affb614bb48ef83535c07d02ed",
              "IPY_MODEL_b852c3274a4342b5aad6908022464031"
            ],
            "layout": "IPY_MODEL_4fa919d8ef974c7f95715c61cc5d930c"
          }
        },
        "9b3a78206b5940aea2e268df15da52f0": {
          "model_module": "@jupyter-widgets/controls",
          "model_name": "HTMLModel",
          "model_module_version": "1.5.0",
          "state": {
            "_dom_classes": [],
            "_model_module": "@jupyter-widgets/controls",
            "_model_module_version": "1.5.0",
            "_model_name": "HTMLModel",
            "_view_count": null,
            "_view_module": "@jupyter-widgets/controls",
            "_view_module_version": "1.5.0",
            "_view_name": "HTMLView",
            "description": "",
            "description_tooltip": null,
            "layout": "IPY_MODEL_2397f677679e49c59287f7101a8aba19",
            "placeholder": "​",
            "style": "IPY_MODEL_0fd37beee4ac4a6e9c7487fe0e808a4b",
            "value": "Dl Completed...: 100%"
          }
        },
        "dda137affb614bb48ef83535c07d02ed": {
          "model_module": "@jupyter-widgets/controls",
          "model_name": "FloatProgressModel",
          "model_module_version": "1.5.0",
          "state": {
            "_dom_classes": [],
            "_model_module": "@jupyter-widgets/controls",
            "_model_module_version": "1.5.0",
            "_model_name": "FloatProgressModel",
            "_view_count": null,
            "_view_module": "@jupyter-widgets/controls",
            "_view_module_version": "1.5.0",
            "_view_name": "ProgressView",
            "bar_style": "success",
            "description": "",
            "description_tooltip": null,
            "layout": "IPY_MODEL_770f6c1751d4456babd30697855eea68",
            "max": 4,
            "min": 0,
            "orientation": "horizontal",
            "style": "IPY_MODEL_f00dacf0880a4bb483f7bc79af591b82",
            "value": 4
          }
        },
        "b852c3274a4342b5aad6908022464031": {
          "model_module": "@jupyter-widgets/controls",
          "model_name": "HTMLModel",
          "model_module_version": "1.5.0",
          "state": {
            "_dom_classes": [],
            "_model_module": "@jupyter-widgets/controls",
            "_model_module_version": "1.5.0",
            "_model_name": "HTMLModel",
            "_view_count": null,
            "_view_module": "@jupyter-widgets/controls",
            "_view_module_version": "1.5.0",
            "_view_name": "HTMLView",
            "description": "",
            "description_tooltip": null,
            "layout": "IPY_MODEL_be88db84d177426cacd2ce3980d6f0a1",
            "placeholder": "​",
            "style": "IPY_MODEL_575b41850c484548905b9e2963c3ebe4",
            "value": " 4/4 [00:00&lt;00:00, 13.49 file/s]"
          }
        },
        "4fa919d8ef974c7f95715c61cc5d930c": {
          "model_module": "@jupyter-widgets/base",
          "model_name": "LayoutModel",
          "model_module_version": "1.2.0",
          "state": {
            "_model_module": "@jupyter-widgets/base",
            "_model_module_version": "1.2.0",
            "_model_name": "LayoutModel",
            "_view_count": null,
            "_view_module": "@jupyter-widgets/base",
            "_view_module_version": "1.2.0",
            "_view_name": "LayoutView",
            "align_content": null,
            "align_items": null,
            "align_self": null,
            "border": null,
            "bottom": null,
            "display": null,
            "flex": null,
            "flex_flow": null,
            "grid_area": null,
            "grid_auto_columns": null,
            "grid_auto_flow": null,
            "grid_auto_rows": null,
            "grid_column": null,
            "grid_gap": null,
            "grid_row": null,
            "grid_template_areas": null,
            "grid_template_columns": null,
            "grid_template_rows": null,
            "height": null,
            "justify_content": null,
            "justify_items": null,
            "left": null,
            "margin": null,
            "max_height": null,
            "max_width": null,
            "min_height": null,
            "min_width": null,
            "object_fit": null,
            "object_position": null,
            "order": null,
            "overflow": null,
            "overflow_x": null,
            "overflow_y": null,
            "padding": null,
            "right": null,
            "top": null,
            "visibility": null,
            "width": null
          }
        },
        "2397f677679e49c59287f7101a8aba19": {
          "model_module": "@jupyter-widgets/base",
          "model_name": "LayoutModel",
          "model_module_version": "1.2.0",
          "state": {
            "_model_module": "@jupyter-widgets/base",
            "_model_module_version": "1.2.0",
            "_model_name": "LayoutModel",
            "_view_count": null,
            "_view_module": "@jupyter-widgets/base",
            "_view_module_version": "1.2.0",
            "_view_name": "LayoutView",
            "align_content": null,
            "align_items": null,
            "align_self": null,
            "border": null,
            "bottom": null,
            "display": null,
            "flex": null,
            "flex_flow": null,
            "grid_area": null,
            "grid_auto_columns": null,
            "grid_auto_flow": null,
            "grid_auto_rows": null,
            "grid_column": null,
            "grid_gap": null,
            "grid_row": null,
            "grid_template_areas": null,
            "grid_template_columns": null,
            "grid_template_rows": null,
            "height": null,
            "justify_content": null,
            "justify_items": null,
            "left": null,
            "margin": null,
            "max_height": null,
            "max_width": null,
            "min_height": null,
            "min_width": null,
            "object_fit": null,
            "object_position": null,
            "order": null,
            "overflow": null,
            "overflow_x": null,
            "overflow_y": null,
            "padding": null,
            "right": null,
            "top": null,
            "visibility": null,
            "width": null
          }
        },
        "0fd37beee4ac4a6e9c7487fe0e808a4b": {
          "model_module": "@jupyter-widgets/controls",
          "model_name": "DescriptionStyleModel",
          "model_module_version": "1.5.0",
          "state": {
            "_model_module": "@jupyter-widgets/controls",
            "_model_module_version": "1.5.0",
            "_model_name": "DescriptionStyleModel",
            "_view_count": null,
            "_view_module": "@jupyter-widgets/base",
            "_view_module_version": "1.2.0",
            "_view_name": "StyleView",
            "description_width": ""
          }
        },
        "770f6c1751d4456babd30697855eea68": {
          "model_module": "@jupyter-widgets/base",
          "model_name": "LayoutModel",
          "model_module_version": "1.2.0",
          "state": {
            "_model_module": "@jupyter-widgets/base",
            "_model_module_version": "1.2.0",
            "_model_name": "LayoutModel",
            "_view_count": null,
            "_view_module": "@jupyter-widgets/base",
            "_view_module_version": "1.2.0",
            "_view_name": "LayoutView",
            "align_content": null,
            "align_items": null,
            "align_self": null,
            "border": null,
            "bottom": null,
            "display": null,
            "flex": null,
            "flex_flow": null,
            "grid_area": null,
            "grid_auto_columns": null,
            "grid_auto_flow": null,
            "grid_auto_rows": null,
            "grid_column": null,
            "grid_gap": null,
            "grid_row": null,
            "grid_template_areas": null,
            "grid_template_columns": null,
            "grid_template_rows": null,
            "height": null,
            "justify_content": null,
            "justify_items": null,
            "left": null,
            "margin": null,
            "max_height": null,
            "max_width": null,
            "min_height": null,
            "min_width": null,
            "object_fit": null,
            "object_position": null,
            "order": null,
            "overflow": null,
            "overflow_x": null,
            "overflow_y": null,
            "padding": null,
            "right": null,
            "top": null,
            "visibility": null,
            "width": null
          }
        },
        "f00dacf0880a4bb483f7bc79af591b82": {
          "model_module": "@jupyter-widgets/controls",
          "model_name": "ProgressStyleModel",
          "model_module_version": "1.5.0",
          "state": {
            "_model_module": "@jupyter-widgets/controls",
            "_model_module_version": "1.5.0",
            "_model_name": "ProgressStyleModel",
            "_view_count": null,
            "_view_module": "@jupyter-widgets/base",
            "_view_module_version": "1.2.0",
            "_view_name": "StyleView",
            "bar_color": null,
            "description_width": ""
          }
        },
        "be88db84d177426cacd2ce3980d6f0a1": {
          "model_module": "@jupyter-widgets/base",
          "model_name": "LayoutModel",
          "model_module_version": "1.2.0",
          "state": {
            "_model_module": "@jupyter-widgets/base",
            "_model_module_version": "1.2.0",
            "_model_name": "LayoutModel",
            "_view_count": null,
            "_view_module": "@jupyter-widgets/base",
            "_view_module_version": "1.2.0",
            "_view_name": "LayoutView",
            "align_content": null,
            "align_items": null,
            "align_self": null,
            "border": null,
            "bottom": null,
            "display": null,
            "flex": null,
            "flex_flow": null,
            "grid_area": null,
            "grid_auto_columns": null,
            "grid_auto_flow": null,
            "grid_auto_rows": null,
            "grid_column": null,
            "grid_gap": null,
            "grid_row": null,
            "grid_template_areas": null,
            "grid_template_columns": null,
            "grid_template_rows": null,
            "height": null,
            "justify_content": null,
            "justify_items": null,
            "left": null,
            "margin": null,
            "max_height": null,
            "max_width": null,
            "min_height": null,
            "min_width": null,
            "object_fit": null,
            "object_position": null,
            "order": null,
            "overflow": null,
            "overflow_x": null,
            "overflow_y": null,
            "padding": null,
            "right": null,
            "top": null,
            "visibility": null,
            "width": null
          }
        },
        "575b41850c484548905b9e2963c3ebe4": {
          "model_module": "@jupyter-widgets/controls",
          "model_name": "DescriptionStyleModel",
          "model_module_version": "1.5.0",
          "state": {
            "_model_module": "@jupyter-widgets/controls",
            "_model_module_version": "1.5.0",
            "_model_name": "DescriptionStyleModel",
            "_view_count": null,
            "_view_module": "@jupyter-widgets/base",
            "_view_module_version": "1.2.0",
            "_view_name": "StyleView",
            "description_width": ""
          }
        }
      }
    }
  },
  "cells": [
    {
      "cell_type": "markdown",
      "metadata": {
        "id": "view-in-github",
        "colab_type": "text"
      },
      "source": [
        "<a href=\"https://colab.research.google.com/github/janShi1105/science/blob/main/ML17.ipynb\" target=\"_parent\"><img src=\"https://colab.research.google.com/assets/colab-badge.svg\" alt=\"Open In Colab\"/></a>"
      ]
    },
    {
      "cell_type": "code",
      "execution_count": null,
      "metadata": {
        "colab": {
          "base_uri": "https://localhost:8080/"
        },
        "id": "pcVIZldx9Bxd",
        "outputId": "7a54b9d8-a0b3-45e9-ce1b-e398b26b01b3"
      },
      "outputs": [
        {
          "output_type": "stream",
          "name": "stdout",
          "text": [
            "\u001b[K     |████████████▌                   | 226.6 MB 1.3 MB/s eta 0:04:29\n",
            "\u001b[31mERROR: Operation cancelled by user\u001b[0m\n",
            "\u001b[?25h"
          ]
        }
      ],
      "source": [
        "! pip install -q tensorflow-gpu"
      ]
    },
    {
      "cell_type": "code",
      "source": [
        "import tensorflow as tf\n",
        "print(tf.__version__)\n",
        "\n",
        "print('GPU Avalilable: ', tf.config.list_physical_devices('GPU'))\n",
        "\n",
        "if tf.config.list_physical_devices('GPU'):\n",
        "  device_name = tf.test.gpu_device_name()\n",
        "else: \n",
        "  device_name = '/CPU:0'\n",
        "print(device_name)"
      ],
      "metadata": {
        "colab": {
          "base_uri": "https://localhost:8080/"
        },
        "id": "EOqczQ3_9KxC",
        "outputId": "81670634-7b13-48f1-90cd-0926f7d4c0e8"
      },
      "execution_count": null,
      "outputs": [
        {
          "output_type": "stream",
          "name": "stdout",
          "text": [
            "2.8.2\n",
            "GPU Avalilable:  [PhysicalDevice(name='/physical_device:GPU:0', device_type='GPU')]\n",
            "/device:GPU:0\n"
          ]
        }
      ]
    },
    {
      "cell_type": "code",
      "source": [
        "from google.colab import drive\n",
        "drive.mount('/content/drive')"
      ],
      "metadata": {
        "colab": {
          "base_uri": "https://localhost:8080/"
        },
        "id": "y1qEl0qh9Uw6",
        "outputId": "6acfef40-a961-4b21-d0fc-4e0bd7609fab"
      },
      "execution_count": null,
      "outputs": [
        {
          "output_type": "stream",
          "name": "stdout",
          "text": [
            "Mounted at /content/drive\n"
          ]
        }
      ]
    },
    {
      "cell_type": "code",
      "source": [
        "import tensorflow_datasets as tfds\n",
        "import numpy as np\n",
        "\n",
        "def make_generator_network(num_hidden_layers=1, num_hidden_units = 100, num_output_units =784):\n",
        "  model = tf.keras.Sequential()\n",
        "  for i in range(num_hidden_layers):\n",
        "    model.add(tf.keras.layers.Dense(units=num_hidden_units, use_bias=False))\n",
        "    model.add(tf.keras.layers.LeakyReLU())\n",
        "    model.add(tf.keras.layers.Dense(units=num_output_units, activation='tanh'))\n",
        "    return model\n",
        "\n",
        "def make_discriminator_network(num_hidden_layers=1, num_hidden_units=100, num_output_units=1):\n",
        "  model = tf.keras.Sequential()\n",
        "  for i in range(num_hidden_layers):\n",
        "    model.add(tf.keras.layers.Dense(units=num_hidden_units))\n",
        "    model.add(tf.keras.layers.LeakyReLU())\n",
        "    model.add(tf.keras.layers.Dropout(rate=0.5))\n",
        "\n",
        "  model.add(tf.keras.layers.Dense(units=num_output_units,activation=None))\n",
        "  return model"
      ],
      "metadata": {
        "id": "IwZlBP89dP1b"
      },
      "execution_count": null,
      "outputs": []
    },
    {
      "cell_type": "code",
      "source": [
        "image_size = (28,28)\n",
        "z_size = 20\n",
        "mode_z = 'uniform'\n",
        "gen_hidden_layers = 1\n",
        "gen_hidden_size = 100\n",
        "disc_hidden_layers=1\n",
        "disc_hidden_size = 100\n",
        "tf.random.set_seed(1)\n",
        "gen_model = make_generator_network(num_hidden_layers=gen_hidden_layers, num_hidden_units=gen_hidden_size, num_output_units=np.prod(image_size))\n",
        "gen_model.build(input_shape=(None, z_size))\n",
        "gen_model.summary()"
      ],
      "metadata": {
        "colab": {
          "base_uri": "https://localhost:8080/"
        },
        "id": "jgn4Te2wfUZS",
        "outputId": "69779328-7b3c-43a2-ab38-4e3d88206a5b"
      },
      "execution_count": null,
      "outputs": [
        {
          "output_type": "stream",
          "name": "stdout",
          "text": [
            "Model: \"sequential\"\n",
            "_________________________________________________________________\n",
            " Layer (type)                Output Shape              Param #   \n",
            "=================================================================\n",
            " dense (Dense)               (None, 100)               2000      \n",
            "                                                                 \n",
            " leaky_re_lu (LeakyReLU)     (None, 100)               0         \n",
            "                                                                 \n",
            " dense_1 (Dense)             (None, 784)               79184     \n",
            "                                                                 \n",
            "=================================================================\n",
            "Total params: 81,184\n",
            "Trainable params: 81,184\n",
            "Non-trainable params: 0\n",
            "_________________________________________________________________\n"
          ]
        }
      ]
    },
    {
      "cell_type": "code",
      "source": [
        "disc_model = make_discriminator_network(num_hidden_layers=disc_hidden_layers, num_hidden_units=disc_hidden_size)\n",
        "disc_model.build(input_shape=(None, np.prod(image_size)))\n",
        "disc_model.summary()"
      ],
      "metadata": {
        "colab": {
          "base_uri": "https://localhost:8080/"
        },
        "id": "7cGhd4OvgQ9F",
        "outputId": "174a712d-cd39-4048-acdf-12521187b86c"
      },
      "execution_count": null,
      "outputs": [
        {
          "output_type": "stream",
          "name": "stdout",
          "text": [
            "Model: \"sequential_1\"\n",
            "_________________________________________________________________\n",
            " Layer (type)                Output Shape              Param #   \n",
            "=================================================================\n",
            " dense_2 (Dense)             (None, 100)               78500     \n",
            "                                                                 \n",
            " leaky_re_lu_1 (LeakyReLU)   (None, 100)               0         \n",
            "                                                                 \n",
            " dropout (Dropout)           (None, 100)               0         \n",
            "                                                                 \n",
            " dense_3 (Dense)             (None, 1)                 101       \n",
            "                                                                 \n",
            "=================================================================\n",
            "Total params: 78,601\n",
            "Trainable params: 78,601\n",
            "Non-trainable params: 0\n",
            "_________________________________________________________________\n"
          ]
        }
      ]
    },
    {
      "cell_type": "code",
      "source": [
        "mnist_bldr = tfds.builder('mnist')\n",
        "mnist_bldr.download_and_prepare()\n",
        "mnist = mnist_bldr.as_dataset(shuffle_files=False)"
      ],
      "metadata": {
        "colab": {
          "base_uri": "https://localhost:8080/",
          "height": 85,
          "referenced_widgets": [
            "1c0e0521ddd143299b0d2f2cc6c50876",
            "9b3a78206b5940aea2e268df15da52f0",
            "dda137affb614bb48ef83535c07d02ed",
            "b852c3274a4342b5aad6908022464031",
            "4fa919d8ef974c7f95715c61cc5d930c",
            "2397f677679e49c59287f7101a8aba19",
            "0fd37beee4ac4a6e9c7487fe0e808a4b",
            "770f6c1751d4456babd30697855eea68",
            "f00dacf0880a4bb483f7bc79af591b82",
            "be88db84d177426cacd2ce3980d6f0a1",
            "575b41850c484548905b9e2963c3ebe4"
          ]
        },
        "id": "FijJLIxigu4X",
        "outputId": "2e74275d-bd86-42f6-e4d2-67bc2f251832"
      },
      "execution_count": null,
      "outputs": [
        {
          "output_type": "stream",
          "name": "stdout",
          "text": [
            "\u001b[1mDownloading and preparing dataset 11.06 MiB (download: 11.06 MiB, generated: 21.00 MiB, total: 32.06 MiB) to ~/tensorflow_datasets/mnist/3.0.1...\u001b[0m\n"
          ]
        },
        {
          "output_type": "display_data",
          "data": {
            "text/plain": [
              "Dl Completed...:   0%|          | 0/4 [00:00<?, ? file/s]"
            ],
            "application/vnd.jupyter.widget-view+json": {
              "version_major": 2,
              "version_minor": 0,
              "model_id": "1c0e0521ddd143299b0d2f2cc6c50876"
            }
          },
          "metadata": {}
        },
        {
          "output_type": "stream",
          "name": "stdout",
          "text": [
            "\u001b[1mDataset mnist downloaded and prepared to ~/tensorflow_datasets/mnist/3.0.1. Subsequent calls will reuse this data.\u001b[0m\n"
          ]
        }
      ]
    },
    {
      "cell_type": "code",
      "source": [
        "def preprocess(ex,mode='uniform'):\n",
        "  image = ex['image']\n",
        "  image = tf.image.convert_image_dtype(image, tf.float32)\n",
        "  image = tf.reshape(image, [-1])\n",
        "  image = image*2-1.0\n",
        "  if mode == 'uniform':\n",
        "    input_z = tf.random.uniform(shape=(z_size,), minval=-1, maxval=1)\n",
        "  elif mode == 'normal':\n",
        "    input_z = tf.random.normal(shape=(z_size,))\n",
        "  return input_z, image"
      ],
      "metadata": {
        "id": "06C4bkbThWT1"
      },
      "execution_count": null,
      "outputs": []
    },
    {
      "cell_type": "code",
      "source": [
        "mnist_trainset = mnist['train']\n",
        "mnist_trainset = mnist_trainset.map(preprocess)"
      ],
      "metadata": {
        "id": "zBZXeCAlh3br"
      },
      "execution_count": null,
      "outputs": []
    },
    {
      "cell_type": "code",
      "source": [
        "mnist_trainset = mnist_trainset.batch(32, drop_remainder=True)\n",
        "input_z, input_real = next(iter(mnist_trainset))\n",
        "print('input-z -- shape: ', input_z.shape)\n",
        "print('input-real -- shape:',  input_real.shape)"
      ],
      "metadata": {
        "colab": {
          "base_uri": "https://localhost:8080/"
        },
        "id": "Oe3nezvSh-80",
        "outputId": "6765ad8d-83f9-4589-832f-d6d966aa3d10"
      },
      "execution_count": null,
      "outputs": [
        {
          "output_type": "stream",
          "name": "stdout",
          "text": [
            "input-z -- shape:  (32, 20)\n",
            "input-real -- shape: (32, 784)\n"
          ]
        }
      ]
    },
    {
      "cell_type": "code",
      "source": [
        "g_output = gen_model(input_z)\n",
        "print('Output of G -- shape:', g_output.shape)"
      ],
      "metadata": {
        "colab": {
          "base_uri": "https://localhost:8080/"
        },
        "id": "Qe7aGlMdii1f",
        "outputId": "90237609-152b-40d1-e1e0-ec0dc1ea74ed"
      },
      "execution_count": null,
      "outputs": [
        {
          "output_type": "stream",
          "name": "stdout",
          "text": [
            "Output of G -- shape: (32, 784)\n"
          ]
        }
      ]
    },
    {
      "cell_type": "code",
      "source": [
        "d_logits_real = disc_model(input_real)"
      ],
      "metadata": {
        "id": "_AVx6-briqqp"
      },
      "execution_count": null,
      "outputs": []
    },
    {
      "cell_type": "code",
      "source": [
        "d_logits_fake = disc_model(g_output)\n",
        "print('Disc. (real) -- shape:', d_logits_real.shape)"
      ],
      "metadata": {
        "colab": {
          "base_uri": "https://localhost:8080/"
        },
        "id": "_dl2IftFjZu5",
        "outputId": "27b1bd34-6cbd-4931-b865-85355919a84b"
      },
      "execution_count": null,
      "outputs": [
        {
          "output_type": "stream",
          "name": "stdout",
          "text": [
            "Disc. (real) -- shape: (32, 1)\n"
          ]
        }
      ]
    },
    {
      "cell_type": "code",
      "source": [
        "print('Disc. (fake) -- shape: ', d_logits_fake.shape)"
      ],
      "metadata": {
        "colab": {
          "base_uri": "https://localhost:8080/"
        },
        "id": "7Du525CtjiGP",
        "outputId": "df8f0967-9c9f-4d8e-d56c-6b40f897926c"
      },
      "execution_count": null,
      "outputs": [
        {
          "output_type": "stream",
          "name": "stdout",
          "text": [
            "Disc. (fake) -- shape:  (32, 1)\n"
          ]
        }
      ]
    },
    {
      "cell_type": "code",
      "source": [
        "loss_fn = tf.keras.losses.BinaryCrossentropy(from_logits=True)\n",
        "g_labels_real = tf.ones_like(d_logits_fake)\n",
        "g_loss = loss_fn(y_true=g_labels_real, y_pred=d_logits_fake)\n",
        "print('Generator Loss: {:.4f}'.format(g_loss))"
      ],
      "metadata": {
        "colab": {
          "base_uri": "https://localhost:8080/"
        },
        "id": "6WsuUQShjnIA",
        "outputId": "a1bfe48e-f134-4eb2-97ff-d760a1287927"
      },
      "execution_count": null,
      "outputs": [
        {
          "output_type": "stream",
          "name": "stdout",
          "text": [
            "Generator Loss: 0.7355\n"
          ]
        }
      ]
    },
    {
      "cell_type": "code",
      "source": [
        "d_labels_real = tf.ones_like(d_logits_real)\n",
        "d_labels_fake = tf.zeros_like(d_logits_fake)\n",
        "d_loss_real = loss_fn(y_true=d_labels_real, y_pred=d_logits_real)\n",
        "d_loss_fake = loss_fn(y_true=d_labels_fake, y_pred=d_labels_fake)\n",
        "print('Discriminator Losses: Real {:.4f} Fake {:.4f}'.format(d_loss_real.numpy(), d_loss_fake.numpy()))"
      ],
      "metadata": {
        "colab": {
          "base_uri": "https://localhost:8080/"
        },
        "id": "7C0dV8_bl88J",
        "outputId": "e02f545d-b432-417c-fe79-d4b4bd968d4b"
      },
      "execution_count": null,
      "outputs": [
        {
          "output_type": "stream",
          "name": "stdout",
          "text": [
            "Discriminator Losses: Real 1.5073 Fake 0.6931\n"
          ]
        }
      ]
    },
    {
      "cell_type": "code",
      "source": [
        "import time\n",
        "\n",
        "num_epochs = 100\n",
        "batch_size = 64\n",
        "image_size = (28,28)\n",
        "z_size = 20\n",
        "mode_z = 'uniform'\n",
        "gen_hidden_layers=1\n",
        "gen_hidden_size = 100\n",
        "disc_hidden_layers = 1\n",
        "disc_hidden_size = 100\n",
        "\n",
        "tf.random.set_seed(1)\n",
        "np.random.seed(1)\n",
        "\n",
        "if mode_z == 'uniform':\n",
        "  fixed_z = tf.random.uniform(shape=(batch_size, z_size), minval=-1, maxval=1)\n",
        "elif mode_z ==  'normal':\n",
        "  fixed_z = tf.random.normal(shape=(batch_size, z_size))\n",
        "\n",
        "def create_samples(g_model, input_z):\n",
        "  g_output = g_model(input_z, training=False)\n",
        "  images = tf.reshape(g_output, (batch_size, *image_size))\n",
        "  return (images+1)/2"
      ],
      "metadata": {
        "id": "3iYfGE2BmqoF"
      },
      "execution_count": null,
      "outputs": []
    },
    {
      "cell_type": "code",
      "source": [
        "mnist_trainset = mnist['train']\n",
        "mnist_trainset = mnist_trainset.map(lambda ex: preprocess(ex, mode=mode_z))\n",
        "mnist_trainset = mnist_trainset.shuffle(10000)\n",
        "mnist_trainset = mnist_trainset.batch(batch_size, drop_remainder=True)\n",
        "\n",
        "with tf.device(device_name):\n",
        "  gen_model = make_generator_network(num_hidden_layers=gen_hidden_layers, num_hidden_units=gen_hidden_size,num_output_units=np.prod(image_size))\n",
        "  gen_model.build(input_shape=(None, z_size))\n",
        "  disc_model = make_discriminator_network(num_hidden_layers=disc_hidden_layers, num_hidden_units=disc_hidden_size)\n",
        "  disc_model.build(input_shape=(None, np.prod(image_size)))\n",
        "\n",
        "loss_fn = tf.keras.losses.BinaryCrossentropy(from_logits=True)\n",
        "g_optimizer = tf.keras.optimizers.Adam()\n",
        "d_optimizer = tf.keras.optimizers.Adam()\n",
        "\n",
        "all_losses = []\n",
        "all_d_vals = []\n",
        "epoch_samples = []\n",
        "\n",
        "start_time = time.time()\n",
        "for epoch in range(1, num_epochs+1):\n",
        "  epoch_losses, epoch_d_vals = [], []\n",
        "  for i , (input_z, input_real) in enumerate(mnist_trainset):\n",
        "    with tf.GradientTape() as g_tape:\n",
        "      g_output = gen_model(input_z)\n",
        "      d_logits_fake = disc_model(g_output, training=True)\n",
        "      labels_real = tf.ones_like(d_logits_fake)\n",
        "      g_loss = loss_fn(y_true=labels_real, y_pred=d_logits_fake)\n",
        "\n",
        "    g_grads = g_tape.gradient(g_loss, gen_model.trainable_variables)\n",
        "    g_optimizer.apply_gradients(grads_and_vars=zip(g_grads, gen_model.trainable_variables))\n",
        "\n",
        "    with tf.GradientTape() as d_tape:\n",
        "      d_logits_real = disc_model(input_real, training=True)\n",
        "      d_labels_real = tf.ones_like(d_logits_real)\n",
        "      d_loss_real = loss_fn(y_true=d_labels_real, y_pred=d_logits_real)\n",
        "      d_logits_fake = disc_model(g_output, training=True)\n",
        "      d_labels_fake = tf.zeros_like(d_logits_fake)\n",
        "      d_loss_fake = loss_fn(y_true=d_labels_fake, y_pred=d_logits_fake)\n",
        "      d_loss = d_loss_real + d_loss_fake\n",
        "\n",
        "    d_grads = d_tape.gradient(d_loss, disc_model.trainable_variables)\n",
        "    d_optimizer.apply_gradients(grads_and_vars=zip(d_grads, disc_model.trainable_variables))\n",
        "    epoch_losses.append((g_loss.numpy(), d_loss.numpy(), d_loss_real.numpy(), d_loss_fake.numpy()))\n",
        "    d_probs_real = tf.reduce_mean(tf.sigmoid(d_logits_real))\n",
        "    d_probs_fake = tf.reduce_mean(tf.sigmoid(d_logits_fake))\n",
        "    epoch_d_vals.append((d_probs_real.numpy(), d_probs_fake.numpy()))\n",
        "\n",
        "  all_losses.append(epoch_losses)\n",
        "  all_d_vals.append(epoch_d_vals)\n",
        "  print('Epoch {:03d} | ET {:.2f} min | Avg Losses >> G/D {:.4f}/{:.4f}  [D-Real: {:.4f} D-Fake: {:.4f}]'.format(epoch, (time.time() - start_time)/60, *list(np.mean(all_losses[-1], axis=0))))\n",
        "  epoch_samples.append(create_samples(gen_model, fixed_z).numpy())\n"
      ],
      "metadata": {
        "colab": {
          "base_uri": "https://localhost:8080/"
        },
        "id": "8GUEY8G6nqhu",
        "outputId": "a108d869-056e-44d8-9f2f-d0c239ac2d1d"
      },
      "execution_count": null,
      "outputs": [
        {
          "output_type": "stream",
          "name": "stdout",
          "text": [
            "Epoch 001 | ET 0.48 min | Avg Losses >> G/D 2.8505/0.2769  [D-Real: 0.0332 D-Fake: 0.2436]\n",
            "Epoch 002 | ET 0.95 min | Avg Losses >> G/D 5.1397/0.3029  [D-Real: 0.1012 D-Fake: 0.2017]\n",
            "Epoch 003 | ET 1.42 min | Avg Losses >> G/D 3.4237/0.6638  [D-Real: 0.2928 D-Fake: 0.3710]\n",
            "Epoch 004 | ET 1.91 min | Avg Losses >> G/D 2.0912/0.8717  [D-Real: 0.4486 D-Fake: 0.4231]\n",
            "Epoch 005 | ET 2.42 min | Avg Losses >> G/D 2.2529/0.7682  [D-Real: 0.4220 D-Fake: 0.3462]\n",
            "Epoch 006 | ET 2.88 min | Avg Losses >> G/D 1.8582/0.8903  [D-Real: 0.4803 D-Fake: 0.4100]\n",
            "Epoch 007 | ET 3.34 min | Avg Losses >> G/D 1.5591/0.9521  [D-Real: 0.5295 D-Fake: 0.4225]\n",
            "Epoch 008 | ET 3.80 min | Avg Losses >> G/D 1.6135/0.9595  [D-Real: 0.5249 D-Fake: 0.4346]\n",
            "Epoch 009 | ET 4.26 min | Avg Losses >> G/D 1.4954/0.9922  [D-Real: 0.5417 D-Fake: 0.4505]\n",
            "Epoch 010 | ET 4.72 min | Avg Losses >> G/D 1.3577/1.0764  [D-Real: 0.5767 D-Fake: 0.4997]\n",
            "Epoch 011 | ET 5.18 min | Avg Losses >> G/D 1.4989/1.0171  [D-Real: 0.5438 D-Fake: 0.4733]\n",
            "Epoch 012 | ET 5.64 min | Avg Losses >> G/D 1.2730/1.1624  [D-Real: 0.6028 D-Fake: 0.5596]\n",
            "Epoch 013 | ET 6.10 min | Avg Losses >> G/D 1.1837/1.1768  [D-Real: 0.6132 D-Fake: 0.5636]\n",
            "Epoch 014 | ET 6.56 min | Avg Losses >> G/D 1.2290/1.1380  [D-Real: 0.5971 D-Fake: 0.5409]\n",
            "Epoch 015 | ET 7.03 min | Avg Losses >> G/D 1.2335/1.1461  [D-Real: 0.5954 D-Fake: 0.5507]\n",
            "Epoch 016 | ET 7.48 min | Avg Losses >> G/D 1.1918/1.1567  [D-Real: 0.6042 D-Fake: 0.5526]\n",
            "Epoch 017 | ET 7.94 min | Avg Losses >> G/D 1.1896/1.1425  [D-Real: 0.5965 D-Fake: 0.5460]\n",
            "Epoch 018 | ET 8.39 min | Avg Losses >> G/D 1.1985/1.1513  [D-Real: 0.5931 D-Fake: 0.5582]\n",
            "Epoch 019 | ET 8.84 min | Avg Losses >> G/D 1.1369/1.1896  [D-Real: 0.6108 D-Fake: 0.5789]\n",
            "Epoch 020 | ET 9.30 min | Avg Losses >> G/D 1.0889/1.2134  [D-Real: 0.6188 D-Fake: 0.5946]\n",
            "Epoch 021 | ET 9.75 min | Avg Losses >> G/D 1.1294/1.2062  [D-Real: 0.6120 D-Fake: 0.5942]\n",
            "Epoch 022 | ET 10.21 min | Avg Losses >> G/D 1.1112/1.1901  [D-Real: 0.6104 D-Fake: 0.5797]\n",
            "Epoch 023 | ET 10.66 min | Avg Losses >> G/D 1.0560/1.2159  [D-Real: 0.6208 D-Fake: 0.5951]\n",
            "Epoch 024 | ET 11.12 min | Avg Losses >> G/D 1.0837/1.2237  [D-Real: 0.6187 D-Fake: 0.6050]\n",
            "Epoch 025 | ET 11.57 min | Avg Losses >> G/D 1.1128/1.2113  [D-Real: 0.6176 D-Fake: 0.5936]\n",
            "Epoch 026 | ET 12.03 min | Avg Losses >> G/D 1.0972/1.2072  [D-Real: 0.6158 D-Fake: 0.5915]\n",
            "Epoch 027 | ET 12.48 min | Avg Losses >> G/D 1.0226/1.2348  [D-Real: 0.6274 D-Fake: 0.6074]\n",
            "Epoch 028 | ET 12.94 min | Avg Losses >> G/D 1.0010/1.2628  [D-Real: 0.6362 D-Fake: 0.6266]\n",
            "Epoch 029 | ET 13.39 min | Avg Losses >> G/D 0.9962/1.2675  [D-Real: 0.6415 D-Fake: 0.6261]\n",
            "Epoch 030 | ET 13.84 min | Avg Losses >> G/D 1.0925/1.2457  [D-Real: 0.6248 D-Fake: 0.6209]\n",
            "Epoch 031 | ET 14.29 min | Avg Losses >> G/D 1.0374/1.2505  [D-Real: 0.6305 D-Fake: 0.6200]\n",
            "Epoch 032 | ET 14.74 min | Avg Losses >> G/D 0.9594/1.2684  [D-Real: 0.6404 D-Fake: 0.6280]\n",
            "Epoch 033 | ET 15.19 min | Avg Losses >> G/D 1.0160/1.2697  [D-Real: 0.6407 D-Fake: 0.6289]\n",
            "Epoch 034 | ET 15.65 min | Avg Losses >> G/D 1.0785/1.2503  [D-Real: 0.6292 D-Fake: 0.6211]\n",
            "Epoch 035 | ET 16.10 min | Avg Losses >> G/D 0.9808/1.2674  [D-Real: 0.6390 D-Fake: 0.6284]\n",
            "Epoch 036 | ET 16.55 min | Avg Losses >> G/D 0.9348/1.2824  [D-Real: 0.6481 D-Fake: 0.6343]\n",
            "Epoch 037 | ET 17.00 min | Avg Losses >> G/D 1.0008/1.2784  [D-Real: 0.6444 D-Fake: 0.6339]\n",
            "Epoch 038 | ET 17.46 min | Avg Losses >> G/D 1.0107/1.2719  [D-Real: 0.6405 D-Fake: 0.6313]\n",
            "Epoch 039 | ET 17.91 min | Avg Losses >> G/D 0.9800/1.2728  [D-Real: 0.6422 D-Fake: 0.6306]\n",
            "Epoch 040 | ET 18.59 min | Avg Losses >> G/D 0.9609/1.2890  [D-Real: 0.6501 D-Fake: 0.6389]\n",
            "Epoch 041 | ET 19.04 min | Avg Losses >> G/D 0.9698/1.2780  [D-Real: 0.6421 D-Fake: 0.6359]\n",
            "Epoch 042 | ET 19.49 min | Avg Losses >> G/D 0.9980/1.2675  [D-Real: 0.6401 D-Fake: 0.6275]\n",
            "Epoch 043 | ET 19.94 min | Avg Losses >> G/D 0.9750/1.2860  [D-Real: 0.6466 D-Fake: 0.6394]\n",
            "Epoch 044 | ET 20.39 min | Avg Losses >> G/D 0.9339/1.3005  [D-Real: 0.6534 D-Fake: 0.6470]\n",
            "Epoch 045 | ET 20.84 min | Avg Losses >> G/D 0.9535/1.3034  [D-Real: 0.6526 D-Fake: 0.6508]\n",
            "Epoch 046 | ET 21.29 min | Avg Losses >> G/D 0.9867/1.2812  [D-Real: 0.6414 D-Fake: 0.6397]\n",
            "Epoch 047 | ET 21.73 min | Avg Losses >> G/D 0.9382/1.2911  [D-Real: 0.6492 D-Fake: 0.6419]\n",
            "Epoch 048 | ET 22.19 min | Avg Losses >> G/D 0.9526/1.2851  [D-Real: 0.6459 D-Fake: 0.6392]\n",
            "Epoch 049 | ET 22.63 min | Avg Losses >> G/D 0.9427/1.2945  [D-Real: 0.6503 D-Fake: 0.6442]\n",
            "Epoch 050 | ET 23.08 min | Avg Losses >> G/D 0.9845/1.2821  [D-Real: 0.6421 D-Fake: 0.6400]\n",
            "Epoch 051 | ET 23.52 min | Avg Losses >> G/D 0.9414/1.2896  [D-Real: 0.6503 D-Fake: 0.6393]\n",
            "Epoch 052 | ET 23.97 min | Avg Losses >> G/D 0.9741/1.2758  [D-Real: 0.6408 D-Fake: 0.6350]\n",
            "Epoch 053 | ET 24.41 min | Avg Losses >> G/D 0.9517/1.2883  [D-Real: 0.6469 D-Fake: 0.6414]\n",
            "Epoch 054 | ET 24.86 min | Avg Losses >> G/D 0.9362/1.2953  [D-Real: 0.6541 D-Fake: 0.6412]\n",
            "Epoch 055 | ET 25.30 min | Avg Losses >> G/D 0.9175/1.3102  [D-Real: 0.6573 D-Fake: 0.6529]\n",
            "Epoch 056 | ET 25.75 min | Avg Losses >> G/D 0.9073/1.3130  [D-Real: 0.6590 D-Fake: 0.6541]\n",
            "Epoch 057 | ET 26.19 min | Avg Losses >> G/D 0.9932/1.2915  [D-Real: 0.6451 D-Fake: 0.6464]\n",
            "Epoch 058 | ET 26.64 min | Avg Losses >> G/D 0.9252/1.3072  [D-Real: 0.6564 D-Fake: 0.6508]\n",
            "Epoch 059 | ET 27.08 min | Avg Losses >> G/D 0.8907/1.3246  [D-Real: 0.6654 D-Fake: 0.6591]\n",
            "Epoch 060 | ET 27.53 min | Avg Losses >> G/D 0.9586/1.3047  [D-Real: 0.6524 D-Fake: 0.6523]\n",
            "Epoch 061 | ET 27.97 min | Avg Losses >> G/D 0.9701/1.2938  [D-Real: 0.6503 D-Fake: 0.6435]\n",
            "Epoch 062 | ET 28.42 min | Avg Losses >> G/D 0.9102/1.3069  [D-Real: 0.6574 D-Fake: 0.6496]\n",
            "Epoch 063 | ET 28.86 min | Avg Losses >> G/D 0.9149/1.3104  [D-Real: 0.6580 D-Fake: 0.6524]\n",
            "Epoch 064 | ET 29.31 min | Avg Losses >> G/D 0.9208/1.3115  [D-Real: 0.6571 D-Fake: 0.6544]\n",
            "Epoch 065 | ET 29.75 min | Avg Losses >> G/D 0.9677/1.3013  [D-Real: 0.6523 D-Fake: 0.6491]\n",
            "Epoch 066 | ET 30.20 min | Avg Losses >> G/D 0.9238/1.3032  [D-Real: 0.6525 D-Fake: 0.6506]\n",
            "Epoch 067 | ET 30.64 min | Avg Losses >> G/D 0.9181/1.3077  [D-Real: 0.6563 D-Fake: 0.6514]\n",
            "Epoch 068 | ET 31.09 min | Avg Losses >> G/D 0.9316/1.3070  [D-Real: 0.6581 D-Fake: 0.6489]\n",
            "Epoch 069 | ET 31.53 min | Avg Losses >> G/D 0.9305/1.3136  [D-Real: 0.6583 D-Fake: 0.6554]\n",
            "Epoch 070 | ET 31.97 min | Avg Losses >> G/D 0.9443/1.3030  [D-Real: 0.6503 D-Fake: 0.6527]\n",
            "Epoch 071 | ET 32.42 min | Avg Losses >> G/D 0.9452/1.3002  [D-Real: 0.6529 D-Fake: 0.6473]\n",
            "Epoch 072 | ET 32.87 min | Avg Losses >> G/D 0.9043/1.3137  [D-Real: 0.6591 D-Fake: 0.6545]\n",
            "Epoch 073 | ET 33.31 min | Avg Losses >> G/D 0.9051/1.3192  [D-Real: 0.6623 D-Fake: 0.6569]\n",
            "Epoch 074 | ET 33.76 min | Avg Losses >> G/D 0.9649/1.3034  [D-Real: 0.6518 D-Fake: 0.6516]\n",
            "Epoch 075 | ET 34.20 min | Avg Losses >> G/D 0.9312/1.3028  [D-Real: 0.6565 D-Fake: 0.6463]\n",
            "Epoch 076 | ET 34.65 min | Avg Losses >> G/D 0.9047/1.3107  [D-Real: 0.6579 D-Fake: 0.6528]\n",
            "Epoch 077 | ET 35.09 min | Avg Losses >> G/D 0.9756/1.3006  [D-Real: 0.6506 D-Fake: 0.6500]\n",
            "Epoch 078 | ET 35.54 min | Avg Losses >> G/D 0.9197/1.3119  [D-Real: 0.6589 D-Fake: 0.6529]\n",
            "Epoch 079 | ET 35.98 min | Avg Losses >> G/D 0.9126/1.3075  [D-Real: 0.6567 D-Fake: 0.6508]\n",
            "Epoch 080 | ET 36.44 min | Avg Losses >> G/D 0.9166/1.3149  [D-Real: 0.6595 D-Fake: 0.6555]\n",
            "Epoch 081 | ET 36.88 min | Avg Losses >> G/D 0.9154/1.3172  [D-Real: 0.6596 D-Fake: 0.6576]\n",
            "Epoch 082 | ET 37.33 min | Avg Losses >> G/D 0.9186/1.3198  [D-Real: 0.6615 D-Fake: 0.6583]\n",
            "Epoch 083 | ET 37.79 min | Avg Losses >> G/D 0.9532/1.3063  [D-Real: 0.6547 D-Fake: 0.6516]\n",
            "Epoch 084 | ET 38.23 min | Avg Losses >> G/D 0.9261/1.3167  [D-Real: 0.6609 D-Fake: 0.6557]\n",
            "Epoch 085 | ET 38.67 min | Avg Losses >> G/D 0.9217/1.3160  [D-Real: 0.6627 D-Fake: 0.6533]\n",
            "Epoch 086 | ET 39.12 min | Avg Losses >> G/D 0.9267/1.3032  [D-Real: 0.6534 D-Fake: 0.6498]\n",
            "Epoch 087 | ET 39.56 min | Avg Losses >> G/D 0.9109/1.3144  [D-Real: 0.6594 D-Fake: 0.6550]\n",
            "Epoch 088 | ET 40.01 min | Avg Losses >> G/D 0.9130/1.3131  [D-Real: 0.6578 D-Fake: 0.6553]\n",
            "Epoch 089 | ET 40.45 min | Avg Losses >> G/D 0.9154/1.3067  [D-Real: 0.6563 D-Fake: 0.6504]\n",
            "Epoch 090 | ET 40.90 min | Avg Losses >> G/D 0.9160/1.3111  [D-Real: 0.6571 D-Fake: 0.6540]\n",
            "Epoch 091 | ET 41.34 min | Avg Losses >> G/D 0.8890/1.3142  [D-Real: 0.6596 D-Fake: 0.6546]\n",
            "Epoch 092 | ET 41.78 min | Avg Losses >> G/D 0.9149/1.3160  [D-Real: 0.6599 D-Fake: 0.6561]\n",
            "Epoch 093 | ET 42.23 min | Avg Losses >> G/D 0.9177/1.3198  [D-Real: 0.6623 D-Fake: 0.6575]\n",
            "Epoch 094 | ET 42.67 min | Avg Losses >> G/D 0.9010/1.3150  [D-Real: 0.6599 D-Fake: 0.6550]\n",
            "Epoch 095 | ET 43.12 min | Avg Losses >> G/D 0.9194/1.3100  [D-Real: 0.6571 D-Fake: 0.6530]\n",
            "Epoch 096 | ET 43.56 min | Avg Losses >> G/D 0.9161/1.3207  [D-Real: 0.6637 D-Fake: 0.6570]\n",
            "Epoch 097 | ET 44.00 min | Avg Losses >> G/D 0.9063/1.3165  [D-Real: 0.6601 D-Fake: 0.6565]\n",
            "Epoch 098 | ET 44.45 min | Avg Losses >> G/D 0.9228/1.3225  [D-Real: 0.6603 D-Fake: 0.6622]\n",
            "Epoch 099 | ET 44.89 min | Avg Losses >> G/D 0.9462/1.3056  [D-Real: 0.6526 D-Fake: 0.6531]\n",
            "Epoch 100 | ET 45.33 min | Avg Losses >> G/D 0.8806/1.3212  [D-Real: 0.6640 D-Fake: 0.6573]\n"
          ]
        }
      ]
    },
    {
      "cell_type": "code",
      "source": [
        "import itertools \n",
        "import matplotlib.pyplot as plt\n",
        "%matplotlib inline\n",
        "\n",
        "fig = plt.figure(figsize=(16,6))\n",
        "\n",
        "ax = fig.add_subplot(1,2,1)\n",
        "g_losses = [item[0] for item in itertools.chain(*all_losses)]\n",
        "d_losses = [item[1]/2 for item in itertools.chain(*all_losses)]\n",
        "plt.plot(g_losses, label ='Generator loss', alpha=0.95)\n",
        "plt.plot(d_losses, label='Discriminator loss', alpha=0.95)\n",
        "plt.legend(fontsize=20)\n",
        "ax.set_xlabel('Iteration', size=15)\n",
        "ax.set_ylabel('Loss', size=15)\n",
        "\n",
        "epochs = np.arange(1,101)\n",
        "epoch2iter = lambda e: e*len(all_losses[-1])\n",
        "epoch_ticks = [1,20, 40, 60, 80, 100]\n",
        "newpos = [epoch2iter(e) for e in epoch_ticks]\n",
        "ax2 = ax.twiny()\n",
        "ax2.set_xticks(newpos)\n",
        "ax2.set_xticklabels(epoch_ticks)\n",
        "ax2.xaxis.set_ticks_position('bottom')\n",
        "ax2.xaxis.set_label_position('bottom')\n",
        "ax.spines['bottom'].set_position(('outward', 60))\n",
        "ax.set_xlabel('Epoch', size=15)\n",
        "ax2.set_xlim(ax.get_xlim())\n",
        "ax.tick_params(axis='both', which='major', labelsize=15)\n",
        "ax2.tick_params(axis='both', which='major', labelsize=15)\n",
        "\n",
        "ax = fig.add_subplot(1,2,2)\n",
        "d_vals_real = [item[0] for item in itertools.chain(*all_d_vals)]\n",
        "d_vals_fake = [item[1] for item in itertools.chain(*all_d_vals)]\n",
        "plt.plot(d_vals_real, alpha=0.75, label=r'Real: $D(\\mathbf{x})$')\n",
        "plt.plot(d_vals_fake, alpha=0.75, label=r'Fake: $D(G(\\mathbf{z}))$')\n",
        "plt.legend(fontsize=20)\n",
        "ax.set_xlabel('Iteration', size=15)\n",
        "ax.set_ylabel('Discriminator output', size=15)\n",
        "\n",
        "ax2 = ax.twiny()\n",
        "ax2.set_xticks(newpos)\n",
        "ax2.set_xticklabels(epoch_ticks)\n",
        "ax2.xaxis.set_ticks_position('bottom')\n",
        "ax2.xaxis.set_label_position('bottom')\n",
        "ax2.spines['bottom'].set_position(('outward', 60))\n",
        "ax2.set_xlabel('Epoch', size=15)\n",
        "ax2.set_xlim(ax.get_xlim())\n",
        "ax.tick_params(axis='both', which='major', labelsize=15)\n",
        "ax2.tick_params(axis='both', which='major', labelsize=15)\n",
        "plt.show()"
      ],
      "metadata": {
        "colab": {
          "base_uri": "https://localhost:8080/",
          "height": 458
        },
        "id": "L4KrkiCSJNDl",
        "outputId": "c0d7cf25-9438-4012-e28a-564448ad1863"
      },
      "execution_count": null,
      "outputs": [
        {
          "output_type": "display_data",
          "data": {
            "text/plain": [
              "<Figure size 1152x432 with 4 Axes>"
            ],
            "image/png": "[encoded data removed]"
          },
          "metadata": {
            "needs_background": "light"
          }
        }
      ]
    },
    {
      "cell_type": "code",
      "source": [
        "selected_epochs = [1,2,4,10,50,100]\n",
        "fig = plt.figure(figsize=(10,14))\n",
        "for i, e in enumerate(selected_epochs):\n",
        "  for j in range(5):\n",
        "    ax = fig.add_subplot(6,5, i*5 + j+1)\n",
        "    ax.set_xticks([])\n",
        "    ax.set_yticks([])\n",
        "    if j == 0:\n",
        "      ax.text(-0.06, 0.5, 'Epoch {}'.format(e), rotation=90, size=18, color='red', horizontalalignment='right', verticalalignment='center', transform=ax.transAxes)\n",
        "    image = epoch_samples[e-1][j]\n",
        "    ax.imshow(image, cmap='gray_r')\n",
        "\n",
        "plt.show()"
      ],
      "metadata": {
        "colab": {
          "base_uri": "https://localhost:8080/",
          "height": 783
        },
        "id": "I-7t7rWjXCIF",
        "outputId": "e8d68ba4-002e-4897-c031-990b85a232a5"
      },
      "execution_count": null,
      "outputs": [
        {
          "output_type": "display_data",
          "data": {
            "text/plain": [
              "<Figure size 720x1008 with 30 Axes>"
            ],
            "image/png": "[encoded data removed]"
          },
          "metadata": {}
        }
      ]
    },
    {
      "cell_type": "code",
      "source": [],
      "metadata": {
        "id": "hq1I8Rs5ZJJt"
      },
      "execution_count": null,
      "outputs": []
    }
  ]
}
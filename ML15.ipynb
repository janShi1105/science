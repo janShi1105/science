{
  "nbformat": 4,
  "nbformat_minor": 0,
  "metadata": {
    "colab": {
      "provenance": [],
      "collapsed_sections": [],
      "authorship_tag": "ABX9TyOOVkFwNfaFrrw/xJPSRx87",
      "include_colab_link": true
    },
    "kernelspec": {
      "name": "python3",
      "display_name": "Python 3"
    },
    "language_info": {
      "name": "python"
    }
  },
  "cells": [
    {
      "cell_type": "markdown",
      "metadata": {
        "id": "view-in-github",
        "colab_type": "text"
      },
      "source": [
        "<a href=\"https://colab.research.google.com/github/janShi1105/science/blob/main/ML15.ipynb\" target=\"_parent\"><img src=\"https://colab.research.google.com/assets/colab-badge.svg\" alt=\"Open In Colab\"/></a>"
      ]
    },
    {
      "cell_type": "code",
      "execution_count": 1,
      "metadata": {
        "colab": {
          "base_uri": "https://localhost:8080/"
        },
        "id": "w3iihgDBqMy4",
        "outputId": "a23b5d8d-483e-4301-9839-409dd9f3c4b4"
      },
      "outputs": [
        {
          "output_type": "stream",
          "name": "stdout",
          "text": [
            "Convld Implementation: [ 5. 14. 16. 26. 24. 34. 19. 22.]\n",
            "Numpy Results:  [ 5 14 16 26 24 34 19 22]\n"
          ]
        }
      ],
      "source": [
        "import numpy as np\n",
        "\n",
        "def convld(x, w, p=0, s=1):\n",
        "  w_rot = np.array(w[::-1])\n",
        "  x_padded = np.array(x)\n",
        "  if p > 0:\n",
        "    zero_pad = np.zeros(shape=p)\n",
        "    x_padded = np.concatenate([zero_pad, x_padded, zero_pad])\n",
        "  res = []\n",
        "  for i in range(0, int((len(x_padded) - len(w_rot))/ s) + 1, s):\n",
        "    res.append(np.sum(x_padded[i:i + w_rot.shape[0]] * w_rot))\n",
        "  return np.array(res)\n",
        "\n",
        "x = [1,3,2,4,5,6,1,3]\n",
        "w = [1,0,3,1,2]\n",
        "print('Convld Implementation:', convld(x, w, p=2, s=1))\n",
        "print('Numpy Results: ', np.convolve(x,w, mode='same'))"
      ]
    },
    {
      "cell_type": "code",
      "source": [
        "import numpy as np\n",
        "import scipy.signal\n",
        "\n",
        "def conv2d(X, W, p=(0,0), s=(1,1)):\n",
        "  W_rot =  np.array(W)[::-1, ::-1]\n",
        "  X_orig = np.array(X)\n",
        "  n1 = X_orig.shape[0] + 2 * p[0]\n",
        "  n2 = X_orig.shape[1] + 2* p[1]\n",
        "  X_padded = np.zeros(shape=(n1,n2))\n",
        "  X_padded[p[0]:p[0] + X_orig.shape[0], p[1]:p[1] + X_orig.shape[1]] = X_orig\n",
        "  res = []\n",
        "  for i in range(0, int((X_padded.shape[0] - W_rot.shape[0]) / s[0]) + 1, s[0]):\n",
        "    res.append([])\n",
        "    for j in range(0, int((X_padded.shape[1] - W_rot.shape[1]) /s[1]) + 1, s[1]):\n",
        "      X_sub = X_padded[i: i + W_rot.shape[0], j:j+W_rot.shape[1]]\n",
        "      res[-1].append(np.sum(X_sub * W_rot))\n",
        "  return (np.array(res))\n",
        "\n",
        "X = [[1,3,2,4], [5,6,1,3], [1,2,0,2], [3,4,3,2]]\n",
        "W = [[1,0,3], [1,2,1], [0,1,1]]\n",
        "print('Conv2d Implementation:\\n', conv2d(X, W, p=(1,1), s=(1,1)))\n",
        "\n",
        "print('Scipy Results: \\n', scipy.signal.convolve2d(X, W, mode='same'))"
      ],
      "metadata": {
        "colab": {
          "base_uri": "https://localhost:8080/"
        },
        "id": "dahj69V_qQ49",
        "outputId": "4c303cd4-12ce-4088-905a-3e8eb647c898"
      },
      "execution_count": 2,
      "outputs": [
        {
          "output_type": "stream",
          "name": "stdout",
          "text": [
            "Conv2d Implementation:\n",
            " [[11. 25. 32. 13.]\n",
            " [19. 25. 24. 13.]\n",
            " [13. 28. 25. 17.]\n",
            " [11. 17. 14.  9.]]\n",
            "Scipy Results: \n",
            " [[11 25 32 13]\n",
            " [19 25 24 13]\n",
            " [13 28 25 17]\n",
            " [11 17 14  9]]\n"
          ]
        }
      ]
    },
    {
      "cell_type": "code",
      "source": [
        "from google.colab import drive\n",
        "drive.mount('/content/drive')"
      ],
      "metadata": {
        "colab": {
          "base_uri": "https://localhost:8080/"
        },
        "id": "qfA06P5ZeFTJ",
        "outputId": "6e3dedc9-966e-40c9-d722-d019030c0f4d"
      },
      "execution_count": 3,
      "outputs": [
        {
          "output_type": "stream",
          "name": "stdout",
          "text": [
            "Mounted at /content/drive\n"
          ]
        }
      ]
    },
    {
      "cell_type": "code",
      "source": [
        "import tensorflow as tf\n",
        "img_raw = tf.io.read_file('drive/MyDrive/example-image.png')\n",
        "img = tf.image.decode_image(img_raw)\n",
        "print('Image shape: ', img.shape)"
      ],
      "metadata": {
        "colab": {
          "base_uri": "https://localhost:8080/"
        },
        "id": "fpN5DeK2rrzN",
        "outputId": "3e05bb36-cdfa-4073-acf8-dd2e600ae9bf"
      },
      "execution_count": 6,
      "outputs": [
        {
          "output_type": "stream",
          "name": "stdout",
          "text": [
            "Image shape:  (252, 221, 3)\n"
          ]
        }
      ]
    },
    {
      "cell_type": "code",
      "source": [
        "!ls"
      ],
      "metadata": {
        "colab": {
          "base_uri": "https://localhost:8080/"
        },
        "id": "8USVy4sBr8g7",
        "outputId": "151bf5cd-b651-4812-b0b5-932fa215cc9a"
      },
      "execution_count": 5,
      "outputs": [
        {
          "output_type": "stream",
          "name": "stdout",
          "text": [
            "drive  sample_data\n"
          ]
        }
      ]
    },
    {
      "cell_type": "code",
      "source": [
        "!pip install imageio"
      ],
      "metadata": {
        "colab": {
          "base_uri": "https://localhost:8080/"
        },
        "id": "n_5VxbrfsBmJ",
        "outputId": "526c935e-63f0-46cc-c2c1-1f6a32068044"
      },
      "execution_count": 7,
      "outputs": [
        {
          "output_type": "stream",
          "name": "stdout",
          "text": [
            "Looking in indexes: https://pypi.org/simple, https://us-python.pkg.dev/colab-wheels/public/simple/\n",
            "Requirement already satisfied: imageio in /usr/local/lib/python3.7/dist-packages (2.9.0)\n",
            "Requirement already satisfied: numpy in /usr/local/lib/python3.7/dist-packages (from imageio) (1.21.6)\n",
            "Requirement already satisfied: pillow in /usr/local/lib/python3.7/dist-packages (from imageio) (7.1.2)\n"
          ]
        }
      ]
    },
    {
      "cell_type": "code",
      "source": [
        "import imageio\n",
        "img = imageio.imread('drive/MyDrive/example-image.png')\n",
        "print('Image shape: ', img.shape)\n",
        "print('Number of channels: ', img.shape[2])\n",
        "print('Image data type: ', img.dtype)"
      ],
      "metadata": {
        "colab": {
          "base_uri": "https://localhost:8080/"
        },
        "id": "sEBC2HcgsIya",
        "outputId": "e01e3ffd-d096-4b2d-97b2-02ed185c7fa4"
      },
      "execution_count": 8,
      "outputs": [
        {
          "output_type": "stream",
          "name": "stdout",
          "text": [
            "Image shape:  (252, 221, 3)\n",
            "Number of channels:  3\n",
            "Image data type:  uint8\n"
          ]
        }
      ]
    },
    {
      "cell_type": "code",
      "source": [
        "print(img[100:102, 100:102, :])"
      ],
      "metadata": {
        "colab": {
          "base_uri": "https://localhost:8080/"
        },
        "id": "1CXUGR6UsZyB",
        "outputId": "17575c7e-2047-4462-f316-e3daa6359860"
      },
      "execution_count": 9,
      "outputs": [
        {
          "output_type": "stream",
          "name": "stdout",
          "text": [
            "[[[179 134 110]\n",
            "  [182 136 112]]\n",
            "\n",
            " [[180 135 111]\n",
            "  [182 137 113]]]\n"
          ]
        }
      ]
    },
    {
      "cell_type": "code",
      "source": [
        "from tensorflow import keras \n",
        "comv_layer = keras.layers.Conv2D(filters=16, kernel_size=(3,3), kernel_regularizer=keras.regularizers.l2(0.001))\n",
        "fc_layer = keras.layers.Dense(units=16, kernel_regularizer=keras.regularizers.l2(0.001))"
      ],
      "metadata": {
        "id": "bVyQuQJaseZG"
      },
      "execution_count": 12,
      "outputs": []
    },
    {
      "cell_type": "code",
      "source": [],
      "metadata": {
        "id": "jI6qtKjfu3WI"
      },
      "execution_count": null,
      "outputs": []
    }
  ]
}
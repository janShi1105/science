{
  "nbformat": 4,
  "nbformat_minor": 0,
  "metadata": {
    "colab": {
      "provenance": [],
      "collapsed_sections": [],
      "authorship_tag": "ABX9TyOnurlUupWeZS5e+WHmhSRV",
      "include_colab_link": true
    },
    "kernelspec": {
      "name": "python3",
      "display_name": "Python 3"
    },
    "language_info": {
      "name": "python"
    }
  },
  "cells": [
    {
      "cell_type": "markdown",
      "metadata": {
        "id": "view-in-github",
        "colab_type": "text"
      },
      "source": [
        "<a href=\"https://colab.research.google.com/github/janShi1105/science/blob/main/ML15.ipynb\" target=\"_parent\"><img src=\"https://colab.research.google.com/assets/colab-badge.svg\" alt=\"Open In Colab\"/></a>"
      ]
    },
    {
      "cell_type": "code",
      "execution_count": 3,
      "metadata": {
        "colab": {
          "base_uri": "https://localhost:8080/"
        },
        "id": "w3iihgDBqMy4",
        "outputId": "c9dc3e2b-6923-4332-c13b-4471c43ed1fc"
      },
      "outputs": [
        {
          "output_type": "stream",
          "name": "stdout",
          "text": [
            "Convld Implementation: [ 5. 14. 16. 26. 24. 34. 19. 22.]\n",
            "Numpy Results:  [ 5 14 16 26 24 34 19 22]\n"
          ]
        }
      ],
      "source": [
        "import numpy as np\n",
        "\n",
        "def convld(x, w, p=0, s=1):\n",
        "  w_rot = np.array(w[::-1])\n",
        "  x_padded = np.array(x)\n",
        "  if p > 0:\n",
        "    zero_pad = np.zeros(shape=p)\n",
        "    x_padded = np.concatenate([zero_pad, x_padded, zero_pad])\n",
        "  res = []\n",
        "  for i in range(0, int((len(x_padded) - len(w_rot))/ s) + 1, s):\n",
        "    res.append(np.sum(x_padded[i:i + w_rot.shape[0]] * w_rot))\n",
        "  return np.array(res)\n",
        "\n",
        "x = [1,3,2,4,5,6,1,3]\n",
        "w = [1,0,3,1,2]\n",
        "print('Convld Implementation:', convld(x, w, p=2, s=1))\n",
        "print('Numpy Results: ', np.convolve(x,w, mode='same'))"
      ]
    },
    {
      "cell_type": "code",
      "source": [],
      "metadata": {
        "id": "dahj69V_qQ49"
      },
      "execution_count": null,
      "outputs": []
    }
  ]
}
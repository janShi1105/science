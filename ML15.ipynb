{
  "nbformat": 4,
  "nbformat_minor": 0,
  "metadata": {
    "colab": {
      "provenance": [],
      "collapsed_sections": [],
      "authorship_tag": "ABX9TyPGct7zvpez+Hs3ioYDA+YU",
      "include_colab_link": true
    },
    "kernelspec": {
      "name": "python3",
      "display_name": "Python 3"
    },
    "language_info": {
      "name": "python"
    }
  },
  "cells": [
    {
      "cell_type": "markdown",
      "metadata": {
        "id": "view-in-github",
        "colab_type": "text"
      },
      "source": [
        "<a href=\"https://colab.research.google.com/github/janShi1105/science/blob/main/ML15.ipynb\" target=\"_parent\"><img src=\"https://colab.research.google.com/assets/colab-badge.svg\" alt=\"Open In Colab\"/></a>"
      ]
    },
    {
      "cell_type": "code",
      "execution_count": 1,
      "metadata": {
        "colab": {
          "base_uri": "https://localhost:8080/"
        },
        "id": "w3iihgDBqMy4",
        "outputId": "37ac76cd-4b3d-4501-d51f-ed71967ead08"
      },
      "outputs": [
        {
          "output_type": "stream",
          "name": "stdout",
          "text": [
            "Convld Implementation: [ 5. 14. 16. 26. 24. 34. 19. 22.]\n",
            "Numpy Results:  [ 5 14 16 26 24 34 19 22]\n"
          ]
        }
      ],
      "source": [
        "import numpy as np\n",
        "\n",
        "def convld(x, w, p=0, s=1):\n",
        "  w_rot = np.array(w[::-1])\n",
        "  x_padded = np.array(x)\n",
        "  if p > 0:\n",
        "    zero_pad = np.zeros(shape=p)\n",
        "    x_padded = np.concatenate([zero_pad, x_padded, zero_pad])\n",
        "  res = []\n",
        "  for i in range(0, int((len(x_padded) - len(w_rot))/ s) + 1, s):\n",
        "    res.append(np.sum(x_padded[i:i + w_rot.shape[0]] * w_rot))\n",
        "  return np.array(res)\n",
        "\n",
        "x = [1,3,2,4,5,6,1,3]\n",
        "w = [1,0,3,1,2]\n",
        "print('Convld Implementation:', convld(x, w, p=2, s=1))\n",
        "print('Numpy Results: ', np.convolve(x,w, mode='same'))"
      ]
    },
    {
      "cell_type": "code",
      "source": [
        "import numpy as np\n",
        "import scipy.signal\n",
        "\n",
        "def conv2d(X, W, p=(0,0), s=(1,1)):\n",
        "  W_rot =  np.array(W)[::-1, ::-1]\n",
        "  X_orig = np.array(X)\n",
        "  n1 = X_orig.shape[0] + 2 * p[0]\n",
        "  n2 = X_orig.shape[1] + 2* p[1]\n",
        "  X_padded = np.zeros(shape=(n1,n2))\n",
        "  X_padded[p[0]:p[0] + X_orig.shape[0], p[1]:p[1] + X_orig.shape[1]] = X_orig\n",
        "  res = []\n",
        "  for i in range(0, int((X_padded.shape[0] - W_rot.shape[0]) / s[0]) + 1, s[0]):\n",
        "    res.append([])\n",
        "    for j in range(0, int((X_padded.shape[1] - W_rot.shape[1]) /s[1]) + 1, s[1]):\n",
        "      X_sub = X_padded[i: i + W_rot.shape[0], j:j+W_rot.shape[1]]\n",
        "      res[-1].append(np.sum(X_sub * W_rot))\n",
        "  return (np.array(res))\n",
        "\n",
        "X = [[1,3,2,4], [5,6,1,3], [1,2,0,2], [3,4,3,2]]\n",
        "W = [[1,0,3], [1,2,1], [0,1,1]]\n",
        "print('Conv2d Implementation:\\n', conv2d(X, W, p=(1,1), s=(1,1)))\n",
        "\n",
        "print('Scipy Results: \\n', scipy.signal.convolve2d(X, W, mode='same'))"
      ],
      "metadata": {
        "colab": {
          "base_uri": "https://localhost:8080/"
        },
        "id": "dahj69V_qQ49",
        "outputId": "ef6a3995-bd9a-449b-c61d-42ab62660b1d"
      },
      "execution_count": 2,
      "outputs": [
        {
          "output_type": "stream",
          "name": "stdout",
          "text": [
            "Conv2d Implementation:\n",
            " [[11. 25. 32. 13.]\n",
            " [19. 25. 24. 13.]\n",
            " [13. 28. 25. 17.]\n",
            " [11. 17. 14.  9.]]\n",
            "Scipy Results: \n",
            " [[11 25 32 13]\n",
            " [19 25 24 13]\n",
            " [13 28 25 17]\n",
            " [11 17 14  9]]\n"
          ]
        }
      ]
    },
    {
      "cell_type": "code",
      "source": [
        "from google.colab import drive\n",
        "drive.mount('/content/drive')"
      ],
      "metadata": {
        "colab": {
          "base_uri": "https://localhost:8080/"
        },
        "id": "qfA06P5ZeFTJ",
        "outputId": "6b081c5d-7df9-42d3-cd84-f3d75d887151"
      },
      "execution_count": 3,
      "outputs": [
        {
          "output_type": "stream",
          "name": "stdout",
          "text": [
            "Mounted at /content/drive\n"
          ]
        }
      ]
    },
    {
      "cell_type": "code",
      "source": [
        "import tensorflow as tf\n",
        "img_raw = tf.io.read_file('drive/MyDrive/example-image.png')\n",
        "img = tf.image.decode_image(img_raw)\n",
        "print('Image shape: ', img.shape)"
      ],
      "metadata": {
        "colab": {
          "base_uri": "https://localhost:8080/"
        },
        "id": "fpN5DeK2rrzN",
        "outputId": "607df692-52fe-48e7-a1b0-a620f209e65b"
      },
      "execution_count": 4,
      "outputs": [
        {
          "output_type": "stream",
          "name": "stdout",
          "text": [
            "Image shape:  (252, 221, 3)\n"
          ]
        }
      ]
    },
    {
      "cell_type": "code",
      "source": [
        "!ls"
      ],
      "metadata": {
        "colab": {
          "base_uri": "https://localhost:8080/"
        },
        "id": "8USVy4sBr8g7",
        "outputId": "c84aec51-8489-4af6-cc7e-c6170d800436"
      },
      "execution_count": 5,
      "outputs": [
        {
          "output_type": "stream",
          "name": "stdout",
          "text": [
            "drive  sample_data\n"
          ]
        }
      ]
    },
    {
      "cell_type": "code",
      "source": [
        "!pip install imageio"
      ],
      "metadata": {
        "colab": {
          "base_uri": "https://localhost:8080/"
        },
        "id": "n_5VxbrfsBmJ",
        "outputId": "4358bc51-d299-4c9a-f17d-cd22c5dce877"
      },
      "execution_count": 6,
      "outputs": [
        {
          "output_type": "stream",
          "name": "stdout",
          "text": [
            "Looking in indexes: https://pypi.org/simple, https://us-python.pkg.dev/colab-wheels/public/simple/\n",
            "Requirement already satisfied: imageio in /usr/local/lib/python3.7/dist-packages (2.9.0)\n",
            "Requirement already satisfied: numpy in /usr/local/lib/python3.7/dist-packages (from imageio) (1.21.6)\n",
            "Requirement already satisfied: pillow in /usr/local/lib/python3.7/dist-packages (from imageio) (7.1.2)\n"
          ]
        }
      ]
    },
    {
      "cell_type": "code",
      "source": [
        "import imageio\n",
        "img = imageio.imread('drive/MyDrive/example-image.png')\n",
        "print('Image shape: ', img.shape)\n",
        "print('Number of channels: ', img.shape[2])\n",
        "print('Image data type: ', img.dtype)"
      ],
      "metadata": {
        "colab": {
          "base_uri": "https://localhost:8080/"
        },
        "id": "sEBC2HcgsIya",
        "outputId": "f9912fcf-ac35-4813-b3b9-706ad2ab63d8"
      },
      "execution_count": 7,
      "outputs": [
        {
          "output_type": "stream",
          "name": "stdout",
          "text": [
            "Image shape:  (252, 221, 3)\n",
            "Number of channels:  3\n",
            "Image data type:  uint8\n"
          ]
        }
      ]
    },
    {
      "cell_type": "code",
      "source": [
        "print(img[100:102, 100:102, :])"
      ],
      "metadata": {
        "colab": {
          "base_uri": "https://localhost:8080/"
        },
        "id": "1CXUGR6UsZyB",
        "outputId": "980f75c7-34e0-451e-9750-1a035c7ba598"
      },
      "execution_count": 8,
      "outputs": [
        {
          "output_type": "stream",
          "name": "stdout",
          "text": [
            "[[[179 134 110]\n",
            "  [182 136 112]]\n",
            "\n",
            " [[180 135 111]\n",
            "  [182 137 113]]]\n"
          ]
        }
      ]
    },
    {
      "cell_type": "code",
      "source": [
        "from tensorflow import keras \n",
        "comv_layer = keras.layers.Conv2D(filters=16, kernel_size=(3,3), kernel_regularizer=keras.regularizers.l2(0.001))\n",
        "fc_layer = keras.layers.Dense(units=16, kernel_regularizer=keras.regularizers.l2(0.001))"
      ],
      "metadata": {
        "id": "bVyQuQJaseZG"
      },
      "execution_count": 9,
      "outputs": []
    },
    {
      "cell_type": "code",
      "source": [
        "bce_probas = tf.keras.losses.BinaryCrossentropy(from_logits=False)\n",
        "bce_logits = tf.keras.losses.BinaryCrossentropy(from_logits=True)\n",
        "\n",
        "logits = tf.constant([0.8])\n",
        "probas = tf.keras.activations.sigmoid(logits)\n",
        "tf.print('BCE (w probas): {:.4f}'.format(bce_probas(y_true=[1], y_pred=probas)), '(w Logits): {:.4f}'.format(bce_logits(y_true=[1], y_pred=logits)))"
      ],
      "metadata": {
        "colab": {
          "base_uri": "https://localhost:8080/"
        },
        "id": "jI6qtKjfu3WI",
        "outputId": "42300b56-5767-4d38-acad-76cb229cb873"
      },
      "execution_count": 12,
      "outputs": [
        {
          "output_type": "stream",
          "name": "stdout",
          "text": [
            "BCE (w probas): 0.3711 (w Logits): 0.3711\n"
          ]
        }
      ]
    },
    {
      "cell_type": "code",
      "source": [
        "cce_probas = tf.keras.losses.CategoricalCrossentropy(from_logits=False)\n",
        "cce_logits = tf.keras.losses.CategoricalCrossentropy(from_logits=True)\n",
        "logits = tf.constant([[1.5, 0.8, 2.1]])\n",
        "probas = tf.keras.activations.softmax(logits)\n",
        "tf.print(\n",
        "    'CCE (w probas): {:.4f}'.format(cce_probas(y_true=[[0,0,1]], y_pred=probas)),\n",
        "    '(w logits): {:.4f}'.format(cce_logits(y_true=[[0,0,1]], y_pred=logits))\n",
        ")                                                    "
      ],
      "metadata": {
        "colab": {
          "base_uri": "https://localhost:8080/"
        },
        "id": "DF157n51gUPt",
        "outputId": "89a9ba08-95db-4905-e57b-52831a3c7588"
      },
      "execution_count": 14,
      "outputs": [
        {
          "output_type": "stream",
          "name": "stdout",
          "text": [
            "CCE (w probas): 0.5996 (w logits): 0.5996\n"
          ]
        }
      ]
    },
    {
      "cell_type": "code",
      "source": [
        "sp_cce_probas = tf.keras.losses.SparseCategoricalCrossentropy(from_logits=False)\n",
        "sp_cce_logits = tf.keras.losses.SparseCategoricalCrossentropy(from_logits=True)\n",
        "\n",
        "tf.print(\n",
        "    'Sparse CCE (w Probas): {:.4f}'.format(sp_cce_probas(y_true=[2], y_pred=probas)),\n",
        "    '(w logits): {:.4f}'.format(sp_cce_logits(y_true=[2], y_pred=logits))\n",
        ")"
      ],
      "metadata": {
        "colab": {
          "base_uri": "https://localhost:8080/"
        },
        "id": "5OcZP4zkhJkD",
        "outputId": "35f4c0f5-008e-463d-e270-51dab2be81f8"
      },
      "execution_count": 15,
      "outputs": [
        {
          "output_type": "stream",
          "name": "stdout",
          "text": [
            "Sparse CCE (w Probas): 0.5996 (w logits): 0.5996\n"
          ]
        }
      ]
    },
    {
      "cell_type": "code",
      "source": [
        "import tensorflow_datasets as tfds\n",
        "mnist_bldr = tfds.builder('mnist')\n",
        "mnist_bldr.download_and_prepare()\n",
        "datasets = mnist_bldr.as_dataset(shuffle_files=False)\n",
        "mnist_train_orig = datasets['train']\n",
        "mnist_test_orig = datasets['test']"
      ],
      "metadata": {
        "id": "gXbzgcxbhqie"
      },
      "execution_count": 19,
      "outputs": []
    },
    {
      "cell_type": "code",
      "source": [
        "BUFFER_SIZE = 10000\n",
        "BATCH_SIZE = 64\n",
        "NUM_EPOCHS = 20\n",
        "mnist_train = mnist_train_orig.map(\n",
        "    lambda item: (tf.cast(item['image'], tf.float32)/ 255.0, tf.cast(item['label'], tf.int32))\n",
        ")\n",
        "mnist_test = mnist_test_orig.map(\n",
        "    lambda item: (tf.cast(item['image'], tf.float32)/ 255.0, tf.cast(item['label'], tf.int32))\n",
        ")"
      ],
      "metadata": {
        "id": "Fh-4h5KrjNx5"
      },
      "execution_count": 22,
      "outputs": []
    },
    {
      "cell_type": "code",
      "source": [
        "tf.random.set_seed(1)\n",
        "mnist_train = mnist_train.shuffle(buffer_size=BUFFER_SIZE, reshuffle_each_iteration=False)\n",
        "mnist_valid = mnist_train.take(10000).batch(BATCH_SIZE)\n",
        "mnist_train = mnist_train.skip(10000).batch(BATCH_SIZE)"
      ],
      "metadata": {
        "id": "TM3_Qil-j-yI"
      },
      "execution_count": 23,
      "outputs": []
    },
    {
      "cell_type": "code",
      "source": [],
      "metadata": {
        "id": "qVCjzruZkwbK"
      },
      "execution_count": null,
      "outputs": []
    }
  ]
}